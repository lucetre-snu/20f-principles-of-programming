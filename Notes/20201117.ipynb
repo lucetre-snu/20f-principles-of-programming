{
 "cells": [
  {
   "cell_type": "code",
   "execution_count": 13,
   "metadata": {},
   "outputs": [
    {
     "data": {
      "text/plain": [
       "defined \u001b[32mtrait\u001b[39m \u001b[36mOrd\u001b[39m\n",
       "defined \u001b[32mfunction\u001b[39m \u001b[36mmax3\u001b[39m"
      ]
     },
     "execution_count": 13,
     "metadata": {},
     "output_type": "execute_result"
    }
   ],
   "source": [
    "trait Ord {\n",
    "    // this cmp that < 0 iff this < that\n",
    "    // this cmp that > 0 iff this > that\n",
    "    // this cmp that == 0 iff this == that\n",
    "    def cmp(that: Ord): Int\n",
    "    def ===(that: Ord): Boolean = (this.cmp(that)) == 0\n",
    "    def < (that: Ord): Boolean = (this cmp that) < 0\n",
    "    def > (that: Ord): Boolean = (this cmp that) > 0\n",
    "    def <= (that: Ord): Boolean = (this cmp that) <= 0\n",
    "    def >= (that: Ord): Boolean = (this cmp that) >= 0\n",
    "}\n",
    "def max3(a: Ord, b: Ord, c: Ord) : Ord =\n",
    "    if (a <= b) { if (b <= c) c else b }\n",
    "    else        { if (a <= c) c else a }"
   ]
  },
  {
   "cell_type": "code",
   "execution_count": 13,
   "metadata": {},
   "outputs": [
    {
     "name": "stderr",
     "output_type": "stream",
     "text": [
      "cmd13.sc:1: type mismatch;\n",
      " found   : Int(10)\n",
      " required: cmd13.this.cmd12.Ord\n",
      "val res13 = max3(10, 9, 20)\n",
      "                 ^cmd13.sc:1: type mismatch;\n",
      " found   : Int(9)\n",
      " required: cmd13.this.cmd12.Ord\n",
      "val res13 = max3(10, 9, 20)\n",
      "                     ^cmd13.sc:1: type mismatch;\n",
      " found   : Int(20)\n",
      " required: cmd13.this.cmd12.Ord\n",
      "val res13 = max3(10, 9, 20)\n",
      "                        ^Compilation Failed"
     ]
    },
    {
     "ename": "",
     "evalue": "",
     "output_type": "error",
     "traceback": [
      "Compilation Failed"
     ]
    }
   ],
   "source": [
    "// how to use max3?\n",
    "max3(10, 9, 20)"
   ]
  },
  {
   "cell_type": "code",
   "execution_count": 14,
   "metadata": {},
   "outputs": [
    {
     "data": {
      "text/plain": [
       "defined \u001b[32mclass\u001b[39m \u001b[36mOInt\u001b[39m\n",
       "defined \u001b[32mclass\u001b[39m \u001b[36mOString\u001b[39m\n",
       "\u001b[36mres13_2\u001b[39m: \u001b[32mOrd\u001b[39m = \u001b[33mOInt\u001b[39m(\u001b[32m10\u001b[39m)\n",
       "\u001b[36mres13_3\u001b[39m: \u001b[32mOrd\u001b[39m = \u001b[33mOString\u001b[39m(\u001b[32m\"abc\"\u001b[39m)"
      ]
     },
     "execution_count": 14,
     "metadata": {},
     "output_type": "execute_result"
    }
   ],
   "source": [
    "case class OInt(val value: Int) extends Ord {\n",
    "    def cmp(that: Ord): Int = {\n",
    "        that match {\n",
    "            case OInt(v) => value - v\n",
    "        }\n",
    "    }\n",
    "}\n",
    "case class OString(val value: String) extends Ord {\n",
    "    def cmp(that: Ord): Int = {\n",
    "        that match {\n",
    "            case OString(v) => value.compare(v)\n",
    "        }\n",
    "    }\n",
    "}\n",
    "\n",
    "max3(OInt(3), OInt(2), OInt(10))\n",
    "max3(OString(\"abc\"), OString(\"aaa\"), OString(\"a\"))"
   ]
  },
  {
   "cell_type": "markdown",
   "metadata": {},
   "source": [
    "### Make `Ord` to `Ord[A]`"
   ]
  },
  {
   "cell_type": "code",
   "execution_count": 17,
   "metadata": {},
   "outputs": [
    {
     "data": {
      "text/plain": [
       "defined \u001b[32mtrait\u001b[39m \u001b[36mOrd\u001b[39m\n",
       "defined \u001b[32mfunction\u001b[39m \u001b[36mmax3\u001b[39m"
      ]
     },
     "execution_count": 17,
     "metadata": {},
     "output_type": "execute_result"
    }
   ],
   "source": [
    "trait Ord[A] {\n",
    "    def cmp(that: Ord[A]): Int\n",
    "    def ===(that: Ord[A]): Boolean = (this.cmp(that)) == 0\n",
    "    def < (that: Ord[A]): Boolean = (this cmp that) < 0\n",
    "    def > (that: Ord[A]): Boolean = (this cmp that) > 0\n",
    "    def <= (that: Ord[A]): Boolean = (this cmp that) <= 0\n",
    "    def >= (that: Ord[A]): Boolean = (this cmp that) >= 0\n",
    "    def value: A\n",
    "}\n",
    "\n",
    "def max3[A](a: Ord[A], b: Ord[A], c: Ord[A]): Ord[A] =\n",
    "    if (a <= b) { if (b <= c) c else b }\n",
    "    else        { if (a <= c) c else a }"
   ]
  },
  {
   "cell_type": "code",
   "execution_count": 18,
   "metadata": {},
   "outputs": [
    {
     "data": {
      "text/plain": [
       "defined \u001b[32mclass\u001b[39m \u001b[36mOInt\u001b[39m\n",
       "defined \u001b[32mclass\u001b[39m \u001b[36mOString\u001b[39m\n",
       "\u001b[36mres17_2\u001b[39m: \u001b[32mInt\u001b[39m = \u001b[32m10\u001b[39m\n",
       "\u001b[36mres17_3\u001b[39m: \u001b[32mString\u001b[39m = \u001b[32m\"abc\"\u001b[39m"
      ]
     },
     "execution_count": 18,
     "metadata": {},
     "output_type": "execute_result"
    }
   ],
   "source": [
    "case class OInt(val value: Int) extends Ord[Int] {\n",
    "    def cmp(that: Ord[Int]): Int = value - that.value\n",
    "}\n",
    "case class OString(val value: String) extends Ord[String] {\n",
    "    def cmp(that: Ord[String]): Int = value.compare(that.value)\n",
    "}\n",
    "max3(OInt(3), OInt(2), OInt(10)).value\n",
    "max3(OString(\"abc\"), OString(\"aaa\"), OString(\"a\")).value"
   ]
  },
  {
   "cell_type": "code",
   "execution_count": 19,
   "metadata": {},
   "outputs": [
    {
     "data": {
      "text/plain": [
       "defined \u001b[32mclass\u001b[39m \u001b[36mOInt2\u001b[39m\n",
       "\u001b[36mres18_1\u001b[39m: \u001b[32mInt\u001b[39m = \u001b[32m2\u001b[39m"
      ]
     },
     "execution_count": 19,
     "metadata": {},
     "output_type": "execute_result"
    }
   ],
   "source": [
    "case class OInt2(val value: Int) extends Ord[Int] {\n",
    "    def cmp(that: Ord[Int]): Int = that.value - value\n",
    "}\n",
    "max3(OInt(1), OInt2(2), OInt(10)).value\n",
    "// have to implement comparison with type A"
   ]
  },
  {
   "cell_type": "markdown",
   "metadata": {},
   "source": [
    "### Not to use `def value`"
   ]
  },
  {
   "cell_type": "code",
   "execution_count": 20,
   "metadata": {},
   "outputs": [
    {
     "data": {
      "text/plain": [
       "defined \u001b[32mtrait\u001b[39m \u001b[36mOrd\u001b[39m\n",
       "defined \u001b[32mfunction\u001b[39m \u001b[36mmax3\u001b[39m"
      ]
     },
     "execution_count": 20,
     "metadata": {},
     "output_type": "execute_result"
    }
   ],
   "source": [
    "trait Ord[A] {\n",
    "    def cmp(that: A): Int\n",
    "    def ===(that: A): Boolean = (this.cmp(that)) == 0\n",
    "    def < (that: A): Boolean = (this cmp that) < 0\n",
    "    def > (that: A): Boolean = (this cmp that) > 0\n",
    "    def <= (that: A): Boolean = (this cmp that) <= 0\n",
    "    def >= (that: A): Boolean = (this cmp that) >= 0\n",
    "}\n",
    "\n",
    "def max3[A <: Ord[A]](a: A, b: A, c: A): A =\n",
    "    if (a <= b) { if (b <= c) c else b }\n",
    "    else        { if (a <= c) c else a }"
   ]
  },
  {
   "cell_type": "code",
   "execution_count": 21,
   "metadata": {},
   "outputs": [
    {
     "data": {
      "text/plain": [
       "defined \u001b[32mclass\u001b[39m \u001b[36mOInt\u001b[39m\n",
       "defined \u001b[32mclass\u001b[39m \u001b[36mOString\u001b[39m\n",
       "\u001b[36mres20_2\u001b[39m: \u001b[32mOInt\u001b[39m = \u001b[33mOInt\u001b[39m(\u001b[32m10\u001b[39m)\n",
       "\u001b[36mres20_3\u001b[39m: \u001b[32mOString\u001b[39m = \u001b[33mOString\u001b[39m(\u001b[32m\"abc\"\u001b[39m)"
      ]
     },
     "execution_count": 21,
     "metadata": {},
     "output_type": "execute_result"
    }
   ],
   "source": [
    "// OInt is a subtype of Ord[OInt]\n",
    "case class OInt(val value: Int) extends Ord[OInt] {\n",
    "    def cmp(that: OInt): Int = value - that.value\n",
    "}\n",
    "case class OString(val value: String) extends Ord[OString] {\n",
    "    def cmp(that: OString): Int = value.compare(that.value)\n",
    "}\n",
    "max3(OInt(3), OInt(2), OInt(10))\n",
    "max3(OString(\"abc\"), OString(\"aaa\"), OString(\"a\"))"
   ]
  },
  {
   "cell_type": "code",
   "execution_count": 23,
   "metadata": {},
   "outputs": [
    {
     "data": {
      "text/plain": [
       "defined \u001b[32mclass\u001b[39m \u001b[36mOInt2\u001b[39m\n",
       "defined \u001b[32mclass\u001b[39m \u001b[36mOInt3\u001b[39m"
      ]
     },
     "execution_count": 23,
     "metadata": {},
     "output_type": "execute_result"
    }
   ],
   "source": [
    "case class OInt2(val value: Int) extends Ord[OInt] {\n",
    "    def cmp(that: OInt): Int = that.value - value\n",
    "}"
   ]
  },
  {
   "cell_type": "code",
   "execution_count": 21,
   "metadata": {},
   "outputs": [
    {
     "name": "stderr",
     "output_type": "stream",
     "text": [
      "cmd21.sc:4: inferred type arguments [Product with cmd21.this.cmd19.Ord[cmd21.this.cmd20.OInt] with java.io.Serializable] do not conform to method max3's type parameter bounds [A <: cmd21.this.cmd19.Ord[A]]\n",
      "val res21_1 = max3(OInt(1), OInt2(2), OInt(10))\n",
      "              ^cmd21.sc:4: type mismatch;\n",
      " found   : cmd21.this.cmd20.OInt\n",
      " required: A\n",
      "val res21_1 = max3(OInt(1), OInt2(2), OInt(10))\n",
      "                       ^cmd21.sc:4: type mismatch;\n",
      " found   : Helper.this.OInt2\n",
      " required: A\n",
      "val res21_1 = max3(OInt(1), OInt2(2), OInt(10))\n",
      "                                 ^cmd21.sc:4: type mismatch;\n",
      " found   : cmd21.this.cmd20.OInt\n",
      " required: A\n",
      "val res21_1 = max3(OInt(1), OInt2(2), OInt(10))\n",
      "                                          ^Compilation Failed"
     ]
    },
    {
     "ename": "",
     "evalue": "",
     "output_type": "error",
     "traceback": [
      "Compilation Failed"
     ]
    }
   ],
   "source": [
    "max3(OInt(1), OInt2(2), OInt(10))"
   ]
  },
  {
   "cell_type": "code",
   "execution_count": 25,
   "metadata": {},
   "outputs": [
    {
     "data": {
      "text/plain": [
       "defined \u001b[32mclass\u001b[39m \u001b[36mOInt3\u001b[39m\n",
       "\u001b[36mres24_1\u001b[39m: \u001b[32mOInt\u001b[39m = \u001b[33mOInt\u001b[39m(\u001b[32m2\u001b[39m)"
      ]
     },
     "execution_count": 25,
     "metadata": {},
     "output_type": "execute_result"
    }
   ],
   "source": [
    "class OInt3(override val value: Int) extends OInt(value) {\n",
    "    override def cmp(that: OInt): Int = that.value - value\n",
    "}\n",
    "max3(OInt(1), new OInt3(2), OInt(10))"
   ]
  },
  {
   "cell_type": "code",
   "execution_count": 22,
   "metadata": {},
   "outputs": [
    {
     "data": {
      "text/plain": [
       "defined \u001b[32mclass\u001b[39m \u001b[36mOInt2\u001b[39m\n",
       "\u001b[36mres21_1\u001b[39m: \u001b[32mOInt\u001b[39m = \u001b[33mOInt\u001b[39m(\u001b[32m2\u001b[39m)"
      ]
     },
     "execution_count": 22,
     "metadata": {},
     "output_type": "execute_result"
    }
   ],
   "source": [
    "class OInt2(val value2: Int) extends OInt(value2) {\n",
    "    override def cmp(that: OInt): Int = that.value - value2\n",
    "}\n",
    "max3(OInt(1), new OInt2(2), OInt(10))"
   ]
  },
  {
   "cell_type": "markdown",
   "metadata": {},
   "source": [
    "### Ordered Bag"
   ]
  },
  {
   "cell_type": "code",
   "execution_count": 26,
   "metadata": {},
   "outputs": [
    {
     "data": {
      "text/plain": [
       "defined \u001b[32mclass\u001b[39m \u001b[36mBag\u001b[39m"
      ]
     },
     "execution_count": 26,
     "metadata": {},
     "output_type": "execute_result"
    }
   ],
   "source": [
    "class Bag[U <: Ord[U]] protected (val toList: List[U]) {\n",
    "    def this() = this(Nil)\n",
    "    def add(x: U) : Bag[U] = {\n",
    "        def go(elmts: List[U]): List[U] =\n",
    "            elmts match {\n",
    "            case Nil => x :: Nil\n",
    "            case e :: _ if (x < e) => x :: elmts\n",
    "            case e :: _ if (x === e) => elmts\n",
    "            case e :: rest => e :: go(rest)\n",
    "        }\n",
    "        new Bag(go(toList))\n",
    "    }\n",
    "}"
   ]
  },
  {
   "cell_type": "code",
   "execution_count": 30,
   "metadata": {},
   "outputs": [
    {
     "data": {
      "text/plain": [
       "\u001b[36memp\u001b[39m: \u001b[32mBag\u001b[39m[\u001b[32mOInt\u001b[39m] = ammonite.$sess.cmd25$Helper$Bag@11ef640f\n",
       "\u001b[36mb\u001b[39m: \u001b[32mBag\u001b[39m[\u001b[32mOInt\u001b[39m] = ammonite.$sess.cmd25$Helper$Bag@3d08ce8b\n",
       "\u001b[36mres29_2\u001b[39m: \u001b[32mList\u001b[39m[\u001b[32mInt\u001b[39m] = \u001b[33mList\u001b[39m(\u001b[32m2\u001b[39m, \u001b[32m3\u001b[39m, \u001b[32m10\u001b[39m)\n",
       "\u001b[36mres29_3\u001b[39m: \u001b[32mList\u001b[39m[\u001b[32mOInt\u001b[39m] = \u001b[33mList\u001b[39m(\u001b[33mOInt\u001b[39m(\u001b[32m2\u001b[39m), \u001b[33mOInt\u001b[39m(\u001b[32m3\u001b[39m), \u001b[33mOInt\u001b[39m(\u001b[32m10\u001b[39m))"
      ]
     },
     "execution_count": 30,
     "metadata": {},
     "output_type": "execute_result"
    }
   ],
   "source": [
    "val emp = new Bag[OInt]()\n",
    "val b = emp.add(OInt(3)).add(OInt(2)).add(OInt(10)).add(OInt(2))\n",
    "b.toList.map((x) => x.value)\n",
    "b.toList"
   ]
  },
  {
   "cell_type": "code",
   "execution_count": 32,
   "metadata": {},
   "outputs": [
    {
     "data": {
      "text/plain": [
       "\u001b[36memp\u001b[39m: \u001b[32mBag\u001b[39m[\u001b[32mOString\u001b[39m] = ammonite.$sess.cmd25$Helper$Bag@29990249\n",
       "\u001b[36mb\u001b[39m: \u001b[32mBag\u001b[39m[\u001b[32mOString\u001b[39m] = ammonite.$sess.cmd25$Helper$Bag@35f9516e\n",
       "\u001b[36mres31_2\u001b[39m: \u001b[32mList\u001b[39m[\u001b[32mOString\u001b[39m] = \u001b[33mList\u001b[39m(\u001b[33mOString\u001b[39m(\u001b[32m\"ABc\"\u001b[39m), \u001b[33mOString\u001b[39m(\u001b[32m\"AbE\"\u001b[39m), \u001b[33mOString\u001b[39m(\u001b[32m\"Abc\"\u001b[39m))"
      ]
     },
     "execution_count": 32,
     "metadata": {},
     "output_type": "execute_result"
    }
   ],
   "source": [
    "val emp = new Bag[OString]()\n",
    "val b = emp.add(OString(\"ABc\")).add(OString(\"Abc\")).add(OString(\"AbE\"))\n",
    "b.toList"
   ]
  },
  {
   "cell_type": "markdown",
   "metadata": {},
   "source": [
    "### OOP cannot make\n",
    "* only supports elimination without introduction\n",
    "* Interface was later developed than OOP"
   ]
  },
  {
   "cell_type": "code",
   "execution_count": 33,
   "metadata": {},
   "outputs": [
    {
     "data": {
      "text/plain": [
       "defined \u001b[32mtrait\u001b[39m \u001b[36mListIF\u001b[39m"
      ]
     },
     "execution_count": 33,
     "metadata": {},
     "output_type": "execute_result"
    }
   ],
   "source": [
    "trait ListIF[L, A] {\n",
    "    def empty: L\n",
    "    def head(l: L): Option[A]\n",
    "    def tail(l: L)\n",
    "    def cons(a: A, l: L): L\n",
    "    def append(l1: L, l2: L): L\n",
    "}"
   ]
  },
  {
   "cell_type": "code",
   "execution_count": 35,
   "metadata": {},
   "outputs": [
    {
     "data": {
      "text/plain": [
       "defined \u001b[32mtrait\u001b[39m \u001b[36mOrd\u001b[39m"
      ]
     },
     "execution_count": 35,
     "metadata": {},
     "output_type": "execute_result"
    }
   ],
   "source": [
    "trait Ord[A] {\n",
    "    // smallest elemnt in Ord[A]\n",
    "    def smallestElmt: Ord[A]\n",
    "}\n",
    "\n",
    "// o.smallestElmt"
   ]
  }
 ],
 "metadata": {
  "kernelspec": {
   "display_name": "Scala",
   "language": "scala",
   "name": "scala"
  },
  "language_info": {
   "codemirror_mode": "text/x-scala",
   "file_extension": ".sc",
   "mimetype": "text/x-scala",
   "name": "scala",
   "nbconvert_exporter": "script",
   "version": "2.13.3"
  }
 },
 "nbformat": 4,
 "nbformat_minor": 4
}
