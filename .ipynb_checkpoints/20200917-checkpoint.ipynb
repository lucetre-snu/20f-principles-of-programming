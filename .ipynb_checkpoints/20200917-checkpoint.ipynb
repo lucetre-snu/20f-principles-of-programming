{
 "cells": [
  {
   "cell_type": "code",
   "execution_count": 2,
   "metadata": {},
   "outputs": [
    {
     "data": {
      "text/plain": [
       "defined \u001b[32mfunction\u001b[39m \u001b[36msumLinear\u001b[39m\n",
       "defined \u001b[32mfunction\u001b[39m \u001b[36msumSquare\u001b[39m\n",
       "defined \u001b[32mfunction\u001b[39m \u001b[36msumCubes\u001b[39m\n",
       "\u001b[36mres1_3\u001b[39m: \u001b[32mInt\u001b[39m = \u001b[32m3025\u001b[39m"
      ]
     },
     "execution_count": 2,
     "metadata": {},
     "output_type": "execute_result"
    }
   ],
   "source": [
    "def sumLinear(n: Int): Int =\n",
    "    if (n <= 0) 0 else n + sumLinear(n-1)\n",
    "def sumSquare(n: Int): Int =\n",
    "    if (n <= 0) 0 else n*n + sumSquare(n-1)\n",
    "def sumCubes(n: Int): Int =\n",
    "    if (n <= 0) 0 else n*n*n + sumCubes(n-1)\n",
    "\n",
    "sumCubes(10)"
   ]
  },
  {
   "cell_type": "markdown",
   "metadata": {},
   "source": [
    "* *How to optimize above functions?*\n",
    "  > **Reduce duplicate factors**"
   ]
  },
  {
   "cell_type": "code",
   "execution_count": 11,
   "metadata": {},
   "outputs": [
    {
     "data": {
      "text/plain": [
       "defined \u001b[32mfunction\u001b[39m \u001b[36msumExponential\u001b[39m"
      ]
     },
     "execution_count": 11,
     "metadata": {},
     "output_type": "execute_result"
    }
   ],
   "source": [
    "def sumExponential(op: Int => Int, n: Int): Int =\n",
    "    if (n <= 0) 0 else op(n) + sumExponential(op, n-1)"
   ]
  },
  {
   "cell_type": "markdown",
   "metadata": {},
   "source": [
    "### Optimization 1"
   ]
  },
  {
   "cell_type": "code",
   "execution_count": 12,
   "metadata": {},
   "outputs": [
    {
     "data": {
      "text/plain": [
       "defined \u001b[32mfunction\u001b[39m \u001b[36mLinear\u001b[39m\n",
       "defined \u001b[32mfunction\u001b[39m \u001b[36mSquare\u001b[39m\n",
       "defined \u001b[32mfunction\u001b[39m \u001b[36mCube\u001b[39m\n",
       "\u001b[36mres11_3\u001b[39m: \u001b[32mInt\u001b[39m = \u001b[32m3025\u001b[39m"
      ]
     },
     "execution_count": 12,
     "metadata": {},
     "output_type": "execute_result"
    }
   ],
   "source": [
    "def Linear(n: Int) = n\n",
    "def Square(n: Int) = n*n\n",
    "def Cube(n: Int) = n*n*n\n",
    "\n",
    "sumExponential(Cube, 10)"
   ]
  },
  {
   "cell_type": "markdown",
   "metadata": {},
   "source": [
    "### Optimization 2"
   ]
  },
  {
   "cell_type": "code",
   "execution_count": 6,
   "metadata": {},
   "outputs": [
    {
     "data": {
      "text/plain": [
       "defined \u001b[32mfunction\u001b[39m \u001b[36mexponential\u001b[39m\n",
       "\u001b[36mres5_1\u001b[39m: \u001b[32mInt\u001b[39m = \u001b[32m1000\u001b[39m"
      ]
     },
     "execution_count": 6,
     "metadata": {},
     "output_type": "execute_result"
    }
   ],
   "source": [
    "def exponential(degree: Int, n: Int): Int = \n",
    "    if (degree == 0) 1\n",
    "    else n * exponential(degree-1, n)\n",
    "\n",
    "exponential(3, 10)"
   ]
  },
  {
   "cell_type": "code",
   "execution_count": 7,
   "metadata": {},
   "outputs": [
    {
     "data": {
      "text/plain": [
       "defined \u001b[32mfunction\u001b[39m \u001b[36mexponential\u001b[39m\n",
       "\u001b[36mres6_1\u001b[39m: \u001b[32mInt\u001b[39m = \u001b[32m1000\u001b[39m"
      ]
     },
     "execution_count": 7,
     "metadata": {},
     "output_type": "execute_result"
    }
   ],
   "source": [
    "def exponential(degree: Int)(n: Int): Int = \n",
    "    if (degree == 0) 1\n",
    "    else n * exponential(degree-1)(n)\n",
    "\n",
    "exponential(3)(10)"
   ]
  },
  {
   "cell_type": "code",
   "execution_count": 10,
   "metadata": {},
   "outputs": [
    {
     "data": {
      "text/plain": [
       "\u001b[36mres9\u001b[39m: \u001b[32mInt\u001b[39m = \u001b[32m3025\u001b[39m"
      ]
     },
     "execution_count": 10,
     "metadata": {},
     "output_type": "execute_result"
    }
   ],
   "source": [
    "sumExponential(exponential(3), 10)"
   ]
  },
  {
   "cell_type": "markdown",
   "metadata": {},
   "source": [
    "* no need to use `{ }` only when 1 line function definition "
   ]
  },
  {
   "cell_type": "markdown",
   "metadata": {},
   "source": [
    "### Optimization 3"
   ]
  },
  {
   "cell_type": "code",
   "execution_count": 13,
   "metadata": {},
   "outputs": [
    {
     "data": {
      "text/plain": [
       "defined \u001b[32mfunction\u001b[39m \u001b[36msum\u001b[39m\n",
       "defined \u001b[32mfunction\u001b[39m \u001b[36mlinear\u001b[39m\n",
       "defined \u001b[32mfunction\u001b[39m \u001b[36msquare\u001b[39m\n",
       "defined \u001b[32mfunction\u001b[39m \u001b[36mcube\u001b[39m\n",
       "defined \u001b[32mfunction\u001b[39m \u001b[36msumLinear\u001b[39m\n",
       "defined \u001b[32mfunction\u001b[39m \u001b[36msumSquare\u001b[39m\n",
       "defined \u001b[32mfunction\u001b[39m \u001b[36msumCubes\u001b[39m"
      ]
     },
     "execution_count": 13,
     "metadata": {},
     "output_type": "execute_result"
    }
   ],
   "source": [
    "def sum(f: Int=>Int, n: Int): Int =\n",
    "    if (n <= 0) 0 else f(n) + sum(f, n-1)\n",
    "\n",
    "def linear(n: Int) = n\n",
    "def square(n: Int) = n*n\n",
    "def cube(n: Int) = n*n*n\n",
    "\n",
    "def sumLinear(n: Int) = sum(linear, n)\n",
    "def sumSquare(n: Int) = sum(square, n)\n",
    "def sumCubes(n: Int) = sum(cube, n)"
   ]
  },
  {
   "cell_type": "code",
   "execution_count": 14,
   "metadata": {},
   "outputs": [
    {
     "data": {
      "text/plain": [
       "defined \u001b[32mfunction\u001b[39m \u001b[36msumLinear\u001b[39m\n",
       "defined \u001b[32mfunction\u001b[39m \u001b[36msumSquare\u001b[39m\n",
       "defined \u001b[32mfunction\u001b[39m \u001b[36msumCubes\u001b[39m"
      ]
     },
     "execution_count": 14,
     "metadata": {},
     "output_type": "execute_result"
    }
   ],
   "source": [
    "def sumLinear(n: Int) = sum((x)=>x, n)\n",
    "def sumSquare(n: Int) = sum((x)=>x*x, n)\n",
    "def sumCubes(n: Int) = sum((x)=>x*x*x, n)"
   ]
  },
  {
   "cell_type": "markdown",
   "metadata": {},
   "source": [
    "---\n",
    "### Exercise (Sum & Product)"
   ]
  },
  {
   "cell_type": "code",
   "execution_count": 18,
   "metadata": {},
   "outputs": [
    {
     "data": {
      "text/plain": [
       "defined \u001b[32mfunction\u001b[39m \u001b[36msum\u001b[39m\n",
       "defined \u001b[32mfunction\u001b[39m \u001b[36mproduct\u001b[39m\n",
       "\u001b[36mres17_2\u001b[39m: \u001b[32mInt\u001b[39m = \u001b[32m55\u001b[39m\n",
       "\u001b[36mres17_3\u001b[39m: \u001b[32mInt\u001b[39m = \u001b[32m6350400\u001b[39m"
      ]
     },
     "execution_count": 18,
     "metadata": {},
     "output_type": "execute_result"
    }
   ],
   "source": [
    "def sum(f: Int=>Int, a: Int, b: Int): Int =\n",
    "    if (a <= b) f(a) + sum(f, a+1, b) else 0\n",
    "\n",
    "def product(f: Int=>Int, a: Int, b: Int): Int =\n",
    "    if (a <= b) f(a) * product(f, a+1, b) else 1\n",
    "\n",
    "sum((x)=>x, 0, 10)\n",
    "product((x)=>x*x, 3, 7)"
   ]
  },
  {
   "cell_type": "markdown",
   "metadata": {},
   "source": [
    "*Difference*\n",
    ": `+`,`*` and `sum`,`product` and `0`,`1`"
   ]
  },
  {
   "cell_type": "code",
   "execution_count": 21,
   "metadata": {},
   "outputs": [
    {
     "data": {
      "text/plain": [
       "defined \u001b[32mfunction\u001b[39m \u001b[36msum\u001b[39m\n",
       "defined \u001b[32mfunction\u001b[39m \u001b[36mproduct\u001b[39m\n",
       "defined \u001b[32mfunction\u001b[39m \u001b[36mmapReduce\u001b[39m\n",
       "\u001b[36mres20_3\u001b[39m: \u001b[32mInt\u001b[39m = \u001b[32m55\u001b[39m\n",
       "\u001b[36mres20_4\u001b[39m: \u001b[32mInt\u001b[39m = \u001b[32m6350400\u001b[39m"
      ]
     },
     "execution_count": 21,
     "metadata": {},
     "output_type": "execute_result"
    }
   ],
   "source": [
    "def sum(f: Int=>Int, a: Int, b: Int): Int =\n",
    "    if (a <= b) f(a) + sum(f, a+1, b) else 0\n",
    "def product(f: Int=>Int, a: Int, b: Int): Int =\n",
    "    if (a <= b) f(a) * product(f, a+1, b) else 1\n",
    "\n",
    "def mapReduce(op: (Int,Int)=>(Int), init: Int, f: Int=>Int, a: Int, b: Int): Int =\n",
    "    if (a <= b) op(f(a), mapReduce(op, init, f, a+1, b)) else init\n",
    "\n",
    "mapReduce((x,y)=>x+y, 0, (x)=>x, 1, 10)\n",
    "mapReduce((x,y)=>x*y, 1, (x)=>x*x, 3, 7)"
   ]
  },
  {
   "cell_type": "markdown",
   "metadata": {},
   "source": [
    "#### ***Why map reduce?***\n",
    "* ***Jeff Dean***: *Google*\n",
    "  * Ph.D in Programming Language (compiler)\n",
    "  * *How to handle data efficiently?*\n",
    "* *Hadoop* has later launched."
   ]
  },
  {
   "cell_type": "markdown",
   "metadata": {},
   "source": [
    "### Closures for functional values\n",
    "* `_` *underscore*: Making function name to function value\n",
    "\n",
    "> **Wrong expression**: `def sumLinear(n: Int) = sum(linear, n)`\n",
    "\n",
    "> **Compiler correction**: `def sumLinear(n: Int) = sum(linear _, n)`"
   ]
  },
  {
   "cell_type": "markdown",
   "metadata": {},
   "source": [
    "***Q. 그럼 def는 호출만 되고, val은 호출도 되고 값으로 처리도 되는데 애초에 함수를 정의할 때 그럼 val이 아닌 def를 쓸 이유가 있나요?***\n",
    "* `def` is more efficient than `val`."
   ]
  },
  {
   "cell_type": "code",
   "execution_count": 26,
   "metadata": {},
   "outputs": [
    {
     "data": {
      "text/plain": [
       "\u001b[36mt\u001b[39m: \u001b[32mInt\u001b[39m = \u001b[32m0\u001b[39m\n",
       "\u001b[36mf\u001b[39m: \u001b[32mInt\u001b[39m => \u001b[32mInt\u001b[39m = ammonite.$sess.cmd25$Helper$$Lambda$2208/1254102503@770e7a41\n",
       "\u001b[36mres25_2\u001b[39m: \u001b[32mInt\u001b[39m = \u001b[32m30\u001b[39m"
      ]
     },
     "execution_count": 26,
     "metadata": {},
     "output_type": "execute_result"
    }
   ],
   "source": [
    "val t = 0\n",
    "val f: Int=>Int = {\n",
    "    val t = 10\n",
    "    def g(x: Int) : Int = x + t\n",
    "    g _\n",
    "}\n",
    "f(20)"
   ]
  },
  {
   "cell_type": "code",
   "execution_count": 24,
   "metadata": {},
   "outputs": [
    {
     "data": {
      "text/plain": [
       "\u001b[36mt\u001b[39m: \u001b[32mInt\u001b[39m = \u001b[32m0\u001b[39m\n",
       "defined \u001b[32mfunction\u001b[39m \u001b[36mf\u001b[39m\n",
       "\u001b[36mres23_2\u001b[39m: \u001b[32mInt\u001b[39m = \u001b[32m30\u001b[39m"
      ]
     },
     "execution_count": 24,
     "metadata": {},
     "output_type": "execute_result"
    }
   ],
   "source": [
    "val t = 0\n",
    "def f: Int=>Int = {\n",
    "    val t = 10\n",
    "    def g(x: Int) : Int = x + t\n",
    "    g _\n",
    "}\n",
    "// whenever f is called, calculate statements in f\n",
    "f(20)\n",
    "\n",
    "// callable giving f\n",
    "// foo(f)"
   ]
  }
 ],
 "metadata": {
  "kernelspec": {
   "display_name": "Scala",
   "language": "scala",
   "name": "scala"
  },
  "language_info": {
   "codemirror_mode": "text/x-scala",
   "file_extension": ".sc",
   "mimetype": "text/x-scala",
   "name": "scala",
   "nbconvert_exporter": "script",
   "version": "2.13.3"
  }
 },
 "nbformat": 4,
 "nbformat_minor": 4
}
