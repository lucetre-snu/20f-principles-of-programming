{
 "cells": [
  {
   "cell_type": "code",
   "execution_count": 40,
   "metadata": {},
   "outputs": [
    {
     "data": {
      "text/plain": [
       "defined \u001b[32mtrait\u001b[39m \u001b[36mOrd\u001b[39m\n",
       "defined \u001b[32mfunction\u001b[39m \u001b[36mmax3\u001b[39m"
      ]
     },
     "execution_count": 40,
     "metadata": {},
     "output_type": "execute_result"
    }
   ],
   "source": [
    "trait Ord {\n",
    "    // this cmp that < 0 iff this < that\n",
    "    // this cmp that > 0 iff this > that\n",
    "    // this cmp that == 0 iff this == that\n",
    "    def cmp(that: Ord): Int\n",
    "    def ===(that: Ord): Boolean = (this.cmp(that)) == 0\n",
    "    def < (that: Ord): Boolean = (this cmp that) < 0\n",
    "    def > (that: Ord): Boolean = (this cmp that) > 0\n",
    "    def <= (that: Ord): Boolean = (this cmp that) <= 0\n",
    "    def >= (that: Ord): Boolean = (this cmp that) >= 0\n",
    "}\n",
    "def max3(a: Ord, b: Ord, c: Ord) : Ord =\n",
    "    if (a <= b) { if (b <= c) c else b }\n",
    "    else        { if (a <= c) c else a }"
   ]
  },
  {
   "cell_type": "code",
   "execution_count": 41,
   "metadata": {},
   "outputs": [
    {
     "data": {
      "text/plain": [
       "defined \u001b[32mclass\u001b[39m \u001b[36mOInt\u001b[39m\n",
       "defined \u001b[32mclass\u001b[39m \u001b[36mOString\u001b[39m\n",
       "\u001b[36mres40_2\u001b[39m: \u001b[32mOrd\u001b[39m = \u001b[33mOInt\u001b[39m(\u001b[32m10\u001b[39m)\n",
       "\u001b[36mres40_3\u001b[39m: \u001b[32mOrd\u001b[39m = \u001b[33mOString\u001b[39m(\u001b[32m\"abc\"\u001b[39m)"
      ]
     },
     "execution_count": 41,
     "metadata": {},
     "output_type": "execute_result"
    }
   ],
   "source": [
    "case class OInt(val value: Int) extends Ord {\n",
    "    def cmp(that: Ord): Int = {\n",
    "        that match {\n",
    "            case OInt(v) => value - v\n",
    "        }\n",
    "    }\n",
    "}\n",
    "case class OString(val value: String) extends Ord {\n",
    "    def cmp(that: Ord): Int = {\n",
    "        that match {\n",
    "            case OString(v) => value.compare(v)\n",
    "        }\n",
    "    }\n",
    "}\n",
    "\n",
    "max3(OInt(3), OInt(2), OInt(10))\n",
    "max3(OString(\"abc\"), OString(\"aaa\"), OString(\"a\"))"
   ]
  },
  {
   "cell_type": "markdown",
   "metadata": {},
   "source": [
    "### Make `Ord` to `Ord[A]`"
   ]
  },
  {
   "cell_type": "code",
   "execution_count": 45,
   "metadata": {},
   "outputs": [
    {
     "data": {
      "text/plain": [
       "defined \u001b[32mtrait\u001b[39m \u001b[36mOrd\u001b[39m\n",
       "defined \u001b[32mfunction\u001b[39m \u001b[36mmax3\u001b[39m"
      ]
     },
     "execution_count": 45,
     "metadata": {},
     "output_type": "execute_result"
    }
   ],
   "source": [
    "trait Ord[A] {\n",
    "    def cmp(that: Ord[A]): Int\n",
    "    def ===(that: Ord[A]): Boolean = (this.cmp(that)) == 0\n",
    "    def < (that: Ord[A]): Boolean = (this cmp that) < 0\n",
    "    def > (that: Ord[A]): Boolean = (this cmp that) > 0\n",
    "    def <= (that: Ord[A]): Boolean = (this cmp that) <= 0\n",
    "    def >= (that: Ord[A]): Boolean = (this cmp that) >= 0\n",
    "    def value: A\n",
    "}\n",
    "\n",
    "def max3[A](a: Ord[A], b: Ord[A], c: Ord[A]): Ord[A] =\n",
    "    if (a <= b) { if (b <= c) c else b }\n",
    "    else        { if (a <= c) c else a }"
   ]
  },
  {
   "cell_type": "code",
   "execution_count": 46,
   "metadata": {},
   "outputs": [
    {
     "data": {
      "text/plain": [
       "defined \u001b[32mclass\u001b[39m \u001b[36mOInt\u001b[39m\n",
       "defined \u001b[32mclass\u001b[39m \u001b[36mOString\u001b[39m\n",
       "\u001b[36mres45_2\u001b[39m: \u001b[32mInt\u001b[39m = \u001b[32m10\u001b[39m\n",
       "\u001b[36mres45_3\u001b[39m: \u001b[32mString\u001b[39m = \u001b[32m\"abc\"\u001b[39m"
      ]
     },
     "execution_count": 46,
     "metadata": {},
     "output_type": "execute_result"
    }
   ],
   "source": [
    "case class OInt(val value: Int) extends Ord[Int] {\n",
    "    def cmp(that: Ord[Int]): Int = value - that.value\n",
    "}\n",
    "case class OString(val value: String) extends Ord[String] {\n",
    "    def cmp(that: Ord[String]): Int = value.compare(that.value)\n",
    "}\n",
    "max3(OInt(3), OInt(2), OInt(10)).value\n",
    "max3(OString(\"abc\"), OString(\"aaa\"), OString(\"a\")).value"
   ]
  },
  {
   "cell_type": "code",
   "execution_count": 47,
   "metadata": {},
   "outputs": [
    {
     "data": {
      "text/plain": [
       "defined \u001b[32mclass\u001b[39m \u001b[36mOInt2\u001b[39m\n",
       "\u001b[36mres46_1\u001b[39m: \u001b[32mInt\u001b[39m = \u001b[32m2\u001b[39m"
      ]
     },
     "execution_count": 47,
     "metadata": {},
     "output_type": "execute_result"
    }
   ],
   "source": [
    "case class OInt2(val value: Int) extends Ord[Int] {\n",
    "    def cmp(that: Ord[Int]): Int = that.value - value\n",
    "}\n",
    "max3(OInt(1), OInt2(2), OInt(10)).value"
   ]
  },
  {
   "cell_type": "markdown",
   "metadata": {},
   "source": [
    "### Not to use `def value`"
   ]
  },
  {
   "cell_type": "code",
   "execution_count": 51,
   "metadata": {},
   "outputs": [
    {
     "data": {
      "text/plain": [
       "defined \u001b[32mtrait\u001b[39m \u001b[36mOrd\u001b[39m\n",
       "defined \u001b[32mfunction\u001b[39m \u001b[36mmax3\u001b[39m"
      ]
     },
     "execution_count": 51,
     "metadata": {},
     "output_type": "execute_result"
    }
   ],
   "source": [
    "trait Ord[A] {\n",
    "    def cmp(that: A): Int\n",
    "    def ===(that: A): Boolean = (this.cmp(that)) == 0\n",
    "    def < (that: A): Boolean = (this cmp that) < 0\n",
    "    def > (that: A): Boolean = (this cmp that) > 0\n",
    "    def <= (that: A): Boolean = (this cmp that) <= 0\n",
    "    def >= (that: A): Boolean = (this cmp that) >= 0\n",
    "}\n",
    "\n",
    "def max3[A <: Ord[A]](a: A, b: A, c: A): A =\n",
    "    if (a <= b) { if (b <= c) c else b }\n",
    "    else        { if (a <= c) c else a }"
   ]
  },
  {
   "cell_type": "code",
   "execution_count": 56,
   "metadata": {},
   "outputs": [
    {
     "data": {
      "text/plain": [
       "defined \u001b[32mclass\u001b[39m \u001b[36mOInt\u001b[39m\n",
       "defined \u001b[32mclass\u001b[39m \u001b[36mOString\u001b[39m\n",
       "\u001b[36mres55_2\u001b[39m: \u001b[32mOInt\u001b[39m = \u001b[33mOInt\u001b[39m(\u001b[32m10\u001b[39m)\n",
       "\u001b[36mres55_3\u001b[39m: \u001b[32mOString\u001b[39m = \u001b[33mOString\u001b[39m(\u001b[32m\"abc\"\u001b[39m)"
      ]
     },
     "execution_count": 56,
     "metadata": {},
     "output_type": "execute_result"
    }
   ],
   "source": [
    "case class OInt(val value: Int) extends Ord[OInt] {\n",
    "    def cmp(that: OInt): Int = value - that.value\n",
    "}\n",
    "case class OString(val value: String) extends Ord[OString] {\n",
    "    def cmp(that: OString): Int = value.compare(that.value)\n",
    "}\n",
    "max3(OInt(3), OInt(2), OInt(10))\n",
    "max3(OString(\"abc\"), OString(\"aaa\"), OString(\"a\"))"
   ]
  },
  {
   "cell_type": "code",
   "execution_count": 58,
   "metadata": {},
   "outputs": [
    {
     "name": "stderr",
     "output_type": "stream",
     "text": [
      "cmd58.sc:4: inferred type arguments [Product with cmd58.this.cmd50.Ord[cmd58.this.cmd55.OInt] with java.io.Serializable] do not conform to method max3's type parameter bounds [A <: cmd58.this.cmd50.Ord[A]]\n",
      "val res58_1 = max3(OInt(1), OInt2(2), OInt(10))\n",
      "              ^cmd58.sc:4: type mismatch;\n",
      " found   : cmd58.this.cmd55.OInt\n",
      " required: A\n",
      "val res58_1 = max3(OInt(1), OInt2(2), OInt(10))\n",
      "                       ^cmd58.sc:4: type mismatch;\n",
      " found   : Helper.this.OInt2\n",
      " required: A\n",
      "val res58_1 = max3(OInt(1), OInt2(2), OInt(10))\n",
      "                                 ^cmd58.sc:4: type mismatch;\n",
      " found   : cmd58.this.cmd55.OInt\n",
      " required: A\n",
      "val res58_1 = max3(OInt(1), OInt2(2), OInt(10))\n",
      "                                          ^Compilation Failed"
     ]
    },
    {
     "ename": "",
     "evalue": "",
     "output_type": "error",
     "traceback": [
      "Compilation Failed"
     ]
    }
   ],
   "source": [
    "case class OInt2(val value: Int) extends Ord[OInt] {\n",
    "    def cmp(that: OInt): Int = that.value - value\n",
    "}\n",
    "max3(OInt(1), OInt2(2), OInt(10))"
   ]
  },
  {
   "cell_type": "code",
   "execution_count": 59,
   "metadata": {},
   "outputs": [
    {
     "data": {
      "text/plain": [
       "defined \u001b[32mclass\u001b[39m \u001b[36mOInt2\u001b[39m\n",
       "\u001b[36mres58_1\u001b[39m: \u001b[32mOInt\u001b[39m = \u001b[33mOInt\u001b[39m(\u001b[32m2\u001b[39m)"
      ]
     },
     "execution_count": 59,
     "metadata": {},
     "output_type": "execute_result"
    }
   ],
   "source": [
    "class OInt2(val value2: Int) extends OInt(value2) {\n",
    "    override def cmp(that: OInt): Int = that.value - value2\n",
    "}\n",
    "max3(OInt(1), new OInt2(2), OInt(10))"
   ]
  },
  {
   "cell_type": "code",
   "execution_count": null,
   "metadata": {},
   "outputs": [],
   "source": []
  }
 ],
 "metadata": {
  "kernelspec": {
   "display_name": "Scala",
   "language": "scala",
   "name": "scala"
  },
  "language_info": {
   "codemirror_mode": "text/x-scala",
   "file_extension": ".sc",
   "mimetype": "text/x-scala",
   "name": "scala",
   "nbconvert_exporter": "script",
   "version": "2.13.3"
  }
 },
 "nbformat": 4,
 "nbformat_minor": 4
}
