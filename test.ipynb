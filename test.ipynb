{
 "cells": [
  {
   "cell_type": "code",
   "execution_count": 18,
   "metadata": {},
   "outputs": [
    {
     "name": "stdout",
     "output_type": "stream",
     "text": [
      "2\n",
      "4\n",
      "8\n",
      "16\n",
      "5\n",
      "10\n",
      "20\n",
      "40\n",
      "80\n",
      "160\n",
      "53\n",
      "106\n",
      "35\n",
      "70\n",
      "23\n",
      "46\n",
      "15\n"
     ]
    },
    {
     "data": {
      "text/plain": [
       "\u001b[32mimport \u001b[39m\u001b[36mscala.annotation.tailrec\n",
       "\u001b[39m\n",
       "\u001b[32mimport \u001b[39m\u001b[36mscala.util.control.TailCalls._\n",
       "\n",
       "\u001b[39m\n",
       "defined \u001b[32mfunction\u001b[39m \u001b[36mcollatz\u001b[39m\n",
       "\u001b[36mres17_3\u001b[39m: \u001b[32mInt\u001b[39m = \u001b[32m46\u001b[39m"
      ]
     },
     "execution_count": 18,
     "metadata": {},
     "output_type": "execute_result"
    }
   ],
   "source": [
    "import scala.annotation.tailrec\n",
    "import scala.util.control.TailCalls._\n",
    "\n",
    "def collatz(n: Int) = {\n",
    "    @tailrec\n",
    "    def collatzCont(n: Int, cont: Int=>TailRec[Int]): Int = {\n",
    "//         println(n)\n",
    "        if (n == 1) cont(1).result\n",
    "        else if (n % 2 == 0) collatzCont(n/2, (r) => tailcall(cont({ println(n); n/2 })))\n",
    "        else collatzCont(n*3+1, (r) => tailcall(cont({ println(n); n*3+1 })))\n",
    "    }\n",
    "    collatzCont(n, (r) => done(r))\n",
    "}\n",
    "\n",
    "collatz(15)"
   ]
  },
  {
   "cell_type": "code",
   "execution_count": 20,
   "metadata": {},
   "outputs": [
    {
     "name": "stdout",
     "output_type": "stream",
     "text": [
      "385"
     ]
    },
    {
     "data": {
      "text/plain": [
       "\u001b[32mimport \u001b[39m\u001b[36mscala.annotation.tailrec\n",
       "\u001b[39m\n",
       "\u001b[32mimport \u001b[39m\u001b[36mscala.util.control.TailCalls._\n",
       "\n",
       "\u001b[39m\n",
       "defined \u001b[32mfunction\u001b[39m \u001b[36msum\u001b[39m"
      ]
     },
     "execution_count": 20,
     "metadata": {},
     "output_type": "execute_result"
    }
   ],
   "source": [
    "import scala.annotation.tailrec\n",
    "import scala.util.control.TailCalls._\n",
    "\n",
    "def sum(f: Int=>Int, n: Int) = {\n",
    "    @tailrec\n",
    "    def sumCont(n: Int, cont: Int=>TailRec[Int]): Int = {\n",
    "        if (n <= 0) cont(0).result\n",
    "        else sumCont(n-1, (r) => tailcall(cont(r + f(n))))\n",
    "    }\n",
    "    sumCont(n, (r) => done(r))\n",
    "}\n",
    "print(sum((x)=>x*x, 10))"
   ]
  },
  {
   "cell_type": "code",
   "execution_count": 4,
   "metadata": {},
   "outputs": [
    {
     "name": "stdout",
     "output_type": "stream",
     "text": [
      "3628800"
     ]
    },
    {
     "data": {
      "text/plain": [
       "\u001b[32mimport \u001b[39m\u001b[36mscala.annotation.tailrec\n",
       "\u001b[39m\n",
       "\u001b[32mimport \u001b[39m\u001b[36mscala.util.control.TailCalls._\n",
       "\n",
       "\u001b[39m\n",
       "defined \u001b[32mfunction\u001b[39m \u001b[36mmapReduce\u001b[39m"
      ]
     },
     "execution_count": 4,
     "metadata": {},
     "output_type": "execute_result"
    }
   ],
   "source": [
    "import scala.annotation.tailrec\n",
    "import scala.util.control.TailCalls._\n",
    "\n",
    "def mapReduce(reduce: (Int,Int)=>Int, map: Int=>Int, n: Int) = {\n",
    "    @tailrec\n",
    "    def mapReduceCont(n: Int, cont: Int=>TailRec[Int]): Int = {\n",
    "        if (n <= 1) cont(1).result\n",
    "        else mapReduceCont(n-1, (r) => tailcall(cont(reduce(r,map(n)))))\n",
    "    }\n",
    "    mapReduceCont(n, (r) => done(r))\n",
    "}\n",
    "print(mapReduce((x,y)=>x*y, (x)=>x, 10))"
   ]
  },
  {
   "cell_type": "code",
   "execution_count": 8,
   "metadata": {},
   "outputs": [
    {
     "data": {
      "text/plain": [
       "\u001b[32mimport \u001b[39m\u001b[36mscala.annotation.tailrec\n",
       "\u001b[39m\n",
       "\u001b[32mimport \u001b[39m\u001b[36mscala.util.control.TailCalls._\n",
       "\n",
       "\u001b[39m\n",
       "defined \u001b[32mfunction\u001b[39m \u001b[36msum\u001b[39m\n",
       "defined \u001b[32mfunction\u001b[39m \u001b[36msumLinear\u001b[39m\n",
       "defined \u001b[32mfunction\u001b[39m \u001b[36msumSquare\u001b[39m\n",
       "\u001b[36mres7_5\u001b[39m: \u001b[32mInt\u001b[39m = \u001b[32m55\u001b[39m\n",
       "\u001b[36mres7_6\u001b[39m: \u001b[32mInt\u001b[39m = \u001b[32m1626540144\u001b[39m"
      ]
     },
     "execution_count": 8,
     "metadata": {},
     "output_type": "execute_result"
    }
   ],
   "source": [
    "import scala.annotation.tailrec\n",
    "import scala.util.control.TailCalls._\n",
    "\n",
    "def sum(f: Int=>Int): Int=>Int = {\n",
    "    def sumF(n: Int): Int = {\n",
    "        @tailrec\n",
    "        def sumCont(n: Int, cont: Int=>TailRec[Int]): Int = {\n",
    "            if (n <= 0) cont(0).result\n",
    "            else sumCont(n-1, (r) => tailcall(cont(r + f(n))))\n",
    "        }\n",
    "        sumCont(n, (r) => done(r))\n",
    "    }\n",
    "    sumF _\n",
    "}\n",
    "\n",
    "def sumLinear = sum((x)=>x)\n",
    "def sumSquare = sum((x)=>x*x)\n",
    "sumLinear(10)\n",
    "sumSquare(100000)"
   ]
  },
  {
   "cell_type": "code",
   "execution_count": 9,
   "metadata": {},
   "outputs": [
    {
     "data": {
      "text/plain": [
       "\u001b[32mimport \u001b[39m\u001b[36mscala.annotation.tailrec\n",
       "\u001b[39m\n",
       "\u001b[32mimport \u001b[39m\u001b[36mscala.util.control.TailCalls._\n",
       "\n",
       "\u001b[39m\n",
       "defined \u001b[32mfunction\u001b[39m \u001b[36msum\u001b[39m\n",
       "defined \u001b[32mfunction\u001b[39m \u001b[36msumLinear\u001b[39m\n",
       "defined \u001b[32mfunction\u001b[39m \u001b[36msumSquare\u001b[39m\n",
       "\u001b[36mres8_5\u001b[39m: \u001b[32mInt\u001b[39m = \u001b[32m55\u001b[39m\n",
       "\u001b[36mres8_6\u001b[39m: \u001b[32mInt\u001b[39m = \u001b[32m1626540144\u001b[39m"
      ]
     },
     "execution_count": 9,
     "metadata": {},
     "output_type": "execute_result"
    }
   ],
   "source": [
    "import scala.annotation.tailrec\n",
    "import scala.util.control.TailCalls._\n",
    "\n",
    "def sum(f: Int=>Int)(n: Int): Int = {\n",
    "    @tailrec\n",
    "    def sumCont(n: Int, cont: Int=>TailRec[Int]): Int = {\n",
    "        if (n <= 0) cont(0).result\n",
    "        else sumCont(n-1, (r) => tailcall(cont(r + f(n))))\n",
    "    }\n",
    "    sumCont(n, (r) => done(r))\n",
    "}\n",
    "\n",
    "def sumLinear = sum((x)=>x) _\n",
    "def sumSquare = sum((x)=>x*x) _\n",
    "sumLinear(10)\n",
    "sumSquare(100000)"
   ]
  },
  {
   "cell_type": "code",
   "execution_count": 25,
   "metadata": {
    "scrolled": true
   },
   "outputs": [
    {
     "ename": "",
     "evalue": "",
     "output_type": "error",
     "traceback": [
      "\u001b[31mjava.lang.StackOverflowError\u001b[39m\n  ammonite.$sess.cmd24$Helper.mapReduce(\u001b[32mcmd24.sc\u001b[39m:\u001b[32m2\u001b[39m)\n  ammonite.$sess.cmd24$Helper.mapReduce(\u001b[32mcmd24.sc\u001b[39m:\u001b[32m2\u001b[39m)\n  ammonite.$sess.cmd24$Helper.mapReduce(\u001b[32mcmd24.sc\u001b[39m:\u001b[32m2\u001b[39m)\n  ammonite.$sess.cmd24$Helper.mapReduce(\u001b[32mcmd24.sc\u001b[39m:\u001b[32m2\u001b[39m)\n  ammonite.$sess.cmd24$Helper.mapReduce(\u001b[32mcmd24.sc\u001b[39m:\u001b[32m2\u001b[39m)\n  ammonite.$sess.cmd24$Helper.mapReduce(\u001b[32mcmd24.sc\u001b[39m:\u001b[32m2\u001b[39m)\n  ammonite.$sess.cmd24$Helper.mapReduce(\u001b[32mcmd24.sc\u001b[39m:\u001b[32m2\u001b[39m)\n  ammonite.$sess.cmd24$Helper.mapReduce(\u001b[32mcmd24.sc\u001b[39m:\u001b[32m2\u001b[39m)\n  ammonite.$sess.cmd24$Helper.mapReduce(\u001b[32mcmd24.sc\u001b[39m:\u001b[32m2\u001b[39m)\n  ammonite.$sess.cmd24$Helper.mapReduce(\u001b[32mcmd24.sc\u001b[39m:\u001b[32m2\u001b[39m)\n  ammonite.$sess.cmd24$Helper.mapReduce(\u001b[32mcmd24.sc\u001b[39m:\u001b[32m2\u001b[39m)\n  ammonite.$sess.cmd24$Helper.mapReduce(\u001b[32mcmd24.sc\u001b[39m:\u001b[32m2\u001b[39m)\n  ammonite.$sess.cmd24$Helper.mapReduce(\u001b[32mcmd24.sc\u001b[39m:\u001b[32m2\u001b[39m)\n  ammonite.$sess.cmd24$Helper.mapReduce(\u001b[32mcmd24.sc\u001b[39m:\u001b[32m2\u001b[39m)\n  ammonite.$sess.cmd24$Helper.mapReduce(\u001b[32mcmd24.sc\u001b[39m:\u001b[32m2\u001b[39m)\n  ammonite.$sess.cmd24$Helper.mapReduce(\u001b[32mcmd24.sc\u001b[39m:\u001b[32m2\u001b[39m)\n  ammonite.$sess.cmd24$Helper.mapReduce(\u001b[32mcmd24.sc\u001b[39m:\u001b[32m2\u001b[39m)\n  ammonite.$sess.cmd24$Helper.mapReduce(\u001b[32mcmd24.sc\u001b[39m:\u001b[32m2\u001b[39m)\n  ammonite.$sess.cmd24$Helper.mapReduce(\u001b[32mcmd24.sc\u001b[39m:\u001b[32m2\u001b[39m)\n  ammonite.$sess.cmd24$Helper.mapReduce(\u001b[32mcmd24.sc\u001b[39m:\u001b[32m2\u001b[39m)\n  ammonite.$sess.cmd24$Helper.mapReduce(\u001b[32mcmd24.sc\u001b[39m:\u001b[32m2\u001b[39m)\n  ammonite.$sess.cmd24$Helper.mapReduce(\u001b[32mcmd24.sc\u001b[39m:\u001b[32m2\u001b[39m)\n  ammonite.$sess.cmd24$Helper.mapReduce(\u001b[32mcmd24.sc\u001b[39m:\u001b[32m2\u001b[39m)\n  ammonite.$sess.cmd24$Helper.mapReduce(\u001b[32mcmd24.sc\u001b[39m:\u001b[32m2\u001b[39m)\n  ammonite.$sess.cmd24$Helper.mapReduce(\u001b[32mcmd24.sc\u001b[39m:\u001b[32m2\u001b[39m)\n  ammonite.$sess.cmd24$Helper.mapReduce(\u001b[32mcmd24.sc\u001b[39m:\u001b[32m2\u001b[39m)\n  ammonite.$sess.cmd24$Helper.mapReduce(\u001b[32mcmd24.sc\u001b[39m:\u001b[32m2\u001b[39m)\n  ammonite.$sess.cmd24$Helper.mapReduce(\u001b[32mcmd24.sc\u001b[39m:\u001b[32m2\u001b[39m)\n  ammonite.$sess.cmd24$Helper.mapReduce(\u001b[32mcmd24.sc\u001b[39m:\u001b[32m2\u001b[39m)\n  ammonite.$sess.cmd24$Helper.mapReduce(\u001b[32mcmd24.sc\u001b[39m:\u001b[32m2\u001b[39m)\n  ammonite.$sess.cmd24$Helper.mapReduce(\u001b[32mcmd24.sc\u001b[39m:\u001b[32m2\u001b[39m)\n  ammonite.$sess.cmd24$Helper.mapReduce(\u001b[32mcmd24.sc\u001b[39m:\u001b[32m2\u001b[39m)\n  ammonite.$sess.cmd24$Helper.mapReduce(\u001b[32mcmd24.sc\u001b[39m:\u001b[32m2\u001b[39m)\n  ammonite.$sess.cmd24$Helper.mapReduce(\u001b[32mcmd24.sc\u001b[39m:\u001b[32m2\u001b[39m)\n  ammonite.$sess.cmd24$Helper.mapReduce(\u001b[32mcmd24.sc\u001b[39m:\u001b[32m2\u001b[39m)\n  ammonite.$sess.cmd24$Helper.mapReduce(\u001b[32mcmd24.sc\u001b[39m:\u001b[32m2\u001b[39m)\n  ammonite.$sess.cmd24$Helper.mapReduce(\u001b[32mcmd24.sc\u001b[39m:\u001b[32m2\u001b[39m)\n  ammonite.$sess.cmd24$Helper.mapReduce(\u001b[32mcmd24.sc\u001b[39m:\u001b[32m2\u001b[39m)\n  ammonite.$sess.cmd24$Helper.mapReduce(\u001b[32mcmd24.sc\u001b[39m:\u001b[32m2\u001b[39m)\n  ammonite.$sess.cmd24$Helper.mapReduce(\u001b[32mcmd24.sc\u001b[39m:\u001b[32m2\u001b[39m)\n  ammonite.$sess.cmd24$Helper.mapReduce(\u001b[32mcmd24.sc\u001b[39m:\u001b[32m2\u001b[39m)\n  ammonite.$sess.cmd24$Helper.mapReduce(\u001b[32mcmd24.sc\u001b[39m:\u001b[32m2\u001b[39m)\n  ammonite.$sess.cmd24$Helper.mapReduce(\u001b[32mcmd24.sc\u001b[39m:\u001b[32m2\u001b[39m)\n  ammonite.$sess.cmd24$Helper.mapReduce(\u001b[32mcmd24.sc\u001b[39m:\u001b[32m2\u001b[39m)\n  ammonite.$sess.cmd24$Helper.mapReduce(\u001b[32mcmd24.sc\u001b[39m:\u001b[32m2\u001b[39m)\n  ammonite.$sess.cmd24$Helper.mapReduce(\u001b[32mcmd24.sc\u001b[39m:\u001b[32m2\u001b[39m)\n  ammonite.$sess.cmd24$Helper.mapReduce(\u001b[32mcmd24.sc\u001b[39m:\u001b[32m2\u001b[39m)\n  ammonite.$sess.cmd24$Helper.mapReduce(\u001b[32mcmd24.sc\u001b[39m:\u001b[32m2\u001b[39m)\n  ammonite.$sess.cmd24$Helper.mapReduce(\u001b[32mcmd24.sc\u001b[39m:\u001b[32m2\u001b[39m)\n  ammonite.$sess.cmd24$Helper.mapReduce(\u001b[32mcmd24.sc\u001b[39m:\u001b[32m2\u001b[39m)\n  ammonite.$sess.cmd24$Helper.mapReduce(\u001b[32mcmd24.sc\u001b[39m:\u001b[32m2\u001b[39m)\n  ammonite.$sess.cmd24$Helper.mapReduce(\u001b[32mcmd24.sc\u001b[39m:\u001b[32m2\u001b[39m)\n  ammonite.$sess.cmd24$Helper.mapReduce(\u001b[32mcmd24.sc\u001b[39m:\u001b[32m2\u001b[39m)\n  ammonite.$sess.cmd24$Helper.mapReduce(\u001b[32mcmd24.sc\u001b[39m:\u001b[32m2\u001b[39m)\n  ammonite.$sess.cmd24$Helper.mapReduce(\u001b[32mcmd24.sc\u001b[39m:\u001b[32m2\u001b[39m)\n  ammonite.$sess.cmd24$Helper.mapReduce(\u001b[32mcmd24.sc\u001b[39m:\u001b[32m2\u001b[39m)\n  ammonite.$sess.cmd24$Helper.mapReduce(\u001b[32mcmd24.sc\u001b[39m:\u001b[32m2\u001b[39m)\n  ammonite.$sess.cmd24$Helper.mapReduce(\u001b[32mcmd24.sc\u001b[39m:\u001b[32m2\u001b[39m)\n  ammonite.$sess.cmd24$Helper.mapReduce(\u001b[32mcmd24.sc\u001b[39m:\u001b[32m2\u001b[39m)\n  ammonite.$sess.cmd24$Helper.mapReduce(\u001b[32mcmd24.sc\u001b[39m:\u001b[32m2\u001b[39m)\n  ammonite.$sess.cmd24$Helper.mapReduce(\u001b[32mcmd24.sc\u001b[39m:\u001b[32m2\u001b[39m)\n  ammonite.$sess.cmd24$Helper.mapReduce(\u001b[32mcmd24.sc\u001b[39m:\u001b[32m2\u001b[39m)\n  ammonite.$sess.cmd24$Helper.mapReduce(\u001b[32mcmd24.sc\u001b[39m:\u001b[32m2\u001b[39m)\n  ammonite.$sess.cmd24$Helper.mapReduce(\u001b[32mcmd24.sc\u001b[39m:\u001b[32m2\u001b[39m)\n  ammonite.$sess.cmd24$Helper.mapReduce(\u001b[32mcmd24.sc\u001b[39m:\u001b[32m2\u001b[39m)\n  ammonite.$sess.cmd24$Helper.mapReduce(\u001b[32mcmd24.sc\u001b[39m:\u001b[32m2\u001b[39m)\n  ammonite.$sess.cmd24$Helper.mapReduce(\u001b[32mcmd24.sc\u001b[39m:\u001b[32m2\u001b[39m)\n  ammonite.$sess.cmd24$Helper.mapReduce(\u001b[32mcmd24.sc\u001b[39m:\u001b[32m2\u001b[39m)\n  ammonite.$sess.cmd24$Helper.mapReduce(\u001b[32mcmd24.sc\u001b[39m:\u001b[32m2\u001b[39m)\n  ammonite.$sess.cmd24$Helper.mapReduce(\u001b[32mcmd24.sc\u001b[39m:\u001b[32m2\u001b[39m)\n  ammonite.$sess.cmd24$Helper.mapReduce(\u001b[32mcmd24.sc\u001b[39m:\u001b[32m2\u001b[39m)\n  ammonite.$sess.cmd24$Helper.mapReduce(\u001b[32mcmd24.sc\u001b[39m:\u001b[32m2\u001b[39m)\n  ammonite.$sess.cmd24$Helper.mapReduce(\u001b[32mcmd24.sc\u001b[39m:\u001b[32m2\u001b[39m)\n  ammonite.$sess.cmd24$Helper.mapReduce(\u001b[32mcmd24.sc\u001b[39m:\u001b[32m2\u001b[39m)\n  ammonite.$sess.cmd24$Helper.mapReduce(\u001b[32mcmd24.sc\u001b[39m:\u001b[32m2\u001b[39m)\n  ammonite.$sess.cmd24$Helper.mapReduce(\u001b[32mcmd24.sc\u001b[39m:\u001b[32m2\u001b[39m)\n  ammonite.$sess.cmd24$Helper.mapReduce(\u001b[32mcmd24.sc\u001b[39m:\u001b[32m2\u001b[39m)\n  ammonite.$sess.cmd24$Helper.mapReduce(\u001b[32mcmd24.sc\u001b[39m:\u001b[32m2\u001b[39m)\n  ammonite.$sess.cmd24$Helper.mapReduce(\u001b[32mcmd24.sc\u001b[39m:\u001b[32m2\u001b[39m)\n  ammonite.$sess.cmd24$Helper.mapReduce(\u001b[32mcmd24.sc\u001b[39m:\u001b[32m2\u001b[39m)\n  ammonite.$sess.cmd24$Helper.mapReduce(\u001b[32mcmd24.sc\u001b[39m:\u001b[32m2\u001b[39m)\n  ammonite.$sess.cmd24$Helper.mapReduce(\u001b[32mcmd24.sc\u001b[39m:\u001b[32m2\u001b[39m)\n  ammonite.$sess.cmd24$Helper.mapReduce(\u001b[32mcmd24.sc\u001b[39m:\u001b[32m2\u001b[39m)\n  ammonite.$sess.cmd24$Helper.mapReduce(\u001b[32mcmd24.sc\u001b[39m:\u001b[32m2\u001b[39m)\n  ammonite.$sess.cmd24$Helper.mapReduce(\u001b[32mcmd24.sc\u001b[39m:\u001b[32m2\u001b[39m)\n  ammonite.$sess.cmd24$Helper.mapReduce(\u001b[32mcmd24.sc\u001b[39m:\u001b[32m2\u001b[39m)\n  ammonite.$sess.cmd24$Helper.mapReduce(\u001b[32mcmd24.sc\u001b[39m:\u001b[32m2\u001b[39m)\n  ammonite.$sess.cmd24$Helper.mapReduce(\u001b[32mcmd24.sc\u001b[39m:\u001b[32m2\u001b[39m)\n  ammonite.$sess.cmd24$Helper.mapReduce(\u001b[32mcmd24.sc\u001b[39m:\u001b[32m2\u001b[39m)\n  ammonite.$sess.cmd24$Helper.mapReduce(\u001b[32mcmd24.sc\u001b[39m:\u001b[32m2\u001b[39m)\n  ammonite.$sess.cmd24$Helper.mapReduce(\u001b[32mcmd24.sc\u001b[39m:\u001b[32m2\u001b[39m)\n  ammonite.$sess.cmd24$Helper.mapReduce(\u001b[32mcmd24.sc\u001b[39m:\u001b[32m2\u001b[39m)\n  ammonite.$sess.cmd24$Helper.mapReduce(\u001b[32mcmd24.sc\u001b[39m:\u001b[32m2\u001b[39m)\n  ammonite.$sess.cmd24$Helper.mapReduce(\u001b[32mcmd24.sc\u001b[39m:\u001b[32m2\u001b[39m)\n  ammonite.$sess.cmd24$Helper.mapReduce(\u001b[32mcmd24.sc\u001b[39m:\u001b[32m2\u001b[39m)\n  ammonite.$sess.cmd24$Helper.mapReduce(\u001b[32mcmd24.sc\u001b[39m:\u001b[32m2\u001b[39m)\n  ammonite.$sess.cmd24$Helper.mapReduce(\u001b[32mcmd24.sc\u001b[39m:\u001b[32m2\u001b[39m)\n  ammonite.$sess.cmd24$Helper.mapReduce(\u001b[32mcmd24.sc\u001b[39m:\u001b[32m2\u001b[39m)\n  ammonite.$sess.cmd24$Helper.mapReduce(\u001b[32mcmd24.sc\u001b[39m:\u001b[32m2\u001b[39m)\n  ammonite.$sess.cmd24$Helper.mapReduce(\u001b[32mcmd24.sc\u001b[39m:\u001b[32m2\u001b[39m)\n  ammonite.$sess.cmd24$Helper.mapReduce(\u001b[32mcmd24.sc\u001b[39m:\u001b[32m2\u001b[39m)\n  ammonite.$sess.cmd24$Helper.mapReduce(\u001b[32mcmd24.sc\u001b[39m:\u001b[32m2\u001b[39m)\n  ammonite.$sess.cmd24$Helper.mapReduce(\u001b[32mcmd24.sc\u001b[39m:\u001b[32m2\u001b[39m)\n  ammonite.$sess.cmd24$Helper.mapReduce(\u001b[32mcmd24.sc\u001b[39m:\u001b[32m2\u001b[39m)\n  ammonite.$sess.cmd24$Helper.mapReduce(\u001b[32mcmd24.sc\u001b[39m:\u001b[32m2\u001b[39m)\n  ammonite.$sess.cmd24$Helper.mapReduce(\u001b[32mcmd24.sc\u001b[39m:\u001b[32m2\u001b[39m)\n  ammonite.$sess.cmd24$Helper.mapReduce(\u001b[32mcmd24.sc\u001b[39m:\u001b[32m2\u001b[39m)\n  ammonite.$sess.cmd24$Helper.mapReduce(\u001b[32mcmd24.sc\u001b[39m:\u001b[32m2\u001b[39m)\n  ammonite.$sess.cmd24$Helper.mapReduce(\u001b[32mcmd24.sc\u001b[39m:\u001b[32m2\u001b[39m)\n  ammonite.$sess.cmd24$Helper.mapReduce(\u001b[32mcmd24.sc\u001b[39m:\u001b[32m2\u001b[39m)\n  ammonite.$sess.cmd24$Helper.mapReduce(\u001b[32mcmd24.sc\u001b[39m:\u001b[32m2\u001b[39m)\n  ammonite.$sess.cmd24$Helper.mapReduce(\u001b[32mcmd24.sc\u001b[39m:\u001b[32m2\u001b[39m)\n  ammonite.$sess.cmd24$Helper.mapReduce(\u001b[32mcmd24.sc\u001b[39m:\u001b[32m2\u001b[39m)\n  ammonite.$sess.cmd24$Helper.mapReduce(\u001b[32mcmd24.sc\u001b[39m:\u001b[32m2\u001b[39m)\n  ammonite.$sess.cmd24$Helper.mapReduce(\u001b[32mcmd24.sc\u001b[39m:\u001b[32m2\u001b[39m)\n  ammonite.$sess.cmd24$Helper.mapReduce(\u001b[32mcmd24.sc\u001b[39m:\u001b[32m2\u001b[39m)\n  ammonite.$sess.cmd24$Helper.mapReduce(\u001b[32mcmd24.sc\u001b[39m:\u001b[32m2\u001b[39m)\n  ammonite.$sess.cmd24$Helper.mapReduce(\u001b[32mcmd24.sc\u001b[39m:\u001b[32m2\u001b[39m)\n  ammonite.$sess.cmd24$Helper.mapReduce(\u001b[32mcmd24.sc\u001b[39m:\u001b[32m2\u001b[39m)\n  ammonite.$sess.cmd24$Helper.mapReduce(\u001b[32mcmd24.sc\u001b[39m:\u001b[32m2\u001b[39m)\n  ammonite.$sess.cmd24$Helper.mapReduce(\u001b[32mcmd24.sc\u001b[39m:\u001b[32m2\u001b[39m)\n  ammonite.$sess.cmd24$Helper.mapReduce(\u001b[32mcmd24.sc\u001b[39m:\u001b[32m2\u001b[39m)\n  ammonite.$sess.cmd24$Helper.mapReduce(\u001b[32mcmd24.sc\u001b[39m:\u001b[32m2\u001b[39m)\n  ammonite.$sess.cmd24$Helper.mapReduce(\u001b[32mcmd24.sc\u001b[39m:\u001b[32m2\u001b[39m)\n  ammonite.$sess.cmd24$Helper.mapReduce(\u001b[32mcmd24.sc\u001b[39m:\u001b[32m2\u001b[39m)\n  ammonite.$sess.cmd24$Helper.mapReduce(\u001b[32mcmd24.sc\u001b[39m:\u001b[32m2\u001b[39m)\n  ammonite.$sess.cmd24$Helper.mapReduce(\u001b[32mcmd24.sc\u001b[39m:\u001b[32m2\u001b[39m)\n  ammonite.$sess.cmd24$Helper.mapReduce(\u001b[32mcmd24.sc\u001b[39m:\u001b[32m2\u001b[39m)\n  ammonite.$sess.cmd24$Helper.mapReduce(\u001b[32mcmd24.sc\u001b[39m:\u001b[32m2\u001b[39m)\n  ammonite.$sess.cmd24$Helper.mapReduce(\u001b[32mcmd24.sc\u001b[39m:\u001b[32m2\u001b[39m)\n  ammonite.$sess.cmd24$Helper.mapReduce(\u001b[32mcmd24.sc\u001b[39m:\u001b[32m2\u001b[39m)\n  ammonite.$sess.cmd24$Helper.mapReduce(\u001b[32mcmd24.sc\u001b[39m:\u001b[32m2\u001b[39m)\n  ammonite.$sess.cmd24$Helper.mapReduce(\u001b[32mcmd24.sc\u001b[39m:\u001b[32m2\u001b[39m)\n  ammonite.$sess.cmd24$Helper.mapReduce(\u001b[32mcmd24.sc\u001b[39m:\u001b[32m2\u001b[39m)\n  ammonite.$sess.cmd24$Helper.mapReduce(\u001b[32mcmd24.sc\u001b[39m:\u001b[32m2\u001b[39m)\n  ammonite.$sess.cmd24$Helper.mapReduce(\u001b[32mcmd24.sc\u001b[39m:\u001b[32m2\u001b[39m)\n  ammonite.$sess.cmd24$Helper.mapReduce(\u001b[32mcmd24.sc\u001b[39m:\u001b[32m2\u001b[39m)\n  ammonite.$sess.cmd24$Helper.mapReduce(\u001b[32mcmd24.sc\u001b[39m:\u001b[32m2\u001b[39m)\n  ammonite.$sess.cmd24$Helper.mapReduce(\u001b[32mcmd24.sc\u001b[39m:\u001b[32m2\u001b[39m)\n  ammonite.$sess.cmd24$Helper.mapReduce(\u001b[32mcmd24.sc\u001b[39m:\u001b[32m2\u001b[39m)\n  ammonite.$sess.cmd24$Helper.mapReduce(\u001b[32mcmd24.sc\u001b[39m:\u001b[32m2\u001b[39m)\n  ammonite.$sess.cmd24$Helper.mapReduce(\u001b[32mcmd24.sc\u001b[39m:\u001b[32m2\u001b[39m)\n  ammonite.$sess.cmd24$Helper.mapReduce(\u001b[32mcmd24.sc\u001b[39m:\u001b[32m2\u001b[39m)\n  ammonite.$sess.cmd24$Helper.mapReduce(\u001b[32mcmd24.sc\u001b[39m:\u001b[32m2\u001b[39m)\n  ammonite.$sess.cmd24$Helper.mapReduce(\u001b[32mcmd24.sc\u001b[39m:\u001b[32m2\u001b[39m)\n  ammonite.$sess.cmd24$Helper.mapReduce(\u001b[32mcmd24.sc\u001b[39m:\u001b[32m2\u001b[39m)\n  ammonite.$sess.cmd24$Helper.mapReduce(\u001b[32mcmd24.sc\u001b[39m:\u001b[32m2\u001b[39m)\n  ammonite.$sess.cmd24$Helper.mapReduce(\u001b[32mcmd24.sc\u001b[39m:\u001b[32m2\u001b[39m)\n  ammonite.$sess.cmd24$Helper.mapReduce(\u001b[32mcmd24.sc\u001b[39m:\u001b[32m2\u001b[39m)\n  ammonite.$sess.cmd24$Helper.mapReduce(\u001b[32mcmd24.sc\u001b[39m:\u001b[32m2\u001b[39m)\n  ammonite.$sess.cmd24$Helper.mapReduce(\u001b[32mcmd24.sc\u001b[39m:\u001b[32m2\u001b[39m)\n  ammonite.$sess.cmd24$Helper.mapReduce(\u001b[32mcmd24.sc\u001b[39m:\u001b[32m2\u001b[39m)\n  ammonite.$sess.cmd24$Helper.mapReduce(\u001b[32mcmd24.sc\u001b[39m:\u001b[32m2\u001b[39m)\n  ammonite.$sess.cmd24$Helper.mapReduce(\u001b[32mcmd24.sc\u001b[39m:\u001b[32m2\u001b[39m)\n  ammonite.$sess.cmd24$Helper.mapReduce(\u001b[32mcmd24.sc\u001b[39m:\u001b[32m2\u001b[39m)\n  ammonite.$sess.cmd24$Helper.mapReduce(\u001b[32mcmd24.sc\u001b[39m:\u001b[32m2\u001b[39m)\n  ammonite.$sess.cmd24$Helper.mapReduce(\u001b[32mcmd24.sc\u001b[39m:\u001b[32m2\u001b[39m)\n  ammonite.$sess.cmd24$Helper.mapReduce(\u001b[32mcmd24.sc\u001b[39m:\u001b[32m2\u001b[39m)\n  ammonite.$sess.cmd24$Helper.mapReduce(\u001b[32mcmd24.sc\u001b[39m:\u001b[32m2\u001b[39m)\n  ammonite.$sess.cmd24$Helper.mapReduce(\u001b[32mcmd24.sc\u001b[39m:\u001b[32m2\u001b[39m)\n  ammonite.$sess.cmd24$Helper.mapReduce(\u001b[32mcmd24.sc\u001b[39m:\u001b[32m2\u001b[39m)\n  ammonite.$sess.cmd24$Helper.mapReduce(\u001b[32mcmd24.sc\u001b[39m:\u001b[32m2\u001b[39m)\n  ammonite.$sess.cmd24$Helper.mapReduce(\u001b[32mcmd24.sc\u001b[39m:\u001b[32m2\u001b[39m)\n  ammonite.$sess.cmd24$Helper.mapReduce(\u001b[32mcmd24.sc\u001b[39m:\u001b[32m2\u001b[39m)\n  ammonite.$sess.cmd24$Helper.mapReduce(\u001b[32mcmd24.sc\u001b[39m:\u001b[32m2\u001b[39m)\n  ammonite.$sess.cmd24$Helper.mapReduce(\u001b[32mcmd24.sc\u001b[39m:\u001b[32m2\u001b[39m)\n  ammonite.$sess.cmd24$Helper.mapReduce(\u001b[32mcmd24.sc\u001b[39m:\u001b[32m2\u001b[39m)\n  ammonite.$sess.cmd24$Helper.mapReduce(\u001b[32mcmd24.sc\u001b[39m:\u001b[32m2\u001b[39m)\n  ammonite.$sess.cmd24$Helper.mapReduce(\u001b[32mcmd24.sc\u001b[39m:\u001b[32m2\u001b[39m)\n  ammonite.$sess.cmd24$Helper.mapReduce(\u001b[32mcmd24.sc\u001b[39m:\u001b[32m2\u001b[39m)\n  ammonite.$sess.cmd24$Helper.mapReduce(\u001b[32mcmd24.sc\u001b[39m:\u001b[32m2\u001b[39m)\n  ammonite.$sess.cmd24$Helper.mapReduce(\u001b[32mcmd24.sc\u001b[39m:\u001b[32m2\u001b[39m)\n  ammonite.$sess.cmd24$Helper.mapReduce(\u001b[32mcmd24.sc\u001b[39m:\u001b[32m2\u001b[39m)\n  ammonite.$sess.cmd24$Helper.mapReduce(\u001b[32mcmd24.sc\u001b[39m:\u001b[32m2\u001b[39m)\n  ammonite.$sess.cmd24$Helper.mapReduce(\u001b[32mcmd24.sc\u001b[39m:\u001b[32m2\u001b[39m)\n  ammonite.$sess.cmd24$Helper.mapReduce(\u001b[32mcmd24.sc\u001b[39m:\u001b[32m2\u001b[39m)\n  ammonite.$sess.cmd24$Helper.mapReduce(\u001b[32mcmd24.sc\u001b[39m:\u001b[32m2\u001b[39m)\n  ammonite.$sess.cmd24$Helper.mapReduce(\u001b[32mcmd24.sc\u001b[39m:\u001b[32m2\u001b[39m)\n  ammonite.$sess.cmd24$Helper.mapReduce(\u001b[32mcmd24.sc\u001b[39m:\u001b[32m2\u001b[39m)\n  ammonite.$sess.cmd24$Helper.mapReduce(\u001b[32mcmd24.sc\u001b[39m:\u001b[32m2\u001b[39m)\n  ammonite.$sess.cmd24$Helper.mapReduce(\u001b[32mcmd24.sc\u001b[39m:\u001b[32m2\u001b[39m)\n  ammonite.$sess.cmd24$Helper.mapReduce(\u001b[32mcmd24.sc\u001b[39m:\u001b[32m2\u001b[39m)\n  ammonite.$sess.cmd24$Helper.mapReduce(\u001b[32mcmd24.sc\u001b[39m:\u001b[32m2\u001b[39m)\n  ammonite.$sess.cmd24$Helper.mapReduce(\u001b[32mcmd24.sc\u001b[39m:\u001b[32m2\u001b[39m)\n  ammonite.$sess.cmd24$Helper.mapReduce(\u001b[32mcmd24.sc\u001b[39m:\u001b[32m2\u001b[39m)\n  ammonite.$sess.cmd24$Helper.mapReduce(\u001b[32mcmd24.sc\u001b[39m:\u001b[32m2\u001b[39m)\n  ammonite.$sess.cmd24$Helper.mapReduce(\u001b[32mcmd24.sc\u001b[39m:\u001b[32m2\u001b[39m)\n  ammonite.$sess.cmd24$Helper.mapReduce(\u001b[32mcmd24.sc\u001b[39m:\u001b[32m2\u001b[39m)\n  ammonite.$sess.cmd24$Helper.mapReduce(\u001b[32mcmd24.sc\u001b[39m:\u001b[32m2\u001b[39m)\n  ammonite.$sess.cmd24$Helper.mapReduce(\u001b[32mcmd24.sc\u001b[39m:\u001b[32m2\u001b[39m)\n  ammonite.$sess.cmd24$Helper.mapReduce(\u001b[32mcmd24.sc\u001b[39m:\u001b[32m2\u001b[39m)\n  ammonite.$sess.cmd24$Helper.mapReduce(\u001b[32mcmd24.sc\u001b[39m:\u001b[32m2\u001b[39m)\n  ammonite.$sess.cmd24$Helper.mapReduce(\u001b[32mcmd24.sc\u001b[39m:\u001b[32m2\u001b[39m)\n  ammonite.$sess.cmd24$Helper.mapReduce(\u001b[32mcmd24.sc\u001b[39m:\u001b[32m2\u001b[39m)\n  ammonite.$sess.cmd24$Helper.mapReduce(\u001b[32mcmd24.sc\u001b[39m:\u001b[32m2\u001b[39m)\n  ammonite.$sess.cmd24$Helper.mapReduce(\u001b[32mcmd24.sc\u001b[39m:\u001b[32m2\u001b[39m)\n  ammonite.$sess.cmd24$Helper.mapReduce(\u001b[32mcmd24.sc\u001b[39m:\u001b[32m2\u001b[39m)\n  ammonite.$sess.cmd24$Helper.mapReduce(\u001b[32mcmd24.sc\u001b[39m:\u001b[32m2\u001b[39m)\n  ammonite.$sess.cmd24$Helper.mapReduce(\u001b[32mcmd24.sc\u001b[39m:\u001b[32m2\u001b[39m)\n  ammonite.$sess.cmd24$Helper.mapReduce(\u001b[32mcmd24.sc\u001b[39m:\u001b[32m2\u001b[39m)\n  ammonite.$sess.cmd24$Helper.mapReduce(\u001b[32mcmd24.sc\u001b[39m:\u001b[32m2\u001b[39m)\n  ammonite.$sess.cmd24$Helper.mapReduce(\u001b[32mcmd24.sc\u001b[39m:\u001b[32m2\u001b[39m)\n  ammonite.$sess.cmd24$Helper.mapReduce(\u001b[32mcmd24.sc\u001b[39m:\u001b[32m2\u001b[39m)\n  ammonite.$sess.cmd24$Helper.mapReduce(\u001b[32mcmd24.sc\u001b[39m:\u001b[32m2\u001b[39m)\n  ammonite.$sess.cmd24$Helper.mapReduce(\u001b[32mcmd24.sc\u001b[39m:\u001b[32m2\u001b[39m)\n  ammonite.$sess.cmd24$Helper.mapReduce(\u001b[32mcmd24.sc\u001b[39m:\u001b[32m2\u001b[39m)\n  ammonite.$sess.cmd24$Helper.mapReduce(\u001b[32mcmd24.sc\u001b[39m:\u001b[32m2\u001b[39m)\n  ammonite.$sess.cmd24$Helper.mapReduce(\u001b[32mcmd24.sc\u001b[39m:\u001b[32m2\u001b[39m)\n  ammonite.$sess.cmd24$Helper.mapReduce(\u001b[32mcmd24.sc\u001b[39m:\u001b[32m2\u001b[39m)\n  ammonite.$sess.cmd24$Helper.mapReduce(\u001b[32mcmd24.sc\u001b[39m:\u001b[32m2\u001b[39m)\n  ammonite.$sess.cmd24$Helper.mapReduce(\u001b[32mcmd24.sc\u001b[39m:\u001b[32m2\u001b[39m)\n  ammonite.$sess.cmd24$Helper.mapReduce(\u001b[32mcmd24.sc\u001b[39m:\u001b[32m2\u001b[39m)\n  ammonite.$sess.cmd24$Helper.mapReduce(\u001b[32mcmd24.sc\u001b[39m:\u001b[32m2\u001b[39m)\n  ammonite.$sess.cmd24$Helper.mapReduce(\u001b[32mcmd24.sc\u001b[39m:\u001b[32m2\u001b[39m)\n  ammonite.$sess.cmd24$Helper.mapReduce(\u001b[32mcmd24.sc\u001b[39m:\u001b[32m2\u001b[39m)\n  ammonite.$sess.cmd24$Helper.mapReduce(\u001b[32mcmd24.sc\u001b[39m:\u001b[32m2\u001b[39m)\n  ammonite.$sess.cmd24$Helper.mapReduce(\u001b[32mcmd24.sc\u001b[39m:\u001b[32m2\u001b[39m)\n  ammonite.$sess.cmd24$Helper.mapReduce(\u001b[32mcmd24.sc\u001b[39m:\u001b[32m2\u001b[39m)\n  ammonite.$sess.cmd24$Helper.mapReduce(\u001b[32mcmd24.sc\u001b[39m:\u001b[32m2\u001b[39m)\n  ammonite.$sess.cmd24$Helper.mapReduce(\u001b[32mcmd24.sc\u001b[39m:\u001b[32m2\u001b[39m)\n  ammonite.$sess.cmd24$Helper.mapReduce(\u001b[32mcmd24.sc\u001b[39m:\u001b[32m2\u001b[39m)\n  ammonite.$sess.cmd24$Helper.mapReduce(\u001b[32mcmd24.sc\u001b[39m:\u001b[32m2\u001b[39m)\n  ammonite.$sess.cmd24$Helper.mapReduce(\u001b[32mcmd24.sc\u001b[39m:\u001b[32m2\u001b[39m)\n  ammonite.$sess.cmd24$Helper.mapReduce(\u001b[32mcmd24.sc\u001b[39m:\u001b[32m2\u001b[39m)\n  ammonite.$sess.cmd24$Helper.mapReduce(\u001b[32mcmd24.sc\u001b[39m:\u001b[32m2\u001b[39m)\n  ammonite.$sess.cmd24$Helper.mapReduce(\u001b[32mcmd24.sc\u001b[39m:\u001b[32m2\u001b[39m)\n  ammonite.$sess.cmd24$Helper.mapReduce(\u001b[32mcmd24.sc\u001b[39m:\u001b[32m2\u001b[39m)\n  ammonite.$sess.cmd24$Helper.mapReduce(\u001b[32mcmd24.sc\u001b[39m:\u001b[32m2\u001b[39m)\n  ammonite.$sess.cmd24$Helper.mapReduce(\u001b[32mcmd24.sc\u001b[39m:\u001b[32m2\u001b[39m)\n  ammonite.$sess.cmd24$Helper.mapReduce(\u001b[32mcmd24.sc\u001b[39m:\u001b[32m2\u001b[39m)\n  ammonite.$sess.cmd24$Helper.mapReduce(\u001b[32mcmd24.sc\u001b[39m:\u001b[32m2\u001b[39m)\n  ammonite.$sess.cmd24$Helper.mapReduce(\u001b[32mcmd24.sc\u001b[39m:\u001b[32m2\u001b[39m)\n  ammonite.$sess.cmd24$Helper.mapReduce(\u001b[32mcmd24.sc\u001b[39m:\u001b[32m2\u001b[39m)\n  ammonite.$sess.cmd24$Helper.mapReduce(\u001b[32mcmd24.sc\u001b[39m:\u001b[32m2\u001b[39m)\n  ammonite.$sess.cmd24$Helper.mapReduce(\u001b[32mcmd24.sc\u001b[39m:\u001b[32m2\u001b[39m)\n  ammonite.$sess.cmd24$Helper.mapReduce(\u001b[32mcmd24.sc\u001b[39m:\u001b[32m2\u001b[39m)\n  ammonite.$sess.cmd24$Helper.mapReduce(\u001b[32mcmd24.sc\u001b[39m:\u001b[32m2\u001b[39m)\n  ammonite.$sess.cmd24$Helper.mapReduce(\u001b[32mcmd24.sc\u001b[39m:\u001b[32m2\u001b[39m)\n  ammonite.$sess.cmd24$Helper.mapReduce(\u001b[32mcmd24.sc\u001b[39m:\u001b[32m2\u001b[39m)\n  ammonite.$sess.cmd24$Helper.mapReduce(\u001b[32mcmd24.sc\u001b[39m:\u001b[32m2\u001b[39m)\n  ammonite.$sess.cmd24$Helper.mapReduce(\u001b[32mcmd24.sc\u001b[39m:\u001b[32m2\u001b[39m)\n  ammonite.$sess.cmd24$Helper.mapReduce(\u001b[32mcmd24.sc\u001b[39m:\u001b[32m2\u001b[39m)\n  ammonite.$sess.cmd24$Helper.mapReduce(\u001b[32mcmd24.sc\u001b[39m:\u001b[32m2\u001b[39m)\n  ammonite.$sess.cmd24$Helper.mapReduce(\u001b[32mcmd24.sc\u001b[39m:\u001b[32m2\u001b[39m)\n  ammonite.$sess.cmd24$Helper.mapReduce(\u001b[32mcmd24.sc\u001b[39m:\u001b[32m2\u001b[39m)\n  ammonite.$sess.cmd24$Helper.mapReduce(\u001b[32mcmd24.sc\u001b[39m:\u001b[32m2\u001b[39m)\n  ammonite.$sess.cmd24$Helper.mapReduce(\u001b[32mcmd24.sc\u001b[39m:\u001b[32m2\u001b[39m)\n  ammonite.$sess.cmd24$Helper.mapReduce(\u001b[32mcmd24.sc\u001b[39m:\u001b[32m2\u001b[39m)\n  ammonite.$sess.cmd24$Helper.mapReduce(\u001b[32mcmd24.sc\u001b[39m:\u001b[32m2\u001b[39m)\n  ammonite.$sess.cmd24$Helper.mapReduce(\u001b[32mcmd24.sc\u001b[39m:\u001b[32m2\u001b[39m)\n  ammonite.$sess.cmd24$Helper.mapReduce(\u001b[32mcmd24.sc\u001b[39m:\u001b[32m2\u001b[39m)\n  ammonite.$sess.cmd24$Helper.mapReduce(\u001b[32mcmd24.sc\u001b[39m:\u001b[32m2\u001b[39m)\n  ammonite.$sess.cmd24$Helper.mapReduce(\u001b[32mcmd24.sc\u001b[39m:\u001b[32m2\u001b[39m)\n  ammonite.$sess.cmd24$Helper.mapReduce(\u001b[32mcmd24.sc\u001b[39m:\u001b[32m2\u001b[39m)\n  ammonite.$sess.cmd24$Helper.mapReduce(\u001b[32mcmd24.sc\u001b[39m:\u001b[32m2\u001b[39m)\n  ammonite.$sess.cmd24$Helper.mapReduce(\u001b[32mcmd24.sc\u001b[39m:\u001b[32m2\u001b[39m)\n  ammonite.$sess.cmd24$Helper.mapReduce(\u001b[32mcmd24.sc\u001b[39m:\u001b[32m2\u001b[39m)\n  ammonite.$sess.cmd24$Helper.mapReduce(\u001b[32mcmd24.sc\u001b[39m:\u001b[32m2\u001b[39m)\n  ammonite.$sess.cmd24$Helper.mapReduce(\u001b[32mcmd24.sc\u001b[39m:\u001b[32m2\u001b[39m)\n  ammonite.$sess.cmd24$Helper.mapReduce(\u001b[32mcmd24.sc\u001b[39m:\u001b[32m2\u001b[39m)\n  ammonite.$sess.cmd24$Helper.mapReduce(\u001b[32mcmd24.sc\u001b[39m:\u001b[32m2\u001b[39m)\n  ammonite.$sess.cmd24$Helper.mapReduce(\u001b[32mcmd24.sc\u001b[39m:\u001b[32m2\u001b[39m)\n  ammonite.$sess.cmd24$Helper.mapReduce(\u001b[32mcmd24.sc\u001b[39m:\u001b[32m2\u001b[39m)\n  ammonite.$sess.cmd24$Helper.mapReduce(\u001b[32mcmd24.sc\u001b[39m:\u001b[32m2\u001b[39m)\n  ammonite.$sess.cmd24$Helper.mapReduce(\u001b[32mcmd24.sc\u001b[39m:\u001b[32m2\u001b[39m)\n  ammonite.$sess.cmd24$Helper.mapReduce(\u001b[32mcmd24.sc\u001b[39m:\u001b[32m2\u001b[39m)\n  ammonite.$sess.cmd24$Helper.mapReduce(\u001b[32mcmd24.sc\u001b[39m:\u001b[32m2\u001b[39m)\n  ammonite.$sess.cmd24$Helper.mapReduce(\u001b[32mcmd24.sc\u001b[39m:\u001b[32m2\u001b[39m)\n  ammonite.$sess.cmd24$Helper.mapReduce(\u001b[32mcmd24.sc\u001b[39m:\u001b[32m2\u001b[39m)\n  ammonite.$sess.cmd24$Helper.mapReduce(\u001b[32mcmd24.sc\u001b[39m:\u001b[32m2\u001b[39m)\n  ammonite.$sess.cmd24$Helper.mapReduce(\u001b[32mcmd24.sc\u001b[39m:\u001b[32m2\u001b[39m)\n  ammonite.$sess.cmd24$Helper.mapReduce(\u001b[32mcmd24.sc\u001b[39m:\u001b[32m2\u001b[39m)\n  ammonite.$sess.cmd24$Helper.mapReduce(\u001b[32mcmd24.sc\u001b[39m:\u001b[32m2\u001b[39m)\n  ammonite.$sess.cmd24$Helper.mapReduce(\u001b[32mcmd24.sc\u001b[39m:\u001b[32m2\u001b[39m)\n  ammonite.$sess.cmd24$Helper.mapReduce(\u001b[32mcmd24.sc\u001b[39m:\u001b[32m2\u001b[39m)\n  ammonite.$sess.cmd24$Helper.mapReduce(\u001b[32mcmd24.sc\u001b[39m:\u001b[32m2\u001b[39m)\n  ammonite.$sess.cmd24$Helper.mapReduce(\u001b[32mcmd24.sc\u001b[39m:\u001b[32m2\u001b[39m)\n  ammonite.$sess.cmd24$Helper.mapReduce(\u001b[32mcmd24.sc\u001b[39m:\u001b[32m2\u001b[39m)\n  ammonite.$sess.cmd24$Helper.mapReduce(\u001b[32mcmd24.sc\u001b[39m:\u001b[32m2\u001b[39m)\n  ammonite.$sess.cmd24$Helper.mapReduce(\u001b[32mcmd24.sc\u001b[39m:\u001b[32m2\u001b[39m)\n  ammonite.$sess.cmd24$Helper.mapReduce(\u001b[32mcmd24.sc\u001b[39m:\u001b[32m2\u001b[39m)\n  ammonite.$sess.cmd24$Helper.mapReduce(\u001b[32mcmd24.sc\u001b[39m:\u001b[32m2\u001b[39m)\n  ammonite.$sess.cmd24$Helper.mapReduce(\u001b[32mcmd24.sc\u001b[39m:\u001b[32m2\u001b[39m)\n  ammonite.$sess.cmd24$Helper.mapReduce(\u001b[32mcmd24.sc\u001b[39m:\u001b[32m2\u001b[39m)\n  ammonite.$sess.cmd24$Helper.mapReduce(\u001b[32mcmd24.sc\u001b[39m:\u001b[32m2\u001b[39m)\n  ammonite.$sess.cmd24$Helper.mapReduce(\u001b[32mcmd24.sc\u001b[39m:\u001b[32m2\u001b[39m)\n  ammonite.$sess.cmd24$Helper.mapReduce(\u001b[32mcmd24.sc\u001b[39m:\u001b[32m2\u001b[39m)\n  ammonite.$sess.cmd24$Helper.mapReduce(\u001b[32mcmd24.sc\u001b[39m:\u001b[32m2\u001b[39m)\n  ammonite.$sess.cmd24$Helper.mapReduce(\u001b[32mcmd24.sc\u001b[39m:\u001b[32m2\u001b[39m)\n  ammonite.$sess.cmd24$Helper.mapReduce(\u001b[32mcmd24.sc\u001b[39m:\u001b[32m2\u001b[39m)\n  ammonite.$sess.cmd24$Helper.mapReduce(\u001b[32mcmd24.sc\u001b[39m:\u001b[32m2\u001b[39m)\n  ammonite.$sess.cmd24$Helper.mapReduce(\u001b[32mcmd24.sc\u001b[39m:\u001b[32m2\u001b[39m)\n  ammonite.$sess.cmd24$Helper.mapReduce(\u001b[32mcmd24.sc\u001b[39m:\u001b[32m2\u001b[39m)\n  ammonite.$sess.cmd24$Helper.mapReduce(\u001b[32mcmd24.sc\u001b[39m:\u001b[32m2\u001b[39m)\n  ammonite.$sess.cmd24$Helper.mapReduce(\u001b[32mcmd24.sc\u001b[39m:\u001b[32m2\u001b[39m)\n  ammonite.$sess.cmd24$Helper.mapReduce(\u001b[32mcmd24.sc\u001b[39m:\u001b[32m2\u001b[39m)\n  ammonite.$sess.cmd24$Helper.mapReduce(\u001b[32mcmd24.sc\u001b[39m:\u001b[32m2\u001b[39m)\n  ammonite.$sess.cmd24$Helper.mapReduce(\u001b[32mcmd24.sc\u001b[39m:\u001b[32m2\u001b[39m)\n  ammonite.$sess.cmd24$Helper.mapReduce(\u001b[32mcmd24.sc\u001b[39m:\u001b[32m2\u001b[39m)\n  ammonite.$sess.cmd24$Helper.mapReduce(\u001b[32mcmd24.sc\u001b[39m:\u001b[32m2\u001b[39m)\n  ammonite.$sess.cmd24$Helper.mapReduce(\u001b[32mcmd24.sc\u001b[39m:\u001b[32m2\u001b[39m)\n  ammonite.$sess.cmd24$Helper.mapReduce(\u001b[32mcmd24.sc\u001b[39m:\u001b[32m2\u001b[39m)\n  ammonite.$sess.cmd24$Helper.mapReduce(\u001b[32mcmd24.sc\u001b[39m:\u001b[32m2\u001b[39m)\n  ammonite.$sess.cmd24$Helper.mapReduce(\u001b[32mcmd24.sc\u001b[39m:\u001b[32m2\u001b[39m)\n  ammonite.$sess.cmd24$Helper.mapReduce(\u001b[32mcmd24.sc\u001b[39m:\u001b[32m2\u001b[39m)\n  ammonite.$sess.cmd24$Helper.mapReduce(\u001b[32mcmd24.sc\u001b[39m:\u001b[32m2\u001b[39m)\n  ammonite.$sess.cmd24$Helper.mapReduce(\u001b[32mcmd24.sc\u001b[39m:\u001b[32m2\u001b[39m)\n  ammonite.$sess.cmd24$Helper.mapReduce(\u001b[32mcmd24.sc\u001b[39m:\u001b[32m2\u001b[39m)\n  ammonite.$sess.cmd24$Helper.mapReduce(\u001b[32mcmd24.sc\u001b[39m:\u001b[32m2\u001b[39m)\n  ammonite.$sess.cmd24$Helper.mapReduce(\u001b[32mcmd24.sc\u001b[39m:\u001b[32m2\u001b[39m)\n  ammonite.$sess.cmd24$Helper.mapReduce(\u001b[32mcmd24.sc\u001b[39m:\u001b[32m2\u001b[39m)\n  ammonite.$sess.cmd24$Helper.mapReduce(\u001b[32mcmd24.sc\u001b[39m:\u001b[32m2\u001b[39m)\n  ammonite.$sess.cmd24$Helper.mapReduce(\u001b[32mcmd24.sc\u001b[39m:\u001b[32m2\u001b[39m)\n  ammonite.$sess.cmd24$Helper.mapReduce(\u001b[32mcmd24.sc\u001b[39m:\u001b[32m2\u001b[39m)\n  ammonite.$sess.cmd24$Helper.mapReduce(\u001b[32mcmd24.sc\u001b[39m:\u001b[32m2\u001b[39m)\n  ammonite.$sess.cmd24$Helper.mapReduce(\u001b[32mcmd24.sc\u001b[39m:\u001b[32m2\u001b[39m)\n  ammonite.$sess.cmd24$Helper.mapReduce(\u001b[32mcmd24.sc\u001b[39m:\u001b[32m2\u001b[39m)\n  ammonite.$sess.cmd24$Helper.mapReduce(\u001b[32mcmd24.sc\u001b[39m:\u001b[32m2\u001b[39m)\n  ammonite.$sess.cmd24$Helper.mapReduce(\u001b[32mcmd24.sc\u001b[39m:\u001b[32m2\u001b[39m)\n  ammonite.$sess.cmd24$Helper.mapReduce(\u001b[32mcmd24.sc\u001b[39m:\u001b[32m2\u001b[39m)\n  ammonite.$sess.cmd24$Helper.mapReduce(\u001b[32mcmd24.sc\u001b[39m:\u001b[32m2\u001b[39m)\n  ammonite.$sess.cmd24$Helper.mapReduce(\u001b[32mcmd24.sc\u001b[39m:\u001b[32m2\u001b[39m)\n  ammonite.$sess.cmd24$Helper.mapReduce(\u001b[32mcmd24.sc\u001b[39m:\u001b[32m2\u001b[39m)\n  ammonite.$sess.cmd24$Helper.mapReduce(\u001b[32mcmd24.sc\u001b[39m:\u001b[32m2\u001b[39m)\n  ammonite.$sess.cmd24$Helper.mapReduce(\u001b[32mcmd24.sc\u001b[39m:\u001b[32m2\u001b[39m)\n  ammonite.$sess.cmd24$Helper.mapReduce(\u001b[32mcmd24.sc\u001b[39m:\u001b[32m2\u001b[39m)\n  ammonite.$sess.cmd24$Helper.mapReduce(\u001b[32mcmd24.sc\u001b[39m:\u001b[32m2\u001b[39m)\n  ammonite.$sess.cmd24$Helper.mapReduce(\u001b[32mcmd24.sc\u001b[39m:\u001b[32m2\u001b[39m)\n  ammonite.$sess.cmd24$Helper.mapReduce(\u001b[32mcmd24.sc\u001b[39m:\u001b[32m2\u001b[39m)\n  ammonite.$sess.cmd24$Helper.mapReduce(\u001b[32mcmd24.sc\u001b[39m:\u001b[32m2\u001b[39m)\n  ammonite.$sess.cmd24$Helper.mapReduce(\u001b[32mcmd24.sc\u001b[39m:\u001b[32m2\u001b[39m)\n  ammonite.$sess.cmd24$Helper.mapReduce(\u001b[32mcmd24.sc\u001b[39m:\u001b[32m2\u001b[39m)\n  ammonite.$sess.cmd24$Helper.mapReduce(\u001b[32mcmd24.sc\u001b[39m:\u001b[32m2\u001b[39m)\n  ammonite.$sess.cmd24$Helper.mapReduce(\u001b[32mcmd24.sc\u001b[39m:\u001b[32m2\u001b[39m)\n  ammonite.$sess.cmd24$Helper.mapReduce(\u001b[32mcmd24.sc\u001b[39m:\u001b[32m2\u001b[39m)\n  ammonite.$sess.cmd24$Helper.mapReduce(\u001b[32mcmd24.sc\u001b[39m:\u001b[32m2\u001b[39m)\n  ammonite.$sess.cmd24$Helper.mapReduce(\u001b[32mcmd24.sc\u001b[39m:\u001b[32m2\u001b[39m)\n  ammonite.$sess.cmd24$Helper.mapReduce(\u001b[32mcmd24.sc\u001b[39m:\u001b[32m2\u001b[39m)\n  ammonite.$sess.cmd24$Helper.mapReduce(\u001b[32mcmd24.sc\u001b[39m:\u001b[32m2\u001b[39m)\n  ammonite.$sess.cmd24$Helper.mapReduce(\u001b[32mcmd24.sc\u001b[39m:\u001b[32m2\u001b[39m)\n  ammonite.$sess.cmd24$Helper.mapReduce(\u001b[32mcmd24.sc\u001b[39m:\u001b[32m2\u001b[39m)\n  ammonite.$sess.cmd24$Helper.mapReduce(\u001b[32mcmd24.sc\u001b[39m:\u001b[32m2\u001b[39m)\n  ammonite.$sess.cmd24$Helper.mapReduce(\u001b[32mcmd24.sc\u001b[39m:\u001b[32m2\u001b[39m)\n  ammonite.$sess.cmd24$Helper.mapReduce(\u001b[32mcmd24.sc\u001b[39m:\u001b[32m2\u001b[39m)\n  ammonite.$sess.cmd24$Helper.mapReduce(\u001b[32mcmd24.sc\u001b[39m:\u001b[32m2\u001b[39m)\n  ammonite.$sess.cmd24$Helper.mapReduce(\u001b[32mcmd24.sc\u001b[39m:\u001b[32m2\u001b[39m)\n  ammonite.$sess.cmd24$Helper.mapReduce(\u001b[32mcmd24.sc\u001b[39m:\u001b[32m2\u001b[39m)\n  ammonite.$sess.cmd24$Helper.mapReduce(\u001b[32mcmd24.sc\u001b[39m:\u001b[32m2\u001b[39m)\n  ammonite.$sess.cmd24$Helper.mapReduce(\u001b[32mcmd24.sc\u001b[39m:\u001b[32m2\u001b[39m)\n  ammonite.$sess.cmd24$Helper.mapReduce(\u001b[32mcmd24.sc\u001b[39m:\u001b[32m2\u001b[39m)\n  ammonite.$sess.cmd24$Helper.mapReduce(\u001b[32mcmd24.sc\u001b[39m:\u001b[32m2\u001b[39m)\n  ammonite.$sess.cmd24$Helper.mapReduce(\u001b[32mcmd24.sc\u001b[39m:\u001b[32m2\u001b[39m)\n  ammonite.$sess.cmd24$Helper.mapReduce(\u001b[32mcmd24.sc\u001b[39m:\u001b[32m2\u001b[39m)\n  ammonite.$sess.cmd24$Helper.mapReduce(\u001b[32mcmd24.sc\u001b[39m:\u001b[32m2\u001b[39m)\n  ammonite.$sess.cmd24$Helper.mapReduce(\u001b[32mcmd24.sc\u001b[39m:\u001b[32m2\u001b[39m)\n  ammonite.$sess.cmd24$Helper.mapReduce(\u001b[32mcmd24.sc\u001b[39m:\u001b[32m2\u001b[39m)\n  ammonite.$sess.cmd24$Helper.mapReduce(\u001b[32mcmd24.sc\u001b[39m:\u001b[32m2\u001b[39m)\n  ammonite.$sess.cmd24$Helper.mapReduce(\u001b[32mcmd24.sc\u001b[39m:\u001b[32m2\u001b[39m)\n  ammonite.$sess.cmd24$Helper.mapReduce(\u001b[32mcmd24.sc\u001b[39m:\u001b[32m2\u001b[39m)\n  ammonite.$sess.cmd24$Helper.mapReduce(\u001b[32mcmd24.sc\u001b[39m:\u001b[32m2\u001b[39m)\n  ammonite.$sess.cmd24$Helper.mapReduce(\u001b[32mcmd24.sc\u001b[39m:\u001b[32m2\u001b[39m)\n  ammonite.$sess.cmd24$Helper.mapReduce(\u001b[32mcmd24.sc\u001b[39m:\u001b[32m2\u001b[39m)\n  ammonite.$sess.cmd24$Helper.mapReduce(\u001b[32mcmd24.sc\u001b[39m:\u001b[32m2\u001b[39m)\n  ammonite.$sess.cmd24$Helper.mapReduce(\u001b[32mcmd24.sc\u001b[39m:\u001b[32m2\u001b[39m)\n  ammonite.$sess.cmd24$Helper.mapReduce(\u001b[32mcmd24.sc\u001b[39m:\u001b[32m2\u001b[39m)\n  ammonite.$sess.cmd24$Helper.mapReduce(\u001b[32mcmd24.sc\u001b[39m:\u001b[32m2\u001b[39m)\n  ammonite.$sess.cmd24$Helper.mapReduce(\u001b[32mcmd24.sc\u001b[39m:\u001b[32m2\u001b[39m)\n  ammonite.$sess.cmd24$Helper.mapReduce(\u001b[32mcmd24.sc\u001b[39m:\u001b[32m2\u001b[39m)\n  ammonite.$sess.cmd24$Helper.mapReduce(\u001b[32mcmd24.sc\u001b[39m:\u001b[32m2\u001b[39m)\n  ammonite.$sess.cmd24$Helper.mapReduce(\u001b[32mcmd24.sc\u001b[39m:\u001b[32m2\u001b[39m)\n  ammonite.$sess.cmd24$Helper.mapReduce(\u001b[32mcmd24.sc\u001b[39m:\u001b[32m2\u001b[39m)\n  ammonite.$sess.cmd24$Helper.mapReduce(\u001b[32mcmd24.sc\u001b[39m:\u001b[32m2\u001b[39m)\n  ammonite.$sess.cmd24$Helper.mapReduce(\u001b[32mcmd24.sc\u001b[39m:\u001b[32m2\u001b[39m)\n  ammonite.$sess.cmd24$Helper.mapReduce(\u001b[32mcmd24.sc\u001b[39m:\u001b[32m2\u001b[39m)\n  ammonite.$sess.cmd24$Helper.mapReduce(\u001b[32mcmd24.sc\u001b[39m:\u001b[32m2\u001b[39m)\n  ammonite.$sess.cmd24$Helper.mapReduce(\u001b[32mcmd24.sc\u001b[39m:\u001b[32m2\u001b[39m)\n  ammonite.$sess.cmd24$Helper.mapReduce(\u001b[32mcmd24.sc\u001b[39m:\u001b[32m2\u001b[39m)\n  ammonite.$sess.cmd24$Helper.mapReduce(\u001b[32mcmd24.sc\u001b[39m:\u001b[32m2\u001b[39m)\n  ammonite.$sess.cmd24$Helper.mapReduce(\u001b[32mcmd24.sc\u001b[39m:\u001b[32m2\u001b[39m)\n  ammonite.$sess.cmd24$Helper.mapReduce(\u001b[32mcmd24.sc\u001b[39m:\u001b[32m2\u001b[39m)\n  ammonite.$sess.cmd24$Helper.mapReduce(\u001b[32mcmd24.sc\u001b[39m:\u001b[32m2\u001b[39m)\n  ammonite.$sess.cmd24$Helper.mapReduce(\u001b[32mcmd24.sc\u001b[39m:\u001b[32m2\u001b[39m)\n  ammonite.$sess.cmd24$Helper.mapReduce(\u001b[32mcmd24.sc\u001b[39m:\u001b[32m2\u001b[39m)\n  ammonite.$sess.cmd24$Helper.mapReduce(\u001b[32mcmd24.sc\u001b[39m:\u001b[32m2\u001b[39m)\n  ammonite.$sess.cmd24$Helper.mapReduce(\u001b[32mcmd24.sc\u001b[39m:\u001b[32m2\u001b[39m)\n  ammonite.$sess.cmd24$Helper.mapReduce(\u001b[32mcmd24.sc\u001b[39m:\u001b[32m2\u001b[39m)\n  ammonite.$sess.cmd24$Helper.mapReduce(\u001b[32mcmd24.sc\u001b[39m:\u001b[32m2\u001b[39m)\n  ammonite.$sess.cmd24$Helper.mapReduce(\u001b[32mcmd24.sc\u001b[39m:\u001b[32m2\u001b[39m)\n  ammonite.$sess.cmd24$Helper.mapReduce(\u001b[32mcmd24.sc\u001b[39m:\u001b[32m2\u001b[39m)\n  ammonite.$sess.cmd24$Helper.mapReduce(\u001b[32mcmd24.sc\u001b[39m:\u001b[32m2\u001b[39m)\n  ammonite.$sess.cmd24$Helper.mapReduce(\u001b[32mcmd24.sc\u001b[39m:\u001b[32m2\u001b[39m)\n  ammonite.$sess.cmd24$Helper.mapReduce(\u001b[32mcmd24.sc\u001b[39m:\u001b[32m2\u001b[39m)\n  ammonite.$sess.cmd24$Helper.mapReduce(\u001b[32mcmd24.sc\u001b[39m:\u001b[32m2\u001b[39m)\n  ammonite.$sess.cmd24$Helper.mapReduce(\u001b[32mcmd24.sc\u001b[39m:\u001b[32m2\u001b[39m)\n  ammonite.$sess.cmd24$Helper.mapReduce(\u001b[32mcmd24.sc\u001b[39m:\u001b[32m2\u001b[39m)\n  ammonite.$sess.cmd24$Helper.mapReduce(\u001b[32mcmd24.sc\u001b[39m:\u001b[32m2\u001b[39m)\n  ammonite.$sess.cmd24$Helper.mapReduce(\u001b[32mcmd24.sc\u001b[39m:\u001b[32m2\u001b[39m)\n  ammonite.$sess.cmd24$Helper.mapReduce(\u001b[32mcmd24.sc\u001b[39m:\u001b[32m2\u001b[39m)\n  ammonite.$sess.cmd24$Helper.mapReduce(\u001b[32mcmd24.sc\u001b[39m:\u001b[32m2\u001b[39m)\n  ammonite.$sess.cmd24$Helper.mapReduce(\u001b[32mcmd24.sc\u001b[39m:\u001b[32m2\u001b[39m)\n  ammonite.$sess.cmd24$Helper.mapReduce(\u001b[32mcmd24.sc\u001b[39m:\u001b[32m2\u001b[39m)\n  ammonite.$sess.cmd24$Helper.mapReduce(\u001b[32mcmd24.sc\u001b[39m:\u001b[32m2\u001b[39m)\n  ammonite.$sess.cmd24$Helper.mapReduce(\u001b[32mcmd24.sc\u001b[39m:\u001b[32m2\u001b[39m)\n  ammonite.$sess.cmd24$Helper.mapReduce(\u001b[32mcmd24.sc\u001b[39m:\u001b[32m2\u001b[39m)\n  ammonite.$sess.cmd24$Helper.mapReduce(\u001b[32mcmd24.sc\u001b[39m:\u001b[32m2\u001b[39m)\n  ammonite.$sess.cmd24$Helper.mapReduce(\u001b[32mcmd24.sc\u001b[39m:\u001b[32m2\u001b[39m)\n  ammonite.$sess.cmd24$Helper.mapReduce(\u001b[32mcmd24.sc\u001b[39m:\u001b[32m2\u001b[39m)\n  ammonite.$sess.cmd24$Helper.mapReduce(\u001b[32mcmd24.sc\u001b[39m:\u001b[32m2\u001b[39m)\n  ammonite.$sess.cmd24$Helper.mapReduce(\u001b[32mcmd24.sc\u001b[39m:\u001b[32m2\u001b[39m)\n  ammonite.$sess.cmd24$Helper.mapReduce(\u001b[32mcmd24.sc\u001b[39m:\u001b[32m2\u001b[39m)\n  ammonite.$sess.cmd24$Helper.mapReduce(\u001b[32mcmd24.sc\u001b[39m:\u001b[32m2\u001b[39m)\n  ammonite.$sess.cmd24$Helper.mapReduce(\u001b[32mcmd24.sc\u001b[39m:\u001b[32m2\u001b[39m)\n  ammonite.$sess.cmd24$Helper.mapReduce(\u001b[32mcmd24.sc\u001b[39m:\u001b[32m2\u001b[39m)\n  ammonite.$sess.cmd24$Helper.mapReduce(\u001b[32mcmd24.sc\u001b[39m:\u001b[32m2\u001b[39m)\n  ammonite.$sess.cmd24$Helper.mapReduce(\u001b[32mcmd24.sc\u001b[39m:\u001b[32m2\u001b[39m)\n  ammonite.$sess.cmd24$Helper.mapReduce(\u001b[32mcmd24.sc\u001b[39m:\u001b[32m2\u001b[39m)\n  ammonite.$sess.cmd24$Helper.mapReduce(\u001b[32mcmd24.sc\u001b[39m:\u001b[32m2\u001b[39m)\n  ammonite.$sess.cmd24$Helper.mapReduce(\u001b[32mcmd24.sc\u001b[39m:\u001b[32m2\u001b[39m)\n  ammonite.$sess.cmd24$Helper.mapReduce(\u001b[32mcmd24.sc\u001b[39m:\u001b[32m2\u001b[39m)\n  ammonite.$sess.cmd24$Helper.mapReduce(\u001b[32mcmd24.sc\u001b[39m:\u001b[32m2\u001b[39m)\n  ammonite.$sess.cmd24$Helper.mapReduce(\u001b[32mcmd24.sc\u001b[39m:\u001b[32m2\u001b[39m)\n  ammonite.$sess.cmd24$Helper.mapReduce(\u001b[32mcmd24.sc\u001b[39m:\u001b[32m2\u001b[39m)\n  ammonite.$sess.cmd24$Helper.mapReduce(\u001b[32mcmd24.sc\u001b[39m:\u001b[32m2\u001b[39m)\n  ammonite.$sess.cmd24$Helper.mapReduce(\u001b[32mcmd24.sc\u001b[39m:\u001b[32m2\u001b[39m)\n  ammonite.$sess.cmd24$Helper.mapReduce(\u001b[32mcmd24.sc\u001b[39m:\u001b[32m2\u001b[39m)\n  ammonite.$sess.cmd24$Helper.mapReduce(\u001b[32mcmd24.sc\u001b[39m:\u001b[32m2\u001b[39m)\n  ammonite.$sess.cmd24$Helper.mapReduce(\u001b[32mcmd24.sc\u001b[39m:\u001b[32m2\u001b[39m)\n  ammonite.$sess.cmd24$Helper.mapReduce(\u001b[32mcmd24.sc\u001b[39m:\u001b[32m2\u001b[39m)\n  ammonite.$sess.cmd24$Helper.mapReduce(\u001b[32mcmd24.sc\u001b[39m:\u001b[32m2\u001b[39m)\n  ammonite.$sess.cmd24$Helper.mapReduce(\u001b[32mcmd24.sc\u001b[39m:\u001b[32m2\u001b[39m)\n  ammonite.$sess.cmd24$Helper.mapReduce(\u001b[32mcmd24.sc\u001b[39m:\u001b[32m2\u001b[39m)\n  ammonite.$sess.cmd24$Helper.mapReduce(\u001b[32mcmd24.sc\u001b[39m:\u001b[32m2\u001b[39m)\n  ammonite.$sess.cmd24$Helper.mapReduce(\u001b[32mcmd24.sc\u001b[39m:\u001b[32m2\u001b[39m)\n  ammonite.$sess.cmd24$Helper.mapReduce(\u001b[32mcmd24.sc\u001b[39m:\u001b[32m2\u001b[39m)\n  ammonite.$sess.cmd24$Helper.mapReduce(\u001b[32mcmd24.sc\u001b[39m:\u001b[32m2\u001b[39m)\n  ammonite.$sess.cmd24$Helper.mapReduce(\u001b[32mcmd24.sc\u001b[39m:\u001b[32m2\u001b[39m)\n  ammonite.$sess.cmd24$Helper.mapReduce(\u001b[32mcmd24.sc\u001b[39m:\u001b[32m2\u001b[39m)\n  ammonite.$sess.cmd24$Helper.mapReduce(\u001b[32mcmd24.sc\u001b[39m:\u001b[32m2\u001b[39m)\n  ammonite.$sess.cmd24$Helper.mapReduce(\u001b[32mcmd24.sc\u001b[39m:\u001b[32m2\u001b[39m)\n  ammonite.$sess.cmd24$Helper.mapReduce(\u001b[32mcmd24.sc\u001b[39m:\u001b[32m2\u001b[39m)\n  ammonite.$sess.cmd24$Helper.mapReduce(\u001b[32mcmd24.sc\u001b[39m:\u001b[32m2\u001b[39m)\n  ammonite.$sess.cmd24$Helper.mapReduce(\u001b[32mcmd24.sc\u001b[39m:\u001b[32m2\u001b[39m)\n  ammonite.$sess.cmd24$Helper.mapReduce(\u001b[32mcmd24.sc\u001b[39m:\u001b[32m2\u001b[39m)\n  ammonite.$sess.cmd24$Helper.mapReduce(\u001b[32mcmd24.sc\u001b[39m:\u001b[32m2\u001b[39m)\n  ammonite.$sess.cmd24$Helper.mapReduce(\u001b[32mcmd24.sc\u001b[39m:\u001b[32m2\u001b[39m)\n  ammonite.$sess.cmd24$Helper.mapReduce(\u001b[32mcmd24.sc\u001b[39m:\u001b[32m2\u001b[39m)\n  ammonite.$sess.cmd24$Helper.mapReduce(\u001b[32mcmd24.sc\u001b[39m:\u001b[32m2\u001b[39m)\n  ammonite.$sess.cmd24$Helper.mapReduce(\u001b[32mcmd24.sc\u001b[39m:\u001b[32m2\u001b[39m)\n  ammonite.$sess.cmd24$Helper.mapReduce(\u001b[32mcmd24.sc\u001b[39m:\u001b[32m2\u001b[39m)\n  ammonite.$sess.cmd24$Helper.mapReduce(\u001b[32mcmd24.sc\u001b[39m:\u001b[32m2\u001b[39m)\n  ammonite.$sess.cmd24$Helper.mapReduce(\u001b[32mcmd24.sc\u001b[39m:\u001b[32m2\u001b[39m)\n  ammonite.$sess.cmd24$Helper.mapReduce(\u001b[32mcmd24.sc\u001b[39m:\u001b[32m2\u001b[39m)\n  ammonite.$sess.cmd24$Helper.mapReduce(\u001b[32mcmd24.sc\u001b[39m:\u001b[32m2\u001b[39m)\n  ammonite.$sess.cmd24$Helper.mapReduce(\u001b[32mcmd24.sc\u001b[39m:\u001b[32m2\u001b[39m)\n  ammonite.$sess.cmd24$Helper.mapReduce(\u001b[32mcmd24.sc\u001b[39m:\u001b[32m2\u001b[39m)\n  ammonite.$sess.cmd24$Helper.mapReduce(\u001b[32mcmd24.sc\u001b[39m:\u001b[32m2\u001b[39m)\n  ammonite.$sess.cmd24$Helper.mapReduce(\u001b[32mcmd24.sc\u001b[39m:\u001b[32m2\u001b[39m)\n  ammonite.$sess.cmd24$Helper.mapReduce(\u001b[32mcmd24.sc\u001b[39m:\u001b[32m2\u001b[39m)\n  ammonite.$sess.cmd24$Helper.mapReduce(\u001b[32mcmd24.sc\u001b[39m:\u001b[32m2\u001b[39m)\n  ammonite.$sess.cmd24$Helper.mapReduce(\u001b[32mcmd24.sc\u001b[39m:\u001b[32m2\u001b[39m)\n  ammonite.$sess.cmd24$Helper.mapReduce(\u001b[32mcmd24.sc\u001b[39m:\u001b[32m2\u001b[39m)\n  ammonite.$sess.cmd24$Helper.mapReduce(\u001b[32mcmd24.sc\u001b[39m:\u001b[32m2\u001b[39m)\n  ammonite.$sess.cmd24$Helper.mapReduce(\u001b[32mcmd24.sc\u001b[39m:\u001b[32m2\u001b[39m)\n  ammonite.$sess.cmd24$Helper.mapReduce(\u001b[32mcmd24.sc\u001b[39m:\u001b[32m2\u001b[39m)\n  ammonite.$sess.cmd24$Helper.mapReduce(\u001b[32mcmd24.sc\u001b[39m:\u001b[32m2\u001b[39m)\n  ammonite.$sess.cmd24$Helper.mapReduce(\u001b[32mcmd24.sc\u001b[39m:\u001b[32m2\u001b[39m)\n  ammonite.$sess.cmd24$Helper.mapReduce(\u001b[32mcmd24.sc\u001b[39m:\u001b[32m2\u001b[39m)\n  ammonite.$sess.cmd24$Helper.mapReduce(\u001b[32mcmd24.sc\u001b[39m:\u001b[32m2\u001b[39m)\n  ammonite.$sess.cmd24$Helper.mapReduce(\u001b[32mcmd24.sc\u001b[39m:\u001b[32m2\u001b[39m)\n  ammonite.$sess.cmd24$Helper.mapReduce(\u001b[32mcmd24.sc\u001b[39m:\u001b[32m2\u001b[39m)\n  ammonite.$sess.cmd24$Helper.mapReduce(\u001b[32mcmd24.sc\u001b[39m:\u001b[32m2\u001b[39m)\n  ammonite.$sess.cmd24$Helper.mapReduce(\u001b[32mcmd24.sc\u001b[39m:\u001b[32m2\u001b[39m)\n  ammonite.$sess.cmd24$Helper.mapReduce(\u001b[32mcmd24.sc\u001b[39m:\u001b[32m2\u001b[39m)\n  ammonite.$sess.cmd24$Helper.mapReduce(\u001b[32mcmd24.sc\u001b[39m:\u001b[32m2\u001b[39m)\n  ammonite.$sess.cmd24$Helper.mapReduce(\u001b[32mcmd24.sc\u001b[39m:\u001b[32m2\u001b[39m)\n  ammonite.$sess.cmd24$Helper.mapReduce(\u001b[32mcmd24.sc\u001b[39m:\u001b[32m2\u001b[39m)\n  ammonite.$sess.cmd24$Helper.mapReduce(\u001b[32mcmd24.sc\u001b[39m:\u001b[32m2\u001b[39m)\n  ammonite.$sess.cmd24$Helper.mapReduce(\u001b[32mcmd24.sc\u001b[39m:\u001b[32m2\u001b[39m)\n  ammonite.$sess.cmd24$Helper.mapReduce(\u001b[32mcmd24.sc\u001b[39m:\u001b[32m2\u001b[39m)\n  ammonite.$sess.cmd24$Helper.mapReduce(\u001b[32mcmd24.sc\u001b[39m:\u001b[32m2\u001b[39m)\n  ammonite.$sess.cmd24$Helper.mapReduce(\u001b[32mcmd24.sc\u001b[39m:\u001b[32m2\u001b[39m)\n  ammonite.$sess.cmd24$Helper.mapReduce(\u001b[32mcmd24.sc\u001b[39m:\u001b[32m2\u001b[39m)\n  ammonite.$sess.cmd24$Helper.mapReduce(\u001b[32mcmd24.sc\u001b[39m:\u001b[32m2\u001b[39m)\n  ammonite.$sess.cmd24$Helper.mapReduce(\u001b[32mcmd24.sc\u001b[39m:\u001b[32m2\u001b[39m)\n  ammonite.$sess.cmd24$Helper.mapReduce(\u001b[32mcmd24.sc\u001b[39m:\u001b[32m2\u001b[39m)\n  ammonite.$sess.cmd24$Helper.mapReduce(\u001b[32mcmd24.sc\u001b[39m:\u001b[32m2\u001b[39m)\n  ammonite.$sess.cmd24$Helper.mapReduce(\u001b[32mcmd24.sc\u001b[39m:\u001b[32m2\u001b[39m)\n  ammonite.$sess.cmd24$Helper.mapReduce(\u001b[32mcmd24.sc\u001b[39m:\u001b[32m2\u001b[39m)\n  ammonite.$sess.cmd24$Helper.mapReduce(\u001b[32mcmd24.sc\u001b[39m:\u001b[32m2\u001b[39m)\n  ammonite.$sess.cmd24$Helper.mapReduce(\u001b[32mcmd24.sc\u001b[39m:\u001b[32m2\u001b[39m)\n  ammonite.$sess.cmd24$Helper.mapReduce(\u001b[32mcmd24.sc\u001b[39m:\u001b[32m2\u001b[39m)\n  ammonite.$sess.cmd24$Helper.mapReduce(\u001b[32mcmd24.sc\u001b[39m:\u001b[32m2\u001b[39m)\n  ammonite.$sess.cmd24$Helper.mapReduce(\u001b[32mcmd24.sc\u001b[39m:\u001b[32m2\u001b[39m)\n  ammonite.$sess.cmd24$Helper.mapReduce(\u001b[32mcmd24.sc\u001b[39m:\u001b[32m2\u001b[39m)\n  ammonite.$sess.cmd24$Helper.mapReduce(\u001b[32mcmd24.sc\u001b[39m:\u001b[32m2\u001b[39m)\n  ammonite.$sess.cmd24$Helper.mapReduce(\u001b[32mcmd24.sc\u001b[39m:\u001b[32m2\u001b[39m)\n  ammonite.$sess.cmd24$Helper.mapReduce(\u001b[32mcmd24.sc\u001b[39m:\u001b[32m2\u001b[39m)\n  ammonite.$sess.cmd24$Helper.mapReduce(\u001b[32mcmd24.sc\u001b[39m:\u001b[32m2\u001b[39m)\n  ammonite.$sess.cmd24$Helper.mapReduce(\u001b[32mcmd24.sc\u001b[39m:\u001b[32m2\u001b[39m)\n  ammonite.$sess.cmd24$Helper.mapReduce(\u001b[32mcmd24.sc\u001b[39m:\u001b[32m2\u001b[39m)\n  ammonite.$sess.cmd24$Helper.mapReduce(\u001b[32mcmd24.sc\u001b[39m:\u001b[32m2\u001b[39m)\n  ammonite.$sess.cmd24$Helper.mapReduce(\u001b[32mcmd24.sc\u001b[39m:\u001b[32m2\u001b[39m)\n  ammonite.$sess.cmd24$Helper.mapReduce(\u001b[32mcmd24.sc\u001b[39m:\u001b[32m2\u001b[39m)\n  ammonite.$sess.cmd24$Helper.mapReduce(\u001b[32mcmd24.sc\u001b[39m:\u001b[32m2\u001b[39m)\n  ammonite.$sess.cmd24$Helper.mapReduce(\u001b[32mcmd24.sc\u001b[39m:\u001b[32m2\u001b[39m)\n  ammonite.$sess.cmd24$Helper.mapReduce(\u001b[32mcmd24.sc\u001b[39m:\u001b[32m2\u001b[39m)\n  ammonite.$sess.cmd24$Helper.mapReduce(\u001b[32mcmd24.sc\u001b[39m:\u001b[32m2\u001b[39m)\n  ammonite.$sess.cmd24$Helper.mapReduce(\u001b[32mcmd24.sc\u001b[39m:\u001b[32m2\u001b[39m)\n  ammonite.$sess.cmd24$Helper.mapReduce(\u001b[32mcmd24.sc\u001b[39m:\u001b[32m2\u001b[39m)\n  ammonite.$sess.cmd24$Helper.mapReduce(\u001b[32mcmd24.sc\u001b[39m:\u001b[32m2\u001b[39m)\n  ammonite.$sess.cmd24$Helper.mapReduce(\u001b[32mcmd24.sc\u001b[39m:\u001b[32m2\u001b[39m)\n  ammonite.$sess.cmd24$Helper.mapReduce(\u001b[32mcmd24.sc\u001b[39m:\u001b[32m2\u001b[39m)\n  ammonite.$sess.cmd24$Helper.mapReduce(\u001b[32mcmd24.sc\u001b[39m:\u001b[32m2\u001b[39m)\n  ammonite.$sess.cmd24$Helper.mapReduce(\u001b[32mcmd24.sc\u001b[39m:\u001b[32m2\u001b[39m)\n  ammonite.$sess.cmd24$Helper.mapReduce(\u001b[32mcmd24.sc\u001b[39m:\u001b[32m2\u001b[39m)\n  ammonite.$sess.cmd24$Helper.mapReduce(\u001b[32mcmd24.sc\u001b[39m:\u001b[32m2\u001b[39m)\n  ammonite.$sess.cmd24$Helper.mapReduce(\u001b[32mcmd24.sc\u001b[39m:\u001b[32m2\u001b[39m)\n  ammonite.$sess.cmd24$Helper.mapReduce(\u001b[32mcmd24.sc\u001b[39m:\u001b[32m2\u001b[39m)\n  ammonite.$sess.cmd24$Helper.mapReduce(\u001b[32mcmd24.sc\u001b[39m:\u001b[32m2\u001b[39m)\n  ammonite.$sess.cmd24$Helper.mapReduce(\u001b[32mcmd24.sc\u001b[39m:\u001b[32m2\u001b[39m)\n  ammonite.$sess.cmd24$Helper.mapReduce(\u001b[32mcmd24.sc\u001b[39m:\u001b[32m2\u001b[39m)\n  ammonite.$sess.cmd24$Helper.mapReduce(\u001b[32mcmd24.sc\u001b[39m:\u001b[32m2\u001b[39m)\n  ammonite.$sess.cmd24$Helper.mapReduce(\u001b[32mcmd24.sc\u001b[39m:\u001b[32m2\u001b[39m)\n  ammonite.$sess.cmd24$Helper.mapReduce(\u001b[32mcmd24.sc\u001b[39m:\u001b[32m2\u001b[39m)\n  ammonite.$sess.cmd24$Helper.mapReduce(\u001b[32mcmd24.sc\u001b[39m:\u001b[32m2\u001b[39m)\n  ammonite.$sess.cmd24$Helper.mapReduce(\u001b[32mcmd24.sc\u001b[39m:\u001b[32m2\u001b[39m)\n  ammonite.$sess.cmd24$Helper.mapReduce(\u001b[32mcmd24.sc\u001b[39m:\u001b[32m2\u001b[39m)\n  ammonite.$sess.cmd24$Helper.mapReduce(\u001b[32mcmd24.sc\u001b[39m:\u001b[32m2\u001b[39m)\n  ammonite.$sess.cmd24$Helper.mapReduce(\u001b[32mcmd24.sc\u001b[39m:\u001b[32m2\u001b[39m)\n  ammonite.$sess.cmd24$Helper.mapReduce(\u001b[32mcmd24.sc\u001b[39m:\u001b[32m2\u001b[39m)\n  ammonite.$sess.cmd24$Helper.mapReduce(\u001b[32mcmd24.sc\u001b[39m:\u001b[32m2\u001b[39m)\n  ammonite.$sess.cmd24$Helper.mapReduce(\u001b[32mcmd24.sc\u001b[39m:\u001b[32m2\u001b[39m)\n  ammonite.$sess.cmd24$Helper.mapReduce(\u001b[32mcmd24.sc\u001b[39m:\u001b[32m2\u001b[39m)\n  ammonite.$sess.cmd24$Helper.mapReduce(\u001b[32mcmd24.sc\u001b[39m:\u001b[32m2\u001b[39m)\n  ammonite.$sess.cmd24$Helper.mapReduce(\u001b[32mcmd24.sc\u001b[39m:\u001b[32m2\u001b[39m)\n  ammonite.$sess.cmd24$Helper.mapReduce(\u001b[32mcmd24.sc\u001b[39m:\u001b[32m2\u001b[39m)\n  ammonite.$sess.cmd24$Helper.mapReduce(\u001b[32mcmd24.sc\u001b[39m:\u001b[32m2\u001b[39m)\n  ammonite.$sess.cmd24$Helper.mapReduce(\u001b[32mcmd24.sc\u001b[39m:\u001b[32m2\u001b[39m)\n  ammonite.$sess.cmd24$Helper.mapReduce(\u001b[32mcmd24.sc\u001b[39m:\u001b[32m2\u001b[39m)\n  ammonite.$sess.cmd24$Helper.mapReduce(\u001b[32mcmd24.sc\u001b[39m:\u001b[32m2\u001b[39m)\n  ammonite.$sess.cmd24$Helper.mapReduce(\u001b[32mcmd24.sc\u001b[39m:\u001b[32m2\u001b[39m)\n  ammonite.$sess.cmd24$Helper.mapReduce(\u001b[32mcmd24.sc\u001b[39m:\u001b[32m2\u001b[39m)\n  ammonite.$sess.cmd24$Helper.mapReduce(\u001b[32mcmd24.sc\u001b[39m:\u001b[32m2\u001b[39m)\n  ammonite.$sess.cmd24$Helper.mapReduce(\u001b[32mcmd24.sc\u001b[39m:\u001b[32m2\u001b[39m)\n  ammonite.$sess.cmd24$Helper.mapReduce(\u001b[32mcmd24.sc\u001b[39m:\u001b[32m2\u001b[39m)\n  ammonite.$sess.cmd24$Helper.mapReduce(\u001b[32mcmd24.sc\u001b[39m:\u001b[32m2\u001b[39m)\n  ammonite.$sess.cmd24$Helper.mapReduce(\u001b[32mcmd24.sc\u001b[39m:\u001b[32m2\u001b[39m)\n  ammonite.$sess.cmd24$Helper.mapReduce(\u001b[32mcmd24.sc\u001b[39m:\u001b[32m2\u001b[39m)\n  ammonite.$sess.cmd24$Helper.mapReduce(\u001b[32mcmd24.sc\u001b[39m:\u001b[32m2\u001b[39m)\n  ammonite.$sess.cmd24$Helper.mapReduce(\u001b[32mcmd24.sc\u001b[39m:\u001b[32m2\u001b[39m)\n  ammonite.$sess.cmd24$Helper.mapReduce(\u001b[32mcmd24.sc\u001b[39m:\u001b[32m2\u001b[39m)\n  ammonite.$sess.cmd24$Helper.mapReduce(\u001b[32mcmd24.sc\u001b[39m:\u001b[32m2\u001b[39m)\n  ammonite.$sess.cmd24$Helper.mapReduce(\u001b[32mcmd24.sc\u001b[39m:\u001b[32m2\u001b[39m)\n  ammonite.$sess.cmd24$Helper.mapReduce(\u001b[32mcmd24.sc\u001b[39m:\u001b[32m2\u001b[39m)\n  ammonite.$sess.cmd24$Helper.mapReduce(\u001b[32mcmd24.sc\u001b[39m:\u001b[32m2\u001b[39m)\n  ammonite.$sess.cmd24$Helper.mapReduce(\u001b[32mcmd24.sc\u001b[39m:\u001b[32m2\u001b[39m)\n  ammonite.$sess.cmd24$Helper.mapReduce(\u001b[32mcmd24.sc\u001b[39m:\u001b[32m2\u001b[39m)\n  ammonite.$sess.cmd24$Helper.mapReduce(\u001b[32mcmd24.sc\u001b[39m:\u001b[32m2\u001b[39m)\n  ammonite.$sess.cmd24$Helper.mapReduce(\u001b[32mcmd24.sc\u001b[39m:\u001b[32m2\u001b[39m)\n  ammonite.$sess.cmd24$Helper.mapReduce(\u001b[32mcmd24.sc\u001b[39m:\u001b[32m2\u001b[39m)\n  ammonite.$sess.cmd24$Helper.mapReduce(\u001b[32mcmd24.sc\u001b[39m:\u001b[32m2\u001b[39m)\n  ammonite.$sess.cmd24$Helper.mapReduce(\u001b[32mcmd24.sc\u001b[39m:\u001b[32m2\u001b[39m)\n  ammonite.$sess.cmd24$Helper.mapReduce(\u001b[32mcmd24.sc\u001b[39m:\u001b[32m2\u001b[39m)\n  ammonite.$sess.cmd24$Helper.mapReduce(\u001b[32mcmd24.sc\u001b[39m:\u001b[32m2\u001b[39m)\n  ammonite.$sess.cmd24$Helper.mapReduce(\u001b[32mcmd24.sc\u001b[39m:\u001b[32m2\u001b[39m)\n  ammonite.$sess.cmd24$Helper.mapReduce(\u001b[32mcmd24.sc\u001b[39m:\u001b[32m2\u001b[39m)\n  ammonite.$sess.cmd24$Helper.mapReduce(\u001b[32mcmd24.sc\u001b[39m:\u001b[32m2\u001b[39m)\n  ammonite.$sess.cmd24$Helper.mapReduce(\u001b[32mcmd24.sc\u001b[39m:\u001b[32m2\u001b[39m)\n  ammonite.$sess.cmd24$Helper.mapReduce(\u001b[32mcmd24.sc\u001b[39m:\u001b[32m2\u001b[39m)\n  ammonite.$sess.cmd24$Helper.mapReduce(\u001b[32mcmd24.sc\u001b[39m:\u001b[32m2\u001b[39m)\n  ammonite.$sess.cmd24$Helper.mapReduce(\u001b[32mcmd24.sc\u001b[39m:\u001b[32m2\u001b[39m)\n  ammonite.$sess.cmd24$Helper.mapReduce(\u001b[32mcmd24.sc\u001b[39m:\u001b[32m2\u001b[39m)\n  ammonite.$sess.cmd24$Helper.mapReduce(\u001b[32mcmd24.sc\u001b[39m:\u001b[32m2\u001b[39m)\n  ammonite.$sess.cmd24$Helper.mapReduce(\u001b[32mcmd24.sc\u001b[39m:\u001b[32m2\u001b[39m)\n  ammonite.$sess.cmd24$Helper.mapReduce(\u001b[32mcmd24.sc\u001b[39m:\u001b[32m2\u001b[39m)\n  ammonite.$sess.cmd24$Helper.mapReduce(\u001b[32mcmd24.sc\u001b[39m:\u001b[32m2\u001b[39m)\n  ammonite.$sess.cmd24$Helper.mapReduce(\u001b[32mcmd24.sc\u001b[39m:\u001b[32m2\u001b[39m)\n  ammonite.$sess.cmd24$Helper.mapReduce(\u001b[32mcmd24.sc\u001b[39m:\u001b[32m2\u001b[39m)\n  ammonite.$sess.cmd24$Helper.mapReduce(\u001b[32mcmd24.sc\u001b[39m:\u001b[32m2\u001b[39m)\n  ammonite.$sess.cmd24$Helper.mapReduce(\u001b[32mcmd24.sc\u001b[39m:\u001b[32m2\u001b[39m)\n  ammonite.$sess.cmd24$Helper.mapReduce(\u001b[32mcmd24.sc\u001b[39m:\u001b[32m2\u001b[39m)\n  ammonite.$sess.cmd24$Helper.mapReduce(\u001b[32mcmd24.sc\u001b[39m:\u001b[32m2\u001b[39m)\n  ammonite.$sess.cmd24$Helper.mapReduce(\u001b[32mcmd24.sc\u001b[39m:\u001b[32m2\u001b[39m)\n  ammonite.$sess.cmd24$Helper.mapReduce(\u001b[32mcmd24.sc\u001b[39m:\u001b[32m2\u001b[39m)\n  ammonite.$sess.cmd24$Helper.mapReduce(\u001b[32mcmd24.sc\u001b[39m:\u001b[32m2\u001b[39m)\n  ammonite.$sess.cmd24$Helper.mapReduce(\u001b[32mcmd24.sc\u001b[39m:\u001b[32m2\u001b[39m)\n  ammonite.$sess.cmd24$Helper.mapReduce(\u001b[32mcmd24.sc\u001b[39m:\u001b[32m2\u001b[39m)\n  ammonite.$sess.cmd24$Helper.mapReduce(\u001b[32mcmd24.sc\u001b[39m:\u001b[32m2\u001b[39m)\n  ammonite.$sess.cmd24$Helper.mapReduce(\u001b[32mcmd24.sc\u001b[39m:\u001b[32m2\u001b[39m)\n  ammonite.$sess.cmd24$Helper.mapReduce(\u001b[32mcmd24.sc\u001b[39m:\u001b[32m2\u001b[39m)\n  ammonite.$sess.cmd24$Helper.mapReduce(\u001b[32mcmd24.sc\u001b[39m:\u001b[32m2\u001b[39m)\n  ammonite.$sess.cmd24$Helper.mapReduce(\u001b[32mcmd24.sc\u001b[39m:\u001b[32m2\u001b[39m)\n  ammonite.$sess.cmd24$Helper.mapReduce(\u001b[32mcmd24.sc\u001b[39m:\u001b[32m2\u001b[39m)\n  ammonite.$sess.cmd24$Helper.mapReduce(\u001b[32mcmd24.sc\u001b[39m:\u001b[32m2\u001b[39m)\n  ammonite.$sess.cmd24$Helper.mapReduce(\u001b[32mcmd24.sc\u001b[39m:\u001b[32m2\u001b[39m)\n  ammonite.$sess.cmd24$Helper.mapReduce(\u001b[32mcmd24.sc\u001b[39m:\u001b[32m2\u001b[39m)\n  ammonite.$sess.cmd24$Helper.mapReduce(\u001b[32mcmd24.sc\u001b[39m:\u001b[32m2\u001b[39m)\n  ammonite.$sess.cmd24$Helper.mapReduce(\u001b[32mcmd24.sc\u001b[39m:\u001b[32m2\u001b[39m)\n  ammonite.$sess.cmd24$Helper.mapReduce(\u001b[32mcmd24.sc\u001b[39m:\u001b[32m2\u001b[39m)\n  ammonite.$sess.cmd24$Helper.mapReduce(\u001b[32mcmd24.sc\u001b[39m:\u001b[32m2\u001b[39m)\n  ammonite.$sess.cmd24$Helper.mapReduce(\u001b[32mcmd24.sc\u001b[39m:\u001b[32m2\u001b[39m)\n  ammonite.$sess.cmd24$Helper.mapReduce(\u001b[32mcmd24.sc\u001b[39m:\u001b[32m2\u001b[39m)\n  ammonite.$sess.cmd24$Helper.mapReduce(\u001b[32mcmd24.sc\u001b[39m:\u001b[32m2\u001b[39m)\n  ammonite.$sess.cmd24$Helper.mapReduce(\u001b[32mcmd24.sc\u001b[39m:\u001b[32m2\u001b[39m)\n  ammonite.$sess.cmd24$Helper.mapReduce(\u001b[32mcmd24.sc\u001b[39m:\u001b[32m2\u001b[39m)\n  ammonite.$sess.cmd24$Helper.mapReduce(\u001b[32mcmd24.sc\u001b[39m:\u001b[32m2\u001b[39m)\n  ammonite.$sess.cmd24$Helper.mapReduce(\u001b[32mcmd24.sc\u001b[39m:\u001b[32m2\u001b[39m)\n  ammonite.$sess.cmd24$Helper.mapReduce(\u001b[32mcmd24.sc\u001b[39m:\u001b[32m2\u001b[39m)\n  ammonite.$sess.cmd24$Helper.mapReduce(\u001b[32mcmd24.sc\u001b[39m:\u001b[32m2\u001b[39m)\n  ammonite.$sess.cmd24$Helper.mapReduce(\u001b[32mcmd24.sc\u001b[39m:\u001b[32m2\u001b[39m)\n  ammonite.$sess.cmd24$Helper.mapReduce(\u001b[32mcmd24.sc\u001b[39m:\u001b[32m2\u001b[39m)\n  ammonite.$sess.cmd24$Helper.mapReduce(\u001b[32mcmd24.sc\u001b[39m:\u001b[32m2\u001b[39m)\n  ammonite.$sess.cmd24$Helper.mapReduce(\u001b[32mcmd24.sc\u001b[39m:\u001b[32m2\u001b[39m)\n  ammonite.$sess.cmd24$Helper.mapReduce(\u001b[32mcmd24.sc\u001b[39m:\u001b[32m2\u001b[39m)\n  ammonite.$sess.cmd24$Helper.mapReduce(\u001b[32mcmd24.sc\u001b[39m:\u001b[32m2\u001b[39m)\n  ammonite.$sess.cmd24$Helper.mapReduce(\u001b[32mcmd24.sc\u001b[39m:\u001b[32m2\u001b[39m)\n  ammonite.$sess.cmd24$Helper.mapReduce(\u001b[32mcmd24.sc\u001b[39m:\u001b[32m2\u001b[39m)\n  ammonite.$sess.cmd24$Helper.mapReduce(\u001b[32mcmd24.sc\u001b[39m:\u001b[32m2\u001b[39m)\n  ammonite.$sess.cmd24$Helper.mapReduce(\u001b[32mcmd24.sc\u001b[39m:\u001b[32m2\u001b[39m)\n  ammonite.$sess.cmd24$Helper.mapReduce(\u001b[32mcmd24.sc\u001b[39m:\u001b[32m2\u001b[39m)\n  ammonite.$sess.cmd24$Helper.mapReduce(\u001b[32mcmd24.sc\u001b[39m:\u001b[32m2\u001b[39m)\n  ammonite.$sess.cmd24$Helper.mapReduce(\u001b[32mcmd24.sc\u001b[39m:\u001b[32m2\u001b[39m)\n  ammonite.$sess.cmd24$Helper.mapReduce(\u001b[32mcmd24.sc\u001b[39m:\u001b[32m2\u001b[39m)\n  ammonite.$sess.cmd24$Helper.mapReduce(\u001b[32mcmd24.sc\u001b[39m:\u001b[32m2\u001b[39m)\n  ammonite.$sess.cmd24$Helper.mapReduce(\u001b[32mcmd24.sc\u001b[39m:\u001b[32m2\u001b[39m)\n  ammonite.$sess.cmd24$Helper.mapReduce(\u001b[32mcmd24.sc\u001b[39m:\u001b[32m2\u001b[39m)\n  ammonite.$sess.cmd24$Helper.mapReduce(\u001b[32mcmd24.sc\u001b[39m:\u001b[32m2\u001b[39m)\n  ammonite.$sess.cmd24$Helper.mapReduce(\u001b[32mcmd24.sc\u001b[39m:\u001b[32m2\u001b[39m)\n  ammonite.$sess.cmd24$Helper.mapReduce(\u001b[32mcmd24.sc\u001b[39m:\u001b[32m2\u001b[39m)\n  ammonite.$sess.cmd24$Helper.mapReduce(\u001b[32mcmd24.sc\u001b[39m:\u001b[32m2\u001b[39m)\n  ammonite.$sess.cmd24$Helper.mapReduce(\u001b[32mcmd24.sc\u001b[39m:\u001b[32m2\u001b[39m)\n  ammonite.$sess.cmd24$Helper.mapReduce(\u001b[32mcmd24.sc\u001b[39m:\u001b[32m2\u001b[39m)\n  ammonite.$sess.cmd24$Helper.mapReduce(\u001b[32mcmd24.sc\u001b[39m:\u001b[32m2\u001b[39m)\n  ammonite.$sess.cmd24$Helper.mapReduce(\u001b[32mcmd24.sc\u001b[39m:\u001b[32m2\u001b[39m)\n  ammonite.$sess.cmd24$Helper.mapReduce(\u001b[32mcmd24.sc\u001b[39m:\u001b[32m2\u001b[39m)\n  ammonite.$sess.cmd24$Helper.mapReduce(\u001b[32mcmd24.sc\u001b[39m:\u001b[32m2\u001b[39m)\n  ammonite.$sess.cmd24$Helper.mapReduce(\u001b[32mcmd24.sc\u001b[39m:\u001b[32m2\u001b[39m)\n  ammonite.$sess.cmd24$Helper.mapReduce(\u001b[32mcmd24.sc\u001b[39m:\u001b[32m2\u001b[39m)\n  ammonite.$sess.cmd24$Helper.mapReduce(\u001b[32mcmd24.sc\u001b[39m:\u001b[32m2\u001b[39m)\n  ammonite.$sess.cmd24$Helper.mapReduce(\u001b[32mcmd24.sc\u001b[39m:\u001b[32m2\u001b[39m)\n  ammonite.$sess.cmd24$Helper.mapReduce(\u001b[32mcmd24.sc\u001b[39m:\u001b[32m2\u001b[39m)\n  ammonite.$sess.cmd24$Helper.mapReduce(\u001b[32mcmd24.sc\u001b[39m:\u001b[32m2\u001b[39m)\n  ammonite.$sess.cmd24$Helper.mapReduce(\u001b[32mcmd24.sc\u001b[39m:\u001b[32m2\u001b[39m)\n  ammonite.$sess.cmd24$Helper.mapReduce(\u001b[32mcmd24.sc\u001b[39m:\u001b[32m2\u001b[39m)\n  ammonite.$sess.cmd24$Helper.mapReduce(\u001b[32mcmd24.sc\u001b[39m:\u001b[32m2\u001b[39m)\n  ammonite.$sess.cmd24$Helper.mapReduce(\u001b[32mcmd24.sc\u001b[39m:\u001b[32m2\u001b[39m)\n  ammonite.$sess.cmd24$Helper.mapReduce(\u001b[32mcmd24.sc\u001b[39m:\u001b[32m2\u001b[39m)\n  ammonite.$sess.cmd24$Helper.mapReduce(\u001b[32mcmd24.sc\u001b[39m:\u001b[32m2\u001b[39m)\n  ammonite.$sess.cmd24$Helper.mapReduce(\u001b[32mcmd24.sc\u001b[39m:\u001b[32m2\u001b[39m)\n  ammonite.$sess.cmd24$Helper.mapReduce(\u001b[32mcmd24.sc\u001b[39m:\u001b[32m2\u001b[39m)\n  ammonite.$sess.cmd24$Helper.mapReduce(\u001b[32mcmd24.sc\u001b[39m:\u001b[32m2\u001b[39m)\n  ammonite.$sess.cmd24$Helper.mapReduce(\u001b[32mcmd24.sc\u001b[39m:\u001b[32m2\u001b[39m)\n  ammonite.$sess.cmd24$Helper.mapReduce(\u001b[32mcmd24.sc\u001b[39m:\u001b[32m2\u001b[39m)\n  ammonite.$sess.cmd24$Helper.mapReduce(\u001b[32mcmd24.sc\u001b[39m:\u001b[32m2\u001b[39m)\n  ammonite.$sess.cmd24$Helper.mapReduce(\u001b[32mcmd24.sc\u001b[39m:\u001b[32m2\u001b[39m)\n  ammonite.$sess.cmd24$Helper.mapReduce(\u001b[32mcmd24.sc\u001b[39m:\u001b[32m2\u001b[39m)\n  ammonite.$sess.cmd24$Helper.mapReduce(\u001b[32mcmd24.sc\u001b[39m:\u001b[32m2\u001b[39m)\n  ammonite.$sess.cmd24$Helper.mapReduce(\u001b[32mcmd24.sc\u001b[39m:\u001b[32m2\u001b[39m)\n  ammonite.$sess.cmd24$Helper.mapReduce(\u001b[32mcmd24.sc\u001b[39m:\u001b[32m2\u001b[39m)\n  ammonite.$sess.cmd24$Helper.mapReduce(\u001b[32mcmd24.sc\u001b[39m:\u001b[32m2\u001b[39m)\n  ammonite.$sess.cmd24$Helper.mapReduce(\u001b[32mcmd24.sc\u001b[39m:\u001b[32m2\u001b[39m)\n  ammonite.$sess.cmd24$Helper.mapReduce(\u001b[32mcmd24.sc\u001b[39m:\u001b[32m2\u001b[39m)\n  ammonite.$sess.cmd24$Helper.mapReduce(\u001b[32mcmd24.sc\u001b[39m:\u001b[32m2\u001b[39m)\n  ammonite.$sess.cmd24$Helper.mapReduce(\u001b[32mcmd24.sc\u001b[39m:\u001b[32m2\u001b[39m)\n  ammonite.$sess.cmd24$Helper.mapReduce(\u001b[32mcmd24.sc\u001b[39m:\u001b[32m2\u001b[39m)\n  ammonite.$sess.cmd24$Helper.mapReduce(\u001b[32mcmd24.sc\u001b[39m:\u001b[32m2\u001b[39m)\n  ammonite.$sess.cmd24$Helper.mapReduce(\u001b[32mcmd24.sc\u001b[39m:\u001b[32m2\u001b[39m)\n  ammonite.$sess.cmd24$Helper.mapReduce(\u001b[32mcmd24.sc\u001b[39m:\u001b[32m2\u001b[39m)\n  ammonite.$sess.cmd24$Helper.mapReduce(\u001b[32mcmd24.sc\u001b[39m:\u001b[32m2\u001b[39m)\n  ammonite.$sess.cmd24$Helper.mapReduce(\u001b[32mcmd24.sc\u001b[39m:\u001b[32m2\u001b[39m)\n  ammonite.$sess.cmd24$Helper.mapReduce(\u001b[32mcmd24.sc\u001b[39m:\u001b[32m2\u001b[39m)\n  ammonite.$sess.cmd24$Helper.mapReduce(\u001b[32mcmd24.sc\u001b[39m:\u001b[32m2\u001b[39m)\n  ammonite.$sess.cmd24$Helper.mapReduce(\u001b[32mcmd24.sc\u001b[39m:\u001b[32m2\u001b[39m)\n  ammonite.$sess.cmd24$Helper.mapReduce(\u001b[32mcmd24.sc\u001b[39m:\u001b[32m2\u001b[39m)\n  ammonite.$sess.cmd24$Helper.mapReduce(\u001b[32mcmd24.sc\u001b[39m:\u001b[32m2\u001b[39m)\n  ammonite.$sess.cmd24$Helper.mapReduce(\u001b[32mcmd24.sc\u001b[39m:\u001b[32m2\u001b[39m)\n  ammonite.$sess.cmd24$Helper.mapReduce(\u001b[32mcmd24.sc\u001b[39m:\u001b[32m2\u001b[39m)\n  ammonite.$sess.cmd24$Helper.mapReduce(\u001b[32mcmd24.sc\u001b[39m:\u001b[32m2\u001b[39m)\n  ammonite.$sess.cmd24$Helper.mapReduce(\u001b[32mcmd24.sc\u001b[39m:\u001b[32m2\u001b[39m)\n  ammonite.$sess.cmd24$Helper.mapReduce(\u001b[32mcmd24.sc\u001b[39m:\u001b[32m2\u001b[39m)\n  ammonite.$sess.cmd24$Helper.mapReduce(\u001b[32mcmd24.sc\u001b[39m:\u001b[32m2\u001b[39m)\n  ammonite.$sess.cmd24$Helper.mapReduce(\u001b[32mcmd24.sc\u001b[39m:\u001b[32m2\u001b[39m)\n  ammonite.$sess.cmd24$Helper.mapReduce(\u001b[32mcmd24.sc\u001b[39m:\u001b[32m2\u001b[39m)\n  ammonite.$sess.cmd24$Helper.mapReduce(\u001b[32mcmd24.sc\u001b[39m:\u001b[32m2\u001b[39m)\n  ammonite.$sess.cmd24$Helper.mapReduce(\u001b[32mcmd24.sc\u001b[39m:\u001b[32m2\u001b[39m)\n  ammonite.$sess.cmd24$Helper.mapReduce(\u001b[32mcmd24.sc\u001b[39m:\u001b[32m2\u001b[39m)\n  ammonite.$sess.cmd24$Helper.mapReduce(\u001b[32mcmd24.sc\u001b[39m:\u001b[32m2\u001b[39m)\n  ammonite.$sess.cmd24$Helper.mapReduce(\u001b[32mcmd24.sc\u001b[39m:\u001b[32m2\u001b[39m)\n  ammonite.$sess.cmd24$Helper.mapReduce(\u001b[32mcmd24.sc\u001b[39m:\u001b[32m2\u001b[39m)\n  ammonite.$sess.cmd24$Helper.mapReduce(\u001b[32mcmd24.sc\u001b[39m:\u001b[32m2\u001b[39m)\n  ammonite.$sess.cmd24$Helper.mapReduce(\u001b[32mcmd24.sc\u001b[39m:\u001b[32m2\u001b[39m)\n  ammonite.$sess.cmd24$Helper.mapReduce(\u001b[32mcmd24.sc\u001b[39m:\u001b[32m2\u001b[39m)\n  ammonite.$sess.cmd24$Helper.mapReduce(\u001b[32mcmd24.sc\u001b[39m:\u001b[32m2\u001b[39m)\n  ammonite.$sess.cmd24$Helper.mapReduce(\u001b[32mcmd24.sc\u001b[39m:\u001b[32m2\u001b[39m)\n  ammonite.$sess.cmd24$Helper.mapReduce(\u001b[32mcmd24.sc\u001b[39m:\u001b[32m2\u001b[39m)\n  ammonite.$sess.cmd24$Helper.mapReduce(\u001b[32mcmd24.sc\u001b[39m:\u001b[32m2\u001b[39m)\n  ammonite.$sess.cmd24$Helper.mapReduce(\u001b[32mcmd24.sc\u001b[39m:\u001b[32m2\u001b[39m)\n  ammonite.$sess.cmd24$Helper.mapReduce(\u001b[32mcmd24.sc\u001b[39m:\u001b[32m2\u001b[39m)\n  ammonite.$sess.cmd24$Helper.mapReduce(\u001b[32mcmd24.sc\u001b[39m:\u001b[32m2\u001b[39m)\n  ammonite.$sess.cmd24$Helper.mapReduce(\u001b[32mcmd24.sc\u001b[39m:\u001b[32m2\u001b[39m)\n  ammonite.$sess.cmd24$Helper.mapReduce(\u001b[32mcmd24.sc\u001b[39m:\u001b[32m2\u001b[39m)\n  ammonite.$sess.cmd24$Helper.mapReduce(\u001b[32mcmd24.sc\u001b[39m:\u001b[32m2\u001b[39m)\n  ammonite.$sess.cmd24$Helper.mapReduce(\u001b[32mcmd24.sc\u001b[39m:\u001b[32m2\u001b[39m)\n  ammonite.$sess.cmd24$Helper.mapReduce(\u001b[32mcmd24.sc\u001b[39m:\u001b[32m2\u001b[39m)\n  ammonite.$sess.cmd24$Helper.mapReduce(\u001b[32mcmd24.sc\u001b[39m:\u001b[32m2\u001b[39m)\n  ammonite.$sess.cmd24$Helper.mapReduce(\u001b[32mcmd24.sc\u001b[39m:\u001b[32m2\u001b[39m)\n  ammonite.$sess.cmd24$Helper.mapReduce(\u001b[32mcmd24.sc\u001b[39m:\u001b[32m2\u001b[39m)\n  ammonite.$sess.cmd24$Helper.mapReduce(\u001b[32mcmd24.sc\u001b[39m:\u001b[32m2\u001b[39m)\n  ammonite.$sess.cmd24$Helper.mapReduce(\u001b[32mcmd24.sc\u001b[39m:\u001b[32m2\u001b[39m)\n  ammonite.$sess.cmd24$Helper.mapReduce(\u001b[32mcmd24.sc\u001b[39m:\u001b[32m2\u001b[39m)\n  ammonite.$sess.cmd24$Helper.mapReduce(\u001b[32mcmd24.sc\u001b[39m:\u001b[32m2\u001b[39m)\n  ammonite.$sess.cmd24$Helper.mapReduce(\u001b[32mcmd24.sc\u001b[39m:\u001b[32m2\u001b[39m)\n  ammonite.$sess.cmd24$Helper.mapReduce(\u001b[32mcmd24.sc\u001b[39m:\u001b[32m2\u001b[39m)\n  ammonite.$sess.cmd24$Helper.mapReduce(\u001b[32mcmd24.sc\u001b[39m:\u001b[32m2\u001b[39m)\n  ammonite.$sess.cmd24$Helper.mapReduce(\u001b[32mcmd24.sc\u001b[39m:\u001b[32m2\u001b[39m)\n  ammonite.$sess.cmd24$Helper.mapReduce(\u001b[32mcmd24.sc\u001b[39m:\u001b[32m2\u001b[39m)\n  ammonite.$sess.cmd24$Helper.mapReduce(\u001b[32mcmd24.sc\u001b[39m:\u001b[32m2\u001b[39m)\n  ammonite.$sess.cmd24$Helper.mapReduce(\u001b[32mcmd24.sc\u001b[39m:\u001b[32m2\u001b[39m)\n  ammonite.$sess.cmd24$Helper.mapReduce(\u001b[32mcmd24.sc\u001b[39m:\u001b[32m2\u001b[39m)\n  ammonite.$sess.cmd24$Helper.mapReduce(\u001b[32mcmd24.sc\u001b[39m:\u001b[32m2\u001b[39m)\n  ammonite.$sess.cmd24$Helper.mapReduce(\u001b[32mcmd24.sc\u001b[39m:\u001b[32m2\u001b[39m)\n  ammonite.$sess.cmd24$Helper.mapReduce(\u001b[32mcmd24.sc\u001b[39m:\u001b[32m2\u001b[39m)\n  ammonite.$sess.cmd24$Helper.mapReduce(\u001b[32mcmd24.sc\u001b[39m:\u001b[32m2\u001b[39m)\n  ammonite.$sess.cmd24$Helper.mapReduce(\u001b[32mcmd24.sc\u001b[39m:\u001b[32m2\u001b[39m)\n  ammonite.$sess.cmd24$Helper.mapReduce(\u001b[32mcmd24.sc\u001b[39m:\u001b[32m2\u001b[39m)\n  ammonite.$sess.cmd24$Helper.mapReduce(\u001b[32mcmd24.sc\u001b[39m:\u001b[32m2\u001b[39m)\n  ammonite.$sess.cmd24$Helper.mapReduce(\u001b[32mcmd24.sc\u001b[39m:\u001b[32m2\u001b[39m)\n  ammonite.$sess.cmd24$Helper.mapReduce(\u001b[32mcmd24.sc\u001b[39m:\u001b[32m2\u001b[39m)\n  ammonite.$sess.cmd24$Helper.mapReduce(\u001b[32mcmd24.sc\u001b[39m:\u001b[32m2\u001b[39m)\n  ammonite.$sess.cmd24$Helper.mapReduce(\u001b[32mcmd24.sc\u001b[39m:\u001b[32m2\u001b[39m)\n  ammonite.$sess.cmd24$Helper.mapReduce(\u001b[32mcmd24.sc\u001b[39m:\u001b[32m2\u001b[39m)\n  ammonite.$sess.cmd24$Helper.mapReduce(\u001b[32mcmd24.sc\u001b[39m:\u001b[32m2\u001b[39m)\n  ammonite.$sess.cmd24$Helper.mapReduce(\u001b[32mcmd24.sc\u001b[39m:\u001b[32m2\u001b[39m)\n  ammonite.$sess.cmd24$Helper.mapReduce(\u001b[32mcmd24.sc\u001b[39m:\u001b[32m2\u001b[39m)\n  ammonite.$sess.cmd24$Helper.mapReduce(\u001b[32mcmd24.sc\u001b[39m:\u001b[32m2\u001b[39m)\n  ammonite.$sess.cmd24$Helper.mapReduce(\u001b[32mcmd24.sc\u001b[39m:\u001b[32m2\u001b[39m)\n  ammonite.$sess.cmd24$Helper.mapReduce(\u001b[32mcmd24.sc\u001b[39m:\u001b[32m2\u001b[39m)\n  ammonite.$sess.cmd24$Helper.mapReduce(\u001b[32mcmd24.sc\u001b[39m:\u001b[32m2\u001b[39m)\n  ammonite.$sess.cmd24$Helper.mapReduce(\u001b[32mcmd24.sc\u001b[39m:\u001b[32m2\u001b[39m)\n  ammonite.$sess.cmd24$Helper.mapReduce(\u001b[32mcmd24.sc\u001b[39m:\u001b[32m2\u001b[39m)\n  ammonite.$sess.cmd24$Helper.mapReduce(\u001b[32mcmd24.sc\u001b[39m:\u001b[32m2\u001b[39m)\n  ammonite.$sess.cmd24$Helper.mapReduce(\u001b[32mcmd24.sc\u001b[39m:\u001b[32m2\u001b[39m)\n  ammonite.$sess.cmd24$Helper.mapReduce(\u001b[32mcmd24.sc\u001b[39m:\u001b[32m2\u001b[39m)\n  ammonite.$sess.cmd24$Helper.mapReduce(\u001b[32mcmd24.sc\u001b[39m:\u001b[32m2\u001b[39m)\n  ammonite.$sess.cmd24$Helper.mapReduce(\u001b[32mcmd24.sc\u001b[39m:\u001b[32m2\u001b[39m)\n  ammonite.$sess.cmd24$Helper.mapReduce(\u001b[32mcmd24.sc\u001b[39m:\u001b[32m2\u001b[39m)\n  ammonite.$sess.cmd24$Helper.mapReduce(\u001b[32mcmd24.sc\u001b[39m:\u001b[32m2\u001b[39m)\n  ammonite.$sess.cmd24$Helper.mapReduce(\u001b[32mcmd24.sc\u001b[39m:\u001b[32m2\u001b[39m)\n  ammonite.$sess.cmd24$Helper.mapReduce(\u001b[32mcmd24.sc\u001b[39m:\u001b[32m2\u001b[39m)\n  ammonite.$sess.cmd24$Helper.mapReduce(\u001b[32mcmd24.sc\u001b[39m:\u001b[32m2\u001b[39m)\n  ammonite.$sess.cmd24$Helper.mapReduce(\u001b[32mcmd24.sc\u001b[39m:\u001b[32m2\u001b[39m)\n  ammonite.$sess.cmd24$Helper.mapReduce(\u001b[32mcmd24.sc\u001b[39m:\u001b[32m2\u001b[39m)\n  ammonite.$sess.cmd24$Helper.mapReduce(\u001b[32mcmd24.sc\u001b[39m:\u001b[32m2\u001b[39m)\n  ammonite.$sess.cmd24$Helper.mapReduce(\u001b[32mcmd24.sc\u001b[39m:\u001b[32m2\u001b[39m)\n  ammonite.$sess.cmd24$Helper.mapReduce(\u001b[32mcmd24.sc\u001b[39m:\u001b[32m2\u001b[39m)\n  ammonite.$sess.cmd24$Helper.mapReduce(\u001b[32mcmd24.sc\u001b[39m:\u001b[32m2\u001b[39m)\n  ammonite.$sess.cmd24$Helper.mapReduce(\u001b[32mcmd24.sc\u001b[39m:\u001b[32m2\u001b[39m)\n  ammonite.$sess.cmd24$Helper.mapReduce(\u001b[32mcmd24.sc\u001b[39m:\u001b[32m2\u001b[39m)\n  ammonite.$sess.cmd24$Helper.mapReduce(\u001b[32mcmd24.sc\u001b[39m:\u001b[32m2\u001b[39m)\n  ammonite.$sess.cmd24$Helper.mapReduce(\u001b[32mcmd24.sc\u001b[39m:\u001b[32m2\u001b[39m)\n  ammonite.$sess.cmd24$Helper.mapReduce(\u001b[32mcmd24.sc\u001b[39m:\u001b[32m2\u001b[39m)\n  ammonite.$sess.cmd24$Helper.mapReduce(\u001b[32mcmd24.sc\u001b[39m:\u001b[32m2\u001b[39m)\n  ammonite.$sess.cmd24$Helper.mapReduce(\u001b[32mcmd24.sc\u001b[39m:\u001b[32m2\u001b[39m)\n  ammonite.$sess.cmd24$Helper.mapReduce(\u001b[32mcmd24.sc\u001b[39m:\u001b[32m2\u001b[39m)\n  ammonite.$sess.cmd24$Helper.mapReduce(\u001b[32mcmd24.sc\u001b[39m:\u001b[32m2\u001b[39m)\n  ammonite.$sess.cmd24$Helper.mapReduce(\u001b[32mcmd24.sc\u001b[39m:\u001b[32m2\u001b[39m)\n  ammonite.$sess.cmd24$Helper.mapReduce(\u001b[32mcmd24.sc\u001b[39m:\u001b[32m2\u001b[39m)\n  ammonite.$sess.cmd24$Helper.mapReduce(\u001b[32mcmd24.sc\u001b[39m:\u001b[32m2\u001b[39m)\n  ammonite.$sess.cmd24$Helper.mapReduce(\u001b[32mcmd24.sc\u001b[39m:\u001b[32m2\u001b[39m)\n  ammonite.$sess.cmd24$Helper.mapReduce(\u001b[32mcmd24.sc\u001b[39m:\u001b[32m2\u001b[39m)\n  ammonite.$sess.cmd24$Helper.mapReduce(\u001b[32mcmd24.sc\u001b[39m:\u001b[32m2\u001b[39m)\n  ammonite.$sess.cmd24$Helper.mapReduce(\u001b[32mcmd24.sc\u001b[39m:\u001b[32m2\u001b[39m)\n  ammonite.$sess.cmd24$Helper.mapReduce(\u001b[32mcmd24.sc\u001b[39m:\u001b[32m2\u001b[39m)\n  ammonite.$sess.cmd24$Helper.mapReduce(\u001b[32mcmd24.sc\u001b[39m:\u001b[32m2\u001b[39m)\n  ammonite.$sess.cmd24$Helper.mapReduce(\u001b[32mcmd24.sc\u001b[39m:\u001b[32m2\u001b[39m)\n  ammonite.$sess.cmd24$Helper.mapReduce(\u001b[32mcmd24.sc\u001b[39m:\u001b[32m2\u001b[39m)\n  ammonite.$sess.cmd24$Helper.mapReduce(\u001b[32mcmd24.sc\u001b[39m:\u001b[32m2\u001b[39m)\n  ammonite.$sess.cmd24$Helper.mapReduce(\u001b[32mcmd24.sc\u001b[39m:\u001b[32m2\u001b[39m)\n  ammonite.$sess.cmd24$Helper.mapReduce(\u001b[32mcmd24.sc\u001b[39m:\u001b[32m2\u001b[39m)\n  ammonite.$sess.cmd24$Helper.mapReduce(\u001b[32mcmd24.sc\u001b[39m:\u001b[32m2\u001b[39m)\n  ammonite.$sess.cmd24$Helper.mapReduce(\u001b[32mcmd24.sc\u001b[39m:\u001b[32m2\u001b[39m)\n  ammonite.$sess.cmd24$Helper.mapReduce(\u001b[32mcmd24.sc\u001b[39m:\u001b[32m2\u001b[39m)\n  ammonite.$sess.cmd24$Helper.mapReduce(\u001b[32mcmd24.sc\u001b[39m:\u001b[32m2\u001b[39m)\n  ammonite.$sess.cmd24$Helper.mapReduce(\u001b[32mcmd24.sc\u001b[39m:\u001b[32m2\u001b[39m)\n  ammonite.$sess.cmd24$Helper.mapReduce(\u001b[32mcmd24.sc\u001b[39m:\u001b[32m2\u001b[39m)\n  ammonite.$sess.cmd24$Helper.mapReduce(\u001b[32mcmd24.sc\u001b[39m:\u001b[32m2\u001b[39m)\n  ammonite.$sess.cmd24$Helper.mapReduce(\u001b[32mcmd24.sc\u001b[39m:\u001b[32m2\u001b[39m)\n  ammonite.$sess.cmd24$Helper.mapReduce(\u001b[32mcmd24.sc\u001b[39m:\u001b[32m2\u001b[39m)\n  ammonite.$sess.cmd24$Helper.mapReduce(\u001b[32mcmd24.sc\u001b[39m:\u001b[32m2\u001b[39m)\n  ammonite.$sess.cmd24$Helper.mapReduce(\u001b[32mcmd24.sc\u001b[39m:\u001b[32m2\u001b[39m)\n  ammonite.$sess.cmd24$Helper.mapReduce(\u001b[32mcmd24.sc\u001b[39m:\u001b[32m2\u001b[39m)\n  ammonite.$sess.cmd24$Helper.mapReduce(\u001b[32mcmd24.sc\u001b[39m:\u001b[32m2\u001b[39m)\n  ammonite.$sess.cmd24$Helper.mapReduce(\u001b[32mcmd24.sc\u001b[39m:\u001b[32m2\u001b[39m)\n  ammonite.$sess.cmd24$Helper.mapReduce(\u001b[32mcmd24.sc\u001b[39m:\u001b[32m2\u001b[39m)\n  ammonite.$sess.cmd24$Helper.mapReduce(\u001b[32mcmd24.sc\u001b[39m:\u001b[32m2\u001b[39m)\n  ammonite.$sess.cmd24$Helper.mapReduce(\u001b[32mcmd24.sc\u001b[39m:\u001b[32m2\u001b[39m)\n  ammonite.$sess.cmd24$Helper.mapReduce(\u001b[32mcmd24.sc\u001b[39m:\u001b[32m2\u001b[39m)\n  ammonite.$sess.cmd24$Helper.mapReduce(\u001b[32mcmd24.sc\u001b[39m:\u001b[32m2\u001b[39m)\n  ammonite.$sess.cmd24$Helper.mapReduce(\u001b[32mcmd24.sc\u001b[39m:\u001b[32m2\u001b[39m)\n  ammonite.$sess.cmd24$Helper.mapReduce(\u001b[32mcmd24.sc\u001b[39m:\u001b[32m2\u001b[39m)\n  ammonite.$sess.cmd24$Helper.mapReduce(\u001b[32mcmd24.sc\u001b[39m:\u001b[32m2\u001b[39m)\n  ammonite.$sess.cmd24$Helper.mapReduce(\u001b[32mcmd24.sc\u001b[39m:\u001b[32m2\u001b[39m)\n  ammonite.$sess.cmd24$Helper.mapReduce(\u001b[32mcmd24.sc\u001b[39m:\u001b[32m2\u001b[39m)\n  ammonite.$sess.cmd24$Helper.mapReduce(\u001b[32mcmd24.sc\u001b[39m:\u001b[32m2\u001b[39m)\n  ammonite.$sess.cmd24$Helper.mapReduce(\u001b[32mcmd24.sc\u001b[39m:\u001b[32m2\u001b[39m)\n  ammonite.$sess.cmd24$Helper.mapReduce(\u001b[32mcmd24.sc\u001b[39m:\u001b[32m2\u001b[39m)\n  ammonite.$sess.cmd24$Helper.mapReduce(\u001b[32mcmd24.sc\u001b[39m:\u001b[32m2\u001b[39m)\n  ammonite.$sess.cmd24$Helper.mapReduce(\u001b[32mcmd24.sc\u001b[39m:\u001b[32m2\u001b[39m)\n  ammonite.$sess.cmd24$Helper.mapReduce(\u001b[32mcmd24.sc\u001b[39m:\u001b[32m2\u001b[39m)\n  ammonite.$sess.cmd24$Helper.mapReduce(\u001b[32mcmd24.sc\u001b[39m:\u001b[32m2\u001b[39m)\n  ammonite.$sess.cmd24$Helper.mapReduce(\u001b[32mcmd24.sc\u001b[39m:\u001b[32m2\u001b[39m)\n  ammonite.$sess.cmd24$Helper.mapReduce(\u001b[32mcmd24.sc\u001b[39m:\u001b[32m2\u001b[39m)\n  ammonite.$sess.cmd24$Helper.mapReduce(\u001b[32mcmd24.sc\u001b[39m:\u001b[32m2\u001b[39m)\n  ammonite.$sess.cmd24$Helper.mapReduce(\u001b[32mcmd24.sc\u001b[39m:\u001b[32m2\u001b[39m)\n  ammonite.$sess.cmd24$Helper.mapReduce(\u001b[32mcmd24.sc\u001b[39m:\u001b[32m2\u001b[39m)\n  ammonite.$sess.cmd24$Helper.mapReduce(\u001b[32mcmd24.sc\u001b[39m:\u001b[32m2\u001b[39m)\n  ammonite.$sess.cmd24$Helper.mapReduce(\u001b[32mcmd24.sc\u001b[39m:\u001b[32m2\u001b[39m)\n  ammonite.$sess.cmd24$Helper.mapReduce(\u001b[32mcmd24.sc\u001b[39m:\u001b[32m2\u001b[39m)\n  ammonite.$sess.cmd24$Helper.mapReduce(\u001b[32mcmd24.sc\u001b[39m:\u001b[32m2\u001b[39m)\n  ammonite.$sess.cmd24$Helper.mapReduce(\u001b[32mcmd24.sc\u001b[39m:\u001b[32m2\u001b[39m)\n  ammonite.$sess.cmd24$Helper.mapReduce(\u001b[32mcmd24.sc\u001b[39m:\u001b[32m2\u001b[39m)\n  ammonite.$sess.cmd24$Helper.mapReduce(\u001b[32mcmd24.sc\u001b[39m:\u001b[32m2\u001b[39m)\n  ammonite.$sess.cmd24$Helper.mapReduce(\u001b[32mcmd24.sc\u001b[39m:\u001b[32m2\u001b[39m)\n  ammonite.$sess.cmd24$Helper.mapReduce(\u001b[32mcmd24.sc\u001b[39m:\u001b[32m2\u001b[39m)\n  ammonite.$sess.cmd24$Helper.mapReduce(\u001b[32mcmd24.sc\u001b[39m:\u001b[32m2\u001b[39m)\n  ammonite.$sess.cmd24$Helper.mapReduce(\u001b[32mcmd24.sc\u001b[39m:\u001b[32m2\u001b[39m)\n  ammonite.$sess.cmd24$Helper.mapReduce(\u001b[32mcmd24.sc\u001b[39m:\u001b[32m2\u001b[39m)\n  ammonite.$sess.cmd24$Helper.mapReduce(\u001b[32mcmd24.sc\u001b[39m:\u001b[32m2\u001b[39m)\n  ammonite.$sess.cmd24$Helper.mapReduce(\u001b[32mcmd24.sc\u001b[39m:\u001b[32m2\u001b[39m)\n  ammonite.$sess.cmd24$Helper.mapReduce(\u001b[32mcmd24.sc\u001b[39m:\u001b[32m2\u001b[39m)\n  ammonite.$sess.cmd24$Helper.mapReduce(\u001b[32mcmd24.sc\u001b[39m:\u001b[32m2\u001b[39m)\n  ammonite.$sess.cmd24$Helper.mapReduce(\u001b[32mcmd24.sc\u001b[39m:\u001b[32m2\u001b[39m)\n  ammonite.$sess.cmd24$Helper.mapReduce(\u001b[32mcmd24.sc\u001b[39m:\u001b[32m2\u001b[39m)\n  ammonite.$sess.cmd24$Helper.mapReduce(\u001b[32mcmd24.sc\u001b[39m:\u001b[32m2\u001b[39m)\n  ammonite.$sess.cmd24$Helper.mapReduce(\u001b[32mcmd24.sc\u001b[39m:\u001b[32m2\u001b[39m)\n  ammonite.$sess.cmd24$Helper.mapReduce(\u001b[32mcmd24.sc\u001b[39m:\u001b[32m2\u001b[39m)\n  ammonite.$sess.cmd24$Helper.mapReduce(\u001b[32mcmd24.sc\u001b[39m:\u001b[32m2\u001b[39m)\n  ammonite.$sess.cmd24$Helper.mapReduce(\u001b[32mcmd24.sc\u001b[39m:\u001b[32m2\u001b[39m)\n  ammonite.$sess.cmd24$Helper.mapReduce(\u001b[32mcmd24.sc\u001b[39m:\u001b[32m2\u001b[39m)\n  ammonite.$sess.cmd24$Helper.mapReduce(\u001b[32mcmd24.sc\u001b[39m:\u001b[32m2\u001b[39m)\n  ammonite.$sess.cmd24$Helper.mapReduce(\u001b[32mcmd24.sc\u001b[39m:\u001b[32m2\u001b[39m)\n  ammonite.$sess.cmd24$Helper.mapReduce(\u001b[32mcmd24.sc\u001b[39m:\u001b[32m2\u001b[39m)\n  ammonite.$sess.cmd24$Helper.mapReduce(\u001b[32mcmd24.sc\u001b[39m:\u001b[32m2\u001b[39m)\n  ammonite.$sess.cmd24$Helper.mapReduce(\u001b[32mcmd24.sc\u001b[39m:\u001b[32m2\u001b[39m)\n  ammonite.$sess.cmd24$Helper.mapReduce(\u001b[32mcmd24.sc\u001b[39m:\u001b[32m2\u001b[39m)\n  ammonite.$sess.cmd24$Helper.mapReduce(\u001b[32mcmd24.sc\u001b[39m:\u001b[32m2\u001b[39m)\n  ammonite.$sess.cmd24$Helper.mapReduce(\u001b[32mcmd24.sc\u001b[39m:\u001b[32m2\u001b[39m)\n  ammonite.$sess.cmd24$Helper.mapReduce(\u001b[32mcmd24.sc\u001b[39m:\u001b[32m2\u001b[39m)\n  ammonite.$sess.cmd24$Helper.mapReduce(\u001b[32mcmd24.sc\u001b[39m:\u001b[32m2\u001b[39m)\n  ammonite.$sess.cmd24$Helper.mapReduce(\u001b[32mcmd24.sc\u001b[39m:\u001b[32m2\u001b[39m)\n  ammonite.$sess.cmd24$Helper.mapReduce(\u001b[32mcmd24.sc\u001b[39m:\u001b[32m2\u001b[39m)\n  ammonite.$sess.cmd24$Helper.mapReduce(\u001b[32mcmd24.sc\u001b[39m:\u001b[32m2\u001b[39m)\n  ammonite.$sess.cmd24$Helper.mapReduce(\u001b[32mcmd24.sc\u001b[39m:\u001b[32m2\u001b[39m)\n  ammonite.$sess.cmd24$Helper.mapReduce(\u001b[32mcmd24.sc\u001b[39m:\u001b[32m2\u001b[39m)\n  ammonite.$sess.cmd24$Helper.mapReduce(\u001b[32mcmd24.sc\u001b[39m:\u001b[32m2\u001b[39m)\n  ammonite.$sess.cmd24$Helper.mapReduce(\u001b[32mcmd24.sc\u001b[39m:\u001b[32m2\u001b[39m)\n  ammonite.$sess.cmd24$Helper.mapReduce(\u001b[32mcmd24.sc\u001b[39m:\u001b[32m2\u001b[39m)\n  ammonite.$sess.cmd24$Helper.mapReduce(\u001b[32mcmd24.sc\u001b[39m:\u001b[32m2\u001b[39m)\n  ammonite.$sess.cmd24$Helper.mapReduce(\u001b[32mcmd24.sc\u001b[39m:\u001b[32m2\u001b[39m)\n  ammonite.$sess.cmd24$Helper.mapReduce(\u001b[32mcmd24.sc\u001b[39m:\u001b[32m2\u001b[39m)\n  ammonite.$sess.cmd24$Helper.mapReduce(\u001b[32mcmd24.sc\u001b[39m:\u001b[32m2\u001b[39m)\n  ammonite.$sess.cmd24$Helper.mapReduce(\u001b[32mcmd24.sc\u001b[39m:\u001b[32m2\u001b[39m)\n  ammonite.$sess.cmd24$Helper.mapReduce(\u001b[32mcmd24.sc\u001b[39m:\u001b[32m2\u001b[39m)\n  ammonite.$sess.cmd24$Helper.mapReduce(\u001b[32mcmd24.sc\u001b[39m:\u001b[32m2\u001b[39m)\n  ammonite.$sess.cmd24$Helper.mapReduce(\u001b[32mcmd24.sc\u001b[39m:\u001b[32m2\u001b[39m)\n  ammonite.$sess.cmd24$Helper.mapReduce(\u001b[32mcmd24.sc\u001b[39m:\u001b[32m2\u001b[39m)\n  ammonite.$sess.cmd24$Helper.mapReduce(\u001b[32mcmd24.sc\u001b[39m:\u001b[32m2\u001b[39m)\n  ammonite.$sess.cmd24$Helper.mapReduce(\u001b[32mcmd24.sc\u001b[39m:\u001b[32m2\u001b[39m)\n  ammonite.$sess.cmd24$Helper.mapReduce(\u001b[32mcmd24.sc\u001b[39m:\u001b[32m2\u001b[39m)\n  ammonite.$sess.cmd24$Helper.mapReduce(\u001b[32mcmd24.sc\u001b[39m:\u001b[32m2\u001b[39m)\n  ammonite.$sess.cmd24$Helper.mapReduce(\u001b[32mcmd24.sc\u001b[39m:\u001b[32m2\u001b[39m)\n  ammonite.$sess.cmd24$Helper.mapReduce(\u001b[32mcmd24.sc\u001b[39m:\u001b[32m2\u001b[39m)\n  ammonite.$sess.cmd24$Helper.mapReduce(\u001b[32mcmd24.sc\u001b[39m:\u001b[32m2\u001b[39m)\n  ammonite.$sess.cmd24$Helper.mapReduce(\u001b[32mcmd24.sc\u001b[39m:\u001b[32m2\u001b[39m)\n  ammonite.$sess.cmd24$Helper.mapReduce(\u001b[32mcmd24.sc\u001b[39m:\u001b[32m2\u001b[39m)\n  ammonite.$sess.cmd24$Helper.mapReduce(\u001b[32mcmd24.sc\u001b[39m:\u001b[32m2\u001b[39m)\n  ammonite.$sess.cmd24$Helper.mapReduce(\u001b[32mcmd24.sc\u001b[39m:\u001b[32m2\u001b[39m)\n  ammonite.$sess.cmd24$Helper.mapReduce(\u001b[32mcmd24.sc\u001b[39m:\u001b[32m2\u001b[39m)\n  ammonite.$sess.cmd24$Helper.mapReduce(\u001b[32mcmd24.sc\u001b[39m:\u001b[32m2\u001b[39m)\n  ammonite.$sess.cmd24$Helper.mapReduce(\u001b[32mcmd24.sc\u001b[39m:\u001b[32m2\u001b[39m)\n  ammonite.$sess.cmd24$Helper.mapReduce(\u001b[32mcmd24.sc\u001b[39m:\u001b[32m2\u001b[39m)\n  ammonite.$sess.cmd24$Helper.mapReduce(\u001b[32mcmd24.sc\u001b[39m:\u001b[32m2\u001b[39m)\n  ammonite.$sess.cmd24$Helper.mapReduce(\u001b[32mcmd24.sc\u001b[39m:\u001b[32m2\u001b[39m)\n  ammonite.$sess.cmd24$Helper.mapReduce(\u001b[32mcmd24.sc\u001b[39m:\u001b[32m2\u001b[39m)\n  ammonite.$sess.cmd24$Helper.mapReduce(\u001b[32mcmd24.sc\u001b[39m:\u001b[32m2\u001b[39m)\n  ammonite.$sess.cmd24$Helper.mapReduce(\u001b[32mcmd24.sc\u001b[39m:\u001b[32m2\u001b[39m)\n  ammonite.$sess.cmd24$Helper.mapReduce(\u001b[32mcmd24.sc\u001b[39m:\u001b[32m2\u001b[39m)\n  ammonite.$sess.cmd24$Helper.mapReduce(\u001b[32mcmd24.sc\u001b[39m:\u001b[32m2\u001b[39m)\n  ammonite.$sess.cmd24$Helper.mapReduce(\u001b[32mcmd24.sc\u001b[39m:\u001b[32m2\u001b[39m)\n  ammonite.$sess.cmd24$Helper.mapReduce(\u001b[32mcmd24.sc\u001b[39m:\u001b[32m2\u001b[39m)\n  ammonite.$sess.cmd24$Helper.mapReduce(\u001b[32mcmd24.sc\u001b[39m:\u001b[32m2\u001b[39m)\n  ammonite.$sess.cmd24$Helper.mapReduce(\u001b[32mcmd24.sc\u001b[39m:\u001b[32m2\u001b[39m)\n  ammonite.$sess.cmd24$Helper.mapReduce(\u001b[32mcmd24.sc\u001b[39m:\u001b[32m2\u001b[39m)\n  ammonite.$sess.cmd24$Helper.mapReduce(\u001b[32mcmd24.sc\u001b[39m:\u001b[32m2\u001b[39m)\n  ammonite.$sess.cmd24$Helper.mapReduce(\u001b[32mcmd24.sc\u001b[39m:\u001b[32m2\u001b[39m)\n  ammonite.$sess.cmd24$Helper.mapReduce(\u001b[32mcmd24.sc\u001b[39m:\u001b[32m2\u001b[39m)\n  ammonite.$sess.cmd24$Helper.mapReduce(\u001b[32mcmd24.sc\u001b[39m:\u001b[32m2\u001b[39m)\n  ammonite.$sess.cmd24$Helper.mapReduce(\u001b[32mcmd24.sc\u001b[39m:\u001b[32m2\u001b[39m)\n  ammonite.$sess.cmd24$Helper.mapReduce(\u001b[32mcmd24.sc\u001b[39m:\u001b[32m2\u001b[39m)\n  ammonite.$sess.cmd24$Helper.mapReduce(\u001b[32mcmd24.sc\u001b[39m:\u001b[32m2\u001b[39m)\n  ammonite.$sess.cmd24$Helper.mapReduce(\u001b[32mcmd24.sc\u001b[39m:\u001b[32m2\u001b[39m)\n  ammonite.$sess.cmd24$Helper.mapReduce(\u001b[32mcmd24.sc\u001b[39m:\u001b[32m2\u001b[39m)\n  ammonite.$sess.cmd24$Helper.mapReduce(\u001b[32mcmd24.sc\u001b[39m:\u001b[32m2\u001b[39m)\n  ammonite.$sess.cmd24$Helper.mapReduce(\u001b[32mcmd24.sc\u001b[39m:\u001b[32m2\u001b[39m)\n  ammonite.$sess.cmd24$Helper.mapReduce(\u001b[32mcmd24.sc\u001b[39m:\u001b[32m2\u001b[39m)\n  ammonite.$sess.cmd24$Helper.mapReduce(\u001b[32mcmd24.sc\u001b[39m:\u001b[32m2\u001b[39m)\n  ammonite.$sess.cmd24$Helper.mapReduce(\u001b[32mcmd24.sc\u001b[39m:\u001b[32m2\u001b[39m)\n  ammonite.$sess.cmd24$Helper.mapReduce(\u001b[32mcmd24.sc\u001b[39m:\u001b[32m2\u001b[39m)\n  ammonite.$sess.cmd24$Helper.mapReduce(\u001b[32mcmd24.sc\u001b[39m:\u001b[32m2\u001b[39m)\n  ammonite.$sess.cmd24$Helper.mapReduce(\u001b[32mcmd24.sc\u001b[39m:\u001b[32m2\u001b[39m)\n  ammonite.$sess.cmd24$Helper.mapReduce(\u001b[32mcmd24.sc\u001b[39m:\u001b[32m2\u001b[39m)\n  ammonite.$sess.cmd24$Helper.mapReduce(\u001b[32mcmd24.sc\u001b[39m:\u001b[32m2\u001b[39m)\n  ammonite.$sess.cmd24$Helper.mapReduce(\u001b[32mcmd24.sc\u001b[39m:\u001b[32m2\u001b[39m)\n  ammonite.$sess.cmd24$Helper.mapReduce(\u001b[32mcmd24.sc\u001b[39m:\u001b[32m2\u001b[39m)\n  ammonite.$sess.cmd24$Helper.mapReduce(\u001b[32mcmd24.sc\u001b[39m:\u001b[32m2\u001b[39m)\n  ammonite.$sess.cmd24$Helper.mapReduce(\u001b[32mcmd24.sc\u001b[39m:\u001b[32m2\u001b[39m)\n  ammonite.$sess.cmd24$Helper.mapReduce(\u001b[32mcmd24.sc\u001b[39m:\u001b[32m2\u001b[39m)\n  ammonite.$sess.cmd24$Helper.mapReduce(\u001b[32mcmd24.sc\u001b[39m:\u001b[32m2\u001b[39m)\n  ammonite.$sess.cmd24$Helper.mapReduce(\u001b[32mcmd24.sc\u001b[39m:\u001b[32m2\u001b[39m)\n  ammonite.$sess.cmd24$Helper.mapReduce(\u001b[32mcmd24.sc\u001b[39m:\u001b[32m2\u001b[39m)\n  ammonite.$sess.cmd24$Helper.mapReduce(\u001b[32mcmd24.sc\u001b[39m:\u001b[32m2\u001b[39m)\n  ammonite.$sess.cmd24$Helper.mapReduce(\u001b[32mcmd24.sc\u001b[39m:\u001b[32m2\u001b[39m)\n  ammonite.$sess.cmd24$Helper.mapReduce(\u001b[32mcmd24.sc\u001b[39m:\u001b[32m2\u001b[39m)\n  ammonite.$sess.cmd24$Helper.mapReduce(\u001b[32mcmd24.sc\u001b[39m:\u001b[32m2\u001b[39m)\n  ammonite.$sess.cmd24$Helper.mapReduce(\u001b[32mcmd24.sc\u001b[39m:\u001b[32m2\u001b[39m)\n  ammonite.$sess.cmd24$Helper.mapReduce(\u001b[32mcmd24.sc\u001b[39m:\u001b[32m2\u001b[39m)\n  ammonite.$sess.cmd24$Helper.mapReduce(\u001b[32mcmd24.sc\u001b[39m:\u001b[32m2\u001b[39m)\n  ammonite.$sess.cmd24$Helper.mapReduce(\u001b[32mcmd24.sc\u001b[39m:\u001b[32m2\u001b[39m)\n  ammonite.$sess.cmd24$Helper.mapReduce(\u001b[32mcmd24.sc\u001b[39m:\u001b[32m2\u001b[39m)\n  ammonite.$sess.cmd24$Helper.mapReduce(\u001b[32mcmd24.sc\u001b[39m:\u001b[32m2\u001b[39m)\n  ammonite.$sess.cmd24$Helper.mapReduce(\u001b[32mcmd24.sc\u001b[39m:\u001b[32m2\u001b[39m)\n  ammonite.$sess.cmd24$Helper.mapReduce(\u001b[32mcmd24.sc\u001b[39m:\u001b[32m2\u001b[39m)\n  ammonite.$sess.cmd24$Helper.mapReduce(\u001b[32mcmd24.sc\u001b[39m:\u001b[32m2\u001b[39m)\n  ammonite.$sess.cmd24$Helper.mapReduce(\u001b[32mcmd24.sc\u001b[39m:\u001b[32m2\u001b[39m)\n  ammonite.$sess.cmd24$Helper.mapReduce(\u001b[32mcmd24.sc\u001b[39m:\u001b[32m2\u001b[39m)\n  ammonite.$sess.cmd24$Helper.mapReduce(\u001b[32mcmd24.sc\u001b[39m:\u001b[32m2\u001b[39m)\n  ammonite.$sess.cmd24$Helper.mapReduce(\u001b[32mcmd24.sc\u001b[39m:\u001b[32m2\u001b[39m)\n  ammonite.$sess.cmd24$Helper.mapReduce(\u001b[32mcmd24.sc\u001b[39m:\u001b[32m2\u001b[39m)\n  ammonite.$sess.cmd24$Helper.mapReduce(\u001b[32mcmd24.sc\u001b[39m:\u001b[32m2\u001b[39m)\n  ammonite.$sess.cmd24$Helper.mapReduce(\u001b[32mcmd24.sc\u001b[39m:\u001b[32m2\u001b[39m)\n  ammonite.$sess.cmd24$Helper.mapReduce(\u001b[32mcmd24.sc\u001b[39m:\u001b[32m2\u001b[39m)\n  ammonite.$sess.cmd24$Helper.mapReduce(\u001b[32mcmd24.sc\u001b[39m:\u001b[32m2\u001b[39m)\n  ammonite.$sess.cmd24$Helper.mapReduce(\u001b[32mcmd24.sc\u001b[39m:\u001b[32m2\u001b[39m)\n  ammonite.$sess.cmd24$Helper.mapReduce(\u001b[32mcmd24.sc\u001b[39m:\u001b[32m2\u001b[39m)\n  ammonite.$sess.cmd24$Helper.mapReduce(\u001b[32mcmd24.sc\u001b[39m:\u001b[32m2\u001b[39m)\n  ammonite.$sess.cmd24$Helper.mapReduce(\u001b[32mcmd24.sc\u001b[39m:\u001b[32m2\u001b[39m)\n  ammonite.$sess.cmd24$Helper.mapReduce(\u001b[32mcmd24.sc\u001b[39m:\u001b[32m2\u001b[39m)\n  ammonite.$sess.cmd24$Helper.mapReduce(\u001b[32mcmd24.sc\u001b[39m:\u001b[32m2\u001b[39m)\n  ammonite.$sess.cmd24$Helper.mapReduce(\u001b[32mcmd24.sc\u001b[39m:\u001b[32m2\u001b[39m)\n  ammonite.$sess.cmd24$Helper.mapReduce(\u001b[32mcmd24.sc\u001b[39m:\u001b[32m2\u001b[39m)\n  ammonite.$sess.cmd24$Helper.mapReduce(\u001b[32mcmd24.sc\u001b[39m:\u001b[32m2\u001b[39m)\n  ammonite.$sess.cmd24$Helper.mapReduce(\u001b[32mcmd24.sc\u001b[39m:\u001b[32m2\u001b[39m)\n  ammonite.$sess.cmd24$Helper.mapReduce(\u001b[32mcmd24.sc\u001b[39m:\u001b[32m2\u001b[39m)\n  ammonite.$sess.cmd24$Helper.mapReduce(\u001b[32mcmd24.sc\u001b[39m:\u001b[32m2\u001b[39m)\n  ammonite.$sess.cmd24$Helper.mapReduce(\u001b[32mcmd24.sc\u001b[39m:\u001b[32m2\u001b[39m)\n  ammonite.$sess.cmd24$Helper.mapReduce(\u001b[32mcmd24.sc\u001b[39m:\u001b[32m2\u001b[39m)\n  ammonite.$sess.cmd24$Helper.mapReduce(\u001b[32mcmd24.sc\u001b[39m:\u001b[32m2\u001b[39m)\n  ammonite.$sess.cmd24$Helper.mapReduce(\u001b[32mcmd24.sc\u001b[39m:\u001b[32m2\u001b[39m)\n  ammonite.$sess.cmd24$Helper.mapReduce(\u001b[32mcmd24.sc\u001b[39m:\u001b[32m2\u001b[39m)\n  ammonite.$sess.cmd24$Helper.mapReduce(\u001b[32mcmd24.sc\u001b[39m:\u001b[32m2\u001b[39m)\n  ammonite.$sess.cmd24$Helper.mapReduce(\u001b[32mcmd24.sc\u001b[39m:\u001b[32m2\u001b[39m)\n  ammonite.$sess.cmd24$Helper.mapReduce(\u001b[32mcmd24.sc\u001b[39m:\u001b[32m2\u001b[39m)\n  ammonite.$sess.cmd24$Helper.mapReduce(\u001b[32mcmd24.sc\u001b[39m:\u001b[32m2\u001b[39m)\n  ammonite.$sess.cmd24$Helper.mapReduce(\u001b[32mcmd24.sc\u001b[39m:\u001b[32m2\u001b[39m)\n  ammonite.$sess.cmd24$Helper.mapReduce(\u001b[32mcmd24.sc\u001b[39m:\u001b[32m2\u001b[39m)\n  ammonite.$sess.cmd24$Helper.mapReduce(\u001b[32mcmd24.sc\u001b[39m:\u001b[32m2\u001b[39m)\n  ammonite.$sess.cmd24$Helper.mapReduce(\u001b[32mcmd24.sc\u001b[39m:\u001b[32m2\u001b[39m)\n  ammonite.$sess.cmd24$Helper.mapReduce(\u001b[32mcmd24.sc\u001b[39m:\u001b[32m2\u001b[39m)\n  ammonite.$sess.cmd24$Helper.mapReduce(\u001b[32mcmd24.sc\u001b[39m:\u001b[32m2\u001b[39m)\n  ammonite.$sess.cmd24$Helper.mapReduce(\u001b[32mcmd24.sc\u001b[39m:\u001b[32m2\u001b[39m)\n  ammonite.$sess.cmd24$Helper.mapReduce(\u001b[32mcmd24.sc\u001b[39m:\u001b[32m2\u001b[39m)\n  ammonite.$sess.cmd24$Helper.mapReduce(\u001b[32mcmd24.sc\u001b[39m:\u001b[32m2\u001b[39m)\n  ammonite.$sess.cmd24$Helper.mapReduce(\u001b[32mcmd24.sc\u001b[39m:\u001b[32m2\u001b[39m)\n  ammonite.$sess.cmd24$Helper.mapReduce(\u001b[32mcmd24.sc\u001b[39m:\u001b[32m2\u001b[39m)\n  ammonite.$sess.cmd24$Helper.mapReduce(\u001b[32mcmd24.sc\u001b[39m:\u001b[32m2\u001b[39m)\n  ammonite.$sess.cmd24$Helper.mapReduce(\u001b[32mcmd24.sc\u001b[39m:\u001b[32m2\u001b[39m)\n  ammonite.$sess.cmd24$Helper.mapReduce(\u001b[32mcmd24.sc\u001b[39m:\u001b[32m2\u001b[39m)\n  ammonite.$sess.cmd24$Helper.mapReduce(\u001b[32mcmd24.sc\u001b[39m:\u001b[32m2\u001b[39m)\n  ammonite.$sess.cmd24$Helper.mapReduce(\u001b[32mcmd24.sc\u001b[39m:\u001b[32m2\u001b[39m)\n  ammonite.$sess.cmd24$Helper.mapReduce(\u001b[32mcmd24.sc\u001b[39m:\u001b[32m2\u001b[39m)\n  ammonite.$sess.cmd24$Helper.mapReduce(\u001b[32mcmd24.sc\u001b[39m:\u001b[32m2\u001b[39m)\n  ammonite.$sess.cmd24$Helper.mapReduce(\u001b[32mcmd24.sc\u001b[39m:\u001b[32m2\u001b[39m)\n  ammonite.$sess.cmd24$Helper.mapReduce(\u001b[32mcmd24.sc\u001b[39m:\u001b[32m2\u001b[39m)\n  ammonite.$sess.cmd24$Helper.mapReduce(\u001b[32mcmd24.sc\u001b[39m:\u001b[32m2\u001b[39m)\n  ammonite.$sess.cmd24$Helper.mapReduce(\u001b[32mcmd24.sc\u001b[39m:\u001b[32m2\u001b[39m)\n  ammonite.$sess.cmd24$Helper.mapReduce(\u001b[32mcmd24.sc\u001b[39m:\u001b[32m2\u001b[39m)\n  ammonite.$sess.cmd24$Helper.mapReduce(\u001b[32mcmd24.sc\u001b[39m:\u001b[32m2\u001b[39m)\n  ammonite.$sess.cmd24$Helper.mapReduce(\u001b[32mcmd24.sc\u001b[39m:\u001b[32m2\u001b[39m)\n  ammonite.$sess.cmd24$Helper.mapReduce(\u001b[32mcmd24.sc\u001b[39m:\u001b[32m2\u001b[39m)\n  ammonite.$sess.cmd24$Helper.mapReduce(\u001b[32mcmd24.sc\u001b[39m:\u001b[32m2\u001b[39m)\n  ammonite.$sess.cmd24$Helper.mapReduce(\u001b[32mcmd24.sc\u001b[39m:\u001b[32m2\u001b[39m)\n  ammonite.$sess.cmd24$Helper.mapReduce(\u001b[32mcmd24.sc\u001b[39m:\u001b[32m2\u001b[39m)\n  ammonite.$sess.cmd24$Helper.mapReduce(\u001b[32mcmd24.sc\u001b[39m:\u001b[32m2\u001b[39m)\n  ammonite.$sess.cmd24$Helper.mapReduce(\u001b[32mcmd24.sc\u001b[39m:\u001b[32m2\u001b[39m)\n  ammonite.$sess.cmd24$Helper.mapReduce(\u001b[32mcmd24.sc\u001b[39m:\u001b[32m2\u001b[39m)\n  ammonite.$sess.cmd24$Helper.mapReduce(\u001b[32mcmd24.sc\u001b[39m:\u001b[32m2\u001b[39m)\n  ammonite.$sess.cmd24$Helper.mapReduce(\u001b[32mcmd24.sc\u001b[39m:\u001b[32m2\u001b[39m)\n  ammonite.$sess.cmd24$Helper.mapReduce(\u001b[32mcmd24.sc\u001b[39m:\u001b[32m2\u001b[39m)\n  ammonite.$sess.cmd24$Helper.mapReduce(\u001b[32mcmd24.sc\u001b[39m:\u001b[32m2\u001b[39m)\n  ammonite.$sess.cmd24$Helper.mapReduce(\u001b[32mcmd24.sc\u001b[39m:\u001b[32m2\u001b[39m)\n  ammonite.$sess.cmd24$Helper.mapReduce(\u001b[32mcmd24.sc\u001b[39m:\u001b[32m2\u001b[39m)\n  ammonite.$sess.cmd24$Helper.mapReduce(\u001b[32mcmd24.sc\u001b[39m:\u001b[32m2\u001b[39m)\n  ammonite.$sess.cmd24$Helper.mapReduce(\u001b[32mcmd24.sc\u001b[39m:\u001b[32m2\u001b[39m)\n  ammonite.$sess.cmd24$Helper.mapReduce(\u001b[32mcmd24.sc\u001b[39m:\u001b[32m2\u001b[39m)\n  ammonite.$sess.cmd24$Helper.mapReduce(\u001b[32mcmd24.sc\u001b[39m:\u001b[32m2\u001b[39m)\n  ammonite.$sess.cmd24$Helper.mapReduce(\u001b[32mcmd24.sc\u001b[39m:\u001b[32m2\u001b[39m)\n  ammonite.$sess.cmd24$Helper.mapReduce(\u001b[32mcmd24.sc\u001b[39m:\u001b[32m2\u001b[39m)\n  ammonite.$sess.cmd24$Helper.mapReduce(\u001b[32mcmd24.sc\u001b[39m:\u001b[32m2\u001b[39m)\n  ammonite.$sess.cmd24$Helper.mapReduce(\u001b[32mcmd24.sc\u001b[39m:\u001b[32m2\u001b[39m)\n  ammonite.$sess.cmd24$Helper.mapReduce(\u001b[32mcmd24.sc\u001b[39m:\u001b[32m2\u001b[39m)\n  ammonite.$sess.cmd24$Helper.mapReduce(\u001b[32mcmd24.sc\u001b[39m:\u001b[32m2\u001b[39m)\n  ammonite.$sess.cmd24$Helper.mapReduce(\u001b[32mcmd24.sc\u001b[39m:\u001b[32m2\u001b[39m)\n  ammonite.$sess.cmd24$Helper.mapReduce(\u001b[32mcmd24.sc\u001b[39m:\u001b[32m2\u001b[39m)\n  ammonite.$sess.cmd24$Helper.mapReduce(\u001b[32mcmd24.sc\u001b[39m:\u001b[32m2\u001b[39m)\n  ammonite.$sess.cmd24$Helper.mapReduce(\u001b[32mcmd24.sc\u001b[39m:\u001b[32m2\u001b[39m)\n  ammonite.$sess.cmd24$Helper.mapReduce(\u001b[32mcmd24.sc\u001b[39m:\u001b[32m2\u001b[39m)\n  ammonite.$sess.cmd24$Helper.mapReduce(\u001b[32mcmd24.sc\u001b[39m:\u001b[32m2\u001b[39m)\n  ammonite.$sess.cmd24$Helper.mapReduce(\u001b[32mcmd24.sc\u001b[39m:\u001b[32m2\u001b[39m)\n  ammonite.$sess.cmd24$Helper.mapReduce(\u001b[32mcmd24.sc\u001b[39m:\u001b[32m2\u001b[39m)\n  ammonite.$sess.cmd24$Helper.mapReduce(\u001b[32mcmd24.sc\u001b[39m:\u001b[32m2\u001b[39m)\n  ammonite.$sess.cmd24$Helper.mapReduce(\u001b[32mcmd24.sc\u001b[39m:\u001b[32m2\u001b[39m)\n  ammonite.$sess.cmd24$Helper.mapReduce(\u001b[32mcmd24.sc\u001b[39m:\u001b[32m2\u001b[39m)\n  ammonite.$sess.cmd24$Helper.mapReduce(\u001b[32mcmd24.sc\u001b[39m:\u001b[32m2\u001b[39m)\n  ammonite.$sess.cmd24$Helper.mapReduce(\u001b[32mcmd24.sc\u001b[39m:\u001b[32m2\u001b[39m)"
     ]
    }
   ],
   "source": [
    "def mapReduce(reduce: (Int,Int)=>Int)(map: Int=>Int)(initVal: Int, a: Int, b: Int): Int = {\n",
    "    if (a <= b) reduce(map(a), mapReduce(reduce)(map)(initVal, a+1, b)) else initVal\n",
    "}\n",
    "\n",
    "mapReduce((x,y)=>x+y)((x)=>x)(1, 1, 100000)"
   ]
  },
  {
   "cell_type": "code",
   "execution_count": 26,
   "metadata": {},
   "outputs": [
    {
     "data": {
      "text/plain": [
       "\u001b[32mimport \u001b[39m\u001b[36mscala.annotation.tailrec\n",
       "\u001b[39m\n",
       "\u001b[32mimport \u001b[39m\u001b[36mscala.util.control.TailCalls._\n",
       "\n",
       "\u001b[39m\n",
       "defined \u001b[32mfunction\u001b[39m \u001b[36mmapReduce\u001b[39m\n",
       "\u001b[36mres25_3\u001b[39m: \u001b[32mInt\u001b[39m = \u001b[32m705082705\u001b[39m"
      ]
     },
     "execution_count": 26,
     "metadata": {},
     "output_type": "execute_result"
    }
   ],
   "source": [
    "import scala.annotation.tailrec\n",
    "import scala.util.control.TailCalls._\n",
    "\n",
    "def mapReduce(reduce: (Int,Int)=>Int)(map: Int=>Int)(initVal: Int, a: Int, b: Int): Int = {\n",
    "    @tailrec\n",
    "    def mapReduceIter(a: Int, acc: Int): Int = {\n",
    "        if (a <= b) mapReduceIter(a+1, reduce(map(a), acc))\n",
    "        else acc\n",
    "    }\n",
    "    mapReduceIter(a, initVal)\n",
    "}\n",
    "\n",
    "mapReduce((x,y)=>x+y)((x)=>x)(1, 1, 100000)"
   ]
  },
  {
   "cell_type": "code",
   "execution_count": 10,
   "metadata": {},
   "outputs": [
    {
     "data": {
      "text/plain": [
       "\u001b[32mimport \u001b[39m\u001b[36mscala.annotation.tailrec\n",
       "\u001b[39m\n",
       "\u001b[32mimport \u001b[39m\u001b[36mscala.util.control.TailCalls._\n",
       "\n",
       "\n",
       "\u001b[39m\n",
       "defined \u001b[32mfunction\u001b[39m \u001b[36mmapReduce\u001b[39m\n",
       "\u001b[36mres9_3\u001b[39m: \u001b[32mInt\u001b[39m = \u001b[32m78\u001b[39m"
      ]
     },
     "execution_count": 10,
     "metadata": {},
     "output_type": "execute_result"
    }
   ],
   "source": [
    "import scala.annotation.tailrec\n",
    "import scala.util.control.TailCalls._\n",
    "\n",
    "\n",
    "def mapReduce(reduce: (Int,Int)=>Int)(map: Int=>Int)(initVal: Int, a: Int, b: Int): Int = {\n",
    "    @tailrec\n",
    "    def mapReduceCont(a: Int, cont: Int=>TailRec[Int]): Int = {\n",
    "        if (a <= b) mapReduceCont(a+1, (r)=>tailcall(cont(reduce(map(a), r))))\n",
    "        else cont(initVal).result\n",
    "    }\n",
    "    mapReduceCont(a, (r)=>done(r))\n",
    "}\n",
    "\n",
    "mapReduce((x,y)=>x+y)((x)=>x)(0, 1, 12)"
   ]
  },
  {
   "cell_type": "code",
   "execution_count": 35,
   "metadata": {},
   "outputs": [
    {
     "data": {
      "text/plain": [
       "defined \u001b[32mfunction\u001b[39m \u001b[36mfoo\u001b[39m"
      ]
     },
     "execution_count": 35,
     "metadata": {},
     "output_type": "execute_result"
    }
   ],
   "source": [
    "def foo(x: Int, y: Int, z: Int)(a: Int, b: Int) = x + y + z + a + b"
   ]
  },
  {
   "cell_type": "code",
   "execution_count": 40,
   "metadata": {},
   "outputs": [
    {
     "data": {
      "text/plain": [
       "\u001b[36mf1\u001b[39m: (\u001b[32mInt\u001b[39m, \u001b[32mInt\u001b[39m, \u001b[32mInt\u001b[39m) => \u001b[32mInt\u001b[39m = ammonite.$sess.cmd39$Helper$$Lambda$2191/1163231515@557fd259\n",
       "\u001b[36mf2\u001b[39m: (\u001b[32mInt\u001b[39m, \u001b[32mInt\u001b[39m, \u001b[32mInt\u001b[39m) => \u001b[32mInt\u001b[39m = ammonite.$sess.cmd39$Helper$$Lambda$2192/651399923@295e5a27\n",
       "\u001b[36mf3\u001b[39m: (\u001b[32mInt\u001b[39m, \u001b[32mInt\u001b[39m) => \u001b[32mInt\u001b[39m => \u001b[32mInt\u001b[39m = ammonite.$sess.cmd39$Helper$$Lambda$2193/278378941@abec186"
      ]
     },
     "execution_count": 40,
     "metadata": {},
     "output_type": "execute_result"
    }
   ],
   "source": [
    "val f1 = (x: Int, z: Int, b: Int) => foo(x, 1, z)(2, b)\n",
    "val f2 = foo(_: Int, 1, _: Int)(2, _: Int)\n",
    "val f3 = (x: Int, z: Int) => ((b: Int) => foo(x, 1, z)(2, b))"
   ]
  },
  {
   "cell_type": "code",
   "execution_count": 38,
   "metadata": {},
   "outputs": [
    {
     "data": {
      "text/plain": [
       "\u001b[36mres37_0\u001b[39m: \u001b[32mInt\u001b[39m = \u001b[32m9\u001b[39m\n",
       "\u001b[36mres37_1\u001b[39m: \u001b[32mInt\u001b[39m = \u001b[32m9\u001b[39m\n",
       "\u001b[36mres37_2\u001b[39m: \u001b[32mInt\u001b[39m = \u001b[32m9\u001b[39m"
      ]
     },
     "execution_count": 38,
     "metadata": {},
     "output_type": "execute_result"
    }
   ],
   "source": [
    "f1(1,2,3)\n",
    "f2(1,2,3)\n",
    "f3(1,2)(3)"
   ]
  },
  {
   "cell_type": "code",
   "execution_count": 45,
   "metadata": {},
   "outputs": [
    {
     "data": {
      "text/plain": [
       "defined \u001b[32mfunction\u001b[39m \u001b[36mgee1\u001b[39m\n",
       "defined \u001b[32mfunction\u001b[39m \u001b[36mgee2\u001b[39m\n",
       "\u001b[36mres44_2\u001b[39m: \u001b[32mInt\u001b[39m = \u001b[32m15\u001b[39m\n",
       "\u001b[36mres44_3\u001b[39m: \u001b[32mInt\u001b[39m = \u001b[32m9\u001b[39m"
      ]
     },
     "execution_count": 45,
     "metadata": {},
     "output_type": "execute_result"
    }
   ],
   "source": [
    "def gee1 = (x: Int, y: Int, z: Int, a: Int) => ((b: Int) => foo(x, y, z)(a, b))\n",
    "def gee2 = foo(_: Int, 1, _: Int)(2, _: Int)\n",
    "gee1(1, 2, 3, 4)(5)\n",
    "gee2(1, 2, 3)"
   ]
  },
  {
   "cell_type": "code",
   "execution_count": 64,
   "metadata": {},
   "outputs": [
    {
     "data": {
      "text/plain": [
       "\u001b[36msumReduce\u001b[39m: (\u001b[32mInt\u001b[39m => \u001b[32mInt\u001b[39m, \u001b[32mInt\u001b[39m, \u001b[32mInt\u001b[39m) => \u001b[32mInt\u001b[39m = ammonite.$sess.cmd63$Helper$$Lambda$2688/1976031066@32b0a2b3\n",
       "\u001b[36mproductReduce\u001b[39m: (\u001b[32mInt\u001b[39m => \u001b[32mInt\u001b[39m, \u001b[32mInt\u001b[39m, \u001b[32mInt\u001b[39m) => \u001b[32mInt\u001b[39m = ammonite.$sess.cmd63$Helper$$Lambda$2689/1263522144@7dfa4a04\n",
       "\u001b[36mres63_2\u001b[39m: \u001b[32mInt\u001b[39m = \u001b[32m15\u001b[39m\n",
       "\u001b[36mres63_3\u001b[39m: \u001b[32mInt\u001b[39m = \u001b[32m120\u001b[39m"
      ]
     },
     "execution_count": 64,
     "metadata": {},
     "output_type": "execute_result"
    }
   ],
   "source": [
    "val sumReduce = mapReduce((x,y)=>x+y)(_: Int=>Int)(0, _: Int, _: Int)\n",
    "val productReduce = mapReduce((x,y)=>x*y)(_: Int=>Int)(1, _: Int, _: Int)\n",
    "\n",
    "sumReduce((x)=>x, 1, 5)\n",
    "productReduce((x)=>x, 1, 5)"
   ]
  },
  {
   "cell_type": "code",
   "execution_count": 62,
   "metadata": {},
   "outputs": [
    {
     "data": {
      "text/plain": [
       "defined \u001b[32mfunction\u001b[39m \u001b[36msumReduce\u001b[39m\n",
       "defined \u001b[32mfunction\u001b[39m \u001b[36mproductReduce\u001b[39m\n",
       "\u001b[36mres61_2\u001b[39m: \u001b[32mInt\u001b[39m = \u001b[32m705082704\u001b[39m\n",
       "\u001b[36mres61_3\u001b[39m: \u001b[32mInt\u001b[39m = \u001b[32m120\u001b[39m"
      ]
     },
     "execution_count": 62,
     "metadata": {},
     "output_type": "execute_result"
    }
   ],
   "source": [
    "def sumReduce = (map: Int=>Int) => (a: Int, b: Int) => mapReduce((x,y)=>x+y)(map)(0, a, b)\n",
    "def productReduce = (map: Int=>Int) => (a: Int, b: Int) => mapReduce((x,y)=>x*y)(map)(1, a, b)\n",
    "\n",
    "sumReduce((x)=>x)(1, 100000)\n",
    "productReduce((x)=>x)(1, 5)"
   ]
  },
  {
   "cell_type": "code",
   "execution_count": 70,
   "metadata": {},
   "outputs": [
    {
     "name": "stdout",
     "output_type": "stream",
     "text": [
      "6\n",
      "fact range error: -10\n"
     ]
    },
    {
     "data": {
      "text/plain": [
       "defined \u001b[32mclass\u001b[39m \u001b[36mfactRangeException\u001b[39m\n",
       "defined \u001b[32mfunction\u001b[39m \u001b[36mfact\u001b[39m"
      ]
     },
     "execution_count": 70,
     "metadata": {},
     "output_type": "execute_result"
    }
   ],
   "source": [
    "class factRangeException(val arg: Int) extends Exception\n",
    "\n",
    "def fact(n: Int): Int = {\n",
    "    if (n < 0) throw new factRangeException(n)\n",
    "    else if (n == 0) 1\n",
    "    else n * fact(n-1)\n",
    "}\n",
    "\n",
    "try {\n",
    "    println(fact(3))\n",
    "    println(fact(-10))\n",
    "} catch {\n",
    "    case e: factRangeException => {\n",
    "        println(\"fact range error: \" + e.arg)\n",
    "    }\n",
    "}"
   ]
  },
  {
   "cell_type": "code",
   "execution_count": 94,
   "metadata": {},
   "outputs": [
    {
     "data": {
      "text/plain": [
       "\u001b[36mres93_0\u001b[39m: \u001b[32mInt\u001b[39m = \u001b[32m1\u001b[39m\n",
       "defined \u001b[32mobject\u001b[39m \u001b[36mfoo\u001b[39m\n",
       "\u001b[36mres93_2\u001b[39m: \u001b[32mInt\u001b[39m = \u001b[32m100\u001b[39m\n",
       "defined \u001b[32mfunction\u001b[39m \u001b[36mg\u001b[39m\n",
       "\u001b[36mres93_4\u001b[39m: () => () => () => \u001b[32mInt\u001b[39m => \u001b[32mInt\u001b[39m = ammonite.$sess.cmd93$Helper$$Lambda$3086/170753323@585f1a08"
      ]
     },
     "execution_count": 94,
     "metadata": {},
     "output_type": "execute_result"
    }
   ],
   "source": [
    "(1,2,3)._1\n",
    "\n",
    "object foo {\n",
    "    val a = 3; val b = 3; val f: Int=>Int = (x)=>x*x\n",
    "}\n",
    "foo.f(10)\n",
    "def g = () => foo.f _\n",
    "g _"
   ]
  },
  {
   "cell_type": "code",
   "execution_count": 88,
   "metadata": {},
   "outputs": [
    {
     "data": {
      "text/plain": [
       "\u001b[36mres87_0\u001b[39m: \u001b[32mOption\u001b[39m.type = scala.Option$@3f6b9e96\n",
       "\u001b[36mres87_1\u001b[39m: \u001b[32mSome\u001b[39m.type = Some\n",
       "\u001b[36mres87_2\u001b[39m: \u001b[32mNone\u001b[39m.type = \u001b[32mNone\u001b[39m\n",
       "\u001b[36mres87_3\u001b[39m: \u001b[32mNil\u001b[39m.type = \u001b[33mList\u001b[39m()"
      ]
     },
     "execution_count": 88,
     "metadata": {},
     "output_type": "execute_result"
    }
   ],
   "source": [
    "Option\n",
    "Some\n",
    "None\n",
    "Nil"
   ]
  },
  {
   "cell_type": "code",
   "execution_count": 1,
   "metadata": {},
   "outputs": [
    {
     "name": "stdout",
     "output_type": "stream",
     "text": [
      "1 2 3 4 5 6 7 8 9 10 "
     ]
    },
    {
     "data": {
      "text/plain": [
       "\u001b[32mimport \u001b[39m\u001b[36mscala.annotation.tailrec\n",
       "\u001b[39m\n",
       "\u001b[32mimport \u001b[39m\u001b[36mscala.util.control.TailCalls._\n",
       "\n",
       "\u001b[39m\n",
       "defined \u001b[32mclass\u001b[39m \u001b[36mIList\u001b[39m\n",
       "defined \u001b[32mclass\u001b[39m \u001b[36mINil\u001b[39m\n",
       "defined \u001b[32mclass\u001b[39m \u001b[36mICons\u001b[39m\n",
       "\u001b[36mx\u001b[39m: \u001b[32mIList\u001b[39m = \u001b[33mICons\u001b[39m(\u001b[32m2\u001b[39m, \u001b[33mICons\u001b[39m(\u001b[32m3\u001b[39m, INil()))\n",
       "defined \u001b[32mfunction\u001b[39m \u001b[36mgen\u001b[39m\n",
       "defined \u001b[32mfunction\u001b[39m \u001b[36mshow\u001b[39m\n",
       "\u001b[36mres0_8\u001b[39m: \u001b[32mAny\u001b[39m = ()"
      ]
     },
     "execution_count": 1,
     "metadata": {},
     "output_type": "execute_result"
    }
   ],
   "source": [
    "import scala.annotation.tailrec\n",
    "import scala.util.control.TailCalls._\n",
    "\n",
    "abstract sealed class IList\n",
    "case class INil() extends IList\n",
    "case class ICons(hd: Int, tl: IList) extends IList\n",
    "\n",
    "val x: IList = ICons(2, ICons(3, INil()))\n",
    "\n",
    "def gen(n: Int): IList = {\n",
    "    @tailrec\n",
    "    def genTail(n: Int, acc: IList): IList = {\n",
    "        if (n <= 0) acc\n",
    "        else genTail(n-1, ICons(n, acc))\n",
    "    }\n",
    "    @tailrec\n",
    "    def genCont(n: Int, cont: IList=>TailRec[IList]): IList = {\n",
    "        if (n <= 0) cont(INil()).result\n",
    "        else genCont(n-1, (r)=>tailcall(cont(ICons(n, r))))\n",
    "    }\n",
    "    genTail(n, INil())\n",
    "//     genCont(n, (r)=>done(r))\n",
    "}\n",
    "\n",
    "@tailrec\n",
    "def show(x: IList): Any = {\n",
    "    x match {\n",
    "        case INil() => print(\"\")\n",
    "        case ICons(hd, tl) => print(hd + \" \"); show(tl)\n",
    "    }\n",
    "}\n",
    "show(gen(10))"
   ]
  },
  {
   "cell_type": "code",
   "execution_count": 2,
   "metadata": {},
   "outputs": [
    {
     "data": {
      "text/plain": [
       "\u001b[32mimport \u001b[39m\u001b[36mscala.annotation.tailrec\n",
       "\u001b[39m\n",
       "\u001b[32mimport \u001b[39m\u001b[36mscala.util.control.TailCalls._\n",
       "\n",
       "\u001b[39m\n",
       "defined \u001b[32mfunction\u001b[39m \u001b[36mlen\u001b[39m\n",
       "\u001b[36mres1_3\u001b[39m: \u001b[32mInt\u001b[39m = \u001b[32m1000000\u001b[39m"
      ]
     },
     "execution_count": 2,
     "metadata": {},
     "output_type": "execute_result"
    }
   ],
   "source": [
    "import scala.annotation.tailrec\n",
    "import scala.util.control.TailCalls._\n",
    "\n",
    "def len(x: IList): Int = {\n",
    "    @tailrec\n",
    "    def lenTail(x: IList, l: Int): Int = {\n",
    "        x match {\n",
    "            case INil() => l\n",
    "            case ICons(_, tl) => lenTail(tl, l+1)\n",
    "        }      \n",
    "    }\n",
    "    lenTail(x, 0)\n",
    "}\n",
    "len(gen(1000000))"
   ]
  },
  {
   "cell_type": "code",
   "execution_count": 9,
   "metadata": {
    "scrolled": true
   },
   "outputs": [
    {
     "data": {
      "text/plain": [
       "\u001b[32mimport \u001b[39m\u001b[36mscala.annotation.tailrec\n",
       "\u001b[39m\n",
       "\u001b[32mimport \u001b[39m\u001b[36mscala.util.control.TailCalls._\n",
       "\n",
       "\u001b[39m\n",
       "defined \u001b[32mclass\u001b[39m \u001b[36mBtree\u001b[39m\n",
       "defined \u001b[32mclass\u001b[39m \u001b[36mLeaf\u001b[39m\n",
       "defined \u001b[32mclass\u001b[39m \u001b[36mNode\u001b[39m\n",
       "defined \u001b[32mfunction\u001b[39m \u001b[36mgen\u001b[39m\n",
       "\u001b[36mres8_6\u001b[39m: \u001b[32mBtree\u001b[39m = \u001b[33mNode\u001b[39m(\n",
       "  \u001b[32m10000\u001b[39m,\n",
       "  \u001b[33mNode\u001b[39m(\n",
       "    \u001b[32m9999\u001b[39m,\n",
       "    \u001b[33mNode\u001b[39m(\n",
       "      \u001b[32m9998\u001b[39m,\n",
       "      \u001b[33mNode\u001b[39m(\n",
       "        \u001b[32m9997\u001b[39m,\n",
       "        \u001b[33mNode\u001b[39m(\n",
       "          \u001b[32m9996\u001b[39m,\n",
       "          \u001b[33mNode\u001b[39m(\n",
       "            \u001b[32m9995\u001b[39m,\n",
       "            \u001b[33mNode\u001b[39m(\n",
       "              \u001b[32m9994\u001b[39m,\n",
       "              \u001b[33mNode\u001b[39m(\n",
       "                \u001b[32m9993\u001b[39m,\n",
       "                \u001b[33mNode\u001b[39m(\n",
       "                  \u001b[32m9992\u001b[39m,\n",
       "                  \u001b[33mNode\u001b[39m(\n",
       "                    \u001b[32m9991\u001b[39m,\n",
       "                    \u001b[33mNode\u001b[39m(\n",
       "                      \u001b[32m9990\u001b[39m,\n",
       "                      \u001b[33mNode\u001b[39m(\n",
       "                        \u001b[32m9989\u001b[39m,\n",
       "                        \u001b[33mNode\u001b[39m(\n",
       "                          \u001b[32m9988\u001b[39m,\n",
       "                          \u001b[33mNode\u001b[39m(\n",
       "                            \u001b[32m9987\u001b[39m,\n",
       "                            \u001b[33mNode\u001b[39m(\n",
       "                              \u001b[32m9986\u001b[39m,\n",
       "                              \u001b[33mNode\u001b[39m(\n",
       "                                \u001b[32m9985\u001b[39m,\n",
       "                                \u001b[33mNode\u001b[39m(\n",
       "                                  \u001b[32m9984\u001b[39m,\n",
       "                                  \u001b[33mNode\u001b[39m(\n",
       "                                    \u001b[32m9983\u001b[39m,\n",
       "                                    \u001b[33mNode\u001b[39m(\n",
       "                                      \u001b[32m9982\u001b[39m,\n",
       "                                      \u001b[33mNode\u001b[39m(\n",
       "..."
      ]
     },
     "execution_count": 9,
     "metadata": {},
     "output_type": "execute_result"
    }
   ],
   "source": [
    "import scala.annotation.tailrec\n",
    "import scala.util.control.TailCalls._\n",
    "\n",
    "sealed abstract class Btree\n",
    "case class Leaf() extends Btree\n",
    "case class Node(v: Int, lt: Btree, rt: Btree) extends Btree\n",
    "\n",
    "def gen(n: Int): Btree = {    \n",
    "    @tailrec\n",
    "    def genTail(n: Int, acc: Btree): Btree = {\n",
    "        if (n <= 0) acc\n",
    "        else genTail(n-1, Node(n, acc, Leaf()))\n",
    "    }\n",
    "    @tailrec\n",
    "    def genCont(n: Int, cont: Btree=>TailRec[Btree]): Btree = {\n",
    "        if (n <= 0) cont(Leaf()).result\n",
    "        else genCont(n-1, (r)=>tailcall(cont(Node(n, r, Leaf()))))\n",
    "    }\n",
    "//     genTail(n, Leaf())\n",
    "    genCont(n, (r)=>done(r))\n",
    "}\n",
    "gen(10000)"
   ]
  },
  {
   "cell_type": "code",
   "execution_count": 20,
   "metadata": {},
   "outputs": [
    {
     "data": {
      "text/plain": [
       "defined \u001b[32mfunction\u001b[39m \u001b[36mfind\u001b[39m\n",
       "\u001b[36mres19_1\u001b[39m: \u001b[32mBoolean\u001b[39m = true"
      ]
     },
     "execution_count": 20,
     "metadata": {},
     "output_type": "execute_result"
    }
   ],
   "source": [
    "def find(t: Btree, x: Int): Boolean = {\n",
    "    t match {\n",
    "        case Leaf() => false\n",
    "        case Node(v, _, _) if (v == x) => true\n",
    "        case Node(_, lt, rt) => find(lt, x) || find(rt, x)\n",
    "    }\n",
    "}\n",
    "find(gen(100), 100)"
   ]
  },
  {
   "cell_type": "code",
   "execution_count": 24,
   "metadata": {},
   "outputs": [
    {
     "data": {
      "text/plain": [
       "\u001b[32mimport \u001b[39m\u001b[36mscala.annotation.tailrec\n",
       "\u001b[39m\n",
       "\u001b[32mimport \u001b[39m\u001b[36mscala.util.control.TailCalls._\n",
       "\n",
       "\u001b[39m\n",
       "defined \u001b[32mclass\u001b[39m \u001b[36mBtreeList\u001b[39m\n",
       "defined \u001b[32mclass\u001b[39m \u001b[36mBNil\u001b[39m\n",
       "defined \u001b[32mclass\u001b[39m \u001b[36mBCons\u001b[39m\n",
       "defined \u001b[32mfunction\u001b[39m \u001b[36mfind\u001b[39m\n",
       "\u001b[36mres23_6\u001b[39m: \u001b[32mBoolean\u001b[39m = false"
      ]
     },
     "execution_count": 24,
     "metadata": {},
     "output_type": "execute_result"
    }
   ],
   "source": [
    "import scala.annotation.tailrec\n",
    "import scala.util.control.TailCalls._\n",
    "\n",
    "sealed abstract class BtreeList\n",
    "case class BNil() extends BtreeList\n",
    "case class BCons(hd: Btree, tl: BtreeList) extends BtreeList\n",
    "\n",
    "def find(t: Btree, x: Int): Boolean = {\n",
    "    @tailrec\n",
    "    def findIter(x: BtreeList): Boolean = {\n",
    "        x match {\n",
    "            case BNil() => false\n",
    "            case BCons(Leaf(), tl) => findIter(tl)\n",
    "            case BCons(Node(v, _, _), _) if (v == x) => true\n",
    "            case BCons(Node(_, lt, rt), tl) => findIter(BCons(lt, BCons(rt, tl)))\n",
    "        }\n",
    "    }\n",
    "    findIter(BCons(t, BNil()))\n",
    "}\n",
    "find(gen(10000), -1)"
   ]
  },
  {
   "cell_type": "code",
   "execution_count": 18,
   "metadata": {},
   "outputs": [
    {
     "data": {
      "text/plain": [
       "defined \u001b[32mfunction\u001b[39m \u001b[36mfibo\u001b[39m\n",
       "\u001b[36mres17_1\u001b[39m: \u001b[32mInt\u001b[39m = \u001b[32m102334155\u001b[39m"
      ]
     },
     "execution_count": 18,
     "metadata": {},
     "output_type": "execute_result"
    }
   ],
   "source": [
    "def fibo(n: Int): Int = {\n",
    "    n match {\n",
    "        case k if (k <= 1) => k\n",
    "        case k => fibo(k-1) + fibo(k-2)\n",
    "    }\n",
    "}\n",
    "\n",
    "fibo(40)"
   ]
  },
  {
   "cell_type": "code",
   "execution_count": 19,
   "metadata": {},
   "outputs": [
    {
     "data": {
      "text/plain": [
       "\u001b[32mimport \u001b[39m\u001b[36mscala.annotation.tailrec\n",
       "\u001b[39m\n",
       "\u001b[32mimport \u001b[39m\u001b[36mscala.util.control.TailCalls._\n",
       "\n",
       "\u001b[39m\n",
       "defined \u001b[32mfunction\u001b[39m \u001b[36mfibo\u001b[39m\n",
       "\u001b[36mres18_3\u001b[39m: \u001b[32mInt\u001b[39m = \u001b[32m102334155\u001b[39m"
      ]
     },
     "execution_count": 19,
     "metadata": {},
     "output_type": "execute_result"
    }
   ],
   "source": [
    "import scala.annotation.tailrec\n",
    "import scala.util.control.TailCalls._\n",
    "\n",
    "def fibo(n: Int) = {\n",
    "    @tailrec\n",
    "    def fiboIter(x: IList, acc: Int): Int = {\n",
    "        x match {\n",
    "            case INil() => acc\n",
    "            case ICons(hd, tl) if (hd <= 1) => fiboIter(tl, acc + hd)\n",
    "            case ICons(hd, tl) => fiboIter(ICons(hd-1, ICons(hd-2, tl)), acc)\n",
    "        }\n",
    "    }\n",
    "    fiboIter(ICons(n, INil()), 0)\n",
    "}\n",
    "fibo(40)"
   ]
  },
  {
   "cell_type": "code",
   "execution_count": 22,
   "metadata": {},
   "outputs": [
    {
     "data": {
      "text/plain": [
       "defined \u001b[32mfunction\u001b[39m \u001b[36mid\u001b[39m\n",
       "\u001b[36mres21_1\u001b[39m: \u001b[32mInt\u001b[39m = \u001b[32m3\u001b[39m\n",
       "\u001b[36mres21_2\u001b[39m: \u001b[32mString\u001b[39m = \u001b[32m\"abc\"\u001b[39m\n",
       "\u001b[36mres21_3\u001b[39m: \u001b[32mString\u001b[39m => \u001b[32mString\u001b[39m = ammonite.$sess.cmd21$Helper$$Lambda$2455/1494449305@53683b9"
      ]
     },
     "execution_count": 22,
     "metadata": {},
     "output_type": "execute_result"
    }
   ],
   "source": [
    "def id[A](x:A) = x\n",
    "id(3)\n",
    "id(\"abc\")\n",
    "id[String] _"
   ]
  },
  {
   "cell_type": "code",
   "execution_count": 27,
   "metadata": {
    "scrolled": true
   },
   "outputs": [
    {
     "ename": "",
     "evalue": "",
     "output_type": "error",
     "traceback": [
      "\u001b[31mjava.lang.StackOverflowError\u001b[39m\n  ammonite.$sess.cmd26$Helper.applyn(\u001b[32mcmd26.sc\u001b[39m:\u001b[32m4\u001b[39m)\n  ammonite.$sess.cmd26$Helper.applyn(\u001b[32mcmd26.sc\u001b[39m:\u001b[32m4\u001b[39m)\n  ammonite.$sess.cmd26$Helper.applyn(\u001b[32mcmd26.sc\u001b[39m:\u001b[32m4\u001b[39m)\n  ammonite.$sess.cmd26$Helper.applyn(\u001b[32mcmd26.sc\u001b[39m:\u001b[32m4\u001b[39m)\n  ammonite.$sess.cmd26$Helper.applyn(\u001b[32mcmd26.sc\u001b[39m:\u001b[32m4\u001b[39m)\n  ammonite.$sess.cmd26$Helper.applyn(\u001b[32mcmd26.sc\u001b[39m:\u001b[32m4\u001b[39m)\n  ammonite.$sess.cmd26$Helper.applyn(\u001b[32mcmd26.sc\u001b[39m:\u001b[32m4\u001b[39m)\n  ammonite.$sess.cmd26$Helper.applyn(\u001b[32mcmd26.sc\u001b[39m:\u001b[32m4\u001b[39m)\n  ammonite.$sess.cmd26$Helper.applyn(\u001b[32mcmd26.sc\u001b[39m:\u001b[32m4\u001b[39m)\n  ammonite.$sess.cmd26$Helper.applyn(\u001b[32mcmd26.sc\u001b[39m:\u001b[32m4\u001b[39m)\n  ammonite.$sess.cmd26$Helper.applyn(\u001b[32mcmd26.sc\u001b[39m:\u001b[32m4\u001b[39m)\n  ammonite.$sess.cmd26$Helper.applyn(\u001b[32mcmd26.sc\u001b[39m:\u001b[32m4\u001b[39m)\n  ammonite.$sess.cmd26$Helper.applyn(\u001b[32mcmd26.sc\u001b[39m:\u001b[32m4\u001b[39m)\n  ammonite.$sess.cmd26$Helper.applyn(\u001b[32mcmd26.sc\u001b[39m:\u001b[32m4\u001b[39m)\n  ammonite.$sess.cmd26$Helper.applyn(\u001b[32mcmd26.sc\u001b[39m:\u001b[32m4\u001b[39m)\n  ammonite.$sess.cmd26$Helper.applyn(\u001b[32mcmd26.sc\u001b[39m:\u001b[32m4\u001b[39m)\n  ammonite.$sess.cmd26$Helper.applyn(\u001b[32mcmd26.sc\u001b[39m:\u001b[32m4\u001b[39m)\n  ammonite.$sess.cmd26$Helper.applyn(\u001b[32mcmd26.sc\u001b[39m:\u001b[32m4\u001b[39m)\n  ammonite.$sess.cmd26$Helper.applyn(\u001b[32mcmd26.sc\u001b[39m:\u001b[32m4\u001b[39m)\n  ammonite.$sess.cmd26$Helper.applyn(\u001b[32mcmd26.sc\u001b[39m:\u001b[32m4\u001b[39m)\n  ammonite.$sess.cmd26$Helper.applyn(\u001b[32mcmd26.sc\u001b[39m:\u001b[32m4\u001b[39m)\n  ammonite.$sess.cmd26$Helper.applyn(\u001b[32mcmd26.sc\u001b[39m:\u001b[32m4\u001b[39m)\n  ammonite.$sess.cmd26$Helper.applyn(\u001b[32mcmd26.sc\u001b[39m:\u001b[32m4\u001b[39m)\n  ammonite.$sess.cmd26$Helper.applyn(\u001b[32mcmd26.sc\u001b[39m:\u001b[32m4\u001b[39m)\n  ammonite.$sess.cmd26$Helper.applyn(\u001b[32mcmd26.sc\u001b[39m:\u001b[32m4\u001b[39m)\n  ammonite.$sess.cmd26$Helper.applyn(\u001b[32mcmd26.sc\u001b[39m:\u001b[32m4\u001b[39m)\n  ammonite.$sess.cmd26$Helper.applyn(\u001b[32mcmd26.sc\u001b[39m:\u001b[32m4\u001b[39m)\n  ammonite.$sess.cmd26$Helper.applyn(\u001b[32mcmd26.sc\u001b[39m:\u001b[32m4\u001b[39m)\n  ammonite.$sess.cmd26$Helper.applyn(\u001b[32mcmd26.sc\u001b[39m:\u001b[32m4\u001b[39m)\n  ammonite.$sess.cmd26$Helper.applyn(\u001b[32mcmd26.sc\u001b[39m:\u001b[32m4\u001b[39m)\n  ammonite.$sess.cmd26$Helper.applyn(\u001b[32mcmd26.sc\u001b[39m:\u001b[32m4\u001b[39m)\n  ammonite.$sess.cmd26$Helper.applyn(\u001b[32mcmd26.sc\u001b[39m:\u001b[32m4\u001b[39m)\n  ammonite.$sess.cmd26$Helper.applyn(\u001b[32mcmd26.sc\u001b[39m:\u001b[32m4\u001b[39m)\n  ammonite.$sess.cmd26$Helper.applyn(\u001b[32mcmd26.sc\u001b[39m:\u001b[32m4\u001b[39m)\n  ammonite.$sess.cmd26$Helper.applyn(\u001b[32mcmd26.sc\u001b[39m:\u001b[32m4\u001b[39m)\n  ammonite.$sess.cmd26$Helper.applyn(\u001b[32mcmd26.sc\u001b[39m:\u001b[32m4\u001b[39m)\n  ammonite.$sess.cmd26$Helper.applyn(\u001b[32mcmd26.sc\u001b[39m:\u001b[32m4\u001b[39m)\n  ammonite.$sess.cmd26$Helper.applyn(\u001b[32mcmd26.sc\u001b[39m:\u001b[32m4\u001b[39m)\n  ammonite.$sess.cmd26$Helper.applyn(\u001b[32mcmd26.sc\u001b[39m:\u001b[32m4\u001b[39m)\n  ammonite.$sess.cmd26$Helper.applyn(\u001b[32mcmd26.sc\u001b[39m:\u001b[32m4\u001b[39m)\n  ammonite.$sess.cmd26$Helper.applyn(\u001b[32mcmd26.sc\u001b[39m:\u001b[32m4\u001b[39m)\n  ammonite.$sess.cmd26$Helper.applyn(\u001b[32mcmd26.sc\u001b[39m:\u001b[32m4\u001b[39m)\n  ammonite.$sess.cmd26$Helper.applyn(\u001b[32mcmd26.sc\u001b[39m:\u001b[32m4\u001b[39m)\n  ammonite.$sess.cmd26$Helper.applyn(\u001b[32mcmd26.sc\u001b[39m:\u001b[32m4\u001b[39m)\n  ammonite.$sess.cmd26$Helper.applyn(\u001b[32mcmd26.sc\u001b[39m:\u001b[32m4\u001b[39m)\n  ammonite.$sess.cmd26$Helper.applyn(\u001b[32mcmd26.sc\u001b[39m:\u001b[32m4\u001b[39m)\n  ammonite.$sess.cmd26$Helper.applyn(\u001b[32mcmd26.sc\u001b[39m:\u001b[32m4\u001b[39m)\n  ammonite.$sess.cmd26$Helper.applyn(\u001b[32mcmd26.sc\u001b[39m:\u001b[32m4\u001b[39m)\n  ammonite.$sess.cmd26$Helper.applyn(\u001b[32mcmd26.sc\u001b[39m:\u001b[32m4\u001b[39m)\n  ammonite.$sess.cmd26$Helper.applyn(\u001b[32mcmd26.sc\u001b[39m:\u001b[32m4\u001b[39m)\n  ammonite.$sess.cmd26$Helper.applyn(\u001b[32mcmd26.sc\u001b[39m:\u001b[32m4\u001b[39m)\n  ammonite.$sess.cmd26$Helper.applyn(\u001b[32mcmd26.sc\u001b[39m:\u001b[32m4\u001b[39m)\n  ammonite.$sess.cmd26$Helper.applyn(\u001b[32mcmd26.sc\u001b[39m:\u001b[32m4\u001b[39m)\n  ammonite.$sess.cmd26$Helper.applyn(\u001b[32mcmd26.sc\u001b[39m:\u001b[32m4\u001b[39m)\n  ammonite.$sess.cmd26$Helper.applyn(\u001b[32mcmd26.sc\u001b[39m:\u001b[32m4\u001b[39m)\n  ammonite.$sess.cmd26$Helper.applyn(\u001b[32mcmd26.sc\u001b[39m:\u001b[32m4\u001b[39m)\n  ammonite.$sess.cmd26$Helper.applyn(\u001b[32mcmd26.sc\u001b[39m:\u001b[32m4\u001b[39m)\n  ammonite.$sess.cmd26$Helper.applyn(\u001b[32mcmd26.sc\u001b[39m:\u001b[32m4\u001b[39m)\n  ammonite.$sess.cmd26$Helper.applyn(\u001b[32mcmd26.sc\u001b[39m:\u001b[32m4\u001b[39m)\n  ammonite.$sess.cmd26$Helper.applyn(\u001b[32mcmd26.sc\u001b[39m:\u001b[32m4\u001b[39m)\n  ammonite.$sess.cmd26$Helper.applyn(\u001b[32mcmd26.sc\u001b[39m:\u001b[32m4\u001b[39m)\n  ammonite.$sess.cmd26$Helper.applyn(\u001b[32mcmd26.sc\u001b[39m:\u001b[32m4\u001b[39m)\n  ammonite.$sess.cmd26$Helper.applyn(\u001b[32mcmd26.sc\u001b[39m:\u001b[32m4\u001b[39m)\n  ammonite.$sess.cmd26$Helper.applyn(\u001b[32mcmd26.sc\u001b[39m:\u001b[32m4\u001b[39m)\n  ammonite.$sess.cmd26$Helper.applyn(\u001b[32mcmd26.sc\u001b[39m:\u001b[32m4\u001b[39m)\n  ammonite.$sess.cmd26$Helper.applyn(\u001b[32mcmd26.sc\u001b[39m:\u001b[32m4\u001b[39m)\n  ammonite.$sess.cmd26$Helper.applyn(\u001b[32mcmd26.sc\u001b[39m:\u001b[32m4\u001b[39m)\n  ammonite.$sess.cmd26$Helper.applyn(\u001b[32mcmd26.sc\u001b[39m:\u001b[32m4\u001b[39m)\n  ammonite.$sess.cmd26$Helper.applyn(\u001b[32mcmd26.sc\u001b[39m:\u001b[32m4\u001b[39m)\n  ammonite.$sess.cmd26$Helper.applyn(\u001b[32mcmd26.sc\u001b[39m:\u001b[32m4\u001b[39m)\n  ammonite.$sess.cmd26$Helper.applyn(\u001b[32mcmd26.sc\u001b[39m:\u001b[32m4\u001b[39m)\n  ammonite.$sess.cmd26$Helper.applyn(\u001b[32mcmd26.sc\u001b[39m:\u001b[32m4\u001b[39m)\n  ammonite.$sess.cmd26$Helper.applyn(\u001b[32mcmd26.sc\u001b[39m:\u001b[32m4\u001b[39m)\n  ammonite.$sess.cmd26$Helper.applyn(\u001b[32mcmd26.sc\u001b[39m:\u001b[32m4\u001b[39m)\n  ammonite.$sess.cmd26$Helper.applyn(\u001b[32mcmd26.sc\u001b[39m:\u001b[32m4\u001b[39m)\n  ammonite.$sess.cmd26$Helper.applyn(\u001b[32mcmd26.sc\u001b[39m:\u001b[32m4\u001b[39m)\n  ammonite.$sess.cmd26$Helper.applyn(\u001b[32mcmd26.sc\u001b[39m:\u001b[32m4\u001b[39m)\n  ammonite.$sess.cmd26$Helper.applyn(\u001b[32mcmd26.sc\u001b[39m:\u001b[32m4\u001b[39m)\n  ammonite.$sess.cmd26$Helper.applyn(\u001b[32mcmd26.sc\u001b[39m:\u001b[32m4\u001b[39m)\n  ammonite.$sess.cmd26$Helper.applyn(\u001b[32mcmd26.sc\u001b[39m:\u001b[32m4\u001b[39m)\n  ammonite.$sess.cmd26$Helper.applyn(\u001b[32mcmd26.sc\u001b[39m:\u001b[32m4\u001b[39m)\n  ammonite.$sess.cmd26$Helper.applyn(\u001b[32mcmd26.sc\u001b[39m:\u001b[32m4\u001b[39m)\n  ammonite.$sess.cmd26$Helper.applyn(\u001b[32mcmd26.sc\u001b[39m:\u001b[32m4\u001b[39m)\n  ammonite.$sess.cmd26$Helper.applyn(\u001b[32mcmd26.sc\u001b[39m:\u001b[32m4\u001b[39m)\n  ammonite.$sess.cmd26$Helper.applyn(\u001b[32mcmd26.sc\u001b[39m:\u001b[32m4\u001b[39m)\n  ammonite.$sess.cmd26$Helper.applyn(\u001b[32mcmd26.sc\u001b[39m:\u001b[32m4\u001b[39m)\n  ammonite.$sess.cmd26$Helper.applyn(\u001b[32mcmd26.sc\u001b[39m:\u001b[32m4\u001b[39m)\n  ammonite.$sess.cmd26$Helper.applyn(\u001b[32mcmd26.sc\u001b[39m:\u001b[32m4\u001b[39m)\n  ammonite.$sess.cmd26$Helper.applyn(\u001b[32mcmd26.sc\u001b[39m:\u001b[32m4\u001b[39m)\n  ammonite.$sess.cmd26$Helper.applyn(\u001b[32mcmd26.sc\u001b[39m:\u001b[32m4\u001b[39m)\n  ammonite.$sess.cmd26$Helper.applyn(\u001b[32mcmd26.sc\u001b[39m:\u001b[32m4\u001b[39m)\n  ammonite.$sess.cmd26$Helper.applyn(\u001b[32mcmd26.sc\u001b[39m:\u001b[32m4\u001b[39m)\n  ammonite.$sess.cmd26$Helper.applyn(\u001b[32mcmd26.sc\u001b[39m:\u001b[32m4\u001b[39m)\n  ammonite.$sess.cmd26$Helper.applyn(\u001b[32mcmd26.sc\u001b[39m:\u001b[32m4\u001b[39m)\n  ammonite.$sess.cmd26$Helper.applyn(\u001b[32mcmd26.sc\u001b[39m:\u001b[32m4\u001b[39m)\n  ammonite.$sess.cmd26$Helper.applyn(\u001b[32mcmd26.sc\u001b[39m:\u001b[32m4\u001b[39m)\n  ammonite.$sess.cmd26$Helper.applyn(\u001b[32mcmd26.sc\u001b[39m:\u001b[32m4\u001b[39m)\n  ammonite.$sess.cmd26$Helper.applyn(\u001b[32mcmd26.sc\u001b[39m:\u001b[32m4\u001b[39m)\n  ammonite.$sess.cmd26$Helper.applyn(\u001b[32mcmd26.sc\u001b[39m:\u001b[32m4\u001b[39m)\n  ammonite.$sess.cmd26$Helper.applyn(\u001b[32mcmd26.sc\u001b[39m:\u001b[32m4\u001b[39m)\n  ammonite.$sess.cmd26$Helper.applyn(\u001b[32mcmd26.sc\u001b[39m:\u001b[32m4\u001b[39m)\n  ammonite.$sess.cmd26$Helper.applyn(\u001b[32mcmd26.sc\u001b[39m:\u001b[32m4\u001b[39m)\n  ammonite.$sess.cmd26$Helper.applyn(\u001b[32mcmd26.sc\u001b[39m:\u001b[32m4\u001b[39m)\n  ammonite.$sess.cmd26$Helper.applyn(\u001b[32mcmd26.sc\u001b[39m:\u001b[32m4\u001b[39m)\n  ammonite.$sess.cmd26$Helper.applyn(\u001b[32mcmd26.sc\u001b[39m:\u001b[32m4\u001b[39m)\n  ammonite.$sess.cmd26$Helper.applyn(\u001b[32mcmd26.sc\u001b[39m:\u001b[32m4\u001b[39m)\n  ammonite.$sess.cmd26$Helper.applyn(\u001b[32mcmd26.sc\u001b[39m:\u001b[32m4\u001b[39m)\n  ammonite.$sess.cmd26$Helper.applyn(\u001b[32mcmd26.sc\u001b[39m:\u001b[32m4\u001b[39m)\n  ammonite.$sess.cmd26$Helper.applyn(\u001b[32mcmd26.sc\u001b[39m:\u001b[32m4\u001b[39m)\n  ammonite.$sess.cmd26$Helper.applyn(\u001b[32mcmd26.sc\u001b[39m:\u001b[32m4\u001b[39m)\n  ammonite.$sess.cmd26$Helper.applyn(\u001b[32mcmd26.sc\u001b[39m:\u001b[32m4\u001b[39m)\n  ammonite.$sess.cmd26$Helper.applyn(\u001b[32mcmd26.sc\u001b[39m:\u001b[32m4\u001b[39m)\n  ammonite.$sess.cmd26$Helper.applyn(\u001b[32mcmd26.sc\u001b[39m:\u001b[32m4\u001b[39m)\n  ammonite.$sess.cmd26$Helper.applyn(\u001b[32mcmd26.sc\u001b[39m:\u001b[32m4\u001b[39m)\n  ammonite.$sess.cmd26$Helper.applyn(\u001b[32mcmd26.sc\u001b[39m:\u001b[32m4\u001b[39m)\n  ammonite.$sess.cmd26$Helper.applyn(\u001b[32mcmd26.sc\u001b[39m:\u001b[32m4\u001b[39m)\n  ammonite.$sess.cmd26$Helper.applyn(\u001b[32mcmd26.sc\u001b[39m:\u001b[32m4\u001b[39m)\n  ammonite.$sess.cmd26$Helper.applyn(\u001b[32mcmd26.sc\u001b[39m:\u001b[32m4\u001b[39m)\n  ammonite.$sess.cmd26$Helper.applyn(\u001b[32mcmd26.sc\u001b[39m:\u001b[32m4\u001b[39m)\n  ammonite.$sess.cmd26$Helper.applyn(\u001b[32mcmd26.sc\u001b[39m:\u001b[32m4\u001b[39m)\n  ammonite.$sess.cmd26$Helper.applyn(\u001b[32mcmd26.sc\u001b[39m:\u001b[32m4\u001b[39m)\n  ammonite.$sess.cmd26$Helper.applyn(\u001b[32mcmd26.sc\u001b[39m:\u001b[32m4\u001b[39m)\n  ammonite.$sess.cmd26$Helper.applyn(\u001b[32mcmd26.sc\u001b[39m:\u001b[32m4\u001b[39m)\n  ammonite.$sess.cmd26$Helper.applyn(\u001b[32mcmd26.sc\u001b[39m:\u001b[32m4\u001b[39m)\n  ammonite.$sess.cmd26$Helper.applyn(\u001b[32mcmd26.sc\u001b[39m:\u001b[32m4\u001b[39m)\n  ammonite.$sess.cmd26$Helper.applyn(\u001b[32mcmd26.sc\u001b[39m:\u001b[32m4\u001b[39m)\n  ammonite.$sess.cmd26$Helper.applyn(\u001b[32mcmd26.sc\u001b[39m:\u001b[32m4\u001b[39m)\n  ammonite.$sess.cmd26$Helper.applyn(\u001b[32mcmd26.sc\u001b[39m:\u001b[32m4\u001b[39m)\n  ammonite.$sess.cmd26$Helper.applyn(\u001b[32mcmd26.sc\u001b[39m:\u001b[32m4\u001b[39m)\n  ammonite.$sess.cmd26$Helper.applyn(\u001b[32mcmd26.sc\u001b[39m:\u001b[32m4\u001b[39m)\n  ammonite.$sess.cmd26$Helper.applyn(\u001b[32mcmd26.sc\u001b[39m:\u001b[32m4\u001b[39m)\n  ammonite.$sess.cmd26$Helper.applyn(\u001b[32mcmd26.sc\u001b[39m:\u001b[32m4\u001b[39m)\n  ammonite.$sess.cmd26$Helper.applyn(\u001b[32mcmd26.sc\u001b[39m:\u001b[32m4\u001b[39m)\n  ammonite.$sess.cmd26$Helper.applyn(\u001b[32mcmd26.sc\u001b[39m:\u001b[32m4\u001b[39m)\n  ammonite.$sess.cmd26$Helper.applyn(\u001b[32mcmd26.sc\u001b[39m:\u001b[32m4\u001b[39m)\n  ammonite.$sess.cmd26$Helper.applyn(\u001b[32mcmd26.sc\u001b[39m:\u001b[32m4\u001b[39m)\n  ammonite.$sess.cmd26$Helper.applyn(\u001b[32mcmd26.sc\u001b[39m:\u001b[32m4\u001b[39m)\n  ammonite.$sess.cmd26$Helper.applyn(\u001b[32mcmd26.sc\u001b[39m:\u001b[32m4\u001b[39m)\n  ammonite.$sess.cmd26$Helper.applyn(\u001b[32mcmd26.sc\u001b[39m:\u001b[32m4\u001b[39m)\n  ammonite.$sess.cmd26$Helper.applyn(\u001b[32mcmd26.sc\u001b[39m:\u001b[32m4\u001b[39m)\n  ammonite.$sess.cmd26$Helper.applyn(\u001b[32mcmd26.sc\u001b[39m:\u001b[32m4\u001b[39m)\n  ammonite.$sess.cmd26$Helper.applyn(\u001b[32mcmd26.sc\u001b[39m:\u001b[32m4\u001b[39m)\n  ammonite.$sess.cmd26$Helper.applyn(\u001b[32mcmd26.sc\u001b[39m:\u001b[32m4\u001b[39m)\n  ammonite.$sess.cmd26$Helper.applyn(\u001b[32mcmd26.sc\u001b[39m:\u001b[32m4\u001b[39m)\n  ammonite.$sess.cmd26$Helper.applyn(\u001b[32mcmd26.sc\u001b[39m:\u001b[32m4\u001b[39m)\n  ammonite.$sess.cmd26$Helper.applyn(\u001b[32mcmd26.sc\u001b[39m:\u001b[32m4\u001b[39m)\n  ammonite.$sess.cmd26$Helper.applyn(\u001b[32mcmd26.sc\u001b[39m:\u001b[32m4\u001b[39m)\n  ammonite.$sess.cmd26$Helper.applyn(\u001b[32mcmd26.sc\u001b[39m:\u001b[32m4\u001b[39m)\n  ammonite.$sess.cmd26$Helper.applyn(\u001b[32mcmd26.sc\u001b[39m:\u001b[32m4\u001b[39m)\n  ammonite.$sess.cmd26$Helper.applyn(\u001b[32mcmd26.sc\u001b[39m:\u001b[32m4\u001b[39m)\n  ammonite.$sess.cmd26$Helper.applyn(\u001b[32mcmd26.sc\u001b[39m:\u001b[32m4\u001b[39m)\n  ammonite.$sess.cmd26$Helper.applyn(\u001b[32mcmd26.sc\u001b[39m:\u001b[32m4\u001b[39m)\n  ammonite.$sess.cmd26$Helper.applyn(\u001b[32mcmd26.sc\u001b[39m:\u001b[32m4\u001b[39m)\n  ammonite.$sess.cmd26$Helper.applyn(\u001b[32mcmd26.sc\u001b[39m:\u001b[32m4\u001b[39m)\n  ammonite.$sess.cmd26$Helper.applyn(\u001b[32mcmd26.sc\u001b[39m:\u001b[32m4\u001b[39m)\n  ammonite.$sess.cmd26$Helper.applyn(\u001b[32mcmd26.sc\u001b[39m:\u001b[32m4\u001b[39m)\n  ammonite.$sess.cmd26$Helper.applyn(\u001b[32mcmd26.sc\u001b[39m:\u001b[32m4\u001b[39m)\n  ammonite.$sess.cmd26$Helper.applyn(\u001b[32mcmd26.sc\u001b[39m:\u001b[32m4\u001b[39m)\n  ammonite.$sess.cmd26$Helper.applyn(\u001b[32mcmd26.sc\u001b[39m:\u001b[32m4\u001b[39m)\n  ammonite.$sess.cmd26$Helper.applyn(\u001b[32mcmd26.sc\u001b[39m:\u001b[32m4\u001b[39m)\n  ammonite.$sess.cmd26$Helper.applyn(\u001b[32mcmd26.sc\u001b[39m:\u001b[32m4\u001b[39m)\n  ammonite.$sess.cmd26$Helper.applyn(\u001b[32mcmd26.sc\u001b[39m:\u001b[32m4\u001b[39m)\n  ammonite.$sess.cmd26$Helper.applyn(\u001b[32mcmd26.sc\u001b[39m:\u001b[32m4\u001b[39m)\n  ammonite.$sess.cmd26$Helper.applyn(\u001b[32mcmd26.sc\u001b[39m:\u001b[32m4\u001b[39m)\n  ammonite.$sess.cmd26$Helper.applyn(\u001b[32mcmd26.sc\u001b[39m:\u001b[32m4\u001b[39m)\n  ammonite.$sess.cmd26$Helper.applyn(\u001b[32mcmd26.sc\u001b[39m:\u001b[32m4\u001b[39m)\n  ammonite.$sess.cmd26$Helper.applyn(\u001b[32mcmd26.sc\u001b[39m:\u001b[32m4\u001b[39m)\n  ammonite.$sess.cmd26$Helper.applyn(\u001b[32mcmd26.sc\u001b[39m:\u001b[32m4\u001b[39m)\n  ammonite.$sess.cmd26$Helper.applyn(\u001b[32mcmd26.sc\u001b[39m:\u001b[32m4\u001b[39m)\n  ammonite.$sess.cmd26$Helper.applyn(\u001b[32mcmd26.sc\u001b[39m:\u001b[32m4\u001b[39m)\n  ammonite.$sess.cmd26$Helper.applyn(\u001b[32mcmd26.sc\u001b[39m:\u001b[32m4\u001b[39m)\n  ammonite.$sess.cmd26$Helper.applyn(\u001b[32mcmd26.sc\u001b[39m:\u001b[32m4\u001b[39m)\n  ammonite.$sess.cmd26$Helper.applyn(\u001b[32mcmd26.sc\u001b[39m:\u001b[32m4\u001b[39m)\n  ammonite.$sess.cmd26$Helper.applyn(\u001b[32mcmd26.sc\u001b[39m:\u001b[32m4\u001b[39m)\n  ammonite.$sess.cmd26$Helper.applyn(\u001b[32mcmd26.sc\u001b[39m:\u001b[32m4\u001b[39m)\n  ammonite.$sess.cmd26$Helper.applyn(\u001b[32mcmd26.sc\u001b[39m:\u001b[32m4\u001b[39m)\n  ammonite.$sess.cmd26$Helper.applyn(\u001b[32mcmd26.sc\u001b[39m:\u001b[32m4\u001b[39m)\n  ammonite.$sess.cmd26$Helper.applyn(\u001b[32mcmd26.sc\u001b[39m:\u001b[32m4\u001b[39m)\n  ammonite.$sess.cmd26$Helper.applyn(\u001b[32mcmd26.sc\u001b[39m:\u001b[32m4\u001b[39m)\n  ammonite.$sess.cmd26$Helper.applyn(\u001b[32mcmd26.sc\u001b[39m:\u001b[32m4\u001b[39m)\n  ammonite.$sess.cmd26$Helper.applyn(\u001b[32mcmd26.sc\u001b[39m:\u001b[32m4\u001b[39m)\n  ammonite.$sess.cmd26$Helper.applyn(\u001b[32mcmd26.sc\u001b[39m:\u001b[32m4\u001b[39m)\n  ammonite.$sess.cmd26$Helper.applyn(\u001b[32mcmd26.sc\u001b[39m:\u001b[32m4\u001b[39m)\n  ammonite.$sess.cmd26$Helper.applyn(\u001b[32mcmd26.sc\u001b[39m:\u001b[32m4\u001b[39m)\n  ammonite.$sess.cmd26$Helper.applyn(\u001b[32mcmd26.sc\u001b[39m:\u001b[32m4\u001b[39m)\n  ammonite.$sess.cmd26$Helper.applyn(\u001b[32mcmd26.sc\u001b[39m:\u001b[32m4\u001b[39m)\n  ammonite.$sess.cmd26$Helper.applyn(\u001b[32mcmd26.sc\u001b[39m:\u001b[32m4\u001b[39m)\n  ammonite.$sess.cmd26$Helper.applyn(\u001b[32mcmd26.sc\u001b[39m:\u001b[32m4\u001b[39m)\n  ammonite.$sess.cmd26$Helper.applyn(\u001b[32mcmd26.sc\u001b[39m:\u001b[32m4\u001b[39m)\n  ammonite.$sess.cmd26$Helper.applyn(\u001b[32mcmd26.sc\u001b[39m:\u001b[32m4\u001b[39m)\n  ammonite.$sess.cmd26$Helper.applyn(\u001b[32mcmd26.sc\u001b[39m:\u001b[32m4\u001b[39m)\n  ammonite.$sess.cmd26$Helper.applyn(\u001b[32mcmd26.sc\u001b[39m:\u001b[32m4\u001b[39m)\n  ammonite.$sess.cmd26$Helper.applyn(\u001b[32mcmd26.sc\u001b[39m:\u001b[32m4\u001b[39m)\n  ammonite.$sess.cmd26$Helper.applyn(\u001b[32mcmd26.sc\u001b[39m:\u001b[32m4\u001b[39m)\n  ammonite.$sess.cmd26$Helper.applyn(\u001b[32mcmd26.sc\u001b[39m:\u001b[32m4\u001b[39m)\n  ammonite.$sess.cmd26$Helper.applyn(\u001b[32mcmd26.sc\u001b[39m:\u001b[32m4\u001b[39m)\n  ammonite.$sess.cmd26$Helper.applyn(\u001b[32mcmd26.sc\u001b[39m:\u001b[32m4\u001b[39m)\n  ammonite.$sess.cmd26$Helper.applyn(\u001b[32mcmd26.sc\u001b[39m:\u001b[32m4\u001b[39m)\n  ammonite.$sess.cmd26$Helper.applyn(\u001b[32mcmd26.sc\u001b[39m:\u001b[32m4\u001b[39m)\n  ammonite.$sess.cmd26$Helper.applyn(\u001b[32mcmd26.sc\u001b[39m:\u001b[32m4\u001b[39m)\n  ammonite.$sess.cmd26$Helper.applyn(\u001b[32mcmd26.sc\u001b[39m:\u001b[32m4\u001b[39m)\n  ammonite.$sess.cmd26$Helper.applyn(\u001b[32mcmd26.sc\u001b[39m:\u001b[32m4\u001b[39m)\n  ammonite.$sess.cmd26$Helper.applyn(\u001b[32mcmd26.sc\u001b[39m:\u001b[32m4\u001b[39m)\n  ammonite.$sess.cmd26$Helper.applyn(\u001b[32mcmd26.sc\u001b[39m:\u001b[32m4\u001b[39m)\n  ammonite.$sess.cmd26$Helper.applyn(\u001b[32mcmd26.sc\u001b[39m:\u001b[32m4\u001b[39m)\n  ammonite.$sess.cmd26$Helper.applyn(\u001b[32mcmd26.sc\u001b[39m:\u001b[32m4\u001b[39m)\n  ammonite.$sess.cmd26$Helper.applyn(\u001b[32mcmd26.sc\u001b[39m:\u001b[32m4\u001b[39m)\n  ammonite.$sess.cmd26$Helper.applyn(\u001b[32mcmd26.sc\u001b[39m:\u001b[32m4\u001b[39m)\n  ammonite.$sess.cmd26$Helper.applyn(\u001b[32mcmd26.sc\u001b[39m:\u001b[32m4\u001b[39m)\n  ammonite.$sess.cmd26$Helper.applyn(\u001b[32mcmd26.sc\u001b[39m:\u001b[32m4\u001b[39m)\n  ammonite.$sess.cmd26$Helper.applyn(\u001b[32mcmd26.sc\u001b[39m:\u001b[32m4\u001b[39m)\n  ammonite.$sess.cmd26$Helper.applyn(\u001b[32mcmd26.sc\u001b[39m:\u001b[32m4\u001b[39m)\n  ammonite.$sess.cmd26$Helper.applyn(\u001b[32mcmd26.sc\u001b[39m:\u001b[32m4\u001b[39m)\n  ammonite.$sess.cmd26$Helper.applyn(\u001b[32mcmd26.sc\u001b[39m:\u001b[32m4\u001b[39m)\n  ammonite.$sess.cmd26$Helper.applyn(\u001b[32mcmd26.sc\u001b[39m:\u001b[32m4\u001b[39m)\n  ammonite.$sess.cmd26$Helper.applyn(\u001b[32mcmd26.sc\u001b[39m:\u001b[32m4\u001b[39m)\n  ammonite.$sess.cmd26$Helper.applyn(\u001b[32mcmd26.sc\u001b[39m:\u001b[32m4\u001b[39m)\n  ammonite.$sess.cmd26$Helper.applyn(\u001b[32mcmd26.sc\u001b[39m:\u001b[32m4\u001b[39m)\n  ammonite.$sess.cmd26$Helper.applyn(\u001b[32mcmd26.sc\u001b[39m:\u001b[32m4\u001b[39m)\n  ammonite.$sess.cmd26$Helper.applyn(\u001b[32mcmd26.sc\u001b[39m:\u001b[32m4\u001b[39m)\n  ammonite.$sess.cmd26$Helper.applyn(\u001b[32mcmd26.sc\u001b[39m:\u001b[32m4\u001b[39m)\n  ammonite.$sess.cmd26$Helper.applyn(\u001b[32mcmd26.sc\u001b[39m:\u001b[32m4\u001b[39m)\n  ammonite.$sess.cmd26$Helper.applyn(\u001b[32mcmd26.sc\u001b[39m:\u001b[32m4\u001b[39m)\n  ammonite.$sess.cmd26$Helper.applyn(\u001b[32mcmd26.sc\u001b[39m:\u001b[32m4\u001b[39m)\n  ammonite.$sess.cmd26$Helper.applyn(\u001b[32mcmd26.sc\u001b[39m:\u001b[32m4\u001b[39m)\n  ammonite.$sess.cmd26$Helper.applyn(\u001b[32mcmd26.sc\u001b[39m:\u001b[32m4\u001b[39m)\n  ammonite.$sess.cmd26$Helper.applyn(\u001b[32mcmd26.sc\u001b[39m:\u001b[32m4\u001b[39m)\n  ammonite.$sess.cmd26$Helper.applyn(\u001b[32mcmd26.sc\u001b[39m:\u001b[32m4\u001b[39m)\n  ammonite.$sess.cmd26$Helper.applyn(\u001b[32mcmd26.sc\u001b[39m:\u001b[32m4\u001b[39m)\n  ammonite.$sess.cmd26$Helper.applyn(\u001b[32mcmd26.sc\u001b[39m:\u001b[32m4\u001b[39m)\n  ammonite.$sess.cmd26$Helper.applyn(\u001b[32mcmd26.sc\u001b[39m:\u001b[32m4\u001b[39m)\n  ammonite.$sess.cmd26$Helper.applyn(\u001b[32mcmd26.sc\u001b[39m:\u001b[32m4\u001b[39m)\n  ammonite.$sess.cmd26$Helper.applyn(\u001b[32mcmd26.sc\u001b[39m:\u001b[32m4\u001b[39m)\n  ammonite.$sess.cmd26$Helper.applyn(\u001b[32mcmd26.sc\u001b[39m:\u001b[32m4\u001b[39m)\n  ammonite.$sess.cmd26$Helper.applyn(\u001b[32mcmd26.sc\u001b[39m:\u001b[32m4\u001b[39m)\n  ammonite.$sess.cmd26$Helper.applyn(\u001b[32mcmd26.sc\u001b[39m:\u001b[32m4\u001b[39m)\n  ammonite.$sess.cmd26$Helper.applyn(\u001b[32mcmd26.sc\u001b[39m:\u001b[32m4\u001b[39m)\n  ammonite.$sess.cmd26$Helper.applyn(\u001b[32mcmd26.sc\u001b[39m:\u001b[32m4\u001b[39m)\n  ammonite.$sess.cmd26$Helper.applyn(\u001b[32mcmd26.sc\u001b[39m:\u001b[32m4\u001b[39m)\n  ammonite.$sess.cmd26$Helper.applyn(\u001b[32mcmd26.sc\u001b[39m:\u001b[32m4\u001b[39m)\n  ammonite.$sess.cmd26$Helper.applyn(\u001b[32mcmd26.sc\u001b[39m:\u001b[32m4\u001b[39m)\n  ammonite.$sess.cmd26$Helper.applyn(\u001b[32mcmd26.sc\u001b[39m:\u001b[32m4\u001b[39m)\n  ammonite.$sess.cmd26$Helper.applyn(\u001b[32mcmd26.sc\u001b[39m:\u001b[32m4\u001b[39m)\n  ammonite.$sess.cmd26$Helper.applyn(\u001b[32mcmd26.sc\u001b[39m:\u001b[32m4\u001b[39m)\n  ammonite.$sess.cmd26$Helper.applyn(\u001b[32mcmd26.sc\u001b[39m:\u001b[32m4\u001b[39m)\n  ammonite.$sess.cmd26$Helper.applyn(\u001b[32mcmd26.sc\u001b[39m:\u001b[32m4\u001b[39m)\n  ammonite.$sess.cmd26$Helper.applyn(\u001b[32mcmd26.sc\u001b[39m:\u001b[32m4\u001b[39m)\n  ammonite.$sess.cmd26$Helper.applyn(\u001b[32mcmd26.sc\u001b[39m:\u001b[32m4\u001b[39m)\n  ammonite.$sess.cmd26$Helper.applyn(\u001b[32mcmd26.sc\u001b[39m:\u001b[32m4\u001b[39m)\n  ammonite.$sess.cmd26$Helper.applyn(\u001b[32mcmd26.sc\u001b[39m:\u001b[32m4\u001b[39m)\n  ammonite.$sess.cmd26$Helper.applyn(\u001b[32mcmd26.sc\u001b[39m:\u001b[32m4\u001b[39m)\n  ammonite.$sess.cmd26$Helper.applyn(\u001b[32mcmd26.sc\u001b[39m:\u001b[32m4\u001b[39m)\n  ammonite.$sess.cmd26$Helper.applyn(\u001b[32mcmd26.sc\u001b[39m:\u001b[32m4\u001b[39m)\n  ammonite.$sess.cmd26$Helper.applyn(\u001b[32mcmd26.sc\u001b[39m:\u001b[32m4\u001b[39m)\n  ammonite.$sess.cmd26$Helper.applyn(\u001b[32mcmd26.sc\u001b[39m:\u001b[32m4\u001b[39m)\n  ammonite.$sess.cmd26$Helper.applyn(\u001b[32mcmd26.sc\u001b[39m:\u001b[32m4\u001b[39m)\n  ammonite.$sess.cmd26$Helper.applyn(\u001b[32mcmd26.sc\u001b[39m:\u001b[32m4\u001b[39m)\n  ammonite.$sess.cmd26$Helper.applyn(\u001b[32mcmd26.sc\u001b[39m:\u001b[32m4\u001b[39m)\n  ammonite.$sess.cmd26$Helper.applyn(\u001b[32mcmd26.sc\u001b[39m:\u001b[32m4\u001b[39m)\n  ammonite.$sess.cmd26$Helper.applyn(\u001b[32mcmd26.sc\u001b[39m:\u001b[32m4\u001b[39m)\n  ammonite.$sess.cmd26$Helper.applyn(\u001b[32mcmd26.sc\u001b[39m:\u001b[32m4\u001b[39m)\n  ammonite.$sess.cmd26$Helper.applyn(\u001b[32mcmd26.sc\u001b[39m:\u001b[32m4\u001b[39m)\n  ammonite.$sess.cmd26$Helper.applyn(\u001b[32mcmd26.sc\u001b[39m:\u001b[32m4\u001b[39m)\n  ammonite.$sess.cmd26$Helper.applyn(\u001b[32mcmd26.sc\u001b[39m:\u001b[32m4\u001b[39m)\n  ammonite.$sess.cmd26$Helper.applyn(\u001b[32mcmd26.sc\u001b[39m:\u001b[32m4\u001b[39m)\n  ammonite.$sess.cmd26$Helper.applyn(\u001b[32mcmd26.sc\u001b[39m:\u001b[32m4\u001b[39m)\n  ammonite.$sess.cmd26$Helper.applyn(\u001b[32mcmd26.sc\u001b[39m:\u001b[32m4\u001b[39m)\n  ammonite.$sess.cmd26$Helper.applyn(\u001b[32mcmd26.sc\u001b[39m:\u001b[32m4\u001b[39m)\n  ammonite.$sess.cmd26$Helper.applyn(\u001b[32mcmd26.sc\u001b[39m:\u001b[32m4\u001b[39m)\n  ammonite.$sess.cmd26$Helper.applyn(\u001b[32mcmd26.sc\u001b[39m:\u001b[32m4\u001b[39m)\n  ammonite.$sess.cmd26$Helper.applyn(\u001b[32mcmd26.sc\u001b[39m:\u001b[32m4\u001b[39m)\n  ammonite.$sess.cmd26$Helper.applyn(\u001b[32mcmd26.sc\u001b[39m:\u001b[32m4\u001b[39m)\n  ammonite.$sess.cmd26$Helper.applyn(\u001b[32mcmd26.sc\u001b[39m:\u001b[32m4\u001b[39m)\n  ammonite.$sess.cmd26$Helper.applyn(\u001b[32mcmd26.sc\u001b[39m:\u001b[32m4\u001b[39m)\n  ammonite.$sess.cmd26$Helper.applyn(\u001b[32mcmd26.sc\u001b[39m:\u001b[32m4\u001b[39m)\n  ammonite.$sess.cmd26$Helper.applyn(\u001b[32mcmd26.sc\u001b[39m:\u001b[32m4\u001b[39m)\n  ammonite.$sess.cmd26$Helper.applyn(\u001b[32mcmd26.sc\u001b[39m:\u001b[32m4\u001b[39m)\n  ammonite.$sess.cmd26$Helper.applyn(\u001b[32mcmd26.sc\u001b[39m:\u001b[32m4\u001b[39m)\n  ammonite.$sess.cmd26$Helper.applyn(\u001b[32mcmd26.sc\u001b[39m:\u001b[32m4\u001b[39m)\n  ammonite.$sess.cmd26$Helper.applyn(\u001b[32mcmd26.sc\u001b[39m:\u001b[32m4\u001b[39m)\n  ammonite.$sess.cmd26$Helper.applyn(\u001b[32mcmd26.sc\u001b[39m:\u001b[32m4\u001b[39m)\n  ammonite.$sess.cmd26$Helper.applyn(\u001b[32mcmd26.sc\u001b[39m:\u001b[32m4\u001b[39m)\n  ammonite.$sess.cmd26$Helper.applyn(\u001b[32mcmd26.sc\u001b[39m:\u001b[32m4\u001b[39m)\n  ammonite.$sess.cmd26$Helper.applyn(\u001b[32mcmd26.sc\u001b[39m:\u001b[32m4\u001b[39m)\n  ammonite.$sess.cmd26$Helper.applyn(\u001b[32mcmd26.sc\u001b[39m:\u001b[32m4\u001b[39m)\n  ammonite.$sess.cmd26$Helper.applyn(\u001b[32mcmd26.sc\u001b[39m:\u001b[32m4\u001b[39m)\n  ammonite.$sess.cmd26$Helper.applyn(\u001b[32mcmd26.sc\u001b[39m:\u001b[32m4\u001b[39m)\n  ammonite.$sess.cmd26$Helper.applyn(\u001b[32mcmd26.sc\u001b[39m:\u001b[32m4\u001b[39m)\n  ammonite.$sess.cmd26$Helper.applyn(\u001b[32mcmd26.sc\u001b[39m:\u001b[32m4\u001b[39m)\n  ammonite.$sess.cmd26$Helper.applyn(\u001b[32mcmd26.sc\u001b[39m:\u001b[32m4\u001b[39m)\n  ammonite.$sess.cmd26$Helper.applyn(\u001b[32mcmd26.sc\u001b[39m:\u001b[32m4\u001b[39m)\n  ammonite.$sess.cmd26$Helper.applyn(\u001b[32mcmd26.sc\u001b[39m:\u001b[32m4\u001b[39m)\n  ammonite.$sess.cmd26$Helper.applyn(\u001b[32mcmd26.sc\u001b[39m:\u001b[32m4\u001b[39m)\n  ammonite.$sess.cmd26$Helper.applyn(\u001b[32mcmd26.sc\u001b[39m:\u001b[32m4\u001b[39m)\n  ammonite.$sess.cmd26$Helper.applyn(\u001b[32mcmd26.sc\u001b[39m:\u001b[32m4\u001b[39m)\n  ammonite.$sess.cmd26$Helper.applyn(\u001b[32mcmd26.sc\u001b[39m:\u001b[32m4\u001b[39m)\n  ammonite.$sess.cmd26$Helper.applyn(\u001b[32mcmd26.sc\u001b[39m:\u001b[32m4\u001b[39m)\n  ammonite.$sess.cmd26$Helper.applyn(\u001b[32mcmd26.sc\u001b[39m:\u001b[32m4\u001b[39m)\n  ammonite.$sess.cmd26$Helper.applyn(\u001b[32mcmd26.sc\u001b[39m:\u001b[32m4\u001b[39m)\n  ammonite.$sess.cmd26$Helper.applyn(\u001b[32mcmd26.sc\u001b[39m:\u001b[32m4\u001b[39m)\n  ammonite.$sess.cmd26$Helper.applyn(\u001b[32mcmd26.sc\u001b[39m:\u001b[32m4\u001b[39m)\n  ammonite.$sess.cmd26$Helper.applyn(\u001b[32mcmd26.sc\u001b[39m:\u001b[32m4\u001b[39m)\n  ammonite.$sess.cmd26$Helper.applyn(\u001b[32mcmd26.sc\u001b[39m:\u001b[32m4\u001b[39m)\n  ammonite.$sess.cmd26$Helper.applyn(\u001b[32mcmd26.sc\u001b[39m:\u001b[32m4\u001b[39m)\n  ammonite.$sess.cmd26$Helper.applyn(\u001b[32mcmd26.sc\u001b[39m:\u001b[32m4\u001b[39m)\n  ammonite.$sess.cmd26$Helper.applyn(\u001b[32mcmd26.sc\u001b[39m:\u001b[32m4\u001b[39m)\n  ammonite.$sess.cmd26$Helper.applyn(\u001b[32mcmd26.sc\u001b[39m:\u001b[32m4\u001b[39m)\n  ammonite.$sess.cmd26$Helper.applyn(\u001b[32mcmd26.sc\u001b[39m:\u001b[32m4\u001b[39m)\n  ammonite.$sess.cmd26$Helper.applyn(\u001b[32mcmd26.sc\u001b[39m:\u001b[32m4\u001b[39m)\n  ammonite.$sess.cmd26$Helper.applyn(\u001b[32mcmd26.sc\u001b[39m:\u001b[32m4\u001b[39m)\n  ammonite.$sess.cmd26$Helper.applyn(\u001b[32mcmd26.sc\u001b[39m:\u001b[32m4\u001b[39m)\n  ammonite.$sess.cmd26$Helper.applyn(\u001b[32mcmd26.sc\u001b[39m:\u001b[32m4\u001b[39m)\n  ammonite.$sess.cmd26$Helper.applyn(\u001b[32mcmd26.sc\u001b[39m:\u001b[32m4\u001b[39m)\n  ammonite.$sess.cmd26$Helper.applyn(\u001b[32mcmd26.sc\u001b[39m:\u001b[32m4\u001b[39m)\n  ammonite.$sess.cmd26$Helper.applyn(\u001b[32mcmd26.sc\u001b[39m:\u001b[32m4\u001b[39m)\n  ammonite.$sess.cmd26$Helper.applyn(\u001b[32mcmd26.sc\u001b[39m:\u001b[32m4\u001b[39m)\n  ammonite.$sess.cmd26$Helper.applyn(\u001b[32mcmd26.sc\u001b[39m:\u001b[32m4\u001b[39m)\n  ammonite.$sess.cmd26$Helper.applyn(\u001b[32mcmd26.sc\u001b[39m:\u001b[32m4\u001b[39m)\n  ammonite.$sess.cmd26$Helper.applyn(\u001b[32mcmd26.sc\u001b[39m:\u001b[32m4\u001b[39m)\n  ammonite.$sess.cmd26$Helper.applyn(\u001b[32mcmd26.sc\u001b[39m:\u001b[32m4\u001b[39m)\n  ammonite.$sess.cmd26$Helper.applyn(\u001b[32mcmd26.sc\u001b[39m:\u001b[32m4\u001b[39m)\n  ammonite.$sess.cmd26$Helper.applyn(\u001b[32mcmd26.sc\u001b[39m:\u001b[32m4\u001b[39m)\n  ammonite.$sess.cmd26$Helper.applyn(\u001b[32mcmd26.sc\u001b[39m:\u001b[32m4\u001b[39m)\n  ammonite.$sess.cmd26$Helper.applyn(\u001b[32mcmd26.sc\u001b[39m:\u001b[32m4\u001b[39m)\n  ammonite.$sess.cmd26$Helper.applyn(\u001b[32mcmd26.sc\u001b[39m:\u001b[32m4\u001b[39m)\n  ammonite.$sess.cmd26$Helper.applyn(\u001b[32mcmd26.sc\u001b[39m:\u001b[32m4\u001b[39m)\n  ammonite.$sess.cmd26$Helper.applyn(\u001b[32mcmd26.sc\u001b[39m:\u001b[32m4\u001b[39m)\n  ammonite.$sess.cmd26$Helper.applyn(\u001b[32mcmd26.sc\u001b[39m:\u001b[32m4\u001b[39m)\n  ammonite.$sess.cmd26$Helper.applyn(\u001b[32mcmd26.sc\u001b[39m:\u001b[32m4\u001b[39m)\n  ammonite.$sess.cmd26$Helper.applyn(\u001b[32mcmd26.sc\u001b[39m:\u001b[32m4\u001b[39m)\n  ammonite.$sess.cmd26$Helper.applyn(\u001b[32mcmd26.sc\u001b[39m:\u001b[32m4\u001b[39m)\n  ammonite.$sess.cmd26$Helper.applyn(\u001b[32mcmd26.sc\u001b[39m:\u001b[32m4\u001b[39m)\n  ammonite.$sess.cmd26$Helper.applyn(\u001b[32mcmd26.sc\u001b[39m:\u001b[32m4\u001b[39m)\n  ammonite.$sess.cmd26$Helper.applyn(\u001b[32mcmd26.sc\u001b[39m:\u001b[32m4\u001b[39m)\n  ammonite.$sess.cmd26$Helper.applyn(\u001b[32mcmd26.sc\u001b[39m:\u001b[32m4\u001b[39m)\n  ammonite.$sess.cmd26$Helper.applyn(\u001b[32mcmd26.sc\u001b[39m:\u001b[32m4\u001b[39m)\n  ammonite.$sess.cmd26$Helper.applyn(\u001b[32mcmd26.sc\u001b[39m:\u001b[32m4\u001b[39m)\n  ammonite.$sess.cmd26$Helper.applyn(\u001b[32mcmd26.sc\u001b[39m:\u001b[32m4\u001b[39m)\n  ammonite.$sess.cmd26$Helper.applyn(\u001b[32mcmd26.sc\u001b[39m:\u001b[32m4\u001b[39m)\n  ammonite.$sess.cmd26$Helper.applyn(\u001b[32mcmd26.sc\u001b[39m:\u001b[32m4\u001b[39m)\n  ammonite.$sess.cmd26$Helper.applyn(\u001b[32mcmd26.sc\u001b[39m:\u001b[32m4\u001b[39m)\n  ammonite.$sess.cmd26$Helper.applyn(\u001b[32mcmd26.sc\u001b[39m:\u001b[32m4\u001b[39m)\n  ammonite.$sess.cmd26$Helper.applyn(\u001b[32mcmd26.sc\u001b[39m:\u001b[32m4\u001b[39m)\n  ammonite.$sess.cmd26$Helper.applyn(\u001b[32mcmd26.sc\u001b[39m:\u001b[32m4\u001b[39m)\n  ammonite.$sess.cmd26$Helper.applyn(\u001b[32mcmd26.sc\u001b[39m:\u001b[32m4\u001b[39m)\n  ammonite.$sess.cmd26$Helper.applyn(\u001b[32mcmd26.sc\u001b[39m:\u001b[32m4\u001b[39m)\n  ammonite.$sess.cmd26$Helper.applyn(\u001b[32mcmd26.sc\u001b[39m:\u001b[32m4\u001b[39m)\n  ammonite.$sess.cmd26$Helper.applyn(\u001b[32mcmd26.sc\u001b[39m:\u001b[32m4\u001b[39m)\n  ammonite.$sess.cmd26$Helper.applyn(\u001b[32mcmd26.sc\u001b[39m:\u001b[32m4\u001b[39m)\n  ammonite.$sess.cmd26$Helper.applyn(\u001b[32mcmd26.sc\u001b[39m:\u001b[32m4\u001b[39m)\n  ammonite.$sess.cmd26$Helper.applyn(\u001b[32mcmd26.sc\u001b[39m:\u001b[32m4\u001b[39m)\n  ammonite.$sess.cmd26$Helper.applyn(\u001b[32mcmd26.sc\u001b[39m:\u001b[32m4\u001b[39m)\n  ammonite.$sess.cmd26$Helper.applyn(\u001b[32mcmd26.sc\u001b[39m:\u001b[32m4\u001b[39m)\n  ammonite.$sess.cmd26$Helper.applyn(\u001b[32mcmd26.sc\u001b[39m:\u001b[32m4\u001b[39m)\n  ammonite.$sess.cmd26$Helper.applyn(\u001b[32mcmd26.sc\u001b[39m:\u001b[32m4\u001b[39m)\n  ammonite.$sess.cmd26$Helper.applyn(\u001b[32mcmd26.sc\u001b[39m:\u001b[32m4\u001b[39m)\n  ammonite.$sess.cmd26$Helper.applyn(\u001b[32mcmd26.sc\u001b[39m:\u001b[32m4\u001b[39m)\n  ammonite.$sess.cmd26$Helper.applyn(\u001b[32mcmd26.sc\u001b[39m:\u001b[32m4\u001b[39m)\n  ammonite.$sess.cmd26$Helper.applyn(\u001b[32mcmd26.sc\u001b[39m:\u001b[32m4\u001b[39m)\n  ammonite.$sess.cmd26$Helper.applyn(\u001b[32mcmd26.sc\u001b[39m:\u001b[32m4\u001b[39m)\n  ammonite.$sess.cmd26$Helper.applyn(\u001b[32mcmd26.sc\u001b[39m:\u001b[32m4\u001b[39m)\n  ammonite.$sess.cmd26$Helper.applyn(\u001b[32mcmd26.sc\u001b[39m:\u001b[32m4\u001b[39m)\n  ammonite.$sess.cmd26$Helper.applyn(\u001b[32mcmd26.sc\u001b[39m:\u001b[32m4\u001b[39m)\n  ammonite.$sess.cmd26$Helper.applyn(\u001b[32mcmd26.sc\u001b[39m:\u001b[32m4\u001b[39m)\n  ammonite.$sess.cmd26$Helper.applyn(\u001b[32mcmd26.sc\u001b[39m:\u001b[32m4\u001b[39m)\n  ammonite.$sess.cmd26$Helper.applyn(\u001b[32mcmd26.sc\u001b[39m:\u001b[32m4\u001b[39m)\n  ammonite.$sess.cmd26$Helper.applyn(\u001b[32mcmd26.sc\u001b[39m:\u001b[32m4\u001b[39m)\n  ammonite.$sess.cmd26$Helper.applyn(\u001b[32mcmd26.sc\u001b[39m:\u001b[32m4\u001b[39m)\n  ammonite.$sess.cmd26$Helper.applyn(\u001b[32mcmd26.sc\u001b[39m:\u001b[32m4\u001b[39m)\n  ammonite.$sess.cmd26$Helper.applyn(\u001b[32mcmd26.sc\u001b[39m:\u001b[32m4\u001b[39m)\n  ammonite.$sess.cmd26$Helper.applyn(\u001b[32mcmd26.sc\u001b[39m:\u001b[32m4\u001b[39m)\n  ammonite.$sess.cmd26$Helper.applyn(\u001b[32mcmd26.sc\u001b[39m:\u001b[32m4\u001b[39m)\n  ammonite.$sess.cmd26$Helper.applyn(\u001b[32mcmd26.sc\u001b[39m:\u001b[32m4\u001b[39m)\n  ammonite.$sess.cmd26$Helper.applyn(\u001b[32mcmd26.sc\u001b[39m:\u001b[32m4\u001b[39m)\n  ammonite.$sess.cmd26$Helper.applyn(\u001b[32mcmd26.sc\u001b[39m:\u001b[32m4\u001b[39m)\n  ammonite.$sess.cmd26$Helper.applyn(\u001b[32mcmd26.sc\u001b[39m:\u001b[32m4\u001b[39m)\n  ammonite.$sess.cmd26$Helper.applyn(\u001b[32mcmd26.sc\u001b[39m:\u001b[32m4\u001b[39m)\n  ammonite.$sess.cmd26$Helper.applyn(\u001b[32mcmd26.sc\u001b[39m:\u001b[32m4\u001b[39m)\n  ammonite.$sess.cmd26$Helper.applyn(\u001b[32mcmd26.sc\u001b[39m:\u001b[32m4\u001b[39m)\n  ammonite.$sess.cmd26$Helper.applyn(\u001b[32mcmd26.sc\u001b[39m:\u001b[32m4\u001b[39m)\n  ammonite.$sess.cmd26$Helper.applyn(\u001b[32mcmd26.sc\u001b[39m:\u001b[32m4\u001b[39m)\n  ammonite.$sess.cmd26$Helper.applyn(\u001b[32mcmd26.sc\u001b[39m:\u001b[32m4\u001b[39m)\n  ammonite.$sess.cmd26$Helper.applyn(\u001b[32mcmd26.sc\u001b[39m:\u001b[32m4\u001b[39m)\n  ammonite.$sess.cmd26$Helper.applyn(\u001b[32mcmd26.sc\u001b[39m:\u001b[32m4\u001b[39m)\n  ammonite.$sess.cmd26$Helper.applyn(\u001b[32mcmd26.sc\u001b[39m:\u001b[32m4\u001b[39m)\n  ammonite.$sess.cmd26$Helper.applyn(\u001b[32mcmd26.sc\u001b[39m:\u001b[32m4\u001b[39m)\n  ammonite.$sess.cmd26$Helper.applyn(\u001b[32mcmd26.sc\u001b[39m:\u001b[32m4\u001b[39m)\n  ammonite.$sess.cmd26$Helper.applyn(\u001b[32mcmd26.sc\u001b[39m:\u001b[32m4\u001b[39m)\n  ammonite.$sess.cmd26$Helper.applyn(\u001b[32mcmd26.sc\u001b[39m:\u001b[32m4\u001b[39m)\n  ammonite.$sess.cmd26$Helper.applyn(\u001b[32mcmd26.sc\u001b[39m:\u001b[32m4\u001b[39m)\n  ammonite.$sess.cmd26$Helper.applyn(\u001b[32mcmd26.sc\u001b[39m:\u001b[32m4\u001b[39m)\n  ammonite.$sess.cmd26$Helper.applyn(\u001b[32mcmd26.sc\u001b[39m:\u001b[32m4\u001b[39m)\n  ammonite.$sess.cmd26$Helper.applyn(\u001b[32mcmd26.sc\u001b[39m:\u001b[32m4\u001b[39m)\n  ammonite.$sess.cmd26$Helper.applyn(\u001b[32mcmd26.sc\u001b[39m:\u001b[32m4\u001b[39m)\n  ammonite.$sess.cmd26$Helper.applyn(\u001b[32mcmd26.sc\u001b[39m:\u001b[32m4\u001b[39m)\n  ammonite.$sess.cmd26$Helper.applyn(\u001b[32mcmd26.sc\u001b[39m:\u001b[32m4\u001b[39m)\n  ammonite.$sess.cmd26$Helper.applyn(\u001b[32mcmd26.sc\u001b[39m:\u001b[32m4\u001b[39m)\n  ammonite.$sess.cmd26$Helper.applyn(\u001b[32mcmd26.sc\u001b[39m:\u001b[32m4\u001b[39m)\n  ammonite.$sess.cmd26$Helper.applyn(\u001b[32mcmd26.sc\u001b[39m:\u001b[32m4\u001b[39m)\n  ammonite.$sess.cmd26$Helper.applyn(\u001b[32mcmd26.sc\u001b[39m:\u001b[32m4\u001b[39m)\n  ammonite.$sess.cmd26$Helper.applyn(\u001b[32mcmd26.sc\u001b[39m:\u001b[32m4\u001b[39m)\n  ammonite.$sess.cmd26$Helper.applyn(\u001b[32mcmd26.sc\u001b[39m:\u001b[32m4\u001b[39m)\n  ammonite.$sess.cmd26$Helper.applyn(\u001b[32mcmd26.sc\u001b[39m:\u001b[32m4\u001b[39m)\n  ammonite.$sess.cmd26$Helper.applyn(\u001b[32mcmd26.sc\u001b[39m:\u001b[32m4\u001b[39m)\n  ammonite.$sess.cmd26$Helper.applyn(\u001b[32mcmd26.sc\u001b[39m:\u001b[32m4\u001b[39m)\n  ammonite.$sess.cmd26$Helper.applyn(\u001b[32mcmd26.sc\u001b[39m:\u001b[32m4\u001b[39m)\n  ammonite.$sess.cmd26$Helper.applyn(\u001b[32mcmd26.sc\u001b[39m:\u001b[32m4\u001b[39m)\n  ammonite.$sess.cmd26$Helper.applyn(\u001b[32mcmd26.sc\u001b[39m:\u001b[32m4\u001b[39m)\n  ammonite.$sess.cmd26$Helper.applyn(\u001b[32mcmd26.sc\u001b[39m:\u001b[32m4\u001b[39m)\n  ammonite.$sess.cmd26$Helper.applyn(\u001b[32mcmd26.sc\u001b[39m:\u001b[32m4\u001b[39m)\n  ammonite.$sess.cmd26$Helper.applyn(\u001b[32mcmd26.sc\u001b[39m:\u001b[32m4\u001b[39m)\n  ammonite.$sess.cmd26$Helper.applyn(\u001b[32mcmd26.sc\u001b[39m:\u001b[32m4\u001b[39m)\n  ammonite.$sess.cmd26$Helper.applyn(\u001b[32mcmd26.sc\u001b[39m:\u001b[32m4\u001b[39m)\n  ammonite.$sess.cmd26$Helper.applyn(\u001b[32mcmd26.sc\u001b[39m:\u001b[32m4\u001b[39m)\n  ammonite.$sess.cmd26$Helper.applyn(\u001b[32mcmd26.sc\u001b[39m:\u001b[32m4\u001b[39m)\n  ammonite.$sess.cmd26$Helper.applyn(\u001b[32mcmd26.sc\u001b[39m:\u001b[32m4\u001b[39m)\n  ammonite.$sess.cmd26$Helper.applyn(\u001b[32mcmd26.sc\u001b[39m:\u001b[32m4\u001b[39m)\n  ammonite.$sess.cmd26$Helper.applyn(\u001b[32mcmd26.sc\u001b[39m:\u001b[32m4\u001b[39m)\n  ammonite.$sess.cmd26$Helper.applyn(\u001b[32mcmd26.sc\u001b[39m:\u001b[32m4\u001b[39m)\n  ammonite.$sess.cmd26$Helper.applyn(\u001b[32mcmd26.sc\u001b[39m:\u001b[32m4\u001b[39m)\n  ammonite.$sess.cmd26$Helper.applyn(\u001b[32mcmd26.sc\u001b[39m:\u001b[32m4\u001b[39m)\n  ammonite.$sess.cmd26$Helper.applyn(\u001b[32mcmd26.sc\u001b[39m:\u001b[32m4\u001b[39m)\n  ammonite.$sess.cmd26$Helper.applyn(\u001b[32mcmd26.sc\u001b[39m:\u001b[32m4\u001b[39m)\n  ammonite.$sess.cmd26$Helper.applyn(\u001b[32mcmd26.sc\u001b[39m:\u001b[32m4\u001b[39m)\n  ammonite.$sess.cmd26$Helper.applyn(\u001b[32mcmd26.sc\u001b[39m:\u001b[32m4\u001b[39m)\n  ammonite.$sess.cmd26$Helper.applyn(\u001b[32mcmd26.sc\u001b[39m:\u001b[32m4\u001b[39m)\n  ammonite.$sess.cmd26$Helper.applyn(\u001b[32mcmd26.sc\u001b[39m:\u001b[32m4\u001b[39m)\n  ammonite.$sess.cmd26$Helper.applyn(\u001b[32mcmd26.sc\u001b[39m:\u001b[32m4\u001b[39m)\n  ammonite.$sess.cmd26$Helper.applyn(\u001b[32mcmd26.sc\u001b[39m:\u001b[32m4\u001b[39m)\n  ammonite.$sess.cmd26$Helper.applyn(\u001b[32mcmd26.sc\u001b[39m:\u001b[32m4\u001b[39m)\n  ammonite.$sess.cmd26$Helper.applyn(\u001b[32mcmd26.sc\u001b[39m:\u001b[32m4\u001b[39m)\n  ammonite.$sess.cmd26$Helper.applyn(\u001b[32mcmd26.sc\u001b[39m:\u001b[32m4\u001b[39m)\n  ammonite.$sess.cmd26$Helper.applyn(\u001b[32mcmd26.sc\u001b[39m:\u001b[32m4\u001b[39m)\n  ammonite.$sess.cmd26$Helper.applyn(\u001b[32mcmd26.sc\u001b[39m:\u001b[32m4\u001b[39m)\n  ammonite.$sess.cmd26$Helper.applyn(\u001b[32mcmd26.sc\u001b[39m:\u001b[32m4\u001b[39m)\n  ammonite.$sess.cmd26$Helper.applyn(\u001b[32mcmd26.sc\u001b[39m:\u001b[32m4\u001b[39m)\n  ammonite.$sess.cmd26$Helper.applyn(\u001b[32mcmd26.sc\u001b[39m:\u001b[32m4\u001b[39m)\n  ammonite.$sess.cmd26$Helper.applyn(\u001b[32mcmd26.sc\u001b[39m:\u001b[32m4\u001b[39m)\n  ammonite.$sess.cmd26$Helper.applyn(\u001b[32mcmd26.sc\u001b[39m:\u001b[32m4\u001b[39m)\n  ammonite.$sess.cmd26$Helper.applyn(\u001b[32mcmd26.sc\u001b[39m:\u001b[32m4\u001b[39m)\n  ammonite.$sess.cmd26$Helper.applyn(\u001b[32mcmd26.sc\u001b[39m:\u001b[32m4\u001b[39m)\n  ammonite.$sess.cmd26$Helper.applyn(\u001b[32mcmd26.sc\u001b[39m:\u001b[32m4\u001b[39m)\n  ammonite.$sess.cmd26$Helper.applyn(\u001b[32mcmd26.sc\u001b[39m:\u001b[32m4\u001b[39m)\n  ammonite.$sess.cmd26$Helper.applyn(\u001b[32mcmd26.sc\u001b[39m:\u001b[32m4\u001b[39m)\n  ammonite.$sess.cmd26$Helper.applyn(\u001b[32mcmd26.sc\u001b[39m:\u001b[32m4\u001b[39m)\n  ammonite.$sess.cmd26$Helper.applyn(\u001b[32mcmd26.sc\u001b[39m:\u001b[32m4\u001b[39m)\n  ammonite.$sess.cmd26$Helper.applyn(\u001b[32mcmd26.sc\u001b[39m:\u001b[32m4\u001b[39m)\n  ammonite.$sess.cmd26$Helper.applyn(\u001b[32mcmd26.sc\u001b[39m:\u001b[32m4\u001b[39m)\n  ammonite.$sess.cmd26$Helper.applyn(\u001b[32mcmd26.sc\u001b[39m:\u001b[32m4\u001b[39m)\n  ammonite.$sess.cmd26$Helper.applyn(\u001b[32mcmd26.sc\u001b[39m:\u001b[32m4\u001b[39m)\n  ammonite.$sess.cmd26$Helper.applyn(\u001b[32mcmd26.sc\u001b[39m:\u001b[32m4\u001b[39m)\n  ammonite.$sess.cmd26$Helper.applyn(\u001b[32mcmd26.sc\u001b[39m:\u001b[32m4\u001b[39m)\n  ammonite.$sess.cmd26$Helper.applyn(\u001b[32mcmd26.sc\u001b[39m:\u001b[32m4\u001b[39m)\n  ammonite.$sess.cmd26$Helper.applyn(\u001b[32mcmd26.sc\u001b[39m:\u001b[32m4\u001b[39m)\n  ammonite.$sess.cmd26$Helper.applyn(\u001b[32mcmd26.sc\u001b[39m:\u001b[32m4\u001b[39m)\n  ammonite.$sess.cmd26$Helper.applyn(\u001b[32mcmd26.sc\u001b[39m:\u001b[32m4\u001b[39m)\n  ammonite.$sess.cmd26$Helper.applyn(\u001b[32mcmd26.sc\u001b[39m:\u001b[32m4\u001b[39m)\n  ammonite.$sess.cmd26$Helper.applyn(\u001b[32mcmd26.sc\u001b[39m:\u001b[32m4\u001b[39m)\n  ammonite.$sess.cmd26$Helper.applyn(\u001b[32mcmd26.sc\u001b[39m:\u001b[32m4\u001b[39m)\n  ammonite.$sess.cmd26$Helper.applyn(\u001b[32mcmd26.sc\u001b[39m:\u001b[32m4\u001b[39m)\n  ammonite.$sess.cmd26$Helper.applyn(\u001b[32mcmd26.sc\u001b[39m:\u001b[32m4\u001b[39m)\n  ammonite.$sess.cmd26$Helper.applyn(\u001b[32mcmd26.sc\u001b[39m:\u001b[32m4\u001b[39m)\n  ammonite.$sess.cmd26$Helper.applyn(\u001b[32mcmd26.sc\u001b[39m:\u001b[32m4\u001b[39m)\n  ammonite.$sess.cmd26$Helper.applyn(\u001b[32mcmd26.sc\u001b[39m:\u001b[32m4\u001b[39m)\n  ammonite.$sess.cmd26$Helper.applyn(\u001b[32mcmd26.sc\u001b[39m:\u001b[32m4\u001b[39m)\n  ammonite.$sess.cmd26$Helper.applyn(\u001b[32mcmd26.sc\u001b[39m:\u001b[32m4\u001b[39m)\n  ammonite.$sess.cmd26$Helper.applyn(\u001b[32mcmd26.sc\u001b[39m:\u001b[32m4\u001b[39m)\n  ammonite.$sess.cmd26$Helper.applyn(\u001b[32mcmd26.sc\u001b[39m:\u001b[32m4\u001b[39m)\n  ammonite.$sess.cmd26$Helper.applyn(\u001b[32mcmd26.sc\u001b[39m:\u001b[32m4\u001b[39m)\n  ammonite.$sess.cmd26$Helper.applyn(\u001b[32mcmd26.sc\u001b[39m:\u001b[32m4\u001b[39m)\n  ammonite.$sess.cmd26$Helper.applyn(\u001b[32mcmd26.sc\u001b[39m:\u001b[32m4\u001b[39m)\n  ammonite.$sess.cmd26$Helper.applyn(\u001b[32mcmd26.sc\u001b[39m:\u001b[32m4\u001b[39m)\n  ammonite.$sess.cmd26$Helper.applyn(\u001b[32mcmd26.sc\u001b[39m:\u001b[32m4\u001b[39m)\n  ammonite.$sess.cmd26$Helper.applyn(\u001b[32mcmd26.sc\u001b[39m:\u001b[32m4\u001b[39m)\n  ammonite.$sess.cmd26$Helper.applyn(\u001b[32mcmd26.sc\u001b[39m:\u001b[32m4\u001b[39m)\n  ammonite.$sess.cmd26$Helper.applyn(\u001b[32mcmd26.sc\u001b[39m:\u001b[32m4\u001b[39m)\n  ammonite.$sess.cmd26$Helper.applyn(\u001b[32mcmd26.sc\u001b[39m:\u001b[32m4\u001b[39m)\n  ammonite.$sess.cmd26$Helper.applyn(\u001b[32mcmd26.sc\u001b[39m:\u001b[32m4\u001b[39m)\n  ammonite.$sess.cmd26$Helper.applyn(\u001b[32mcmd26.sc\u001b[39m:\u001b[32m4\u001b[39m)\n  ammonite.$sess.cmd26$Helper.applyn(\u001b[32mcmd26.sc\u001b[39m:\u001b[32m4\u001b[39m)\n  ammonite.$sess.cmd26$Helper.applyn(\u001b[32mcmd26.sc\u001b[39m:\u001b[32m4\u001b[39m)\n  ammonite.$sess.cmd26$Helper.applyn(\u001b[32mcmd26.sc\u001b[39m:\u001b[32m4\u001b[39m)\n  ammonite.$sess.cmd26$Helper.applyn(\u001b[32mcmd26.sc\u001b[39m:\u001b[32m4\u001b[39m)\n  ammonite.$sess.cmd26$Helper.applyn(\u001b[32mcmd26.sc\u001b[39m:\u001b[32m4\u001b[39m)\n  ammonite.$sess.cmd26$Helper.applyn(\u001b[32mcmd26.sc\u001b[39m:\u001b[32m4\u001b[39m)\n  ammonite.$sess.cmd26$Helper.applyn(\u001b[32mcmd26.sc\u001b[39m:\u001b[32m4\u001b[39m)\n  ammonite.$sess.cmd26$Helper.applyn(\u001b[32mcmd26.sc\u001b[39m:\u001b[32m4\u001b[39m)\n  ammonite.$sess.cmd26$Helper.applyn(\u001b[32mcmd26.sc\u001b[39m:\u001b[32m4\u001b[39m)\n  ammonite.$sess.cmd26$Helper.applyn(\u001b[32mcmd26.sc\u001b[39m:\u001b[32m4\u001b[39m)\n  ammonite.$sess.cmd26$Helper.applyn(\u001b[32mcmd26.sc\u001b[39m:\u001b[32m4\u001b[39m)\n  ammonite.$sess.cmd26$Helper.applyn(\u001b[32mcmd26.sc\u001b[39m:\u001b[32m4\u001b[39m)\n  ammonite.$sess.cmd26$Helper.applyn(\u001b[32mcmd26.sc\u001b[39m:\u001b[32m4\u001b[39m)\n  ammonite.$sess.cmd26$Helper.applyn(\u001b[32mcmd26.sc\u001b[39m:\u001b[32m4\u001b[39m)\n  ammonite.$sess.cmd26$Helper.applyn(\u001b[32mcmd26.sc\u001b[39m:\u001b[32m4\u001b[39m)\n  ammonite.$sess.cmd26$Helper.applyn(\u001b[32mcmd26.sc\u001b[39m:\u001b[32m4\u001b[39m)\n  ammonite.$sess.cmd26$Helper.applyn(\u001b[32mcmd26.sc\u001b[39m:\u001b[32m4\u001b[39m)\n  ammonite.$sess.cmd26$Helper.applyn(\u001b[32mcmd26.sc\u001b[39m:\u001b[32m4\u001b[39m)\n  ammonite.$sess.cmd26$Helper.applyn(\u001b[32mcmd26.sc\u001b[39m:\u001b[32m4\u001b[39m)\n  ammonite.$sess.cmd26$Helper.applyn(\u001b[32mcmd26.sc\u001b[39m:\u001b[32m4\u001b[39m)\n  ammonite.$sess.cmd26$Helper.applyn(\u001b[32mcmd26.sc\u001b[39m:\u001b[32m4\u001b[39m)\n  ammonite.$sess.cmd26$Helper.applyn(\u001b[32mcmd26.sc\u001b[39m:\u001b[32m4\u001b[39m)\n  ammonite.$sess.cmd26$Helper.applyn(\u001b[32mcmd26.sc\u001b[39m:\u001b[32m4\u001b[39m)\n  ammonite.$sess.cmd26$Helper.applyn(\u001b[32mcmd26.sc\u001b[39m:\u001b[32m4\u001b[39m)\n  ammonite.$sess.cmd26$Helper.applyn(\u001b[32mcmd26.sc\u001b[39m:\u001b[32m4\u001b[39m)\n  ammonite.$sess.cmd26$Helper.applyn(\u001b[32mcmd26.sc\u001b[39m:\u001b[32m4\u001b[39m)\n  ammonite.$sess.cmd26$Helper.applyn(\u001b[32mcmd26.sc\u001b[39m:\u001b[32m4\u001b[39m)\n  ammonite.$sess.cmd26$Helper.applyn(\u001b[32mcmd26.sc\u001b[39m:\u001b[32m4\u001b[39m)\n  ammonite.$sess.cmd26$Helper.applyn(\u001b[32mcmd26.sc\u001b[39m:\u001b[32m4\u001b[39m)\n  ammonite.$sess.cmd26$Helper.applyn(\u001b[32mcmd26.sc\u001b[39m:\u001b[32m4\u001b[39m)\n  ammonite.$sess.cmd26$Helper.applyn(\u001b[32mcmd26.sc\u001b[39m:\u001b[32m4\u001b[39m)\n  ammonite.$sess.cmd26$Helper.applyn(\u001b[32mcmd26.sc\u001b[39m:\u001b[32m4\u001b[39m)\n  ammonite.$sess.cmd26$Helper.applyn(\u001b[32mcmd26.sc\u001b[39m:\u001b[32m4\u001b[39m)\n  ammonite.$sess.cmd26$Helper.applyn(\u001b[32mcmd26.sc\u001b[39m:\u001b[32m4\u001b[39m)\n  ammonite.$sess.cmd26$Helper.applyn(\u001b[32mcmd26.sc\u001b[39m:\u001b[32m4\u001b[39m)\n  ammonite.$sess.cmd26$Helper.applyn(\u001b[32mcmd26.sc\u001b[39m:\u001b[32m4\u001b[39m)\n  ammonite.$sess.cmd26$Helper.applyn(\u001b[32mcmd26.sc\u001b[39m:\u001b[32m4\u001b[39m)\n  ammonite.$sess.cmd26$Helper.applyn(\u001b[32mcmd26.sc\u001b[39m:\u001b[32m4\u001b[39m)\n  ammonite.$sess.cmd26$Helper.applyn(\u001b[32mcmd26.sc\u001b[39m:\u001b[32m4\u001b[39m)\n  ammonite.$sess.cmd26$Helper.applyn(\u001b[32mcmd26.sc\u001b[39m:\u001b[32m4\u001b[39m)\n  ammonite.$sess.cmd26$Helper.applyn(\u001b[32mcmd26.sc\u001b[39m:\u001b[32m4\u001b[39m)\n  ammonite.$sess.cmd26$Helper.applyn(\u001b[32mcmd26.sc\u001b[39m:\u001b[32m4\u001b[39m)\n  ammonite.$sess.cmd26$Helper.applyn(\u001b[32mcmd26.sc\u001b[39m:\u001b[32m4\u001b[39m)\n  ammonite.$sess.cmd26$Helper.applyn(\u001b[32mcmd26.sc\u001b[39m:\u001b[32m4\u001b[39m)\n  ammonite.$sess.cmd26$Helper.applyn(\u001b[32mcmd26.sc\u001b[39m:\u001b[32m4\u001b[39m)\n  ammonite.$sess.cmd26$Helper.applyn(\u001b[32mcmd26.sc\u001b[39m:\u001b[32m4\u001b[39m)\n  ammonite.$sess.cmd26$Helper.applyn(\u001b[32mcmd26.sc\u001b[39m:\u001b[32m4\u001b[39m)\n  ammonite.$sess.cmd26$Helper.applyn(\u001b[32mcmd26.sc\u001b[39m:\u001b[32m4\u001b[39m)\n  ammonite.$sess.cmd26$Helper.applyn(\u001b[32mcmd26.sc\u001b[39m:\u001b[32m4\u001b[39m)\n  ammonite.$sess.cmd26$Helper.applyn(\u001b[32mcmd26.sc\u001b[39m:\u001b[32m4\u001b[39m)\n  ammonite.$sess.cmd26$Helper.applyn(\u001b[32mcmd26.sc\u001b[39m:\u001b[32m4\u001b[39m)\n  ammonite.$sess.cmd26$Helper.applyn(\u001b[32mcmd26.sc\u001b[39m:\u001b[32m4\u001b[39m)\n  ammonite.$sess.cmd26$Helper.applyn(\u001b[32mcmd26.sc\u001b[39m:\u001b[32m4\u001b[39m)\n  ammonite.$sess.cmd26$Helper.applyn(\u001b[32mcmd26.sc\u001b[39m:\u001b[32m4\u001b[39m)\n  ammonite.$sess.cmd26$Helper.applyn(\u001b[32mcmd26.sc\u001b[39m:\u001b[32m4\u001b[39m)\n  ammonite.$sess.cmd26$Helper.applyn(\u001b[32mcmd26.sc\u001b[39m:\u001b[32m4\u001b[39m)\n  ammonite.$sess.cmd26$Helper.applyn(\u001b[32mcmd26.sc\u001b[39m:\u001b[32m4\u001b[39m)\n  ammonite.$sess.cmd26$Helper.applyn(\u001b[32mcmd26.sc\u001b[39m:\u001b[32m4\u001b[39m)\n  ammonite.$sess.cmd26$Helper.applyn(\u001b[32mcmd26.sc\u001b[39m:\u001b[32m4\u001b[39m)\n  ammonite.$sess.cmd26$Helper.applyn(\u001b[32mcmd26.sc\u001b[39m:\u001b[32m4\u001b[39m)\n  ammonite.$sess.cmd26$Helper.applyn(\u001b[32mcmd26.sc\u001b[39m:\u001b[32m4\u001b[39m)\n  ammonite.$sess.cmd26$Helper.applyn(\u001b[32mcmd26.sc\u001b[39m:\u001b[32m4\u001b[39m)\n  ammonite.$sess.cmd26$Helper.applyn(\u001b[32mcmd26.sc\u001b[39m:\u001b[32m4\u001b[39m)\n  ammonite.$sess.cmd26$Helper.applyn(\u001b[32mcmd26.sc\u001b[39m:\u001b[32m4\u001b[39m)\n  ammonite.$sess.cmd26$Helper.applyn(\u001b[32mcmd26.sc\u001b[39m:\u001b[32m4\u001b[39m)\n  ammonite.$sess.cmd26$Helper.applyn(\u001b[32mcmd26.sc\u001b[39m:\u001b[32m4\u001b[39m)\n  ammonite.$sess.cmd26$Helper.applyn(\u001b[32mcmd26.sc\u001b[39m:\u001b[32m4\u001b[39m)\n  ammonite.$sess.cmd26$Helper.applyn(\u001b[32mcmd26.sc\u001b[39m:\u001b[32m4\u001b[39m)\n  ammonite.$sess.cmd26$Helper.applyn(\u001b[32mcmd26.sc\u001b[39m:\u001b[32m4\u001b[39m)\n  ammonite.$sess.cmd26$Helper.applyn(\u001b[32mcmd26.sc\u001b[39m:\u001b[32m4\u001b[39m)\n  ammonite.$sess.cmd26$Helper.applyn(\u001b[32mcmd26.sc\u001b[39m:\u001b[32m4\u001b[39m)\n  ammonite.$sess.cmd26$Helper.applyn(\u001b[32mcmd26.sc\u001b[39m:\u001b[32m4\u001b[39m)\n  ammonite.$sess.cmd26$Helper.applyn(\u001b[32mcmd26.sc\u001b[39m:\u001b[32m4\u001b[39m)\n  ammonite.$sess.cmd26$Helper.applyn(\u001b[32mcmd26.sc\u001b[39m:\u001b[32m4\u001b[39m)\n  ammonite.$sess.cmd26$Helper.applyn(\u001b[32mcmd26.sc\u001b[39m:\u001b[32m4\u001b[39m)\n  ammonite.$sess.cmd26$Helper.applyn(\u001b[32mcmd26.sc\u001b[39m:\u001b[32m4\u001b[39m)\n  ammonite.$sess.cmd26$Helper.applyn(\u001b[32mcmd26.sc\u001b[39m:\u001b[32m4\u001b[39m)\n  ammonite.$sess.cmd26$Helper.applyn(\u001b[32mcmd26.sc\u001b[39m:\u001b[32m4\u001b[39m)\n  ammonite.$sess.cmd26$Helper.applyn(\u001b[32mcmd26.sc\u001b[39m:\u001b[32m4\u001b[39m)\n  ammonite.$sess.cmd26$Helper.applyn(\u001b[32mcmd26.sc\u001b[39m:\u001b[32m4\u001b[39m)\n  ammonite.$sess.cmd26$Helper.applyn(\u001b[32mcmd26.sc\u001b[39m:\u001b[32m4\u001b[39m)\n  ammonite.$sess.cmd26$Helper.applyn(\u001b[32mcmd26.sc\u001b[39m:\u001b[32m4\u001b[39m)\n  ammonite.$sess.cmd26$Helper.applyn(\u001b[32mcmd26.sc\u001b[39m:\u001b[32m4\u001b[39m)\n  ammonite.$sess.cmd26$Helper.applyn(\u001b[32mcmd26.sc\u001b[39m:\u001b[32m4\u001b[39m)\n  ammonite.$sess.cmd26$Helper.applyn(\u001b[32mcmd26.sc\u001b[39m:\u001b[32m4\u001b[39m)\n  ammonite.$sess.cmd26$Helper.applyn(\u001b[32mcmd26.sc\u001b[39m:\u001b[32m4\u001b[39m)\n  ammonite.$sess.cmd26$Helper.applyn(\u001b[32mcmd26.sc\u001b[39m:\u001b[32m4\u001b[39m)\n  ammonite.$sess.cmd26$Helper.applyn(\u001b[32mcmd26.sc\u001b[39m:\u001b[32m4\u001b[39m)\n  ammonite.$sess.cmd26$Helper.applyn(\u001b[32mcmd26.sc\u001b[39m:\u001b[32m4\u001b[39m)\n  ammonite.$sess.cmd26$Helper.applyn(\u001b[32mcmd26.sc\u001b[39m:\u001b[32m4\u001b[39m)\n  ammonite.$sess.cmd26$Helper.applyn(\u001b[32mcmd26.sc\u001b[39m:\u001b[32m4\u001b[39m)\n  ammonite.$sess.cmd26$Helper.applyn(\u001b[32mcmd26.sc\u001b[39m:\u001b[32m4\u001b[39m)\n  ammonite.$sess.cmd26$Helper.applyn(\u001b[32mcmd26.sc\u001b[39m:\u001b[32m4\u001b[39m)\n  ammonite.$sess.cmd26$Helper.applyn(\u001b[32mcmd26.sc\u001b[39m:\u001b[32m4\u001b[39m)\n  ammonite.$sess.cmd26$Helper.applyn(\u001b[32mcmd26.sc\u001b[39m:\u001b[32m4\u001b[39m)\n  ammonite.$sess.cmd26$Helper.applyn(\u001b[32mcmd26.sc\u001b[39m:\u001b[32m4\u001b[39m)\n  ammonite.$sess.cmd26$Helper.applyn(\u001b[32mcmd26.sc\u001b[39m:\u001b[32m4\u001b[39m)\n  ammonite.$sess.cmd26$Helper.applyn(\u001b[32mcmd26.sc\u001b[39m:\u001b[32m4\u001b[39m)\n  ammonite.$sess.cmd26$Helper.applyn(\u001b[32mcmd26.sc\u001b[39m:\u001b[32m4\u001b[39m)\n  ammonite.$sess.cmd26$Helper.applyn(\u001b[32mcmd26.sc\u001b[39m:\u001b[32m4\u001b[39m)\n  ammonite.$sess.cmd26$Helper.applyn(\u001b[32mcmd26.sc\u001b[39m:\u001b[32m4\u001b[39m)\n  ammonite.$sess.cmd26$Helper.applyn(\u001b[32mcmd26.sc\u001b[39m:\u001b[32m4\u001b[39m)\n  ammonite.$sess.cmd26$Helper.applyn(\u001b[32mcmd26.sc\u001b[39m:\u001b[32m4\u001b[39m)\n  ammonite.$sess.cmd26$Helper.applyn(\u001b[32mcmd26.sc\u001b[39m:\u001b[32m4\u001b[39m)\n  ammonite.$sess.cmd26$Helper.applyn(\u001b[32mcmd26.sc\u001b[39m:\u001b[32m4\u001b[39m)\n  ammonite.$sess.cmd26$Helper.applyn(\u001b[32mcmd26.sc\u001b[39m:\u001b[32m4\u001b[39m)\n  ammonite.$sess.cmd26$Helper.applyn(\u001b[32mcmd26.sc\u001b[39m:\u001b[32m4\u001b[39m)\n  ammonite.$sess.cmd26$Helper.applyn(\u001b[32mcmd26.sc\u001b[39m:\u001b[32m4\u001b[39m)\n  ammonite.$sess.cmd26$Helper.applyn(\u001b[32mcmd26.sc\u001b[39m:\u001b[32m4\u001b[39m)\n  ammonite.$sess.cmd26$Helper.applyn(\u001b[32mcmd26.sc\u001b[39m:\u001b[32m4\u001b[39m)\n  ammonite.$sess.cmd26$Helper.applyn(\u001b[32mcmd26.sc\u001b[39m:\u001b[32m4\u001b[39m)\n  ammonite.$sess.cmd26$Helper.applyn(\u001b[32mcmd26.sc\u001b[39m:\u001b[32m4\u001b[39m)\n  ammonite.$sess.cmd26$Helper.applyn(\u001b[32mcmd26.sc\u001b[39m:\u001b[32m4\u001b[39m)\n  ammonite.$sess.cmd26$Helper.applyn(\u001b[32mcmd26.sc\u001b[39m:\u001b[32m4\u001b[39m)\n  ammonite.$sess.cmd26$Helper.applyn(\u001b[32mcmd26.sc\u001b[39m:\u001b[32m4\u001b[39m)\n  ammonite.$sess.cmd26$Helper.applyn(\u001b[32mcmd26.sc\u001b[39m:\u001b[32m4\u001b[39m)\n  ammonite.$sess.cmd26$Helper.applyn(\u001b[32mcmd26.sc\u001b[39m:\u001b[32m4\u001b[39m)\n  ammonite.$sess.cmd26$Helper.applyn(\u001b[32mcmd26.sc\u001b[39m:\u001b[32m4\u001b[39m)\n  ammonite.$sess.cmd26$Helper.applyn(\u001b[32mcmd26.sc\u001b[39m:\u001b[32m4\u001b[39m)\n  ammonite.$sess.cmd26$Helper.applyn(\u001b[32mcmd26.sc\u001b[39m:\u001b[32m4\u001b[39m)\n  ammonite.$sess.cmd26$Helper.applyn(\u001b[32mcmd26.sc\u001b[39m:\u001b[32m4\u001b[39m)\n  ammonite.$sess.cmd26$Helper.applyn(\u001b[32mcmd26.sc\u001b[39m:\u001b[32m4\u001b[39m)\n  ammonite.$sess.cmd26$Helper.applyn(\u001b[32mcmd26.sc\u001b[39m:\u001b[32m4\u001b[39m)\n  ammonite.$sess.cmd26$Helper.applyn(\u001b[32mcmd26.sc\u001b[39m:\u001b[32m4\u001b[39m)\n  ammonite.$sess.cmd26$Helper.applyn(\u001b[32mcmd26.sc\u001b[39m:\u001b[32m4\u001b[39m)\n  ammonite.$sess.cmd26$Helper.applyn(\u001b[32mcmd26.sc\u001b[39m:\u001b[32m4\u001b[39m)\n  ammonite.$sess.cmd26$Helper.applyn(\u001b[32mcmd26.sc\u001b[39m:\u001b[32m4\u001b[39m)\n  ammonite.$sess.cmd26$Helper.applyn(\u001b[32mcmd26.sc\u001b[39m:\u001b[32m4\u001b[39m)\n  ammonite.$sess.cmd26$Helper.applyn(\u001b[32mcmd26.sc\u001b[39m:\u001b[32m4\u001b[39m)\n  ammonite.$sess.cmd26$Helper.applyn(\u001b[32mcmd26.sc\u001b[39m:\u001b[32m4\u001b[39m)\n  ammonite.$sess.cmd26$Helper.applyn(\u001b[32mcmd26.sc\u001b[39m:\u001b[32m4\u001b[39m)\n  ammonite.$sess.cmd26$Helper.applyn(\u001b[32mcmd26.sc\u001b[39m:\u001b[32m4\u001b[39m)\n  ammonite.$sess.cmd26$Helper.applyn(\u001b[32mcmd26.sc\u001b[39m:\u001b[32m4\u001b[39m)\n  ammonite.$sess.cmd26$Helper.applyn(\u001b[32mcmd26.sc\u001b[39m:\u001b[32m4\u001b[39m)\n  ammonite.$sess.cmd26$Helper.applyn(\u001b[32mcmd26.sc\u001b[39m:\u001b[32m4\u001b[39m)\n  ammonite.$sess.cmd26$Helper.applyn(\u001b[32mcmd26.sc\u001b[39m:\u001b[32m4\u001b[39m)\n  ammonite.$sess.cmd26$Helper.applyn(\u001b[32mcmd26.sc\u001b[39m:\u001b[32m4\u001b[39m)\n  ammonite.$sess.cmd26$Helper.applyn(\u001b[32mcmd26.sc\u001b[39m:\u001b[32m4\u001b[39m)\n  ammonite.$sess.cmd26$Helper.applyn(\u001b[32mcmd26.sc\u001b[39m:\u001b[32m4\u001b[39m)\n  ammonite.$sess.cmd26$Helper.applyn(\u001b[32mcmd26.sc\u001b[39m:\u001b[32m4\u001b[39m)\n  ammonite.$sess.cmd26$Helper.applyn(\u001b[32mcmd26.sc\u001b[39m:\u001b[32m4\u001b[39m)\n  ammonite.$sess.cmd26$Helper.applyn(\u001b[32mcmd26.sc\u001b[39m:\u001b[32m4\u001b[39m)\n  ammonite.$sess.cmd26$Helper.applyn(\u001b[32mcmd26.sc\u001b[39m:\u001b[32m4\u001b[39m)\n  ammonite.$sess.cmd26$Helper.applyn(\u001b[32mcmd26.sc\u001b[39m:\u001b[32m4\u001b[39m)\n  ammonite.$sess.cmd26$Helper.applyn(\u001b[32mcmd26.sc\u001b[39m:\u001b[32m4\u001b[39m)\n  ammonite.$sess.cmd26$Helper.applyn(\u001b[32mcmd26.sc\u001b[39m:\u001b[32m4\u001b[39m)\n  ammonite.$sess.cmd26$Helper.applyn(\u001b[32mcmd26.sc\u001b[39m:\u001b[32m4\u001b[39m)\n  ammonite.$sess.cmd26$Helper.applyn(\u001b[32mcmd26.sc\u001b[39m:\u001b[32m4\u001b[39m)\n  ammonite.$sess.cmd26$Helper.applyn(\u001b[32mcmd26.sc\u001b[39m:\u001b[32m4\u001b[39m)\n  ammonite.$sess.cmd26$Helper.applyn(\u001b[32mcmd26.sc\u001b[39m:\u001b[32m4\u001b[39m)\n  ammonite.$sess.cmd26$Helper.applyn(\u001b[32mcmd26.sc\u001b[39m:\u001b[32m4\u001b[39m)\n  ammonite.$sess.cmd26$Helper.applyn(\u001b[32mcmd26.sc\u001b[39m:\u001b[32m4\u001b[39m)\n  ammonite.$sess.cmd26$Helper.applyn(\u001b[32mcmd26.sc\u001b[39m:\u001b[32m4\u001b[39m)\n  ammonite.$sess.cmd26$Helper.applyn(\u001b[32mcmd26.sc\u001b[39m:\u001b[32m4\u001b[39m)\n  ammonite.$sess.cmd26$Helper.applyn(\u001b[32mcmd26.sc\u001b[39m:\u001b[32m4\u001b[39m)\n  ammonite.$sess.cmd26$Helper.applyn(\u001b[32mcmd26.sc\u001b[39m:\u001b[32m4\u001b[39m)\n  ammonite.$sess.cmd26$Helper.applyn(\u001b[32mcmd26.sc\u001b[39m:\u001b[32m4\u001b[39m)\n  ammonite.$sess.cmd26$Helper.applyn(\u001b[32mcmd26.sc\u001b[39m:\u001b[32m4\u001b[39m)\n  ammonite.$sess.cmd26$Helper.applyn(\u001b[32mcmd26.sc\u001b[39m:\u001b[32m4\u001b[39m)\n  ammonite.$sess.cmd26$Helper.applyn(\u001b[32mcmd26.sc\u001b[39m:\u001b[32m4\u001b[39m)\n  ammonite.$sess.cmd26$Helper.applyn(\u001b[32mcmd26.sc\u001b[39m:\u001b[32m4\u001b[39m)\n  ammonite.$sess.cmd26$Helper.applyn(\u001b[32mcmd26.sc\u001b[39m:\u001b[32m4\u001b[39m)\n  ammonite.$sess.cmd26$Helper.applyn(\u001b[32mcmd26.sc\u001b[39m:\u001b[32m4\u001b[39m)\n  ammonite.$sess.cmd26$Helper.applyn(\u001b[32mcmd26.sc\u001b[39m:\u001b[32m4\u001b[39m)\n  ammonite.$sess.cmd26$Helper.applyn(\u001b[32mcmd26.sc\u001b[39m:\u001b[32m4\u001b[39m)\n  ammonite.$sess.cmd26$Helper.applyn(\u001b[32mcmd26.sc\u001b[39m:\u001b[32m4\u001b[39m)\n  ammonite.$sess.cmd26$Helper.applyn(\u001b[32mcmd26.sc\u001b[39m:\u001b[32m4\u001b[39m)\n  ammonite.$sess.cmd26$Helper.applyn(\u001b[32mcmd26.sc\u001b[39m:\u001b[32m4\u001b[39m)\n  ammonite.$sess.cmd26$Helper.applyn(\u001b[32mcmd26.sc\u001b[39m:\u001b[32m4\u001b[39m)\n  ammonite.$sess.cmd26$Helper.applyn(\u001b[32mcmd26.sc\u001b[39m:\u001b[32m4\u001b[39m)\n  ammonite.$sess.cmd26$Helper.applyn(\u001b[32mcmd26.sc\u001b[39m:\u001b[32m4\u001b[39m)\n  ammonite.$sess.cmd26$Helper.applyn(\u001b[32mcmd26.sc\u001b[39m:\u001b[32m4\u001b[39m)\n  ammonite.$sess.cmd26$Helper.applyn(\u001b[32mcmd26.sc\u001b[39m:\u001b[32m4\u001b[39m)\n  ammonite.$sess.cmd26$Helper.applyn(\u001b[32mcmd26.sc\u001b[39m:\u001b[32m4\u001b[39m)\n  ammonite.$sess.cmd26$Helper.applyn(\u001b[32mcmd26.sc\u001b[39m:\u001b[32m4\u001b[39m)\n  ammonite.$sess.cmd26$Helper.applyn(\u001b[32mcmd26.sc\u001b[39m:\u001b[32m4\u001b[39m)\n  ammonite.$sess.cmd26$Helper.applyn(\u001b[32mcmd26.sc\u001b[39m:\u001b[32m4\u001b[39m)\n  ammonite.$sess.cmd26$Helper.applyn(\u001b[32mcmd26.sc\u001b[39m:\u001b[32m4\u001b[39m)\n  ammonite.$sess.cmd26$Helper.applyn(\u001b[32mcmd26.sc\u001b[39m:\u001b[32m4\u001b[39m)\n  ammonite.$sess.cmd26$Helper.applyn(\u001b[32mcmd26.sc\u001b[39m:\u001b[32m4\u001b[39m)\n  ammonite.$sess.cmd26$Helper.applyn(\u001b[32mcmd26.sc\u001b[39m:\u001b[32m4\u001b[39m)\n  ammonite.$sess.cmd26$Helper.applyn(\u001b[32mcmd26.sc\u001b[39m:\u001b[32m4\u001b[39m)\n  ammonite.$sess.cmd26$Helper.applyn(\u001b[32mcmd26.sc\u001b[39m:\u001b[32m4\u001b[39m)\n  ammonite.$sess.cmd26$Helper.applyn(\u001b[32mcmd26.sc\u001b[39m:\u001b[32m4\u001b[39m)\n  ammonite.$sess.cmd26$Helper.applyn(\u001b[32mcmd26.sc\u001b[39m:\u001b[32m4\u001b[39m)\n  ammonite.$sess.cmd26$Helper.applyn(\u001b[32mcmd26.sc\u001b[39m:\u001b[32m4\u001b[39m)\n  ammonite.$sess.cmd26$Helper.applyn(\u001b[32mcmd26.sc\u001b[39m:\u001b[32m4\u001b[39m)\n  ammonite.$sess.cmd26$Helper.applyn(\u001b[32mcmd26.sc\u001b[39m:\u001b[32m4\u001b[39m)\n  ammonite.$sess.cmd26$Helper.applyn(\u001b[32mcmd26.sc\u001b[39m:\u001b[32m4\u001b[39m)\n  ammonite.$sess.cmd26$Helper.applyn(\u001b[32mcmd26.sc\u001b[39m:\u001b[32m4\u001b[39m)\n  ammonite.$sess.cmd26$Helper.applyn(\u001b[32mcmd26.sc\u001b[39m:\u001b[32m4\u001b[39m)\n  ammonite.$sess.cmd26$Helper.applyn(\u001b[32mcmd26.sc\u001b[39m:\u001b[32m4\u001b[39m)\n  ammonite.$sess.cmd26$Helper.applyn(\u001b[32mcmd26.sc\u001b[39m:\u001b[32m4\u001b[39m)\n  ammonite.$sess.cmd26$Helper.applyn(\u001b[32mcmd26.sc\u001b[39m:\u001b[32m4\u001b[39m)\n  ammonite.$sess.cmd26$Helper.applyn(\u001b[32mcmd26.sc\u001b[39m:\u001b[32m4\u001b[39m)\n  ammonite.$sess.cmd26$Helper.applyn(\u001b[32mcmd26.sc\u001b[39m:\u001b[32m4\u001b[39m)\n  ammonite.$sess.cmd26$Helper.applyn(\u001b[32mcmd26.sc\u001b[39m:\u001b[32m4\u001b[39m)\n  ammonite.$sess.cmd26$Helper.applyn(\u001b[32mcmd26.sc\u001b[39m:\u001b[32m4\u001b[39m)\n  ammonite.$sess.cmd26$Helper.applyn(\u001b[32mcmd26.sc\u001b[39m:\u001b[32m4\u001b[39m)\n  ammonite.$sess.cmd26$Helper.applyn(\u001b[32mcmd26.sc\u001b[39m:\u001b[32m4\u001b[39m)\n  ammonite.$sess.cmd26$Helper.applyn(\u001b[32mcmd26.sc\u001b[39m:\u001b[32m4\u001b[39m)\n  ammonite.$sess.cmd26$Helper.applyn(\u001b[32mcmd26.sc\u001b[39m:\u001b[32m4\u001b[39m)\n  ammonite.$sess.cmd26$Helper.applyn(\u001b[32mcmd26.sc\u001b[39m:\u001b[32m4\u001b[39m)\n  ammonite.$sess.cmd26$Helper.applyn(\u001b[32mcmd26.sc\u001b[39m:\u001b[32m4\u001b[39m)\n  ammonite.$sess.cmd26$Helper.applyn(\u001b[32mcmd26.sc\u001b[39m:\u001b[32m4\u001b[39m)\n  ammonite.$sess.cmd26$Helper.applyn(\u001b[32mcmd26.sc\u001b[39m:\u001b[32m4\u001b[39m)\n  ammonite.$sess.cmd26$Helper.applyn(\u001b[32mcmd26.sc\u001b[39m:\u001b[32m4\u001b[39m)\n  ammonite.$sess.cmd26$Helper.applyn(\u001b[32mcmd26.sc\u001b[39m:\u001b[32m4\u001b[39m)\n  ammonite.$sess.cmd26$Helper.applyn(\u001b[32mcmd26.sc\u001b[39m:\u001b[32m4\u001b[39m)\n  ammonite.$sess.cmd26$Helper.applyn(\u001b[32mcmd26.sc\u001b[39m:\u001b[32m4\u001b[39m)\n  ammonite.$sess.cmd26$Helper.applyn(\u001b[32mcmd26.sc\u001b[39m:\u001b[32m4\u001b[39m)\n  ammonite.$sess.cmd26$Helper.applyn(\u001b[32mcmd26.sc\u001b[39m:\u001b[32m4\u001b[39m)\n  ammonite.$sess.cmd26$Helper.applyn(\u001b[32mcmd26.sc\u001b[39m:\u001b[32m4\u001b[39m)\n  ammonite.$sess.cmd26$Helper.applyn(\u001b[32mcmd26.sc\u001b[39m:\u001b[32m4\u001b[39m)\n  ammonite.$sess.cmd26$Helper.applyn(\u001b[32mcmd26.sc\u001b[39m:\u001b[32m4\u001b[39m)\n  ammonite.$sess.cmd26$Helper.applyn(\u001b[32mcmd26.sc\u001b[39m:\u001b[32m4\u001b[39m)\n  ammonite.$sess.cmd26$Helper.applyn(\u001b[32mcmd26.sc\u001b[39m:\u001b[32m4\u001b[39m)\n  ammonite.$sess.cmd26$Helper.applyn(\u001b[32mcmd26.sc\u001b[39m:\u001b[32m4\u001b[39m)\n  ammonite.$sess.cmd26$Helper.applyn(\u001b[32mcmd26.sc\u001b[39m:\u001b[32m4\u001b[39m)\n  ammonite.$sess.cmd26$Helper.applyn(\u001b[32mcmd26.sc\u001b[39m:\u001b[32m4\u001b[39m)\n  ammonite.$sess.cmd26$Helper.applyn(\u001b[32mcmd26.sc\u001b[39m:\u001b[32m4\u001b[39m)\n  ammonite.$sess.cmd26$Helper.applyn(\u001b[32mcmd26.sc\u001b[39m:\u001b[32m4\u001b[39m)\n  ammonite.$sess.cmd26$Helper.applyn(\u001b[32mcmd26.sc\u001b[39m:\u001b[32m4\u001b[39m)\n  ammonite.$sess.cmd26$Helper.applyn(\u001b[32mcmd26.sc\u001b[39m:\u001b[32m4\u001b[39m)\n  ammonite.$sess.cmd26$Helper.applyn(\u001b[32mcmd26.sc\u001b[39m:\u001b[32m4\u001b[39m)\n  ammonite.$sess.cmd26$Helper.applyn(\u001b[32mcmd26.sc\u001b[39m:\u001b[32m4\u001b[39m)\n  ammonite.$sess.cmd26$Helper.applyn(\u001b[32mcmd26.sc\u001b[39m:\u001b[32m4\u001b[39m)\n  ammonite.$sess.cmd26$Helper.applyn(\u001b[32mcmd26.sc\u001b[39m:\u001b[32m4\u001b[39m)\n  ammonite.$sess.cmd26$Helper.applyn(\u001b[32mcmd26.sc\u001b[39m:\u001b[32m4\u001b[39m)\n  ammonite.$sess.cmd26$Helper.applyn(\u001b[32mcmd26.sc\u001b[39m:\u001b[32m4\u001b[39m)\n  ammonite.$sess.cmd26$Helper.applyn(\u001b[32mcmd26.sc\u001b[39m:\u001b[32m4\u001b[39m)\n  ammonite.$sess.cmd26$Helper.applyn(\u001b[32mcmd26.sc\u001b[39m:\u001b[32m4\u001b[39m)\n  ammonite.$sess.cmd26$Helper.applyn(\u001b[32mcmd26.sc\u001b[39m:\u001b[32m4\u001b[39m)\n  ammonite.$sess.cmd26$Helper.applyn(\u001b[32mcmd26.sc\u001b[39m:\u001b[32m4\u001b[39m)\n  ammonite.$sess.cmd26$Helper.applyn(\u001b[32mcmd26.sc\u001b[39m:\u001b[32m4\u001b[39m)\n  ammonite.$sess.cmd26$Helper.applyn(\u001b[32mcmd26.sc\u001b[39m:\u001b[32m4\u001b[39m)\n  ammonite.$sess.cmd26$Helper.applyn(\u001b[32mcmd26.sc\u001b[39m:\u001b[32m4\u001b[39m)\n  ammonite.$sess.cmd26$Helper.applyn(\u001b[32mcmd26.sc\u001b[39m:\u001b[32m4\u001b[39m)\n  ammonite.$sess.cmd26$Helper.applyn(\u001b[32mcmd26.sc\u001b[39m:\u001b[32m4\u001b[39m)\n  ammonite.$sess.cmd26$Helper.applyn(\u001b[32mcmd26.sc\u001b[39m:\u001b[32m4\u001b[39m)\n  ammonite.$sess.cmd26$Helper.applyn(\u001b[32mcmd26.sc\u001b[39m:\u001b[32m4\u001b[39m)\n  ammonite.$sess.cmd26$Helper.applyn(\u001b[32mcmd26.sc\u001b[39m:\u001b[32m4\u001b[39m)\n  ammonite.$sess.cmd26$Helper.applyn(\u001b[32mcmd26.sc\u001b[39m:\u001b[32m4\u001b[39m)\n  ammonite.$sess.cmd26$Helper.applyn(\u001b[32mcmd26.sc\u001b[39m:\u001b[32m4\u001b[39m)\n  ammonite.$sess.cmd26$Helper.applyn(\u001b[32mcmd26.sc\u001b[39m:\u001b[32m4\u001b[39m)\n  ammonite.$sess.cmd26$Helper.applyn(\u001b[32mcmd26.sc\u001b[39m:\u001b[32m4\u001b[39m)\n  ammonite.$sess.cmd26$Helper.applyn(\u001b[32mcmd26.sc\u001b[39m:\u001b[32m4\u001b[39m)\n  ammonite.$sess.cmd26$Helper.applyn(\u001b[32mcmd26.sc\u001b[39m:\u001b[32m4\u001b[39m)\n  ammonite.$sess.cmd26$Helper.applyn(\u001b[32mcmd26.sc\u001b[39m:\u001b[32m4\u001b[39m)\n  ammonite.$sess.cmd26$Helper.applyn(\u001b[32mcmd26.sc\u001b[39m:\u001b[32m4\u001b[39m)\n  ammonite.$sess.cmd26$Helper.applyn(\u001b[32mcmd26.sc\u001b[39m:\u001b[32m4\u001b[39m)\n  ammonite.$sess.cmd26$Helper.applyn(\u001b[32mcmd26.sc\u001b[39m:\u001b[32m4\u001b[39m)\n  ammonite.$sess.cmd26$Helper.applyn(\u001b[32mcmd26.sc\u001b[39m:\u001b[32m4\u001b[39m)\n  ammonite.$sess.cmd26$Helper.applyn(\u001b[32mcmd26.sc\u001b[39m:\u001b[32m4\u001b[39m)\n  ammonite.$sess.cmd26$Helper.applyn(\u001b[32mcmd26.sc\u001b[39m:\u001b[32m4\u001b[39m)\n  ammonite.$sess.cmd26$Helper.applyn(\u001b[32mcmd26.sc\u001b[39m:\u001b[32m4\u001b[39m)\n  ammonite.$sess.cmd26$Helper.applyn(\u001b[32mcmd26.sc\u001b[39m:\u001b[32m4\u001b[39m)\n  ammonite.$sess.cmd26$Helper.applyn(\u001b[32mcmd26.sc\u001b[39m:\u001b[32m4\u001b[39m)\n  ammonite.$sess.cmd26$Helper.applyn(\u001b[32mcmd26.sc\u001b[39m:\u001b[32m4\u001b[39m)\n  ammonite.$sess.cmd26$Helper.applyn(\u001b[32mcmd26.sc\u001b[39m:\u001b[32m4\u001b[39m)\n  ammonite.$sess.cmd26$Helper.applyn(\u001b[32mcmd26.sc\u001b[39m:\u001b[32m4\u001b[39m)\n  ammonite.$sess.cmd26$Helper.applyn(\u001b[32mcmd26.sc\u001b[39m:\u001b[32m4\u001b[39m)\n  ammonite.$sess.cmd26$Helper.applyn(\u001b[32mcmd26.sc\u001b[39m:\u001b[32m4\u001b[39m)\n  ammonite.$sess.cmd26$Helper.applyn(\u001b[32mcmd26.sc\u001b[39m:\u001b[32m4\u001b[39m)\n  ammonite.$sess.cmd26$Helper.applyn(\u001b[32mcmd26.sc\u001b[39m:\u001b[32m4\u001b[39m)\n  ammonite.$sess.cmd26$Helper.applyn(\u001b[32mcmd26.sc\u001b[39m:\u001b[32m4\u001b[39m)\n  ammonite.$sess.cmd26$Helper.applyn(\u001b[32mcmd26.sc\u001b[39m:\u001b[32m4\u001b[39m)\n  ammonite.$sess.cmd26$Helper.applyn(\u001b[32mcmd26.sc\u001b[39m:\u001b[32m4\u001b[39m)\n  ammonite.$sess.cmd26$Helper.applyn(\u001b[32mcmd26.sc\u001b[39m:\u001b[32m4\u001b[39m)\n  ammonite.$sess.cmd26$Helper.applyn(\u001b[32mcmd26.sc\u001b[39m:\u001b[32m4\u001b[39m)\n  ammonite.$sess.cmd26$Helper.applyn(\u001b[32mcmd26.sc\u001b[39m:\u001b[32m4\u001b[39m)\n  ammonite.$sess.cmd26$Helper.applyn(\u001b[32mcmd26.sc\u001b[39m:\u001b[32m4\u001b[39m)\n  ammonite.$sess.cmd26$Helper.applyn(\u001b[32mcmd26.sc\u001b[39m:\u001b[32m4\u001b[39m)\n  ammonite.$sess.cmd26$Helper.applyn(\u001b[32mcmd26.sc\u001b[39m:\u001b[32m4\u001b[39m)\n  ammonite.$sess.cmd26$Helper.applyn(\u001b[32mcmd26.sc\u001b[39m:\u001b[32m4\u001b[39m)\n  ammonite.$sess.cmd26$Helper.applyn(\u001b[32mcmd26.sc\u001b[39m:\u001b[32m4\u001b[39m)\n  ammonite.$sess.cmd26$Helper.applyn(\u001b[32mcmd26.sc\u001b[39m:\u001b[32m4\u001b[39m)\n  ammonite.$sess.cmd26$Helper.applyn(\u001b[32mcmd26.sc\u001b[39m:\u001b[32m4\u001b[39m)\n  ammonite.$sess.cmd26$Helper.applyn(\u001b[32mcmd26.sc\u001b[39m:\u001b[32m4\u001b[39m)\n  ammonite.$sess.cmd26$Helper.applyn(\u001b[32mcmd26.sc\u001b[39m:\u001b[32m4\u001b[39m)\n  ammonite.$sess.cmd26$Helper.applyn(\u001b[32mcmd26.sc\u001b[39m:\u001b[32m4\u001b[39m)\n  ammonite.$sess.cmd26$Helper.applyn(\u001b[32mcmd26.sc\u001b[39m:\u001b[32m4\u001b[39m)\n  ammonite.$sess.cmd26$Helper.applyn(\u001b[32mcmd26.sc\u001b[39m:\u001b[32m4\u001b[39m)\n  ammonite.$sess.cmd26$Helper.applyn(\u001b[32mcmd26.sc\u001b[39m:\u001b[32m4\u001b[39m)\n  ammonite.$sess.cmd26$Helper.applyn(\u001b[32mcmd26.sc\u001b[39m:\u001b[32m4\u001b[39m)\n  ammonite.$sess.cmd26$Helper.applyn(\u001b[32mcmd26.sc\u001b[39m:\u001b[32m4\u001b[39m)\n  ammonite.$sess.cmd26$Helper.applyn(\u001b[32mcmd26.sc\u001b[39m:\u001b[32m4\u001b[39m)\n  ammonite.$sess.cmd26$Helper.applyn(\u001b[32mcmd26.sc\u001b[39m:\u001b[32m4\u001b[39m)\n  ammonite.$sess.cmd26$Helper.applyn(\u001b[32mcmd26.sc\u001b[39m:\u001b[32m4\u001b[39m)\n  ammonite.$sess.cmd26$Helper.applyn(\u001b[32mcmd26.sc\u001b[39m:\u001b[32m4\u001b[39m)\n  ammonite.$sess.cmd26$Helper.applyn(\u001b[32mcmd26.sc\u001b[39m:\u001b[32m4\u001b[39m)\n  ammonite.$sess.cmd26$Helper.applyn(\u001b[32mcmd26.sc\u001b[39m:\u001b[32m4\u001b[39m)\n  ammonite.$sess.cmd26$Helper.applyn(\u001b[32mcmd26.sc\u001b[39m:\u001b[32m4\u001b[39m)\n  ammonite.$sess.cmd26$Helper.applyn(\u001b[32mcmd26.sc\u001b[39m:\u001b[32m4\u001b[39m)\n  ammonite.$sess.cmd26$Helper.applyn(\u001b[32mcmd26.sc\u001b[39m:\u001b[32m4\u001b[39m)\n  ammonite.$sess.cmd26$Helper.applyn(\u001b[32mcmd26.sc\u001b[39m:\u001b[32m4\u001b[39m)\n  ammonite.$sess.cmd26$Helper.applyn(\u001b[32mcmd26.sc\u001b[39m:\u001b[32m4\u001b[39m)\n  ammonite.$sess.cmd26$Helper.applyn(\u001b[32mcmd26.sc\u001b[39m:\u001b[32m4\u001b[39m)\n  ammonite.$sess.cmd26$Helper.applyn(\u001b[32mcmd26.sc\u001b[39m:\u001b[32m4\u001b[39m)\n  ammonite.$sess.cmd26$Helper.applyn(\u001b[32mcmd26.sc\u001b[39m:\u001b[32m4\u001b[39m)\n  ammonite.$sess.cmd26$Helper.applyn(\u001b[32mcmd26.sc\u001b[39m:\u001b[32m4\u001b[39m)\n  ammonite.$sess.cmd26$Helper.applyn(\u001b[32mcmd26.sc\u001b[39m:\u001b[32m4\u001b[39m)\n  ammonite.$sess.cmd26$Helper.applyn(\u001b[32mcmd26.sc\u001b[39m:\u001b[32m4\u001b[39m)\n  ammonite.$sess.cmd26$Helper.applyn(\u001b[32mcmd26.sc\u001b[39m:\u001b[32m4\u001b[39m)\n  ammonite.$sess.cmd26$Helper.applyn(\u001b[32mcmd26.sc\u001b[39m:\u001b[32m4\u001b[39m)\n  ammonite.$sess.cmd26$Helper.applyn(\u001b[32mcmd26.sc\u001b[39m:\u001b[32m4\u001b[39m)\n  ammonite.$sess.cmd26$Helper.applyn(\u001b[32mcmd26.sc\u001b[39m:\u001b[32m4\u001b[39m)\n  ammonite.$sess.cmd26$Helper.applyn(\u001b[32mcmd26.sc\u001b[39m:\u001b[32m4\u001b[39m)\n  ammonite.$sess.cmd26$Helper.applyn(\u001b[32mcmd26.sc\u001b[39m:\u001b[32m4\u001b[39m)\n  ammonite.$sess.cmd26$Helper.applyn(\u001b[32mcmd26.sc\u001b[39m:\u001b[32m4\u001b[39m)\n  ammonite.$sess.cmd26$Helper.applyn(\u001b[32mcmd26.sc\u001b[39m:\u001b[32m4\u001b[39m)\n  ammonite.$sess.cmd26$Helper.applyn(\u001b[32mcmd26.sc\u001b[39m:\u001b[32m4\u001b[39m)\n  ammonite.$sess.cmd26$Helper.applyn(\u001b[32mcmd26.sc\u001b[39m:\u001b[32m4\u001b[39m)\n  ammonite.$sess.cmd26$Helper.applyn(\u001b[32mcmd26.sc\u001b[39m:\u001b[32m4\u001b[39m)\n  ammonite.$sess.cmd26$Helper.applyn(\u001b[32mcmd26.sc\u001b[39m:\u001b[32m4\u001b[39m)\n  ammonite.$sess.cmd26$Helper.applyn(\u001b[32mcmd26.sc\u001b[39m:\u001b[32m4\u001b[39m)\n  ammonite.$sess.cmd26$Helper.applyn(\u001b[32mcmd26.sc\u001b[39m:\u001b[32m4\u001b[39m)\n  ammonite.$sess.cmd26$Helper.applyn(\u001b[32mcmd26.sc\u001b[39m:\u001b[32m4\u001b[39m)\n  ammonite.$sess.cmd26$Helper.applyn(\u001b[32mcmd26.sc\u001b[39m:\u001b[32m4\u001b[39m)\n  ammonite.$sess.cmd26$Helper.applyn(\u001b[32mcmd26.sc\u001b[39m:\u001b[32m4\u001b[39m)\n  ammonite.$sess.cmd26$Helper.applyn(\u001b[32mcmd26.sc\u001b[39m:\u001b[32m4\u001b[39m)\n  ammonite.$sess.cmd26$Helper.applyn(\u001b[32mcmd26.sc\u001b[39m:\u001b[32m4\u001b[39m)\n  ammonite.$sess.cmd26$Helper.applyn(\u001b[32mcmd26.sc\u001b[39m:\u001b[32m4\u001b[39m)\n  ammonite.$sess.cmd26$Helper.applyn(\u001b[32mcmd26.sc\u001b[39m:\u001b[32m4\u001b[39m)\n  ammonite.$sess.cmd26$Helper.applyn(\u001b[32mcmd26.sc\u001b[39m:\u001b[32m4\u001b[39m)\n  ammonite.$sess.cmd26$Helper.applyn(\u001b[32mcmd26.sc\u001b[39m:\u001b[32m4\u001b[39m)\n  ammonite.$sess.cmd26$Helper.applyn(\u001b[32mcmd26.sc\u001b[39m:\u001b[32m4\u001b[39m)\n  ammonite.$sess.cmd26$Helper.applyn(\u001b[32mcmd26.sc\u001b[39m:\u001b[32m4\u001b[39m)\n  ammonite.$sess.cmd26$Helper.applyn(\u001b[32mcmd26.sc\u001b[39m:\u001b[32m4\u001b[39m)\n  ammonite.$sess.cmd26$Helper.applyn(\u001b[32mcmd26.sc\u001b[39m:\u001b[32m4\u001b[39m)\n  ammonite.$sess.cmd26$Helper.applyn(\u001b[32mcmd26.sc\u001b[39m:\u001b[32m4\u001b[39m)\n  ammonite.$sess.cmd26$Helper.applyn(\u001b[32mcmd26.sc\u001b[39m:\u001b[32m4\u001b[39m)\n  ammonite.$sess.cmd26$Helper.applyn(\u001b[32mcmd26.sc\u001b[39m:\u001b[32m4\u001b[39m)\n  ammonite.$sess.cmd26$Helper.applyn(\u001b[32mcmd26.sc\u001b[39m:\u001b[32m4\u001b[39m)\n  ammonite.$sess.cmd26$Helper.applyn(\u001b[32mcmd26.sc\u001b[39m:\u001b[32m4\u001b[39m)\n  ammonite.$sess.cmd26$Helper.applyn(\u001b[32mcmd26.sc\u001b[39m:\u001b[32m4\u001b[39m)\n  ammonite.$sess.cmd26$Helper.applyn(\u001b[32mcmd26.sc\u001b[39m:\u001b[32m4\u001b[39m)\n  ammonite.$sess.cmd26$Helper.applyn(\u001b[32mcmd26.sc\u001b[39m:\u001b[32m4\u001b[39m)\n  ammonite.$sess.cmd26$Helper.applyn(\u001b[32mcmd26.sc\u001b[39m:\u001b[32m4\u001b[39m)\n  ammonite.$sess.cmd26$Helper.applyn(\u001b[32mcmd26.sc\u001b[39m:\u001b[32m4\u001b[39m)\n  ammonite.$sess.cmd26$Helper.applyn(\u001b[32mcmd26.sc\u001b[39m:\u001b[32m4\u001b[39m)\n  ammonite.$sess.cmd26$Helper.applyn(\u001b[32mcmd26.sc\u001b[39m:\u001b[32m4\u001b[39m)\n  ammonite.$sess.cmd26$Helper.applyn(\u001b[32mcmd26.sc\u001b[39m:\u001b[32m4\u001b[39m)\n  ammonite.$sess.cmd26$Helper.applyn(\u001b[32mcmd26.sc\u001b[39m:\u001b[32m4\u001b[39m)\n  ammonite.$sess.cmd26$Helper.applyn(\u001b[32mcmd26.sc\u001b[39m:\u001b[32m4\u001b[39m)\n  ammonite.$sess.cmd26$Helper.applyn(\u001b[32mcmd26.sc\u001b[39m:\u001b[32m4\u001b[39m)\n  ammonite.$sess.cmd26$Helper.applyn(\u001b[32mcmd26.sc\u001b[39m:\u001b[32m4\u001b[39m)\n  ammonite.$sess.cmd26$Helper.applyn(\u001b[32mcmd26.sc\u001b[39m:\u001b[32m4\u001b[39m)\n  ammonite.$sess.cmd26$Helper.applyn(\u001b[32mcmd26.sc\u001b[39m:\u001b[32m4\u001b[39m)\n  ammonite.$sess.cmd26$Helper.applyn(\u001b[32mcmd26.sc\u001b[39m:\u001b[32m4\u001b[39m)\n  ammonite.$sess.cmd26$Helper.applyn(\u001b[32mcmd26.sc\u001b[39m:\u001b[32m4\u001b[39m)\n  ammonite.$sess.cmd26$Helper.applyn(\u001b[32mcmd26.sc\u001b[39m:\u001b[32m4\u001b[39m)\n  ammonite.$sess.cmd26$Helper.applyn(\u001b[32mcmd26.sc\u001b[39m:\u001b[32m4\u001b[39m)\n  ammonite.$sess.cmd26$Helper.applyn(\u001b[32mcmd26.sc\u001b[39m:\u001b[32m4\u001b[39m)\n  ammonite.$sess.cmd26$Helper.applyn(\u001b[32mcmd26.sc\u001b[39m:\u001b[32m4\u001b[39m)\n  ammonite.$sess.cmd26$Helper.applyn(\u001b[32mcmd26.sc\u001b[39m:\u001b[32m4\u001b[39m)\n  ammonite.$sess.cmd26$Helper.applyn(\u001b[32mcmd26.sc\u001b[39m:\u001b[32m4\u001b[39m)\n  ammonite.$sess.cmd26$Helper.applyn(\u001b[32mcmd26.sc\u001b[39m:\u001b[32m4\u001b[39m)\n  ammonite.$sess.cmd26$Helper.applyn(\u001b[32mcmd26.sc\u001b[39m:\u001b[32m4\u001b[39m)\n  ammonite.$sess.cmd26$Helper.applyn(\u001b[32mcmd26.sc\u001b[39m:\u001b[32m4\u001b[39m)\n  ammonite.$sess.cmd26$Helper.applyn(\u001b[32mcmd26.sc\u001b[39m:\u001b[32m4\u001b[39m)\n  ammonite.$sess.cmd26$Helper.applyn(\u001b[32mcmd26.sc\u001b[39m:\u001b[32m4\u001b[39m)\n  ammonite.$sess.cmd26$Helper.applyn(\u001b[32mcmd26.sc\u001b[39m:\u001b[32m4\u001b[39m)\n  ammonite.$sess.cmd26$Helper.applyn(\u001b[32mcmd26.sc\u001b[39m:\u001b[32m4\u001b[39m)\n  ammonite.$sess.cmd26$Helper.applyn(\u001b[32mcmd26.sc\u001b[39m:\u001b[32m4\u001b[39m)\n  ammonite.$sess.cmd26$Helper.applyn(\u001b[32mcmd26.sc\u001b[39m:\u001b[32m4\u001b[39m)\n  ammonite.$sess.cmd26$Helper.applyn(\u001b[32mcmd26.sc\u001b[39m:\u001b[32m4\u001b[39m)\n  ammonite.$sess.cmd26$Helper.applyn(\u001b[32mcmd26.sc\u001b[39m:\u001b[32m4\u001b[39m)\n  ammonite.$sess.cmd26$Helper.applyn(\u001b[32mcmd26.sc\u001b[39m:\u001b[32m4\u001b[39m)\n  ammonite.$sess.cmd26$Helper.applyn(\u001b[32mcmd26.sc\u001b[39m:\u001b[32m4\u001b[39m)\n  ammonite.$sess.cmd26$Helper.applyn(\u001b[32mcmd26.sc\u001b[39m:\u001b[32m4\u001b[39m)\n  ammonite.$sess.cmd26$Helper.applyn(\u001b[32mcmd26.sc\u001b[39m:\u001b[32m4\u001b[39m)\n  ammonite.$sess.cmd26$Helper.applyn(\u001b[32mcmd26.sc\u001b[39m:\u001b[32m4\u001b[39m)\n  ammonite.$sess.cmd26$Helper.applyn(\u001b[32mcmd26.sc\u001b[39m:\u001b[32m4\u001b[39m)\n  ammonite.$sess.cmd26$Helper.applyn(\u001b[32mcmd26.sc\u001b[39m:\u001b[32m4\u001b[39m)\n  ammonite.$sess.cmd26$Helper.applyn(\u001b[32mcmd26.sc\u001b[39m:\u001b[32m4\u001b[39m)\n  ammonite.$sess.cmd26$Helper.applyn(\u001b[32mcmd26.sc\u001b[39m:\u001b[32m4\u001b[39m)\n  ammonite.$sess.cmd26$Helper.applyn(\u001b[32mcmd26.sc\u001b[39m:\u001b[32m4\u001b[39m)\n  ammonite.$sess.cmd26$Helper.applyn(\u001b[32mcmd26.sc\u001b[39m:\u001b[32m4\u001b[39m)\n  ammonite.$sess.cmd26$Helper.applyn(\u001b[32mcmd26.sc\u001b[39m:\u001b[32m4\u001b[39m)\n  ammonite.$sess.cmd26$Helper.applyn(\u001b[32mcmd26.sc\u001b[39m:\u001b[32m4\u001b[39m)\n  ammonite.$sess.cmd26$Helper.applyn(\u001b[32mcmd26.sc\u001b[39m:\u001b[32m4\u001b[39m)\n  ammonite.$sess.cmd26$Helper.applyn(\u001b[32mcmd26.sc\u001b[39m:\u001b[32m4\u001b[39m)\n  ammonite.$sess.cmd26$Helper.applyn(\u001b[32mcmd26.sc\u001b[39m:\u001b[32m4\u001b[39m)\n  ammonite.$sess.cmd26$Helper.applyn(\u001b[32mcmd26.sc\u001b[39m:\u001b[32m4\u001b[39m)\n  ammonite.$sess.cmd26$Helper.applyn(\u001b[32mcmd26.sc\u001b[39m:\u001b[32m4\u001b[39m)\n  ammonite.$sess.cmd26$Helper.applyn(\u001b[32mcmd26.sc\u001b[39m:\u001b[32m4\u001b[39m)\n  ammonite.$sess.cmd26$Helper.applyn(\u001b[32mcmd26.sc\u001b[39m:\u001b[32m4\u001b[39m)\n  ammonite.$sess.cmd26$Helper.applyn(\u001b[32mcmd26.sc\u001b[39m:\u001b[32m4\u001b[39m)\n  ammonite.$sess.cmd26$Helper.applyn(\u001b[32mcmd26.sc\u001b[39m:\u001b[32m4\u001b[39m)\n  ammonite.$sess.cmd26$Helper.applyn(\u001b[32mcmd26.sc\u001b[39m:\u001b[32m4\u001b[39m)\n  ammonite.$sess.cmd26$Helper.applyn(\u001b[32mcmd26.sc\u001b[39m:\u001b[32m4\u001b[39m)\n  ammonite.$sess.cmd26$Helper.applyn(\u001b[32mcmd26.sc\u001b[39m:\u001b[32m4\u001b[39m)\n  ammonite.$sess.cmd26$Helper.applyn(\u001b[32mcmd26.sc\u001b[39m:\u001b[32m4\u001b[39m)\n  ammonite.$sess.cmd26$Helper.applyn(\u001b[32mcmd26.sc\u001b[39m:\u001b[32m4\u001b[39m)\n  ammonite.$sess.cmd26$Helper.applyn(\u001b[32mcmd26.sc\u001b[39m:\u001b[32m4\u001b[39m)\n  ammonite.$sess.cmd26$Helper.applyn(\u001b[32mcmd26.sc\u001b[39m:\u001b[32m4\u001b[39m)\n  ammonite.$sess.cmd26$Helper.applyn(\u001b[32mcmd26.sc\u001b[39m:\u001b[32m4\u001b[39m)\n  ammonite.$sess.cmd26$Helper.applyn(\u001b[32mcmd26.sc\u001b[39m:\u001b[32m4\u001b[39m)\n  ammonite.$sess.cmd26$Helper.applyn(\u001b[32mcmd26.sc\u001b[39m:\u001b[32m4\u001b[39m)\n  ammonite.$sess.cmd26$Helper.applyn(\u001b[32mcmd26.sc\u001b[39m:\u001b[32m4\u001b[39m)\n  ammonite.$sess.cmd26$Helper.applyn(\u001b[32mcmd26.sc\u001b[39m:\u001b[32m4\u001b[39m)\n  ammonite.$sess.cmd26$Helper.applyn(\u001b[32mcmd26.sc\u001b[39m:\u001b[32m4\u001b[39m)\n  ammonite.$sess.cmd26$Helper.applyn(\u001b[32mcmd26.sc\u001b[39m:\u001b[32m4\u001b[39m)\n  ammonite.$sess.cmd26$Helper.applyn(\u001b[32mcmd26.sc\u001b[39m:\u001b[32m4\u001b[39m)\n  ammonite.$sess.cmd26$Helper.applyn(\u001b[32mcmd26.sc\u001b[39m:\u001b[32m4\u001b[39m)\n  ammonite.$sess.cmd26$Helper.applyn(\u001b[32mcmd26.sc\u001b[39m:\u001b[32m4\u001b[39m)\n  ammonite.$sess.cmd26$Helper.applyn(\u001b[32mcmd26.sc\u001b[39m:\u001b[32m4\u001b[39m)\n  ammonite.$sess.cmd26$Helper.applyn(\u001b[32mcmd26.sc\u001b[39m:\u001b[32m4\u001b[39m)\n  ammonite.$sess.cmd26$Helper.applyn(\u001b[32mcmd26.sc\u001b[39m:\u001b[32m4\u001b[39m)\n  ammonite.$sess.cmd26$Helper.applyn(\u001b[32mcmd26.sc\u001b[39m:\u001b[32m4\u001b[39m)\n  ammonite.$sess.cmd26$Helper.applyn(\u001b[32mcmd26.sc\u001b[39m:\u001b[32m4\u001b[39m)\n  ammonite.$sess.cmd26$Helper.applyn(\u001b[32mcmd26.sc\u001b[39m:\u001b[32m4\u001b[39m)\n  ammonite.$sess.cmd26$Helper.applyn(\u001b[32mcmd26.sc\u001b[39m:\u001b[32m4\u001b[39m)\n  ammonite.$sess.cmd26$Helper.applyn(\u001b[32mcmd26.sc\u001b[39m:\u001b[32m4\u001b[39m)\n  ammonite.$sess.cmd26$Helper.applyn(\u001b[32mcmd26.sc\u001b[39m:\u001b[32m4\u001b[39m)\n  ammonite.$sess.cmd26$Helper.applyn(\u001b[32mcmd26.sc\u001b[39m:\u001b[32m4\u001b[39m)\n  ammonite.$sess.cmd26$Helper.applyn(\u001b[32mcmd26.sc\u001b[39m:\u001b[32m4\u001b[39m)\n  ammonite.$sess.cmd26$Helper.applyn(\u001b[32mcmd26.sc\u001b[39m:\u001b[32m4\u001b[39m)\n  ammonite.$sess.cmd26$Helper.applyn(\u001b[32mcmd26.sc\u001b[39m:\u001b[32m4\u001b[39m)\n  ammonite.$sess.cmd26$Helper.applyn(\u001b[32mcmd26.sc\u001b[39m:\u001b[32m4\u001b[39m)\n  ammonite.$sess.cmd26$Helper.applyn(\u001b[32mcmd26.sc\u001b[39m:\u001b[32m4\u001b[39m)\n  ammonite.$sess.cmd26$Helper.applyn(\u001b[32mcmd26.sc\u001b[39m:\u001b[32m4\u001b[39m)\n  ammonite.$sess.cmd26$Helper.applyn(\u001b[32mcmd26.sc\u001b[39m:\u001b[32m4\u001b[39m)\n  ammonite.$sess.cmd26$Helper.applyn(\u001b[32mcmd26.sc\u001b[39m:\u001b[32m4\u001b[39m)\n  ammonite.$sess.cmd26$Helper.applyn(\u001b[32mcmd26.sc\u001b[39m:\u001b[32m4\u001b[39m)\n  ammonite.$sess.cmd26$Helper.applyn(\u001b[32mcmd26.sc\u001b[39m:\u001b[32m4\u001b[39m)\n  ammonite.$sess.cmd26$Helper.applyn(\u001b[32mcmd26.sc\u001b[39m:\u001b[32m4\u001b[39m)\n  ammonite.$sess.cmd26$Helper.applyn(\u001b[32mcmd26.sc\u001b[39m:\u001b[32m4\u001b[39m)\n  ammonite.$sess.cmd26$Helper.applyn(\u001b[32mcmd26.sc\u001b[39m:\u001b[32m4\u001b[39m)\n  ammonite.$sess.cmd26$Helper.applyn(\u001b[32mcmd26.sc\u001b[39m:\u001b[32m4\u001b[39m)\n  ammonite.$sess.cmd26$Helper.applyn(\u001b[32mcmd26.sc\u001b[39m:\u001b[32m4\u001b[39m)\n  ammonite.$sess.cmd26$Helper.applyn(\u001b[32mcmd26.sc\u001b[39m:\u001b[32m4\u001b[39m)\n  ammonite.$sess.cmd26$Helper.applyn(\u001b[32mcmd26.sc\u001b[39m:\u001b[32m4\u001b[39m)\n  ammonite.$sess.cmd26$Helper.applyn(\u001b[32mcmd26.sc\u001b[39m:\u001b[32m4\u001b[39m)\n  ammonite.$sess.cmd26$Helper.applyn(\u001b[32mcmd26.sc\u001b[39m:\u001b[32m4\u001b[39m)\n  ammonite.$sess.cmd26$Helper.applyn(\u001b[32mcmd26.sc\u001b[39m:\u001b[32m4\u001b[39m)\n  ammonite.$sess.cmd26$Helper.applyn(\u001b[32mcmd26.sc\u001b[39m:\u001b[32m4\u001b[39m)\n  ammonite.$sess.cmd26$Helper.applyn(\u001b[32mcmd26.sc\u001b[39m:\u001b[32m4\u001b[39m)\n  ammonite.$sess.cmd26$Helper.applyn(\u001b[32mcmd26.sc\u001b[39m:\u001b[32m4\u001b[39m)\n  ammonite.$sess.cmd26$Helper.applyn(\u001b[32mcmd26.sc\u001b[39m:\u001b[32m4\u001b[39m)\n  ammonite.$sess.cmd26$Helper.applyn(\u001b[32mcmd26.sc\u001b[39m:\u001b[32m4\u001b[39m)\n  ammonite.$sess.cmd26$Helper.applyn(\u001b[32mcmd26.sc\u001b[39m:\u001b[32m4\u001b[39m)\n  ammonite.$sess.cmd26$Helper.applyn(\u001b[32mcmd26.sc\u001b[39m:\u001b[32m4\u001b[39m)\n  ammonite.$sess.cmd26$Helper.applyn(\u001b[32mcmd26.sc\u001b[39m:\u001b[32m4\u001b[39m)\n  ammonite.$sess.cmd26$Helper.applyn(\u001b[32mcmd26.sc\u001b[39m:\u001b[32m4\u001b[39m)\n  ammonite.$sess.cmd26$Helper.applyn(\u001b[32mcmd26.sc\u001b[39m:\u001b[32m4\u001b[39m)\n  ammonite.$sess.cmd26$Helper.applyn(\u001b[32mcmd26.sc\u001b[39m:\u001b[32m4\u001b[39m)\n  ammonite.$sess.cmd26$Helper.applyn(\u001b[32mcmd26.sc\u001b[39m:\u001b[32m4\u001b[39m)\n  ammonite.$sess.cmd26$Helper.applyn(\u001b[32mcmd26.sc\u001b[39m:\u001b[32m4\u001b[39m)\n  ammonite.$sess.cmd26$Helper.applyn(\u001b[32mcmd26.sc\u001b[39m:\u001b[32m4\u001b[39m)\n  ammonite.$sess.cmd26$Helper.applyn(\u001b[32mcmd26.sc\u001b[39m:\u001b[32m4\u001b[39m)\n  ammonite.$sess.cmd26$Helper.applyn(\u001b[32mcmd26.sc\u001b[39m:\u001b[32m4\u001b[39m)\n  ammonite.$sess.cmd26$Helper.applyn(\u001b[32mcmd26.sc\u001b[39m:\u001b[32m4\u001b[39m)\n  ammonite.$sess.cmd26$Helper.applyn(\u001b[32mcmd26.sc\u001b[39m:\u001b[32m4\u001b[39m)\n  ammonite.$sess.cmd26$Helper.applyn(\u001b[32mcmd26.sc\u001b[39m:\u001b[32m4\u001b[39m)\n  ammonite.$sess.cmd26$Helper.applyn(\u001b[32mcmd26.sc\u001b[39m:\u001b[32m4\u001b[39m)\n  ammonite.$sess.cmd26$Helper.applyn(\u001b[32mcmd26.sc\u001b[39m:\u001b[32m4\u001b[39m)\n  ammonite.$sess.cmd26$Helper.applyn(\u001b[32mcmd26.sc\u001b[39m:\u001b[32m4\u001b[39m)\n  ammonite.$sess.cmd26$Helper.applyn(\u001b[32mcmd26.sc\u001b[39m:\u001b[32m4\u001b[39m)\n  ammonite.$sess.cmd26$Helper.applyn(\u001b[32mcmd26.sc\u001b[39m:\u001b[32m4\u001b[39m)\n  ammonite.$sess.cmd26$Helper.applyn(\u001b[32mcmd26.sc\u001b[39m:\u001b[32m4\u001b[39m)\n  ammonite.$sess.cmd26$Helper.applyn(\u001b[32mcmd26.sc\u001b[39m:\u001b[32m4\u001b[39m)\n  ammonite.$sess.cmd26$Helper.applyn(\u001b[32mcmd26.sc\u001b[39m:\u001b[32m4\u001b[39m)\n  ammonite.$sess.cmd26$Helper.applyn(\u001b[32mcmd26.sc\u001b[39m:\u001b[32m4\u001b[39m)\n  ammonite.$sess.cmd26$Helper.applyn(\u001b[32mcmd26.sc\u001b[39m:\u001b[32m4\u001b[39m)\n  ammonite.$sess.cmd26$Helper.applyn(\u001b[32mcmd26.sc\u001b[39m:\u001b[32m4\u001b[39m)\n  ammonite.$sess.cmd26$Helper.applyn(\u001b[32mcmd26.sc\u001b[39m:\u001b[32m4\u001b[39m)\n  ammonite.$sess.cmd26$Helper.applyn(\u001b[32mcmd26.sc\u001b[39m:\u001b[32m4\u001b[39m)\n  ammonite.$sess.cmd26$Helper.applyn(\u001b[32mcmd26.sc\u001b[39m:\u001b[32m4\u001b[39m)\n  ammonite.$sess.cmd26$Helper.applyn(\u001b[32mcmd26.sc\u001b[39m:\u001b[32m4\u001b[39m)\n  ammonite.$sess.cmd26$Helper.applyn(\u001b[32mcmd26.sc\u001b[39m:\u001b[32m4\u001b[39m)\n  ammonite.$sess.cmd26$Helper.applyn(\u001b[32mcmd26.sc\u001b[39m:\u001b[32m4\u001b[39m)\n  ammonite.$sess.cmd26$Helper.applyn(\u001b[32mcmd26.sc\u001b[39m:\u001b[32m4\u001b[39m)\n  ammonite.$sess.cmd26$Helper.applyn(\u001b[32mcmd26.sc\u001b[39m:\u001b[32m4\u001b[39m)\n  ammonite.$sess.cmd26$Helper.applyn(\u001b[32mcmd26.sc\u001b[39m:\u001b[32m4\u001b[39m)\n  ammonite.$sess.cmd26$Helper.applyn(\u001b[32mcmd26.sc\u001b[39m:\u001b[32m4\u001b[39m)\n  ammonite.$sess.cmd26$Helper.applyn(\u001b[32mcmd26.sc\u001b[39m:\u001b[32m4\u001b[39m)\n  ammonite.$sess.cmd26$Helper.applyn(\u001b[32mcmd26.sc\u001b[39m:\u001b[32m4\u001b[39m)\n  ammonite.$sess.cmd26$Helper.applyn(\u001b[32mcmd26.sc\u001b[39m:\u001b[32m4\u001b[39m)\n  ammonite.$sess.cmd26$Helper.applyn(\u001b[32mcmd26.sc\u001b[39m:\u001b[32m4\u001b[39m)\n  ammonite.$sess.cmd26$Helper.applyn(\u001b[32mcmd26.sc\u001b[39m:\u001b[32m4\u001b[39m)\n  ammonite.$sess.cmd26$Helper.applyn(\u001b[32mcmd26.sc\u001b[39m:\u001b[32m4\u001b[39m)\n  ammonite.$sess.cmd26$Helper.applyn(\u001b[32mcmd26.sc\u001b[39m:\u001b[32m4\u001b[39m)\n  ammonite.$sess.cmd26$Helper.applyn(\u001b[32mcmd26.sc\u001b[39m:\u001b[32m4\u001b[39m)\n  ammonite.$sess.cmd26$Helper.applyn(\u001b[32mcmd26.sc\u001b[39m:\u001b[32m4\u001b[39m)\n  ammonite.$sess.cmd26$Helper.applyn(\u001b[32mcmd26.sc\u001b[39m:\u001b[32m4\u001b[39m)\n  ammonite.$sess.cmd26$Helper.applyn(\u001b[32mcmd26.sc\u001b[39m:\u001b[32m4\u001b[39m)\n  ammonite.$sess.cmd26$Helper.applyn(\u001b[32mcmd26.sc\u001b[39m:\u001b[32m4\u001b[39m)\n  ammonite.$sess.cmd26$Helper.applyn(\u001b[32mcmd26.sc\u001b[39m:\u001b[32m4\u001b[39m)\n  ammonite.$sess.cmd26$Helper.applyn(\u001b[32mcmd26.sc\u001b[39m:\u001b[32m4\u001b[39m)\n  ammonite.$sess.cmd26$Helper.applyn(\u001b[32mcmd26.sc\u001b[39m:\u001b[32m4\u001b[39m)\n  ammonite.$sess.cmd26$Helper.applyn(\u001b[32mcmd26.sc\u001b[39m:\u001b[32m4\u001b[39m)\n  ammonite.$sess.cmd26$Helper.applyn(\u001b[32mcmd26.sc\u001b[39m:\u001b[32m4\u001b[39m)\n  ammonite.$sess.cmd26$Helper.applyn(\u001b[32mcmd26.sc\u001b[39m:\u001b[32m4\u001b[39m)\n  ammonite.$sess.cmd26$Helper.applyn(\u001b[32mcmd26.sc\u001b[39m:\u001b[32m4\u001b[39m)\n  ammonite.$sess.cmd26$Helper.applyn(\u001b[32mcmd26.sc\u001b[39m:\u001b[32m4\u001b[39m)\n  ammonite.$sess.cmd26$Helper.applyn(\u001b[32mcmd26.sc\u001b[39m:\u001b[32m4\u001b[39m)\n  ammonite.$sess.cmd26$Helper.applyn(\u001b[32mcmd26.sc\u001b[39m:\u001b[32m4\u001b[39m)\n  ammonite.$sess.cmd26$Helper.applyn(\u001b[32mcmd26.sc\u001b[39m:\u001b[32m4\u001b[39m)\n  ammonite.$sess.cmd26$Helper.applyn(\u001b[32mcmd26.sc\u001b[39m:\u001b[32m4\u001b[39m)\n  ammonite.$sess.cmd26$Helper.applyn(\u001b[32mcmd26.sc\u001b[39m:\u001b[32m4\u001b[39m)\n  ammonite.$sess.cmd26$Helper.applyn(\u001b[32mcmd26.sc\u001b[39m:\u001b[32m4\u001b[39m)\n  ammonite.$sess.cmd26$Helper.applyn(\u001b[32mcmd26.sc\u001b[39m:\u001b[32m4\u001b[39m)\n  ammonite.$sess.cmd26$Helper.applyn(\u001b[32mcmd26.sc\u001b[39m:\u001b[32m4\u001b[39m)\n  ammonite.$sess.cmd26$Helper.applyn(\u001b[32mcmd26.sc\u001b[39m:\u001b[32m4\u001b[39m)\n  ammonite.$sess.cmd26$Helper.applyn(\u001b[32mcmd26.sc\u001b[39m:\u001b[32m4\u001b[39m)\n  ammonite.$sess.cmd26$Helper.applyn(\u001b[32mcmd26.sc\u001b[39m:\u001b[32m4\u001b[39m)\n  ammonite.$sess.cmd26$Helper.applyn(\u001b[32mcmd26.sc\u001b[39m:\u001b[32m4\u001b[39m)\n  ammonite.$sess.cmd26$Helper.applyn(\u001b[32mcmd26.sc\u001b[39m:\u001b[32m4\u001b[39m)\n  ammonite.$sess.cmd26$Helper.applyn(\u001b[32mcmd26.sc\u001b[39m:\u001b[32m4\u001b[39m)\n  ammonite.$sess.cmd26$Helper.applyn(\u001b[32mcmd26.sc\u001b[39m:\u001b[32m4\u001b[39m)\n  ammonite.$sess.cmd26$Helper.applyn(\u001b[32mcmd26.sc\u001b[39m:\u001b[32m4\u001b[39m)\n  ammonite.$sess.cmd26$Helper.applyn(\u001b[32mcmd26.sc\u001b[39m:\u001b[32m4\u001b[39m)\n  ammonite.$sess.cmd26$Helper.applyn(\u001b[32mcmd26.sc\u001b[39m:\u001b[32m4\u001b[39m)\n  ammonite.$sess.cmd26$Helper.applyn(\u001b[32mcmd26.sc\u001b[39m:\u001b[32m4\u001b[39m)\n  ammonite.$sess.cmd26$Helper.applyn(\u001b[32mcmd26.sc\u001b[39m:\u001b[32m4\u001b[39m)\n  ammonite.$sess.cmd26$Helper.applyn(\u001b[32mcmd26.sc\u001b[39m:\u001b[32m4\u001b[39m)\n  ammonite.$sess.cmd26$Helper.applyn(\u001b[32mcmd26.sc\u001b[39m:\u001b[32m4\u001b[39m)\n  ammonite.$sess.cmd26$Helper.applyn(\u001b[32mcmd26.sc\u001b[39m:\u001b[32m4\u001b[39m)\n  ammonite.$sess.cmd26$Helper.applyn(\u001b[32mcmd26.sc\u001b[39m:\u001b[32m4\u001b[39m)\n  ammonite.$sess.cmd26$Helper.applyn(\u001b[32mcmd26.sc\u001b[39m:\u001b[32m4\u001b[39m)\n  ammonite.$sess.cmd26$Helper.applyn(\u001b[32mcmd26.sc\u001b[39m:\u001b[32m4\u001b[39m)\n  ammonite.$sess.cmd26$Helper.applyn(\u001b[32mcmd26.sc\u001b[39m:\u001b[32m4\u001b[39m)\n  ammonite.$sess.cmd26$Helper.applyn(\u001b[32mcmd26.sc\u001b[39m:\u001b[32m4\u001b[39m)\n  ammonite.$sess.cmd26$Helper.applyn(\u001b[32mcmd26.sc\u001b[39m:\u001b[32m4\u001b[39m)\n  ammonite.$sess.cmd26$Helper.applyn(\u001b[32mcmd26.sc\u001b[39m:\u001b[32m4\u001b[39m)\n  ammonite.$sess.cmd26$Helper.applyn(\u001b[32mcmd26.sc\u001b[39m:\u001b[32m4\u001b[39m)\n  ammonite.$sess.cmd26$Helper.applyn(\u001b[32mcmd26.sc\u001b[39m:\u001b[32m4\u001b[39m)\n  ammonite.$sess.cmd26$Helper.applyn(\u001b[32mcmd26.sc\u001b[39m:\u001b[32m4\u001b[39m)\n  ammonite.$sess.cmd26$Helper.applyn(\u001b[32mcmd26.sc\u001b[39m:\u001b[32m4\u001b[39m)\n  ammonite.$sess.cmd26$Helper.applyn(\u001b[32mcmd26.sc\u001b[39m:\u001b[32m4\u001b[39m)\n  ammonite.$sess.cmd26$Helper.applyn(\u001b[32mcmd26.sc\u001b[39m:\u001b[32m4\u001b[39m)\n  ammonite.$sess.cmd26$Helper.applyn(\u001b[32mcmd26.sc\u001b[39m:\u001b[32m4\u001b[39m)\n  ammonite.$sess.cmd26$Helper.applyn(\u001b[32mcmd26.sc\u001b[39m:\u001b[32m4\u001b[39m)\n  ammonite.$sess.cmd26$Helper.applyn(\u001b[32mcmd26.sc\u001b[39m:\u001b[32m4\u001b[39m)\n  ammonite.$sess.cmd26$Helper.applyn(\u001b[32mcmd26.sc\u001b[39m:\u001b[32m4\u001b[39m)\n  ammonite.$sess.cmd26$Helper.applyn(\u001b[32mcmd26.sc\u001b[39m:\u001b[32m4\u001b[39m)\n  ammonite.$sess.cmd26$Helper.applyn(\u001b[32mcmd26.sc\u001b[39m:\u001b[32m4\u001b[39m)\n  ammonite.$sess.cmd26$Helper.applyn(\u001b[32mcmd26.sc\u001b[39m:\u001b[32m4\u001b[39m)\n  ammonite.$sess.cmd26$Helper.applyn(\u001b[32mcmd26.sc\u001b[39m:\u001b[32m4\u001b[39m)\n  ammonite.$sess.cmd26$Helper.applyn(\u001b[32mcmd26.sc\u001b[39m:\u001b[32m4\u001b[39m)\n  ammonite.$sess.cmd26$Helper.applyn(\u001b[32mcmd26.sc\u001b[39m:\u001b[32m4\u001b[39m)\n  ammonite.$sess.cmd26$Helper.applyn(\u001b[32mcmd26.sc\u001b[39m:\u001b[32m4\u001b[39m)\n  ammonite.$sess.cmd26$Helper.applyn(\u001b[32mcmd26.sc\u001b[39m:\u001b[32m4\u001b[39m)"
     ]
    }
   ],
   "source": [
    "def applyn[A](f: A=>A, n: Int, initVal: A): A = {\n",
    "    n match {\n",
    "        case 0 => initVal\n",
    "        case _ => f(applyn(f, n-1, initVal))\n",
    "    }\n",
    "}\n",
    "\n",
    "applyn((x:String)=>x+\"!\", 10000, \"hello\")"
   ]
  },
  {
   "cell_type": "code",
   "execution_count": 32,
   "metadata": {
    "scrolled": true
   },
   "outputs": [
    {
     "data": {
      "text/plain": [
       "\u001b[32mimport \u001b[39m\u001b[36mscala.annotation.tailrec\n",
       "\u001b[39m\n",
       "\u001b[32mimport \u001b[39m\u001b[36mscala.util.control.TailCalls._\n",
       "\n",
       "\u001b[39m\n",
       "defined \u001b[32mfunction\u001b[39m \u001b[36mapplyn\u001b[39m\n",
       "\u001b[36mres31_3\u001b[39m: \u001b[32mString\u001b[39m = \u001b[32m\"hello!!!!!!!!!!!!!!!!!!!!!!!!!!!!!!!!!!!!!!!!!!!!!!!!!!!!!!!!!!!!!!!!!!!!!!!!!!!!!!!!!!!!!!!!!!!!!!!!!!!!!!!!!!!!!!!!!!!!!!!!!!!!!!!!!!!!!!!!!!!!!!!!!!!!!!!!!!!!!!!!!!!!!!!!!!!!!!!!!!!!!!!!!!!!!!!!!!!!!!!!!!!!!!!!!!!!!!!!!!!!!!!!!!!!!!!!!!!!!!!!!!!!!!!!!!!!!!!!!!!!!!!!!!!!!!!!!!!!!!!!!!!!!!!!!!!!!!!!!!!!!!!!!!!!!!!!!!!!!!!!!!!!!!!!!!!!!!!!!!!!!!!!!!!!!!!!!!!!!!!!!!!!!!!!!!!!!!!!!!!!!!!!!!!!!!!!!!!!!!!!!!!!!!!!!!!!!!!!!!!!!!!!!!!!!!!!!!!!!!!!!!!!!!!!!!!!!!!!!!!!!!!!!!!!!!!!!!!!!!!!!!!!!!!!!!!!!!!!!!!!!!!!!!!!!!!!!!!!!!!!!!!!!!!!!!!!!!!!!!!!!!!!!!!!!!!!!!!!!!!!!!!!!!!!!!!!!!!!!!!!!!!!!!!!!!!!!!!!!!!!!!!!!!!!!!!!!!!!!!!!!!!!!!!!!!!!!!!!!!!!!!!!!!!!!!!!!!!!!!!!!!!!!!!!!!!!!!!!!!!!!!!!!!!!!!!!!!!!!!!!!!!!!!!!!!!!!!!!!!!!!!!!!!!!!!!!!!!!!!!!!!!!!!!!!!!!!!!!!!!!!!!!!!!!!!!!!!!!!!!!!!!!!!!!!!!!!!!!!!!!!!!!!!!!!!!!!!!!!!!!!!!!!!!!!!!!!!!!!!!!!!!!!!!!!!!!!!!!!!!!!!!!!!!!!!!!!!!!!!!!!!!!!!!!!!!!!!!!!!!!!!!!!!!!!!!!!!!!!!!!!!!!!!!!!!!!!!!!!!!!!!!!!!!!!!!!!!!!!!!!!!!!!!!!!!!!!!!!!!!!!!!!!!!!!!!!!!!!!!!!!!!!!!!!!!!!!!!!!!!!!!!!!!!!!!!!!!!!!!!!!!!!!!!!!!!!!!!!!!!!!!!!!!!!!!!!!!!!!!!!!!!!!!!!!!!!!!!!!!!!!!!!!!!!!!!!!!!!!!!!!!!!!!!!!!!!!!!!!!!!!!!!!!!!!!!!!!!!!!!!!!!!!!!!!!!!!!!!!!!!!!!!!!!!!!!!!!!!!!!!!!!!!!!!!!!!!!!!!!!!!!!!!!!!!!!!!!!!!!!!!!!!!!!!!!!!!!!!!!!!!!!!!!!!!!!!!!!!!!!!!!!!!!!!!!!!!!!!!!!!!!!!!!!!!!!!!!!!!!!!!!!!!!!!!!!!!!!!!!!!!!!!!!!!!!!!!!!!!!!!!!!!!!!!!!!!!!!!!!!!!!!!!!!!!!!!!!!!!!!!!!!!!!!!!!!!!!!!!!!!!!!!!!!!!!!!!!!!!!!!!!!!!!!!!!!!!!!!!!!!!!!!!!!!!!!!!!!!!!!!!!!!!!!!!!!!!!!!!!!!!!!!!!!!!!!!!!!!!!!!!!!!!!!!!!!!!!!!!!!!!!!!!!!!!!!!!!!!!!!!!!!!!!!!!!!!!!!!!!!!!!!!!!!!!!!!!!!!!!!!!!!!!!!!!!!!!!!!!!!!!!!!!!!!!!!!!!!!!!!!!!!!!!!!!!!!!!!!!!!!!!!!!!!!!!!!!!!!!!!!!!!!!!!!!!!!!!!!!!!!!!!!!!!!!!!!!!!!!!!!!!!!!!!!!!!!!!!!!!!!!!!!!!!!!!!!!!!!!!!!!!!!!!!!!!!!!!!!!!!!!!!!!!!!!!!!!!!!!!!!!!!!!!!!!!!!!!!!!!!!!!!!!!!!!!!!!!!!!!!!!!!!!!!!!!!!!!!!!!!!!!!!!!!!!!!!!!!!!!!!!!!!!!!!!!!!!!!!!!!!!!!!!!!!!!!!!!!!!!!!!!!!!!!!!!!!!!!!!!!!!!!!!!!!!!!!!!!!!!!!!!!!!!!!!!!!!!!!!!!!!!!!!!!!!!!!!!!!!!!!!!!!!!!!!!!!!!!!!!!!!!!!!!!!!!!!!!!!!!!!!!!!!!!!!!!!!!!!!!!!!!!!!!!!!!!!!!!!!!!!!!!!!!!!!!!!!!!!!!!!!!!!!!!!!!!!!!!!!!!!!!!!!!!!!!!!!!!!!!!!!!!!!!!!!!!!!!!!!!!!!!!!!!!!!!!!!!!!!!!!!!!!!!!!!!!!!!!!!!!!!!!!!!!!!!!!!!!!!!!!!!!!!!!!!!!!!!!!!!!!!!!!!!!!!!!!!!!!!!!!!!!!!!!!!!!!!!!!!!!!!!!!!!!!!!!!!!!!!!!!!!!!!!!!!!!!!!!!!!!!!!!!!!!!!!!!!!!!!!!!!!!!!!!!!!!!!!!!!!!!!!!!!!!!!!!!!!!!!!!!!!!!!!!!!!!!!!!!!!!!!!!!!!!!!!!!!!!!!!!!!!!!!!!!!!!!!!!!!!!!!!!!!!!!!!!!!!!!!!!!!!!!!!!!!!!!!!!!!!!!!!!!!!!!!!!!!!!!!!!!!!!!!!!!!!!!!!!!!!!!!!!!!!!!!!!!!!!!!!!!!!!!!!!!!!!!!!!!!!!!!!!!!!!!!!!!!!!!!!!!!!!!!!!!!!!!!!!!!!!!!!!!!!!!!!!!!!!!!!!!!!!!!!!!!!!!!!!!!!!!!!!!!!!!!!!!!!!!!!!!!!!!!!!!!!!!!!!!!!!!!!!!!!!!!!!!!!!!!!!!!!!!!!!!!!!!!!!!!!!!!!!!!!!!!!!!!!!!!!!!!!!!!!!!!!!!!!!!!!!!!!!!!!!!!!!!!!!!!!!!!!!!!!!!!!!!!!!!!!!!!!!!!!!!!!!!!!!!!!!!!!!!!!!!!!!!!!!!!!!!!!!!!!!!!!!!!!!!!!!!!!!!!!!!!!!!!!!!!!!!!!!!!!!!!!!!!!!!!!!!!!!!!!!!!!!!!!!!!!!!!!!!!!!!!!!!!!!!!!!!!!!!!!!!!!!!!!!!!!!!!!!!!!!!!!!!!!!!!!!!!!!!!!!!!!!!!!!!!!!!!!!!!!!!!!!!!!!!!!!!!!!!!!!!!!!!!!!!!!!!!!!!!!!!!!!!!!!!!!!!!!!!!!!!!!!!!!!!!!!!!!!!!!!!!!!!!!!!!!!!!!!!!!!!!!!!!!\u001b[39m..."
      ]
     },
     "execution_count": 32,
     "metadata": {},
     "output_type": "execute_result"
    }
   ],
   "source": [
    "import scala.annotation.tailrec\n",
    "import scala.util.control.TailCalls._\n",
    "\n",
    "def applyn[A](f: A=>A, n: Int, initVal: A): A = {\n",
    "    @tailrec\n",
    "    def applyCont(n: Int, cont: A=>TailRec[A]): A = {\n",
    "        n match {\n",
    "            case 0 => cont(initVal).result\n",
    "            case _ => applyCont(n-1, (r)=>tailcall(cont(f(r))))\n",
    "        }\n",
    "    }\n",
    "    applyCont(n, (r)=>done(r))\n",
    "}\n",
    "\n",
    "applyn((x:String)=>x+\"!\", 10000, \"hello\")"
   ]
  },
  {
   "cell_type": "code",
   "execution_count": 41,
   "metadata": {},
   "outputs": [
    {
     "data": {
      "text/plain": [
       "defined \u001b[32mfunction\u001b[39m \u001b[36mfoo\u001b[39m\n",
       "\u001b[36mres40_1\u001b[39m: (\u001b[32mString\u001b[39m, \u001b[32mInt\u001b[39m) = (\u001b[32m\"hello!!!!!!!!!!\"\u001b[39m, \u001b[32m10\u001b[39m)"
      ]
     },
     "execution_count": 41,
     "metadata": {},
     "output_type": "execute_result"
    }
   ],
   "source": [
    "def foo[A,B](f: A=>A, x: (A,B)): (A,B) = {\n",
    "    (applyn[A](f, 10, x._1), x._2)\n",
    "}\n",
    "foo((x: String)=>x+\"!\", (\"hello\", 10))"
   ]
  },
  {
   "cell_type": "code",
   "execution_count": 39,
   "metadata": {
    "scrolled": true
   },
   "outputs": [
    {
     "data": {
      "text/plain": [
       "defined \u001b[32mtype\u001b[39m \u001b[36mApplyn\u001b[39m\n",
       "\u001b[36mapplyn\u001b[39m: {def apply[A](f: A => A, n: Int, initVal: A): A} = ammonite.$sess.cmd38$Helper$$anon$1@449b5f68\n",
       "\u001b[36mres38_2\u001b[39m: \u001b[32mString\u001b[39m = \u001b[32m\"hello!!!!!!!!!!!!!!!!!!!!!!!!!!!!!!!!!!!!!!!!!!!!!!!!!!!!!!!!!!!!!!!!!!!!!!!!!!!!!!!!!!!!!!!!!!!!!!!!!!!!!!!!!!!!!!!!!!!!!!!!!!!!!!!!!!!!!!!!!!!!!!!!!!!!!!!!!!!!!!!!!!!!!!!!!!!!!!!!!!!!!!!!!!!!!!!!!!!!!!!!!!!!!!!!!!!!!!!!!!!!!!!!!!!!!!!!!!!!!!!!!!!!!!!!!!!!!!!!!!!!!!!!!!!!!!!!!!!!!!!!!!!!!!!!!!!!!!!!!!!!!!!!!!!!!!!!!!!!!!!!!!!!!!!!!!!!!!!!!!!!!!!!!!!!!!!!!!!!!!!!!!!!!!!!!!!!!!!!!!!!!!!!!!!!!!!!!!!!!!!!!!!!!!!!!!!!!!!!!!!!!!!!!!!!!!!!!!!!!!!!!!!!!!!!!!!!!!!!!!!!!!!!!!!!!!!!!!!!!!!!!!!!!!!!!!!!!!!!!!!!!!!!!!!!!!!!!!!!!!!!!!!!!!!!!!!!!!!!!!!!!!!!!!!!!!!!!!!!!!!!!!!!!!!!!!!!!!!!!!!!!!!!!!!!!!!!!!!!!!!!!!!!!!!!!!!!!!!!!!!!!!!!!!!!!!!!!!!!!!!!!!!!!!!!!!!!!!!!!!!!!!!!!!!!!!!!!!!!!!!!!!!!!!!!!!!!!!!!!!!!!!!!!!!!!!!!!!!!!!!!!!!!!!!!!!!!!!!!!!!!!!!!!!!!!!!!!!!!!!!!!!!!!!!!!!!!!!!!!!!!!!!!!!!!!!!!!!!!!!!!!!!!!!!!!!!!!!!!!!!!!!!!!!!!!!!!!!!!!!!!!!!!!!!!!!!!!!!!!!!!!!!!!!!!!!!!!!!!!!!!!!!!!!!!!!!!!!!!!!!!!!!!!!!!!!!!!!!!!!!!!!!!!!!!!!!!!!!!!!!!!!!!!!!!!!!!!!!!!!!!!!!!!!!!!!!!!!!!!!!!!!!!!!!!!!!!!!!!!!!!!!!!!!!!!!!!!!!!!!!!!!!!!!!!!!!!!!!!!!!!!!!!!!!!!!!!!!!!!!!!!!!!!!!!!!!!!!!!!!!!!!!!!!!!!!!!!!!!!!!!!!!!!!!!!!!!!!!!!!!!!!!!!!!!!!!!!!!!!!!!!!!!!!!!!!!!!!!!!!!!!!!!!!!!!!!!!!!!!!!!!!!!!!!!!!!!!!!!!!!!!!!!!!!!!!!!!!!!!!!!!!!!!!!!!!!!!!!!!!!!!!!!!!!!!!!!!!!!!!!!!!!!!!!!!!!!!!!!!!!!!!!!!!!!!!!!!!!!!!!!!!!!!!!!!!!!!!!!!!!!!!!!!!!!!!!!!!!!!!!!!!!!!!!!!!!!!!!!!!!!!!!!!!!!!!!!!!!!!!!!!!!!!!!!!!!!!!!!!!!!!!!!!!!!!!!!!!!!!!!!!!!!!!!!!!!!!!!!!!!!!!!!!!!!!!!!!!!!!!!!!!!!!!!!!!!!!!!!!!!!!!!!!!!!!!!!!!!!!!!!!!!!!!!!!!!!!!!!!!!!!!!!!!!!!!!!!!!!!!!!!!!!!!!!!!!!!!!!!!!!!!!!!!!!!!!!!!!!!!!!!!!!!!!!!!!!!!!!!!!!!!!!!!!!!!!!!!!!!!!!!!!!!!!!!!!!!!!!!!!!!!!!!!!!!!!!!!!!!!!!!!!!!!!!!!!!!!!!!!!!!!!!!!!!!!!!!!!!!!!!!!!!!!!!!!!!!!!!!!!!!!!!!!!!!!!!!!!!!!!!!!!!!!!!!!!!!!!!!!!!!!!!!!!!!!!!!!!!!!!!!!!!!!!!!!!!!!!!!!!!!!!!!!!!!!!!!!!!!!!!!!!!!!!!!!!!!!!!!!!!!!!!!!!!!!!!!!!!!!!!!!!!!!!!!!!!!!!!!!!!!!!!!!!!!!!!!!!!!!!!!!!!!!!!!!!!!!!!!!!!!!!!!!!!!!!!!!!!!!!!!!!!!!!!!!!!!!!!!!!!!!!!!!!!!!!!!!!!!!!!!!!!!!!!!!!!!!!!!!!!!!!!!!!!!!!!!!!!!!!!!!!!!!!!!!!!!!!!!!!!!!!!!!!!!!!!!!!!!!!!!!!!!!!!!!!!!!!!!!!!!!!!!!!!!!!!!!!!!!!!!!!!!!!!!!!!!!!!!!!!!!!!!!!!!!!!!!!!!!!!!!!!!!!!!!!!!!!!!!!!!!!!!!!!!!!!!!!!!!!!!!!!!!!!!!!!!!!!!!!!!!!!!!!!!!!!!!!!!!!!!!!!!!!!!!!!!!!!!!!!!!!!!!!!!!!!!!!!!!!!!!!!!!!!!!!!!!!!!!!!!!!!!!!!!!!!!!!!!!!!!!!!!!!!!!!!!!!!!!!!!!!!!!!!!!!!!!!!!!!!!!!!!!!!!!!!!!!!!!!!!!!!!!!!!!!!!!!!!!!!!!!!!!!!!!!!!!!!!!!!!!!!!!!!!!!!!!!!!!!!!!!!!!!!!!!!!!!!!!!!!!!!!!!!!!!!!!!!!!!!!!!!!!!!!!!!!!!!!!!!!!!!!!!!!!!!!!!!!!!!!!!!!!!!!!!!!!!!!!!!!!!!!!!!!!!!!!!!!!!!!!!!!!!!!!!!!!!!!!!!!!!!!!!!!!!!!!!!!!!!!!!!!!!!!!!!!!!!!!!!!!!!!!!!!!!!!!!!!!!!!!!!!!!!!!!!!!!!!!!!!!!!!!!!!!!!!!!!!!!!!!!!!!!!!!!!!!!!!!!!!!!!!!!!!!!!!!!!!!!!!!!!!!!!!!!!!!!!!!!!!!!!!!!!!!!!!!!!!!!!!!!!!!!!!!!!!!!!!!!!!!!!!!!!!!!!!!!!!!!!!!!!!!!!!!!!!!!!!!!!!!!!!!!!!!!!!!!!!!!!!!!!!!!!!!!!!!!!!!!!!!!!!!!!!!!!!!!!!!!!!!!!!!!!!!!!!!!!!!!!!!!!!!!!!!!!!!!!!!!!!!!!!!!!!!!!!!!!!!!!!!!!!!!!!!!!!!!!!!!!!!!!!!!!!!!!!!!!!!!!!!!!!!!!!!!!!!!!!!!!!!!!!!!!!!!!!!!!!!!!!!!!!!!!!!!!!!!!!!!!!!!!!!!!!!!!!!!!!!!!!!!!!!!!!!!!!!!!!!!!!!!!!!!!!!!!!!!!!!!!!!!!!!!!!!!!!!!!!!!!!!!!!!!!!!!!!!\u001b[39m..."
      ]
     },
     "execution_count": 39,
     "metadata": {},
     "output_type": "execute_result"
    }
   ],
   "source": [
    "type Applyn = { def apply[A](f: A=>A, n: Int, initVal: A): A }\n",
    "val applyn = new {\n",
    "    def apply[A](f: A=>A, n: Int, initVal: A): A = {\n",
    "        @tailrec\n",
    "        def applyCont(n: Int, cont: A=>TailRec[A]): A = {\n",
    "            n match {\n",
    "                case 0 => cont(initVal).result\n",
    "                case _ => applyCont(n-1, (r)=>tailcall(cont(f(r))))\n",
    "            }\n",
    "        }\n",
    "        applyCont(n, (r)=>done(r))\n",
    "    }\n",
    "}\n",
    "\n",
    "applyn.apply((x:String)=>x+\"!\", 10000, \"hello\")"
   ]
  },
  {
   "cell_type": "code",
   "execution_count": 42,
   "metadata": {},
   "outputs": [
    {
     "data": {
      "text/plain": [
       "defined \u001b[32mfunction\u001b[39m \u001b[36mgee\u001b[39m\n",
       "\u001b[36mres41_1\u001b[39m: (\u001b[32mString\u001b[39m, \u001b[32mInt\u001b[39m) = (\u001b[32m\"hello!!!!!!!!!!\"\u001b[39m, \u001b[32m10\u001b[39m)"
      ]
     },
     "execution_count": 42,
     "metadata": {},
     "output_type": "execute_result"
    }
   ],
   "source": [
    "def gee[A,B](f: A=>A, app: Applyn, x: (A,B)): (A,B) = {\n",
    "    (app[A](f, 10, x._1), x._2)\n",
    "}\n",
    "gee((x: String)=>x+\"!\", applyn, (\"hello\", 10))"
   ]
  },
  {
   "cell_type": "code",
   "execution_count": 44,
   "metadata": {},
   "outputs": [
    {
     "data": {
      "text/plain": [
       "defined \u001b[32mfunction\u001b[39m \u001b[36mx\u001b[39m\n",
       "defined \u001b[32mfunction\u001b[39m \u001b[36my\u001b[39m\n",
       "\u001b[36mres43_2\u001b[39m: \u001b[32mInt\u001b[39m = \u001b[32m10\u001b[39m\n",
       "\u001b[36mres43_3\u001b[39m: \u001b[32mInt\u001b[39m = \u001b[32m1\u001b[39m"
      ]
     },
     "execution_count": 44,
     "metadata": {},
     "output_type": "execute_result"
    }
   ],
   "source": [
    "def x:Int=>Int = (x)=>x\n",
    "def y:String=>Int = (x)=>1\n",
    "x(10)\n",
    "y(\"10\")"
   ]
  },
  {
   "cell_type": "code",
   "execution_count": 55,
   "metadata": {},
   "outputs": [
    {
     "data": {
      "text/plain": [
       "defined \u001b[32mtype\u001b[39m \u001b[36mT\u001b[39m\n",
       "\u001b[36mitem\u001b[39m: \u001b[32mT\u001b[39m = ammonite.$sess.cmd54$Helper$$anon$1@511bb892\n",
       "defined \u001b[32mobject\u001b[39m \u001b[36mitem1\u001b[39m\n",
       "\u001b[36mx\u001b[39m: \u001b[32mT\u001b[39m = ammonite.$sess.cmd54$Helper$item1$@27425713"
      ]
     },
     "execution_count": 55,
     "metadata": {},
     "output_type": "execute_result"
    }
   ],
   "source": [
    "type T = {\n",
    "    val x: Int\n",
    "    val y: Int\n",
    "}\n",
    "\n",
    "val item: T = new {\n",
    "    val x = 1\n",
    "    val y = 1\n",
    "}\n",
    "\n",
    "object item1 {\n",
    "    val x = 1\n",
    "    val y = 1\n",
    "}\n",
    "\n",
    "val x: T = item1"
   ]
  },
  {
   "cell_type": "code",
   "execution_count": 5,
   "metadata": {
    "scrolled": true
   },
   "outputs": [
    {
     "data": {
      "text/plain": [
       "\u001b[32mimport \u001b[39m\u001b[36mscala.annotation.tailrec\n",
       "\u001b[39m\n",
       "\u001b[32mimport \u001b[39m\u001b[36mscala.util.control.TailCalls._\n",
       "\n",
       "\u001b[39m\n",
       "defined \u001b[32mclass\u001b[39m \u001b[36mBtree\u001b[39m\n",
       "defined \u001b[32mclass\u001b[39m \u001b[36mLeaf\u001b[39m\n",
       "defined \u001b[32mclass\u001b[39m \u001b[36mNode\u001b[39m\n",
       "defined \u001b[32mclass\u001b[39m \u001b[36mBList\u001b[39m\n",
       "defined \u001b[32mclass\u001b[39m \u001b[36mBNil\u001b[39m\n",
       "defined \u001b[32mclass\u001b[39m \u001b[36mBCons\u001b[39m\n",
       "defined \u001b[32mfunction\u001b[39m \u001b[36mgen\u001b[39m\n",
       "defined \u001b[32mfunction\u001b[39m \u001b[36mfind\u001b[39m\n",
       "\u001b[36mres4_10\u001b[39m: \u001b[32mBoolean\u001b[39m = false"
      ]
     },
     "execution_count": 5,
     "metadata": {},
     "output_type": "execute_result"
    }
   ],
   "source": [
    "import scala.annotation.tailrec\n",
    "import scala.util.control.TailCalls._\n",
    "\n",
    "sealed abstract class Btree[A]\n",
    "case class Leaf[A]() extends Btree[A]\n",
    "case class Node[A](v: A, lt: Btree[A], rt: Btree[A]) extends Btree[A]\n",
    "\n",
    "sealed abstract class BList[A]\n",
    "case class BNil[A]() extends BList[A]\n",
    "case class BCons[A](hd: A, tl: BList[A]) extends BList[A]\n",
    "\n",
    "\n",
    "def gen[A](v: A, n: Int): Btree[A] = {\n",
    "    @tailrec\n",
    "    def genIter(n: Int, x: Btree[A]): Btree[A] = {\n",
    "        if (n <= 0) x\n",
    "        else genIter(n-1, Node(v, x, Leaf()))\n",
    "    }\n",
    "    genIter(n, Leaf())\n",
    "}\n",
    "\n",
    "def find[A](t: Btree[A], value: A): Boolean = {\n",
    "    def findIter(x: BList[Btree[A]]): Boolean = {\n",
    "        x match {\n",
    "            case BNil() => false\n",
    "            case BCons(Leaf(), tl) => findIter(tl)\n",
    "            case BCons(Node(v, _, _), _) if (v == value) => true\n",
    "            case BCons(Node(_, lt, rt), tl) => findIter(BCons(lt, BCons(rt, tl)))\n",
    "        }\n",
    "    }\n",
    "    findIter(BCons(t, BNil()))\n",
    "}\n",
    "find(Leaf(), \"hello\")\n"
   ]
  }
 ],
 "metadata": {
  "kernelspec": {
   "display_name": "Scala",
   "language": "scala",
   "name": "scala"
  },
  "language_info": {
   "codemirror_mode": "text/x-scala",
   "file_extension": ".sc",
   "mimetype": "text/x-scala",
   "name": "scala",
   "nbconvert_exporter": "script",
   "version": "2.13.3"
  }
 },
 "nbformat": 4,
 "nbformat_minor": 4
}
