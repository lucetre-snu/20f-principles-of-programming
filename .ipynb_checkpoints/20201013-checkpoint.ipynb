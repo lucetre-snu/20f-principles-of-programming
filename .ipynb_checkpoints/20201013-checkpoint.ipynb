{
 "cells": [
  {
   "cell_type": "markdown",
   "metadata": {},
   "source": [
    "### Class"
   ]
  },
  {
   "cell_type": "markdown",
   "metadata": {},
   "source": [
    "#### ***What are their differences?***\n",
    "* that `gee_type` can but `foo_type` can not"
   ]
  },
  {
   "cell_type": "code",
   "execution_count": 8,
   "metadata": {},
   "outputs": [
    {
     "data": {
      "text/plain": [
       "defined \u001b[32mtype\u001b[39m \u001b[36mgee_type\u001b[39m\n",
       "defined \u001b[32mfunction\u001b[39m \u001b[36mgee_fun\u001b[39m\n",
       "\u001b[36mgee\u001b[39m: \u001b[32mgee_type\u001b[39m = ammonite.$sess.cmd7$Helper$$anon$1@16ad4c08\n",
       "\u001b[36mres7_3\u001b[39m: \u001b[32mString\u001b[39m = \u001b[32m\"David Jones of age 25\"\u001b[39m"
      ]
     },
     "execution_count": 8,
     "metadata": {},
     "output_type": "execute_result"
    }
   ],
   "source": [
    "type gee_type = {val name:String; val age: Int; def getPP(): String}\n",
    "\n",
    "def gee_fun(_name: String, _age: Int) = {\n",
    "    if (!(_age >= 0 && _age < 200)) throw new Exception(\"Out of range\")\n",
    "    new {\n",
    "        val name : String = _name\n",
    "        val age : Int = _age\n",
    "        def getPP() : String = name + \" of age \" + age.toString()\n",
    "    } \n",
    "}\n",
    "val gee : gee_type = gee_fun(\"David Jones\", 25)\n",
    "gee.getPP()"
   ]
  },
  {
   "cell_type": "code",
   "execution_count": 7,
   "metadata": {},
   "outputs": [
    {
     "data": {
      "text/plain": [
       "defined \u001b[32mclass\u001b[39m \u001b[36mfoo_type\u001b[39m\n",
       "\u001b[36mfoo\u001b[39m: \u001b[32mfoo_type\u001b[39m = ammonite.$sess.cmd6$Helper$foo_type@2b9039f5\n",
       "\u001b[36mres6_2\u001b[39m: \u001b[32mString\u001b[39m = \u001b[32m\"David Jones of age 25\"\u001b[39m"
      ]
     },
     "execution_count": 7,
     "metadata": {},
     "output_type": "execute_result"
    }
   ],
   "source": [
    "class foo_type(_name: String, _age: Int) {\n",
    "    if (!(_age >= 0 && _age < 200)) throw new Exception(\"Out of range\")\n",
    "    val name : String = _name\n",
    "    val age : Int = _age\n",
    "    def getPP() : String = name + \" of age \" + age.toString()\n",
    "}\n",
    "val foo : foo_type = new foo_type(\"David Jones\", 25)\n",
    "foo.getPP()"
   ]
  },
  {
   "cell_type": "markdown",
   "metadata": {},
   "source": [
    "* `gee_type` 모양을 정해준 것"
   ]
  },
  {
   "cell_type": "code",
   "execution_count": 17,
   "metadata": {},
   "outputs": [
    {
     "data": {
      "text/plain": [
       "\u001b[36mgee2\u001b[39m: \u001b[32mgee_type\u001b[39m = ammonite.$sess.cmd16$Helper$$anon$1@2aaf064d"
      ]
     },
     "execution_count": 17,
     "metadata": {},
     "output_type": "execute_result"
    }
   ],
   "source": [
    "val gee2: gee_type = new {\n",
    "    val name = \"gil\"\n",
    "    val age = 2000\n",
    "    def getPP() = \"hello\"\n",
    "}"
   ]
  },
  {
   "cell_type": "markdown",
   "metadata": {},
   "source": [
    "* `foo_type` 모양 & 방법을 정해준 것 (user-defined type)"
   ]
  },
  {
   "cell_type": "code",
   "execution_count": 12,
   "metadata": {},
   "outputs": [
    {
     "name": "stderr",
     "output_type": "stream",
     "text": [
      "cmd12.sc:1: type mismatch;\n",
      " found   : AnyRef{val name: String; val age: Int; def getPP(): String}\n",
      " required: cmd12.this.cmd6.foo_type\n",
      "val foo2: foo_type = new {\n",
      "                     ^Compilation Failed"
     ]
    },
    {
     "ename": "",
     "evalue": "",
     "output_type": "error",
     "traceback": [
      "Compilation Failed"
     ]
    }
   ],
   "source": [
    "val foo2: foo_type = new {\n",
    "    val name = \"gil\"\n",
    "    val age = 44\n",
    "    def getPP() = \"hello\"\n",
    "}"
   ]
  },
  {
   "cell_type": "code",
   "execution_count": 18,
   "metadata": {},
   "outputs": [
    {
     "data": {
      "text/plain": [
       "defined \u001b[32mfunction\u001b[39m \u001b[36mcheck_foo\u001b[39m\n",
       "defined \u001b[32mfunction\u001b[39m \u001b[36mcheck_gee\u001b[39m\n",
       "\u001b[36mres17_2\u001b[39m: \u001b[32mBoolean\u001b[39m = true\n",
       "\u001b[36mres17_3\u001b[39m: \u001b[32mBoolean\u001b[39m = false"
      ]
     },
     "execution_count": 18,
     "metadata": {},
     "output_type": "execute_result"
    }
   ],
   "source": [
    "// can not be false\n",
    "def check_foo(foo: foo_type) = foo.age <= 200\n",
    "// can be false\n",
    "def check_gee(gee: gee_type) = gee.age <= 200\n",
    "\n",
    "check_foo(foo)\n",
    "check_gee(gee2)"
   ]
  },
  {
   "cell_type": "markdown",
   "metadata": {},
   "source": [
    "#### foo_type <: gee_type"
   ]
  },
  {
   "cell_type": "code",
   "execution_count": 20,
   "metadata": {},
   "outputs": [
    {
     "data": {
      "text/plain": [
       "\u001b[36mgee3\u001b[39m: \u001b[32mgee_type\u001b[39m = ammonite.$sess.cmd6$Helper$foo_type@2b9039f5"
      ]
     },
     "execution_count": 20,
     "metadata": {},
     "output_type": "execute_result"
    }
   ],
   "source": [
    "val gee3: gee_type = foo"
   ]
  },
  {
   "cell_type": "markdown",
   "metadata": {},
   "source": [
    "#### gee_type !<: foo_type\n",
    "* class can not have sub type."
   ]
  },
  {
   "cell_type": "code",
   "execution_count": 20,
   "metadata": {},
   "outputs": [
    {
     "name": "stderr",
     "output_type": "stream",
     "text": [
      "cmd20.sc:1: type mismatch;\n",
      " found   : ammonite.$sess.cmd18.wrapper.cmd7.gee_type\n",
      "    (which expands to)  AnyRef{val name: String; val age: Int; def getPP(): String}\n",
      " required: cmd20.this.cmd6.foo_type\n",
      "val foo2: foo_type = gee2\n",
      "                     ^Compilation Failed"
     ]
    },
    {
     "ename": "",
     "evalue": "",
     "output_type": "error",
     "traceback": [
      "Compilation Failed"
     ]
    }
   ],
   "source": [
    "val foo2: foo_type = gee2"
   ]
  },
  {
   "cell_type": "code",
   "execution_count": 22,
   "metadata": {},
   "outputs": [
    {
     "data": {
      "text/plain": [
       "defined \u001b[32mfunction\u001b[39m \u001b[36mgreeting\u001b[39m\n",
       "\u001b[36mres21_1\u001b[39m: \u001b[32mString\u001b[39m = \u001b[32m\"Hi David Jones, How are you?\"\u001b[39m\n",
       "\u001b[36mres21_2\u001b[39m: \u001b[32mString\u001b[39m = \u001b[32m\"Hi David Jones, How are you?\"\u001b[39m"
      ]
     },
     "execution_count": 22,
     "metadata": {},
     "output_type": "execute_result"
    }
   ],
   "source": [
    "def greeting(r:{val name:String}) = \"Hi \" + r.name + \", How are you?\"\n",
    "greeting(foo)\n",
    "greeting(gee)"
   ]
  },
  {
   "cell_type": "markdown",
   "metadata": {},
   "source": [
    "> Structural type doesn't have a name\n",
    "\n",
    "> Cclass MyList[A](v: A, nxt: Option[MyList[A]]) {\n",
    "val value : A = v\n",
    "val next : Option[MyList[A]] = nxt\n",
    "}lass has a name and can be recursive"
   ]
  },
  {
   "cell_type": "code",
   "execution_count": 36,
   "metadata": {},
   "outputs": [
    {
     "ename": "",
     "evalue": "",
     "output_type": "error",
     "traceback": [
      "\u001b[31mscala.NotImplementedError: an implementation is missing\u001b[39m\n  scala.Predef$.$qmark$qmark$qmark(\u001b[32mPredef.scala\u001b[39m:\u001b[32m347\u001b[39m)\n  ammonite.$sess.cmd35$Helper.<init>(\u001b[32mcmd35.sc\u001b[39m:\u001b[32m5\u001b[39m)\n  ammonite.$sess.cmd35$.<clinit>(\u001b[32mcmd35.sc\u001b[39m:\u001b[32m7\u001b[39m)"
     ]
    }
   ],
   "source": [
    "// without Option (null is trick for ???)\n",
    "class MyList[A](v: A, nxt: MyList[A]) {\n",
    "    val value : A = v\n",
    "    val next : MyList[A] = nxt\n",
    "}\n",
    "val l1 = new MyList(1, new MyList(2, new MyList(3, ???)))"
   ]
  },
  {
   "cell_type": "markdown",
   "metadata": {},
   "source": [
    "#### Option[A]\n",
    "* `None: Option[A]`\n",
    "* `Some(a: A): Option[A]`"
   ]
  },
  {
   "cell_type": "code",
   "execution_count": 40,
   "metadata": {},
   "outputs": [
    {
     "data": {
      "text/plain": [
       "defined \u001b[32mclass\u001b[39m \u001b[36mMyList\u001b[39m\n",
       "defined \u001b[32mtype\u001b[39m \u001b[36mYourList\u001b[39m"
      ]
     },
     "execution_count": 40,
     "metadata": {},
     "output_type": "execute_result"
    }
   ],
   "source": [
    "class MyList[A](v: A, nxt: Option[MyList[A]]) {\n",
    "    val value : A = v\n",
    "    val next : Option[MyList[A]] = nxt\n",
    "}\n",
    "// list whose length >= 0\n",
    "type YourList[A] = Option[MyList[A]]"
   ]
  },
  {
   "cell_type": "code",
   "execution_count": 44,
   "metadata": {},
   "outputs": [
    {
     "data": {
      "text/plain": [
       "\u001b[36ml1\u001b[39m: \u001b[32mMyList\u001b[39m[\u001b[32mInt\u001b[39m] = ammonite.$sess.cmd39$Helper$MyList@29e3f372\n",
       "\u001b[36ml2\u001b[39m: \u001b[32mMyList\u001b[39m[\u001b[32mInt\u001b[39m] = ammonite.$sess.cmd39$Helper$MyList@6d651c53\n",
       "\u001b[36ml3\u001b[39m: \u001b[32mMyList\u001b[39m[\u001b[32mInt\u001b[39m] = ammonite.$sess.cmd39$Helper$MyList@76603f8e"
      ]
     },
     "execution_count": 44,
     "metadata": {},
     "output_type": "execute_result"
    }
   ],
   "source": [
    "val l1 = new MyList(3, None)\n",
    "val l2 = new MyList(3, Some(new MyList(2, None)))\n",
    "val l3 = new MyList(3, Some(new MyList(2, Some(new MyList(1, None)))))"
   ]
  },
  {
   "cell_type": "code",
   "execution_count": 46,
   "metadata": {},
   "outputs": [
    {
     "data": {
      "text/plain": [
       "\u001b[36ml0\u001b[39m: \u001b[32mYourList\u001b[39m[\u001b[32mInt\u001b[39m] = \u001b[32mNone\u001b[39m\n",
       "\u001b[36ml1\u001b[39m: \u001b[32mYourList\u001b[39m[\u001b[32mInt\u001b[39m] = \u001b[33mSome\u001b[39m(ammonite.$sess.cmd39$Helper$MyList@2eb6f834)\n",
       "\u001b[36ml2\u001b[39m: \u001b[32mYourList\u001b[39m[\u001b[32mInt\u001b[39m] = \u001b[33mSome\u001b[39m(ammonite.$sess.cmd39$Helper$MyList@492d2cc9)"
      ]
     },
     "execution_count": 46,
     "metadata": {},
     "output_type": "execute_result"
    }
   ],
   "source": [
    "// None as Nil\n",
    "val l0: YourList[Int] = None\n",
    "// Some(new MyList()) as Cons\n",
    "val l1: YourList[Int] = Some(new MyList(3, None))\n",
    "val l2: YourList[Int] = Some(new MyList(3, Some(new MyList(2, None))))"
   ]
  },
  {
   "cell_type": "markdown",
   "metadata": {},
   "source": [
    "#### weakness of class\n",
    "* easy to create\n",
    "* hard to use (access w. `.`)\n",
    "  * but algebric data type can use type matching"
   ]
  },
  {
   "cell_type": "code",
   "execution_count": 56,
   "metadata": {},
   "outputs": [
    {
     "data": {
      "text/plain": [
       "defined \u001b[32mclass\u001b[39m \u001b[36mMyList\u001b[39m\n",
       "defined \u001b[32mtype\u001b[39m \u001b[36mYourList\u001b[39m\n",
       "\u001b[36ml0\u001b[39m: \u001b[32mYourList\u001b[39m[\u001b[32mInt\u001b[39m] = \u001b[32mNone\u001b[39m\n",
       "\u001b[36ml1\u001b[39m: \u001b[32mYourList\u001b[39m[\u001b[32mInt\u001b[39m] = \u001b[33mSome\u001b[39m(ammonite.$sess.cmd55$Helper$MyList@3f352995)\n",
       "\u001b[36ml2\u001b[39m: \u001b[32mYourList\u001b[39m[\u001b[32mInt\u001b[39m] = \u001b[33mSome\u001b[39m(ammonite.$sess.cmd55$Helper$MyList@756cabb2)\n",
       "defined \u001b[32mfunction\u001b[39m \u001b[36mlength\u001b[39m\n",
       "\u001b[36mres55_6\u001b[39m: \u001b[32mInt\u001b[39m = \u001b[32m2\u001b[39m"
      ]
     },
     "execution_count": 56,
     "metadata": {},
     "output_type": "execute_result"
    }
   ],
   "source": [
    "// same as\n",
    "// class MyList[A](val value: A, val next: Option[MyList[A]])\n",
    "class MyList[A](v: A, nxt: Option[MyList[A]]) {\n",
    "    val value : A = v\n",
    "    val next : Option[MyList[A]] = nxt\n",
    "}\n",
    "type YourList[A] = Option[MyList[A]]\n",
    "\n",
    "val l0: YourList[Int] = None\n",
    "val l1: YourList[Int] = Some(new MyList(3, None))\n",
    "val l2: YourList[Int] = Some(new MyList(3, Some(new MyList(2, None))))\n",
    "\n",
    "// algebric data type\n",
    "def length(l: YourList[Int]): Int = {\n",
    "    l match {\n",
    "        case None => 0\n",
    "        case Some(ml) => 1+length(ml.next)\n",
    "    }\n",
    "}\n",
    "length(l2)"
   ]
  },
  {
   "cell_type": "markdown",
   "metadata": {},
   "source": [
    "### null\n",
    "* special base case"
   ]
  },
  {
   "cell_type": "code",
   "execution_count": 51,
   "metadata": {},
   "outputs": [
    {
     "data": {
      "text/plain": [
       "defined \u001b[32mclass\u001b[39m \u001b[36mMyList\u001b[39m\n",
       "\u001b[36ml0\u001b[39m: \u001b[32mMyList\u001b[39m[\u001b[32mInt\u001b[39m] = \u001b[32mnull\u001b[39m\n",
       "\u001b[36ml1\u001b[39m: \u001b[32mMyList\u001b[39m[\u001b[32mInt\u001b[39m] = ammonite.$sess.cmd50$Helper$MyList@437e7672\n",
       "\u001b[36ml2\u001b[39m: \u001b[32mMyList\u001b[39m[\u001b[32mInt\u001b[39m] = ammonite.$sess.cmd50$Helper$MyList@566e125f\n",
       "\u001b[36ml3\u001b[39m: \u001b[32mMyList\u001b[39m[\u001b[32mInt\u001b[39m] = ammonite.$sess.cmd50$Helper$MyList@506eb2c7\n",
       "defined \u001b[32mfunction\u001b[39m \u001b[36mlength\u001b[39m\n",
       "\u001b[36mres50_6\u001b[39m: \u001b[32mInt\u001b[39m = \u001b[32m3\u001b[39m"
      ]
     },
     "execution_count": 51,
     "metadata": {},
     "output_type": "execute_result"
    }
   ],
   "source": [
    "class MyList[A](v: A, nxt: MyList[A]) {\n",
    "    val value : A = v\n",
    "    val next : MyList[A] = nxt\n",
    "}\n",
    "\n",
    "val l0: MyList[Int] = null\n",
    "val l1: MyList[Int] = new MyList(3, null)\n",
    "val l2: MyList[Int] = new MyList(3, new MyList(2, null))\n",
    "val l3: MyList[Int] = new MyList(3, new MyList(2, new MyList(1, null)))\n",
    "\n",
    "def length(l: MyList[Int]): Int = {\n",
    "    if (l == null) 0\n",
    "    else 1+length(l.next)\n",
    "}\n",
    "length(l3)"
   ]
  },
  {
   "cell_type": "markdown",
   "metadata": {},
   "source": [
    "#### null induces runtime cost\n",
    "* junk checking (null checking) is necessary during run time\n",
    "* option type can indicate `None` or `Some`"
   ]
  },
  {
   "cell_type": "code",
   "execution_count": 53,
   "metadata": {},
   "outputs": [
    {
     "data": {
      "text/plain": [
       "defined \u001b[32mfunction\u001b[39m \u001b[36mget_value\u001b[39m"
      ]
     },
     "execution_count": 53,
     "metadata": {},
     "output_type": "execute_result"
    }
   ],
   "source": [
    "def get_value(l: MyList[Int]) = if (l==null) { 0 } else { l.value }"
   ]
  }
 ],
 "metadata": {
  "kernelspec": {
   "display_name": "Scala",
   "language": "scala",
   "name": "scala"
  },
  "language_info": {
   "codemirror_mode": "text/x-scala",
   "file_extension": ".sc",
   "mimetype": "text/x-scala",
   "name": "scala",
   "nbconvert_exporter": "script",
   "version": "2.13.3"
  }
 },
 "nbformat": 4,
 "nbformat_minor": 4
}
