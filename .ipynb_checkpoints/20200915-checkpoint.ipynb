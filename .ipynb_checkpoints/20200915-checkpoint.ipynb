{
 "cells": [
  {
   "cell_type": "code",
   "execution_count": 1,
   "metadata": {},
   "outputs": [
    {
     "data": {
      "text/plain": [
       "defined \u001b[32mfunction\u001b[39m \u001b[36mabs\u001b[39m\n",
       "defined \u001b[32mfunction\u001b[39m \u001b[36misGoodEnough\u001b[39m\n",
       "defined \u001b[32mfunction\u001b[39m \u001b[36mimprove\u001b[39m\n",
       "defined \u001b[32mfunction\u001b[39m \u001b[36msqrtIter\u001b[39m\n",
       "defined \u001b[32mfunction\u001b[39m \u001b[36msqrt\u001b[39m\n",
       "\u001b[36mres0_5\u001b[39m: \u001b[32mDouble\u001b[39m = \u001b[32m2.2360688956433634\u001b[39m\n",
       "\u001b[36mres0_6\u001b[39m: \u001b[32mDouble\u001b[39m = \u001b[32m2.23606797749979\u001b[39m"
      ]
     },
     "execution_count": 1,
     "metadata": {},
     "output_type": "execute_result"
    }
   ],
   "source": [
    "def abs(x: Double) =\n",
    "    if (x > 0) x else -x\n",
    "\n",
    "def isGoodEnough(guess: Double, x: Double) = \n",
    "    abs(guess*guess - x) / x < 1e-5\n",
    "\n",
    "def improve(guess: Double, x: Double) =\n",
    "    (guess + x/guess) / 2\n",
    "\n",
    "def sqrtIter(guess: Double, x: Double): Double =\n",
    "    if (isGoodEnough(guess, x)) guess\n",
    "    else sqrtIter(improve(guess, x), x)\n",
    "\n",
    "def sqrt(x: Double) =\n",
    "    sqrtIter(1, x)\n",
    "\n",
    "sqrt(5)\n",
    "math.sqrt(5)"
   ]
  },
  {
   "cell_type": "code",
   "execution_count": 6,
   "metadata": {},
   "outputs": [
    {
     "data": {
      "text/plain": [
       "defined \u001b[32mfunction\u001b[39m \u001b[36msqrt\u001b[39m\n",
       "\u001b[36mres5_1\u001b[39m: \u001b[32mDouble\u001b[39m = \u001b[32m2.2360688956433634\u001b[39m\n",
       "\u001b[36mres5_2\u001b[39m: \u001b[32mDouble\u001b[39m = \u001b[32m2.23606797749979\u001b[39m"
      ]
     },
     "execution_count": 6,
     "metadata": {},
     "output_type": "execute_result"
    }
   ],
   "source": [
    "def sqrt(x: Double) = {\n",
    "    def abs(x: Double) =\n",
    "        if (x > 0) x else -x\n",
    "\n",
    "    def isGoodEnough(guess: Double, x: Double) = \n",
    "        abs(guess*guess - x) / x < 1e-5\n",
    "\n",
    "    def improve(guess: Double, x: Double) =\n",
    "        (guess + x/guess) / 2\n",
    "\n",
    "    def sqrtIter(guess: Double, x: Double): Double =\n",
    "        if (isGoodEnough(guess, x)) guess\n",
    "        else sqrtIter(improve(guess, x), x)\n",
    "    \n",
    "    sqrtIter(1, x)\n",
    "}\n",
    "\n",
    "sqrt(5)\n",
    "math.sqrt(5)"
   ]
  },
  {
   "cell_type": "markdown",
   "metadata": {},
   "source": [
    "`def k = loop && true; val x = false&&k;` *no errors occur*"
   ]
  },
  {
   "cell_type": "markdown",
   "metadata": {},
   "source": [
    "### Lazy Val"
   ]
  },
  {
   "cell_type": "code",
   "execution_count": 7,
   "metadata": {},
   "outputs": [
    {
     "name": "stdout",
     "output_type": "stream",
     "text": [
      "ok\n"
     ]
    },
    {
     "data": {
      "text/plain": [
       "defined \u001b[32mfunction\u001b[39m \u001b[36mf\u001b[39m\n",
       "\u001b[36mres6_1\u001b[39m: \u001b[32mInt\u001b[39m = \u001b[32m0\u001b[39m\n",
       "\u001b[36mres6_2\u001b[39m: \u001b[32mInt\u001b[39m = \u001b[32m64000000\u001b[39m"
      ]
     },
     "execution_count": 7,
     "metadata": {},
     "output_type": "execute_result"
    }
   ],
   "source": [
    "def f(c: Boolean, i: =>Int): Int = {\n",
    "    lazy val iv = i\n",
    "    if (c) 0\n",
    "    else iv * iv * iv\n",
    "}\n",
    "\n",
    "f(true, {println(\"ok\"); 100+100+100+100})\n",
    "f(false, {\n",
    "    println(\"ok\");\n",
    "    100+100+100+100\n",
    "})"
   ]
  },
  {
   "cell_type": "code",
   "execution_count": 8,
   "metadata": {},
   "outputs": [
    {
     "name": "stdout",
     "output_type": "stream",
     "text": [
      "hello\n"
     ]
    }
   ],
   "source": [
    "val _ = println(\"hello\");"
   ]
  },
  {
   "cell_type": "markdown",
   "metadata": {},
   "source": [
    "#### an example"
   ]
  },
  {
   "cell_type": "code",
   "execution_count": 23,
   "metadata": {},
   "outputs": [
    {
     "name": "stdout",
     "output_type": "stream",
     "text": [
      "x\n"
     ]
    },
    {
     "data": {
      "text/html": [
       "<div class=\"jp-RenderedText\">\n",
       "<pre><code><span style=\"color: rgb(0, 187, 187)\"><span class=\"ansi-cyan-fg\">x</span></span>: <span style=\"color: rgb(0, 187, 0)\"><span class=\"ansi-green-fg\">Int</span></span> = <span style=\"color: rgb(0, 187, 0)\"><span class=\"ansi-green-fg\">15</span></span>\n",
       "<span style=\"color: rgb(0, 187, 187)\"><span class=\"ansi-cyan-fg\">y</span></span>: <span style=\"color: rgb(0, 187, 0)\"><span class=\"ansi-green-fg\">Int</span></span> = <style>@keyframes fadein { from { opacity: 0; } to { opacity: 1; } }</style><span style=\"animation: fadein 2s;\"><span style=\"color: rgb(0, 187, 0)\"><span class=\"ansi-green-fg\">13</span></span></span></code></pre>\n",
       "</div>"
      ],
      "text/plain": [
       "\u001b[36mx\u001b[39m: \u001b[32mInt\u001b[39m = \u001b[32m15\u001b[39m\n",
       "\u001b[36my\u001b[39m: \u001b[32mInt\u001b[39m = \u001b[32m13\u001b[39m"
      ]
     },
     "metadata": {},
     "output_type": "display_data"
    }
   ],
   "source": [
    "val x = { println(\"x\"); 15 }\n",
    "lazy val y = { println(\"y\"); 13 }"
   ]
  },
  {
   "cell_type": "code",
   "execution_count": 24,
   "metadata": {},
   "outputs": [
    {
     "name": "stdout",
     "output_type": "stream",
     "text": [
      "15\n"
     ]
    }
   ],
   "source": [
    "println(x)"
   ]
  },
  {
   "cell_type": "code",
   "execution_count": 25,
   "metadata": {},
   "outputs": [
    {
     "name": "stdout",
     "output_type": "stream",
     "text": [
      "y\n",
      "13\n"
     ]
    }
   ],
   "source": [
    "println(y)"
   ]
  },
  {
   "cell_type": "code",
   "execution_count": 26,
   "metadata": {},
   "outputs": [
    {
     "name": "stdout",
     "output_type": "stream",
     "text": [
      "13\n"
     ]
    }
   ],
   "source": [
    "println(y)"
   ]
  },
  {
   "cell_type": "markdown",
   "metadata": {},
   "source": [
    "### Tail Recursion\n",
    "* Stack size of tail call is always 1.\n",
    "* It's better using recursive call even if stack overflow doesn't occur. (Readability)"
   ]
  },
  {
   "cell_type": "markdown",
   "metadata": {},
   "source": [
    "***Q. 지난 시간에 수업 끝나고 tail recursion 최적화를 좀 찾아봤었는데, Erlang 같은 경우는 tail recursion 패턴으로 안 짜도 컴파일러가 자동으로 tail recursion이 되도록 최적화를 한다고 하더라구요. Scala 같은 경우는 이런 최적화를 안 하는 이유가 있을까요?***\n",
    "> Erlang is a special case. Scala uses stack memory as much as it can. Using stack doesn't mean memory consumption, since the stack is already allocated.\n"
   ]
  },
  {
   "cell_type": "markdown",
   "metadata": {},
   "source": [
    "##### limited size of stack\n",
    "\n",
    "\n",
    "> `15`\n",
    "\n",
    "> ===========\n",
    "\n",
    "> `(5+(4+(3+(2+(1+0)))))` *overflow*"
   ]
  },
  {
   "cell_type": "code",
   "execution_count": 29,
   "metadata": {},
   "outputs": [
    {
     "data": {
      "text/plain": [
       "defined \u001b[32mfunction\u001b[39m \u001b[36msum\u001b[39m"
      ]
     },
     "execution_count": 29,
     "metadata": {},
     "output_type": "execute_result"
    }
   ],
   "source": [
    "def sum(n: Int): Int =\n",
    "    if (n <= 0) 0\n",
    "    else (n+sum(n-1))"
   ]
  },
  {
   "cell_type": "code",
   "execution_count": 30,
   "metadata": {},
   "outputs": [
    {
     "data": {
      "text/plain": [
       "\u001b[36mres29\u001b[39m: \u001b[32mInt\u001b[39m = \u001b[32m5050\u001b[39m"
      ]
     },
     "execution_count": 30,
     "metadata": {},
     "output_type": "execute_result"
    }
   ],
   "source": [
    "sum(100)"
   ]
  },
  {
   "cell_type": "code",
   "execution_count": 31,
   "metadata": {
    "scrolled": true
   },
   "outputs": [
    {
     "ename": "",
     "evalue": "",
     "output_type": "error",
     "traceback": [
      "\u001b[31mjava.lang.StackOverflowError\u001b[39m\n  ammonite.$sess.cmd28$Helper.sum(\u001b[32mcmd28.sc\u001b[39m:\u001b[32m3\u001b[39m)\n  ammonite.$sess.cmd28$Helper.sum(\u001b[32mcmd28.sc\u001b[39m:\u001b[32m3\u001b[39m)\n  ammonite.$sess.cmd28$Helper.sum(\u001b[32mcmd28.sc\u001b[39m:\u001b[32m3\u001b[39m)\n  ammonite.$sess.cmd28$Helper.sum(\u001b[32mcmd28.sc\u001b[39m:\u001b[32m3\u001b[39m)\n  ammonite.$sess.cmd28$Helper.sum(\u001b[32mcmd28.sc\u001b[39m:\u001b[32m3\u001b[39m)\n  ammonite.$sess.cmd28$Helper.sum(\u001b[32mcmd28.sc\u001b[39m:\u001b[32m3\u001b[39m)\n  ammonite.$sess.cmd28$Helper.sum(\u001b[32mcmd28.sc\u001b[39m:\u001b[32m3\u001b[39m)\n  ammonite.$sess.cmd28$Helper.sum(\u001b[32mcmd28.sc\u001b[39m:\u001b[32m3\u001b[39m)\n  ammonite.$sess.cmd28$Helper.sum(\u001b[32mcmd28.sc\u001b[39m:\u001b[32m3\u001b[39m)\n  ammonite.$sess.cmd28$Helper.sum(\u001b[32mcmd28.sc\u001b[39m:\u001b[32m3\u001b[39m)\n  ammonite.$sess.cmd28$Helper.sum(\u001b[32mcmd28.sc\u001b[39m:\u001b[32m3\u001b[39m)\n  ammonite.$sess.cmd28$Helper.sum(\u001b[32mcmd28.sc\u001b[39m:\u001b[32m3\u001b[39m)\n  ammonite.$sess.cmd28$Helper.sum(\u001b[32mcmd28.sc\u001b[39m:\u001b[32m3\u001b[39m)\n  ammonite.$sess.cmd28$Helper.sum(\u001b[32mcmd28.sc\u001b[39m:\u001b[32m3\u001b[39m)\n  ammonite.$sess.cmd28$Helper.sum(\u001b[32mcmd28.sc\u001b[39m:\u001b[32m3\u001b[39m)\n  ammonite.$sess.cmd28$Helper.sum(\u001b[32mcmd28.sc\u001b[39m:\u001b[32m3\u001b[39m)\n  ammonite.$sess.cmd28$Helper.sum(\u001b[32mcmd28.sc\u001b[39m:\u001b[32m3\u001b[39m)\n  ammonite.$sess.cmd28$Helper.sum(\u001b[32mcmd28.sc\u001b[39m:\u001b[32m3\u001b[39m)\n  ammonite.$sess.cmd28$Helper.sum(\u001b[32mcmd28.sc\u001b[39m:\u001b[32m3\u001b[39m)\n  ammonite.$sess.cmd28$Helper.sum(\u001b[32mcmd28.sc\u001b[39m:\u001b[32m3\u001b[39m)\n  ammonite.$sess.cmd28$Helper.sum(\u001b[32mcmd28.sc\u001b[39m:\u001b[32m3\u001b[39m)\n  ammonite.$sess.cmd28$Helper.sum(\u001b[32mcmd28.sc\u001b[39m:\u001b[32m3\u001b[39m)\n  ammonite.$sess.cmd28$Helper.sum(\u001b[32mcmd28.sc\u001b[39m:\u001b[32m3\u001b[39m)\n  ammonite.$sess.cmd28$Helper.sum(\u001b[32mcmd28.sc\u001b[39m:\u001b[32m3\u001b[39m)\n  ammonite.$sess.cmd28$Helper.sum(\u001b[32mcmd28.sc\u001b[39m:\u001b[32m3\u001b[39m)\n  ammonite.$sess.cmd28$Helper.sum(\u001b[32mcmd28.sc\u001b[39m:\u001b[32m3\u001b[39m)\n  ammonite.$sess.cmd28$Helper.sum(\u001b[32mcmd28.sc\u001b[39m:\u001b[32m3\u001b[39m)\n  ammonite.$sess.cmd28$Helper.sum(\u001b[32mcmd28.sc\u001b[39m:\u001b[32m3\u001b[39m)\n  ammonite.$sess.cmd28$Helper.sum(\u001b[32mcmd28.sc\u001b[39m:\u001b[32m3\u001b[39m)\n  ammonite.$sess.cmd28$Helper.sum(\u001b[32mcmd28.sc\u001b[39m:\u001b[32m3\u001b[39m)\n  ammonite.$sess.cmd28$Helper.sum(\u001b[32mcmd28.sc\u001b[39m:\u001b[32m3\u001b[39m)\n  ammonite.$sess.cmd28$Helper.sum(\u001b[32mcmd28.sc\u001b[39m:\u001b[32m3\u001b[39m)\n  ammonite.$sess.cmd28$Helper.sum(\u001b[32mcmd28.sc\u001b[39m:\u001b[32m3\u001b[39m)\n  ammonite.$sess.cmd28$Helper.sum(\u001b[32mcmd28.sc\u001b[39m:\u001b[32m3\u001b[39m)\n  ammonite.$sess.cmd28$Helper.sum(\u001b[32mcmd28.sc\u001b[39m:\u001b[32m3\u001b[39m)\n  ammonite.$sess.cmd28$Helper.sum(\u001b[32mcmd28.sc\u001b[39m:\u001b[32m3\u001b[39m)\n  ammonite.$sess.cmd28$Helper.sum(\u001b[32mcmd28.sc\u001b[39m:\u001b[32m3\u001b[39m)\n  ammonite.$sess.cmd28$Helper.sum(\u001b[32mcmd28.sc\u001b[39m:\u001b[32m3\u001b[39m)\n  ammonite.$sess.cmd28$Helper.sum(\u001b[32mcmd28.sc\u001b[39m:\u001b[32m3\u001b[39m)\n  ammonite.$sess.cmd28$Helper.sum(\u001b[32mcmd28.sc\u001b[39m:\u001b[32m3\u001b[39m)\n  ammonite.$sess.cmd28$Helper.sum(\u001b[32mcmd28.sc\u001b[39m:\u001b[32m3\u001b[39m)\n  ammonite.$sess.cmd28$Helper.sum(\u001b[32mcmd28.sc\u001b[39m:\u001b[32m3\u001b[39m)\n  ammonite.$sess.cmd28$Helper.sum(\u001b[32mcmd28.sc\u001b[39m:\u001b[32m3\u001b[39m)\n  ammonite.$sess.cmd28$Helper.sum(\u001b[32mcmd28.sc\u001b[39m:\u001b[32m3\u001b[39m)\n  ammonite.$sess.cmd28$Helper.sum(\u001b[32mcmd28.sc\u001b[39m:\u001b[32m3\u001b[39m)\n  ammonite.$sess.cmd28$Helper.sum(\u001b[32mcmd28.sc\u001b[39m:\u001b[32m3\u001b[39m)\n  ammonite.$sess.cmd28$Helper.sum(\u001b[32mcmd28.sc\u001b[39m:\u001b[32m3\u001b[39m)\n  ammonite.$sess.cmd28$Helper.sum(\u001b[32mcmd28.sc\u001b[39m:\u001b[32m3\u001b[39m)\n  ammonite.$sess.cmd28$Helper.sum(\u001b[32mcmd28.sc\u001b[39m:\u001b[32m3\u001b[39m)\n  ammonite.$sess.cmd28$Helper.sum(\u001b[32mcmd28.sc\u001b[39m:\u001b[32m3\u001b[39m)\n  ammonite.$sess.cmd28$Helper.sum(\u001b[32mcmd28.sc\u001b[39m:\u001b[32m3\u001b[39m)\n  ammonite.$sess.cmd28$Helper.sum(\u001b[32mcmd28.sc\u001b[39m:\u001b[32m3\u001b[39m)\n  ammonite.$sess.cmd28$Helper.sum(\u001b[32mcmd28.sc\u001b[39m:\u001b[32m3\u001b[39m)\n  ammonite.$sess.cmd28$Helper.sum(\u001b[32mcmd28.sc\u001b[39m:\u001b[32m3\u001b[39m)\n  ammonite.$sess.cmd28$Helper.sum(\u001b[32mcmd28.sc\u001b[39m:\u001b[32m3\u001b[39m)\n  ammonite.$sess.cmd28$Helper.sum(\u001b[32mcmd28.sc\u001b[39m:\u001b[32m3\u001b[39m)\n  ammonite.$sess.cmd28$Helper.sum(\u001b[32mcmd28.sc\u001b[39m:\u001b[32m3\u001b[39m)\n  ammonite.$sess.cmd28$Helper.sum(\u001b[32mcmd28.sc\u001b[39m:\u001b[32m3\u001b[39m)\n  ammonite.$sess.cmd28$Helper.sum(\u001b[32mcmd28.sc\u001b[39m:\u001b[32m3\u001b[39m)\n  ammonite.$sess.cmd28$Helper.sum(\u001b[32mcmd28.sc\u001b[39m:\u001b[32m3\u001b[39m)\n  ammonite.$sess.cmd28$Helper.sum(\u001b[32mcmd28.sc\u001b[39m:\u001b[32m3\u001b[39m)\n  ammonite.$sess.cmd28$Helper.sum(\u001b[32mcmd28.sc\u001b[39m:\u001b[32m3\u001b[39m)\n  ammonite.$sess.cmd28$Helper.sum(\u001b[32mcmd28.sc\u001b[39m:\u001b[32m3\u001b[39m)\n  ammonite.$sess.cmd28$Helper.sum(\u001b[32mcmd28.sc\u001b[39m:\u001b[32m3\u001b[39m)\n  ammonite.$sess.cmd28$Helper.sum(\u001b[32mcmd28.sc\u001b[39m:\u001b[32m3\u001b[39m)\n  ammonite.$sess.cmd28$Helper.sum(\u001b[32mcmd28.sc\u001b[39m:\u001b[32m3\u001b[39m)\n  ammonite.$sess.cmd28$Helper.sum(\u001b[32mcmd28.sc\u001b[39m:\u001b[32m3\u001b[39m)\n  ammonite.$sess.cmd28$Helper.sum(\u001b[32mcmd28.sc\u001b[39m:\u001b[32m3\u001b[39m)\n  ammonite.$sess.cmd28$Helper.sum(\u001b[32mcmd28.sc\u001b[39m:\u001b[32m3\u001b[39m)\n  ammonite.$sess.cmd28$Helper.sum(\u001b[32mcmd28.sc\u001b[39m:\u001b[32m3\u001b[39m)\n  ammonite.$sess.cmd28$Helper.sum(\u001b[32mcmd28.sc\u001b[39m:\u001b[32m3\u001b[39m)\n  ammonite.$sess.cmd28$Helper.sum(\u001b[32mcmd28.sc\u001b[39m:\u001b[32m3\u001b[39m)\n  ammonite.$sess.cmd28$Helper.sum(\u001b[32mcmd28.sc\u001b[39m:\u001b[32m3\u001b[39m)\n  ammonite.$sess.cmd28$Helper.sum(\u001b[32mcmd28.sc\u001b[39m:\u001b[32m3\u001b[39m)\n  ammonite.$sess.cmd28$Helper.sum(\u001b[32mcmd28.sc\u001b[39m:\u001b[32m3\u001b[39m)\n  ammonite.$sess.cmd28$Helper.sum(\u001b[32mcmd28.sc\u001b[39m:\u001b[32m3\u001b[39m)\n  ammonite.$sess.cmd28$Helper.sum(\u001b[32mcmd28.sc\u001b[39m:\u001b[32m3\u001b[39m)\n  ammonite.$sess.cmd28$Helper.sum(\u001b[32mcmd28.sc\u001b[39m:\u001b[32m3\u001b[39m)\n  ammonite.$sess.cmd28$Helper.sum(\u001b[32mcmd28.sc\u001b[39m:\u001b[32m3\u001b[39m)\n  ammonite.$sess.cmd28$Helper.sum(\u001b[32mcmd28.sc\u001b[39m:\u001b[32m3\u001b[39m)\n  ammonite.$sess.cmd28$Helper.sum(\u001b[32mcmd28.sc\u001b[39m:\u001b[32m3\u001b[39m)\n  ammonite.$sess.cmd28$Helper.sum(\u001b[32mcmd28.sc\u001b[39m:\u001b[32m3\u001b[39m)\n  ammonite.$sess.cmd28$Helper.sum(\u001b[32mcmd28.sc\u001b[39m:\u001b[32m3\u001b[39m)\n  ammonite.$sess.cmd28$Helper.sum(\u001b[32mcmd28.sc\u001b[39m:\u001b[32m3\u001b[39m)\n  ammonite.$sess.cmd28$Helper.sum(\u001b[32mcmd28.sc\u001b[39m:\u001b[32m3\u001b[39m)\n  ammonite.$sess.cmd28$Helper.sum(\u001b[32mcmd28.sc\u001b[39m:\u001b[32m3\u001b[39m)\n  ammonite.$sess.cmd28$Helper.sum(\u001b[32mcmd28.sc\u001b[39m:\u001b[32m3\u001b[39m)\n  ammonite.$sess.cmd28$Helper.sum(\u001b[32mcmd28.sc\u001b[39m:\u001b[32m3\u001b[39m)\n  ammonite.$sess.cmd28$Helper.sum(\u001b[32mcmd28.sc\u001b[39m:\u001b[32m3\u001b[39m)\n  ammonite.$sess.cmd28$Helper.sum(\u001b[32mcmd28.sc\u001b[39m:\u001b[32m3\u001b[39m)\n  ammonite.$sess.cmd28$Helper.sum(\u001b[32mcmd28.sc\u001b[39m:\u001b[32m3\u001b[39m)\n  ammonite.$sess.cmd28$Helper.sum(\u001b[32mcmd28.sc\u001b[39m:\u001b[32m3\u001b[39m)\n  ammonite.$sess.cmd28$Helper.sum(\u001b[32mcmd28.sc\u001b[39m:\u001b[32m3\u001b[39m)\n  ammonite.$sess.cmd28$Helper.sum(\u001b[32mcmd28.sc\u001b[39m:\u001b[32m3\u001b[39m)\n  ammonite.$sess.cmd28$Helper.sum(\u001b[32mcmd28.sc\u001b[39m:\u001b[32m3\u001b[39m)\n  ammonite.$sess.cmd28$Helper.sum(\u001b[32mcmd28.sc\u001b[39m:\u001b[32m3\u001b[39m)\n  ammonite.$sess.cmd28$Helper.sum(\u001b[32mcmd28.sc\u001b[39m:\u001b[32m3\u001b[39m)\n  ammonite.$sess.cmd28$Helper.sum(\u001b[32mcmd28.sc\u001b[39m:\u001b[32m3\u001b[39m)\n  ammonite.$sess.cmd28$Helper.sum(\u001b[32mcmd28.sc\u001b[39m:\u001b[32m3\u001b[39m)\n  ammonite.$sess.cmd28$Helper.sum(\u001b[32mcmd28.sc\u001b[39m:\u001b[32m3\u001b[39m)\n  ammonite.$sess.cmd28$Helper.sum(\u001b[32mcmd28.sc\u001b[39m:\u001b[32m3\u001b[39m)\n  ammonite.$sess.cmd28$Helper.sum(\u001b[32mcmd28.sc\u001b[39m:\u001b[32m3\u001b[39m)\n  ammonite.$sess.cmd28$Helper.sum(\u001b[32mcmd28.sc\u001b[39m:\u001b[32m3\u001b[39m)\n  ammonite.$sess.cmd28$Helper.sum(\u001b[32mcmd28.sc\u001b[39m:\u001b[32m3\u001b[39m)\n  ammonite.$sess.cmd28$Helper.sum(\u001b[32mcmd28.sc\u001b[39m:\u001b[32m3\u001b[39m)\n  ammonite.$sess.cmd28$Helper.sum(\u001b[32mcmd28.sc\u001b[39m:\u001b[32m3\u001b[39m)\n  ammonite.$sess.cmd28$Helper.sum(\u001b[32mcmd28.sc\u001b[39m:\u001b[32m3\u001b[39m)\n  ammonite.$sess.cmd28$Helper.sum(\u001b[32mcmd28.sc\u001b[39m:\u001b[32m3\u001b[39m)\n  ammonite.$sess.cmd28$Helper.sum(\u001b[32mcmd28.sc\u001b[39m:\u001b[32m3\u001b[39m)\n  ammonite.$sess.cmd28$Helper.sum(\u001b[32mcmd28.sc\u001b[39m:\u001b[32m3\u001b[39m)\n  ammonite.$sess.cmd28$Helper.sum(\u001b[32mcmd28.sc\u001b[39m:\u001b[32m3\u001b[39m)\n  ammonite.$sess.cmd28$Helper.sum(\u001b[32mcmd28.sc\u001b[39m:\u001b[32m3\u001b[39m)\n  ammonite.$sess.cmd28$Helper.sum(\u001b[32mcmd28.sc\u001b[39m:\u001b[32m3\u001b[39m)\n  ammonite.$sess.cmd28$Helper.sum(\u001b[32mcmd28.sc\u001b[39m:\u001b[32m3\u001b[39m)\n  ammonite.$sess.cmd28$Helper.sum(\u001b[32mcmd28.sc\u001b[39m:\u001b[32m3\u001b[39m)\n  ammonite.$sess.cmd28$Helper.sum(\u001b[32mcmd28.sc\u001b[39m:\u001b[32m3\u001b[39m)\n  ammonite.$sess.cmd28$Helper.sum(\u001b[32mcmd28.sc\u001b[39m:\u001b[32m3\u001b[39m)\n  ammonite.$sess.cmd28$Helper.sum(\u001b[32mcmd28.sc\u001b[39m:\u001b[32m3\u001b[39m)\n  ammonite.$sess.cmd28$Helper.sum(\u001b[32mcmd28.sc\u001b[39m:\u001b[32m3\u001b[39m)\n  ammonite.$sess.cmd28$Helper.sum(\u001b[32mcmd28.sc\u001b[39m:\u001b[32m3\u001b[39m)\n  ammonite.$sess.cmd28$Helper.sum(\u001b[32mcmd28.sc\u001b[39m:\u001b[32m3\u001b[39m)\n  ammonite.$sess.cmd28$Helper.sum(\u001b[32mcmd28.sc\u001b[39m:\u001b[32m3\u001b[39m)\n  ammonite.$sess.cmd28$Helper.sum(\u001b[32mcmd28.sc\u001b[39m:\u001b[32m3\u001b[39m)\n  ammonite.$sess.cmd28$Helper.sum(\u001b[32mcmd28.sc\u001b[39m:\u001b[32m3\u001b[39m)\n  ammonite.$sess.cmd28$Helper.sum(\u001b[32mcmd28.sc\u001b[39m:\u001b[32m3\u001b[39m)\n  ammonite.$sess.cmd28$Helper.sum(\u001b[32mcmd28.sc\u001b[39m:\u001b[32m3\u001b[39m)\n  ammonite.$sess.cmd28$Helper.sum(\u001b[32mcmd28.sc\u001b[39m:\u001b[32m3\u001b[39m)\n  ammonite.$sess.cmd28$Helper.sum(\u001b[32mcmd28.sc\u001b[39m:\u001b[32m3\u001b[39m)\n  ammonite.$sess.cmd28$Helper.sum(\u001b[32mcmd28.sc\u001b[39m:\u001b[32m3\u001b[39m)\n  ammonite.$sess.cmd28$Helper.sum(\u001b[32mcmd28.sc\u001b[39m:\u001b[32m3\u001b[39m)\n  ammonite.$sess.cmd28$Helper.sum(\u001b[32mcmd28.sc\u001b[39m:\u001b[32m3\u001b[39m)\n  ammonite.$sess.cmd28$Helper.sum(\u001b[32mcmd28.sc\u001b[39m:\u001b[32m3\u001b[39m)\n  ammonite.$sess.cmd28$Helper.sum(\u001b[32mcmd28.sc\u001b[39m:\u001b[32m3\u001b[39m)\n  ammonite.$sess.cmd28$Helper.sum(\u001b[32mcmd28.sc\u001b[39m:\u001b[32m3\u001b[39m)\n  ammonite.$sess.cmd28$Helper.sum(\u001b[32mcmd28.sc\u001b[39m:\u001b[32m3\u001b[39m)\n  ammonite.$sess.cmd28$Helper.sum(\u001b[32mcmd28.sc\u001b[39m:\u001b[32m3\u001b[39m)\n  ammonite.$sess.cmd28$Helper.sum(\u001b[32mcmd28.sc\u001b[39m:\u001b[32m3\u001b[39m)\n  ammonite.$sess.cmd28$Helper.sum(\u001b[32mcmd28.sc\u001b[39m:\u001b[32m3\u001b[39m)\n  ammonite.$sess.cmd28$Helper.sum(\u001b[32mcmd28.sc\u001b[39m:\u001b[32m3\u001b[39m)\n  ammonite.$sess.cmd28$Helper.sum(\u001b[32mcmd28.sc\u001b[39m:\u001b[32m3\u001b[39m)\n  ammonite.$sess.cmd28$Helper.sum(\u001b[32mcmd28.sc\u001b[39m:\u001b[32m3\u001b[39m)\n  ammonite.$sess.cmd28$Helper.sum(\u001b[32mcmd28.sc\u001b[39m:\u001b[32m3\u001b[39m)\n  ammonite.$sess.cmd28$Helper.sum(\u001b[32mcmd28.sc\u001b[39m:\u001b[32m3\u001b[39m)\n  ammonite.$sess.cmd28$Helper.sum(\u001b[32mcmd28.sc\u001b[39m:\u001b[32m3\u001b[39m)\n  ammonite.$sess.cmd28$Helper.sum(\u001b[32mcmd28.sc\u001b[39m:\u001b[32m3\u001b[39m)\n  ammonite.$sess.cmd28$Helper.sum(\u001b[32mcmd28.sc\u001b[39m:\u001b[32m3\u001b[39m)\n  ammonite.$sess.cmd28$Helper.sum(\u001b[32mcmd28.sc\u001b[39m:\u001b[32m3\u001b[39m)\n  ammonite.$sess.cmd28$Helper.sum(\u001b[32mcmd28.sc\u001b[39m:\u001b[32m3\u001b[39m)\n  ammonite.$sess.cmd28$Helper.sum(\u001b[32mcmd28.sc\u001b[39m:\u001b[32m3\u001b[39m)\n  ammonite.$sess.cmd28$Helper.sum(\u001b[32mcmd28.sc\u001b[39m:\u001b[32m3\u001b[39m)\n  ammonite.$sess.cmd28$Helper.sum(\u001b[32mcmd28.sc\u001b[39m:\u001b[32m3\u001b[39m)\n  ammonite.$sess.cmd28$Helper.sum(\u001b[32mcmd28.sc\u001b[39m:\u001b[32m3\u001b[39m)\n  ammonite.$sess.cmd28$Helper.sum(\u001b[32mcmd28.sc\u001b[39m:\u001b[32m3\u001b[39m)\n  ammonite.$sess.cmd28$Helper.sum(\u001b[32mcmd28.sc\u001b[39m:\u001b[32m3\u001b[39m)\n  ammonite.$sess.cmd28$Helper.sum(\u001b[32mcmd28.sc\u001b[39m:\u001b[32m3\u001b[39m)\n  ammonite.$sess.cmd28$Helper.sum(\u001b[32mcmd28.sc\u001b[39m:\u001b[32m3\u001b[39m)\n  ammonite.$sess.cmd28$Helper.sum(\u001b[32mcmd28.sc\u001b[39m:\u001b[32m3\u001b[39m)\n  ammonite.$sess.cmd28$Helper.sum(\u001b[32mcmd28.sc\u001b[39m:\u001b[32m3\u001b[39m)\n  ammonite.$sess.cmd28$Helper.sum(\u001b[32mcmd28.sc\u001b[39m:\u001b[32m3\u001b[39m)\n  ammonite.$sess.cmd28$Helper.sum(\u001b[32mcmd28.sc\u001b[39m:\u001b[32m3\u001b[39m)\n  ammonite.$sess.cmd28$Helper.sum(\u001b[32mcmd28.sc\u001b[39m:\u001b[32m3\u001b[39m)\n  ammonite.$sess.cmd28$Helper.sum(\u001b[32mcmd28.sc\u001b[39m:\u001b[32m3\u001b[39m)\n  ammonite.$sess.cmd28$Helper.sum(\u001b[32mcmd28.sc\u001b[39m:\u001b[32m3\u001b[39m)\n  ammonite.$sess.cmd28$Helper.sum(\u001b[32mcmd28.sc\u001b[39m:\u001b[32m3\u001b[39m)\n  ammonite.$sess.cmd28$Helper.sum(\u001b[32mcmd28.sc\u001b[39m:\u001b[32m3\u001b[39m)\n  ammonite.$sess.cmd28$Helper.sum(\u001b[32mcmd28.sc\u001b[39m:\u001b[32m3\u001b[39m)\n  ammonite.$sess.cmd28$Helper.sum(\u001b[32mcmd28.sc\u001b[39m:\u001b[32m3\u001b[39m)\n  ammonite.$sess.cmd28$Helper.sum(\u001b[32mcmd28.sc\u001b[39m:\u001b[32m3\u001b[39m)\n  ammonite.$sess.cmd28$Helper.sum(\u001b[32mcmd28.sc\u001b[39m:\u001b[32m3\u001b[39m)\n  ammonite.$sess.cmd28$Helper.sum(\u001b[32mcmd28.sc\u001b[39m:\u001b[32m3\u001b[39m)\n  ammonite.$sess.cmd28$Helper.sum(\u001b[32mcmd28.sc\u001b[39m:\u001b[32m3\u001b[39m)\n  ammonite.$sess.cmd28$Helper.sum(\u001b[32mcmd28.sc\u001b[39m:\u001b[32m3\u001b[39m)\n  ammonite.$sess.cmd28$Helper.sum(\u001b[32mcmd28.sc\u001b[39m:\u001b[32m3\u001b[39m)\n  ammonite.$sess.cmd28$Helper.sum(\u001b[32mcmd28.sc\u001b[39m:\u001b[32m3\u001b[39m)\n  ammonite.$sess.cmd28$Helper.sum(\u001b[32mcmd28.sc\u001b[39m:\u001b[32m3\u001b[39m)\n  ammonite.$sess.cmd28$Helper.sum(\u001b[32mcmd28.sc\u001b[39m:\u001b[32m3\u001b[39m)\n  ammonite.$sess.cmd28$Helper.sum(\u001b[32mcmd28.sc\u001b[39m:\u001b[32m3\u001b[39m)\n  ammonite.$sess.cmd28$Helper.sum(\u001b[32mcmd28.sc\u001b[39m:\u001b[32m3\u001b[39m)\n  ammonite.$sess.cmd28$Helper.sum(\u001b[32mcmd28.sc\u001b[39m:\u001b[32m3\u001b[39m)\n  ammonite.$sess.cmd28$Helper.sum(\u001b[32mcmd28.sc\u001b[39m:\u001b[32m3\u001b[39m)\n  ammonite.$sess.cmd28$Helper.sum(\u001b[32mcmd28.sc\u001b[39m:\u001b[32m3\u001b[39m)\n  ammonite.$sess.cmd28$Helper.sum(\u001b[32mcmd28.sc\u001b[39m:\u001b[32m3\u001b[39m)\n  ammonite.$sess.cmd28$Helper.sum(\u001b[32mcmd28.sc\u001b[39m:\u001b[32m3\u001b[39m)\n  ammonite.$sess.cmd28$Helper.sum(\u001b[32mcmd28.sc\u001b[39m:\u001b[32m3\u001b[39m)\n  ammonite.$sess.cmd28$Helper.sum(\u001b[32mcmd28.sc\u001b[39m:\u001b[32m3\u001b[39m)\n  ammonite.$sess.cmd28$Helper.sum(\u001b[32mcmd28.sc\u001b[39m:\u001b[32m3\u001b[39m)\n  ammonite.$sess.cmd28$Helper.sum(\u001b[32mcmd28.sc\u001b[39m:\u001b[32m3\u001b[39m)\n  ammonite.$sess.cmd28$Helper.sum(\u001b[32mcmd28.sc\u001b[39m:\u001b[32m3\u001b[39m)\n  ammonite.$sess.cmd28$Helper.sum(\u001b[32mcmd28.sc\u001b[39m:\u001b[32m3\u001b[39m)\n  ammonite.$sess.cmd28$Helper.sum(\u001b[32mcmd28.sc\u001b[39m:\u001b[32m3\u001b[39m)\n  ammonite.$sess.cmd28$Helper.sum(\u001b[32mcmd28.sc\u001b[39m:\u001b[32m3\u001b[39m)\n  ammonite.$sess.cmd28$Helper.sum(\u001b[32mcmd28.sc\u001b[39m:\u001b[32m3\u001b[39m)\n  ammonite.$sess.cmd28$Helper.sum(\u001b[32mcmd28.sc\u001b[39m:\u001b[32m3\u001b[39m)\n  ammonite.$sess.cmd28$Helper.sum(\u001b[32mcmd28.sc\u001b[39m:\u001b[32m3\u001b[39m)\n  ammonite.$sess.cmd28$Helper.sum(\u001b[32mcmd28.sc\u001b[39m:\u001b[32m3\u001b[39m)\n  ammonite.$sess.cmd28$Helper.sum(\u001b[32mcmd28.sc\u001b[39m:\u001b[32m3\u001b[39m)\n  ammonite.$sess.cmd28$Helper.sum(\u001b[32mcmd28.sc\u001b[39m:\u001b[32m3\u001b[39m)\n  ammonite.$sess.cmd28$Helper.sum(\u001b[32mcmd28.sc\u001b[39m:\u001b[32m3\u001b[39m)\n  ammonite.$sess.cmd28$Helper.sum(\u001b[32mcmd28.sc\u001b[39m:\u001b[32m3\u001b[39m)\n  ammonite.$sess.cmd28$Helper.sum(\u001b[32mcmd28.sc\u001b[39m:\u001b[32m3\u001b[39m)\n  ammonite.$sess.cmd28$Helper.sum(\u001b[32mcmd28.sc\u001b[39m:\u001b[32m3\u001b[39m)\n  ammonite.$sess.cmd28$Helper.sum(\u001b[32mcmd28.sc\u001b[39m:\u001b[32m3\u001b[39m)\n  ammonite.$sess.cmd28$Helper.sum(\u001b[32mcmd28.sc\u001b[39m:\u001b[32m3\u001b[39m)\n  ammonite.$sess.cmd28$Helper.sum(\u001b[32mcmd28.sc\u001b[39m:\u001b[32m3\u001b[39m)\n  ammonite.$sess.cmd28$Helper.sum(\u001b[32mcmd28.sc\u001b[39m:\u001b[32m3\u001b[39m)\n  ammonite.$sess.cmd28$Helper.sum(\u001b[32mcmd28.sc\u001b[39m:\u001b[32m3\u001b[39m)\n  ammonite.$sess.cmd28$Helper.sum(\u001b[32mcmd28.sc\u001b[39m:\u001b[32m3\u001b[39m)\n  ammonite.$sess.cmd28$Helper.sum(\u001b[32mcmd28.sc\u001b[39m:\u001b[32m3\u001b[39m)\n  ammonite.$sess.cmd28$Helper.sum(\u001b[32mcmd28.sc\u001b[39m:\u001b[32m3\u001b[39m)\n  ammonite.$sess.cmd28$Helper.sum(\u001b[32mcmd28.sc\u001b[39m:\u001b[32m3\u001b[39m)\n  ammonite.$sess.cmd28$Helper.sum(\u001b[32mcmd28.sc\u001b[39m:\u001b[32m3\u001b[39m)\n  ammonite.$sess.cmd28$Helper.sum(\u001b[32mcmd28.sc\u001b[39m:\u001b[32m3\u001b[39m)\n  ammonite.$sess.cmd28$Helper.sum(\u001b[32mcmd28.sc\u001b[39m:\u001b[32m3\u001b[39m)\n  ammonite.$sess.cmd28$Helper.sum(\u001b[32mcmd28.sc\u001b[39m:\u001b[32m3\u001b[39m)\n  ammonite.$sess.cmd28$Helper.sum(\u001b[32mcmd28.sc\u001b[39m:\u001b[32m3\u001b[39m)\n  ammonite.$sess.cmd28$Helper.sum(\u001b[32mcmd28.sc\u001b[39m:\u001b[32m3\u001b[39m)\n  ammonite.$sess.cmd28$Helper.sum(\u001b[32mcmd28.sc\u001b[39m:\u001b[32m3\u001b[39m)\n  ammonite.$sess.cmd28$Helper.sum(\u001b[32mcmd28.sc\u001b[39m:\u001b[32m3\u001b[39m)\n  ammonite.$sess.cmd28$Helper.sum(\u001b[32mcmd28.sc\u001b[39m:\u001b[32m3\u001b[39m)\n  ammonite.$sess.cmd28$Helper.sum(\u001b[32mcmd28.sc\u001b[39m:\u001b[32m3\u001b[39m)\n  ammonite.$sess.cmd28$Helper.sum(\u001b[32mcmd28.sc\u001b[39m:\u001b[32m3\u001b[39m)\n  ammonite.$sess.cmd28$Helper.sum(\u001b[32mcmd28.sc\u001b[39m:\u001b[32m3\u001b[39m)\n  ammonite.$sess.cmd28$Helper.sum(\u001b[32mcmd28.sc\u001b[39m:\u001b[32m3\u001b[39m)\n  ammonite.$sess.cmd28$Helper.sum(\u001b[32mcmd28.sc\u001b[39m:\u001b[32m3\u001b[39m)\n  ammonite.$sess.cmd28$Helper.sum(\u001b[32mcmd28.sc\u001b[39m:\u001b[32m3\u001b[39m)\n  ammonite.$sess.cmd28$Helper.sum(\u001b[32mcmd28.sc\u001b[39m:\u001b[32m3\u001b[39m)\n  ammonite.$sess.cmd28$Helper.sum(\u001b[32mcmd28.sc\u001b[39m:\u001b[32m3\u001b[39m)\n  ammonite.$sess.cmd28$Helper.sum(\u001b[32mcmd28.sc\u001b[39m:\u001b[32m3\u001b[39m)\n  ammonite.$sess.cmd28$Helper.sum(\u001b[32mcmd28.sc\u001b[39m:\u001b[32m3\u001b[39m)\n  ammonite.$sess.cmd28$Helper.sum(\u001b[32mcmd28.sc\u001b[39m:\u001b[32m3\u001b[39m)\n  ammonite.$sess.cmd28$Helper.sum(\u001b[32mcmd28.sc\u001b[39m:\u001b[32m3\u001b[39m)\n  ammonite.$sess.cmd28$Helper.sum(\u001b[32mcmd28.sc\u001b[39m:\u001b[32m3\u001b[39m)\n  ammonite.$sess.cmd28$Helper.sum(\u001b[32mcmd28.sc\u001b[39m:\u001b[32m3\u001b[39m)\n  ammonite.$sess.cmd28$Helper.sum(\u001b[32mcmd28.sc\u001b[39m:\u001b[32m3\u001b[39m)\n  ammonite.$sess.cmd28$Helper.sum(\u001b[32mcmd28.sc\u001b[39m:\u001b[32m3\u001b[39m)\n  ammonite.$sess.cmd28$Helper.sum(\u001b[32mcmd28.sc\u001b[39m:\u001b[32m3\u001b[39m)\n  ammonite.$sess.cmd28$Helper.sum(\u001b[32mcmd28.sc\u001b[39m:\u001b[32m3\u001b[39m)\n  ammonite.$sess.cmd28$Helper.sum(\u001b[32mcmd28.sc\u001b[39m:\u001b[32m3\u001b[39m)\n  ammonite.$sess.cmd28$Helper.sum(\u001b[32mcmd28.sc\u001b[39m:\u001b[32m3\u001b[39m)\n  ammonite.$sess.cmd28$Helper.sum(\u001b[32mcmd28.sc\u001b[39m:\u001b[32m3\u001b[39m)\n  ammonite.$sess.cmd28$Helper.sum(\u001b[32mcmd28.sc\u001b[39m:\u001b[32m3\u001b[39m)\n  ammonite.$sess.cmd28$Helper.sum(\u001b[32mcmd28.sc\u001b[39m:\u001b[32m3\u001b[39m)\n  ammonite.$sess.cmd28$Helper.sum(\u001b[32mcmd28.sc\u001b[39m:\u001b[32m3\u001b[39m)\n  ammonite.$sess.cmd28$Helper.sum(\u001b[32mcmd28.sc\u001b[39m:\u001b[32m3\u001b[39m)\n  ammonite.$sess.cmd28$Helper.sum(\u001b[32mcmd28.sc\u001b[39m:\u001b[32m3\u001b[39m)\n  ammonite.$sess.cmd28$Helper.sum(\u001b[32mcmd28.sc\u001b[39m:\u001b[32m3\u001b[39m)\n  ammonite.$sess.cmd28$Helper.sum(\u001b[32mcmd28.sc\u001b[39m:\u001b[32m3\u001b[39m)\n  ammonite.$sess.cmd28$Helper.sum(\u001b[32mcmd28.sc\u001b[39m:\u001b[32m3\u001b[39m)\n  ammonite.$sess.cmd28$Helper.sum(\u001b[32mcmd28.sc\u001b[39m:\u001b[32m3\u001b[39m)\n  ammonite.$sess.cmd28$Helper.sum(\u001b[32mcmd28.sc\u001b[39m:\u001b[32m3\u001b[39m)\n  ammonite.$sess.cmd28$Helper.sum(\u001b[32mcmd28.sc\u001b[39m:\u001b[32m3\u001b[39m)\n  ammonite.$sess.cmd28$Helper.sum(\u001b[32mcmd28.sc\u001b[39m:\u001b[32m3\u001b[39m)\n  ammonite.$sess.cmd28$Helper.sum(\u001b[32mcmd28.sc\u001b[39m:\u001b[32m3\u001b[39m)\n  ammonite.$sess.cmd28$Helper.sum(\u001b[32mcmd28.sc\u001b[39m:\u001b[32m3\u001b[39m)\n  ammonite.$sess.cmd28$Helper.sum(\u001b[32mcmd28.sc\u001b[39m:\u001b[32m3\u001b[39m)\n  ammonite.$sess.cmd28$Helper.sum(\u001b[32mcmd28.sc\u001b[39m:\u001b[32m3\u001b[39m)\n  ammonite.$sess.cmd28$Helper.sum(\u001b[32mcmd28.sc\u001b[39m:\u001b[32m3\u001b[39m)\n  ammonite.$sess.cmd28$Helper.sum(\u001b[32mcmd28.sc\u001b[39m:\u001b[32m3\u001b[39m)\n  ammonite.$sess.cmd28$Helper.sum(\u001b[32mcmd28.sc\u001b[39m:\u001b[32m3\u001b[39m)\n  ammonite.$sess.cmd28$Helper.sum(\u001b[32mcmd28.sc\u001b[39m:\u001b[32m3\u001b[39m)\n  ammonite.$sess.cmd28$Helper.sum(\u001b[32mcmd28.sc\u001b[39m:\u001b[32m3\u001b[39m)\n  ammonite.$sess.cmd28$Helper.sum(\u001b[32mcmd28.sc\u001b[39m:\u001b[32m3\u001b[39m)\n  ammonite.$sess.cmd28$Helper.sum(\u001b[32mcmd28.sc\u001b[39m:\u001b[32m3\u001b[39m)\n  ammonite.$sess.cmd28$Helper.sum(\u001b[32mcmd28.sc\u001b[39m:\u001b[32m3\u001b[39m)\n  ammonite.$sess.cmd28$Helper.sum(\u001b[32mcmd28.sc\u001b[39m:\u001b[32m3\u001b[39m)\n  ammonite.$sess.cmd28$Helper.sum(\u001b[32mcmd28.sc\u001b[39m:\u001b[32m3\u001b[39m)\n  ammonite.$sess.cmd28$Helper.sum(\u001b[32mcmd28.sc\u001b[39m:\u001b[32m3\u001b[39m)\n  ammonite.$sess.cmd28$Helper.sum(\u001b[32mcmd28.sc\u001b[39m:\u001b[32m3\u001b[39m)\n  ammonite.$sess.cmd28$Helper.sum(\u001b[32mcmd28.sc\u001b[39m:\u001b[32m3\u001b[39m)\n  ammonite.$sess.cmd28$Helper.sum(\u001b[32mcmd28.sc\u001b[39m:\u001b[32m3\u001b[39m)\n  ammonite.$sess.cmd28$Helper.sum(\u001b[32mcmd28.sc\u001b[39m:\u001b[32m3\u001b[39m)\n  ammonite.$sess.cmd28$Helper.sum(\u001b[32mcmd28.sc\u001b[39m:\u001b[32m3\u001b[39m)\n  ammonite.$sess.cmd28$Helper.sum(\u001b[32mcmd28.sc\u001b[39m:\u001b[32m3\u001b[39m)\n  ammonite.$sess.cmd28$Helper.sum(\u001b[32mcmd28.sc\u001b[39m:\u001b[32m3\u001b[39m)\n  ammonite.$sess.cmd28$Helper.sum(\u001b[32mcmd28.sc\u001b[39m:\u001b[32m3\u001b[39m)\n  ammonite.$sess.cmd28$Helper.sum(\u001b[32mcmd28.sc\u001b[39m:\u001b[32m3\u001b[39m)\n  ammonite.$sess.cmd28$Helper.sum(\u001b[32mcmd28.sc\u001b[39m:\u001b[32m3\u001b[39m)\n  ammonite.$sess.cmd28$Helper.sum(\u001b[32mcmd28.sc\u001b[39m:\u001b[32m3\u001b[39m)\n  ammonite.$sess.cmd28$Helper.sum(\u001b[32mcmd28.sc\u001b[39m:\u001b[32m3\u001b[39m)\n  ammonite.$sess.cmd28$Helper.sum(\u001b[32mcmd28.sc\u001b[39m:\u001b[32m3\u001b[39m)\n  ammonite.$sess.cmd28$Helper.sum(\u001b[32mcmd28.sc\u001b[39m:\u001b[32m3\u001b[39m)\n  ammonite.$sess.cmd28$Helper.sum(\u001b[32mcmd28.sc\u001b[39m:\u001b[32m3\u001b[39m)\n  ammonite.$sess.cmd28$Helper.sum(\u001b[32mcmd28.sc\u001b[39m:\u001b[32m3\u001b[39m)\n  ammonite.$sess.cmd28$Helper.sum(\u001b[32mcmd28.sc\u001b[39m:\u001b[32m3\u001b[39m)\n  ammonite.$sess.cmd28$Helper.sum(\u001b[32mcmd28.sc\u001b[39m:\u001b[32m3\u001b[39m)\n  ammonite.$sess.cmd28$Helper.sum(\u001b[32mcmd28.sc\u001b[39m:\u001b[32m3\u001b[39m)\n  ammonite.$sess.cmd28$Helper.sum(\u001b[32mcmd28.sc\u001b[39m:\u001b[32m3\u001b[39m)\n  ammonite.$sess.cmd28$Helper.sum(\u001b[32mcmd28.sc\u001b[39m:\u001b[32m3\u001b[39m)\n  ammonite.$sess.cmd28$Helper.sum(\u001b[32mcmd28.sc\u001b[39m:\u001b[32m3\u001b[39m)\n  ammonite.$sess.cmd28$Helper.sum(\u001b[32mcmd28.sc\u001b[39m:\u001b[32m3\u001b[39m)\n  ammonite.$sess.cmd28$Helper.sum(\u001b[32mcmd28.sc\u001b[39m:\u001b[32m3\u001b[39m)\n  ammonite.$sess.cmd28$Helper.sum(\u001b[32mcmd28.sc\u001b[39m:\u001b[32m3\u001b[39m)\n  ammonite.$sess.cmd28$Helper.sum(\u001b[32mcmd28.sc\u001b[39m:\u001b[32m3\u001b[39m)\n  ammonite.$sess.cmd28$Helper.sum(\u001b[32mcmd28.sc\u001b[39m:\u001b[32m3\u001b[39m)\n  ammonite.$sess.cmd28$Helper.sum(\u001b[32mcmd28.sc\u001b[39m:\u001b[32m3\u001b[39m)\n  ammonite.$sess.cmd28$Helper.sum(\u001b[32mcmd28.sc\u001b[39m:\u001b[32m3\u001b[39m)\n  ammonite.$sess.cmd28$Helper.sum(\u001b[32mcmd28.sc\u001b[39m:\u001b[32m3\u001b[39m)\n  ammonite.$sess.cmd28$Helper.sum(\u001b[32mcmd28.sc\u001b[39m:\u001b[32m3\u001b[39m)\n  ammonite.$sess.cmd28$Helper.sum(\u001b[32mcmd28.sc\u001b[39m:\u001b[32m3\u001b[39m)\n  ammonite.$sess.cmd28$Helper.sum(\u001b[32mcmd28.sc\u001b[39m:\u001b[32m3\u001b[39m)\n  ammonite.$sess.cmd28$Helper.sum(\u001b[32mcmd28.sc\u001b[39m:\u001b[32m3\u001b[39m)\n  ammonite.$sess.cmd28$Helper.sum(\u001b[32mcmd28.sc\u001b[39m:\u001b[32m3\u001b[39m)\n  ammonite.$sess.cmd28$Helper.sum(\u001b[32mcmd28.sc\u001b[39m:\u001b[32m3\u001b[39m)\n  ammonite.$sess.cmd28$Helper.sum(\u001b[32mcmd28.sc\u001b[39m:\u001b[32m3\u001b[39m)\n  ammonite.$sess.cmd28$Helper.sum(\u001b[32mcmd28.sc\u001b[39m:\u001b[32m3\u001b[39m)\n  ammonite.$sess.cmd28$Helper.sum(\u001b[32mcmd28.sc\u001b[39m:\u001b[32m3\u001b[39m)\n  ammonite.$sess.cmd28$Helper.sum(\u001b[32mcmd28.sc\u001b[39m:\u001b[32m3\u001b[39m)\n  ammonite.$sess.cmd28$Helper.sum(\u001b[32mcmd28.sc\u001b[39m:\u001b[32m3\u001b[39m)\n  ammonite.$sess.cmd28$Helper.sum(\u001b[32mcmd28.sc\u001b[39m:\u001b[32m3\u001b[39m)\n  ammonite.$sess.cmd28$Helper.sum(\u001b[32mcmd28.sc\u001b[39m:\u001b[32m3\u001b[39m)\n  ammonite.$sess.cmd28$Helper.sum(\u001b[32mcmd28.sc\u001b[39m:\u001b[32m3\u001b[39m)\n  ammonite.$sess.cmd28$Helper.sum(\u001b[32mcmd28.sc\u001b[39m:\u001b[32m3\u001b[39m)\n  ammonite.$sess.cmd28$Helper.sum(\u001b[32mcmd28.sc\u001b[39m:\u001b[32m3\u001b[39m)\n  ammonite.$sess.cmd28$Helper.sum(\u001b[32mcmd28.sc\u001b[39m:\u001b[32m3\u001b[39m)\n  ammonite.$sess.cmd28$Helper.sum(\u001b[32mcmd28.sc\u001b[39m:\u001b[32m3\u001b[39m)\n  ammonite.$sess.cmd28$Helper.sum(\u001b[32mcmd28.sc\u001b[39m:\u001b[32m3\u001b[39m)\n  ammonite.$sess.cmd28$Helper.sum(\u001b[32mcmd28.sc\u001b[39m:\u001b[32m3\u001b[39m)\n  ammonite.$sess.cmd28$Helper.sum(\u001b[32mcmd28.sc\u001b[39m:\u001b[32m3\u001b[39m)\n  ammonite.$sess.cmd28$Helper.sum(\u001b[32mcmd28.sc\u001b[39m:\u001b[32m3\u001b[39m)\n  ammonite.$sess.cmd28$Helper.sum(\u001b[32mcmd28.sc\u001b[39m:\u001b[32m3\u001b[39m)\n  ammonite.$sess.cmd28$Helper.sum(\u001b[32mcmd28.sc\u001b[39m:\u001b[32m3\u001b[39m)\n  ammonite.$sess.cmd28$Helper.sum(\u001b[32mcmd28.sc\u001b[39m:\u001b[32m3\u001b[39m)\n  ammonite.$sess.cmd28$Helper.sum(\u001b[32mcmd28.sc\u001b[39m:\u001b[32m3\u001b[39m)\n  ammonite.$sess.cmd28$Helper.sum(\u001b[32mcmd28.sc\u001b[39m:\u001b[32m3\u001b[39m)\n  ammonite.$sess.cmd28$Helper.sum(\u001b[32mcmd28.sc\u001b[39m:\u001b[32m3\u001b[39m)\n  ammonite.$sess.cmd28$Helper.sum(\u001b[32mcmd28.sc\u001b[39m:\u001b[32m3\u001b[39m)\n  ammonite.$sess.cmd28$Helper.sum(\u001b[32mcmd28.sc\u001b[39m:\u001b[32m3\u001b[39m)\n  ammonite.$sess.cmd28$Helper.sum(\u001b[32mcmd28.sc\u001b[39m:\u001b[32m3\u001b[39m)\n  ammonite.$sess.cmd28$Helper.sum(\u001b[32mcmd28.sc\u001b[39m:\u001b[32m3\u001b[39m)\n  ammonite.$sess.cmd28$Helper.sum(\u001b[32mcmd28.sc\u001b[39m:\u001b[32m3\u001b[39m)\n  ammonite.$sess.cmd28$Helper.sum(\u001b[32mcmd28.sc\u001b[39m:\u001b[32m3\u001b[39m)\n  ammonite.$sess.cmd28$Helper.sum(\u001b[32mcmd28.sc\u001b[39m:\u001b[32m3\u001b[39m)\n  ammonite.$sess.cmd28$Helper.sum(\u001b[32mcmd28.sc\u001b[39m:\u001b[32m3\u001b[39m)\n  ammonite.$sess.cmd28$Helper.sum(\u001b[32mcmd28.sc\u001b[39m:\u001b[32m3\u001b[39m)\n  ammonite.$sess.cmd28$Helper.sum(\u001b[32mcmd28.sc\u001b[39m:\u001b[32m3\u001b[39m)\n  ammonite.$sess.cmd28$Helper.sum(\u001b[32mcmd28.sc\u001b[39m:\u001b[32m3\u001b[39m)\n  ammonite.$sess.cmd28$Helper.sum(\u001b[32mcmd28.sc\u001b[39m:\u001b[32m3\u001b[39m)\n  ammonite.$sess.cmd28$Helper.sum(\u001b[32mcmd28.sc\u001b[39m:\u001b[32m3\u001b[39m)\n  ammonite.$sess.cmd28$Helper.sum(\u001b[32mcmd28.sc\u001b[39m:\u001b[32m3\u001b[39m)\n  ammonite.$sess.cmd28$Helper.sum(\u001b[32mcmd28.sc\u001b[39m:\u001b[32m3\u001b[39m)\n  ammonite.$sess.cmd28$Helper.sum(\u001b[32mcmd28.sc\u001b[39m:\u001b[32m3\u001b[39m)\n  ammonite.$sess.cmd28$Helper.sum(\u001b[32mcmd28.sc\u001b[39m:\u001b[32m3\u001b[39m)\n  ammonite.$sess.cmd28$Helper.sum(\u001b[32mcmd28.sc\u001b[39m:\u001b[32m3\u001b[39m)\n  ammonite.$sess.cmd28$Helper.sum(\u001b[32mcmd28.sc\u001b[39m:\u001b[32m3\u001b[39m)\n  ammonite.$sess.cmd28$Helper.sum(\u001b[32mcmd28.sc\u001b[39m:\u001b[32m3\u001b[39m)\n  ammonite.$sess.cmd28$Helper.sum(\u001b[32mcmd28.sc\u001b[39m:\u001b[32m3\u001b[39m)\n  ammonite.$sess.cmd28$Helper.sum(\u001b[32mcmd28.sc\u001b[39m:\u001b[32m3\u001b[39m)\n  ammonite.$sess.cmd28$Helper.sum(\u001b[32mcmd28.sc\u001b[39m:\u001b[32m3\u001b[39m)\n  ammonite.$sess.cmd28$Helper.sum(\u001b[32mcmd28.sc\u001b[39m:\u001b[32m3\u001b[39m)\n  ammonite.$sess.cmd28$Helper.sum(\u001b[32mcmd28.sc\u001b[39m:\u001b[32m3\u001b[39m)\n  ammonite.$sess.cmd28$Helper.sum(\u001b[32mcmd28.sc\u001b[39m:\u001b[32m3\u001b[39m)\n  ammonite.$sess.cmd28$Helper.sum(\u001b[32mcmd28.sc\u001b[39m:\u001b[32m3\u001b[39m)\n  ammonite.$sess.cmd28$Helper.sum(\u001b[32mcmd28.sc\u001b[39m:\u001b[32m3\u001b[39m)\n  ammonite.$sess.cmd28$Helper.sum(\u001b[32mcmd28.sc\u001b[39m:\u001b[32m3\u001b[39m)\n  ammonite.$sess.cmd28$Helper.sum(\u001b[32mcmd28.sc\u001b[39m:\u001b[32m3\u001b[39m)\n  ammonite.$sess.cmd28$Helper.sum(\u001b[32mcmd28.sc\u001b[39m:\u001b[32m3\u001b[39m)\n  ammonite.$sess.cmd28$Helper.sum(\u001b[32mcmd28.sc\u001b[39m:\u001b[32m3\u001b[39m)\n  ammonite.$sess.cmd28$Helper.sum(\u001b[32mcmd28.sc\u001b[39m:\u001b[32m3\u001b[39m)\n  ammonite.$sess.cmd28$Helper.sum(\u001b[32mcmd28.sc\u001b[39m:\u001b[32m3\u001b[39m)\n  ammonite.$sess.cmd28$Helper.sum(\u001b[32mcmd28.sc\u001b[39m:\u001b[32m3\u001b[39m)\n  ammonite.$sess.cmd28$Helper.sum(\u001b[32mcmd28.sc\u001b[39m:\u001b[32m3\u001b[39m)\n  ammonite.$sess.cmd28$Helper.sum(\u001b[32mcmd28.sc\u001b[39m:\u001b[32m3\u001b[39m)\n  ammonite.$sess.cmd28$Helper.sum(\u001b[32mcmd28.sc\u001b[39m:\u001b[32m3\u001b[39m)\n  ammonite.$sess.cmd28$Helper.sum(\u001b[32mcmd28.sc\u001b[39m:\u001b[32m3\u001b[39m)\n  ammonite.$sess.cmd28$Helper.sum(\u001b[32mcmd28.sc\u001b[39m:\u001b[32m3\u001b[39m)\n  ammonite.$sess.cmd28$Helper.sum(\u001b[32mcmd28.sc\u001b[39m:\u001b[32m3\u001b[39m)\n  ammonite.$sess.cmd28$Helper.sum(\u001b[32mcmd28.sc\u001b[39m:\u001b[32m3\u001b[39m)\n  ammonite.$sess.cmd28$Helper.sum(\u001b[32mcmd28.sc\u001b[39m:\u001b[32m3\u001b[39m)\n  ammonite.$sess.cmd28$Helper.sum(\u001b[32mcmd28.sc\u001b[39m:\u001b[32m3\u001b[39m)\n  ammonite.$sess.cmd28$Helper.sum(\u001b[32mcmd28.sc\u001b[39m:\u001b[32m3\u001b[39m)\n  ammonite.$sess.cmd28$Helper.sum(\u001b[32mcmd28.sc\u001b[39m:\u001b[32m3\u001b[39m)\n  ammonite.$sess.cmd28$Helper.sum(\u001b[32mcmd28.sc\u001b[39m:\u001b[32m3\u001b[39m)\n  ammonite.$sess.cmd28$Helper.sum(\u001b[32mcmd28.sc\u001b[39m:\u001b[32m3\u001b[39m)\n  ammonite.$sess.cmd28$Helper.sum(\u001b[32mcmd28.sc\u001b[39m:\u001b[32m3\u001b[39m)\n  ammonite.$sess.cmd28$Helper.sum(\u001b[32mcmd28.sc\u001b[39m:\u001b[32m3\u001b[39m)\n  ammonite.$sess.cmd28$Helper.sum(\u001b[32mcmd28.sc\u001b[39m:\u001b[32m3\u001b[39m)\n  ammonite.$sess.cmd28$Helper.sum(\u001b[32mcmd28.sc\u001b[39m:\u001b[32m3\u001b[39m)\n  ammonite.$sess.cmd28$Helper.sum(\u001b[32mcmd28.sc\u001b[39m:\u001b[32m3\u001b[39m)\n  ammonite.$sess.cmd28$Helper.sum(\u001b[32mcmd28.sc\u001b[39m:\u001b[32m3\u001b[39m)\n  ammonite.$sess.cmd28$Helper.sum(\u001b[32mcmd28.sc\u001b[39m:\u001b[32m3\u001b[39m)\n  ammonite.$sess.cmd28$Helper.sum(\u001b[32mcmd28.sc\u001b[39m:\u001b[32m3\u001b[39m)\n  ammonite.$sess.cmd28$Helper.sum(\u001b[32mcmd28.sc\u001b[39m:\u001b[32m3\u001b[39m)\n  ammonite.$sess.cmd28$Helper.sum(\u001b[32mcmd28.sc\u001b[39m:\u001b[32m3\u001b[39m)\n  ammonite.$sess.cmd28$Helper.sum(\u001b[32mcmd28.sc\u001b[39m:\u001b[32m3\u001b[39m)\n  ammonite.$sess.cmd28$Helper.sum(\u001b[32mcmd28.sc\u001b[39m:\u001b[32m3\u001b[39m)\n  ammonite.$sess.cmd28$Helper.sum(\u001b[32mcmd28.sc\u001b[39m:\u001b[32m3\u001b[39m)\n  ammonite.$sess.cmd28$Helper.sum(\u001b[32mcmd28.sc\u001b[39m:\u001b[32m3\u001b[39m)\n  ammonite.$sess.cmd28$Helper.sum(\u001b[32mcmd28.sc\u001b[39m:\u001b[32m3\u001b[39m)\n  ammonite.$sess.cmd28$Helper.sum(\u001b[32mcmd28.sc\u001b[39m:\u001b[32m3\u001b[39m)\n  ammonite.$sess.cmd28$Helper.sum(\u001b[32mcmd28.sc\u001b[39m:\u001b[32m3\u001b[39m)\n  ammonite.$sess.cmd28$Helper.sum(\u001b[32mcmd28.sc\u001b[39m:\u001b[32m3\u001b[39m)\n  ammonite.$sess.cmd28$Helper.sum(\u001b[32mcmd28.sc\u001b[39m:\u001b[32m3\u001b[39m)\n  ammonite.$sess.cmd28$Helper.sum(\u001b[32mcmd28.sc\u001b[39m:\u001b[32m3\u001b[39m)\n  ammonite.$sess.cmd28$Helper.sum(\u001b[32mcmd28.sc\u001b[39m:\u001b[32m3\u001b[39m)\n  ammonite.$sess.cmd28$Helper.sum(\u001b[32mcmd28.sc\u001b[39m:\u001b[32m3\u001b[39m)\n  ammonite.$sess.cmd28$Helper.sum(\u001b[32mcmd28.sc\u001b[39m:\u001b[32m3\u001b[39m)\n  ammonite.$sess.cmd28$Helper.sum(\u001b[32mcmd28.sc\u001b[39m:\u001b[32m3\u001b[39m)\n  ammonite.$sess.cmd28$Helper.sum(\u001b[32mcmd28.sc\u001b[39m:\u001b[32m3\u001b[39m)\n  ammonite.$sess.cmd28$Helper.sum(\u001b[32mcmd28.sc\u001b[39m:\u001b[32m3\u001b[39m)\n  ammonite.$sess.cmd28$Helper.sum(\u001b[32mcmd28.sc\u001b[39m:\u001b[32m3\u001b[39m)\n  ammonite.$sess.cmd28$Helper.sum(\u001b[32mcmd28.sc\u001b[39m:\u001b[32m3\u001b[39m)\n  ammonite.$sess.cmd28$Helper.sum(\u001b[32mcmd28.sc\u001b[39m:\u001b[32m3\u001b[39m)\n  ammonite.$sess.cmd28$Helper.sum(\u001b[32mcmd28.sc\u001b[39m:\u001b[32m3\u001b[39m)\n  ammonite.$sess.cmd28$Helper.sum(\u001b[32mcmd28.sc\u001b[39m:\u001b[32m3\u001b[39m)\n  ammonite.$sess.cmd28$Helper.sum(\u001b[32mcmd28.sc\u001b[39m:\u001b[32m3\u001b[39m)\n  ammonite.$sess.cmd28$Helper.sum(\u001b[32mcmd28.sc\u001b[39m:\u001b[32m3\u001b[39m)\n  ammonite.$sess.cmd28$Helper.sum(\u001b[32mcmd28.sc\u001b[39m:\u001b[32m3\u001b[39m)\n  ammonite.$sess.cmd28$Helper.sum(\u001b[32mcmd28.sc\u001b[39m:\u001b[32m3\u001b[39m)\n  ammonite.$sess.cmd28$Helper.sum(\u001b[32mcmd28.sc\u001b[39m:\u001b[32m3\u001b[39m)\n  ammonite.$sess.cmd28$Helper.sum(\u001b[32mcmd28.sc\u001b[39m:\u001b[32m3\u001b[39m)\n  ammonite.$sess.cmd28$Helper.sum(\u001b[32mcmd28.sc\u001b[39m:\u001b[32m3\u001b[39m)\n  ammonite.$sess.cmd28$Helper.sum(\u001b[32mcmd28.sc\u001b[39m:\u001b[32m3\u001b[39m)\n  ammonite.$sess.cmd28$Helper.sum(\u001b[32mcmd28.sc\u001b[39m:\u001b[32m3\u001b[39m)\n  ammonite.$sess.cmd28$Helper.sum(\u001b[32mcmd28.sc\u001b[39m:\u001b[32m3\u001b[39m)\n  ammonite.$sess.cmd28$Helper.sum(\u001b[32mcmd28.sc\u001b[39m:\u001b[32m3\u001b[39m)\n  ammonite.$sess.cmd28$Helper.sum(\u001b[32mcmd28.sc\u001b[39m:\u001b[32m3\u001b[39m)\n  ammonite.$sess.cmd28$Helper.sum(\u001b[32mcmd28.sc\u001b[39m:\u001b[32m3\u001b[39m)\n  ammonite.$sess.cmd28$Helper.sum(\u001b[32mcmd28.sc\u001b[39m:\u001b[32m3\u001b[39m)\n  ammonite.$sess.cmd28$Helper.sum(\u001b[32mcmd28.sc\u001b[39m:\u001b[32m3\u001b[39m)\n  ammonite.$sess.cmd28$Helper.sum(\u001b[32mcmd28.sc\u001b[39m:\u001b[32m3\u001b[39m)\n  ammonite.$sess.cmd28$Helper.sum(\u001b[32mcmd28.sc\u001b[39m:\u001b[32m3\u001b[39m)\n  ammonite.$sess.cmd28$Helper.sum(\u001b[32mcmd28.sc\u001b[39m:\u001b[32m3\u001b[39m)\n  ammonite.$sess.cmd28$Helper.sum(\u001b[32mcmd28.sc\u001b[39m:\u001b[32m3\u001b[39m)\n  ammonite.$sess.cmd28$Helper.sum(\u001b[32mcmd28.sc\u001b[39m:\u001b[32m3\u001b[39m)\n  ammonite.$sess.cmd28$Helper.sum(\u001b[32mcmd28.sc\u001b[39m:\u001b[32m3\u001b[39m)\n  ammonite.$sess.cmd28$Helper.sum(\u001b[32mcmd28.sc\u001b[39m:\u001b[32m3\u001b[39m)\n  ammonite.$sess.cmd28$Helper.sum(\u001b[32mcmd28.sc\u001b[39m:\u001b[32m3\u001b[39m)\n  ammonite.$sess.cmd28$Helper.sum(\u001b[32mcmd28.sc\u001b[39m:\u001b[32m3\u001b[39m)\n  ammonite.$sess.cmd28$Helper.sum(\u001b[32mcmd28.sc\u001b[39m:\u001b[32m3\u001b[39m)\n  ammonite.$sess.cmd28$Helper.sum(\u001b[32mcmd28.sc\u001b[39m:\u001b[32m3\u001b[39m)\n  ammonite.$sess.cmd28$Helper.sum(\u001b[32mcmd28.sc\u001b[39m:\u001b[32m3\u001b[39m)\n  ammonite.$sess.cmd28$Helper.sum(\u001b[32mcmd28.sc\u001b[39m:\u001b[32m3\u001b[39m)\n  ammonite.$sess.cmd28$Helper.sum(\u001b[32mcmd28.sc\u001b[39m:\u001b[32m3\u001b[39m)\n  ammonite.$sess.cmd28$Helper.sum(\u001b[32mcmd28.sc\u001b[39m:\u001b[32m3\u001b[39m)\n  ammonite.$sess.cmd28$Helper.sum(\u001b[32mcmd28.sc\u001b[39m:\u001b[32m3\u001b[39m)\n  ammonite.$sess.cmd28$Helper.sum(\u001b[32mcmd28.sc\u001b[39m:\u001b[32m3\u001b[39m)\n  ammonite.$sess.cmd28$Helper.sum(\u001b[32mcmd28.sc\u001b[39m:\u001b[32m3\u001b[39m)\n  ammonite.$sess.cmd28$Helper.sum(\u001b[32mcmd28.sc\u001b[39m:\u001b[32m3\u001b[39m)\n  ammonite.$sess.cmd28$Helper.sum(\u001b[32mcmd28.sc\u001b[39m:\u001b[32m3\u001b[39m)\n  ammonite.$sess.cmd28$Helper.sum(\u001b[32mcmd28.sc\u001b[39m:\u001b[32m3\u001b[39m)\n  ammonite.$sess.cmd28$Helper.sum(\u001b[32mcmd28.sc\u001b[39m:\u001b[32m3\u001b[39m)\n  ammonite.$sess.cmd28$Helper.sum(\u001b[32mcmd28.sc\u001b[39m:\u001b[32m3\u001b[39m)\n  ammonite.$sess.cmd28$Helper.sum(\u001b[32mcmd28.sc\u001b[39m:\u001b[32m3\u001b[39m)\n  ammonite.$sess.cmd28$Helper.sum(\u001b[32mcmd28.sc\u001b[39m:\u001b[32m3\u001b[39m)\n  ammonite.$sess.cmd28$Helper.sum(\u001b[32mcmd28.sc\u001b[39m:\u001b[32m3\u001b[39m)\n  ammonite.$sess.cmd28$Helper.sum(\u001b[32mcmd28.sc\u001b[39m:\u001b[32m3\u001b[39m)\n  ammonite.$sess.cmd28$Helper.sum(\u001b[32mcmd28.sc\u001b[39m:\u001b[32m3\u001b[39m)\n  ammonite.$sess.cmd28$Helper.sum(\u001b[32mcmd28.sc\u001b[39m:\u001b[32m3\u001b[39m)\n  ammonite.$sess.cmd28$Helper.sum(\u001b[32mcmd28.sc\u001b[39m:\u001b[32m3\u001b[39m)\n  ammonite.$sess.cmd28$Helper.sum(\u001b[32mcmd28.sc\u001b[39m:\u001b[32m3\u001b[39m)\n  ammonite.$sess.cmd28$Helper.sum(\u001b[32mcmd28.sc\u001b[39m:\u001b[32m3\u001b[39m)\n  ammonite.$sess.cmd28$Helper.sum(\u001b[32mcmd28.sc\u001b[39m:\u001b[32m3\u001b[39m)\n  ammonite.$sess.cmd28$Helper.sum(\u001b[32mcmd28.sc\u001b[39m:\u001b[32m3\u001b[39m)\n  ammonite.$sess.cmd28$Helper.sum(\u001b[32mcmd28.sc\u001b[39m:\u001b[32m3\u001b[39m)\n  ammonite.$sess.cmd28$Helper.sum(\u001b[32mcmd28.sc\u001b[39m:\u001b[32m3\u001b[39m)\n  ammonite.$sess.cmd28$Helper.sum(\u001b[32mcmd28.sc\u001b[39m:\u001b[32m3\u001b[39m)\n  ammonite.$sess.cmd28$Helper.sum(\u001b[32mcmd28.sc\u001b[39m:\u001b[32m3\u001b[39m)\n  ammonite.$sess.cmd28$Helper.sum(\u001b[32mcmd28.sc\u001b[39m:\u001b[32m3\u001b[39m)\n  ammonite.$sess.cmd28$Helper.sum(\u001b[32mcmd28.sc\u001b[39m:\u001b[32m3\u001b[39m)\n  ammonite.$sess.cmd28$Helper.sum(\u001b[32mcmd28.sc\u001b[39m:\u001b[32m3\u001b[39m)\n  ammonite.$sess.cmd28$Helper.sum(\u001b[32mcmd28.sc\u001b[39m:\u001b[32m3\u001b[39m)\n  ammonite.$sess.cmd28$Helper.sum(\u001b[32mcmd28.sc\u001b[39m:\u001b[32m3\u001b[39m)\n  ammonite.$sess.cmd28$Helper.sum(\u001b[32mcmd28.sc\u001b[39m:\u001b[32m3\u001b[39m)\n  ammonite.$sess.cmd28$Helper.sum(\u001b[32mcmd28.sc\u001b[39m:\u001b[32m3\u001b[39m)\n  ammonite.$sess.cmd28$Helper.sum(\u001b[32mcmd28.sc\u001b[39m:\u001b[32m3\u001b[39m)\n  ammonite.$sess.cmd28$Helper.sum(\u001b[32mcmd28.sc\u001b[39m:\u001b[32m3\u001b[39m)\n  ammonite.$sess.cmd28$Helper.sum(\u001b[32mcmd28.sc\u001b[39m:\u001b[32m3\u001b[39m)\n  ammonite.$sess.cmd28$Helper.sum(\u001b[32mcmd28.sc\u001b[39m:\u001b[32m3\u001b[39m)\n  ammonite.$sess.cmd28$Helper.sum(\u001b[32mcmd28.sc\u001b[39m:\u001b[32m3\u001b[39m)\n  ammonite.$sess.cmd28$Helper.sum(\u001b[32mcmd28.sc\u001b[39m:\u001b[32m3\u001b[39m)\n  ammonite.$sess.cmd28$Helper.sum(\u001b[32mcmd28.sc\u001b[39m:\u001b[32m3\u001b[39m)\n  ammonite.$sess.cmd28$Helper.sum(\u001b[32mcmd28.sc\u001b[39m:\u001b[32m3\u001b[39m)\n  ammonite.$sess.cmd28$Helper.sum(\u001b[32mcmd28.sc\u001b[39m:\u001b[32m3\u001b[39m)\n  ammonite.$sess.cmd28$Helper.sum(\u001b[32mcmd28.sc\u001b[39m:\u001b[32m3\u001b[39m)\n  ammonite.$sess.cmd28$Helper.sum(\u001b[32mcmd28.sc\u001b[39m:\u001b[32m3\u001b[39m)\n  ammonite.$sess.cmd28$Helper.sum(\u001b[32mcmd28.sc\u001b[39m:\u001b[32m3\u001b[39m)\n  ammonite.$sess.cmd28$Helper.sum(\u001b[32mcmd28.sc\u001b[39m:\u001b[32m3\u001b[39m)\n  ammonite.$sess.cmd28$Helper.sum(\u001b[32mcmd28.sc\u001b[39m:\u001b[32m3\u001b[39m)\n  ammonite.$sess.cmd28$Helper.sum(\u001b[32mcmd28.sc\u001b[39m:\u001b[32m3\u001b[39m)\n  ammonite.$sess.cmd28$Helper.sum(\u001b[32mcmd28.sc\u001b[39m:\u001b[32m3\u001b[39m)\n  ammonite.$sess.cmd28$Helper.sum(\u001b[32mcmd28.sc\u001b[39m:\u001b[32m3\u001b[39m)\n  ammonite.$sess.cmd28$Helper.sum(\u001b[32mcmd28.sc\u001b[39m:\u001b[32m3\u001b[39m)\n  ammonite.$sess.cmd28$Helper.sum(\u001b[32mcmd28.sc\u001b[39m:\u001b[32m3\u001b[39m)\n  ammonite.$sess.cmd28$Helper.sum(\u001b[32mcmd28.sc\u001b[39m:\u001b[32m3\u001b[39m)\n  ammonite.$sess.cmd28$Helper.sum(\u001b[32mcmd28.sc\u001b[39m:\u001b[32m3\u001b[39m)\n  ammonite.$sess.cmd28$Helper.sum(\u001b[32mcmd28.sc\u001b[39m:\u001b[32m3\u001b[39m)\n  ammonite.$sess.cmd28$Helper.sum(\u001b[32mcmd28.sc\u001b[39m:\u001b[32m3\u001b[39m)\n  ammonite.$sess.cmd28$Helper.sum(\u001b[32mcmd28.sc\u001b[39m:\u001b[32m3\u001b[39m)\n  ammonite.$sess.cmd28$Helper.sum(\u001b[32mcmd28.sc\u001b[39m:\u001b[32m3\u001b[39m)\n  ammonite.$sess.cmd28$Helper.sum(\u001b[32mcmd28.sc\u001b[39m:\u001b[32m3\u001b[39m)\n  ammonite.$sess.cmd28$Helper.sum(\u001b[32mcmd28.sc\u001b[39m:\u001b[32m3\u001b[39m)\n  ammonite.$sess.cmd28$Helper.sum(\u001b[32mcmd28.sc\u001b[39m:\u001b[32m3\u001b[39m)\n  ammonite.$sess.cmd28$Helper.sum(\u001b[32mcmd28.sc\u001b[39m:\u001b[32m3\u001b[39m)\n  ammonite.$sess.cmd28$Helper.sum(\u001b[32mcmd28.sc\u001b[39m:\u001b[32m3\u001b[39m)\n  ammonite.$sess.cmd28$Helper.sum(\u001b[32mcmd28.sc\u001b[39m:\u001b[32m3\u001b[39m)\n  ammonite.$sess.cmd28$Helper.sum(\u001b[32mcmd28.sc\u001b[39m:\u001b[32m3\u001b[39m)\n  ammonite.$sess.cmd28$Helper.sum(\u001b[32mcmd28.sc\u001b[39m:\u001b[32m3\u001b[39m)\n  ammonite.$sess.cmd28$Helper.sum(\u001b[32mcmd28.sc\u001b[39m:\u001b[32m3\u001b[39m)\n  ammonite.$sess.cmd28$Helper.sum(\u001b[32mcmd28.sc\u001b[39m:\u001b[32m3\u001b[39m)\n  ammonite.$sess.cmd28$Helper.sum(\u001b[32mcmd28.sc\u001b[39m:\u001b[32m3\u001b[39m)\n  ammonite.$sess.cmd28$Helper.sum(\u001b[32mcmd28.sc\u001b[39m:\u001b[32m3\u001b[39m)\n  ammonite.$sess.cmd28$Helper.sum(\u001b[32mcmd28.sc\u001b[39m:\u001b[32m3\u001b[39m)\n  ammonite.$sess.cmd28$Helper.sum(\u001b[32mcmd28.sc\u001b[39m:\u001b[32m3\u001b[39m)\n  ammonite.$sess.cmd28$Helper.sum(\u001b[32mcmd28.sc\u001b[39m:\u001b[32m3\u001b[39m)\n  ammonite.$sess.cmd28$Helper.sum(\u001b[32mcmd28.sc\u001b[39m:\u001b[32m3\u001b[39m)\n  ammonite.$sess.cmd28$Helper.sum(\u001b[32mcmd28.sc\u001b[39m:\u001b[32m3\u001b[39m)\n  ammonite.$sess.cmd28$Helper.sum(\u001b[32mcmd28.sc\u001b[39m:\u001b[32m3\u001b[39m)\n  ammonite.$sess.cmd28$Helper.sum(\u001b[32mcmd28.sc\u001b[39m:\u001b[32m3\u001b[39m)\n  ammonite.$sess.cmd28$Helper.sum(\u001b[32mcmd28.sc\u001b[39m:\u001b[32m3\u001b[39m)\n  ammonite.$sess.cmd28$Helper.sum(\u001b[32mcmd28.sc\u001b[39m:\u001b[32m3\u001b[39m)\n  ammonite.$sess.cmd28$Helper.sum(\u001b[32mcmd28.sc\u001b[39m:\u001b[32m3\u001b[39m)\n  ammonite.$sess.cmd28$Helper.sum(\u001b[32mcmd28.sc\u001b[39m:\u001b[32m3\u001b[39m)\n  ammonite.$sess.cmd28$Helper.sum(\u001b[32mcmd28.sc\u001b[39m:\u001b[32m3\u001b[39m)\n  ammonite.$sess.cmd28$Helper.sum(\u001b[32mcmd28.sc\u001b[39m:\u001b[32m3\u001b[39m)\n  ammonite.$sess.cmd28$Helper.sum(\u001b[32mcmd28.sc\u001b[39m:\u001b[32m3\u001b[39m)\n  ammonite.$sess.cmd28$Helper.sum(\u001b[32mcmd28.sc\u001b[39m:\u001b[32m3\u001b[39m)\n  ammonite.$sess.cmd28$Helper.sum(\u001b[32mcmd28.sc\u001b[39m:\u001b[32m3\u001b[39m)\n  ammonite.$sess.cmd28$Helper.sum(\u001b[32mcmd28.sc\u001b[39m:\u001b[32m3\u001b[39m)\n  ammonite.$sess.cmd28$Helper.sum(\u001b[32mcmd28.sc\u001b[39m:\u001b[32m3\u001b[39m)\n  ammonite.$sess.cmd28$Helper.sum(\u001b[32mcmd28.sc\u001b[39m:\u001b[32m3\u001b[39m)\n  ammonite.$sess.cmd28$Helper.sum(\u001b[32mcmd28.sc\u001b[39m:\u001b[32m3\u001b[39m)\n  ammonite.$sess.cmd28$Helper.sum(\u001b[32mcmd28.sc\u001b[39m:\u001b[32m3\u001b[39m)\n  ammonite.$sess.cmd28$Helper.sum(\u001b[32mcmd28.sc\u001b[39m:\u001b[32m3\u001b[39m)\n  ammonite.$sess.cmd28$Helper.sum(\u001b[32mcmd28.sc\u001b[39m:\u001b[32m3\u001b[39m)\n  ammonite.$sess.cmd28$Helper.sum(\u001b[32mcmd28.sc\u001b[39m:\u001b[32m3\u001b[39m)\n  ammonite.$sess.cmd28$Helper.sum(\u001b[32mcmd28.sc\u001b[39m:\u001b[32m3\u001b[39m)\n  ammonite.$sess.cmd28$Helper.sum(\u001b[32mcmd28.sc\u001b[39m:\u001b[32m3\u001b[39m)\n  ammonite.$sess.cmd28$Helper.sum(\u001b[32mcmd28.sc\u001b[39m:\u001b[32m3\u001b[39m)\n  ammonite.$sess.cmd28$Helper.sum(\u001b[32mcmd28.sc\u001b[39m:\u001b[32m3\u001b[39m)\n  ammonite.$sess.cmd28$Helper.sum(\u001b[32mcmd28.sc\u001b[39m:\u001b[32m3\u001b[39m)\n  ammonite.$sess.cmd28$Helper.sum(\u001b[32mcmd28.sc\u001b[39m:\u001b[32m3\u001b[39m)\n  ammonite.$sess.cmd28$Helper.sum(\u001b[32mcmd28.sc\u001b[39m:\u001b[32m3\u001b[39m)\n  ammonite.$sess.cmd28$Helper.sum(\u001b[32mcmd28.sc\u001b[39m:\u001b[32m3\u001b[39m)\n  ammonite.$sess.cmd28$Helper.sum(\u001b[32mcmd28.sc\u001b[39m:\u001b[32m3\u001b[39m)\n  ammonite.$sess.cmd28$Helper.sum(\u001b[32mcmd28.sc\u001b[39m:\u001b[32m3\u001b[39m)\n  ammonite.$sess.cmd28$Helper.sum(\u001b[32mcmd28.sc\u001b[39m:\u001b[32m3\u001b[39m)\n  ammonite.$sess.cmd28$Helper.sum(\u001b[32mcmd28.sc\u001b[39m:\u001b[32m3\u001b[39m)\n  ammonite.$sess.cmd28$Helper.sum(\u001b[32mcmd28.sc\u001b[39m:\u001b[32m3\u001b[39m)\n  ammonite.$sess.cmd28$Helper.sum(\u001b[32mcmd28.sc\u001b[39m:\u001b[32m3\u001b[39m)\n  ammonite.$sess.cmd28$Helper.sum(\u001b[32mcmd28.sc\u001b[39m:\u001b[32m3\u001b[39m)\n  ammonite.$sess.cmd28$Helper.sum(\u001b[32mcmd28.sc\u001b[39m:\u001b[32m3\u001b[39m)\n  ammonite.$sess.cmd28$Helper.sum(\u001b[32mcmd28.sc\u001b[39m:\u001b[32m3\u001b[39m)\n  ammonite.$sess.cmd28$Helper.sum(\u001b[32mcmd28.sc\u001b[39m:\u001b[32m3\u001b[39m)\n  ammonite.$sess.cmd28$Helper.sum(\u001b[32mcmd28.sc\u001b[39m:\u001b[32m3\u001b[39m)\n  ammonite.$sess.cmd28$Helper.sum(\u001b[32mcmd28.sc\u001b[39m:\u001b[32m3\u001b[39m)\n  ammonite.$sess.cmd28$Helper.sum(\u001b[32mcmd28.sc\u001b[39m:\u001b[32m3\u001b[39m)\n  ammonite.$sess.cmd28$Helper.sum(\u001b[32mcmd28.sc\u001b[39m:\u001b[32m3\u001b[39m)\n  ammonite.$sess.cmd28$Helper.sum(\u001b[32mcmd28.sc\u001b[39m:\u001b[32m3\u001b[39m)\n  ammonite.$sess.cmd28$Helper.sum(\u001b[32mcmd28.sc\u001b[39m:\u001b[32m3\u001b[39m)\n  ammonite.$sess.cmd28$Helper.sum(\u001b[32mcmd28.sc\u001b[39m:\u001b[32m3\u001b[39m)\n  ammonite.$sess.cmd28$Helper.sum(\u001b[32mcmd28.sc\u001b[39m:\u001b[32m3\u001b[39m)\n  ammonite.$sess.cmd28$Helper.sum(\u001b[32mcmd28.sc\u001b[39m:\u001b[32m3\u001b[39m)\n  ammonite.$sess.cmd28$Helper.sum(\u001b[32mcmd28.sc\u001b[39m:\u001b[32m3\u001b[39m)\n  ammonite.$sess.cmd28$Helper.sum(\u001b[32mcmd28.sc\u001b[39m:\u001b[32m3\u001b[39m)\n  ammonite.$sess.cmd28$Helper.sum(\u001b[32mcmd28.sc\u001b[39m:\u001b[32m3\u001b[39m)\n  ammonite.$sess.cmd28$Helper.sum(\u001b[32mcmd28.sc\u001b[39m:\u001b[32m3\u001b[39m)\n  ammonite.$sess.cmd28$Helper.sum(\u001b[32mcmd28.sc\u001b[39m:\u001b[32m3\u001b[39m)\n  ammonite.$sess.cmd28$Helper.sum(\u001b[32mcmd28.sc\u001b[39m:\u001b[32m3\u001b[39m)\n  ammonite.$sess.cmd28$Helper.sum(\u001b[32mcmd28.sc\u001b[39m:\u001b[32m3\u001b[39m)\n  ammonite.$sess.cmd28$Helper.sum(\u001b[32mcmd28.sc\u001b[39m:\u001b[32m3\u001b[39m)\n  ammonite.$sess.cmd28$Helper.sum(\u001b[32mcmd28.sc\u001b[39m:\u001b[32m3\u001b[39m)\n  ammonite.$sess.cmd28$Helper.sum(\u001b[32mcmd28.sc\u001b[39m:\u001b[32m3\u001b[39m)\n  ammonite.$sess.cmd28$Helper.sum(\u001b[32mcmd28.sc\u001b[39m:\u001b[32m3\u001b[39m)\n  ammonite.$sess.cmd28$Helper.sum(\u001b[32mcmd28.sc\u001b[39m:\u001b[32m3\u001b[39m)\n  ammonite.$sess.cmd28$Helper.sum(\u001b[32mcmd28.sc\u001b[39m:\u001b[32m3\u001b[39m)\n  ammonite.$sess.cmd28$Helper.sum(\u001b[32mcmd28.sc\u001b[39m:\u001b[32m3\u001b[39m)\n  ammonite.$sess.cmd28$Helper.sum(\u001b[32mcmd28.sc\u001b[39m:\u001b[32m3\u001b[39m)\n  ammonite.$sess.cmd28$Helper.sum(\u001b[32mcmd28.sc\u001b[39m:\u001b[32m3\u001b[39m)\n  ammonite.$sess.cmd28$Helper.sum(\u001b[32mcmd28.sc\u001b[39m:\u001b[32m3\u001b[39m)\n  ammonite.$sess.cmd28$Helper.sum(\u001b[32mcmd28.sc\u001b[39m:\u001b[32m3\u001b[39m)\n  ammonite.$sess.cmd28$Helper.sum(\u001b[32mcmd28.sc\u001b[39m:\u001b[32m3\u001b[39m)\n  ammonite.$sess.cmd28$Helper.sum(\u001b[32mcmd28.sc\u001b[39m:\u001b[32m3\u001b[39m)\n  ammonite.$sess.cmd28$Helper.sum(\u001b[32mcmd28.sc\u001b[39m:\u001b[32m3\u001b[39m)\n  ammonite.$sess.cmd28$Helper.sum(\u001b[32mcmd28.sc\u001b[39m:\u001b[32m3\u001b[39m)\n  ammonite.$sess.cmd28$Helper.sum(\u001b[32mcmd28.sc\u001b[39m:\u001b[32m3\u001b[39m)\n  ammonite.$sess.cmd28$Helper.sum(\u001b[32mcmd28.sc\u001b[39m:\u001b[32m3\u001b[39m)\n  ammonite.$sess.cmd28$Helper.sum(\u001b[32mcmd28.sc\u001b[39m:\u001b[32m3\u001b[39m)\n  ammonite.$sess.cmd28$Helper.sum(\u001b[32mcmd28.sc\u001b[39m:\u001b[32m3\u001b[39m)\n  ammonite.$sess.cmd28$Helper.sum(\u001b[32mcmd28.sc\u001b[39m:\u001b[32m3\u001b[39m)\n  ammonite.$sess.cmd28$Helper.sum(\u001b[32mcmd28.sc\u001b[39m:\u001b[32m3\u001b[39m)\n  ammonite.$sess.cmd28$Helper.sum(\u001b[32mcmd28.sc\u001b[39m:\u001b[32m3\u001b[39m)\n  ammonite.$sess.cmd28$Helper.sum(\u001b[32mcmd28.sc\u001b[39m:\u001b[32m3\u001b[39m)\n  ammonite.$sess.cmd28$Helper.sum(\u001b[32mcmd28.sc\u001b[39m:\u001b[32m3\u001b[39m)\n  ammonite.$sess.cmd28$Helper.sum(\u001b[32mcmd28.sc\u001b[39m:\u001b[32m3\u001b[39m)\n  ammonite.$sess.cmd28$Helper.sum(\u001b[32mcmd28.sc\u001b[39m:\u001b[32m3\u001b[39m)\n  ammonite.$sess.cmd28$Helper.sum(\u001b[32mcmd28.sc\u001b[39m:\u001b[32m3\u001b[39m)\n  ammonite.$sess.cmd28$Helper.sum(\u001b[32mcmd28.sc\u001b[39m:\u001b[32m3\u001b[39m)\n  ammonite.$sess.cmd28$Helper.sum(\u001b[32mcmd28.sc\u001b[39m:\u001b[32m3\u001b[39m)\n  ammonite.$sess.cmd28$Helper.sum(\u001b[32mcmd28.sc\u001b[39m:\u001b[32m3\u001b[39m)\n  ammonite.$sess.cmd28$Helper.sum(\u001b[32mcmd28.sc\u001b[39m:\u001b[32m3\u001b[39m)\n  ammonite.$sess.cmd28$Helper.sum(\u001b[32mcmd28.sc\u001b[39m:\u001b[32m3\u001b[39m)\n  ammonite.$sess.cmd28$Helper.sum(\u001b[32mcmd28.sc\u001b[39m:\u001b[32m3\u001b[39m)\n  ammonite.$sess.cmd28$Helper.sum(\u001b[32mcmd28.sc\u001b[39m:\u001b[32m3\u001b[39m)\n  ammonite.$sess.cmd28$Helper.sum(\u001b[32mcmd28.sc\u001b[39m:\u001b[32m3\u001b[39m)\n  ammonite.$sess.cmd28$Helper.sum(\u001b[32mcmd28.sc\u001b[39m:\u001b[32m3\u001b[39m)\n  ammonite.$sess.cmd28$Helper.sum(\u001b[32mcmd28.sc\u001b[39m:\u001b[32m3\u001b[39m)\n  ammonite.$sess.cmd28$Helper.sum(\u001b[32mcmd28.sc\u001b[39m:\u001b[32m3\u001b[39m)\n  ammonite.$sess.cmd28$Helper.sum(\u001b[32mcmd28.sc\u001b[39m:\u001b[32m3\u001b[39m)\n  ammonite.$sess.cmd28$Helper.sum(\u001b[32mcmd28.sc\u001b[39m:\u001b[32m3\u001b[39m)\n  ammonite.$sess.cmd28$Helper.sum(\u001b[32mcmd28.sc\u001b[39m:\u001b[32m3\u001b[39m)\n  ammonite.$sess.cmd28$Helper.sum(\u001b[32mcmd28.sc\u001b[39m:\u001b[32m3\u001b[39m)\n  ammonite.$sess.cmd28$Helper.sum(\u001b[32mcmd28.sc\u001b[39m:\u001b[32m3\u001b[39m)\n  ammonite.$sess.cmd28$Helper.sum(\u001b[32mcmd28.sc\u001b[39m:\u001b[32m3\u001b[39m)\n  ammonite.$sess.cmd28$Helper.sum(\u001b[32mcmd28.sc\u001b[39m:\u001b[32m3\u001b[39m)\n  ammonite.$sess.cmd28$Helper.sum(\u001b[32mcmd28.sc\u001b[39m:\u001b[32m3\u001b[39m)\n  ammonite.$sess.cmd28$Helper.sum(\u001b[32mcmd28.sc\u001b[39m:\u001b[32m3\u001b[39m)\n  ammonite.$sess.cmd28$Helper.sum(\u001b[32mcmd28.sc\u001b[39m:\u001b[32m3\u001b[39m)\n  ammonite.$sess.cmd28$Helper.sum(\u001b[32mcmd28.sc\u001b[39m:\u001b[32m3\u001b[39m)\n  ammonite.$sess.cmd28$Helper.sum(\u001b[32mcmd28.sc\u001b[39m:\u001b[32m3\u001b[39m)\n  ammonite.$sess.cmd28$Helper.sum(\u001b[32mcmd28.sc\u001b[39m:\u001b[32m3\u001b[39m)\n  ammonite.$sess.cmd28$Helper.sum(\u001b[32mcmd28.sc\u001b[39m:\u001b[32m3\u001b[39m)\n  ammonite.$sess.cmd28$Helper.sum(\u001b[32mcmd28.sc\u001b[39m:\u001b[32m3\u001b[39m)\n  ammonite.$sess.cmd28$Helper.sum(\u001b[32mcmd28.sc\u001b[39m:\u001b[32m3\u001b[39m)\n  ammonite.$sess.cmd28$Helper.sum(\u001b[32mcmd28.sc\u001b[39m:\u001b[32m3\u001b[39m)\n  ammonite.$sess.cmd28$Helper.sum(\u001b[32mcmd28.sc\u001b[39m:\u001b[32m3\u001b[39m)\n  ammonite.$sess.cmd28$Helper.sum(\u001b[32mcmd28.sc\u001b[39m:\u001b[32m3\u001b[39m)\n  ammonite.$sess.cmd28$Helper.sum(\u001b[32mcmd28.sc\u001b[39m:\u001b[32m3\u001b[39m)\n  ammonite.$sess.cmd28$Helper.sum(\u001b[32mcmd28.sc\u001b[39m:\u001b[32m3\u001b[39m)\n  ammonite.$sess.cmd28$Helper.sum(\u001b[32mcmd28.sc\u001b[39m:\u001b[32m3\u001b[39m)\n  ammonite.$sess.cmd28$Helper.sum(\u001b[32mcmd28.sc\u001b[39m:\u001b[32m3\u001b[39m)\n  ammonite.$sess.cmd28$Helper.sum(\u001b[32mcmd28.sc\u001b[39m:\u001b[32m3\u001b[39m)\n  ammonite.$sess.cmd28$Helper.sum(\u001b[32mcmd28.sc\u001b[39m:\u001b[32m3\u001b[39m)\n  ammonite.$sess.cmd28$Helper.sum(\u001b[32mcmd28.sc\u001b[39m:\u001b[32m3\u001b[39m)\n  ammonite.$sess.cmd28$Helper.sum(\u001b[32mcmd28.sc\u001b[39m:\u001b[32m3\u001b[39m)\n  ammonite.$sess.cmd28$Helper.sum(\u001b[32mcmd28.sc\u001b[39m:\u001b[32m3\u001b[39m)\n  ammonite.$sess.cmd28$Helper.sum(\u001b[32mcmd28.sc\u001b[39m:\u001b[32m3\u001b[39m)\n  ammonite.$sess.cmd28$Helper.sum(\u001b[32mcmd28.sc\u001b[39m:\u001b[32m3\u001b[39m)\n  ammonite.$sess.cmd28$Helper.sum(\u001b[32mcmd28.sc\u001b[39m:\u001b[32m3\u001b[39m)\n  ammonite.$sess.cmd28$Helper.sum(\u001b[32mcmd28.sc\u001b[39m:\u001b[32m3\u001b[39m)\n  ammonite.$sess.cmd28$Helper.sum(\u001b[32mcmd28.sc\u001b[39m:\u001b[32m3\u001b[39m)\n  ammonite.$sess.cmd28$Helper.sum(\u001b[32mcmd28.sc\u001b[39m:\u001b[32m3\u001b[39m)\n  ammonite.$sess.cmd28$Helper.sum(\u001b[32mcmd28.sc\u001b[39m:\u001b[32m3\u001b[39m)\n  ammonite.$sess.cmd28$Helper.sum(\u001b[32mcmd28.sc\u001b[39m:\u001b[32m3\u001b[39m)\n  ammonite.$sess.cmd28$Helper.sum(\u001b[32mcmd28.sc\u001b[39m:\u001b[32m3\u001b[39m)\n  ammonite.$sess.cmd28$Helper.sum(\u001b[32mcmd28.sc\u001b[39m:\u001b[32m3\u001b[39m)\n  ammonite.$sess.cmd28$Helper.sum(\u001b[32mcmd28.sc\u001b[39m:\u001b[32m3\u001b[39m)\n  ammonite.$sess.cmd28$Helper.sum(\u001b[32mcmd28.sc\u001b[39m:\u001b[32m3\u001b[39m)\n  ammonite.$sess.cmd28$Helper.sum(\u001b[32mcmd28.sc\u001b[39m:\u001b[32m3\u001b[39m)\n  ammonite.$sess.cmd28$Helper.sum(\u001b[32mcmd28.sc\u001b[39m:\u001b[32m3\u001b[39m)\n  ammonite.$sess.cmd28$Helper.sum(\u001b[32mcmd28.sc\u001b[39m:\u001b[32m3\u001b[39m)\n  ammonite.$sess.cmd28$Helper.sum(\u001b[32mcmd28.sc\u001b[39m:\u001b[32m3\u001b[39m)\n  ammonite.$sess.cmd28$Helper.sum(\u001b[32mcmd28.sc\u001b[39m:\u001b[32m3\u001b[39m)\n  ammonite.$sess.cmd28$Helper.sum(\u001b[32mcmd28.sc\u001b[39m:\u001b[32m3\u001b[39m)\n  ammonite.$sess.cmd28$Helper.sum(\u001b[32mcmd28.sc\u001b[39m:\u001b[32m3\u001b[39m)\n  ammonite.$sess.cmd28$Helper.sum(\u001b[32mcmd28.sc\u001b[39m:\u001b[32m3\u001b[39m)\n  ammonite.$sess.cmd28$Helper.sum(\u001b[32mcmd28.sc\u001b[39m:\u001b[32m3\u001b[39m)\n  ammonite.$sess.cmd28$Helper.sum(\u001b[32mcmd28.sc\u001b[39m:\u001b[32m3\u001b[39m)\n  ammonite.$sess.cmd28$Helper.sum(\u001b[32mcmd28.sc\u001b[39m:\u001b[32m3\u001b[39m)\n  ammonite.$sess.cmd28$Helper.sum(\u001b[32mcmd28.sc\u001b[39m:\u001b[32m3\u001b[39m)\n  ammonite.$sess.cmd28$Helper.sum(\u001b[32mcmd28.sc\u001b[39m:\u001b[32m3\u001b[39m)\n  ammonite.$sess.cmd28$Helper.sum(\u001b[32mcmd28.sc\u001b[39m:\u001b[32m3\u001b[39m)\n  ammonite.$sess.cmd28$Helper.sum(\u001b[32mcmd28.sc\u001b[39m:\u001b[32m3\u001b[39m)\n  ammonite.$sess.cmd28$Helper.sum(\u001b[32mcmd28.sc\u001b[39m:\u001b[32m3\u001b[39m)\n  ammonite.$sess.cmd28$Helper.sum(\u001b[32mcmd28.sc\u001b[39m:\u001b[32m3\u001b[39m)\n  ammonite.$sess.cmd28$Helper.sum(\u001b[32mcmd28.sc\u001b[39m:\u001b[32m3\u001b[39m)\n  ammonite.$sess.cmd28$Helper.sum(\u001b[32mcmd28.sc\u001b[39m:\u001b[32m3\u001b[39m)\n  ammonite.$sess.cmd28$Helper.sum(\u001b[32mcmd28.sc\u001b[39m:\u001b[32m3\u001b[39m)\n  ammonite.$sess.cmd28$Helper.sum(\u001b[32mcmd28.sc\u001b[39m:\u001b[32m3\u001b[39m)\n  ammonite.$sess.cmd28$Helper.sum(\u001b[32mcmd28.sc\u001b[39m:\u001b[32m3\u001b[39m)\n  ammonite.$sess.cmd28$Helper.sum(\u001b[32mcmd28.sc\u001b[39m:\u001b[32m3\u001b[39m)\n  ammonite.$sess.cmd28$Helper.sum(\u001b[32mcmd28.sc\u001b[39m:\u001b[32m3\u001b[39m)\n  ammonite.$sess.cmd28$Helper.sum(\u001b[32mcmd28.sc\u001b[39m:\u001b[32m3\u001b[39m)\n  ammonite.$sess.cmd28$Helper.sum(\u001b[32mcmd28.sc\u001b[39m:\u001b[32m3\u001b[39m)\n  ammonite.$sess.cmd28$Helper.sum(\u001b[32mcmd28.sc\u001b[39m:\u001b[32m3\u001b[39m)\n  ammonite.$sess.cmd28$Helper.sum(\u001b[32mcmd28.sc\u001b[39m:\u001b[32m3\u001b[39m)\n  ammonite.$sess.cmd28$Helper.sum(\u001b[32mcmd28.sc\u001b[39m:\u001b[32m3\u001b[39m)\n  ammonite.$sess.cmd28$Helper.sum(\u001b[32mcmd28.sc\u001b[39m:\u001b[32m3\u001b[39m)\n  ammonite.$sess.cmd28$Helper.sum(\u001b[32mcmd28.sc\u001b[39m:\u001b[32m3\u001b[39m)\n  ammonite.$sess.cmd28$Helper.sum(\u001b[32mcmd28.sc\u001b[39m:\u001b[32m3\u001b[39m)\n  ammonite.$sess.cmd28$Helper.sum(\u001b[32mcmd28.sc\u001b[39m:\u001b[32m3\u001b[39m)\n  ammonite.$sess.cmd28$Helper.sum(\u001b[32mcmd28.sc\u001b[39m:\u001b[32m3\u001b[39m)\n  ammonite.$sess.cmd28$Helper.sum(\u001b[32mcmd28.sc\u001b[39m:\u001b[32m3\u001b[39m)\n  ammonite.$sess.cmd28$Helper.sum(\u001b[32mcmd28.sc\u001b[39m:\u001b[32m3\u001b[39m)\n  ammonite.$sess.cmd28$Helper.sum(\u001b[32mcmd28.sc\u001b[39m:\u001b[32m3\u001b[39m)\n  ammonite.$sess.cmd28$Helper.sum(\u001b[32mcmd28.sc\u001b[39m:\u001b[32m3\u001b[39m)\n  ammonite.$sess.cmd28$Helper.sum(\u001b[32mcmd28.sc\u001b[39m:\u001b[32m3\u001b[39m)\n  ammonite.$sess.cmd28$Helper.sum(\u001b[32mcmd28.sc\u001b[39m:\u001b[32m3\u001b[39m)\n  ammonite.$sess.cmd28$Helper.sum(\u001b[32mcmd28.sc\u001b[39m:\u001b[32m3\u001b[39m)\n  ammonite.$sess.cmd28$Helper.sum(\u001b[32mcmd28.sc\u001b[39m:\u001b[32m3\u001b[39m)\n  ammonite.$sess.cmd28$Helper.sum(\u001b[32mcmd28.sc\u001b[39m:\u001b[32m3\u001b[39m)\n  ammonite.$sess.cmd28$Helper.sum(\u001b[32mcmd28.sc\u001b[39m:\u001b[32m3\u001b[39m)\n  ammonite.$sess.cmd28$Helper.sum(\u001b[32mcmd28.sc\u001b[39m:\u001b[32m3\u001b[39m)\n  ammonite.$sess.cmd28$Helper.sum(\u001b[32mcmd28.sc\u001b[39m:\u001b[32m3\u001b[39m)\n  ammonite.$sess.cmd28$Helper.sum(\u001b[32mcmd28.sc\u001b[39m:\u001b[32m3\u001b[39m)\n  ammonite.$sess.cmd28$Helper.sum(\u001b[32mcmd28.sc\u001b[39m:\u001b[32m3\u001b[39m)\n  ammonite.$sess.cmd28$Helper.sum(\u001b[32mcmd28.sc\u001b[39m:\u001b[32m3\u001b[39m)\n  ammonite.$sess.cmd28$Helper.sum(\u001b[32mcmd28.sc\u001b[39m:\u001b[32m3\u001b[39m)\n  ammonite.$sess.cmd28$Helper.sum(\u001b[32mcmd28.sc\u001b[39m:\u001b[32m3\u001b[39m)\n  ammonite.$sess.cmd28$Helper.sum(\u001b[32mcmd28.sc\u001b[39m:\u001b[32m3\u001b[39m)\n  ammonite.$sess.cmd28$Helper.sum(\u001b[32mcmd28.sc\u001b[39m:\u001b[32m3\u001b[39m)\n  ammonite.$sess.cmd28$Helper.sum(\u001b[32mcmd28.sc\u001b[39m:\u001b[32m3\u001b[39m)\n  ammonite.$sess.cmd28$Helper.sum(\u001b[32mcmd28.sc\u001b[39m:\u001b[32m3\u001b[39m)\n  ammonite.$sess.cmd28$Helper.sum(\u001b[32mcmd28.sc\u001b[39m:\u001b[32m3\u001b[39m)\n  ammonite.$sess.cmd28$Helper.sum(\u001b[32mcmd28.sc\u001b[39m:\u001b[32m3\u001b[39m)\n  ammonite.$sess.cmd28$Helper.sum(\u001b[32mcmd28.sc\u001b[39m:\u001b[32m3\u001b[39m)\n  ammonite.$sess.cmd28$Helper.sum(\u001b[32mcmd28.sc\u001b[39m:\u001b[32m3\u001b[39m)\n  ammonite.$sess.cmd28$Helper.sum(\u001b[32mcmd28.sc\u001b[39m:\u001b[32m3\u001b[39m)\n  ammonite.$sess.cmd28$Helper.sum(\u001b[32mcmd28.sc\u001b[39m:\u001b[32m3\u001b[39m)\n  ammonite.$sess.cmd28$Helper.sum(\u001b[32mcmd28.sc\u001b[39m:\u001b[32m3\u001b[39m)\n  ammonite.$sess.cmd28$Helper.sum(\u001b[32mcmd28.sc\u001b[39m:\u001b[32m3\u001b[39m)\n  ammonite.$sess.cmd28$Helper.sum(\u001b[32mcmd28.sc\u001b[39m:\u001b[32m3\u001b[39m)\n  ammonite.$sess.cmd28$Helper.sum(\u001b[32mcmd28.sc\u001b[39m:\u001b[32m3\u001b[39m)\n  ammonite.$sess.cmd28$Helper.sum(\u001b[32mcmd28.sc\u001b[39m:\u001b[32m3\u001b[39m)\n  ammonite.$sess.cmd28$Helper.sum(\u001b[32mcmd28.sc\u001b[39m:\u001b[32m3\u001b[39m)\n  ammonite.$sess.cmd28$Helper.sum(\u001b[32mcmd28.sc\u001b[39m:\u001b[32m3\u001b[39m)\n  ammonite.$sess.cmd28$Helper.sum(\u001b[32mcmd28.sc\u001b[39m:\u001b[32m3\u001b[39m)\n  ammonite.$sess.cmd28$Helper.sum(\u001b[32mcmd28.sc\u001b[39m:\u001b[32m3\u001b[39m)\n  ammonite.$sess.cmd28$Helper.sum(\u001b[32mcmd28.sc\u001b[39m:\u001b[32m3\u001b[39m)\n  ammonite.$sess.cmd28$Helper.sum(\u001b[32mcmd28.sc\u001b[39m:\u001b[32m3\u001b[39m)\n  ammonite.$sess.cmd28$Helper.sum(\u001b[32mcmd28.sc\u001b[39m:\u001b[32m3\u001b[39m)\n  ammonite.$sess.cmd28$Helper.sum(\u001b[32mcmd28.sc\u001b[39m:\u001b[32m3\u001b[39m)\n  ammonite.$sess.cmd28$Helper.sum(\u001b[32mcmd28.sc\u001b[39m:\u001b[32m3\u001b[39m)\n  ammonite.$sess.cmd28$Helper.sum(\u001b[32mcmd28.sc\u001b[39m:\u001b[32m3\u001b[39m)\n  ammonite.$sess.cmd28$Helper.sum(\u001b[32mcmd28.sc\u001b[39m:\u001b[32m3\u001b[39m)\n  ammonite.$sess.cmd28$Helper.sum(\u001b[32mcmd28.sc\u001b[39m:\u001b[32m3\u001b[39m)\n  ammonite.$sess.cmd28$Helper.sum(\u001b[32mcmd28.sc\u001b[39m:\u001b[32m3\u001b[39m)\n  ammonite.$sess.cmd28$Helper.sum(\u001b[32mcmd28.sc\u001b[39m:\u001b[32m3\u001b[39m)\n  ammonite.$sess.cmd28$Helper.sum(\u001b[32mcmd28.sc\u001b[39m:\u001b[32m3\u001b[39m)\n  ammonite.$sess.cmd28$Helper.sum(\u001b[32mcmd28.sc\u001b[39m:\u001b[32m3\u001b[39m)\n  ammonite.$sess.cmd28$Helper.sum(\u001b[32mcmd28.sc\u001b[39m:\u001b[32m3\u001b[39m)\n  ammonite.$sess.cmd28$Helper.sum(\u001b[32mcmd28.sc\u001b[39m:\u001b[32m3\u001b[39m)\n  ammonite.$sess.cmd28$Helper.sum(\u001b[32mcmd28.sc\u001b[39m:\u001b[32m3\u001b[39m)\n  ammonite.$sess.cmd28$Helper.sum(\u001b[32mcmd28.sc\u001b[39m:\u001b[32m3\u001b[39m)\n  ammonite.$sess.cmd28$Helper.sum(\u001b[32mcmd28.sc\u001b[39m:\u001b[32m3\u001b[39m)\n  ammonite.$sess.cmd28$Helper.sum(\u001b[32mcmd28.sc\u001b[39m:\u001b[32m3\u001b[39m)\n  ammonite.$sess.cmd28$Helper.sum(\u001b[32mcmd28.sc\u001b[39m:\u001b[32m3\u001b[39m)\n  ammonite.$sess.cmd28$Helper.sum(\u001b[32mcmd28.sc\u001b[39m:\u001b[32m3\u001b[39m)\n  ammonite.$sess.cmd28$Helper.sum(\u001b[32mcmd28.sc\u001b[39m:\u001b[32m3\u001b[39m)\n  ammonite.$sess.cmd28$Helper.sum(\u001b[32mcmd28.sc\u001b[39m:\u001b[32m3\u001b[39m)\n  ammonite.$sess.cmd28$Helper.sum(\u001b[32mcmd28.sc\u001b[39m:\u001b[32m3\u001b[39m)\n  ammonite.$sess.cmd28$Helper.sum(\u001b[32mcmd28.sc\u001b[39m:\u001b[32m3\u001b[39m)\n  ammonite.$sess.cmd28$Helper.sum(\u001b[32mcmd28.sc\u001b[39m:\u001b[32m3\u001b[39m)\n  ammonite.$sess.cmd28$Helper.sum(\u001b[32mcmd28.sc\u001b[39m:\u001b[32m3\u001b[39m)\n  ammonite.$sess.cmd28$Helper.sum(\u001b[32mcmd28.sc\u001b[39m:\u001b[32m3\u001b[39m)\n  ammonite.$sess.cmd28$Helper.sum(\u001b[32mcmd28.sc\u001b[39m:\u001b[32m3\u001b[39m)\n  ammonite.$sess.cmd28$Helper.sum(\u001b[32mcmd28.sc\u001b[39m:\u001b[32m3\u001b[39m)\n  ammonite.$sess.cmd28$Helper.sum(\u001b[32mcmd28.sc\u001b[39m:\u001b[32m3\u001b[39m)\n  ammonite.$sess.cmd28$Helper.sum(\u001b[32mcmd28.sc\u001b[39m:\u001b[32m3\u001b[39m)\n  ammonite.$sess.cmd28$Helper.sum(\u001b[32mcmd28.sc\u001b[39m:\u001b[32m3\u001b[39m)\n  ammonite.$sess.cmd28$Helper.sum(\u001b[32mcmd28.sc\u001b[39m:\u001b[32m3\u001b[39m)\n  ammonite.$sess.cmd28$Helper.sum(\u001b[32mcmd28.sc\u001b[39m:\u001b[32m3\u001b[39m)\n  ammonite.$sess.cmd28$Helper.sum(\u001b[32mcmd28.sc\u001b[39m:\u001b[32m3\u001b[39m)\n  ammonite.$sess.cmd28$Helper.sum(\u001b[32mcmd28.sc\u001b[39m:\u001b[32m3\u001b[39m)\n  ammonite.$sess.cmd28$Helper.sum(\u001b[32mcmd28.sc\u001b[39m:\u001b[32m3\u001b[39m)\n  ammonite.$sess.cmd28$Helper.sum(\u001b[32mcmd28.sc\u001b[39m:\u001b[32m3\u001b[39m)\n  ammonite.$sess.cmd28$Helper.sum(\u001b[32mcmd28.sc\u001b[39m:\u001b[32m3\u001b[39m)\n  ammonite.$sess.cmd28$Helper.sum(\u001b[32mcmd28.sc\u001b[39m:\u001b[32m3\u001b[39m)\n  ammonite.$sess.cmd28$Helper.sum(\u001b[32mcmd28.sc\u001b[39m:\u001b[32m3\u001b[39m)\n  ammonite.$sess.cmd28$Helper.sum(\u001b[32mcmd28.sc\u001b[39m:\u001b[32m3\u001b[39m)\n  ammonite.$sess.cmd28$Helper.sum(\u001b[32mcmd28.sc\u001b[39m:\u001b[32m3\u001b[39m)\n  ammonite.$sess.cmd28$Helper.sum(\u001b[32mcmd28.sc\u001b[39m:\u001b[32m3\u001b[39m)\n  ammonite.$sess.cmd28$Helper.sum(\u001b[32mcmd28.sc\u001b[39m:\u001b[32m3\u001b[39m)\n  ammonite.$sess.cmd28$Helper.sum(\u001b[32mcmd28.sc\u001b[39m:\u001b[32m3\u001b[39m)\n  ammonite.$sess.cmd28$Helper.sum(\u001b[32mcmd28.sc\u001b[39m:\u001b[32m3\u001b[39m)\n  ammonite.$sess.cmd28$Helper.sum(\u001b[32mcmd28.sc\u001b[39m:\u001b[32m3\u001b[39m)\n  ammonite.$sess.cmd28$Helper.sum(\u001b[32mcmd28.sc\u001b[39m:\u001b[32m3\u001b[39m)\n  ammonite.$sess.cmd28$Helper.sum(\u001b[32mcmd28.sc\u001b[39m:\u001b[32m3\u001b[39m)\n  ammonite.$sess.cmd28$Helper.sum(\u001b[32mcmd28.sc\u001b[39m:\u001b[32m3\u001b[39m)\n  ammonite.$sess.cmd28$Helper.sum(\u001b[32mcmd28.sc\u001b[39m:\u001b[32m3\u001b[39m)\n  ammonite.$sess.cmd28$Helper.sum(\u001b[32mcmd28.sc\u001b[39m:\u001b[32m3\u001b[39m)\n  ammonite.$sess.cmd28$Helper.sum(\u001b[32mcmd28.sc\u001b[39m:\u001b[32m3\u001b[39m)\n  ammonite.$sess.cmd28$Helper.sum(\u001b[32mcmd28.sc\u001b[39m:\u001b[32m3\u001b[39m)\n  ammonite.$sess.cmd28$Helper.sum(\u001b[32mcmd28.sc\u001b[39m:\u001b[32m3\u001b[39m)\n  ammonite.$sess.cmd28$Helper.sum(\u001b[32mcmd28.sc\u001b[39m:\u001b[32m3\u001b[39m)\n  ammonite.$sess.cmd28$Helper.sum(\u001b[32mcmd28.sc\u001b[39m:\u001b[32m3\u001b[39m)\n  ammonite.$sess.cmd28$Helper.sum(\u001b[32mcmd28.sc\u001b[39m:\u001b[32m3\u001b[39m)\n  ammonite.$sess.cmd28$Helper.sum(\u001b[32mcmd28.sc\u001b[39m:\u001b[32m3\u001b[39m)\n  ammonite.$sess.cmd28$Helper.sum(\u001b[32mcmd28.sc\u001b[39m:\u001b[32m3\u001b[39m)\n  ammonite.$sess.cmd28$Helper.sum(\u001b[32mcmd28.sc\u001b[39m:\u001b[32m3\u001b[39m)\n  ammonite.$sess.cmd28$Helper.sum(\u001b[32mcmd28.sc\u001b[39m:\u001b[32m3\u001b[39m)\n  ammonite.$sess.cmd28$Helper.sum(\u001b[32mcmd28.sc\u001b[39m:\u001b[32m3\u001b[39m)\n  ammonite.$sess.cmd28$Helper.sum(\u001b[32mcmd28.sc\u001b[39m:\u001b[32m3\u001b[39m)\n  ammonite.$sess.cmd28$Helper.sum(\u001b[32mcmd28.sc\u001b[39m:\u001b[32m3\u001b[39m)\n  ammonite.$sess.cmd28$Helper.sum(\u001b[32mcmd28.sc\u001b[39m:\u001b[32m3\u001b[39m)\n  ammonite.$sess.cmd28$Helper.sum(\u001b[32mcmd28.sc\u001b[39m:\u001b[32m3\u001b[39m)\n  ammonite.$sess.cmd28$Helper.sum(\u001b[32mcmd28.sc\u001b[39m:\u001b[32m3\u001b[39m)\n  ammonite.$sess.cmd28$Helper.sum(\u001b[32mcmd28.sc\u001b[39m:\u001b[32m3\u001b[39m)\n  ammonite.$sess.cmd28$Helper.sum(\u001b[32mcmd28.sc\u001b[39m:\u001b[32m3\u001b[39m)\n  ammonite.$sess.cmd28$Helper.sum(\u001b[32mcmd28.sc\u001b[39m:\u001b[32m3\u001b[39m)\n  ammonite.$sess.cmd28$Helper.sum(\u001b[32mcmd28.sc\u001b[39m:\u001b[32m3\u001b[39m)\n  ammonite.$sess.cmd28$Helper.sum(\u001b[32mcmd28.sc\u001b[39m:\u001b[32m3\u001b[39m)\n  ammonite.$sess.cmd28$Helper.sum(\u001b[32mcmd28.sc\u001b[39m:\u001b[32m3\u001b[39m)\n  ammonite.$sess.cmd28$Helper.sum(\u001b[32mcmd28.sc\u001b[39m:\u001b[32m3\u001b[39m)\n  ammonite.$sess.cmd28$Helper.sum(\u001b[32mcmd28.sc\u001b[39m:\u001b[32m3\u001b[39m)\n  ammonite.$sess.cmd28$Helper.sum(\u001b[32mcmd28.sc\u001b[39m:\u001b[32m3\u001b[39m)\n  ammonite.$sess.cmd28$Helper.sum(\u001b[32mcmd28.sc\u001b[39m:\u001b[32m3\u001b[39m)\n  ammonite.$sess.cmd28$Helper.sum(\u001b[32mcmd28.sc\u001b[39m:\u001b[32m3\u001b[39m)\n  ammonite.$sess.cmd28$Helper.sum(\u001b[32mcmd28.sc\u001b[39m:\u001b[32m3\u001b[39m)\n  ammonite.$sess.cmd28$Helper.sum(\u001b[32mcmd28.sc\u001b[39m:\u001b[32m3\u001b[39m)\n  ammonite.$sess.cmd28$Helper.sum(\u001b[32mcmd28.sc\u001b[39m:\u001b[32m3\u001b[39m)\n  ammonite.$sess.cmd28$Helper.sum(\u001b[32mcmd28.sc\u001b[39m:\u001b[32m3\u001b[39m)\n  ammonite.$sess.cmd28$Helper.sum(\u001b[32mcmd28.sc\u001b[39m:\u001b[32m3\u001b[39m)\n  ammonite.$sess.cmd28$Helper.sum(\u001b[32mcmd28.sc\u001b[39m:\u001b[32m3\u001b[39m)\n  ammonite.$sess.cmd28$Helper.sum(\u001b[32mcmd28.sc\u001b[39m:\u001b[32m3\u001b[39m)\n  ammonite.$sess.cmd28$Helper.sum(\u001b[32mcmd28.sc\u001b[39m:\u001b[32m3\u001b[39m)\n  ammonite.$sess.cmd28$Helper.sum(\u001b[32mcmd28.sc\u001b[39m:\u001b[32m3\u001b[39m)\n  ammonite.$sess.cmd28$Helper.sum(\u001b[32mcmd28.sc\u001b[39m:\u001b[32m3\u001b[39m)\n  ammonite.$sess.cmd28$Helper.sum(\u001b[32mcmd28.sc\u001b[39m:\u001b[32m3\u001b[39m)\n  ammonite.$sess.cmd28$Helper.sum(\u001b[32mcmd28.sc\u001b[39m:\u001b[32m3\u001b[39m)\n  ammonite.$sess.cmd28$Helper.sum(\u001b[32mcmd28.sc\u001b[39m:\u001b[32m3\u001b[39m)\n  ammonite.$sess.cmd28$Helper.sum(\u001b[32mcmd28.sc\u001b[39m:\u001b[32m3\u001b[39m)\n  ammonite.$sess.cmd28$Helper.sum(\u001b[32mcmd28.sc\u001b[39m:\u001b[32m3\u001b[39m)\n  ammonite.$sess.cmd28$Helper.sum(\u001b[32mcmd28.sc\u001b[39m:\u001b[32m3\u001b[39m)\n  ammonite.$sess.cmd28$Helper.sum(\u001b[32mcmd28.sc\u001b[39m:\u001b[32m3\u001b[39m)\n  ammonite.$sess.cmd28$Helper.sum(\u001b[32mcmd28.sc\u001b[39m:\u001b[32m3\u001b[39m)\n  ammonite.$sess.cmd28$Helper.sum(\u001b[32mcmd28.sc\u001b[39m:\u001b[32m3\u001b[39m)\n  ammonite.$sess.cmd28$Helper.sum(\u001b[32mcmd28.sc\u001b[39m:\u001b[32m3\u001b[39m)\n  ammonite.$sess.cmd28$Helper.sum(\u001b[32mcmd28.sc\u001b[39m:\u001b[32m3\u001b[39m)\n  ammonite.$sess.cmd28$Helper.sum(\u001b[32mcmd28.sc\u001b[39m:\u001b[32m3\u001b[39m)\n  ammonite.$sess.cmd28$Helper.sum(\u001b[32mcmd28.sc\u001b[39m:\u001b[32m3\u001b[39m)\n  ammonite.$sess.cmd28$Helper.sum(\u001b[32mcmd28.sc\u001b[39m:\u001b[32m3\u001b[39m)\n  ammonite.$sess.cmd28$Helper.sum(\u001b[32mcmd28.sc\u001b[39m:\u001b[32m3\u001b[39m)\n  ammonite.$sess.cmd28$Helper.sum(\u001b[32mcmd28.sc\u001b[39m:\u001b[32m3\u001b[39m)\n  ammonite.$sess.cmd28$Helper.sum(\u001b[32mcmd28.sc\u001b[39m:\u001b[32m3\u001b[39m)\n  ammonite.$sess.cmd28$Helper.sum(\u001b[32mcmd28.sc\u001b[39m:\u001b[32m3\u001b[39m)\n  ammonite.$sess.cmd28$Helper.sum(\u001b[32mcmd28.sc\u001b[39m:\u001b[32m3\u001b[39m)\n  ammonite.$sess.cmd28$Helper.sum(\u001b[32mcmd28.sc\u001b[39m:\u001b[32m3\u001b[39m)\n  ammonite.$sess.cmd28$Helper.sum(\u001b[32mcmd28.sc\u001b[39m:\u001b[32m3\u001b[39m)\n  ammonite.$sess.cmd28$Helper.sum(\u001b[32mcmd28.sc\u001b[39m:\u001b[32m3\u001b[39m)\n  ammonite.$sess.cmd28$Helper.sum(\u001b[32mcmd28.sc\u001b[39m:\u001b[32m3\u001b[39m)\n  ammonite.$sess.cmd28$Helper.sum(\u001b[32mcmd28.sc\u001b[39m:\u001b[32m3\u001b[39m)\n  ammonite.$sess.cmd28$Helper.sum(\u001b[32mcmd28.sc\u001b[39m:\u001b[32m3\u001b[39m)\n  ammonite.$sess.cmd28$Helper.sum(\u001b[32mcmd28.sc\u001b[39m:\u001b[32m3\u001b[39m)\n  ammonite.$sess.cmd28$Helper.sum(\u001b[32mcmd28.sc\u001b[39m:\u001b[32m3\u001b[39m)\n  ammonite.$sess.cmd28$Helper.sum(\u001b[32mcmd28.sc\u001b[39m:\u001b[32m3\u001b[39m)\n  ammonite.$sess.cmd28$Helper.sum(\u001b[32mcmd28.sc\u001b[39m:\u001b[32m3\u001b[39m)\n  ammonite.$sess.cmd28$Helper.sum(\u001b[32mcmd28.sc\u001b[39m:\u001b[32m3\u001b[39m)\n  ammonite.$sess.cmd28$Helper.sum(\u001b[32mcmd28.sc\u001b[39m:\u001b[32m3\u001b[39m)\n  ammonite.$sess.cmd28$Helper.sum(\u001b[32mcmd28.sc\u001b[39m:\u001b[32m3\u001b[39m)\n  ammonite.$sess.cmd28$Helper.sum(\u001b[32mcmd28.sc\u001b[39m:\u001b[32m3\u001b[39m)\n  ammonite.$sess.cmd28$Helper.sum(\u001b[32mcmd28.sc\u001b[39m:\u001b[32m3\u001b[39m)\n  ammonite.$sess.cmd28$Helper.sum(\u001b[32mcmd28.sc\u001b[39m:\u001b[32m3\u001b[39m)\n  ammonite.$sess.cmd28$Helper.sum(\u001b[32mcmd28.sc\u001b[39m:\u001b[32m3\u001b[39m)\n  ammonite.$sess.cmd28$Helper.sum(\u001b[32mcmd28.sc\u001b[39m:\u001b[32m3\u001b[39m)\n  ammonite.$sess.cmd28$Helper.sum(\u001b[32mcmd28.sc\u001b[39m:\u001b[32m3\u001b[39m)\n  ammonite.$sess.cmd28$Helper.sum(\u001b[32mcmd28.sc\u001b[39m:\u001b[32m3\u001b[39m)\n  ammonite.$sess.cmd28$Helper.sum(\u001b[32mcmd28.sc\u001b[39m:\u001b[32m3\u001b[39m)\n  ammonite.$sess.cmd28$Helper.sum(\u001b[32mcmd28.sc\u001b[39m:\u001b[32m3\u001b[39m)\n  ammonite.$sess.cmd28$Helper.sum(\u001b[32mcmd28.sc\u001b[39m:\u001b[32m3\u001b[39m)\n  ammonite.$sess.cmd28$Helper.sum(\u001b[32mcmd28.sc\u001b[39m:\u001b[32m3\u001b[39m)\n  ammonite.$sess.cmd28$Helper.sum(\u001b[32mcmd28.sc\u001b[39m:\u001b[32m3\u001b[39m)\n  ammonite.$sess.cmd28$Helper.sum(\u001b[32mcmd28.sc\u001b[39m:\u001b[32m3\u001b[39m)\n  ammonite.$sess.cmd28$Helper.sum(\u001b[32mcmd28.sc\u001b[39m:\u001b[32m3\u001b[39m)\n  ammonite.$sess.cmd28$Helper.sum(\u001b[32mcmd28.sc\u001b[39m:\u001b[32m3\u001b[39m)\n  ammonite.$sess.cmd28$Helper.sum(\u001b[32mcmd28.sc\u001b[39m:\u001b[32m3\u001b[39m)\n  ammonite.$sess.cmd28$Helper.sum(\u001b[32mcmd28.sc\u001b[39m:\u001b[32m3\u001b[39m)\n  ammonite.$sess.cmd28$Helper.sum(\u001b[32mcmd28.sc\u001b[39m:\u001b[32m3\u001b[39m)\n  ammonite.$sess.cmd28$Helper.sum(\u001b[32mcmd28.sc\u001b[39m:\u001b[32m3\u001b[39m)\n  ammonite.$sess.cmd28$Helper.sum(\u001b[32mcmd28.sc\u001b[39m:\u001b[32m3\u001b[39m)\n  ammonite.$sess.cmd28$Helper.sum(\u001b[32mcmd28.sc\u001b[39m:\u001b[32m3\u001b[39m)\n  ammonite.$sess.cmd28$Helper.sum(\u001b[32mcmd28.sc\u001b[39m:\u001b[32m3\u001b[39m)\n  ammonite.$sess.cmd28$Helper.sum(\u001b[32mcmd28.sc\u001b[39m:\u001b[32m3\u001b[39m)\n  ammonite.$sess.cmd28$Helper.sum(\u001b[32mcmd28.sc\u001b[39m:\u001b[32m3\u001b[39m)\n  ammonite.$sess.cmd28$Helper.sum(\u001b[32mcmd28.sc\u001b[39m:\u001b[32m3\u001b[39m)\n  ammonite.$sess.cmd28$Helper.sum(\u001b[32mcmd28.sc\u001b[39m:\u001b[32m3\u001b[39m)\n  ammonite.$sess.cmd28$Helper.sum(\u001b[32mcmd28.sc\u001b[39m:\u001b[32m3\u001b[39m)\n  ammonite.$sess.cmd28$Helper.sum(\u001b[32mcmd28.sc\u001b[39m:\u001b[32m3\u001b[39m)\n  ammonite.$sess.cmd28$Helper.sum(\u001b[32mcmd28.sc\u001b[39m:\u001b[32m3\u001b[39m)\n  ammonite.$sess.cmd28$Helper.sum(\u001b[32mcmd28.sc\u001b[39m:\u001b[32m3\u001b[39m)\n  ammonite.$sess.cmd28$Helper.sum(\u001b[32mcmd28.sc\u001b[39m:\u001b[32m3\u001b[39m)\n  ammonite.$sess.cmd28$Helper.sum(\u001b[32mcmd28.sc\u001b[39m:\u001b[32m3\u001b[39m)\n  ammonite.$sess.cmd28$Helper.sum(\u001b[32mcmd28.sc\u001b[39m:\u001b[32m3\u001b[39m)\n  ammonite.$sess.cmd28$Helper.sum(\u001b[32mcmd28.sc\u001b[39m:\u001b[32m3\u001b[39m)\n  ammonite.$sess.cmd28$Helper.sum(\u001b[32mcmd28.sc\u001b[39m:\u001b[32m3\u001b[39m)\n  ammonite.$sess.cmd28$Helper.sum(\u001b[32mcmd28.sc\u001b[39m:\u001b[32m3\u001b[39m)\n  ammonite.$sess.cmd28$Helper.sum(\u001b[32mcmd28.sc\u001b[39m:\u001b[32m3\u001b[39m)\n  ammonite.$sess.cmd28$Helper.sum(\u001b[32mcmd28.sc\u001b[39m:\u001b[32m3\u001b[39m)\n  ammonite.$sess.cmd28$Helper.sum(\u001b[32mcmd28.sc\u001b[39m:\u001b[32m3\u001b[39m)\n  ammonite.$sess.cmd28$Helper.sum(\u001b[32mcmd28.sc\u001b[39m:\u001b[32m3\u001b[39m)\n  ammonite.$sess.cmd28$Helper.sum(\u001b[32mcmd28.sc\u001b[39m:\u001b[32m3\u001b[39m)\n  ammonite.$sess.cmd28$Helper.sum(\u001b[32mcmd28.sc\u001b[39m:\u001b[32m3\u001b[39m)\n  ammonite.$sess.cmd28$Helper.sum(\u001b[32mcmd28.sc\u001b[39m:\u001b[32m3\u001b[39m)\n  ammonite.$sess.cmd28$Helper.sum(\u001b[32mcmd28.sc\u001b[39m:\u001b[32m3\u001b[39m)\n  ammonite.$sess.cmd28$Helper.sum(\u001b[32mcmd28.sc\u001b[39m:\u001b[32m3\u001b[39m)\n  ammonite.$sess.cmd28$Helper.sum(\u001b[32mcmd28.sc\u001b[39m:\u001b[32m3\u001b[39m)\n  ammonite.$sess.cmd28$Helper.sum(\u001b[32mcmd28.sc\u001b[39m:\u001b[32m3\u001b[39m)\n  ammonite.$sess.cmd28$Helper.sum(\u001b[32mcmd28.sc\u001b[39m:\u001b[32m3\u001b[39m)\n  ammonite.$sess.cmd28$Helper.sum(\u001b[32mcmd28.sc\u001b[39m:\u001b[32m3\u001b[39m)\n  ammonite.$sess.cmd28$Helper.sum(\u001b[32mcmd28.sc\u001b[39m:\u001b[32m3\u001b[39m)\n  ammonite.$sess.cmd28$Helper.sum(\u001b[32mcmd28.sc\u001b[39m:\u001b[32m3\u001b[39m)\n  ammonite.$sess.cmd28$Helper.sum(\u001b[32mcmd28.sc\u001b[39m:\u001b[32m3\u001b[39m)\n  ammonite.$sess.cmd28$Helper.sum(\u001b[32mcmd28.sc\u001b[39m:\u001b[32m3\u001b[39m)\n  ammonite.$sess.cmd28$Helper.sum(\u001b[32mcmd28.sc\u001b[39m:\u001b[32m3\u001b[39m)\n  ammonite.$sess.cmd28$Helper.sum(\u001b[32mcmd28.sc\u001b[39m:\u001b[32m3\u001b[39m)\n  ammonite.$sess.cmd28$Helper.sum(\u001b[32mcmd28.sc\u001b[39m:\u001b[32m3\u001b[39m)\n  ammonite.$sess.cmd28$Helper.sum(\u001b[32mcmd28.sc\u001b[39m:\u001b[32m3\u001b[39m)\n  ammonite.$sess.cmd28$Helper.sum(\u001b[32mcmd28.sc\u001b[39m:\u001b[32m3\u001b[39m)\n  ammonite.$sess.cmd28$Helper.sum(\u001b[32mcmd28.sc\u001b[39m:\u001b[32m3\u001b[39m)\n  ammonite.$sess.cmd28$Helper.sum(\u001b[32mcmd28.sc\u001b[39m:\u001b[32m3\u001b[39m)\n  ammonite.$sess.cmd28$Helper.sum(\u001b[32mcmd28.sc\u001b[39m:\u001b[32m3\u001b[39m)\n  ammonite.$sess.cmd28$Helper.sum(\u001b[32mcmd28.sc\u001b[39m:\u001b[32m3\u001b[39m)\n  ammonite.$sess.cmd28$Helper.sum(\u001b[32mcmd28.sc\u001b[39m:\u001b[32m3\u001b[39m)\n  ammonite.$sess.cmd28$Helper.sum(\u001b[32mcmd28.sc\u001b[39m:\u001b[32m3\u001b[39m)\n  ammonite.$sess.cmd28$Helper.sum(\u001b[32mcmd28.sc\u001b[39m:\u001b[32m3\u001b[39m)\n  ammonite.$sess.cmd28$Helper.sum(\u001b[32mcmd28.sc\u001b[39m:\u001b[32m3\u001b[39m)\n  ammonite.$sess.cmd28$Helper.sum(\u001b[32mcmd28.sc\u001b[39m:\u001b[32m3\u001b[39m)\n  ammonite.$sess.cmd28$Helper.sum(\u001b[32mcmd28.sc\u001b[39m:\u001b[32m3\u001b[39m)\n  ammonite.$sess.cmd28$Helper.sum(\u001b[32mcmd28.sc\u001b[39m:\u001b[32m3\u001b[39m)\n  ammonite.$sess.cmd28$Helper.sum(\u001b[32mcmd28.sc\u001b[39m:\u001b[32m3\u001b[39m)\n  ammonite.$sess.cmd28$Helper.sum(\u001b[32mcmd28.sc\u001b[39m:\u001b[32m3\u001b[39m)\n  ammonite.$sess.cmd28$Helper.sum(\u001b[32mcmd28.sc\u001b[39m:\u001b[32m3\u001b[39m)\n  ammonite.$sess.cmd28$Helper.sum(\u001b[32mcmd28.sc\u001b[39m:\u001b[32m3\u001b[39m)\n  ammonite.$sess.cmd28$Helper.sum(\u001b[32mcmd28.sc\u001b[39m:\u001b[32m3\u001b[39m)\n  ammonite.$sess.cmd28$Helper.sum(\u001b[32mcmd28.sc\u001b[39m:\u001b[32m3\u001b[39m)\n  ammonite.$sess.cmd28$Helper.sum(\u001b[32mcmd28.sc\u001b[39m:\u001b[32m3\u001b[39m)\n  ammonite.$sess.cmd28$Helper.sum(\u001b[32mcmd28.sc\u001b[39m:\u001b[32m3\u001b[39m)\n  ammonite.$sess.cmd28$Helper.sum(\u001b[32mcmd28.sc\u001b[39m:\u001b[32m3\u001b[39m)\n  ammonite.$sess.cmd28$Helper.sum(\u001b[32mcmd28.sc\u001b[39m:\u001b[32m3\u001b[39m)\n  ammonite.$sess.cmd28$Helper.sum(\u001b[32mcmd28.sc\u001b[39m:\u001b[32m3\u001b[39m)\n  ammonite.$sess.cmd28$Helper.sum(\u001b[32mcmd28.sc\u001b[39m:\u001b[32m3\u001b[39m)\n  ammonite.$sess.cmd28$Helper.sum(\u001b[32mcmd28.sc\u001b[39m:\u001b[32m3\u001b[39m)\n  ammonite.$sess.cmd28$Helper.sum(\u001b[32mcmd28.sc\u001b[39m:\u001b[32m3\u001b[39m)\n  ammonite.$sess.cmd28$Helper.sum(\u001b[32mcmd28.sc\u001b[39m:\u001b[32m3\u001b[39m)\n  ammonite.$sess.cmd28$Helper.sum(\u001b[32mcmd28.sc\u001b[39m:\u001b[32m3\u001b[39m)\n  ammonite.$sess.cmd28$Helper.sum(\u001b[32mcmd28.sc\u001b[39m:\u001b[32m3\u001b[39m)\n  ammonite.$sess.cmd28$Helper.sum(\u001b[32mcmd28.sc\u001b[39m:\u001b[32m3\u001b[39m)\n  ammonite.$sess.cmd28$Helper.sum(\u001b[32mcmd28.sc\u001b[39m:\u001b[32m3\u001b[39m)\n  ammonite.$sess.cmd28$Helper.sum(\u001b[32mcmd28.sc\u001b[39m:\u001b[32m3\u001b[39m)\n  ammonite.$sess.cmd28$Helper.sum(\u001b[32mcmd28.sc\u001b[39m:\u001b[32m3\u001b[39m)\n  ammonite.$sess.cmd28$Helper.sum(\u001b[32mcmd28.sc\u001b[39m:\u001b[32m3\u001b[39m)\n  ammonite.$sess.cmd28$Helper.sum(\u001b[32mcmd28.sc\u001b[39m:\u001b[32m3\u001b[39m)\n  ammonite.$sess.cmd28$Helper.sum(\u001b[32mcmd28.sc\u001b[39m:\u001b[32m3\u001b[39m)\n  ammonite.$sess.cmd28$Helper.sum(\u001b[32mcmd28.sc\u001b[39m:\u001b[32m3\u001b[39m)\n  ammonite.$sess.cmd28$Helper.sum(\u001b[32mcmd28.sc\u001b[39m:\u001b[32m3\u001b[39m)\n  ammonite.$sess.cmd28$Helper.sum(\u001b[32mcmd28.sc\u001b[39m:\u001b[32m3\u001b[39m)\n  ammonite.$sess.cmd28$Helper.sum(\u001b[32mcmd28.sc\u001b[39m:\u001b[32m3\u001b[39m)\n  ammonite.$sess.cmd28$Helper.sum(\u001b[32mcmd28.sc\u001b[39m:\u001b[32m3\u001b[39m)\n  ammonite.$sess.cmd28$Helper.sum(\u001b[32mcmd28.sc\u001b[39m:\u001b[32m3\u001b[39m)\n  ammonite.$sess.cmd28$Helper.sum(\u001b[32mcmd28.sc\u001b[39m:\u001b[32m3\u001b[39m)\n  ammonite.$sess.cmd28$Helper.sum(\u001b[32mcmd28.sc\u001b[39m:\u001b[32m3\u001b[39m)\n  ammonite.$sess.cmd28$Helper.sum(\u001b[32mcmd28.sc\u001b[39m:\u001b[32m3\u001b[39m)\n  ammonite.$sess.cmd28$Helper.sum(\u001b[32mcmd28.sc\u001b[39m:\u001b[32m3\u001b[39m)\n  ammonite.$sess.cmd28$Helper.sum(\u001b[32mcmd28.sc\u001b[39m:\u001b[32m3\u001b[39m)\n  ammonite.$sess.cmd28$Helper.sum(\u001b[32mcmd28.sc\u001b[39m:\u001b[32m3\u001b[39m)\n  ammonite.$sess.cmd28$Helper.sum(\u001b[32mcmd28.sc\u001b[39m:\u001b[32m3\u001b[39m)\n  ammonite.$sess.cmd28$Helper.sum(\u001b[32mcmd28.sc\u001b[39m:\u001b[32m3\u001b[39m)\n  ammonite.$sess.cmd28$Helper.sum(\u001b[32mcmd28.sc\u001b[39m:\u001b[32m3\u001b[39m)\n  ammonite.$sess.cmd28$Helper.sum(\u001b[32mcmd28.sc\u001b[39m:\u001b[32m3\u001b[39m)\n  ammonite.$sess.cmd28$Helper.sum(\u001b[32mcmd28.sc\u001b[39m:\u001b[32m3\u001b[39m)\n  ammonite.$sess.cmd28$Helper.sum(\u001b[32mcmd28.sc\u001b[39m:\u001b[32m3\u001b[39m)\n  ammonite.$sess.cmd28$Helper.sum(\u001b[32mcmd28.sc\u001b[39m:\u001b[32m3\u001b[39m)\n  ammonite.$sess.cmd28$Helper.sum(\u001b[32mcmd28.sc\u001b[39m:\u001b[32m3\u001b[39m)\n  ammonite.$sess.cmd28$Helper.sum(\u001b[32mcmd28.sc\u001b[39m:\u001b[32m3\u001b[39m)\n  ammonite.$sess.cmd28$Helper.sum(\u001b[32mcmd28.sc\u001b[39m:\u001b[32m3\u001b[39m)\n  ammonite.$sess.cmd28$Helper.sum(\u001b[32mcmd28.sc\u001b[39m:\u001b[32m3\u001b[39m)\n  ammonite.$sess.cmd28$Helper.sum(\u001b[32mcmd28.sc\u001b[39m:\u001b[32m3\u001b[39m)\n  ammonite.$sess.cmd28$Helper.sum(\u001b[32mcmd28.sc\u001b[39m:\u001b[32m3\u001b[39m)\n  ammonite.$sess.cmd28$Helper.sum(\u001b[32mcmd28.sc\u001b[39m:\u001b[32m3\u001b[39m)\n  ammonite.$sess.cmd28$Helper.sum(\u001b[32mcmd28.sc\u001b[39m:\u001b[32m3\u001b[39m)\n  ammonite.$sess.cmd28$Helper.sum(\u001b[32mcmd28.sc\u001b[39m:\u001b[32m3\u001b[39m)\n  ammonite.$sess.cmd28$Helper.sum(\u001b[32mcmd28.sc\u001b[39m:\u001b[32m3\u001b[39m)\n  ammonite.$sess.cmd28$Helper.sum(\u001b[32mcmd28.sc\u001b[39m:\u001b[32m3\u001b[39m)\n  ammonite.$sess.cmd28$Helper.sum(\u001b[32mcmd28.sc\u001b[39m:\u001b[32m3\u001b[39m)\n  ammonite.$sess.cmd28$Helper.sum(\u001b[32mcmd28.sc\u001b[39m:\u001b[32m3\u001b[39m)\n  ammonite.$sess.cmd28$Helper.sum(\u001b[32mcmd28.sc\u001b[39m:\u001b[32m3\u001b[39m)\n  ammonite.$sess.cmd28$Helper.sum(\u001b[32mcmd28.sc\u001b[39m:\u001b[32m3\u001b[39m)\n  ammonite.$sess.cmd28$Helper.sum(\u001b[32mcmd28.sc\u001b[39m:\u001b[32m3\u001b[39m)\n  ammonite.$sess.cmd28$Helper.sum(\u001b[32mcmd28.sc\u001b[39m:\u001b[32m3\u001b[39m)\n  ammonite.$sess.cmd28$Helper.sum(\u001b[32mcmd28.sc\u001b[39m:\u001b[32m3\u001b[39m)\n  ammonite.$sess.cmd28$Helper.sum(\u001b[32mcmd28.sc\u001b[39m:\u001b[32m3\u001b[39m)\n  ammonite.$sess.cmd28$Helper.sum(\u001b[32mcmd28.sc\u001b[39m:\u001b[32m3\u001b[39m)\n  ammonite.$sess.cmd28$Helper.sum(\u001b[32mcmd28.sc\u001b[39m:\u001b[32m3\u001b[39m)\n  ammonite.$sess.cmd28$Helper.sum(\u001b[32mcmd28.sc\u001b[39m:\u001b[32m3\u001b[39m)\n  ammonite.$sess.cmd28$Helper.sum(\u001b[32mcmd28.sc\u001b[39m:\u001b[32m3\u001b[39m)\n  ammonite.$sess.cmd28$Helper.sum(\u001b[32mcmd28.sc\u001b[39m:\u001b[32m3\u001b[39m)\n  ammonite.$sess.cmd28$Helper.sum(\u001b[32mcmd28.sc\u001b[39m:\u001b[32m3\u001b[39m)\n  ammonite.$sess.cmd28$Helper.sum(\u001b[32mcmd28.sc\u001b[39m:\u001b[32m3\u001b[39m)\n  ammonite.$sess.cmd28$Helper.sum(\u001b[32mcmd28.sc\u001b[39m:\u001b[32m3\u001b[39m)\n  ammonite.$sess.cmd28$Helper.sum(\u001b[32mcmd28.sc\u001b[39m:\u001b[32m3\u001b[39m)\n  ammonite.$sess.cmd28$Helper.sum(\u001b[32mcmd28.sc\u001b[39m:\u001b[32m3\u001b[39m)\n  ammonite.$sess.cmd28$Helper.sum(\u001b[32mcmd28.sc\u001b[39m:\u001b[32m3\u001b[39m)\n  ammonite.$sess.cmd28$Helper.sum(\u001b[32mcmd28.sc\u001b[39m:\u001b[32m3\u001b[39m)\n  ammonite.$sess.cmd28$Helper.sum(\u001b[32mcmd28.sc\u001b[39m:\u001b[32m3\u001b[39m)\n  ammonite.$sess.cmd28$Helper.sum(\u001b[32mcmd28.sc\u001b[39m:\u001b[32m3\u001b[39m)\n  ammonite.$sess.cmd28$Helper.sum(\u001b[32mcmd28.sc\u001b[39m:\u001b[32m3\u001b[39m)\n  ammonite.$sess.cmd28$Helper.sum(\u001b[32mcmd28.sc\u001b[39m:\u001b[32m3\u001b[39m)\n  ammonite.$sess.cmd28$Helper.sum(\u001b[32mcmd28.sc\u001b[39m:\u001b[32m3\u001b[39m)\n  ammonite.$sess.cmd28$Helper.sum(\u001b[32mcmd28.sc\u001b[39m:\u001b[32m3\u001b[39m)\n  ammonite.$sess.cmd28$Helper.sum(\u001b[32mcmd28.sc\u001b[39m:\u001b[32m3\u001b[39m)\n  ammonite.$sess.cmd28$Helper.sum(\u001b[32mcmd28.sc\u001b[39m:\u001b[32m3\u001b[39m)\n  ammonite.$sess.cmd28$Helper.sum(\u001b[32mcmd28.sc\u001b[39m:\u001b[32m3\u001b[39m)\n  ammonite.$sess.cmd28$Helper.sum(\u001b[32mcmd28.sc\u001b[39m:\u001b[32m3\u001b[39m)\n  ammonite.$sess.cmd28$Helper.sum(\u001b[32mcmd28.sc\u001b[39m:\u001b[32m3\u001b[39m)\n  ammonite.$sess.cmd28$Helper.sum(\u001b[32mcmd28.sc\u001b[39m:\u001b[32m3\u001b[39m)\n  ammonite.$sess.cmd28$Helper.sum(\u001b[32mcmd28.sc\u001b[39m:\u001b[32m3\u001b[39m)\n  ammonite.$sess.cmd28$Helper.sum(\u001b[32mcmd28.sc\u001b[39m:\u001b[32m3\u001b[39m)\n  ammonite.$sess.cmd28$Helper.sum(\u001b[32mcmd28.sc\u001b[39m:\u001b[32m3\u001b[39m)\n  ammonite.$sess.cmd28$Helper.sum(\u001b[32mcmd28.sc\u001b[39m:\u001b[32m3\u001b[39m)\n  ammonite.$sess.cmd28$Helper.sum(\u001b[32mcmd28.sc\u001b[39m:\u001b[32m3\u001b[39m)\n  ammonite.$sess.cmd28$Helper.sum(\u001b[32mcmd28.sc\u001b[39m:\u001b[32m3\u001b[39m)\n  ammonite.$sess.cmd28$Helper.sum(\u001b[32mcmd28.sc\u001b[39m:\u001b[32m3\u001b[39m)\n  ammonite.$sess.cmd28$Helper.sum(\u001b[32mcmd28.sc\u001b[39m:\u001b[32m3\u001b[39m)\n  ammonite.$sess.cmd28$Helper.sum(\u001b[32mcmd28.sc\u001b[39m:\u001b[32m3\u001b[39m)\n  ammonite.$sess.cmd28$Helper.sum(\u001b[32mcmd28.sc\u001b[39m:\u001b[32m3\u001b[39m)\n  ammonite.$sess.cmd28$Helper.sum(\u001b[32mcmd28.sc\u001b[39m:\u001b[32m3\u001b[39m)\n  ammonite.$sess.cmd28$Helper.sum(\u001b[32mcmd28.sc\u001b[39m:\u001b[32m3\u001b[39m)\n  ammonite.$sess.cmd28$Helper.sum(\u001b[32mcmd28.sc\u001b[39m:\u001b[32m3\u001b[39m)\n  ammonite.$sess.cmd28$Helper.sum(\u001b[32mcmd28.sc\u001b[39m:\u001b[32m3\u001b[39m)\n  ammonite.$sess.cmd28$Helper.sum(\u001b[32mcmd28.sc\u001b[39m:\u001b[32m3\u001b[39m)\n  ammonite.$sess.cmd28$Helper.sum(\u001b[32mcmd28.sc\u001b[39m:\u001b[32m3\u001b[39m)\n  ammonite.$sess.cmd28$Helper.sum(\u001b[32mcmd28.sc\u001b[39m:\u001b[32m3\u001b[39m)\n  ammonite.$sess.cmd28$Helper.sum(\u001b[32mcmd28.sc\u001b[39m:\u001b[32m3\u001b[39m)\n  ammonite.$sess.cmd28$Helper.sum(\u001b[32mcmd28.sc\u001b[39m:\u001b[32m3\u001b[39m)\n  ammonite.$sess.cmd28$Helper.sum(\u001b[32mcmd28.sc\u001b[39m:\u001b[32m3\u001b[39m)\n  ammonite.$sess.cmd28$Helper.sum(\u001b[32mcmd28.sc\u001b[39m:\u001b[32m3\u001b[39m)\n  ammonite.$sess.cmd28$Helper.sum(\u001b[32mcmd28.sc\u001b[39m:\u001b[32m3\u001b[39m)\n  ammonite.$sess.cmd28$Helper.sum(\u001b[32mcmd28.sc\u001b[39m:\u001b[32m3\u001b[39m)\n  ammonite.$sess.cmd28$Helper.sum(\u001b[32mcmd28.sc\u001b[39m:\u001b[32m3\u001b[39m)\n  ammonite.$sess.cmd28$Helper.sum(\u001b[32mcmd28.sc\u001b[39m:\u001b[32m3\u001b[39m)\n  ammonite.$sess.cmd28$Helper.sum(\u001b[32mcmd28.sc\u001b[39m:\u001b[32m3\u001b[39m)\n  ammonite.$sess.cmd28$Helper.sum(\u001b[32mcmd28.sc\u001b[39m:\u001b[32m3\u001b[39m)\n  ammonite.$sess.cmd28$Helper.sum(\u001b[32mcmd28.sc\u001b[39m:\u001b[32m3\u001b[39m)\n  ammonite.$sess.cmd28$Helper.sum(\u001b[32mcmd28.sc\u001b[39m:\u001b[32m3\u001b[39m)\n  ammonite.$sess.cmd28$Helper.sum(\u001b[32mcmd28.sc\u001b[39m:\u001b[32m3\u001b[39m)\n  ammonite.$sess.cmd28$Helper.sum(\u001b[32mcmd28.sc\u001b[39m:\u001b[32m3\u001b[39m)\n  ammonite.$sess.cmd28$Helper.sum(\u001b[32mcmd28.sc\u001b[39m:\u001b[32m3\u001b[39m)\n  ammonite.$sess.cmd28$Helper.sum(\u001b[32mcmd28.sc\u001b[39m:\u001b[32m3\u001b[39m)\n  ammonite.$sess.cmd28$Helper.sum(\u001b[32mcmd28.sc\u001b[39m:\u001b[32m3\u001b[39m)\n  ammonite.$sess.cmd28$Helper.sum(\u001b[32mcmd28.sc\u001b[39m:\u001b[32m3\u001b[39m)\n  ammonite.$sess.cmd28$Helper.sum(\u001b[32mcmd28.sc\u001b[39m:\u001b[32m3\u001b[39m)\n  ammonite.$sess.cmd28$Helper.sum(\u001b[32mcmd28.sc\u001b[39m:\u001b[32m3\u001b[39m)\n  ammonite.$sess.cmd28$Helper.sum(\u001b[32mcmd28.sc\u001b[39m:\u001b[32m3\u001b[39m)\n  ammonite.$sess.cmd28$Helper.sum(\u001b[32mcmd28.sc\u001b[39m:\u001b[32m3\u001b[39m)\n  ammonite.$sess.cmd28$Helper.sum(\u001b[32mcmd28.sc\u001b[39m:\u001b[32m3\u001b[39m)"
     ]
    }
   ],
   "source": [
    "// stack overflow\n",
    "sum(1234567)"
   ]
  },
  {
   "cell_type": "markdown",
   "metadata": {},
   "source": [
    "\n",
    "```\n",
    " sum(5)\n",
    " 5,0\n",
    " 4,5\n",
    " 3,9\n",
    " 2,12\n",
    " 1,14\n",
    " 0,15```"
   ]
  },
  {
   "cell_type": "code",
   "execution_count": 50,
   "metadata": {},
   "outputs": [
    {
     "data": {
      "text/plain": [
       "defined \u001b[32mfunction\u001b[39m \u001b[36msum\u001b[39m"
      ]
     },
     "execution_count": 50,
     "metadata": {},
     "output_type": "execute_result"
    }
   ],
   "source": [
    "def sum(n: Int): Int = {\n",
    "    def sumTail(i: Int, acc: Int): Int = {\n",
    "        if (i == 0) acc\n",
    "        else sumTail(i-1, acc+i)\n",
    "    }\n",
    "    sumTail(n, 0)\n",
    "}\n"
   ]
  },
  {
   "cell_type": "code",
   "execution_count": 50,
   "metadata": {},
   "outputs": [
    {
     "name": "stderr",
     "output_type": "stream",
     "text": [
      "cmd50.sc:7: could not optimize @tailrec annotated method sumTail: it contains a recursive call not in tail position\n",
      "        else 0+sumTail(i-1, acc+i)\n",
      "              ^Compilation Failed"
     ]
    },
    {
     "ename": "",
     "evalue": "",
     "output_type": "error",
     "traceback": [
      "Compilation Failed"
     ]
    }
   ],
   "source": [
    "import scala.annotation.tailrec\n",
    "\n",
    "def sum(n: Int): Int = {\n",
    "    @tailrec\n",
    "    def sumTail(i: Int, acc: Int): Int = {\n",
    "        if (i == 0) acc\n",
    "        else 0+sumTail(i-1, acc+i)\n",
    "    }\n",
    "    sumTail(n, 0)\n",
    "}"
   ]
  },
  {
   "cell_type": "code",
   "execution_count": 37,
   "metadata": {},
   "outputs": [
    {
     "data": {
      "text/plain": [
       "\u001b[36mres36\u001b[39m: \u001b[32mInt\u001b[39m = \u001b[32m5050\u001b[39m"
      ]
     },
     "execution_count": 37,
     "metadata": {},
     "output_type": "execute_result"
    }
   ],
   "source": [
    "sum(100)"
   ]
  },
  {
   "cell_type": "code",
   "execution_count": 38,
   "metadata": {},
   "outputs": [
    {
     "data": {
      "text/plain": [
       "\u001b[36mres37\u001b[39m: \u001b[32mInt\u001b[39m = \u001b[32m1869244636\u001b[39m"
      ]
     },
     "execution_count": 38,
     "metadata": {},
     "output_type": "execute_result"
    }
   ],
   "source": [
    "sum(1234567)"
   ]
  },
  {
   "cell_type": "code",
   "execution_count": 43,
   "metadata": {},
   "outputs": [
    {
     "data": {
      "text/plain": [
       "\u001b[36mres42\u001b[39m: \u001b[32mInt\u001b[39m = \u001b[32m-243309312\u001b[39m"
      ]
     },
     "execution_count": 43,
     "metadata": {},
     "output_type": "execute_result"
    }
   ],
   "source": [
    "sum(1000000000)"
   ]
  },
  {
   "cell_type": "code",
   "execution_count": 41,
   "metadata": {},
   "outputs": [
    {
     "name": "stderr",
     "output_type": "stream",
     "text": [
      "(console):1: integer number too large\n",
      "sum(10000000000)\n",
      "    ^"
     ]
    },
    {
     "ename": "",
     "evalue": "",
     "output_type": "error",
     "traceback": [
      "(console):1: integer number too large\nsum(10000000000)\n    ^"
     ]
    }
   ],
   "source": [
    "sum(10000000000)"
   ]
  },
  {
   "cell_type": "markdown",
   "metadata": {},
   "source": [
    "##### *Q. 퀵소트 같이 recursive call을 두 번 이상 해야되는 알고리즘들은 그러면 tail recursion을 할 수가 없나요?*\n",
    "> Yes, there exist functional quick sort algs.\n"
   ]
  },
  {
   "cell_type": "code",
   "execution_count": 61,
   "metadata": {},
   "outputs": [
    {
     "data": {
      "text/plain": [
       "\u001b[32mimport \u001b[39m\u001b[36mscala.annotation.tailrec\n",
       "\n",
       "\u001b[39m\n",
       "defined \u001b[32mfunction\u001b[39m \u001b[36mfibonacci\u001b[39m\n",
       "\u001b[36mres60_2\u001b[39m: \u001b[32mInt\u001b[39m = \u001b[32m55\u001b[39m"
      ]
     },
     "execution_count": 61,
     "metadata": {},
     "output_type": "execute_result"
    }
   ],
   "source": [
    "import scala.annotation.tailrec\n",
    "\n",
    "def fibonacci(n: Int): Int = {\n",
    "    @tailrec\n",
    "    def fiboTail(i: Int, fibo1: Int, fibo2: Int): Int = {\n",
    "        if (i == n) fibo1 + fibo2\n",
    "        else fiboTail(i+1, fibo1 + fibo2, fibo1)\n",
    "    }\n",
    "    fiboTail(1, 0, 1)\n",
    "}\n",
    "fibonacci(10)"
   ]
  },
  {
   "cell_type": "markdown",
   "metadata": {},
   "source": [
    "### ***Python doesn't have tail call optimizations. (philosophical reason)***\n",
    "\n",
    "*No readability, just use for-loops.*"
   ]
  }
 ],
 "metadata": {
  "kernelspec": {
   "display_name": "Scala",
   "language": "scala",
   "name": "scala"
  },
  "language_info": {
   "codemirror_mode": "text/x-scala",
   "file_extension": ".sc",
   "mimetype": "text/x-scala",
   "name": "scala",
   "nbconvert_exporter": "script",
   "version": "2.13.3"
  }
 },
 "nbformat": 4,
 "nbformat_minor": 4
}
