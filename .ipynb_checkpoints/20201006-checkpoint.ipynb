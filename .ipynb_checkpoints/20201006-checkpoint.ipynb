{
 "cells": [
  {
   "cell_type": "code",
   "execution_count": 1,
   "metadata": {},
   "outputs": [
    {
     "data": {
      "text/plain": [
       "defined \u001b[32mclass\u001b[39m \u001b[36mBTree\u001b[39m\n",
       "defined \u001b[32mclass\u001b[39m \u001b[36mLeaf\u001b[39m\n",
       "defined \u001b[32mclass\u001b[39m \u001b[36mNode\u001b[39m\n",
       "\u001b[36mt\u001b[39m: \u001b[32mNode\u001b[39m = \u001b[33mNode\u001b[39m(\n",
       "  \u001b[32m3\u001b[39m,\n",
       "  \u001b[33mNode\u001b[39m(\u001b[32m1\u001b[39m, Leaf(), Leaf()),\n",
       "  \u001b[33mNode\u001b[39m(\u001b[32m2\u001b[39m, Leaf(), \u001b[33mNode\u001b[39m(\u001b[32m4\u001b[39m, Leaf(), Leaf()))\n",
       ")"
      ]
     },
     "execution_count": 1,
     "metadata": {},
     "output_type": "execute_result"
    }
   ],
   "source": [
    "sealed abstract class BTree\n",
    "case class Leaf() extends BTree\n",
    "case class Node(value: Int, left: BTree, right: BTree) extends BTree\n",
    "\n",
    "val t = Node(3, Node(1, Leaf(), Leaf()), Node(2, Leaf(), Node(4, Leaf(), Leaf())))"
   ]
  },
  {
   "cell_type": "code",
   "execution_count": 2,
   "metadata": {},
   "outputs": [
    {
     "data": {
      "text/plain": [
       "defined \u001b[32mfunction\u001b[39m \u001b[36mfind\u001b[39m"
      ]
     },
     "execution_count": 2,
     "metadata": {},
     "output_type": "execute_result"
    }
   ],
   "source": [
    "def find(t: BTree, i: Int) : Boolean =\n",
    "    t match {\n",
    "        case Leaf() => false\n",
    "        case Node(n,_,_) if n == i => true\n",
    "        case Node(_, lt, rt) => find(lt, i) || find(rt, i)\n",
    "    }"
   ]
  },
  {
   "cell_type": "code",
   "execution_count": 3,
   "metadata": {},
   "outputs": [
    {
     "data": {
      "text/plain": [
       "defined \u001b[32mfunction\u001b[39m \u001b[36mt\u001b[39m\n",
       "\u001b[36mres2_1\u001b[39m: \u001b[32mBoolean\u001b[39m = true\n",
       "\u001b[36mres2_2\u001b[39m: \u001b[32mBoolean\u001b[39m = false"
      ]
     },
     "execution_count": 3,
     "metadata": {},
     "output_type": "execute_result"
    }
   ],
   "source": [
    "def t: BTree = Node(5,Node(4,Node(2,Leaf(),Leaf()),Leaf()),\n",
    "Node(7,Node(6,Leaf(),Leaf()),Leaf()))\n",
    "find(t,7)\n",
    "find(t,1)"
   ]
  },
  {
   "cell_type": "code",
   "execution_count": 7,
   "metadata": {},
   "outputs": [
    {
     "data": {
      "text/plain": [
       "defined \u001b[32mclass\u001b[39m \u001b[36mBTList\u001b[39m\n",
       "defined \u001b[32mclass\u001b[39m \u001b[36mBTNil\u001b[39m\n",
       "defined \u001b[32mclass\u001b[39m \u001b[36mBTCons\u001b[39m\n",
       "defined \u001b[32mfunction\u001b[39m \u001b[36mfind\u001b[39m\n",
       "defined \u001b[32mfunction\u001b[39m \u001b[36mgenTree\u001b[39m\n",
       "\u001b[36mres6_5\u001b[39m: \u001b[32mBoolean\u001b[39m = false"
      ]
     },
     "execution_count": 7,
     "metadata": {},
     "output_type": "execute_result"
    }
   ],
   "source": [
    "sealed abstract class BTList\n",
    "case class BTNil() extends BTList\n",
    "case class BTCons(hd: BTree, tl: BTList) extends BTList\n",
    "def find(t: BTree, x: Int) : Boolean = {\n",
    "    def findIter(ts: BTList) : Boolean =\n",
    "        ts match {\n",
    "            case BTNil() => false\n",
    "            case BTCons(Leaf(), tl) => findIter(tl)\n",
    "            case BTCons(Node(v, _, _), _) if v == x => true\n",
    "            case BTCons(Node(_, l, r), tl) =>\n",
    "                findIter(BTCons(l, BTCons(r, tl)))\n",
    "        }\n",
    "        findIter(BTCons(t, BTNil()))\n",
    "}\n",
    "def genTree(v: Int, n: Int) : BTree = {\n",
    "    def genTreeIter(t: BTree, m : Int) : BTree =\n",
    "        if (m == 0) t\n",
    "        else genTreeIter(Node(v, t, Leaf()), m-1)\n",
    "    genTreeIter(Leaf(), n)\n",
    "}\n",
    "find(genTree(0,100000), 1)"
   ]
  },
  {
   "cell_type": "markdown",
   "metadata": {},
   "source": [
    "### Typed Programming\n",
    "* untyped programming: no checking at compile time\n",
    "* why needs *compile-time type checking*?\n",
    "  * no type errors at run time\n",
    "  * no garbage collector, no free function (소유권 규칙)"
   ]
  },
  {
   "cell_type": "markdown",
   "metadata": {},
   "source": [
    "### Parametric Polymorphism\n",
    "* same as generic in java"
   ]
  },
  {
   "cell_type": "code",
   "execution_count": 9,
   "metadata": {},
   "outputs": [
    {
     "name": "stderr",
     "output_type": "stream",
     "text": [
      "cmd9.sc:1: type mismatch;\n",
      " found   : x.type (with underlying type Int)\n",
      " required: A\n",
      "def id[A](x: Int): A = x\n",
      "                       ^Compilation Failed"
     ]
    },
    {
     "ename": "",
     "evalue": "",
     "output_type": "error",
     "traceback": [
      "Compilation Failed"
     ]
    }
   ],
   "source": [
    "def id[A](x: A): A = x\n",
    "\n",
    "id(\"abc\")\n",
    "id(3)"
   ]
  }
 ],
 "metadata": {
  "kernelspec": {
   "display_name": "Scala",
   "language": "scala",
   "name": "scala"
  },
  "language_info": {
   "codemirror_mode": "text/x-scala",
   "file_extension": ".sc",
   "mimetype": "text/x-scala",
   "name": "scala",
   "nbconvert_exporter": "script",
   "version": "2.13.3"
  }
 },
 "nbformat": 4,
 "nbformat_minor": 4
}
