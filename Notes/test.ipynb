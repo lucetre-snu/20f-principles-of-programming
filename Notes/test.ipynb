{
 "cells": [
  {
   "cell_type": "code",
   "execution_count": 20,
   "metadata": {},
   "outputs": [
    {
     "name": "stdout",
     "output_type": "stream",
     "text": [
      "385"
     ]
    },
    {
     "data": {
      "text/plain": [
       "\u001b[32mimport \u001b[39m\u001b[36mscala.annotation.tailrec\n",
       "\u001b[39m\n",
       "\u001b[32mimport \u001b[39m\u001b[36mscala.util.control.TailCalls._\n",
       "\n",
       "\u001b[39m\n",
       "defined \u001b[32mfunction\u001b[39m \u001b[36msum\u001b[39m"
      ]
     },
     "execution_count": 20,
     "metadata": {},
     "output_type": "execute_result"
    }
   ],
   "source": [
    "import scala.annotation.tailrec\n",
    "import scala.util.control.TailCalls._\n",
    "\n",
    "def sum(f: Int=>Int, n: Int) = {\n",
    "    @tailrec\n",
    "    def sumCont(n: Int, cont: Int=>TailRec[Int]): Int = {\n",
    "        if (n <= 0) cont(0).result\n",
    "        else sumCont(n-1, (r) => tailcall(cont(r + f(n))))\n",
    "    }\n",
    "    sumCont(n, (r) => done(r))\n",
    "}\n",
    "print(sum((x)=>x*x, 10))"
   ]
  },
  {
   "cell_type": "code",
   "execution_count": 4,
   "metadata": {},
   "outputs": [
    {
     "name": "stdout",
     "output_type": "stream",
     "text": [
      "3628800"
     ]
    },
    {
     "data": {
      "text/plain": [
       "\u001b[32mimport \u001b[39m\u001b[36mscala.annotation.tailrec\n",
       "\u001b[39m\n",
       "\u001b[32mimport \u001b[39m\u001b[36mscala.util.control.TailCalls._\n",
       "\n",
       "\u001b[39m\n",
       "defined \u001b[32mfunction\u001b[39m \u001b[36mmapReduce\u001b[39m"
      ]
     },
     "execution_count": 4,
     "metadata": {},
     "output_type": "execute_result"
    }
   ],
   "source": [
    "import scala.annotation.tailrec\n",
    "import scala.util.control.TailCalls._\n",
    "\n",
    "def mapReduce(reduce: (Int,Int)=>Int, map: Int=>Int, n: Int) = {\n",
    "    @tailrec\n",
    "    def mapReduceCont(n: Int, cont: Int=>TailRec[Int]): Int = {\n",
    "        if (n <= 1) cont(1).result\n",
    "        else mapReduceCont(n-1, (r) => tailcall(cont(reduce(r,map(n)))))\n",
    "    }\n",
    "    mapReduceCont(n, (r) => done(r))\n",
    "}\n",
    "print(mapReduce((x,y)=>x*y, (x)=>x, 10))"
   ]
  },
  {
   "cell_type": "code",
   "execution_count": 8,
   "metadata": {},
   "outputs": [
    {
     "data": {
      "text/plain": [
       "\u001b[32mimport \u001b[39m\u001b[36mscala.annotation.tailrec\n",
       "\u001b[39m\n",
       "\u001b[32mimport \u001b[39m\u001b[36mscala.util.control.TailCalls._\n",
       "\n",
       "\u001b[39m\n",
       "defined \u001b[32mfunction\u001b[39m \u001b[36msum\u001b[39m\n",
       "defined \u001b[32mfunction\u001b[39m \u001b[36msumLinear\u001b[39m\n",
       "defined \u001b[32mfunction\u001b[39m \u001b[36msumSquare\u001b[39m\n",
       "\u001b[36mres7_5\u001b[39m: \u001b[32mInt\u001b[39m = \u001b[32m55\u001b[39m\n",
       "\u001b[36mres7_6\u001b[39m: \u001b[32mInt\u001b[39m = \u001b[32m1626540144\u001b[39m"
      ]
     },
     "execution_count": 8,
     "metadata": {},
     "output_type": "execute_result"
    }
   ],
   "source": [
    "import scala.annotation.tailrec\n",
    "import scala.util.control.TailCalls._\n",
    "\n",
    "def sum(f: Int=>Int): Int=>Int = {\n",
    "    def sumF(n: Int): Int = {\n",
    "        @tailrec\n",
    "        def sumCont(n: Int, cont: Int=>TailRec[Int]): Int = {\n",
    "            if (n <= 0) cont(0).result\n",
    "            else sumCont(n-1, (r) => tailcall(cont(r + f(n))))\n",
    "        }\n",
    "        sumCont(n, (r) => done(r))\n",
    "    }\n",
    "    sumF _\n",
    "}\n",
    "\n",
    "def sumLinear = sum((x)=>x)\n",
    "def sumSquare = sum((x)=>x*x)\n",
    "sumLinear(10)\n",
    "sumSquare(100000)"
   ]
  },
  {
   "cell_type": "code",
   "execution_count": 9,
   "metadata": {},
   "outputs": [
    {
     "data": {
      "text/plain": [
       "\u001b[32mimport \u001b[39m\u001b[36mscala.annotation.tailrec\n",
       "\u001b[39m\n",
       "\u001b[32mimport \u001b[39m\u001b[36mscala.util.control.TailCalls._\n",
       "\n",
       "\u001b[39m\n",
       "defined \u001b[32mfunction\u001b[39m \u001b[36msum\u001b[39m\n",
       "defined \u001b[32mfunction\u001b[39m \u001b[36msumLinear\u001b[39m\n",
       "defined \u001b[32mfunction\u001b[39m \u001b[36msumSquare\u001b[39m\n",
       "\u001b[36mres8_5\u001b[39m: \u001b[32mInt\u001b[39m = \u001b[32m55\u001b[39m\n",
       "\u001b[36mres8_6\u001b[39m: \u001b[32mInt\u001b[39m = \u001b[32m1626540144\u001b[39m"
      ]
     },
     "execution_count": 9,
     "metadata": {},
     "output_type": "execute_result"
    }
   ],
   "source": [
    "import scala.annotation.tailrec\n",
    "import scala.util.control.TailCalls._\n",
    "\n",
    "def sum(f: Int=>Int)(n: Int): Int = {\n",
    "    @tailrec\n",
    "    def sumCont(n: Int, cont: Int=>TailRec[Int]): Int = {\n",
    "        if (n <= 0) cont(0).result\n",
    "        else sumCont(n-1, (r) => tailcall(cont(r + f(n))))\n",
    "    }\n",
    "    sumCont(n, (r) => done(r))\n",
    "}\n",
    "\n",
    "def sumLinear = sum((x)=>x) _\n",
    "def sumSquare = sum((x)=>x*x) _\n",
    "sumLinear(10)\n",
    "sumSquare(100000)"
   ]
  },
  {
   "cell_type": "code",
   "execution_count": 25,
   "metadata": {
    "scrolled": true
   },
   "outputs": [
    {
     "ename": "",
     "evalue": "",
     "output_type": "error",
     "traceback": [
      "\u001b[31mjava.lang.StackOverflowError\u001b[39m\n  ammonite.$sess.cmd24$Helper.mapReduce(\u001b[32mcmd24.sc\u001b[39m:\u001b[32m2\u001b[39m)\n  ammonite.$sess.cmd24$Helper.mapReduce(\u001b[32mcmd24.sc\u001b[39m:\u001b[32m2\u001b[39m)\n  ammonite.$sess.cmd24$Helper.mapReduce(\u001b[32mcmd24.sc\u001b[39m:\u001b[32m2\u001b[39m)\n  ammonite.$sess.cmd24$Helper.mapReduce(\u001b[32mcmd24.sc\u001b[39m:\u001b[32m2\u001b[39m)\n  ammonite.$sess.cmd24$Helper.mapReduce(\u001b[32mcmd24.sc\u001b[39m:\u001b[32m2\u001b[39m)\n  ammonite.$sess.cmd24$Helper.mapReduce(\u001b[32mcmd24.sc\u001b[39m:\u001b[32m2\u001b[39m)\n  ammonite.$sess.cmd24$Helper.mapReduce(\u001b[32mcmd24.sc\u001b[39m:\u001b[32m2\u001b[39m)\n  ammonite.$sess.cmd24$Helper.mapReduce(\u001b[32mcmd24.sc\u001b[39m:\u001b[32m2\u001b[39m)\n  ammonite.$sess.cmd24$Helper.mapReduce(\u001b[32mcmd24.sc\u001b[39m:\u001b[32m2\u001b[39m)\n  ammonite.$sess.cmd24$Helper.mapReduce(\u001b[32mcmd24.sc\u001b[39m:\u001b[32m2\u001b[39m)\n  ammonite.$sess.cmd24$Helper.mapReduce(\u001b[32mcmd24.sc\u001b[39m:\u001b[32m2\u001b[39m)\n  ammonite.$sess.cmd24$Helper.mapReduce(\u001b[32mcmd24.sc\u001b[39m:\u001b[32m2\u001b[39m)\n  ammonite.$sess.cmd24$Helper.mapReduce(\u001b[32mcmd24.sc\u001b[39m:\u001b[32m2\u001b[39m)\n  ammonite.$sess.cmd24$Helper.mapReduce(\u001b[32mcmd24.sc\u001b[39m:\u001b[32m2\u001b[39m)\n  ammonite.$sess.cmd24$Helper.mapReduce(\u001b[32mcmd24.sc\u001b[39m:\u001b[32m2\u001b[39m)\n  ammonite.$sess.cmd24$Helper.mapReduce(\u001b[32mcmd24.sc\u001b[39m:\u001b[32m2\u001b[39m)\n  ammonite.$sess.cmd24$Helper.mapReduce(\u001b[32mcmd24.sc\u001b[39m:\u001b[32m2\u001b[39m)\n  ammonite.$sess.cmd24$Helper.mapReduce(\u001b[32mcmd24.sc\u001b[39m:\u001b[32m2\u001b[39m)\n  ammonite.$sess.cmd24$Helper.mapReduce(\u001b[32mcmd24.sc\u001b[39m:\u001b[32m2\u001b[39m)\n  ammonite.$sess.cmd24$Helper.mapReduce(\u001b[32mcmd24.sc\u001b[39m:\u001b[32m2\u001b[39m)\n  ammonite.$sess.cmd24$Helper.mapReduce(\u001b[32mcmd24.sc\u001b[39m:\u001b[32m2\u001b[39m)\n  ammonite.$sess.cmd24$Helper.mapReduce(\u001b[32mcmd24.sc\u001b[39m:\u001b[32m2\u001b[39m)\n  ammonite.$sess.cmd24$Helper.mapReduce(\u001b[32mcmd24.sc\u001b[39m:\u001b[32m2\u001b[39m)\n  ammonite.$sess.cmd24$Helper.mapReduce(\u001b[32mcmd24.sc\u001b[39m:\u001b[32m2\u001b[39m)\n  ammonite.$sess.cmd24$Helper.mapReduce(\u001b[32mcmd24.sc\u001b[39m:\u001b[32m2\u001b[39m)\n  ammonite.$sess.cmd24$Helper.mapReduce(\u001b[32mcmd24.sc\u001b[39m:\u001b[32m2\u001b[39m)\n  ammonite.$sess.cmd24$Helper.mapReduce(\u001b[32mcmd24.sc\u001b[39m:\u001b[32m2\u001b[39m)\n  ammonite.$sess.cmd24$Helper.mapReduce(\u001b[32mcmd24.sc\u001b[39m:\u001b[32m2\u001b[39m)\n  ammonite.$sess.cmd24$Helper.mapReduce(\u001b[32mcmd24.sc\u001b[39m:\u001b[32m2\u001b[39m)\n  ammonite.$sess.cmd24$Helper.mapReduce(\u001b[32mcmd24.sc\u001b[39m:\u001b[32m2\u001b[39m)\n  ammonite.$sess.cmd24$Helper.mapReduce(\u001b[32mcmd24.sc\u001b[39m:\u001b[32m2\u001b[39m)\n  ammonite.$sess.cmd24$Helper.mapReduce(\u001b[32mcmd24.sc\u001b[39m:\u001b[32m2\u001b[39m)\n  ammonite.$sess.cmd24$Helper.mapReduce(\u001b[32mcmd24.sc\u001b[39m:\u001b[32m2\u001b[39m)\n  ammonite.$sess.cmd24$Helper.mapReduce(\u001b[32mcmd24.sc\u001b[39m:\u001b[32m2\u001b[39m)\n  ammonite.$sess.cmd24$Helper.mapReduce(\u001b[32mcmd24.sc\u001b[39m:\u001b[32m2\u001b[39m)\n  ammonite.$sess.cmd24$Helper.mapReduce(\u001b[32mcmd24.sc\u001b[39m:\u001b[32m2\u001b[39m)\n  ammonite.$sess.cmd24$Helper.mapReduce(\u001b[32mcmd24.sc\u001b[39m:\u001b[32m2\u001b[39m)\n  ammonite.$sess.cmd24$Helper.mapReduce(\u001b[32mcmd24.sc\u001b[39m:\u001b[32m2\u001b[39m)\n  ammonite.$sess.cmd24$Helper.mapReduce(\u001b[32mcmd24.sc\u001b[39m:\u001b[32m2\u001b[39m)\n  ammonite.$sess.cmd24$Helper.mapReduce(\u001b[32mcmd24.sc\u001b[39m:\u001b[32m2\u001b[39m)\n  ammonite.$sess.cmd24$Helper.mapReduce(\u001b[32mcmd24.sc\u001b[39m:\u001b[32m2\u001b[39m)\n  ammonite.$sess.cmd24$Helper.mapReduce(\u001b[32mcmd24.sc\u001b[39m:\u001b[32m2\u001b[39m)\n  ammonite.$sess.cmd24$Helper.mapReduce(\u001b[32mcmd24.sc\u001b[39m:\u001b[32m2\u001b[39m)\n  ammonite.$sess.cmd24$Helper.mapReduce(\u001b[32mcmd24.sc\u001b[39m:\u001b[32m2\u001b[39m)\n  ammonite.$sess.cmd24$Helper.mapReduce(\u001b[32mcmd24.sc\u001b[39m:\u001b[32m2\u001b[39m)\n  ammonite.$sess.cmd24$Helper.mapReduce(\u001b[32mcmd24.sc\u001b[39m:\u001b[32m2\u001b[39m)\n  ammonite.$sess.cmd24$Helper.mapReduce(\u001b[32mcmd24.sc\u001b[39m:\u001b[32m2\u001b[39m)\n  ammonite.$sess.cmd24$Helper.mapReduce(\u001b[32mcmd24.sc\u001b[39m:\u001b[32m2\u001b[39m)\n  ammonite.$sess.cmd24$Helper.mapReduce(\u001b[32mcmd24.sc\u001b[39m:\u001b[32m2\u001b[39m)\n  ammonite.$sess.cmd24$Helper.mapReduce(\u001b[32mcmd24.sc\u001b[39m:\u001b[32m2\u001b[39m)\n  ammonite.$sess.cmd24$Helper.mapReduce(\u001b[32mcmd24.sc\u001b[39m:\u001b[32m2\u001b[39m)\n  ammonite.$sess.cmd24$Helper.mapReduce(\u001b[32mcmd24.sc\u001b[39m:\u001b[32m2\u001b[39m)\n  ammonite.$sess.cmd24$Helper.mapReduce(\u001b[32mcmd24.sc\u001b[39m:\u001b[32m2\u001b[39m)\n  ammonite.$sess.cmd24$Helper.mapReduce(\u001b[32mcmd24.sc\u001b[39m:\u001b[32m2\u001b[39m)\n  ammonite.$sess.cmd24$Helper.mapReduce(\u001b[32mcmd24.sc\u001b[39m:\u001b[32m2\u001b[39m)\n  ammonite.$sess.cmd24$Helper.mapReduce(\u001b[32mcmd24.sc\u001b[39m:\u001b[32m2\u001b[39m)\n  ammonite.$sess.cmd24$Helper.mapReduce(\u001b[32mcmd24.sc\u001b[39m:\u001b[32m2\u001b[39m)\n  ammonite.$sess.cmd24$Helper.mapReduce(\u001b[32mcmd24.sc\u001b[39m:\u001b[32m2\u001b[39m)\n  ammonite.$sess.cmd24$Helper.mapReduce(\u001b[32mcmd24.sc\u001b[39m:\u001b[32m2\u001b[39m)\n  ammonite.$sess.cmd24$Helper.mapReduce(\u001b[32mcmd24.sc\u001b[39m:\u001b[32m2\u001b[39m)\n  ammonite.$sess.cmd24$Helper.mapReduce(\u001b[32mcmd24.sc\u001b[39m:\u001b[32m2\u001b[39m)\n  ammonite.$sess.cmd24$Helper.mapReduce(\u001b[32mcmd24.sc\u001b[39m:\u001b[32m2\u001b[39m)\n  ammonite.$sess.cmd24$Helper.mapReduce(\u001b[32mcmd24.sc\u001b[39m:\u001b[32m2\u001b[39m)\n  ammonite.$sess.cmd24$Helper.mapReduce(\u001b[32mcmd24.sc\u001b[39m:\u001b[32m2\u001b[39m)\n  ammonite.$sess.cmd24$Helper.mapReduce(\u001b[32mcmd24.sc\u001b[39m:\u001b[32m2\u001b[39m)\n  ammonite.$sess.cmd24$Helper.mapReduce(\u001b[32mcmd24.sc\u001b[39m:\u001b[32m2\u001b[39m)\n  ammonite.$sess.cmd24$Helper.mapReduce(\u001b[32mcmd24.sc\u001b[39m:\u001b[32m2\u001b[39m)\n  ammonite.$sess.cmd24$Helper.mapReduce(\u001b[32mcmd24.sc\u001b[39m:\u001b[32m2\u001b[39m)\n  ammonite.$sess.cmd24$Helper.mapReduce(\u001b[32mcmd24.sc\u001b[39m:\u001b[32m2\u001b[39m)\n  ammonite.$sess.cmd24$Helper.mapReduce(\u001b[32mcmd24.sc\u001b[39m:\u001b[32m2\u001b[39m)\n  ammonite.$sess.cmd24$Helper.mapReduce(\u001b[32mcmd24.sc\u001b[39m:\u001b[32m2\u001b[39m)\n  ammonite.$sess.cmd24$Helper.mapReduce(\u001b[32mcmd24.sc\u001b[39m:\u001b[32m2\u001b[39m)\n  ammonite.$sess.cmd24$Helper.mapReduce(\u001b[32mcmd24.sc\u001b[39m:\u001b[32m2\u001b[39m)\n  ammonite.$sess.cmd24$Helper.mapReduce(\u001b[32mcmd24.sc\u001b[39m:\u001b[32m2\u001b[39m)\n  ammonite.$sess.cmd24$Helper.mapReduce(\u001b[32mcmd24.sc\u001b[39m:\u001b[32m2\u001b[39m)\n  ammonite.$sess.cmd24$Helper.mapReduce(\u001b[32mcmd24.sc\u001b[39m:\u001b[32m2\u001b[39m)\n  ammonite.$sess.cmd24$Helper.mapReduce(\u001b[32mcmd24.sc\u001b[39m:\u001b[32m2\u001b[39m)\n  ammonite.$sess.cmd24$Helper.mapReduce(\u001b[32mcmd24.sc\u001b[39m:\u001b[32m2\u001b[39m)\n  ammonite.$sess.cmd24$Helper.mapReduce(\u001b[32mcmd24.sc\u001b[39m:\u001b[32m2\u001b[39m)\n  ammonite.$sess.cmd24$Helper.mapReduce(\u001b[32mcmd24.sc\u001b[39m:\u001b[32m2\u001b[39m)\n  ammonite.$sess.cmd24$Helper.mapReduce(\u001b[32mcmd24.sc\u001b[39m:\u001b[32m2\u001b[39m)\n  ammonite.$sess.cmd24$Helper.mapReduce(\u001b[32mcmd24.sc\u001b[39m:\u001b[32m2\u001b[39m)\n  ammonite.$sess.cmd24$Helper.mapReduce(\u001b[32mcmd24.sc\u001b[39m:\u001b[32m2\u001b[39m)\n  ammonite.$sess.cmd24$Helper.mapReduce(\u001b[32mcmd24.sc\u001b[39m:\u001b[32m2\u001b[39m)\n  ammonite.$sess.cmd24$Helper.mapReduce(\u001b[32mcmd24.sc\u001b[39m:\u001b[32m2\u001b[39m)\n  ammonite.$sess.cmd24$Helper.mapReduce(\u001b[32mcmd24.sc\u001b[39m:\u001b[32m2\u001b[39m)\n  ammonite.$sess.cmd24$Helper.mapReduce(\u001b[32mcmd24.sc\u001b[39m:\u001b[32m2\u001b[39m)\n  ammonite.$sess.cmd24$Helper.mapReduce(\u001b[32mcmd24.sc\u001b[39m:\u001b[32m2\u001b[39m)\n  ammonite.$sess.cmd24$Helper.mapReduce(\u001b[32mcmd24.sc\u001b[39m:\u001b[32m2\u001b[39m)\n  ammonite.$sess.cmd24$Helper.mapReduce(\u001b[32mcmd24.sc\u001b[39m:\u001b[32m2\u001b[39m)\n  ammonite.$sess.cmd24$Helper.mapReduce(\u001b[32mcmd24.sc\u001b[39m:\u001b[32m2\u001b[39m)\n  ammonite.$sess.cmd24$Helper.mapReduce(\u001b[32mcmd24.sc\u001b[39m:\u001b[32m2\u001b[39m)\n  ammonite.$sess.cmd24$Helper.mapReduce(\u001b[32mcmd24.sc\u001b[39m:\u001b[32m2\u001b[39m)\n  ammonite.$sess.cmd24$Helper.mapReduce(\u001b[32mcmd24.sc\u001b[39m:\u001b[32m2\u001b[39m)\n  ammonite.$sess.cmd24$Helper.mapReduce(\u001b[32mcmd24.sc\u001b[39m:\u001b[32m2\u001b[39m)\n  ammonite.$sess.cmd24$Helper.mapReduce(\u001b[32mcmd24.sc\u001b[39m:\u001b[32m2\u001b[39m)\n  ammonite.$sess.cmd24$Helper.mapReduce(\u001b[32mcmd24.sc\u001b[39m:\u001b[32m2\u001b[39m)\n  ammonite.$sess.cmd24$Helper.mapReduce(\u001b[32mcmd24.sc\u001b[39m:\u001b[32m2\u001b[39m)\n  ammonite.$sess.cmd24$Helper.mapReduce(\u001b[32mcmd24.sc\u001b[39m:\u001b[32m2\u001b[39m)\n  ammonite.$sess.cmd24$Helper.mapReduce(\u001b[32mcmd24.sc\u001b[39m:\u001b[32m2\u001b[39m)\n  ammonite.$sess.cmd24$Helper.mapReduce(\u001b[32mcmd24.sc\u001b[39m:\u001b[32m2\u001b[39m)\n  ammonite.$sess.cmd24$Helper.mapReduce(\u001b[32mcmd24.sc\u001b[39m:\u001b[32m2\u001b[39m)\n  ammonite.$sess.cmd24$Helper.mapReduce(\u001b[32mcmd24.sc\u001b[39m:\u001b[32m2\u001b[39m)\n  ammonite.$sess.cmd24$Helper.mapReduce(\u001b[32mcmd24.sc\u001b[39m:\u001b[32m2\u001b[39m)\n  ammonite.$sess.cmd24$Helper.mapReduce(\u001b[32mcmd24.sc\u001b[39m:\u001b[32m2\u001b[39m)\n  ammonite.$sess.cmd24$Helper.mapReduce(\u001b[32mcmd24.sc\u001b[39m:\u001b[32m2\u001b[39m)\n  ammonite.$sess.cmd24$Helper.mapReduce(\u001b[32mcmd24.sc\u001b[39m:\u001b[32m2\u001b[39m)\n  ammonite.$sess.cmd24$Helper.mapReduce(\u001b[32mcmd24.sc\u001b[39m:\u001b[32m2\u001b[39m)\n  ammonite.$sess.cmd24$Helper.mapReduce(\u001b[32mcmd24.sc\u001b[39m:\u001b[32m2\u001b[39m)\n  ammonite.$sess.cmd24$Helper.mapReduce(\u001b[32mcmd24.sc\u001b[39m:\u001b[32m2\u001b[39m)\n  ammonite.$sess.cmd24$Helper.mapReduce(\u001b[32mcmd24.sc\u001b[39m:\u001b[32m2\u001b[39m)\n  ammonite.$sess.cmd24$Helper.mapReduce(\u001b[32mcmd24.sc\u001b[39m:\u001b[32m2\u001b[39m)\n  ammonite.$sess.cmd24$Helper.mapReduce(\u001b[32mcmd24.sc\u001b[39m:\u001b[32m2\u001b[39m)\n  ammonite.$sess.cmd24$Helper.mapReduce(\u001b[32mcmd24.sc\u001b[39m:\u001b[32m2\u001b[39m)\n  ammonite.$sess.cmd24$Helper.mapReduce(\u001b[32mcmd24.sc\u001b[39m:\u001b[32m2\u001b[39m)\n  ammonite.$sess.cmd24$Helper.mapReduce(\u001b[32mcmd24.sc\u001b[39m:\u001b[32m2\u001b[39m)\n  ammonite.$sess.cmd24$Helper.mapReduce(\u001b[32mcmd24.sc\u001b[39m:\u001b[32m2\u001b[39m)\n  ammonite.$sess.cmd24$Helper.mapReduce(\u001b[32mcmd24.sc\u001b[39m:\u001b[32m2\u001b[39m)\n  ammonite.$sess.cmd24$Helper.mapReduce(\u001b[32mcmd24.sc\u001b[39m:\u001b[32m2\u001b[39m)\n  ammonite.$sess.cmd24$Helper.mapReduce(\u001b[32mcmd24.sc\u001b[39m:\u001b[32m2\u001b[39m)\n  ammonite.$sess.cmd24$Helper.mapReduce(\u001b[32mcmd24.sc\u001b[39m:\u001b[32m2\u001b[39m)\n  ammonite.$sess.cmd24$Helper.mapReduce(\u001b[32mcmd24.sc\u001b[39m:\u001b[32m2\u001b[39m)\n  ammonite.$sess.cmd24$Helper.mapReduce(\u001b[32mcmd24.sc\u001b[39m:\u001b[32m2\u001b[39m)\n  ammonite.$sess.cmd24$Helper.mapReduce(\u001b[32mcmd24.sc\u001b[39m:\u001b[32m2\u001b[39m)\n  ammonite.$sess.cmd24$Helper.mapReduce(\u001b[32mcmd24.sc\u001b[39m:\u001b[32m2\u001b[39m)\n  ammonite.$sess.cmd24$Helper.mapReduce(\u001b[32mcmd24.sc\u001b[39m:\u001b[32m2\u001b[39m)\n  ammonite.$sess.cmd24$Helper.mapReduce(\u001b[32mcmd24.sc\u001b[39m:\u001b[32m2\u001b[39m)\n  ammonite.$sess.cmd24$Helper.mapReduce(\u001b[32mcmd24.sc\u001b[39m:\u001b[32m2\u001b[39m)\n  ammonite.$sess.cmd24$Helper.mapReduce(\u001b[32mcmd24.sc\u001b[39m:\u001b[32m2\u001b[39m)\n  ammonite.$sess.cmd24$Helper.mapReduce(\u001b[32mcmd24.sc\u001b[39m:\u001b[32m2\u001b[39m)\n  ammonite.$sess.cmd24$Helper.mapReduce(\u001b[32mcmd24.sc\u001b[39m:\u001b[32m2\u001b[39m)\n  ammonite.$sess.cmd24$Helper.mapReduce(\u001b[32mcmd24.sc\u001b[39m:\u001b[32m2\u001b[39m)\n  ammonite.$sess.cmd24$Helper.mapReduce(\u001b[32mcmd24.sc\u001b[39m:\u001b[32m2\u001b[39m)\n  ammonite.$sess.cmd24$Helper.mapReduce(\u001b[32mcmd24.sc\u001b[39m:\u001b[32m2\u001b[39m)\n  ammonite.$sess.cmd24$Helper.mapReduce(\u001b[32mcmd24.sc\u001b[39m:\u001b[32m2\u001b[39m)\n  ammonite.$sess.cmd24$Helper.mapReduce(\u001b[32mcmd24.sc\u001b[39m:\u001b[32m2\u001b[39m)\n  ammonite.$sess.cmd24$Helper.mapReduce(\u001b[32mcmd24.sc\u001b[39m:\u001b[32m2\u001b[39m)\n  ammonite.$sess.cmd24$Helper.mapReduce(\u001b[32mcmd24.sc\u001b[39m:\u001b[32m2\u001b[39m)\n  ammonite.$sess.cmd24$Helper.mapReduce(\u001b[32mcmd24.sc\u001b[39m:\u001b[32m2\u001b[39m)\n  ammonite.$sess.cmd24$Helper.mapReduce(\u001b[32mcmd24.sc\u001b[39m:\u001b[32m2\u001b[39m)\n  ammonite.$sess.cmd24$Helper.mapReduce(\u001b[32mcmd24.sc\u001b[39m:\u001b[32m2\u001b[39m)\n  ammonite.$sess.cmd24$Helper.mapReduce(\u001b[32mcmd24.sc\u001b[39m:\u001b[32m2\u001b[39m)\n  ammonite.$sess.cmd24$Helper.mapReduce(\u001b[32mcmd24.sc\u001b[39m:\u001b[32m2\u001b[39m)\n  ammonite.$sess.cmd24$Helper.mapReduce(\u001b[32mcmd24.sc\u001b[39m:\u001b[32m2\u001b[39m)\n  ammonite.$sess.cmd24$Helper.mapReduce(\u001b[32mcmd24.sc\u001b[39m:\u001b[32m2\u001b[39m)\n  ammonite.$sess.cmd24$Helper.mapReduce(\u001b[32mcmd24.sc\u001b[39m:\u001b[32m2\u001b[39m)\n  ammonite.$sess.cmd24$Helper.mapReduce(\u001b[32mcmd24.sc\u001b[39m:\u001b[32m2\u001b[39m)\n  ammonite.$sess.cmd24$Helper.mapReduce(\u001b[32mcmd24.sc\u001b[39m:\u001b[32m2\u001b[39m)\n  ammonite.$sess.cmd24$Helper.mapReduce(\u001b[32mcmd24.sc\u001b[39m:\u001b[32m2\u001b[39m)\n  ammonite.$sess.cmd24$Helper.mapReduce(\u001b[32mcmd24.sc\u001b[39m:\u001b[32m2\u001b[39m)\n  ammonite.$sess.cmd24$Helper.mapReduce(\u001b[32mcmd24.sc\u001b[39m:\u001b[32m2\u001b[39m)\n  ammonite.$sess.cmd24$Helper.mapReduce(\u001b[32mcmd24.sc\u001b[39m:\u001b[32m2\u001b[39m)\n  ammonite.$sess.cmd24$Helper.mapReduce(\u001b[32mcmd24.sc\u001b[39m:\u001b[32m2\u001b[39m)\n  ammonite.$sess.cmd24$Helper.mapReduce(\u001b[32mcmd24.sc\u001b[39m:\u001b[32m2\u001b[39m)\n  ammonite.$sess.cmd24$Helper.mapReduce(\u001b[32mcmd24.sc\u001b[39m:\u001b[32m2\u001b[39m)\n  ammonite.$sess.cmd24$Helper.mapReduce(\u001b[32mcmd24.sc\u001b[39m:\u001b[32m2\u001b[39m)\n  ammonite.$sess.cmd24$Helper.mapReduce(\u001b[32mcmd24.sc\u001b[39m:\u001b[32m2\u001b[39m)\n  ammonite.$sess.cmd24$Helper.mapReduce(\u001b[32mcmd24.sc\u001b[39m:\u001b[32m2\u001b[39m)\n  ammonite.$sess.cmd24$Helper.mapReduce(\u001b[32mcmd24.sc\u001b[39m:\u001b[32m2\u001b[39m)\n  ammonite.$sess.cmd24$Helper.mapReduce(\u001b[32mcmd24.sc\u001b[39m:\u001b[32m2\u001b[39m)\n  ammonite.$sess.cmd24$Helper.mapReduce(\u001b[32mcmd24.sc\u001b[39m:\u001b[32m2\u001b[39m)\n  ammonite.$sess.cmd24$Helper.mapReduce(\u001b[32mcmd24.sc\u001b[39m:\u001b[32m2\u001b[39m)\n  ammonite.$sess.cmd24$Helper.mapReduce(\u001b[32mcmd24.sc\u001b[39m:\u001b[32m2\u001b[39m)\n  ammonite.$sess.cmd24$Helper.mapReduce(\u001b[32mcmd24.sc\u001b[39m:\u001b[32m2\u001b[39m)\n  ammonite.$sess.cmd24$Helper.mapReduce(\u001b[32mcmd24.sc\u001b[39m:\u001b[32m2\u001b[39m)\n  ammonite.$sess.cmd24$Helper.mapReduce(\u001b[32mcmd24.sc\u001b[39m:\u001b[32m2\u001b[39m)\n  ammonite.$sess.cmd24$Helper.mapReduce(\u001b[32mcmd24.sc\u001b[39m:\u001b[32m2\u001b[39m)\n  ammonite.$sess.cmd24$Helper.mapReduce(\u001b[32mcmd24.sc\u001b[39m:\u001b[32m2\u001b[39m)\n  ammonite.$sess.cmd24$Helper.mapReduce(\u001b[32mcmd24.sc\u001b[39m:\u001b[32m2\u001b[39m)\n  ammonite.$sess.cmd24$Helper.mapReduce(\u001b[32mcmd24.sc\u001b[39m:\u001b[32m2\u001b[39m)\n  ammonite.$sess.cmd24$Helper.mapReduce(\u001b[32mcmd24.sc\u001b[39m:\u001b[32m2\u001b[39m)\n  ammonite.$sess.cmd24$Helper.mapReduce(\u001b[32mcmd24.sc\u001b[39m:\u001b[32m2\u001b[39m)\n  ammonite.$sess.cmd24$Helper.mapReduce(\u001b[32mcmd24.sc\u001b[39m:\u001b[32m2\u001b[39m)\n  ammonite.$sess.cmd24$Helper.mapReduce(\u001b[32mcmd24.sc\u001b[39m:\u001b[32m2\u001b[39m)\n  ammonite.$sess.cmd24$Helper.mapReduce(\u001b[32mcmd24.sc\u001b[39m:\u001b[32m2\u001b[39m)\n  ammonite.$sess.cmd24$Helper.mapReduce(\u001b[32mcmd24.sc\u001b[39m:\u001b[32m2\u001b[39m)\n  ammonite.$sess.cmd24$Helper.mapReduce(\u001b[32mcmd24.sc\u001b[39m:\u001b[32m2\u001b[39m)\n  ammonite.$sess.cmd24$Helper.mapReduce(\u001b[32mcmd24.sc\u001b[39m:\u001b[32m2\u001b[39m)\n  ammonite.$sess.cmd24$Helper.mapReduce(\u001b[32mcmd24.sc\u001b[39m:\u001b[32m2\u001b[39m)\n  ammonite.$sess.cmd24$Helper.mapReduce(\u001b[32mcmd24.sc\u001b[39m:\u001b[32m2\u001b[39m)\n  ammonite.$sess.cmd24$Helper.mapReduce(\u001b[32mcmd24.sc\u001b[39m:\u001b[32m2\u001b[39m)\n  ammonite.$sess.cmd24$Helper.mapReduce(\u001b[32mcmd24.sc\u001b[39m:\u001b[32m2\u001b[39m)\n  ammonite.$sess.cmd24$Helper.mapReduce(\u001b[32mcmd24.sc\u001b[39m:\u001b[32m2\u001b[39m)\n  ammonite.$sess.cmd24$Helper.mapReduce(\u001b[32mcmd24.sc\u001b[39m:\u001b[32m2\u001b[39m)\n  ammonite.$sess.cmd24$Helper.mapReduce(\u001b[32mcmd24.sc\u001b[39m:\u001b[32m2\u001b[39m)\n  ammonite.$sess.cmd24$Helper.mapReduce(\u001b[32mcmd24.sc\u001b[39m:\u001b[32m2\u001b[39m)\n  ammonite.$sess.cmd24$Helper.mapReduce(\u001b[32mcmd24.sc\u001b[39m:\u001b[32m2\u001b[39m)\n  ammonite.$sess.cmd24$Helper.mapReduce(\u001b[32mcmd24.sc\u001b[39m:\u001b[32m2\u001b[39m)\n  ammonite.$sess.cmd24$Helper.mapReduce(\u001b[32mcmd24.sc\u001b[39m:\u001b[32m2\u001b[39m)\n  ammonite.$sess.cmd24$Helper.mapReduce(\u001b[32mcmd24.sc\u001b[39m:\u001b[32m2\u001b[39m)\n  ammonite.$sess.cmd24$Helper.mapReduce(\u001b[32mcmd24.sc\u001b[39m:\u001b[32m2\u001b[39m)\n  ammonite.$sess.cmd24$Helper.mapReduce(\u001b[32mcmd24.sc\u001b[39m:\u001b[32m2\u001b[39m)\n  ammonite.$sess.cmd24$Helper.mapReduce(\u001b[32mcmd24.sc\u001b[39m:\u001b[32m2\u001b[39m)\n  ammonite.$sess.cmd24$Helper.mapReduce(\u001b[32mcmd24.sc\u001b[39m:\u001b[32m2\u001b[39m)\n  ammonite.$sess.cmd24$Helper.mapReduce(\u001b[32mcmd24.sc\u001b[39m:\u001b[32m2\u001b[39m)\n  ammonite.$sess.cmd24$Helper.mapReduce(\u001b[32mcmd24.sc\u001b[39m:\u001b[32m2\u001b[39m)\n  ammonite.$sess.cmd24$Helper.mapReduce(\u001b[32mcmd24.sc\u001b[39m:\u001b[32m2\u001b[39m)\n  ammonite.$sess.cmd24$Helper.mapReduce(\u001b[32mcmd24.sc\u001b[39m:\u001b[32m2\u001b[39m)\n  ammonite.$sess.cmd24$Helper.mapReduce(\u001b[32mcmd24.sc\u001b[39m:\u001b[32m2\u001b[39m)\n  ammonite.$sess.cmd24$Helper.mapReduce(\u001b[32mcmd24.sc\u001b[39m:\u001b[32m2\u001b[39m)\n  ammonite.$sess.cmd24$Helper.mapReduce(\u001b[32mcmd24.sc\u001b[39m:\u001b[32m2\u001b[39m)\n  ammonite.$sess.cmd24$Helper.mapReduce(\u001b[32mcmd24.sc\u001b[39m:\u001b[32m2\u001b[39m)\n  ammonite.$sess.cmd24$Helper.mapReduce(\u001b[32mcmd24.sc\u001b[39m:\u001b[32m2\u001b[39m)\n  ammonite.$sess.cmd24$Helper.mapReduce(\u001b[32mcmd24.sc\u001b[39m:\u001b[32m2\u001b[39m)\n  ammonite.$sess.cmd24$Helper.mapReduce(\u001b[32mcmd24.sc\u001b[39m:\u001b[32m2\u001b[39m)\n  ammonite.$sess.cmd24$Helper.mapReduce(\u001b[32mcmd24.sc\u001b[39m:\u001b[32m2\u001b[39m)\n  ammonite.$sess.cmd24$Helper.mapReduce(\u001b[32mcmd24.sc\u001b[39m:\u001b[32m2\u001b[39m)\n  ammonite.$sess.cmd24$Helper.mapReduce(\u001b[32mcmd24.sc\u001b[39m:\u001b[32m2\u001b[39m)\n  ammonite.$sess.cmd24$Helper.mapReduce(\u001b[32mcmd24.sc\u001b[39m:\u001b[32m2\u001b[39m)\n  ammonite.$sess.cmd24$Helper.mapReduce(\u001b[32mcmd24.sc\u001b[39m:\u001b[32m2\u001b[39m)\n  ammonite.$sess.cmd24$Helper.mapReduce(\u001b[32mcmd24.sc\u001b[39m:\u001b[32m2\u001b[39m)\n  ammonite.$sess.cmd24$Helper.mapReduce(\u001b[32mcmd24.sc\u001b[39m:\u001b[32m2\u001b[39m)\n  ammonite.$sess.cmd24$Helper.mapReduce(\u001b[32mcmd24.sc\u001b[39m:\u001b[32m2\u001b[39m)\n  ammonite.$sess.cmd24$Helper.mapReduce(\u001b[32mcmd24.sc\u001b[39m:\u001b[32m2\u001b[39m)\n  ammonite.$sess.cmd24$Helper.mapReduce(\u001b[32mcmd24.sc\u001b[39m:\u001b[32m2\u001b[39m)\n  ammonite.$sess.cmd24$Helper.mapReduce(\u001b[32mcmd24.sc\u001b[39m:\u001b[32m2\u001b[39m)\n  ammonite.$sess.cmd24$Helper.mapReduce(\u001b[32mcmd24.sc\u001b[39m:\u001b[32m2\u001b[39m)\n  ammonite.$sess.cmd24$Helper.mapReduce(\u001b[32mcmd24.sc\u001b[39m:\u001b[32m2\u001b[39m)\n  ammonite.$sess.cmd24$Helper.mapReduce(\u001b[32mcmd24.sc\u001b[39m:\u001b[32m2\u001b[39m)\n  ammonite.$sess.cmd24$Helper.mapReduce(\u001b[32mcmd24.sc\u001b[39m:\u001b[32m2\u001b[39m)\n  ammonite.$sess.cmd24$Helper.mapReduce(\u001b[32mcmd24.sc\u001b[39m:\u001b[32m2\u001b[39m)\n  ammonite.$sess.cmd24$Helper.mapReduce(\u001b[32mcmd24.sc\u001b[39m:\u001b[32m2\u001b[39m)\n  ammonite.$sess.cmd24$Helper.mapReduce(\u001b[32mcmd24.sc\u001b[39m:\u001b[32m2\u001b[39m)\n  ammonite.$sess.cmd24$Helper.mapReduce(\u001b[32mcmd24.sc\u001b[39m:\u001b[32m2\u001b[39m)\n  ammonite.$sess.cmd24$Helper.mapReduce(\u001b[32mcmd24.sc\u001b[39m:\u001b[32m2\u001b[39m)\n  ammonite.$sess.cmd24$Helper.mapReduce(\u001b[32mcmd24.sc\u001b[39m:\u001b[32m2\u001b[39m)\n  ammonite.$sess.cmd24$Helper.mapReduce(\u001b[32mcmd24.sc\u001b[39m:\u001b[32m2\u001b[39m)\n  ammonite.$sess.cmd24$Helper.mapReduce(\u001b[32mcmd24.sc\u001b[39m:\u001b[32m2\u001b[39m)\n  ammonite.$sess.cmd24$Helper.mapReduce(\u001b[32mcmd24.sc\u001b[39m:\u001b[32m2\u001b[39m)\n  ammonite.$sess.cmd24$Helper.mapReduce(\u001b[32mcmd24.sc\u001b[39m:\u001b[32m2\u001b[39m)\n  ammonite.$sess.cmd24$Helper.mapReduce(\u001b[32mcmd24.sc\u001b[39m:\u001b[32m2\u001b[39m)\n  ammonite.$sess.cmd24$Helper.mapReduce(\u001b[32mcmd24.sc\u001b[39m:\u001b[32m2\u001b[39m)\n  ammonite.$sess.cmd24$Helper.mapReduce(\u001b[32mcmd24.sc\u001b[39m:\u001b[32m2\u001b[39m)\n  ammonite.$sess.cmd24$Helper.mapReduce(\u001b[32mcmd24.sc\u001b[39m:\u001b[32m2\u001b[39m)\n  ammonite.$sess.cmd24$Helper.mapReduce(\u001b[32mcmd24.sc\u001b[39m:\u001b[32m2\u001b[39m)\n  ammonite.$sess.cmd24$Helper.mapReduce(\u001b[32mcmd24.sc\u001b[39m:\u001b[32m2\u001b[39m)\n  ammonite.$sess.cmd24$Helper.mapReduce(\u001b[32mcmd24.sc\u001b[39m:\u001b[32m2\u001b[39m)\n  ammonite.$sess.cmd24$Helper.mapReduce(\u001b[32mcmd24.sc\u001b[39m:\u001b[32m2\u001b[39m)\n  ammonite.$sess.cmd24$Helper.mapReduce(\u001b[32mcmd24.sc\u001b[39m:\u001b[32m2\u001b[39m)\n  ammonite.$sess.cmd24$Helper.mapReduce(\u001b[32mcmd24.sc\u001b[39m:\u001b[32m2\u001b[39m)\n  ammonite.$sess.cmd24$Helper.mapReduce(\u001b[32mcmd24.sc\u001b[39m:\u001b[32m2\u001b[39m)\n  ammonite.$sess.cmd24$Helper.mapReduce(\u001b[32mcmd24.sc\u001b[39m:\u001b[32m2\u001b[39m)\n  ammonite.$sess.cmd24$Helper.mapReduce(\u001b[32mcmd24.sc\u001b[39m:\u001b[32m2\u001b[39m)\n  ammonite.$sess.cmd24$Helper.mapReduce(\u001b[32mcmd24.sc\u001b[39m:\u001b[32m2\u001b[39m)\n  ammonite.$sess.cmd24$Helper.mapReduce(\u001b[32mcmd24.sc\u001b[39m:\u001b[32m2\u001b[39m)\n  ammonite.$sess.cmd24$Helper.mapReduce(\u001b[32mcmd24.sc\u001b[39m:\u001b[32m2\u001b[39m)\n  ammonite.$sess.cmd24$Helper.mapReduce(\u001b[32mcmd24.sc\u001b[39m:\u001b[32m2\u001b[39m)\n  ammonite.$sess.cmd24$Helper.mapReduce(\u001b[32mcmd24.sc\u001b[39m:\u001b[32m2\u001b[39m)\n  ammonite.$sess.cmd24$Helper.mapReduce(\u001b[32mcmd24.sc\u001b[39m:\u001b[32m2\u001b[39m)\n  ammonite.$sess.cmd24$Helper.mapReduce(\u001b[32mcmd24.sc\u001b[39m:\u001b[32m2\u001b[39m)\n  ammonite.$sess.cmd24$Helper.mapReduce(\u001b[32mcmd24.sc\u001b[39m:\u001b[32m2\u001b[39m)\n  ammonite.$sess.cmd24$Helper.mapReduce(\u001b[32mcmd24.sc\u001b[39m:\u001b[32m2\u001b[39m)\n  ammonite.$sess.cmd24$Helper.mapReduce(\u001b[32mcmd24.sc\u001b[39m:\u001b[32m2\u001b[39m)\n  ammonite.$sess.cmd24$Helper.mapReduce(\u001b[32mcmd24.sc\u001b[39m:\u001b[32m2\u001b[39m)\n  ammonite.$sess.cmd24$Helper.mapReduce(\u001b[32mcmd24.sc\u001b[39m:\u001b[32m2\u001b[39m)\n  ammonite.$sess.cmd24$Helper.mapReduce(\u001b[32mcmd24.sc\u001b[39m:\u001b[32m2\u001b[39m)\n  ammonite.$sess.cmd24$Helper.mapReduce(\u001b[32mcmd24.sc\u001b[39m:\u001b[32m2\u001b[39m)\n  ammonite.$sess.cmd24$Helper.mapReduce(\u001b[32mcmd24.sc\u001b[39m:\u001b[32m2\u001b[39m)\n  ammonite.$sess.cmd24$Helper.mapReduce(\u001b[32mcmd24.sc\u001b[39m:\u001b[32m2\u001b[39m)\n  ammonite.$sess.cmd24$Helper.mapReduce(\u001b[32mcmd24.sc\u001b[39m:\u001b[32m2\u001b[39m)\n  ammonite.$sess.cmd24$Helper.mapReduce(\u001b[32mcmd24.sc\u001b[39m:\u001b[32m2\u001b[39m)\n  ammonite.$sess.cmd24$Helper.mapReduce(\u001b[32mcmd24.sc\u001b[39m:\u001b[32m2\u001b[39m)\n  ammonite.$sess.cmd24$Helper.mapReduce(\u001b[32mcmd24.sc\u001b[39m:\u001b[32m2\u001b[39m)\n  ammonite.$sess.cmd24$Helper.mapReduce(\u001b[32mcmd24.sc\u001b[39m:\u001b[32m2\u001b[39m)\n  ammonite.$sess.cmd24$Helper.mapReduce(\u001b[32mcmd24.sc\u001b[39m:\u001b[32m2\u001b[39m)\n  ammonite.$sess.cmd24$Helper.mapReduce(\u001b[32mcmd24.sc\u001b[39m:\u001b[32m2\u001b[39m)\n  ammonite.$sess.cmd24$Helper.mapReduce(\u001b[32mcmd24.sc\u001b[39m:\u001b[32m2\u001b[39m)\n  ammonite.$sess.cmd24$Helper.mapReduce(\u001b[32mcmd24.sc\u001b[39m:\u001b[32m2\u001b[39m)\n  ammonite.$sess.cmd24$Helper.mapReduce(\u001b[32mcmd24.sc\u001b[39m:\u001b[32m2\u001b[39m)\n  ammonite.$sess.cmd24$Helper.mapReduce(\u001b[32mcmd24.sc\u001b[39m:\u001b[32m2\u001b[39m)\n  ammonite.$sess.cmd24$Helper.mapReduce(\u001b[32mcmd24.sc\u001b[39m:\u001b[32m2\u001b[39m)\n  ammonite.$sess.cmd24$Helper.mapReduce(\u001b[32mcmd24.sc\u001b[39m:\u001b[32m2\u001b[39m)\n  ammonite.$sess.cmd24$Helper.mapReduce(\u001b[32mcmd24.sc\u001b[39m:\u001b[32m2\u001b[39m)\n  ammonite.$sess.cmd24$Helper.mapReduce(\u001b[32mcmd24.sc\u001b[39m:\u001b[32m2\u001b[39m)\n  ammonite.$sess.cmd24$Helper.mapReduce(\u001b[32mcmd24.sc\u001b[39m:\u001b[32m2\u001b[39m)\n  ammonite.$sess.cmd24$Helper.mapReduce(\u001b[32mcmd24.sc\u001b[39m:\u001b[32m2\u001b[39m)\n  ammonite.$sess.cmd24$Helper.mapReduce(\u001b[32mcmd24.sc\u001b[39m:\u001b[32m2\u001b[39m)\n  ammonite.$sess.cmd24$Helper.mapReduce(\u001b[32mcmd24.sc\u001b[39m:\u001b[32m2\u001b[39m)\n  ammonite.$sess.cmd24$Helper.mapReduce(\u001b[32mcmd24.sc\u001b[39m:\u001b[32m2\u001b[39m)\n  ammonite.$sess.cmd24$Helper.mapReduce(\u001b[32mcmd24.sc\u001b[39m:\u001b[32m2\u001b[39m)\n  ammonite.$sess.cmd24$Helper.mapReduce(\u001b[32mcmd24.sc\u001b[39m:\u001b[32m2\u001b[39m)\n  ammonite.$sess.cmd24$Helper.mapReduce(\u001b[32mcmd24.sc\u001b[39m:\u001b[32m2\u001b[39m)\n  ammonite.$sess.cmd24$Helper.mapReduce(\u001b[32mcmd24.sc\u001b[39m:\u001b[32m2\u001b[39m)\n  ammonite.$sess.cmd24$Helper.mapReduce(\u001b[32mcmd24.sc\u001b[39m:\u001b[32m2\u001b[39m)\n  ammonite.$sess.cmd24$Helper.mapReduce(\u001b[32mcmd24.sc\u001b[39m:\u001b[32m2\u001b[39m)\n  ammonite.$sess.cmd24$Helper.mapReduce(\u001b[32mcmd24.sc\u001b[39m:\u001b[32m2\u001b[39m)\n  ammonite.$sess.cmd24$Helper.mapReduce(\u001b[32mcmd24.sc\u001b[39m:\u001b[32m2\u001b[39m)\n  ammonite.$sess.cmd24$Helper.mapReduce(\u001b[32mcmd24.sc\u001b[39m:\u001b[32m2\u001b[39m)\n  ammonite.$sess.cmd24$Helper.mapReduce(\u001b[32mcmd24.sc\u001b[39m:\u001b[32m2\u001b[39m)\n  ammonite.$sess.cmd24$Helper.mapReduce(\u001b[32mcmd24.sc\u001b[39m:\u001b[32m2\u001b[39m)\n  ammonite.$sess.cmd24$Helper.mapReduce(\u001b[32mcmd24.sc\u001b[39m:\u001b[32m2\u001b[39m)\n  ammonite.$sess.cmd24$Helper.mapReduce(\u001b[32mcmd24.sc\u001b[39m:\u001b[32m2\u001b[39m)\n  ammonite.$sess.cmd24$Helper.mapReduce(\u001b[32mcmd24.sc\u001b[39m:\u001b[32m2\u001b[39m)\n  ammonite.$sess.cmd24$Helper.mapReduce(\u001b[32mcmd24.sc\u001b[39m:\u001b[32m2\u001b[39m)\n  ammonite.$sess.cmd24$Helper.mapReduce(\u001b[32mcmd24.sc\u001b[39m:\u001b[32m2\u001b[39m)\n  ammonite.$sess.cmd24$Helper.mapReduce(\u001b[32mcmd24.sc\u001b[39m:\u001b[32m2\u001b[39m)\n  ammonite.$sess.cmd24$Helper.mapReduce(\u001b[32mcmd24.sc\u001b[39m:\u001b[32m2\u001b[39m)\n  ammonite.$sess.cmd24$Helper.mapReduce(\u001b[32mcmd24.sc\u001b[39m:\u001b[32m2\u001b[39m)\n  ammonite.$sess.cmd24$Helper.mapReduce(\u001b[32mcmd24.sc\u001b[39m:\u001b[32m2\u001b[39m)\n  ammonite.$sess.cmd24$Helper.mapReduce(\u001b[32mcmd24.sc\u001b[39m:\u001b[32m2\u001b[39m)\n  ammonite.$sess.cmd24$Helper.mapReduce(\u001b[32mcmd24.sc\u001b[39m:\u001b[32m2\u001b[39m)\n  ammonite.$sess.cmd24$Helper.mapReduce(\u001b[32mcmd24.sc\u001b[39m:\u001b[32m2\u001b[39m)\n  ammonite.$sess.cmd24$Helper.mapReduce(\u001b[32mcmd24.sc\u001b[39m:\u001b[32m2\u001b[39m)\n  ammonite.$sess.cmd24$Helper.mapReduce(\u001b[32mcmd24.sc\u001b[39m:\u001b[32m2\u001b[39m)\n  ammonite.$sess.cmd24$Helper.mapReduce(\u001b[32mcmd24.sc\u001b[39m:\u001b[32m2\u001b[39m)\n  ammonite.$sess.cmd24$Helper.mapReduce(\u001b[32mcmd24.sc\u001b[39m:\u001b[32m2\u001b[39m)\n  ammonite.$sess.cmd24$Helper.mapReduce(\u001b[32mcmd24.sc\u001b[39m:\u001b[32m2\u001b[39m)\n  ammonite.$sess.cmd24$Helper.mapReduce(\u001b[32mcmd24.sc\u001b[39m:\u001b[32m2\u001b[39m)\n  ammonite.$sess.cmd24$Helper.mapReduce(\u001b[32mcmd24.sc\u001b[39m:\u001b[32m2\u001b[39m)\n  ammonite.$sess.cmd24$Helper.mapReduce(\u001b[32mcmd24.sc\u001b[39m:\u001b[32m2\u001b[39m)\n  ammonite.$sess.cmd24$Helper.mapReduce(\u001b[32mcmd24.sc\u001b[39m:\u001b[32m2\u001b[39m)\n  ammonite.$sess.cmd24$Helper.mapReduce(\u001b[32mcmd24.sc\u001b[39m:\u001b[32m2\u001b[39m)\n  ammonite.$sess.cmd24$Helper.mapReduce(\u001b[32mcmd24.sc\u001b[39m:\u001b[32m2\u001b[39m)\n  ammonite.$sess.cmd24$Helper.mapReduce(\u001b[32mcmd24.sc\u001b[39m:\u001b[32m2\u001b[39m)\n  ammonite.$sess.cmd24$Helper.mapReduce(\u001b[32mcmd24.sc\u001b[39m:\u001b[32m2\u001b[39m)\n  ammonite.$sess.cmd24$Helper.mapReduce(\u001b[32mcmd24.sc\u001b[39m:\u001b[32m2\u001b[39m)\n  ammonite.$sess.cmd24$Helper.mapReduce(\u001b[32mcmd24.sc\u001b[39m:\u001b[32m2\u001b[39m)\n  ammonite.$sess.cmd24$Helper.mapReduce(\u001b[32mcmd24.sc\u001b[39m:\u001b[32m2\u001b[39m)\n  ammonite.$sess.cmd24$Helper.mapReduce(\u001b[32mcmd24.sc\u001b[39m:\u001b[32m2\u001b[39m)\n  ammonite.$sess.cmd24$Helper.mapReduce(\u001b[32mcmd24.sc\u001b[39m:\u001b[32m2\u001b[39m)\n  ammonite.$sess.cmd24$Helper.mapReduce(\u001b[32mcmd24.sc\u001b[39m:\u001b[32m2\u001b[39m)\n  ammonite.$sess.cmd24$Helper.mapReduce(\u001b[32mcmd24.sc\u001b[39m:\u001b[32m2\u001b[39m)\n  ammonite.$sess.cmd24$Helper.mapReduce(\u001b[32mcmd24.sc\u001b[39m:\u001b[32m2\u001b[39m)\n  ammonite.$sess.cmd24$Helper.mapReduce(\u001b[32mcmd24.sc\u001b[39m:\u001b[32m2\u001b[39m)\n  ammonite.$sess.cmd24$Helper.mapReduce(\u001b[32mcmd24.sc\u001b[39m:\u001b[32m2\u001b[39m)\n  ammonite.$sess.cmd24$Helper.mapReduce(\u001b[32mcmd24.sc\u001b[39m:\u001b[32m2\u001b[39m)\n  ammonite.$sess.cmd24$Helper.mapReduce(\u001b[32mcmd24.sc\u001b[39m:\u001b[32m2\u001b[39m)\n  ammonite.$sess.cmd24$Helper.mapReduce(\u001b[32mcmd24.sc\u001b[39m:\u001b[32m2\u001b[39m)\n  ammonite.$sess.cmd24$Helper.mapReduce(\u001b[32mcmd24.sc\u001b[39m:\u001b[32m2\u001b[39m)\n  ammonite.$sess.cmd24$Helper.mapReduce(\u001b[32mcmd24.sc\u001b[39m:\u001b[32m2\u001b[39m)\n  ammonite.$sess.cmd24$Helper.mapReduce(\u001b[32mcmd24.sc\u001b[39m:\u001b[32m2\u001b[39m)\n  ammonite.$sess.cmd24$Helper.mapReduce(\u001b[32mcmd24.sc\u001b[39m:\u001b[32m2\u001b[39m)\n  ammonite.$sess.cmd24$Helper.mapReduce(\u001b[32mcmd24.sc\u001b[39m:\u001b[32m2\u001b[39m)\n  ammonite.$sess.cmd24$Helper.mapReduce(\u001b[32mcmd24.sc\u001b[39m:\u001b[32m2\u001b[39m)\n  ammonite.$sess.cmd24$Helper.mapReduce(\u001b[32mcmd24.sc\u001b[39m:\u001b[32m2\u001b[39m)\n  ammonite.$sess.cmd24$Helper.mapReduce(\u001b[32mcmd24.sc\u001b[39m:\u001b[32m2\u001b[39m)\n  ammonite.$sess.cmd24$Helper.mapReduce(\u001b[32mcmd24.sc\u001b[39m:\u001b[32m2\u001b[39m)\n  ammonite.$sess.cmd24$Helper.mapReduce(\u001b[32mcmd24.sc\u001b[39m:\u001b[32m2\u001b[39m)\n  ammonite.$sess.cmd24$Helper.mapReduce(\u001b[32mcmd24.sc\u001b[39m:\u001b[32m2\u001b[39m)\n  ammonite.$sess.cmd24$Helper.mapReduce(\u001b[32mcmd24.sc\u001b[39m:\u001b[32m2\u001b[39m)\n  ammonite.$sess.cmd24$Helper.mapReduce(\u001b[32mcmd24.sc\u001b[39m:\u001b[32m2\u001b[39m)\n  ammonite.$sess.cmd24$Helper.mapReduce(\u001b[32mcmd24.sc\u001b[39m:\u001b[32m2\u001b[39m)\n  ammonite.$sess.cmd24$Helper.mapReduce(\u001b[32mcmd24.sc\u001b[39m:\u001b[32m2\u001b[39m)\n  ammonite.$sess.cmd24$Helper.mapReduce(\u001b[32mcmd24.sc\u001b[39m:\u001b[32m2\u001b[39m)\n  ammonite.$sess.cmd24$Helper.mapReduce(\u001b[32mcmd24.sc\u001b[39m:\u001b[32m2\u001b[39m)\n  ammonite.$sess.cmd24$Helper.mapReduce(\u001b[32mcmd24.sc\u001b[39m:\u001b[32m2\u001b[39m)\n  ammonite.$sess.cmd24$Helper.mapReduce(\u001b[32mcmd24.sc\u001b[39m:\u001b[32m2\u001b[39m)\n  ammonite.$sess.cmd24$Helper.mapReduce(\u001b[32mcmd24.sc\u001b[39m:\u001b[32m2\u001b[39m)\n  ammonite.$sess.cmd24$Helper.mapReduce(\u001b[32mcmd24.sc\u001b[39m:\u001b[32m2\u001b[39m)\n  ammonite.$sess.cmd24$Helper.mapReduce(\u001b[32mcmd24.sc\u001b[39m:\u001b[32m2\u001b[39m)\n  ammonite.$sess.cmd24$Helper.mapReduce(\u001b[32mcmd24.sc\u001b[39m:\u001b[32m2\u001b[39m)\n  ammonite.$sess.cmd24$Helper.mapReduce(\u001b[32mcmd24.sc\u001b[39m:\u001b[32m2\u001b[39m)\n  ammonite.$sess.cmd24$Helper.mapReduce(\u001b[32mcmd24.sc\u001b[39m:\u001b[32m2\u001b[39m)\n  ammonite.$sess.cmd24$Helper.mapReduce(\u001b[32mcmd24.sc\u001b[39m:\u001b[32m2\u001b[39m)\n  ammonite.$sess.cmd24$Helper.mapReduce(\u001b[32mcmd24.sc\u001b[39m:\u001b[32m2\u001b[39m)\n  ammonite.$sess.cmd24$Helper.mapReduce(\u001b[32mcmd24.sc\u001b[39m:\u001b[32m2\u001b[39m)\n  ammonite.$sess.cmd24$Helper.mapReduce(\u001b[32mcmd24.sc\u001b[39m:\u001b[32m2\u001b[39m)\n  ammonite.$sess.cmd24$Helper.mapReduce(\u001b[32mcmd24.sc\u001b[39m:\u001b[32m2\u001b[39m)\n  ammonite.$sess.cmd24$Helper.mapReduce(\u001b[32mcmd24.sc\u001b[39m:\u001b[32m2\u001b[39m)\n  ammonite.$sess.cmd24$Helper.mapReduce(\u001b[32mcmd24.sc\u001b[39m:\u001b[32m2\u001b[39m)\n  ammonite.$sess.cmd24$Helper.mapReduce(\u001b[32mcmd24.sc\u001b[39m:\u001b[32m2\u001b[39m)\n  ammonite.$sess.cmd24$Helper.mapReduce(\u001b[32mcmd24.sc\u001b[39m:\u001b[32m2\u001b[39m)\n  ammonite.$sess.cmd24$Helper.mapReduce(\u001b[32mcmd24.sc\u001b[39m:\u001b[32m2\u001b[39m)\n  ammonite.$sess.cmd24$Helper.mapReduce(\u001b[32mcmd24.sc\u001b[39m:\u001b[32m2\u001b[39m)\n  ammonite.$sess.cmd24$Helper.mapReduce(\u001b[32mcmd24.sc\u001b[39m:\u001b[32m2\u001b[39m)\n  ammonite.$sess.cmd24$Helper.mapReduce(\u001b[32mcmd24.sc\u001b[39m:\u001b[32m2\u001b[39m)\n  ammonite.$sess.cmd24$Helper.mapReduce(\u001b[32mcmd24.sc\u001b[39m:\u001b[32m2\u001b[39m)\n  ammonite.$sess.cmd24$Helper.mapReduce(\u001b[32mcmd24.sc\u001b[39m:\u001b[32m2\u001b[39m)\n  ammonite.$sess.cmd24$Helper.mapReduce(\u001b[32mcmd24.sc\u001b[39m:\u001b[32m2\u001b[39m)\n  ammonite.$sess.cmd24$Helper.mapReduce(\u001b[32mcmd24.sc\u001b[39m:\u001b[32m2\u001b[39m)\n  ammonite.$sess.cmd24$Helper.mapReduce(\u001b[32mcmd24.sc\u001b[39m:\u001b[32m2\u001b[39m)\n  ammonite.$sess.cmd24$Helper.mapReduce(\u001b[32mcmd24.sc\u001b[39m:\u001b[32m2\u001b[39m)\n  ammonite.$sess.cmd24$Helper.mapReduce(\u001b[32mcmd24.sc\u001b[39m:\u001b[32m2\u001b[39m)\n  ammonite.$sess.cmd24$Helper.mapReduce(\u001b[32mcmd24.sc\u001b[39m:\u001b[32m2\u001b[39m)\n  ammonite.$sess.cmd24$Helper.mapReduce(\u001b[32mcmd24.sc\u001b[39m:\u001b[32m2\u001b[39m)\n  ammonite.$sess.cmd24$Helper.mapReduce(\u001b[32mcmd24.sc\u001b[39m:\u001b[32m2\u001b[39m)\n  ammonite.$sess.cmd24$Helper.mapReduce(\u001b[32mcmd24.sc\u001b[39m:\u001b[32m2\u001b[39m)\n  ammonite.$sess.cmd24$Helper.mapReduce(\u001b[32mcmd24.sc\u001b[39m:\u001b[32m2\u001b[39m)\n  ammonite.$sess.cmd24$Helper.mapReduce(\u001b[32mcmd24.sc\u001b[39m:\u001b[32m2\u001b[39m)\n  ammonite.$sess.cmd24$Helper.mapReduce(\u001b[32mcmd24.sc\u001b[39m:\u001b[32m2\u001b[39m)\n  ammonite.$sess.cmd24$Helper.mapReduce(\u001b[32mcmd24.sc\u001b[39m:\u001b[32m2\u001b[39m)\n  ammonite.$sess.cmd24$Helper.mapReduce(\u001b[32mcmd24.sc\u001b[39m:\u001b[32m2\u001b[39m)\n  ammonite.$sess.cmd24$Helper.mapReduce(\u001b[32mcmd24.sc\u001b[39m:\u001b[32m2\u001b[39m)\n  ammonite.$sess.cmd24$Helper.mapReduce(\u001b[32mcmd24.sc\u001b[39m:\u001b[32m2\u001b[39m)\n  ammonite.$sess.cmd24$Helper.mapReduce(\u001b[32mcmd24.sc\u001b[39m:\u001b[32m2\u001b[39m)\n  ammonite.$sess.cmd24$Helper.mapReduce(\u001b[32mcmd24.sc\u001b[39m:\u001b[32m2\u001b[39m)\n  ammonite.$sess.cmd24$Helper.mapReduce(\u001b[32mcmd24.sc\u001b[39m:\u001b[32m2\u001b[39m)\n  ammonite.$sess.cmd24$Helper.mapReduce(\u001b[32mcmd24.sc\u001b[39m:\u001b[32m2\u001b[39m)\n  ammonite.$sess.cmd24$Helper.mapReduce(\u001b[32mcmd24.sc\u001b[39m:\u001b[32m2\u001b[39m)\n  ammonite.$sess.cmd24$Helper.mapReduce(\u001b[32mcmd24.sc\u001b[39m:\u001b[32m2\u001b[39m)\n  ammonite.$sess.cmd24$Helper.mapReduce(\u001b[32mcmd24.sc\u001b[39m:\u001b[32m2\u001b[39m)\n  ammonite.$sess.cmd24$Helper.mapReduce(\u001b[32mcmd24.sc\u001b[39m:\u001b[32m2\u001b[39m)\n  ammonite.$sess.cmd24$Helper.mapReduce(\u001b[32mcmd24.sc\u001b[39m:\u001b[32m2\u001b[39m)\n  ammonite.$sess.cmd24$Helper.mapReduce(\u001b[32mcmd24.sc\u001b[39m:\u001b[32m2\u001b[39m)\n  ammonite.$sess.cmd24$Helper.mapReduce(\u001b[32mcmd24.sc\u001b[39m:\u001b[32m2\u001b[39m)\n  ammonite.$sess.cmd24$Helper.mapReduce(\u001b[32mcmd24.sc\u001b[39m:\u001b[32m2\u001b[39m)\n  ammonite.$sess.cmd24$Helper.mapReduce(\u001b[32mcmd24.sc\u001b[39m:\u001b[32m2\u001b[39m)\n  ammonite.$sess.cmd24$Helper.mapReduce(\u001b[32mcmd24.sc\u001b[39m:\u001b[32m2\u001b[39m)\n  ammonite.$sess.cmd24$Helper.mapReduce(\u001b[32mcmd24.sc\u001b[39m:\u001b[32m2\u001b[39m)\n  ammonite.$sess.cmd24$Helper.mapReduce(\u001b[32mcmd24.sc\u001b[39m:\u001b[32m2\u001b[39m)\n  ammonite.$sess.cmd24$Helper.mapReduce(\u001b[32mcmd24.sc\u001b[39m:\u001b[32m2\u001b[39m)\n  ammonite.$sess.cmd24$Helper.mapReduce(\u001b[32mcmd24.sc\u001b[39m:\u001b[32m2\u001b[39m)\n  ammonite.$sess.cmd24$Helper.mapReduce(\u001b[32mcmd24.sc\u001b[39m:\u001b[32m2\u001b[39m)\n  ammonite.$sess.cmd24$Helper.mapReduce(\u001b[32mcmd24.sc\u001b[39m:\u001b[32m2\u001b[39m)\n  ammonite.$sess.cmd24$Helper.mapReduce(\u001b[32mcmd24.sc\u001b[39m:\u001b[32m2\u001b[39m)\n  ammonite.$sess.cmd24$Helper.mapReduce(\u001b[32mcmd24.sc\u001b[39m:\u001b[32m2\u001b[39m)\n  ammonite.$sess.cmd24$Helper.mapReduce(\u001b[32mcmd24.sc\u001b[39m:\u001b[32m2\u001b[39m)\n  ammonite.$sess.cmd24$Helper.mapReduce(\u001b[32mcmd24.sc\u001b[39m:\u001b[32m2\u001b[39m)\n  ammonite.$sess.cmd24$Helper.mapReduce(\u001b[32mcmd24.sc\u001b[39m:\u001b[32m2\u001b[39m)\n  ammonite.$sess.cmd24$Helper.mapReduce(\u001b[32mcmd24.sc\u001b[39m:\u001b[32m2\u001b[39m)\n  ammonite.$sess.cmd24$Helper.mapReduce(\u001b[32mcmd24.sc\u001b[39m:\u001b[32m2\u001b[39m)\n  ammonite.$sess.cmd24$Helper.mapReduce(\u001b[32mcmd24.sc\u001b[39m:\u001b[32m2\u001b[39m)\n  ammonite.$sess.cmd24$Helper.mapReduce(\u001b[32mcmd24.sc\u001b[39m:\u001b[32m2\u001b[39m)\n  ammonite.$sess.cmd24$Helper.mapReduce(\u001b[32mcmd24.sc\u001b[39m:\u001b[32m2\u001b[39m)\n  ammonite.$sess.cmd24$Helper.mapReduce(\u001b[32mcmd24.sc\u001b[39m:\u001b[32m2\u001b[39m)\n  ammonite.$sess.cmd24$Helper.mapReduce(\u001b[32mcmd24.sc\u001b[39m:\u001b[32m2\u001b[39m)\n  ammonite.$sess.cmd24$Helper.mapReduce(\u001b[32mcmd24.sc\u001b[39m:\u001b[32m2\u001b[39m)\n  ammonite.$sess.cmd24$Helper.mapReduce(\u001b[32mcmd24.sc\u001b[39m:\u001b[32m2\u001b[39m)\n  ammonite.$sess.cmd24$Helper.mapReduce(\u001b[32mcmd24.sc\u001b[39m:\u001b[32m2\u001b[39m)\n  ammonite.$sess.cmd24$Helper.mapReduce(\u001b[32mcmd24.sc\u001b[39m:\u001b[32m2\u001b[39m)\n  ammonite.$sess.cmd24$Helper.mapReduce(\u001b[32mcmd24.sc\u001b[39m:\u001b[32m2\u001b[39m)\n  ammonite.$sess.cmd24$Helper.mapReduce(\u001b[32mcmd24.sc\u001b[39m:\u001b[32m2\u001b[39m)\n  ammonite.$sess.cmd24$Helper.mapReduce(\u001b[32mcmd24.sc\u001b[39m:\u001b[32m2\u001b[39m)\n  ammonite.$sess.cmd24$Helper.mapReduce(\u001b[32mcmd24.sc\u001b[39m:\u001b[32m2\u001b[39m)\n  ammonite.$sess.cmd24$Helper.mapReduce(\u001b[32mcmd24.sc\u001b[39m:\u001b[32m2\u001b[39m)\n  ammonite.$sess.cmd24$Helper.mapReduce(\u001b[32mcmd24.sc\u001b[39m:\u001b[32m2\u001b[39m)\n  ammonite.$sess.cmd24$Helper.mapReduce(\u001b[32mcmd24.sc\u001b[39m:\u001b[32m2\u001b[39m)\n  ammonite.$sess.cmd24$Helper.mapReduce(\u001b[32mcmd24.sc\u001b[39m:\u001b[32m2\u001b[39m)\n  ammonite.$sess.cmd24$Helper.mapReduce(\u001b[32mcmd24.sc\u001b[39m:\u001b[32m2\u001b[39m)\n  ammonite.$sess.cmd24$Helper.mapReduce(\u001b[32mcmd24.sc\u001b[39m:\u001b[32m2\u001b[39m)\n  ammonite.$sess.cmd24$Helper.mapReduce(\u001b[32mcmd24.sc\u001b[39m:\u001b[32m2\u001b[39m)\n  ammonite.$sess.cmd24$Helper.mapReduce(\u001b[32mcmd24.sc\u001b[39m:\u001b[32m2\u001b[39m)\n  ammonite.$sess.cmd24$Helper.mapReduce(\u001b[32mcmd24.sc\u001b[39m:\u001b[32m2\u001b[39m)\n  ammonite.$sess.cmd24$Helper.mapReduce(\u001b[32mcmd24.sc\u001b[39m:\u001b[32m2\u001b[39m)\n  ammonite.$sess.cmd24$Helper.mapReduce(\u001b[32mcmd24.sc\u001b[39m:\u001b[32m2\u001b[39m)\n  ammonite.$sess.cmd24$Helper.mapReduce(\u001b[32mcmd24.sc\u001b[39m:\u001b[32m2\u001b[39m)\n  ammonite.$sess.cmd24$Helper.mapReduce(\u001b[32mcmd24.sc\u001b[39m:\u001b[32m2\u001b[39m)\n  ammonite.$sess.cmd24$Helper.mapReduce(\u001b[32mcmd24.sc\u001b[39m:\u001b[32m2\u001b[39m)\n  ammonite.$sess.cmd24$Helper.mapReduce(\u001b[32mcmd24.sc\u001b[39m:\u001b[32m2\u001b[39m)\n  ammonite.$sess.cmd24$Helper.mapReduce(\u001b[32mcmd24.sc\u001b[39m:\u001b[32m2\u001b[39m)\n  ammonite.$sess.cmd24$Helper.mapReduce(\u001b[32mcmd24.sc\u001b[39m:\u001b[32m2\u001b[39m)\n  ammonite.$sess.cmd24$Helper.mapReduce(\u001b[32mcmd24.sc\u001b[39m:\u001b[32m2\u001b[39m)\n  ammonite.$sess.cmd24$Helper.mapReduce(\u001b[32mcmd24.sc\u001b[39m:\u001b[32m2\u001b[39m)\n  ammonite.$sess.cmd24$Helper.mapReduce(\u001b[32mcmd24.sc\u001b[39m:\u001b[32m2\u001b[39m)\n  ammonite.$sess.cmd24$Helper.mapReduce(\u001b[32mcmd24.sc\u001b[39m:\u001b[32m2\u001b[39m)\n  ammonite.$sess.cmd24$Helper.mapReduce(\u001b[32mcmd24.sc\u001b[39m:\u001b[32m2\u001b[39m)\n  ammonite.$sess.cmd24$Helper.mapReduce(\u001b[32mcmd24.sc\u001b[39m:\u001b[32m2\u001b[39m)\n  ammonite.$sess.cmd24$Helper.mapReduce(\u001b[32mcmd24.sc\u001b[39m:\u001b[32m2\u001b[39m)\n  ammonite.$sess.cmd24$Helper.mapReduce(\u001b[32mcmd24.sc\u001b[39m:\u001b[32m2\u001b[39m)\n  ammonite.$sess.cmd24$Helper.mapReduce(\u001b[32mcmd24.sc\u001b[39m:\u001b[32m2\u001b[39m)\n  ammonite.$sess.cmd24$Helper.mapReduce(\u001b[32mcmd24.sc\u001b[39m:\u001b[32m2\u001b[39m)\n  ammonite.$sess.cmd24$Helper.mapReduce(\u001b[32mcmd24.sc\u001b[39m:\u001b[32m2\u001b[39m)\n  ammonite.$sess.cmd24$Helper.mapReduce(\u001b[32mcmd24.sc\u001b[39m:\u001b[32m2\u001b[39m)\n  ammonite.$sess.cmd24$Helper.mapReduce(\u001b[32mcmd24.sc\u001b[39m:\u001b[32m2\u001b[39m)\n  ammonite.$sess.cmd24$Helper.mapReduce(\u001b[32mcmd24.sc\u001b[39m:\u001b[32m2\u001b[39m)\n  ammonite.$sess.cmd24$Helper.mapReduce(\u001b[32mcmd24.sc\u001b[39m:\u001b[32m2\u001b[39m)\n  ammonite.$sess.cmd24$Helper.mapReduce(\u001b[32mcmd24.sc\u001b[39m:\u001b[32m2\u001b[39m)\n  ammonite.$sess.cmd24$Helper.mapReduce(\u001b[32mcmd24.sc\u001b[39m:\u001b[32m2\u001b[39m)\n  ammonite.$sess.cmd24$Helper.mapReduce(\u001b[32mcmd24.sc\u001b[39m:\u001b[32m2\u001b[39m)\n  ammonite.$sess.cmd24$Helper.mapReduce(\u001b[32mcmd24.sc\u001b[39m:\u001b[32m2\u001b[39m)\n  ammonite.$sess.cmd24$Helper.mapReduce(\u001b[32mcmd24.sc\u001b[39m:\u001b[32m2\u001b[39m)\n  ammonite.$sess.cmd24$Helper.mapReduce(\u001b[32mcmd24.sc\u001b[39m:\u001b[32m2\u001b[39m)\n  ammonite.$sess.cmd24$Helper.mapReduce(\u001b[32mcmd24.sc\u001b[39m:\u001b[32m2\u001b[39m)\n  ammonite.$sess.cmd24$Helper.mapReduce(\u001b[32mcmd24.sc\u001b[39m:\u001b[32m2\u001b[39m)\n  ammonite.$sess.cmd24$Helper.mapReduce(\u001b[32mcmd24.sc\u001b[39m:\u001b[32m2\u001b[39m)\n  ammonite.$sess.cmd24$Helper.mapReduce(\u001b[32mcmd24.sc\u001b[39m:\u001b[32m2\u001b[39m)\n  ammonite.$sess.cmd24$Helper.mapReduce(\u001b[32mcmd24.sc\u001b[39m:\u001b[32m2\u001b[39m)\n  ammonite.$sess.cmd24$Helper.mapReduce(\u001b[32mcmd24.sc\u001b[39m:\u001b[32m2\u001b[39m)\n  ammonite.$sess.cmd24$Helper.mapReduce(\u001b[32mcmd24.sc\u001b[39m:\u001b[32m2\u001b[39m)\n  ammonite.$sess.cmd24$Helper.mapReduce(\u001b[32mcmd24.sc\u001b[39m:\u001b[32m2\u001b[39m)\n  ammonite.$sess.cmd24$Helper.mapReduce(\u001b[32mcmd24.sc\u001b[39m:\u001b[32m2\u001b[39m)\n  ammonite.$sess.cmd24$Helper.mapReduce(\u001b[32mcmd24.sc\u001b[39m:\u001b[32m2\u001b[39m)\n  ammonite.$sess.cmd24$Helper.mapReduce(\u001b[32mcmd24.sc\u001b[39m:\u001b[32m2\u001b[39m)\n  ammonite.$sess.cmd24$Helper.mapReduce(\u001b[32mcmd24.sc\u001b[39m:\u001b[32m2\u001b[39m)\n  ammonite.$sess.cmd24$Helper.mapReduce(\u001b[32mcmd24.sc\u001b[39m:\u001b[32m2\u001b[39m)\n  ammonite.$sess.cmd24$Helper.mapReduce(\u001b[32mcmd24.sc\u001b[39m:\u001b[32m2\u001b[39m)\n  ammonite.$sess.cmd24$Helper.mapReduce(\u001b[32mcmd24.sc\u001b[39m:\u001b[32m2\u001b[39m)\n  ammonite.$sess.cmd24$Helper.mapReduce(\u001b[32mcmd24.sc\u001b[39m:\u001b[32m2\u001b[39m)\n  ammonite.$sess.cmd24$Helper.mapReduce(\u001b[32mcmd24.sc\u001b[39m:\u001b[32m2\u001b[39m)\n  ammonite.$sess.cmd24$Helper.mapReduce(\u001b[32mcmd24.sc\u001b[39m:\u001b[32m2\u001b[39m)\n  ammonite.$sess.cmd24$Helper.mapReduce(\u001b[32mcmd24.sc\u001b[39m:\u001b[32m2\u001b[39m)\n  ammonite.$sess.cmd24$Helper.mapReduce(\u001b[32mcmd24.sc\u001b[39m:\u001b[32m2\u001b[39m)\n  ammonite.$sess.cmd24$Helper.mapReduce(\u001b[32mcmd24.sc\u001b[39m:\u001b[32m2\u001b[39m)\n  ammonite.$sess.cmd24$Helper.mapReduce(\u001b[32mcmd24.sc\u001b[39m:\u001b[32m2\u001b[39m)\n  ammonite.$sess.cmd24$Helper.mapReduce(\u001b[32mcmd24.sc\u001b[39m:\u001b[32m2\u001b[39m)\n  ammonite.$sess.cmd24$Helper.mapReduce(\u001b[32mcmd24.sc\u001b[39m:\u001b[32m2\u001b[39m)\n  ammonite.$sess.cmd24$Helper.mapReduce(\u001b[32mcmd24.sc\u001b[39m:\u001b[32m2\u001b[39m)\n  ammonite.$sess.cmd24$Helper.mapReduce(\u001b[32mcmd24.sc\u001b[39m:\u001b[32m2\u001b[39m)\n  ammonite.$sess.cmd24$Helper.mapReduce(\u001b[32mcmd24.sc\u001b[39m:\u001b[32m2\u001b[39m)\n  ammonite.$sess.cmd24$Helper.mapReduce(\u001b[32mcmd24.sc\u001b[39m:\u001b[32m2\u001b[39m)\n  ammonite.$sess.cmd24$Helper.mapReduce(\u001b[32mcmd24.sc\u001b[39m:\u001b[32m2\u001b[39m)\n  ammonite.$sess.cmd24$Helper.mapReduce(\u001b[32mcmd24.sc\u001b[39m:\u001b[32m2\u001b[39m)\n  ammonite.$sess.cmd24$Helper.mapReduce(\u001b[32mcmd24.sc\u001b[39m:\u001b[32m2\u001b[39m)\n  ammonite.$sess.cmd24$Helper.mapReduce(\u001b[32mcmd24.sc\u001b[39m:\u001b[32m2\u001b[39m)\n  ammonite.$sess.cmd24$Helper.mapReduce(\u001b[32mcmd24.sc\u001b[39m:\u001b[32m2\u001b[39m)\n  ammonite.$sess.cmd24$Helper.mapReduce(\u001b[32mcmd24.sc\u001b[39m:\u001b[32m2\u001b[39m)\n  ammonite.$sess.cmd24$Helper.mapReduce(\u001b[32mcmd24.sc\u001b[39m:\u001b[32m2\u001b[39m)\n  ammonite.$sess.cmd24$Helper.mapReduce(\u001b[32mcmd24.sc\u001b[39m:\u001b[32m2\u001b[39m)\n  ammonite.$sess.cmd24$Helper.mapReduce(\u001b[32mcmd24.sc\u001b[39m:\u001b[32m2\u001b[39m)\n  ammonite.$sess.cmd24$Helper.mapReduce(\u001b[32mcmd24.sc\u001b[39m:\u001b[32m2\u001b[39m)\n  ammonite.$sess.cmd24$Helper.mapReduce(\u001b[32mcmd24.sc\u001b[39m:\u001b[32m2\u001b[39m)\n  ammonite.$sess.cmd24$Helper.mapReduce(\u001b[32mcmd24.sc\u001b[39m:\u001b[32m2\u001b[39m)\n  ammonite.$sess.cmd24$Helper.mapReduce(\u001b[32mcmd24.sc\u001b[39m:\u001b[32m2\u001b[39m)\n  ammonite.$sess.cmd24$Helper.mapReduce(\u001b[32mcmd24.sc\u001b[39m:\u001b[32m2\u001b[39m)\n  ammonite.$sess.cmd24$Helper.mapReduce(\u001b[32mcmd24.sc\u001b[39m:\u001b[32m2\u001b[39m)\n  ammonite.$sess.cmd24$Helper.mapReduce(\u001b[32mcmd24.sc\u001b[39m:\u001b[32m2\u001b[39m)\n  ammonite.$sess.cmd24$Helper.mapReduce(\u001b[32mcmd24.sc\u001b[39m:\u001b[32m2\u001b[39m)\n  ammonite.$sess.cmd24$Helper.mapReduce(\u001b[32mcmd24.sc\u001b[39m:\u001b[32m2\u001b[39m)\n  ammonite.$sess.cmd24$Helper.mapReduce(\u001b[32mcmd24.sc\u001b[39m:\u001b[32m2\u001b[39m)\n  ammonite.$sess.cmd24$Helper.mapReduce(\u001b[32mcmd24.sc\u001b[39m:\u001b[32m2\u001b[39m)\n  ammonite.$sess.cmd24$Helper.mapReduce(\u001b[32mcmd24.sc\u001b[39m:\u001b[32m2\u001b[39m)\n  ammonite.$sess.cmd24$Helper.mapReduce(\u001b[32mcmd24.sc\u001b[39m:\u001b[32m2\u001b[39m)\n  ammonite.$sess.cmd24$Helper.mapReduce(\u001b[32mcmd24.sc\u001b[39m:\u001b[32m2\u001b[39m)\n  ammonite.$sess.cmd24$Helper.mapReduce(\u001b[32mcmd24.sc\u001b[39m:\u001b[32m2\u001b[39m)\n  ammonite.$sess.cmd24$Helper.mapReduce(\u001b[32mcmd24.sc\u001b[39m:\u001b[32m2\u001b[39m)\n  ammonite.$sess.cmd24$Helper.mapReduce(\u001b[32mcmd24.sc\u001b[39m:\u001b[32m2\u001b[39m)\n  ammonite.$sess.cmd24$Helper.mapReduce(\u001b[32mcmd24.sc\u001b[39m:\u001b[32m2\u001b[39m)\n  ammonite.$sess.cmd24$Helper.mapReduce(\u001b[32mcmd24.sc\u001b[39m:\u001b[32m2\u001b[39m)\n  ammonite.$sess.cmd24$Helper.mapReduce(\u001b[32mcmd24.sc\u001b[39m:\u001b[32m2\u001b[39m)\n  ammonite.$sess.cmd24$Helper.mapReduce(\u001b[32mcmd24.sc\u001b[39m:\u001b[32m2\u001b[39m)\n  ammonite.$sess.cmd24$Helper.mapReduce(\u001b[32mcmd24.sc\u001b[39m:\u001b[32m2\u001b[39m)\n  ammonite.$sess.cmd24$Helper.mapReduce(\u001b[32mcmd24.sc\u001b[39m:\u001b[32m2\u001b[39m)\n  ammonite.$sess.cmd24$Helper.mapReduce(\u001b[32mcmd24.sc\u001b[39m:\u001b[32m2\u001b[39m)\n  ammonite.$sess.cmd24$Helper.mapReduce(\u001b[32mcmd24.sc\u001b[39m:\u001b[32m2\u001b[39m)\n  ammonite.$sess.cmd24$Helper.mapReduce(\u001b[32mcmd24.sc\u001b[39m:\u001b[32m2\u001b[39m)\n  ammonite.$sess.cmd24$Helper.mapReduce(\u001b[32mcmd24.sc\u001b[39m:\u001b[32m2\u001b[39m)\n  ammonite.$sess.cmd24$Helper.mapReduce(\u001b[32mcmd24.sc\u001b[39m:\u001b[32m2\u001b[39m)\n  ammonite.$sess.cmd24$Helper.mapReduce(\u001b[32mcmd24.sc\u001b[39m:\u001b[32m2\u001b[39m)\n  ammonite.$sess.cmd24$Helper.mapReduce(\u001b[32mcmd24.sc\u001b[39m:\u001b[32m2\u001b[39m)\n  ammonite.$sess.cmd24$Helper.mapReduce(\u001b[32mcmd24.sc\u001b[39m:\u001b[32m2\u001b[39m)\n  ammonite.$sess.cmd24$Helper.mapReduce(\u001b[32mcmd24.sc\u001b[39m:\u001b[32m2\u001b[39m)\n  ammonite.$sess.cmd24$Helper.mapReduce(\u001b[32mcmd24.sc\u001b[39m:\u001b[32m2\u001b[39m)\n  ammonite.$sess.cmd24$Helper.mapReduce(\u001b[32mcmd24.sc\u001b[39m:\u001b[32m2\u001b[39m)\n  ammonite.$sess.cmd24$Helper.mapReduce(\u001b[32mcmd24.sc\u001b[39m:\u001b[32m2\u001b[39m)\n  ammonite.$sess.cmd24$Helper.mapReduce(\u001b[32mcmd24.sc\u001b[39m:\u001b[32m2\u001b[39m)\n  ammonite.$sess.cmd24$Helper.mapReduce(\u001b[32mcmd24.sc\u001b[39m:\u001b[32m2\u001b[39m)\n  ammonite.$sess.cmd24$Helper.mapReduce(\u001b[32mcmd24.sc\u001b[39m:\u001b[32m2\u001b[39m)\n  ammonite.$sess.cmd24$Helper.mapReduce(\u001b[32mcmd24.sc\u001b[39m:\u001b[32m2\u001b[39m)\n  ammonite.$sess.cmd24$Helper.mapReduce(\u001b[32mcmd24.sc\u001b[39m:\u001b[32m2\u001b[39m)\n  ammonite.$sess.cmd24$Helper.mapReduce(\u001b[32mcmd24.sc\u001b[39m:\u001b[32m2\u001b[39m)\n  ammonite.$sess.cmd24$Helper.mapReduce(\u001b[32mcmd24.sc\u001b[39m:\u001b[32m2\u001b[39m)\n  ammonite.$sess.cmd24$Helper.mapReduce(\u001b[32mcmd24.sc\u001b[39m:\u001b[32m2\u001b[39m)\n  ammonite.$sess.cmd24$Helper.mapReduce(\u001b[32mcmd24.sc\u001b[39m:\u001b[32m2\u001b[39m)\n  ammonite.$sess.cmd24$Helper.mapReduce(\u001b[32mcmd24.sc\u001b[39m:\u001b[32m2\u001b[39m)\n  ammonite.$sess.cmd24$Helper.mapReduce(\u001b[32mcmd24.sc\u001b[39m:\u001b[32m2\u001b[39m)\n  ammonite.$sess.cmd24$Helper.mapReduce(\u001b[32mcmd24.sc\u001b[39m:\u001b[32m2\u001b[39m)\n  ammonite.$sess.cmd24$Helper.mapReduce(\u001b[32mcmd24.sc\u001b[39m:\u001b[32m2\u001b[39m)\n  ammonite.$sess.cmd24$Helper.mapReduce(\u001b[32mcmd24.sc\u001b[39m:\u001b[32m2\u001b[39m)\n  ammonite.$sess.cmd24$Helper.mapReduce(\u001b[32mcmd24.sc\u001b[39m:\u001b[32m2\u001b[39m)\n  ammonite.$sess.cmd24$Helper.mapReduce(\u001b[32mcmd24.sc\u001b[39m:\u001b[32m2\u001b[39m)\n  ammonite.$sess.cmd24$Helper.mapReduce(\u001b[32mcmd24.sc\u001b[39m:\u001b[32m2\u001b[39m)\n  ammonite.$sess.cmd24$Helper.mapReduce(\u001b[32mcmd24.sc\u001b[39m:\u001b[32m2\u001b[39m)\n  ammonite.$sess.cmd24$Helper.mapReduce(\u001b[32mcmd24.sc\u001b[39m:\u001b[32m2\u001b[39m)\n  ammonite.$sess.cmd24$Helper.mapReduce(\u001b[32mcmd24.sc\u001b[39m:\u001b[32m2\u001b[39m)\n  ammonite.$sess.cmd24$Helper.mapReduce(\u001b[32mcmd24.sc\u001b[39m:\u001b[32m2\u001b[39m)\n  ammonite.$sess.cmd24$Helper.mapReduce(\u001b[32mcmd24.sc\u001b[39m:\u001b[32m2\u001b[39m)\n  ammonite.$sess.cmd24$Helper.mapReduce(\u001b[32mcmd24.sc\u001b[39m:\u001b[32m2\u001b[39m)\n  ammonite.$sess.cmd24$Helper.mapReduce(\u001b[32mcmd24.sc\u001b[39m:\u001b[32m2\u001b[39m)\n  ammonite.$sess.cmd24$Helper.mapReduce(\u001b[32mcmd24.sc\u001b[39m:\u001b[32m2\u001b[39m)\n  ammonite.$sess.cmd24$Helper.mapReduce(\u001b[32mcmd24.sc\u001b[39m:\u001b[32m2\u001b[39m)\n  ammonite.$sess.cmd24$Helper.mapReduce(\u001b[32mcmd24.sc\u001b[39m:\u001b[32m2\u001b[39m)\n  ammonite.$sess.cmd24$Helper.mapReduce(\u001b[32mcmd24.sc\u001b[39m:\u001b[32m2\u001b[39m)\n  ammonite.$sess.cmd24$Helper.mapReduce(\u001b[32mcmd24.sc\u001b[39m:\u001b[32m2\u001b[39m)\n  ammonite.$sess.cmd24$Helper.mapReduce(\u001b[32mcmd24.sc\u001b[39m:\u001b[32m2\u001b[39m)\n  ammonite.$sess.cmd24$Helper.mapReduce(\u001b[32mcmd24.sc\u001b[39m:\u001b[32m2\u001b[39m)\n  ammonite.$sess.cmd24$Helper.mapReduce(\u001b[32mcmd24.sc\u001b[39m:\u001b[32m2\u001b[39m)\n  ammonite.$sess.cmd24$Helper.mapReduce(\u001b[32mcmd24.sc\u001b[39m:\u001b[32m2\u001b[39m)\n  ammonite.$sess.cmd24$Helper.mapReduce(\u001b[32mcmd24.sc\u001b[39m:\u001b[32m2\u001b[39m)\n  ammonite.$sess.cmd24$Helper.mapReduce(\u001b[32mcmd24.sc\u001b[39m:\u001b[32m2\u001b[39m)\n  ammonite.$sess.cmd24$Helper.mapReduce(\u001b[32mcmd24.sc\u001b[39m:\u001b[32m2\u001b[39m)\n  ammonite.$sess.cmd24$Helper.mapReduce(\u001b[32mcmd24.sc\u001b[39m:\u001b[32m2\u001b[39m)\n  ammonite.$sess.cmd24$Helper.mapReduce(\u001b[32mcmd24.sc\u001b[39m:\u001b[32m2\u001b[39m)\n  ammonite.$sess.cmd24$Helper.mapReduce(\u001b[32mcmd24.sc\u001b[39m:\u001b[32m2\u001b[39m)\n  ammonite.$sess.cmd24$Helper.mapReduce(\u001b[32mcmd24.sc\u001b[39m:\u001b[32m2\u001b[39m)\n  ammonite.$sess.cmd24$Helper.mapReduce(\u001b[32mcmd24.sc\u001b[39m:\u001b[32m2\u001b[39m)\n  ammonite.$sess.cmd24$Helper.mapReduce(\u001b[32mcmd24.sc\u001b[39m:\u001b[32m2\u001b[39m)\n  ammonite.$sess.cmd24$Helper.mapReduce(\u001b[32mcmd24.sc\u001b[39m:\u001b[32m2\u001b[39m)\n  ammonite.$sess.cmd24$Helper.mapReduce(\u001b[32mcmd24.sc\u001b[39m:\u001b[32m2\u001b[39m)\n  ammonite.$sess.cmd24$Helper.mapReduce(\u001b[32mcmd24.sc\u001b[39m:\u001b[32m2\u001b[39m)\n  ammonite.$sess.cmd24$Helper.mapReduce(\u001b[32mcmd24.sc\u001b[39m:\u001b[32m2\u001b[39m)\n  ammonite.$sess.cmd24$Helper.mapReduce(\u001b[32mcmd24.sc\u001b[39m:\u001b[32m2\u001b[39m)\n  ammonite.$sess.cmd24$Helper.mapReduce(\u001b[32mcmd24.sc\u001b[39m:\u001b[32m2\u001b[39m)\n  ammonite.$sess.cmd24$Helper.mapReduce(\u001b[32mcmd24.sc\u001b[39m:\u001b[32m2\u001b[39m)\n  ammonite.$sess.cmd24$Helper.mapReduce(\u001b[32mcmd24.sc\u001b[39m:\u001b[32m2\u001b[39m)\n  ammonite.$sess.cmd24$Helper.mapReduce(\u001b[32mcmd24.sc\u001b[39m:\u001b[32m2\u001b[39m)\n  ammonite.$sess.cmd24$Helper.mapReduce(\u001b[32mcmd24.sc\u001b[39m:\u001b[32m2\u001b[39m)\n  ammonite.$sess.cmd24$Helper.mapReduce(\u001b[32mcmd24.sc\u001b[39m:\u001b[32m2\u001b[39m)\n  ammonite.$sess.cmd24$Helper.mapReduce(\u001b[32mcmd24.sc\u001b[39m:\u001b[32m2\u001b[39m)\n  ammonite.$sess.cmd24$Helper.mapReduce(\u001b[32mcmd24.sc\u001b[39m:\u001b[32m2\u001b[39m)\n  ammonite.$sess.cmd24$Helper.mapReduce(\u001b[32mcmd24.sc\u001b[39m:\u001b[32m2\u001b[39m)\n  ammonite.$sess.cmd24$Helper.mapReduce(\u001b[32mcmd24.sc\u001b[39m:\u001b[32m2\u001b[39m)\n  ammonite.$sess.cmd24$Helper.mapReduce(\u001b[32mcmd24.sc\u001b[39m:\u001b[32m2\u001b[39m)\n  ammonite.$sess.cmd24$Helper.mapReduce(\u001b[32mcmd24.sc\u001b[39m:\u001b[32m2\u001b[39m)\n  ammonite.$sess.cmd24$Helper.mapReduce(\u001b[32mcmd24.sc\u001b[39m:\u001b[32m2\u001b[39m)\n  ammonite.$sess.cmd24$Helper.mapReduce(\u001b[32mcmd24.sc\u001b[39m:\u001b[32m2\u001b[39m)\n  ammonite.$sess.cmd24$Helper.mapReduce(\u001b[32mcmd24.sc\u001b[39m:\u001b[32m2\u001b[39m)\n  ammonite.$sess.cmd24$Helper.mapReduce(\u001b[32mcmd24.sc\u001b[39m:\u001b[32m2\u001b[39m)\n  ammonite.$sess.cmd24$Helper.mapReduce(\u001b[32mcmd24.sc\u001b[39m:\u001b[32m2\u001b[39m)\n  ammonite.$sess.cmd24$Helper.mapReduce(\u001b[32mcmd24.sc\u001b[39m:\u001b[32m2\u001b[39m)\n  ammonite.$sess.cmd24$Helper.mapReduce(\u001b[32mcmd24.sc\u001b[39m:\u001b[32m2\u001b[39m)\n  ammonite.$sess.cmd24$Helper.mapReduce(\u001b[32mcmd24.sc\u001b[39m:\u001b[32m2\u001b[39m)\n  ammonite.$sess.cmd24$Helper.mapReduce(\u001b[32mcmd24.sc\u001b[39m:\u001b[32m2\u001b[39m)\n  ammonite.$sess.cmd24$Helper.mapReduce(\u001b[32mcmd24.sc\u001b[39m:\u001b[32m2\u001b[39m)\n  ammonite.$sess.cmd24$Helper.mapReduce(\u001b[32mcmd24.sc\u001b[39m:\u001b[32m2\u001b[39m)\n  ammonite.$sess.cmd24$Helper.mapReduce(\u001b[32mcmd24.sc\u001b[39m:\u001b[32m2\u001b[39m)\n  ammonite.$sess.cmd24$Helper.mapReduce(\u001b[32mcmd24.sc\u001b[39m:\u001b[32m2\u001b[39m)\n  ammonite.$sess.cmd24$Helper.mapReduce(\u001b[32mcmd24.sc\u001b[39m:\u001b[32m2\u001b[39m)\n  ammonite.$sess.cmd24$Helper.mapReduce(\u001b[32mcmd24.sc\u001b[39m:\u001b[32m2\u001b[39m)\n  ammonite.$sess.cmd24$Helper.mapReduce(\u001b[32mcmd24.sc\u001b[39m:\u001b[32m2\u001b[39m)\n  ammonite.$sess.cmd24$Helper.mapReduce(\u001b[32mcmd24.sc\u001b[39m:\u001b[32m2\u001b[39m)\n  ammonite.$sess.cmd24$Helper.mapReduce(\u001b[32mcmd24.sc\u001b[39m:\u001b[32m2\u001b[39m)\n  ammonite.$sess.cmd24$Helper.mapReduce(\u001b[32mcmd24.sc\u001b[39m:\u001b[32m2\u001b[39m)\n  ammonite.$sess.cmd24$Helper.mapReduce(\u001b[32mcmd24.sc\u001b[39m:\u001b[32m2\u001b[39m)\n  ammonite.$sess.cmd24$Helper.mapReduce(\u001b[32mcmd24.sc\u001b[39m:\u001b[32m2\u001b[39m)\n  ammonite.$sess.cmd24$Helper.mapReduce(\u001b[32mcmd24.sc\u001b[39m:\u001b[32m2\u001b[39m)\n  ammonite.$sess.cmd24$Helper.mapReduce(\u001b[32mcmd24.sc\u001b[39m:\u001b[32m2\u001b[39m)\n  ammonite.$sess.cmd24$Helper.mapReduce(\u001b[32mcmd24.sc\u001b[39m:\u001b[32m2\u001b[39m)\n  ammonite.$sess.cmd24$Helper.mapReduce(\u001b[32mcmd24.sc\u001b[39m:\u001b[32m2\u001b[39m)\n  ammonite.$sess.cmd24$Helper.mapReduce(\u001b[32mcmd24.sc\u001b[39m:\u001b[32m2\u001b[39m)\n  ammonite.$sess.cmd24$Helper.mapReduce(\u001b[32mcmd24.sc\u001b[39m:\u001b[32m2\u001b[39m)\n  ammonite.$sess.cmd24$Helper.mapReduce(\u001b[32mcmd24.sc\u001b[39m:\u001b[32m2\u001b[39m)\n  ammonite.$sess.cmd24$Helper.mapReduce(\u001b[32mcmd24.sc\u001b[39m:\u001b[32m2\u001b[39m)\n  ammonite.$sess.cmd24$Helper.mapReduce(\u001b[32mcmd24.sc\u001b[39m:\u001b[32m2\u001b[39m)\n  ammonite.$sess.cmd24$Helper.mapReduce(\u001b[32mcmd24.sc\u001b[39m:\u001b[32m2\u001b[39m)\n  ammonite.$sess.cmd24$Helper.mapReduce(\u001b[32mcmd24.sc\u001b[39m:\u001b[32m2\u001b[39m)\n  ammonite.$sess.cmd24$Helper.mapReduce(\u001b[32mcmd24.sc\u001b[39m:\u001b[32m2\u001b[39m)\n  ammonite.$sess.cmd24$Helper.mapReduce(\u001b[32mcmd24.sc\u001b[39m:\u001b[32m2\u001b[39m)\n  ammonite.$sess.cmd24$Helper.mapReduce(\u001b[32mcmd24.sc\u001b[39m:\u001b[32m2\u001b[39m)\n  ammonite.$sess.cmd24$Helper.mapReduce(\u001b[32mcmd24.sc\u001b[39m:\u001b[32m2\u001b[39m)\n  ammonite.$sess.cmd24$Helper.mapReduce(\u001b[32mcmd24.sc\u001b[39m:\u001b[32m2\u001b[39m)\n  ammonite.$sess.cmd24$Helper.mapReduce(\u001b[32mcmd24.sc\u001b[39m:\u001b[32m2\u001b[39m)\n  ammonite.$sess.cmd24$Helper.mapReduce(\u001b[32mcmd24.sc\u001b[39m:\u001b[32m2\u001b[39m)\n  ammonite.$sess.cmd24$Helper.mapReduce(\u001b[32mcmd24.sc\u001b[39m:\u001b[32m2\u001b[39m)\n  ammonite.$sess.cmd24$Helper.mapReduce(\u001b[32mcmd24.sc\u001b[39m:\u001b[32m2\u001b[39m)\n  ammonite.$sess.cmd24$Helper.mapReduce(\u001b[32mcmd24.sc\u001b[39m:\u001b[32m2\u001b[39m)\n  ammonite.$sess.cmd24$Helper.mapReduce(\u001b[32mcmd24.sc\u001b[39m:\u001b[32m2\u001b[39m)\n  ammonite.$sess.cmd24$Helper.mapReduce(\u001b[32mcmd24.sc\u001b[39m:\u001b[32m2\u001b[39m)\n  ammonite.$sess.cmd24$Helper.mapReduce(\u001b[32mcmd24.sc\u001b[39m:\u001b[32m2\u001b[39m)\n  ammonite.$sess.cmd24$Helper.mapReduce(\u001b[32mcmd24.sc\u001b[39m:\u001b[32m2\u001b[39m)\n  ammonite.$sess.cmd24$Helper.mapReduce(\u001b[32mcmd24.sc\u001b[39m:\u001b[32m2\u001b[39m)\n  ammonite.$sess.cmd24$Helper.mapReduce(\u001b[32mcmd24.sc\u001b[39m:\u001b[32m2\u001b[39m)\n  ammonite.$sess.cmd24$Helper.mapReduce(\u001b[32mcmd24.sc\u001b[39m:\u001b[32m2\u001b[39m)\n  ammonite.$sess.cmd24$Helper.mapReduce(\u001b[32mcmd24.sc\u001b[39m:\u001b[32m2\u001b[39m)\n  ammonite.$sess.cmd24$Helper.mapReduce(\u001b[32mcmd24.sc\u001b[39m:\u001b[32m2\u001b[39m)\n  ammonite.$sess.cmd24$Helper.mapReduce(\u001b[32mcmd24.sc\u001b[39m:\u001b[32m2\u001b[39m)\n  ammonite.$sess.cmd24$Helper.mapReduce(\u001b[32mcmd24.sc\u001b[39m:\u001b[32m2\u001b[39m)\n  ammonite.$sess.cmd24$Helper.mapReduce(\u001b[32mcmd24.sc\u001b[39m:\u001b[32m2\u001b[39m)\n  ammonite.$sess.cmd24$Helper.mapReduce(\u001b[32mcmd24.sc\u001b[39m:\u001b[32m2\u001b[39m)\n  ammonite.$sess.cmd24$Helper.mapReduce(\u001b[32mcmd24.sc\u001b[39m:\u001b[32m2\u001b[39m)\n  ammonite.$sess.cmd24$Helper.mapReduce(\u001b[32mcmd24.sc\u001b[39m:\u001b[32m2\u001b[39m)\n  ammonite.$sess.cmd24$Helper.mapReduce(\u001b[32mcmd24.sc\u001b[39m:\u001b[32m2\u001b[39m)\n  ammonite.$sess.cmd24$Helper.mapReduce(\u001b[32mcmd24.sc\u001b[39m:\u001b[32m2\u001b[39m)\n  ammonite.$sess.cmd24$Helper.mapReduce(\u001b[32mcmd24.sc\u001b[39m:\u001b[32m2\u001b[39m)\n  ammonite.$sess.cmd24$Helper.mapReduce(\u001b[32mcmd24.sc\u001b[39m:\u001b[32m2\u001b[39m)\n  ammonite.$sess.cmd24$Helper.mapReduce(\u001b[32mcmd24.sc\u001b[39m:\u001b[32m2\u001b[39m)\n  ammonite.$sess.cmd24$Helper.mapReduce(\u001b[32mcmd24.sc\u001b[39m:\u001b[32m2\u001b[39m)\n  ammonite.$sess.cmd24$Helper.mapReduce(\u001b[32mcmd24.sc\u001b[39m:\u001b[32m2\u001b[39m)\n  ammonite.$sess.cmd24$Helper.mapReduce(\u001b[32mcmd24.sc\u001b[39m:\u001b[32m2\u001b[39m)\n  ammonite.$sess.cmd24$Helper.mapReduce(\u001b[32mcmd24.sc\u001b[39m:\u001b[32m2\u001b[39m)\n  ammonite.$sess.cmd24$Helper.mapReduce(\u001b[32mcmd24.sc\u001b[39m:\u001b[32m2\u001b[39m)\n  ammonite.$sess.cmd24$Helper.mapReduce(\u001b[32mcmd24.sc\u001b[39m:\u001b[32m2\u001b[39m)\n  ammonite.$sess.cmd24$Helper.mapReduce(\u001b[32mcmd24.sc\u001b[39m:\u001b[32m2\u001b[39m)\n  ammonite.$sess.cmd24$Helper.mapReduce(\u001b[32mcmd24.sc\u001b[39m:\u001b[32m2\u001b[39m)\n  ammonite.$sess.cmd24$Helper.mapReduce(\u001b[32mcmd24.sc\u001b[39m:\u001b[32m2\u001b[39m)\n  ammonite.$sess.cmd24$Helper.mapReduce(\u001b[32mcmd24.sc\u001b[39m:\u001b[32m2\u001b[39m)\n  ammonite.$sess.cmd24$Helper.mapReduce(\u001b[32mcmd24.sc\u001b[39m:\u001b[32m2\u001b[39m)\n  ammonite.$sess.cmd24$Helper.mapReduce(\u001b[32mcmd24.sc\u001b[39m:\u001b[32m2\u001b[39m)\n  ammonite.$sess.cmd24$Helper.mapReduce(\u001b[32mcmd24.sc\u001b[39m:\u001b[32m2\u001b[39m)\n  ammonite.$sess.cmd24$Helper.mapReduce(\u001b[32mcmd24.sc\u001b[39m:\u001b[32m2\u001b[39m)\n  ammonite.$sess.cmd24$Helper.mapReduce(\u001b[32mcmd24.sc\u001b[39m:\u001b[32m2\u001b[39m)\n  ammonite.$sess.cmd24$Helper.mapReduce(\u001b[32mcmd24.sc\u001b[39m:\u001b[32m2\u001b[39m)\n  ammonite.$sess.cmd24$Helper.mapReduce(\u001b[32mcmd24.sc\u001b[39m:\u001b[32m2\u001b[39m)\n  ammonite.$sess.cmd24$Helper.mapReduce(\u001b[32mcmd24.sc\u001b[39m:\u001b[32m2\u001b[39m)\n  ammonite.$sess.cmd24$Helper.mapReduce(\u001b[32mcmd24.sc\u001b[39m:\u001b[32m2\u001b[39m)\n  ammonite.$sess.cmd24$Helper.mapReduce(\u001b[32mcmd24.sc\u001b[39m:\u001b[32m2\u001b[39m)\n  ammonite.$sess.cmd24$Helper.mapReduce(\u001b[32mcmd24.sc\u001b[39m:\u001b[32m2\u001b[39m)\n  ammonite.$sess.cmd24$Helper.mapReduce(\u001b[32mcmd24.sc\u001b[39m:\u001b[32m2\u001b[39m)\n  ammonite.$sess.cmd24$Helper.mapReduce(\u001b[32mcmd24.sc\u001b[39m:\u001b[32m2\u001b[39m)\n  ammonite.$sess.cmd24$Helper.mapReduce(\u001b[32mcmd24.sc\u001b[39m:\u001b[32m2\u001b[39m)\n  ammonite.$sess.cmd24$Helper.mapReduce(\u001b[32mcmd24.sc\u001b[39m:\u001b[32m2\u001b[39m)\n  ammonite.$sess.cmd24$Helper.mapReduce(\u001b[32mcmd24.sc\u001b[39m:\u001b[32m2\u001b[39m)\n  ammonite.$sess.cmd24$Helper.mapReduce(\u001b[32mcmd24.sc\u001b[39m:\u001b[32m2\u001b[39m)\n  ammonite.$sess.cmd24$Helper.mapReduce(\u001b[32mcmd24.sc\u001b[39m:\u001b[32m2\u001b[39m)\n  ammonite.$sess.cmd24$Helper.mapReduce(\u001b[32mcmd24.sc\u001b[39m:\u001b[32m2\u001b[39m)\n  ammonite.$sess.cmd24$Helper.mapReduce(\u001b[32mcmd24.sc\u001b[39m:\u001b[32m2\u001b[39m)\n  ammonite.$sess.cmd24$Helper.mapReduce(\u001b[32mcmd24.sc\u001b[39m:\u001b[32m2\u001b[39m)\n  ammonite.$sess.cmd24$Helper.mapReduce(\u001b[32mcmd24.sc\u001b[39m:\u001b[32m2\u001b[39m)\n  ammonite.$sess.cmd24$Helper.mapReduce(\u001b[32mcmd24.sc\u001b[39m:\u001b[32m2\u001b[39m)\n  ammonite.$sess.cmd24$Helper.mapReduce(\u001b[32mcmd24.sc\u001b[39m:\u001b[32m2\u001b[39m)\n  ammonite.$sess.cmd24$Helper.mapReduce(\u001b[32mcmd24.sc\u001b[39m:\u001b[32m2\u001b[39m)\n  ammonite.$sess.cmd24$Helper.mapReduce(\u001b[32mcmd24.sc\u001b[39m:\u001b[32m2\u001b[39m)\n  ammonite.$sess.cmd24$Helper.mapReduce(\u001b[32mcmd24.sc\u001b[39m:\u001b[32m2\u001b[39m)\n  ammonite.$sess.cmd24$Helper.mapReduce(\u001b[32mcmd24.sc\u001b[39m:\u001b[32m2\u001b[39m)\n  ammonite.$sess.cmd24$Helper.mapReduce(\u001b[32mcmd24.sc\u001b[39m:\u001b[32m2\u001b[39m)\n  ammonite.$sess.cmd24$Helper.mapReduce(\u001b[32mcmd24.sc\u001b[39m:\u001b[32m2\u001b[39m)\n  ammonite.$sess.cmd24$Helper.mapReduce(\u001b[32mcmd24.sc\u001b[39m:\u001b[32m2\u001b[39m)\n  ammonite.$sess.cmd24$Helper.mapReduce(\u001b[32mcmd24.sc\u001b[39m:\u001b[32m2\u001b[39m)\n  ammonite.$sess.cmd24$Helper.mapReduce(\u001b[32mcmd24.sc\u001b[39m:\u001b[32m2\u001b[39m)\n  ammonite.$sess.cmd24$Helper.mapReduce(\u001b[32mcmd24.sc\u001b[39m:\u001b[32m2\u001b[39m)\n  ammonite.$sess.cmd24$Helper.mapReduce(\u001b[32mcmd24.sc\u001b[39m:\u001b[32m2\u001b[39m)\n  ammonite.$sess.cmd24$Helper.mapReduce(\u001b[32mcmd24.sc\u001b[39m:\u001b[32m2\u001b[39m)\n  ammonite.$sess.cmd24$Helper.mapReduce(\u001b[32mcmd24.sc\u001b[39m:\u001b[32m2\u001b[39m)\n  ammonite.$sess.cmd24$Helper.mapReduce(\u001b[32mcmd24.sc\u001b[39m:\u001b[32m2\u001b[39m)\n  ammonite.$sess.cmd24$Helper.mapReduce(\u001b[32mcmd24.sc\u001b[39m:\u001b[32m2\u001b[39m)\n  ammonite.$sess.cmd24$Helper.mapReduce(\u001b[32mcmd24.sc\u001b[39m:\u001b[32m2\u001b[39m)\n  ammonite.$sess.cmd24$Helper.mapReduce(\u001b[32mcmd24.sc\u001b[39m:\u001b[32m2\u001b[39m)\n  ammonite.$sess.cmd24$Helper.mapReduce(\u001b[32mcmd24.sc\u001b[39m:\u001b[32m2\u001b[39m)\n  ammonite.$sess.cmd24$Helper.mapReduce(\u001b[32mcmd24.sc\u001b[39m:\u001b[32m2\u001b[39m)\n  ammonite.$sess.cmd24$Helper.mapReduce(\u001b[32mcmd24.sc\u001b[39m:\u001b[32m2\u001b[39m)\n  ammonite.$sess.cmd24$Helper.mapReduce(\u001b[32mcmd24.sc\u001b[39m:\u001b[32m2\u001b[39m)\n  ammonite.$sess.cmd24$Helper.mapReduce(\u001b[32mcmd24.sc\u001b[39m:\u001b[32m2\u001b[39m)\n  ammonite.$sess.cmd24$Helper.mapReduce(\u001b[32mcmd24.sc\u001b[39m:\u001b[32m2\u001b[39m)\n  ammonite.$sess.cmd24$Helper.mapReduce(\u001b[32mcmd24.sc\u001b[39m:\u001b[32m2\u001b[39m)\n  ammonite.$sess.cmd24$Helper.mapReduce(\u001b[32mcmd24.sc\u001b[39m:\u001b[32m2\u001b[39m)\n  ammonite.$sess.cmd24$Helper.mapReduce(\u001b[32mcmd24.sc\u001b[39m:\u001b[32m2\u001b[39m)\n  ammonite.$sess.cmd24$Helper.mapReduce(\u001b[32mcmd24.sc\u001b[39m:\u001b[32m2\u001b[39m)\n  ammonite.$sess.cmd24$Helper.mapReduce(\u001b[32mcmd24.sc\u001b[39m:\u001b[32m2\u001b[39m)\n  ammonite.$sess.cmd24$Helper.mapReduce(\u001b[32mcmd24.sc\u001b[39m:\u001b[32m2\u001b[39m)\n  ammonite.$sess.cmd24$Helper.mapReduce(\u001b[32mcmd24.sc\u001b[39m:\u001b[32m2\u001b[39m)\n  ammonite.$sess.cmd24$Helper.mapReduce(\u001b[32mcmd24.sc\u001b[39m:\u001b[32m2\u001b[39m)\n  ammonite.$sess.cmd24$Helper.mapReduce(\u001b[32mcmd24.sc\u001b[39m:\u001b[32m2\u001b[39m)\n  ammonite.$sess.cmd24$Helper.mapReduce(\u001b[32mcmd24.sc\u001b[39m:\u001b[32m2\u001b[39m)\n  ammonite.$sess.cmd24$Helper.mapReduce(\u001b[32mcmd24.sc\u001b[39m:\u001b[32m2\u001b[39m)\n  ammonite.$sess.cmd24$Helper.mapReduce(\u001b[32mcmd24.sc\u001b[39m:\u001b[32m2\u001b[39m)\n  ammonite.$sess.cmd24$Helper.mapReduce(\u001b[32mcmd24.sc\u001b[39m:\u001b[32m2\u001b[39m)\n  ammonite.$sess.cmd24$Helper.mapReduce(\u001b[32mcmd24.sc\u001b[39m:\u001b[32m2\u001b[39m)\n  ammonite.$sess.cmd24$Helper.mapReduce(\u001b[32mcmd24.sc\u001b[39m:\u001b[32m2\u001b[39m)\n  ammonite.$sess.cmd24$Helper.mapReduce(\u001b[32mcmd24.sc\u001b[39m:\u001b[32m2\u001b[39m)\n  ammonite.$sess.cmd24$Helper.mapReduce(\u001b[32mcmd24.sc\u001b[39m:\u001b[32m2\u001b[39m)\n  ammonite.$sess.cmd24$Helper.mapReduce(\u001b[32mcmd24.sc\u001b[39m:\u001b[32m2\u001b[39m)\n  ammonite.$sess.cmd24$Helper.mapReduce(\u001b[32mcmd24.sc\u001b[39m:\u001b[32m2\u001b[39m)\n  ammonite.$sess.cmd24$Helper.mapReduce(\u001b[32mcmd24.sc\u001b[39m:\u001b[32m2\u001b[39m)\n  ammonite.$sess.cmd24$Helper.mapReduce(\u001b[32mcmd24.sc\u001b[39m:\u001b[32m2\u001b[39m)\n  ammonite.$sess.cmd24$Helper.mapReduce(\u001b[32mcmd24.sc\u001b[39m:\u001b[32m2\u001b[39m)\n  ammonite.$sess.cmd24$Helper.mapReduce(\u001b[32mcmd24.sc\u001b[39m:\u001b[32m2\u001b[39m)\n  ammonite.$sess.cmd24$Helper.mapReduce(\u001b[32mcmd24.sc\u001b[39m:\u001b[32m2\u001b[39m)\n  ammonite.$sess.cmd24$Helper.mapReduce(\u001b[32mcmd24.sc\u001b[39m:\u001b[32m2\u001b[39m)\n  ammonite.$sess.cmd24$Helper.mapReduce(\u001b[32mcmd24.sc\u001b[39m:\u001b[32m2\u001b[39m)\n  ammonite.$sess.cmd24$Helper.mapReduce(\u001b[32mcmd24.sc\u001b[39m:\u001b[32m2\u001b[39m)\n  ammonite.$sess.cmd24$Helper.mapReduce(\u001b[32mcmd24.sc\u001b[39m:\u001b[32m2\u001b[39m)\n  ammonite.$sess.cmd24$Helper.mapReduce(\u001b[32mcmd24.sc\u001b[39m:\u001b[32m2\u001b[39m)\n  ammonite.$sess.cmd24$Helper.mapReduce(\u001b[32mcmd24.sc\u001b[39m:\u001b[32m2\u001b[39m)\n  ammonite.$sess.cmd24$Helper.mapReduce(\u001b[32mcmd24.sc\u001b[39m:\u001b[32m2\u001b[39m)\n  ammonite.$sess.cmd24$Helper.mapReduce(\u001b[32mcmd24.sc\u001b[39m:\u001b[32m2\u001b[39m)\n  ammonite.$sess.cmd24$Helper.mapReduce(\u001b[32mcmd24.sc\u001b[39m:\u001b[32m2\u001b[39m)\n  ammonite.$sess.cmd24$Helper.mapReduce(\u001b[32mcmd24.sc\u001b[39m:\u001b[32m2\u001b[39m)\n  ammonite.$sess.cmd24$Helper.mapReduce(\u001b[32mcmd24.sc\u001b[39m:\u001b[32m2\u001b[39m)\n  ammonite.$sess.cmd24$Helper.mapReduce(\u001b[32mcmd24.sc\u001b[39m:\u001b[32m2\u001b[39m)\n  ammonite.$sess.cmd24$Helper.mapReduce(\u001b[32mcmd24.sc\u001b[39m:\u001b[32m2\u001b[39m)\n  ammonite.$sess.cmd24$Helper.mapReduce(\u001b[32mcmd24.sc\u001b[39m:\u001b[32m2\u001b[39m)\n  ammonite.$sess.cmd24$Helper.mapReduce(\u001b[32mcmd24.sc\u001b[39m:\u001b[32m2\u001b[39m)\n  ammonite.$sess.cmd24$Helper.mapReduce(\u001b[32mcmd24.sc\u001b[39m:\u001b[32m2\u001b[39m)\n  ammonite.$sess.cmd24$Helper.mapReduce(\u001b[32mcmd24.sc\u001b[39m:\u001b[32m2\u001b[39m)\n  ammonite.$sess.cmd24$Helper.mapReduce(\u001b[32mcmd24.sc\u001b[39m:\u001b[32m2\u001b[39m)\n  ammonite.$sess.cmd24$Helper.mapReduce(\u001b[32mcmd24.sc\u001b[39m:\u001b[32m2\u001b[39m)\n  ammonite.$sess.cmd24$Helper.mapReduce(\u001b[32mcmd24.sc\u001b[39m:\u001b[32m2\u001b[39m)\n  ammonite.$sess.cmd24$Helper.mapReduce(\u001b[32mcmd24.sc\u001b[39m:\u001b[32m2\u001b[39m)\n  ammonite.$sess.cmd24$Helper.mapReduce(\u001b[32mcmd24.sc\u001b[39m:\u001b[32m2\u001b[39m)\n  ammonite.$sess.cmd24$Helper.mapReduce(\u001b[32mcmd24.sc\u001b[39m:\u001b[32m2\u001b[39m)\n  ammonite.$sess.cmd24$Helper.mapReduce(\u001b[32mcmd24.sc\u001b[39m:\u001b[32m2\u001b[39m)\n  ammonite.$sess.cmd24$Helper.mapReduce(\u001b[32mcmd24.sc\u001b[39m:\u001b[32m2\u001b[39m)\n  ammonite.$sess.cmd24$Helper.mapReduce(\u001b[32mcmd24.sc\u001b[39m:\u001b[32m2\u001b[39m)\n  ammonite.$sess.cmd24$Helper.mapReduce(\u001b[32mcmd24.sc\u001b[39m:\u001b[32m2\u001b[39m)\n  ammonite.$sess.cmd24$Helper.mapReduce(\u001b[32mcmd24.sc\u001b[39m:\u001b[32m2\u001b[39m)\n  ammonite.$sess.cmd24$Helper.mapReduce(\u001b[32mcmd24.sc\u001b[39m:\u001b[32m2\u001b[39m)\n  ammonite.$sess.cmd24$Helper.mapReduce(\u001b[32mcmd24.sc\u001b[39m:\u001b[32m2\u001b[39m)\n  ammonite.$sess.cmd24$Helper.mapReduce(\u001b[32mcmd24.sc\u001b[39m:\u001b[32m2\u001b[39m)\n  ammonite.$sess.cmd24$Helper.mapReduce(\u001b[32mcmd24.sc\u001b[39m:\u001b[32m2\u001b[39m)\n  ammonite.$sess.cmd24$Helper.mapReduce(\u001b[32mcmd24.sc\u001b[39m:\u001b[32m2\u001b[39m)\n  ammonite.$sess.cmd24$Helper.mapReduce(\u001b[32mcmd24.sc\u001b[39m:\u001b[32m2\u001b[39m)\n  ammonite.$sess.cmd24$Helper.mapReduce(\u001b[32mcmd24.sc\u001b[39m:\u001b[32m2\u001b[39m)\n  ammonite.$sess.cmd24$Helper.mapReduce(\u001b[32mcmd24.sc\u001b[39m:\u001b[32m2\u001b[39m)\n  ammonite.$sess.cmd24$Helper.mapReduce(\u001b[32mcmd24.sc\u001b[39m:\u001b[32m2\u001b[39m)\n  ammonite.$sess.cmd24$Helper.mapReduce(\u001b[32mcmd24.sc\u001b[39m:\u001b[32m2\u001b[39m)\n  ammonite.$sess.cmd24$Helper.mapReduce(\u001b[32mcmd24.sc\u001b[39m:\u001b[32m2\u001b[39m)\n  ammonite.$sess.cmd24$Helper.mapReduce(\u001b[32mcmd24.sc\u001b[39m:\u001b[32m2\u001b[39m)\n  ammonite.$sess.cmd24$Helper.mapReduce(\u001b[32mcmd24.sc\u001b[39m:\u001b[32m2\u001b[39m)\n  ammonite.$sess.cmd24$Helper.mapReduce(\u001b[32mcmd24.sc\u001b[39m:\u001b[32m2\u001b[39m)\n  ammonite.$sess.cmd24$Helper.mapReduce(\u001b[32mcmd24.sc\u001b[39m:\u001b[32m2\u001b[39m)\n  ammonite.$sess.cmd24$Helper.mapReduce(\u001b[32mcmd24.sc\u001b[39m:\u001b[32m2\u001b[39m)\n  ammonite.$sess.cmd24$Helper.mapReduce(\u001b[32mcmd24.sc\u001b[39m:\u001b[32m2\u001b[39m)\n  ammonite.$sess.cmd24$Helper.mapReduce(\u001b[32mcmd24.sc\u001b[39m:\u001b[32m2\u001b[39m)\n  ammonite.$sess.cmd24$Helper.mapReduce(\u001b[32mcmd24.sc\u001b[39m:\u001b[32m2\u001b[39m)\n  ammonite.$sess.cmd24$Helper.mapReduce(\u001b[32mcmd24.sc\u001b[39m:\u001b[32m2\u001b[39m)\n  ammonite.$sess.cmd24$Helper.mapReduce(\u001b[32mcmd24.sc\u001b[39m:\u001b[32m2\u001b[39m)\n  ammonite.$sess.cmd24$Helper.mapReduce(\u001b[32mcmd24.sc\u001b[39m:\u001b[32m2\u001b[39m)\n  ammonite.$sess.cmd24$Helper.mapReduce(\u001b[32mcmd24.sc\u001b[39m:\u001b[32m2\u001b[39m)\n  ammonite.$sess.cmd24$Helper.mapReduce(\u001b[32mcmd24.sc\u001b[39m:\u001b[32m2\u001b[39m)\n  ammonite.$sess.cmd24$Helper.mapReduce(\u001b[32mcmd24.sc\u001b[39m:\u001b[32m2\u001b[39m)\n  ammonite.$sess.cmd24$Helper.mapReduce(\u001b[32mcmd24.sc\u001b[39m:\u001b[32m2\u001b[39m)\n  ammonite.$sess.cmd24$Helper.mapReduce(\u001b[32mcmd24.sc\u001b[39m:\u001b[32m2\u001b[39m)\n  ammonite.$sess.cmd24$Helper.mapReduce(\u001b[32mcmd24.sc\u001b[39m:\u001b[32m2\u001b[39m)\n  ammonite.$sess.cmd24$Helper.mapReduce(\u001b[32mcmd24.sc\u001b[39m:\u001b[32m2\u001b[39m)\n  ammonite.$sess.cmd24$Helper.mapReduce(\u001b[32mcmd24.sc\u001b[39m:\u001b[32m2\u001b[39m)\n  ammonite.$sess.cmd24$Helper.mapReduce(\u001b[32mcmd24.sc\u001b[39m:\u001b[32m2\u001b[39m)\n  ammonite.$sess.cmd24$Helper.mapReduce(\u001b[32mcmd24.sc\u001b[39m:\u001b[32m2\u001b[39m)\n  ammonite.$sess.cmd24$Helper.mapReduce(\u001b[32mcmd24.sc\u001b[39m:\u001b[32m2\u001b[39m)\n  ammonite.$sess.cmd24$Helper.mapReduce(\u001b[32mcmd24.sc\u001b[39m:\u001b[32m2\u001b[39m)\n  ammonite.$sess.cmd24$Helper.mapReduce(\u001b[32mcmd24.sc\u001b[39m:\u001b[32m2\u001b[39m)\n  ammonite.$sess.cmd24$Helper.mapReduce(\u001b[32mcmd24.sc\u001b[39m:\u001b[32m2\u001b[39m)\n  ammonite.$sess.cmd24$Helper.mapReduce(\u001b[32mcmd24.sc\u001b[39m:\u001b[32m2\u001b[39m)\n  ammonite.$sess.cmd24$Helper.mapReduce(\u001b[32mcmd24.sc\u001b[39m:\u001b[32m2\u001b[39m)\n  ammonite.$sess.cmd24$Helper.mapReduce(\u001b[32mcmd24.sc\u001b[39m:\u001b[32m2\u001b[39m)\n  ammonite.$sess.cmd24$Helper.mapReduce(\u001b[32mcmd24.sc\u001b[39m:\u001b[32m2\u001b[39m)\n  ammonite.$sess.cmd24$Helper.mapReduce(\u001b[32mcmd24.sc\u001b[39m:\u001b[32m2\u001b[39m)\n  ammonite.$sess.cmd24$Helper.mapReduce(\u001b[32mcmd24.sc\u001b[39m:\u001b[32m2\u001b[39m)\n  ammonite.$sess.cmd24$Helper.mapReduce(\u001b[32mcmd24.sc\u001b[39m:\u001b[32m2\u001b[39m)\n  ammonite.$sess.cmd24$Helper.mapReduce(\u001b[32mcmd24.sc\u001b[39m:\u001b[32m2\u001b[39m)\n  ammonite.$sess.cmd24$Helper.mapReduce(\u001b[32mcmd24.sc\u001b[39m:\u001b[32m2\u001b[39m)\n  ammonite.$sess.cmd24$Helper.mapReduce(\u001b[32mcmd24.sc\u001b[39m:\u001b[32m2\u001b[39m)\n  ammonite.$sess.cmd24$Helper.mapReduce(\u001b[32mcmd24.sc\u001b[39m:\u001b[32m2\u001b[39m)\n  ammonite.$sess.cmd24$Helper.mapReduce(\u001b[32mcmd24.sc\u001b[39m:\u001b[32m2\u001b[39m)\n  ammonite.$sess.cmd24$Helper.mapReduce(\u001b[32mcmd24.sc\u001b[39m:\u001b[32m2\u001b[39m)\n  ammonite.$sess.cmd24$Helper.mapReduce(\u001b[32mcmd24.sc\u001b[39m:\u001b[32m2\u001b[39m)\n  ammonite.$sess.cmd24$Helper.mapReduce(\u001b[32mcmd24.sc\u001b[39m:\u001b[32m2\u001b[39m)\n  ammonite.$sess.cmd24$Helper.mapReduce(\u001b[32mcmd24.sc\u001b[39m:\u001b[32m2\u001b[39m)\n  ammonite.$sess.cmd24$Helper.mapReduce(\u001b[32mcmd24.sc\u001b[39m:\u001b[32m2\u001b[39m)\n  ammonite.$sess.cmd24$Helper.mapReduce(\u001b[32mcmd24.sc\u001b[39m:\u001b[32m2\u001b[39m)\n  ammonite.$sess.cmd24$Helper.mapReduce(\u001b[32mcmd24.sc\u001b[39m:\u001b[32m2\u001b[39m)\n  ammonite.$sess.cmd24$Helper.mapReduce(\u001b[32mcmd24.sc\u001b[39m:\u001b[32m2\u001b[39m)\n  ammonite.$sess.cmd24$Helper.mapReduce(\u001b[32mcmd24.sc\u001b[39m:\u001b[32m2\u001b[39m)\n  ammonite.$sess.cmd24$Helper.mapReduce(\u001b[32mcmd24.sc\u001b[39m:\u001b[32m2\u001b[39m)\n  ammonite.$sess.cmd24$Helper.mapReduce(\u001b[32mcmd24.sc\u001b[39m:\u001b[32m2\u001b[39m)\n  ammonite.$sess.cmd24$Helper.mapReduce(\u001b[32mcmd24.sc\u001b[39m:\u001b[32m2\u001b[39m)\n  ammonite.$sess.cmd24$Helper.mapReduce(\u001b[32mcmd24.sc\u001b[39m:\u001b[32m2\u001b[39m)\n  ammonite.$sess.cmd24$Helper.mapReduce(\u001b[32mcmd24.sc\u001b[39m:\u001b[32m2\u001b[39m)\n  ammonite.$sess.cmd24$Helper.mapReduce(\u001b[32mcmd24.sc\u001b[39m:\u001b[32m2\u001b[39m)\n  ammonite.$sess.cmd24$Helper.mapReduce(\u001b[32mcmd24.sc\u001b[39m:\u001b[32m2\u001b[39m)\n  ammonite.$sess.cmd24$Helper.mapReduce(\u001b[32mcmd24.sc\u001b[39m:\u001b[32m2\u001b[39m)\n  ammonite.$sess.cmd24$Helper.mapReduce(\u001b[32mcmd24.sc\u001b[39m:\u001b[32m2\u001b[39m)\n  ammonite.$sess.cmd24$Helper.mapReduce(\u001b[32mcmd24.sc\u001b[39m:\u001b[32m2\u001b[39m)\n  ammonite.$sess.cmd24$Helper.mapReduce(\u001b[32mcmd24.sc\u001b[39m:\u001b[32m2\u001b[39m)\n  ammonite.$sess.cmd24$Helper.mapReduce(\u001b[32mcmd24.sc\u001b[39m:\u001b[32m2\u001b[39m)\n  ammonite.$sess.cmd24$Helper.mapReduce(\u001b[32mcmd24.sc\u001b[39m:\u001b[32m2\u001b[39m)\n  ammonite.$sess.cmd24$Helper.mapReduce(\u001b[32mcmd24.sc\u001b[39m:\u001b[32m2\u001b[39m)\n  ammonite.$sess.cmd24$Helper.mapReduce(\u001b[32mcmd24.sc\u001b[39m:\u001b[32m2\u001b[39m)\n  ammonite.$sess.cmd24$Helper.mapReduce(\u001b[32mcmd24.sc\u001b[39m:\u001b[32m2\u001b[39m)\n  ammonite.$sess.cmd24$Helper.mapReduce(\u001b[32mcmd24.sc\u001b[39m:\u001b[32m2\u001b[39m)\n  ammonite.$sess.cmd24$Helper.mapReduce(\u001b[32mcmd24.sc\u001b[39m:\u001b[32m2\u001b[39m)\n  ammonite.$sess.cmd24$Helper.mapReduce(\u001b[32mcmd24.sc\u001b[39m:\u001b[32m2\u001b[39m)\n  ammonite.$sess.cmd24$Helper.mapReduce(\u001b[32mcmd24.sc\u001b[39m:\u001b[32m2\u001b[39m)\n  ammonite.$sess.cmd24$Helper.mapReduce(\u001b[32mcmd24.sc\u001b[39m:\u001b[32m2\u001b[39m)\n  ammonite.$sess.cmd24$Helper.mapReduce(\u001b[32mcmd24.sc\u001b[39m:\u001b[32m2\u001b[39m)\n  ammonite.$sess.cmd24$Helper.mapReduce(\u001b[32mcmd24.sc\u001b[39m:\u001b[32m2\u001b[39m)\n  ammonite.$sess.cmd24$Helper.mapReduce(\u001b[32mcmd24.sc\u001b[39m:\u001b[32m2\u001b[39m)\n  ammonite.$sess.cmd24$Helper.mapReduce(\u001b[32mcmd24.sc\u001b[39m:\u001b[32m2\u001b[39m)\n  ammonite.$sess.cmd24$Helper.mapReduce(\u001b[32mcmd24.sc\u001b[39m:\u001b[32m2\u001b[39m)\n  ammonite.$sess.cmd24$Helper.mapReduce(\u001b[32mcmd24.sc\u001b[39m:\u001b[32m2\u001b[39m)\n  ammonite.$sess.cmd24$Helper.mapReduce(\u001b[32mcmd24.sc\u001b[39m:\u001b[32m2\u001b[39m)\n  ammonite.$sess.cmd24$Helper.mapReduce(\u001b[32mcmd24.sc\u001b[39m:\u001b[32m2\u001b[39m)\n  ammonite.$sess.cmd24$Helper.mapReduce(\u001b[32mcmd24.sc\u001b[39m:\u001b[32m2\u001b[39m)\n  ammonite.$sess.cmd24$Helper.mapReduce(\u001b[32mcmd24.sc\u001b[39m:\u001b[32m2\u001b[39m)\n  ammonite.$sess.cmd24$Helper.mapReduce(\u001b[32mcmd24.sc\u001b[39m:\u001b[32m2\u001b[39m)\n  ammonite.$sess.cmd24$Helper.mapReduce(\u001b[32mcmd24.sc\u001b[39m:\u001b[32m2\u001b[39m)\n  ammonite.$sess.cmd24$Helper.mapReduce(\u001b[32mcmd24.sc\u001b[39m:\u001b[32m2\u001b[39m)\n  ammonite.$sess.cmd24$Helper.mapReduce(\u001b[32mcmd24.sc\u001b[39m:\u001b[32m2\u001b[39m)\n  ammonite.$sess.cmd24$Helper.mapReduce(\u001b[32mcmd24.sc\u001b[39m:\u001b[32m2\u001b[39m)\n  ammonite.$sess.cmd24$Helper.mapReduce(\u001b[32mcmd24.sc\u001b[39m:\u001b[32m2\u001b[39m)\n  ammonite.$sess.cmd24$Helper.mapReduce(\u001b[32mcmd24.sc\u001b[39m:\u001b[32m2\u001b[39m)\n  ammonite.$sess.cmd24$Helper.mapReduce(\u001b[32mcmd24.sc\u001b[39m:\u001b[32m2\u001b[39m)\n  ammonite.$sess.cmd24$Helper.mapReduce(\u001b[32mcmd24.sc\u001b[39m:\u001b[32m2\u001b[39m)\n  ammonite.$sess.cmd24$Helper.mapReduce(\u001b[32mcmd24.sc\u001b[39m:\u001b[32m2\u001b[39m)\n  ammonite.$sess.cmd24$Helper.mapReduce(\u001b[32mcmd24.sc\u001b[39m:\u001b[32m2\u001b[39m)\n  ammonite.$sess.cmd24$Helper.mapReduce(\u001b[32mcmd24.sc\u001b[39m:\u001b[32m2\u001b[39m)\n  ammonite.$sess.cmd24$Helper.mapReduce(\u001b[32mcmd24.sc\u001b[39m:\u001b[32m2\u001b[39m)\n  ammonite.$sess.cmd24$Helper.mapReduce(\u001b[32mcmd24.sc\u001b[39m:\u001b[32m2\u001b[39m)\n  ammonite.$sess.cmd24$Helper.mapReduce(\u001b[32mcmd24.sc\u001b[39m:\u001b[32m2\u001b[39m)\n  ammonite.$sess.cmd24$Helper.mapReduce(\u001b[32mcmd24.sc\u001b[39m:\u001b[32m2\u001b[39m)\n  ammonite.$sess.cmd24$Helper.mapReduce(\u001b[32mcmd24.sc\u001b[39m:\u001b[32m2\u001b[39m)\n  ammonite.$sess.cmd24$Helper.mapReduce(\u001b[32mcmd24.sc\u001b[39m:\u001b[32m2\u001b[39m)\n  ammonite.$sess.cmd24$Helper.mapReduce(\u001b[32mcmd24.sc\u001b[39m:\u001b[32m2\u001b[39m)\n  ammonite.$sess.cmd24$Helper.mapReduce(\u001b[32mcmd24.sc\u001b[39m:\u001b[32m2\u001b[39m)\n  ammonite.$sess.cmd24$Helper.mapReduce(\u001b[32mcmd24.sc\u001b[39m:\u001b[32m2\u001b[39m)\n  ammonite.$sess.cmd24$Helper.mapReduce(\u001b[32mcmd24.sc\u001b[39m:\u001b[32m2\u001b[39m)\n  ammonite.$sess.cmd24$Helper.mapReduce(\u001b[32mcmd24.sc\u001b[39m:\u001b[32m2\u001b[39m)\n  ammonite.$sess.cmd24$Helper.mapReduce(\u001b[32mcmd24.sc\u001b[39m:\u001b[32m2\u001b[39m)\n  ammonite.$sess.cmd24$Helper.mapReduce(\u001b[32mcmd24.sc\u001b[39m:\u001b[32m2\u001b[39m)\n  ammonite.$sess.cmd24$Helper.mapReduce(\u001b[32mcmd24.sc\u001b[39m:\u001b[32m2\u001b[39m)\n  ammonite.$sess.cmd24$Helper.mapReduce(\u001b[32mcmd24.sc\u001b[39m:\u001b[32m2\u001b[39m)\n  ammonite.$sess.cmd24$Helper.mapReduce(\u001b[32mcmd24.sc\u001b[39m:\u001b[32m2\u001b[39m)\n  ammonite.$sess.cmd24$Helper.mapReduce(\u001b[32mcmd24.sc\u001b[39m:\u001b[32m2\u001b[39m)\n  ammonite.$sess.cmd24$Helper.mapReduce(\u001b[32mcmd24.sc\u001b[39m:\u001b[32m2\u001b[39m)\n  ammonite.$sess.cmd24$Helper.mapReduce(\u001b[32mcmd24.sc\u001b[39m:\u001b[32m2\u001b[39m)\n  ammonite.$sess.cmd24$Helper.mapReduce(\u001b[32mcmd24.sc\u001b[39m:\u001b[32m2\u001b[39m)\n  ammonite.$sess.cmd24$Helper.mapReduce(\u001b[32mcmd24.sc\u001b[39m:\u001b[32m2\u001b[39m)\n  ammonite.$sess.cmd24$Helper.mapReduce(\u001b[32mcmd24.sc\u001b[39m:\u001b[32m2\u001b[39m)\n  ammonite.$sess.cmd24$Helper.mapReduce(\u001b[32mcmd24.sc\u001b[39m:\u001b[32m2\u001b[39m)\n  ammonite.$sess.cmd24$Helper.mapReduce(\u001b[32mcmd24.sc\u001b[39m:\u001b[32m2\u001b[39m)\n  ammonite.$sess.cmd24$Helper.mapReduce(\u001b[32mcmd24.sc\u001b[39m:\u001b[32m2\u001b[39m)\n  ammonite.$sess.cmd24$Helper.mapReduce(\u001b[32mcmd24.sc\u001b[39m:\u001b[32m2\u001b[39m)\n  ammonite.$sess.cmd24$Helper.mapReduce(\u001b[32mcmd24.sc\u001b[39m:\u001b[32m2\u001b[39m)\n  ammonite.$sess.cmd24$Helper.mapReduce(\u001b[32mcmd24.sc\u001b[39m:\u001b[32m2\u001b[39m)\n  ammonite.$sess.cmd24$Helper.mapReduce(\u001b[32mcmd24.sc\u001b[39m:\u001b[32m2\u001b[39m)\n  ammonite.$sess.cmd24$Helper.mapReduce(\u001b[32mcmd24.sc\u001b[39m:\u001b[32m2\u001b[39m)\n  ammonite.$sess.cmd24$Helper.mapReduce(\u001b[32mcmd24.sc\u001b[39m:\u001b[32m2\u001b[39m)\n  ammonite.$sess.cmd24$Helper.mapReduce(\u001b[32mcmd24.sc\u001b[39m:\u001b[32m2\u001b[39m)\n  ammonite.$sess.cmd24$Helper.mapReduce(\u001b[32mcmd24.sc\u001b[39m:\u001b[32m2\u001b[39m)\n  ammonite.$sess.cmd24$Helper.mapReduce(\u001b[32mcmd24.sc\u001b[39m:\u001b[32m2\u001b[39m)\n  ammonite.$sess.cmd24$Helper.mapReduce(\u001b[32mcmd24.sc\u001b[39m:\u001b[32m2\u001b[39m)\n  ammonite.$sess.cmd24$Helper.mapReduce(\u001b[32mcmd24.sc\u001b[39m:\u001b[32m2\u001b[39m)\n  ammonite.$sess.cmd24$Helper.mapReduce(\u001b[32mcmd24.sc\u001b[39m:\u001b[32m2\u001b[39m)\n  ammonite.$sess.cmd24$Helper.mapReduce(\u001b[32mcmd24.sc\u001b[39m:\u001b[32m2\u001b[39m)\n  ammonite.$sess.cmd24$Helper.mapReduce(\u001b[32mcmd24.sc\u001b[39m:\u001b[32m2\u001b[39m)\n  ammonite.$sess.cmd24$Helper.mapReduce(\u001b[32mcmd24.sc\u001b[39m:\u001b[32m2\u001b[39m)\n  ammonite.$sess.cmd24$Helper.mapReduce(\u001b[32mcmd24.sc\u001b[39m:\u001b[32m2\u001b[39m)\n  ammonite.$sess.cmd24$Helper.mapReduce(\u001b[32mcmd24.sc\u001b[39m:\u001b[32m2\u001b[39m)\n  ammonite.$sess.cmd24$Helper.mapReduce(\u001b[32mcmd24.sc\u001b[39m:\u001b[32m2\u001b[39m)\n  ammonite.$sess.cmd24$Helper.mapReduce(\u001b[32mcmd24.sc\u001b[39m:\u001b[32m2\u001b[39m)\n  ammonite.$sess.cmd24$Helper.mapReduce(\u001b[32mcmd24.sc\u001b[39m:\u001b[32m2\u001b[39m)\n  ammonite.$sess.cmd24$Helper.mapReduce(\u001b[32mcmd24.sc\u001b[39m:\u001b[32m2\u001b[39m)\n  ammonite.$sess.cmd24$Helper.mapReduce(\u001b[32mcmd24.sc\u001b[39m:\u001b[32m2\u001b[39m)\n  ammonite.$sess.cmd24$Helper.mapReduce(\u001b[32mcmd24.sc\u001b[39m:\u001b[32m2\u001b[39m)\n  ammonite.$sess.cmd24$Helper.mapReduce(\u001b[32mcmd24.sc\u001b[39m:\u001b[32m2\u001b[39m)\n  ammonite.$sess.cmd24$Helper.mapReduce(\u001b[32mcmd24.sc\u001b[39m:\u001b[32m2\u001b[39m)\n  ammonite.$sess.cmd24$Helper.mapReduce(\u001b[32mcmd24.sc\u001b[39m:\u001b[32m2\u001b[39m)\n  ammonite.$sess.cmd24$Helper.mapReduce(\u001b[32mcmd24.sc\u001b[39m:\u001b[32m2\u001b[39m)\n  ammonite.$sess.cmd24$Helper.mapReduce(\u001b[32mcmd24.sc\u001b[39m:\u001b[32m2\u001b[39m)\n  ammonite.$sess.cmd24$Helper.mapReduce(\u001b[32mcmd24.sc\u001b[39m:\u001b[32m2\u001b[39m)\n  ammonite.$sess.cmd24$Helper.mapReduce(\u001b[32mcmd24.sc\u001b[39m:\u001b[32m2\u001b[39m)\n  ammonite.$sess.cmd24$Helper.mapReduce(\u001b[32mcmd24.sc\u001b[39m:\u001b[32m2\u001b[39m)\n  ammonite.$sess.cmd24$Helper.mapReduce(\u001b[32mcmd24.sc\u001b[39m:\u001b[32m2\u001b[39m)\n  ammonite.$sess.cmd24$Helper.mapReduce(\u001b[32mcmd24.sc\u001b[39m:\u001b[32m2\u001b[39m)\n  ammonite.$sess.cmd24$Helper.mapReduce(\u001b[32mcmd24.sc\u001b[39m:\u001b[32m2\u001b[39m)\n  ammonite.$sess.cmd24$Helper.mapReduce(\u001b[32mcmd24.sc\u001b[39m:\u001b[32m2\u001b[39m)\n  ammonite.$sess.cmd24$Helper.mapReduce(\u001b[32mcmd24.sc\u001b[39m:\u001b[32m2\u001b[39m)\n  ammonite.$sess.cmd24$Helper.mapReduce(\u001b[32mcmd24.sc\u001b[39m:\u001b[32m2\u001b[39m)\n  ammonite.$sess.cmd24$Helper.mapReduce(\u001b[32mcmd24.sc\u001b[39m:\u001b[32m2\u001b[39m)\n  ammonite.$sess.cmd24$Helper.mapReduce(\u001b[32mcmd24.sc\u001b[39m:\u001b[32m2\u001b[39m)\n  ammonite.$sess.cmd24$Helper.mapReduce(\u001b[32mcmd24.sc\u001b[39m:\u001b[32m2\u001b[39m)\n  ammonite.$sess.cmd24$Helper.mapReduce(\u001b[32mcmd24.sc\u001b[39m:\u001b[32m2\u001b[39m)\n  ammonite.$sess.cmd24$Helper.mapReduce(\u001b[32mcmd24.sc\u001b[39m:\u001b[32m2\u001b[39m)\n  ammonite.$sess.cmd24$Helper.mapReduce(\u001b[32mcmd24.sc\u001b[39m:\u001b[32m2\u001b[39m)\n  ammonite.$sess.cmd24$Helper.mapReduce(\u001b[32mcmd24.sc\u001b[39m:\u001b[32m2\u001b[39m)\n  ammonite.$sess.cmd24$Helper.mapReduce(\u001b[32mcmd24.sc\u001b[39m:\u001b[32m2\u001b[39m)\n  ammonite.$sess.cmd24$Helper.mapReduce(\u001b[32mcmd24.sc\u001b[39m:\u001b[32m2\u001b[39m)\n  ammonite.$sess.cmd24$Helper.mapReduce(\u001b[32mcmd24.sc\u001b[39m:\u001b[32m2\u001b[39m)\n  ammonite.$sess.cmd24$Helper.mapReduce(\u001b[32mcmd24.sc\u001b[39m:\u001b[32m2\u001b[39m)\n  ammonite.$sess.cmd24$Helper.mapReduce(\u001b[32mcmd24.sc\u001b[39m:\u001b[32m2\u001b[39m)\n  ammonite.$sess.cmd24$Helper.mapReduce(\u001b[32mcmd24.sc\u001b[39m:\u001b[32m2\u001b[39m)\n  ammonite.$sess.cmd24$Helper.mapReduce(\u001b[32mcmd24.sc\u001b[39m:\u001b[32m2\u001b[39m)\n  ammonite.$sess.cmd24$Helper.mapReduce(\u001b[32mcmd24.sc\u001b[39m:\u001b[32m2\u001b[39m)\n  ammonite.$sess.cmd24$Helper.mapReduce(\u001b[32mcmd24.sc\u001b[39m:\u001b[32m2\u001b[39m)\n  ammonite.$sess.cmd24$Helper.mapReduce(\u001b[32mcmd24.sc\u001b[39m:\u001b[32m2\u001b[39m)\n  ammonite.$sess.cmd24$Helper.mapReduce(\u001b[32mcmd24.sc\u001b[39m:\u001b[32m2\u001b[39m)\n  ammonite.$sess.cmd24$Helper.mapReduce(\u001b[32mcmd24.sc\u001b[39m:\u001b[32m2\u001b[39m)\n  ammonite.$sess.cmd24$Helper.mapReduce(\u001b[32mcmd24.sc\u001b[39m:\u001b[32m2\u001b[39m)\n  ammonite.$sess.cmd24$Helper.mapReduce(\u001b[32mcmd24.sc\u001b[39m:\u001b[32m2\u001b[39m)\n  ammonite.$sess.cmd24$Helper.mapReduce(\u001b[32mcmd24.sc\u001b[39m:\u001b[32m2\u001b[39m)\n  ammonite.$sess.cmd24$Helper.mapReduce(\u001b[32mcmd24.sc\u001b[39m:\u001b[32m2\u001b[39m)\n  ammonite.$sess.cmd24$Helper.mapReduce(\u001b[32mcmd24.sc\u001b[39m:\u001b[32m2\u001b[39m)\n  ammonite.$sess.cmd24$Helper.mapReduce(\u001b[32mcmd24.sc\u001b[39m:\u001b[32m2\u001b[39m)\n  ammonite.$sess.cmd24$Helper.mapReduce(\u001b[32mcmd24.sc\u001b[39m:\u001b[32m2\u001b[39m)\n  ammonite.$sess.cmd24$Helper.mapReduce(\u001b[32mcmd24.sc\u001b[39m:\u001b[32m2\u001b[39m)\n  ammonite.$sess.cmd24$Helper.mapReduce(\u001b[32mcmd24.sc\u001b[39m:\u001b[32m2\u001b[39m)\n  ammonite.$sess.cmd24$Helper.mapReduce(\u001b[32mcmd24.sc\u001b[39m:\u001b[32m2\u001b[39m)\n  ammonite.$sess.cmd24$Helper.mapReduce(\u001b[32mcmd24.sc\u001b[39m:\u001b[32m2\u001b[39m)\n  ammonite.$sess.cmd24$Helper.mapReduce(\u001b[32mcmd24.sc\u001b[39m:\u001b[32m2\u001b[39m)\n  ammonite.$sess.cmd24$Helper.mapReduce(\u001b[32mcmd24.sc\u001b[39m:\u001b[32m2\u001b[39m)\n  ammonite.$sess.cmd24$Helper.mapReduce(\u001b[32mcmd24.sc\u001b[39m:\u001b[32m2\u001b[39m)\n  ammonite.$sess.cmd24$Helper.mapReduce(\u001b[32mcmd24.sc\u001b[39m:\u001b[32m2\u001b[39m)\n  ammonite.$sess.cmd24$Helper.mapReduce(\u001b[32mcmd24.sc\u001b[39m:\u001b[32m2\u001b[39m)\n  ammonite.$sess.cmd24$Helper.mapReduce(\u001b[32mcmd24.sc\u001b[39m:\u001b[32m2\u001b[39m)\n  ammonite.$sess.cmd24$Helper.mapReduce(\u001b[32mcmd24.sc\u001b[39m:\u001b[32m2\u001b[39m)\n  ammonite.$sess.cmd24$Helper.mapReduce(\u001b[32mcmd24.sc\u001b[39m:\u001b[32m2\u001b[39m)\n  ammonite.$sess.cmd24$Helper.mapReduce(\u001b[32mcmd24.sc\u001b[39m:\u001b[32m2\u001b[39m)\n  ammonite.$sess.cmd24$Helper.mapReduce(\u001b[32mcmd24.sc\u001b[39m:\u001b[32m2\u001b[39m)\n  ammonite.$sess.cmd24$Helper.mapReduce(\u001b[32mcmd24.sc\u001b[39m:\u001b[32m2\u001b[39m)\n  ammonite.$sess.cmd24$Helper.mapReduce(\u001b[32mcmd24.sc\u001b[39m:\u001b[32m2\u001b[39m)\n  ammonite.$sess.cmd24$Helper.mapReduce(\u001b[32mcmd24.sc\u001b[39m:\u001b[32m2\u001b[39m)\n  ammonite.$sess.cmd24$Helper.mapReduce(\u001b[32mcmd24.sc\u001b[39m:\u001b[32m2\u001b[39m)\n  ammonite.$sess.cmd24$Helper.mapReduce(\u001b[32mcmd24.sc\u001b[39m:\u001b[32m2\u001b[39m)\n  ammonite.$sess.cmd24$Helper.mapReduce(\u001b[32mcmd24.sc\u001b[39m:\u001b[32m2\u001b[39m)\n  ammonite.$sess.cmd24$Helper.mapReduce(\u001b[32mcmd24.sc\u001b[39m:\u001b[32m2\u001b[39m)\n  ammonite.$sess.cmd24$Helper.mapReduce(\u001b[32mcmd24.sc\u001b[39m:\u001b[32m2\u001b[39m)\n  ammonite.$sess.cmd24$Helper.mapReduce(\u001b[32mcmd24.sc\u001b[39m:\u001b[32m2\u001b[39m)\n  ammonite.$sess.cmd24$Helper.mapReduce(\u001b[32mcmd24.sc\u001b[39m:\u001b[32m2\u001b[39m)\n  ammonite.$sess.cmd24$Helper.mapReduce(\u001b[32mcmd24.sc\u001b[39m:\u001b[32m2\u001b[39m)\n  ammonite.$sess.cmd24$Helper.mapReduce(\u001b[32mcmd24.sc\u001b[39m:\u001b[32m2\u001b[39m)\n  ammonite.$sess.cmd24$Helper.mapReduce(\u001b[32mcmd24.sc\u001b[39m:\u001b[32m2\u001b[39m)\n  ammonite.$sess.cmd24$Helper.mapReduce(\u001b[32mcmd24.sc\u001b[39m:\u001b[32m2\u001b[39m)\n  ammonite.$sess.cmd24$Helper.mapReduce(\u001b[32mcmd24.sc\u001b[39m:\u001b[32m2\u001b[39m)\n  ammonite.$sess.cmd24$Helper.mapReduce(\u001b[32mcmd24.sc\u001b[39m:\u001b[32m2\u001b[39m)\n  ammonite.$sess.cmd24$Helper.mapReduce(\u001b[32mcmd24.sc\u001b[39m:\u001b[32m2\u001b[39m)\n  ammonite.$sess.cmd24$Helper.mapReduce(\u001b[32mcmd24.sc\u001b[39m:\u001b[32m2\u001b[39m)\n  ammonite.$sess.cmd24$Helper.mapReduce(\u001b[32mcmd24.sc\u001b[39m:\u001b[32m2\u001b[39m)\n  ammonite.$sess.cmd24$Helper.mapReduce(\u001b[32mcmd24.sc\u001b[39m:\u001b[32m2\u001b[39m)\n  ammonite.$sess.cmd24$Helper.mapReduce(\u001b[32mcmd24.sc\u001b[39m:\u001b[32m2\u001b[39m)\n  ammonite.$sess.cmd24$Helper.mapReduce(\u001b[32mcmd24.sc\u001b[39m:\u001b[32m2\u001b[39m)\n  ammonite.$sess.cmd24$Helper.mapReduce(\u001b[32mcmd24.sc\u001b[39m:\u001b[32m2\u001b[39m)\n  ammonite.$sess.cmd24$Helper.mapReduce(\u001b[32mcmd24.sc\u001b[39m:\u001b[32m2\u001b[39m)\n  ammonite.$sess.cmd24$Helper.mapReduce(\u001b[32mcmd24.sc\u001b[39m:\u001b[32m2\u001b[39m)\n  ammonite.$sess.cmd24$Helper.mapReduce(\u001b[32mcmd24.sc\u001b[39m:\u001b[32m2\u001b[39m)\n  ammonite.$sess.cmd24$Helper.mapReduce(\u001b[32mcmd24.sc\u001b[39m:\u001b[32m2\u001b[39m)\n  ammonite.$sess.cmd24$Helper.mapReduce(\u001b[32mcmd24.sc\u001b[39m:\u001b[32m2\u001b[39m)\n  ammonite.$sess.cmd24$Helper.mapReduce(\u001b[32mcmd24.sc\u001b[39m:\u001b[32m2\u001b[39m)\n  ammonite.$sess.cmd24$Helper.mapReduce(\u001b[32mcmd24.sc\u001b[39m:\u001b[32m2\u001b[39m)\n  ammonite.$sess.cmd24$Helper.mapReduce(\u001b[32mcmd24.sc\u001b[39m:\u001b[32m2\u001b[39m)\n  ammonite.$sess.cmd24$Helper.mapReduce(\u001b[32mcmd24.sc\u001b[39m:\u001b[32m2\u001b[39m)\n  ammonite.$sess.cmd24$Helper.mapReduce(\u001b[32mcmd24.sc\u001b[39m:\u001b[32m2\u001b[39m)\n  ammonite.$sess.cmd24$Helper.mapReduce(\u001b[32mcmd24.sc\u001b[39m:\u001b[32m2\u001b[39m)\n  ammonite.$sess.cmd24$Helper.mapReduce(\u001b[32mcmd24.sc\u001b[39m:\u001b[32m2\u001b[39m)\n  ammonite.$sess.cmd24$Helper.mapReduce(\u001b[32mcmd24.sc\u001b[39m:\u001b[32m2\u001b[39m)\n  ammonite.$sess.cmd24$Helper.mapReduce(\u001b[32mcmd24.sc\u001b[39m:\u001b[32m2\u001b[39m)\n  ammonite.$sess.cmd24$Helper.mapReduce(\u001b[32mcmd24.sc\u001b[39m:\u001b[32m2\u001b[39m)\n  ammonite.$sess.cmd24$Helper.mapReduce(\u001b[32mcmd24.sc\u001b[39m:\u001b[32m2\u001b[39m)\n  ammonite.$sess.cmd24$Helper.mapReduce(\u001b[32mcmd24.sc\u001b[39m:\u001b[32m2\u001b[39m)\n  ammonite.$sess.cmd24$Helper.mapReduce(\u001b[32mcmd24.sc\u001b[39m:\u001b[32m2\u001b[39m)\n  ammonite.$sess.cmd24$Helper.mapReduce(\u001b[32mcmd24.sc\u001b[39m:\u001b[32m2\u001b[39m)\n  ammonite.$sess.cmd24$Helper.mapReduce(\u001b[32mcmd24.sc\u001b[39m:\u001b[32m2\u001b[39m)\n  ammonite.$sess.cmd24$Helper.mapReduce(\u001b[32mcmd24.sc\u001b[39m:\u001b[32m2\u001b[39m)\n  ammonite.$sess.cmd24$Helper.mapReduce(\u001b[32mcmd24.sc\u001b[39m:\u001b[32m2\u001b[39m)\n  ammonite.$sess.cmd24$Helper.mapReduce(\u001b[32mcmd24.sc\u001b[39m:\u001b[32m2\u001b[39m)\n  ammonite.$sess.cmd24$Helper.mapReduce(\u001b[32mcmd24.sc\u001b[39m:\u001b[32m2\u001b[39m)\n  ammonite.$sess.cmd24$Helper.mapReduce(\u001b[32mcmd24.sc\u001b[39m:\u001b[32m2\u001b[39m)\n  ammonite.$sess.cmd24$Helper.mapReduce(\u001b[32mcmd24.sc\u001b[39m:\u001b[32m2\u001b[39m)\n  ammonite.$sess.cmd24$Helper.mapReduce(\u001b[32mcmd24.sc\u001b[39m:\u001b[32m2\u001b[39m)\n  ammonite.$sess.cmd24$Helper.mapReduce(\u001b[32mcmd24.sc\u001b[39m:\u001b[32m2\u001b[39m)\n  ammonite.$sess.cmd24$Helper.mapReduce(\u001b[32mcmd24.sc\u001b[39m:\u001b[32m2\u001b[39m)\n  ammonite.$sess.cmd24$Helper.mapReduce(\u001b[32mcmd24.sc\u001b[39m:\u001b[32m2\u001b[39m)\n  ammonite.$sess.cmd24$Helper.mapReduce(\u001b[32mcmd24.sc\u001b[39m:\u001b[32m2\u001b[39m)\n  ammonite.$sess.cmd24$Helper.mapReduce(\u001b[32mcmd24.sc\u001b[39m:\u001b[32m2\u001b[39m)\n  ammonite.$sess.cmd24$Helper.mapReduce(\u001b[32mcmd24.sc\u001b[39m:\u001b[32m2\u001b[39m)\n  ammonite.$sess.cmd24$Helper.mapReduce(\u001b[32mcmd24.sc\u001b[39m:\u001b[32m2\u001b[39m)\n  ammonite.$sess.cmd24$Helper.mapReduce(\u001b[32mcmd24.sc\u001b[39m:\u001b[32m2\u001b[39m)"
     ]
    }
   ],
   "source": [
    "def mapReduce(reduce: (Int,Int)=>Int)(map: Int=>Int)(initVal: Int, a: Int, b: Int): Int = {\n",
    "    if (a <= b) reduce(map(a), mapReduce(reduce)(map)(initVal, a+1, b)) else initVal\n",
    "}\n",
    "\n",
    "mapReduce((x,y)=>x+y)((x)=>x)(1, 1, 100000)"
   ]
  },
  {
   "cell_type": "code",
   "execution_count": 26,
   "metadata": {},
   "outputs": [
    {
     "data": {
      "text/plain": [
       "\u001b[32mimport \u001b[39m\u001b[36mscala.annotation.tailrec\n",
       "\u001b[39m\n",
       "\u001b[32mimport \u001b[39m\u001b[36mscala.util.control.TailCalls._\n",
       "\n",
       "\u001b[39m\n",
       "defined \u001b[32mfunction\u001b[39m \u001b[36mmapReduce\u001b[39m\n",
       "\u001b[36mres25_3\u001b[39m: \u001b[32mInt\u001b[39m = \u001b[32m705082705\u001b[39m"
      ]
     },
     "execution_count": 26,
     "metadata": {},
     "output_type": "execute_result"
    }
   ],
   "source": [
    "import scala.annotation.tailrec\n",
    "import scala.util.control.TailCalls._\n",
    "\n",
    "def mapReduce(reduce: (Int,Int)=>Int)(map: Int=>Int)(initVal: Int, a: Int, b: Int): Int = {\n",
    "    @tailrec\n",
    "    def mapReduceIter(a: Int, acc: Int): Int = {\n",
    "        if (a <= b) mapReduceIter(a+1, reduce(map(a), acc))\n",
    "        else acc\n",
    "    }\n",
    "    mapReduceIter(a, initVal)\n",
    "}\n",
    "\n",
    "mapReduce((x,y)=>x+y)((x)=>x)(1, 1, 100000)"
   ]
  },
  {
   "cell_type": "code",
   "execution_count": 10,
   "metadata": {},
   "outputs": [
    {
     "data": {
      "text/plain": [
       "\u001b[32mimport \u001b[39m\u001b[36mscala.annotation.tailrec\n",
       "\u001b[39m\n",
       "\u001b[32mimport \u001b[39m\u001b[36mscala.util.control.TailCalls._\n",
       "\n",
       "\n",
       "\u001b[39m\n",
       "defined \u001b[32mfunction\u001b[39m \u001b[36mmapReduce\u001b[39m\n",
       "\u001b[36mres9_3\u001b[39m: \u001b[32mInt\u001b[39m = \u001b[32m78\u001b[39m"
      ]
     },
     "execution_count": 10,
     "metadata": {},
     "output_type": "execute_result"
    }
   ],
   "source": [
    "import scala.annotation.tailrec\n",
    "import scala.util.control.TailCalls._\n",
    "\n",
    "\n",
    "def mapReduce(reduce: (Int,Int)=>Int)(map: Int=>Int)(initVal: Int, a: Int, b: Int): Int = {\n",
    "    @tailrec\n",
    "    def mapReduceCont(a: Int, cont: Int=>TailRec[Int]): Int = {\n",
    "        if (a <= b) mapReduceCont(a+1, (r)=>tailcall(cont(reduce(map(a), r))))\n",
    "        else cont(initVal).result\n",
    "    }\n",
    "    mapReduceCont(a, (r)=>done(r))\n",
    "}\n",
    "\n",
    "mapReduce((x,y)=>x+y)((x)=>x)(0, 1, 12)"
   ]
  },
  {
   "cell_type": "code",
   "execution_count": 35,
   "metadata": {},
   "outputs": [
    {
     "data": {
      "text/plain": [
       "defined \u001b[32mfunction\u001b[39m \u001b[36mfoo\u001b[39m"
      ]
     },
     "execution_count": 35,
     "metadata": {},
     "output_type": "execute_result"
    }
   ],
   "source": [
    "def foo(x: Int, y: Int, z: Int)(a: Int, b: Int) = x + y + z + a + b"
   ]
  },
  {
   "cell_type": "code",
   "execution_count": 40,
   "metadata": {},
   "outputs": [
    {
     "data": {
      "text/plain": [
       "\u001b[36mf1\u001b[39m: (\u001b[32mInt\u001b[39m, \u001b[32mInt\u001b[39m, \u001b[32mInt\u001b[39m) => \u001b[32mInt\u001b[39m = ammonite.$sess.cmd39$Helper$$Lambda$2191/1163231515@557fd259\n",
       "\u001b[36mf2\u001b[39m: (\u001b[32mInt\u001b[39m, \u001b[32mInt\u001b[39m, \u001b[32mInt\u001b[39m) => \u001b[32mInt\u001b[39m = ammonite.$sess.cmd39$Helper$$Lambda$2192/651399923@295e5a27\n",
       "\u001b[36mf3\u001b[39m: (\u001b[32mInt\u001b[39m, \u001b[32mInt\u001b[39m) => \u001b[32mInt\u001b[39m => \u001b[32mInt\u001b[39m = ammonite.$sess.cmd39$Helper$$Lambda$2193/278378941@abec186"
      ]
     },
     "execution_count": 40,
     "metadata": {},
     "output_type": "execute_result"
    }
   ],
   "source": [
    "val f1 = (x: Int, z: Int, b: Int) => foo(x, 1, z)(2, b)\n",
    "val f2 = foo(_: Int, 1, _: Int)(2, _: Int)\n",
    "val f3 = (x: Int, z: Int) => ((b: Int) => foo(x, 1, z)(2, b))"
   ]
  },
  {
   "cell_type": "code",
   "execution_count": 38,
   "metadata": {},
   "outputs": [
    {
     "data": {
      "text/plain": [
       "\u001b[36mres37_0\u001b[39m: \u001b[32mInt\u001b[39m = \u001b[32m9\u001b[39m\n",
       "\u001b[36mres37_1\u001b[39m: \u001b[32mInt\u001b[39m = \u001b[32m9\u001b[39m\n",
       "\u001b[36mres37_2\u001b[39m: \u001b[32mInt\u001b[39m = \u001b[32m9\u001b[39m"
      ]
     },
     "execution_count": 38,
     "metadata": {},
     "output_type": "execute_result"
    }
   ],
   "source": [
    "f1(1,2,3)\n",
    "f2(1,2,3)\n",
    "f3(1,2)(3)"
   ]
  },
  {
   "cell_type": "code",
   "execution_count": 45,
   "metadata": {},
   "outputs": [
    {
     "data": {
      "text/plain": [
       "defined \u001b[32mfunction\u001b[39m \u001b[36mgee1\u001b[39m\n",
       "defined \u001b[32mfunction\u001b[39m \u001b[36mgee2\u001b[39m\n",
       "\u001b[36mres44_2\u001b[39m: \u001b[32mInt\u001b[39m = \u001b[32m15\u001b[39m\n",
       "\u001b[36mres44_3\u001b[39m: \u001b[32mInt\u001b[39m = \u001b[32m9\u001b[39m"
      ]
     },
     "execution_count": 45,
     "metadata": {},
     "output_type": "execute_result"
    }
   ],
   "source": [
    "def gee1 = (x: Int, y: Int, z: Int, a: Int) => ((b: Int) => foo(x, y, z)(a, b))\n",
    "def gee2 = foo(_: Int, 1, _: Int)(2, _: Int)\n",
    "gee1(1, 2, 3, 4)(5)\n",
    "gee2(1, 2, 3)"
   ]
  },
  {
   "cell_type": "code",
   "execution_count": 64,
   "metadata": {},
   "outputs": [
    {
     "data": {
      "text/plain": [
       "\u001b[36msumReduce\u001b[39m: (\u001b[32mInt\u001b[39m => \u001b[32mInt\u001b[39m, \u001b[32mInt\u001b[39m, \u001b[32mInt\u001b[39m) => \u001b[32mInt\u001b[39m = ammonite.$sess.cmd63$Helper$$Lambda$2688/1976031066@32b0a2b3\n",
       "\u001b[36mproductReduce\u001b[39m: (\u001b[32mInt\u001b[39m => \u001b[32mInt\u001b[39m, \u001b[32mInt\u001b[39m, \u001b[32mInt\u001b[39m) => \u001b[32mInt\u001b[39m = ammonite.$sess.cmd63$Helper$$Lambda$2689/1263522144@7dfa4a04\n",
       "\u001b[36mres63_2\u001b[39m: \u001b[32mInt\u001b[39m = \u001b[32m15\u001b[39m\n",
       "\u001b[36mres63_3\u001b[39m: \u001b[32mInt\u001b[39m = \u001b[32m120\u001b[39m"
      ]
     },
     "execution_count": 64,
     "metadata": {},
     "output_type": "execute_result"
    }
   ],
   "source": [
    "val sumReduce = mapReduce((x,y)=>x+y)(_: Int=>Int)(0, _: Int, _: Int)\n",
    "val productReduce = mapReduce((x,y)=>x*y)(_: Int=>Int)(1, _: Int, _: Int)\n",
    "\n",
    "sumReduce((x)=>x, 1, 5)\n",
    "productReduce((x)=>x, 1, 5)"
   ]
  },
  {
   "cell_type": "code",
   "execution_count": 62,
   "metadata": {},
   "outputs": [
    {
     "data": {
      "text/plain": [
       "defined \u001b[32mfunction\u001b[39m \u001b[36msumReduce\u001b[39m\n",
       "defined \u001b[32mfunction\u001b[39m \u001b[36mproductReduce\u001b[39m\n",
       "\u001b[36mres61_2\u001b[39m: \u001b[32mInt\u001b[39m = \u001b[32m705082704\u001b[39m\n",
       "\u001b[36mres61_3\u001b[39m: \u001b[32mInt\u001b[39m = \u001b[32m120\u001b[39m"
      ]
     },
     "execution_count": 62,
     "metadata": {},
     "output_type": "execute_result"
    }
   ],
   "source": [
    "def sumReduce = (map: Int=>Int) => (a: Int, b: Int) => mapReduce((x,y)=>x+y)(map)(0, a, b)\n",
    "def productReduce = (map: Int=>Int) => (a: Int, b: Int) => mapReduce((x,y)=>x*y)(map)(1, a, b)\n",
    "\n",
    "sumReduce((x)=>x)(1, 100000)\n",
    "productReduce((x)=>x)(1, 5)"
   ]
  },
  {
   "cell_type": "code",
   "execution_count": 70,
   "metadata": {},
   "outputs": [
    {
     "name": "stdout",
     "output_type": "stream",
     "text": [
      "6\n",
      "fact range error: -10\n"
     ]
    },
    {
     "data": {
      "text/plain": [
       "defined \u001b[32mclass\u001b[39m \u001b[36mfactRangeException\u001b[39m\n",
       "defined \u001b[32mfunction\u001b[39m \u001b[36mfact\u001b[39m"
      ]
     },
     "execution_count": 70,
     "metadata": {},
     "output_type": "execute_result"
    }
   ],
   "source": [
    "class factRangeException(val arg: Int) extends Exception\n",
    "\n",
    "def fact(n: Int): Int = {\n",
    "    if (n < 0) throw new factRangeException(n)\n",
    "    else if (n == 0) 1\n",
    "    else n * fact(n-1)\n",
    "}\n",
    "\n",
    "try {\n",
    "    println(fact(3))\n",
    "    println(fact(-10))\n",
    "} catch {\n",
    "    case e: factRangeException => {\n",
    "        println(\"fact range error: \" + e.arg)\n",
    "    }\n",
    "}"
   ]
  },
  {
   "cell_type": "code",
   "execution_count": 94,
   "metadata": {},
   "outputs": [
    {
     "data": {
      "text/plain": [
       "\u001b[36mres93_0\u001b[39m: \u001b[32mInt\u001b[39m = \u001b[32m1\u001b[39m\n",
       "defined \u001b[32mobject\u001b[39m \u001b[36mfoo\u001b[39m\n",
       "\u001b[36mres93_2\u001b[39m: \u001b[32mInt\u001b[39m = \u001b[32m100\u001b[39m\n",
       "defined \u001b[32mfunction\u001b[39m \u001b[36mg\u001b[39m\n",
       "\u001b[36mres93_4\u001b[39m: () => () => () => \u001b[32mInt\u001b[39m => \u001b[32mInt\u001b[39m = ammonite.$sess.cmd93$Helper$$Lambda$3086/170753323@585f1a08"
      ]
     },
     "execution_count": 94,
     "metadata": {},
     "output_type": "execute_result"
    }
   ],
   "source": [
    "(1,2,3)._1\n",
    "\n",
    "object foo {\n",
    "    val a = 3; val b = 3; val f: Int=>Int = (x)=>x*x\n",
    "}\n",
    "foo.f(10)\n",
    "def g = () => foo.f _\n",
    "g _"
   ]
  },
  {
   "cell_type": "code",
   "execution_count": 88,
   "metadata": {},
   "outputs": [
    {
     "data": {
      "text/plain": [
       "\u001b[36mres87_0\u001b[39m: \u001b[32mOption\u001b[39m.type = scala.Option$@3f6b9e96\n",
       "\u001b[36mres87_1\u001b[39m: \u001b[32mSome\u001b[39m.type = Some\n",
       "\u001b[36mres87_2\u001b[39m: \u001b[32mNone\u001b[39m.type = \u001b[32mNone\u001b[39m\n",
       "\u001b[36mres87_3\u001b[39m: \u001b[32mNil\u001b[39m.type = \u001b[33mList\u001b[39m()"
      ]
     },
     "execution_count": 88,
     "metadata": {},
     "output_type": "execute_result"
    }
   ],
   "source": [
    "Option\n",
    "Some\n",
    "None\n",
    "Nil"
   ]
  },
  {
   "cell_type": "code",
   "execution_count": 1,
   "metadata": {},
   "outputs": [
    {
     "name": "stdout",
     "output_type": "stream",
     "text": [
      "1 2 3 4 5 6 7 8 9 10 "
     ]
    },
    {
     "data": {
      "text/plain": [
       "\u001b[32mimport \u001b[39m\u001b[36mscala.annotation.tailrec\n",
       "\u001b[39m\n",
       "\u001b[32mimport \u001b[39m\u001b[36mscala.util.control.TailCalls._\n",
       "\n",
       "\u001b[39m\n",
       "defined \u001b[32mclass\u001b[39m \u001b[36mIList\u001b[39m\n",
       "defined \u001b[32mclass\u001b[39m \u001b[36mINil\u001b[39m\n",
       "defined \u001b[32mclass\u001b[39m \u001b[36mICons\u001b[39m\n",
       "\u001b[36mx\u001b[39m: \u001b[32mIList\u001b[39m = \u001b[33mICons\u001b[39m(\u001b[32m2\u001b[39m, \u001b[33mICons\u001b[39m(\u001b[32m3\u001b[39m, INil()))\n",
       "defined \u001b[32mfunction\u001b[39m \u001b[36mgen\u001b[39m\n",
       "defined \u001b[32mfunction\u001b[39m \u001b[36mshow\u001b[39m\n",
       "\u001b[36mres0_8\u001b[39m: \u001b[32mAny\u001b[39m = ()"
      ]
     },
     "execution_count": 1,
     "metadata": {},
     "output_type": "execute_result"
    }
   ],
   "source": [
    "import scala.annotation.tailrec\n",
    "import scala.util.control.TailCalls._\n",
    "\n",
    "abstract sealed class IList\n",
    "case class INil() extends IList\n",
    "case class ICons(hd: Int, tl: IList) extends IList\n",
    "\n",
    "val x: IList = ICons(2, ICons(3, INil()))\n",
    "\n",
    "def gen(n: Int): IList = {\n",
    "    @tailrec\n",
    "    def genTail(n: Int, acc: IList): IList = {\n",
    "        if (n <= 0) acc\n",
    "        else genTail(n-1, ICons(n, acc))\n",
    "    }\n",
    "    @tailrec\n",
    "    def genCont(n: Int, cont: IList=>TailRec[IList]): IList = {\n",
    "        if (n <= 0) cont(INil()).result\n",
    "        else genCont(n-1, (r)=>tailcall(cont(ICons(n, r))))\n",
    "    }\n",
    "    genTail(n, INil())\n",
    "//     genCont(n, (r)=>done(r))\n",
    "}\n",
    "\n",
    "@tailrec\n",
    "def show(x: IList): Any = {\n",
    "    x match {\n",
    "        case INil() => print(\"\")\n",
    "        case ICons(hd, tl) => print(hd + \" \"); show(tl)\n",
    "    }\n",
    "}\n",
    "show(gen(10))"
   ]
  },
  {
   "cell_type": "code",
   "execution_count": 2,
   "metadata": {},
   "outputs": [
    {
     "data": {
      "text/plain": [
       "\u001b[32mimport \u001b[39m\u001b[36mscala.annotation.tailrec\n",
       "\u001b[39m\n",
       "\u001b[32mimport \u001b[39m\u001b[36mscala.util.control.TailCalls._\n",
       "\n",
       "\u001b[39m\n",
       "defined \u001b[32mfunction\u001b[39m \u001b[36mlen\u001b[39m\n",
       "\u001b[36mres1_3\u001b[39m: \u001b[32mInt\u001b[39m = \u001b[32m1000000\u001b[39m"
      ]
     },
     "execution_count": 2,
     "metadata": {},
     "output_type": "execute_result"
    }
   ],
   "source": [
    "import scala.annotation.tailrec\n",
    "import scala.util.control.TailCalls._\n",
    "\n",
    "def len(x: IList): Int = {\n",
    "    @tailrec\n",
    "    def lenTail(x: IList, l: Int): Int = {\n",
    "        x match {\n",
    "            case INil() => l\n",
    "            case ICons(_, tl) => lenTail(tl, l+1)\n",
    "        }      \n",
    "    }\n",
    "    lenTail(x, 0)\n",
    "}\n",
    "len(gen(1000000))"
   ]
  },
  {
   "cell_type": "code",
   "execution_count": 9,
   "metadata": {
    "scrolled": true
   },
   "outputs": [
    {
     "data": {
      "text/plain": [
       "\u001b[32mimport \u001b[39m\u001b[36mscala.annotation.tailrec\n",
       "\u001b[39m\n",
       "\u001b[32mimport \u001b[39m\u001b[36mscala.util.control.TailCalls._\n",
       "\n",
       "\u001b[39m\n",
       "defined \u001b[32mclass\u001b[39m \u001b[36mBtree\u001b[39m\n",
       "defined \u001b[32mclass\u001b[39m \u001b[36mLeaf\u001b[39m\n",
       "defined \u001b[32mclass\u001b[39m \u001b[36mNode\u001b[39m\n",
       "defined \u001b[32mfunction\u001b[39m \u001b[36mgen\u001b[39m\n",
       "\u001b[36mres8_6\u001b[39m: \u001b[32mBtree\u001b[39m = \u001b[33mNode\u001b[39m(\n",
       "  \u001b[32m10000\u001b[39m,\n",
       "  \u001b[33mNode\u001b[39m(\n",
       "    \u001b[32m9999\u001b[39m,\n",
       "    \u001b[33mNode\u001b[39m(\n",
       "      \u001b[32m9998\u001b[39m,\n",
       "      \u001b[33mNode\u001b[39m(\n",
       "        \u001b[32m9997\u001b[39m,\n",
       "        \u001b[33mNode\u001b[39m(\n",
       "          \u001b[32m9996\u001b[39m,\n",
       "          \u001b[33mNode\u001b[39m(\n",
       "            \u001b[32m9995\u001b[39m,\n",
       "            \u001b[33mNode\u001b[39m(\n",
       "              \u001b[32m9994\u001b[39m,\n",
       "              \u001b[33mNode\u001b[39m(\n",
       "                \u001b[32m9993\u001b[39m,\n",
       "                \u001b[33mNode\u001b[39m(\n",
       "                  \u001b[32m9992\u001b[39m,\n",
       "                  \u001b[33mNode\u001b[39m(\n",
       "                    \u001b[32m9991\u001b[39m,\n",
       "                    \u001b[33mNode\u001b[39m(\n",
       "                      \u001b[32m9990\u001b[39m,\n",
       "                      \u001b[33mNode\u001b[39m(\n",
       "                        \u001b[32m9989\u001b[39m,\n",
       "                        \u001b[33mNode\u001b[39m(\n",
       "                          \u001b[32m9988\u001b[39m,\n",
       "                          \u001b[33mNode\u001b[39m(\n",
       "                            \u001b[32m9987\u001b[39m,\n",
       "                            \u001b[33mNode\u001b[39m(\n",
       "                              \u001b[32m9986\u001b[39m,\n",
       "                              \u001b[33mNode\u001b[39m(\n",
       "                                \u001b[32m9985\u001b[39m,\n",
       "                                \u001b[33mNode\u001b[39m(\n",
       "                                  \u001b[32m9984\u001b[39m,\n",
       "                                  \u001b[33mNode\u001b[39m(\n",
       "                                    \u001b[32m9983\u001b[39m,\n",
       "                                    \u001b[33mNode\u001b[39m(\n",
       "                                      \u001b[32m9982\u001b[39m,\n",
       "                                      \u001b[33mNode\u001b[39m(\n",
       "..."
      ]
     },
     "execution_count": 9,
     "metadata": {},
     "output_type": "execute_result"
    }
   ],
   "source": [
    "import scala.annotation.tailrec\n",
    "import scala.util.control.TailCalls._\n",
    "\n",
    "sealed abstract class Btree\n",
    "case class Leaf() extends Btree\n",
    "case class Node(v: Int, lt: Btree, rt: Btree) extends Btree\n",
    "\n",
    "def gen(n: Int): Btree = {    \n",
    "    @tailrec\n",
    "    def genTail(n: Int, acc: Btree): Btree = {\n",
    "        if (n <= 0) acc\n",
    "        else genTail(n-1, Node(n, acc, Leaf()))\n",
    "    }\n",
    "    @tailrec\n",
    "    def genCont(n: Int, cont: Btree=>TailRec[Btree]): Btree = {\n",
    "        if (n <= 0) cont(Leaf()).result\n",
    "        else genCont(n-1, (r)=>tailcall(cont(Node(n, r, Leaf()))))\n",
    "    }\n",
    "//     genTail(n, Leaf())\n",
    "    genCont(n, (r)=>done(r))\n",
    "}\n",
    "gen(10000)"
   ]
  },
  {
   "cell_type": "code",
   "execution_count": 20,
   "metadata": {},
   "outputs": [
    {
     "data": {
      "text/plain": [
       "defined \u001b[32mfunction\u001b[39m \u001b[36mfind\u001b[39m\n",
       "\u001b[36mres19_1\u001b[39m: \u001b[32mBoolean\u001b[39m = true"
      ]
     },
     "execution_count": 20,
     "metadata": {},
     "output_type": "execute_result"
    }
   ],
   "source": [
    "def find(t: Btree, x: Int): Boolean = {\n",
    "    t match {\n",
    "        case Leaf() => false\n",
    "        case Node(v, _, _) if (v == x) => true\n",
    "        case Node(_, lt, rt) => find(lt, x) || find(rt, x)\n",
    "    }\n",
    "}\n",
    "find(gen(100), 100)"
   ]
  },
  {
   "cell_type": "code",
   "execution_count": 24,
   "metadata": {},
   "outputs": [
    {
     "data": {
      "text/plain": [
       "\u001b[32mimport \u001b[39m\u001b[36mscala.annotation.tailrec\n",
       "\u001b[39m\n",
       "\u001b[32mimport \u001b[39m\u001b[36mscala.util.control.TailCalls._\n",
       "\n",
       "\u001b[39m\n",
       "defined \u001b[32mclass\u001b[39m \u001b[36mBtreeList\u001b[39m\n",
       "defined \u001b[32mclass\u001b[39m \u001b[36mBNil\u001b[39m\n",
       "defined \u001b[32mclass\u001b[39m \u001b[36mBCons\u001b[39m\n",
       "defined \u001b[32mfunction\u001b[39m \u001b[36mfind\u001b[39m\n",
       "\u001b[36mres23_6\u001b[39m: \u001b[32mBoolean\u001b[39m = false"
      ]
     },
     "execution_count": 24,
     "metadata": {},
     "output_type": "execute_result"
    }
   ],
   "source": [
    "import scala.annotation.tailrec\n",
    "import scala.util.control.TailCalls._\n",
    "\n",
    "sealed abstract class BtreeList\n",
    "case class BNil() extends BtreeList\n",
    "case class BCons(hd: Btree, tl: BtreeList) extends BtreeList\n",
    "\n",
    "def find(t: Btree, x: Int): Boolean = {\n",
    "    @tailrec\n",
    "    def findIter(x: BtreeList): Boolean = {\n",
    "        x match {\n",
    "            case BNil() => false\n",
    "            case BCons(Leaf(), tl) => findIter(tl)\n",
    "            case BCons(Node(v, _, _), _) if (v == x) => true\n",
    "            case BCons(Node(_, lt, rt), tl) => findIter(BCons(lt, BCons(rt, tl)))\n",
    "        }\n",
    "    }\n",
    "    findIter(BCons(t, BNil()))\n",
    "}\n",
    "find(gen(10000), -1)"
   ]
  },
  {
   "cell_type": "code",
   "execution_count": 18,
   "metadata": {},
   "outputs": [
    {
     "data": {
      "text/plain": [
       "defined \u001b[32mfunction\u001b[39m \u001b[36mfibo\u001b[39m\n",
       "\u001b[36mres17_1\u001b[39m: \u001b[32mInt\u001b[39m = \u001b[32m102334155\u001b[39m"
      ]
     },
     "execution_count": 18,
     "metadata": {},
     "output_type": "execute_result"
    }
   ],
   "source": [
    "def fibo(n: Int): Int = {\n",
    "    n match {\n",
    "        case k if (k <= 1) => k\n",
    "        case k => fibo(k-1) + fibo(k-2)\n",
    "    }\n",
    "}\n",
    "\n",
    "fibo(40)"
   ]
  },
  {
   "cell_type": "code",
   "execution_count": 19,
   "metadata": {},
   "outputs": [
    {
     "data": {
      "text/plain": [
       "\u001b[32mimport \u001b[39m\u001b[36mscala.annotation.tailrec\n",
       "\u001b[39m\n",
       "\u001b[32mimport \u001b[39m\u001b[36mscala.util.control.TailCalls._\n",
       "\n",
       "\u001b[39m\n",
       "defined \u001b[32mfunction\u001b[39m \u001b[36mfibo\u001b[39m\n",
       "\u001b[36mres18_3\u001b[39m: \u001b[32mInt\u001b[39m = \u001b[32m102334155\u001b[39m"
      ]
     },
     "execution_count": 19,
     "metadata": {},
     "output_type": "execute_result"
    }
   ],
   "source": [
    "import scala.annotation.tailrec\n",
    "import scala.util.control.TailCalls._\n",
    "\n",
    "def fibo(n: Int) = {\n",
    "    @tailrec\n",
    "    def fiboIter(x: IList, acc: Int): Int = {\n",
    "        x match {\n",
    "            case INil() => acc\n",
    "            case ICons(hd, tl) if (hd <= 1) => fiboIter(tl, acc + hd)\n",
    "            case ICons(hd, tl) => fiboIter(ICons(hd-1, ICons(hd-2, tl)), acc)\n",
    "        }\n",
    "    }\n",
    "    fiboIter(ICons(n, INil()), 0)\n",
    "}\n",
    "fibo(40)"
   ]
  },
  {
   "cell_type": "code",
   "execution_count": 22,
   "metadata": {},
   "outputs": [
    {
     "data": {
      "text/plain": [
       "defined \u001b[32mfunction\u001b[39m \u001b[36mid\u001b[39m\n",
       "\u001b[36mres21_1\u001b[39m: \u001b[32mInt\u001b[39m = \u001b[32m3\u001b[39m\n",
       "\u001b[36mres21_2\u001b[39m: \u001b[32mString\u001b[39m = \u001b[32m\"abc\"\u001b[39m\n",
       "\u001b[36mres21_3\u001b[39m: \u001b[32mString\u001b[39m => \u001b[32mString\u001b[39m = ammonite.$sess.cmd21$Helper$$Lambda$2455/1494449305@53683b9"
      ]
     },
     "execution_count": 22,
     "metadata": {},
     "output_type": "execute_result"
    }
   ],
   "source": [
    "def id[A](x:A) = x\n",
    "id(3)\n",
    "id(\"abc\")\n",
    "id[String] _"
   ]
  },
  {
   "cell_type": "code",
   "execution_count": 27,
   "metadata": {
    "scrolled": true
   },
   "outputs": [
    {
     "ename": "",
     "evalue": "",
     "output_type": "error",
     "traceback": [
      "\u001b[31mjava.lang.StackOverflowError\u001b[39m\n  ammonite.$sess.cmd26$Helper.applyn(\u001b[32mcmd26.sc\u001b[39m:\u001b[32m4\u001b[39m)\n  ammonite.$sess.cmd26$Helper.applyn(\u001b[32mcmd26.sc\u001b[39m:\u001b[32m4\u001b[39m)\n  ammonite.$sess.cmd26$Helper.applyn(\u001b[32mcmd26.sc\u001b[39m:\u001b[32m4\u001b[39m)\n  ammonite.$sess.cmd26$Helper.applyn(\u001b[32mcmd26.sc\u001b[39m:\u001b[32m4\u001b[39m)\n  ammonite.$sess.cmd26$Helper.applyn(\u001b[32mcmd26.sc\u001b[39m:\u001b[32m4\u001b[39m)\n  ammonite.$sess.cmd26$Helper.applyn(\u001b[32mcmd26.sc\u001b[39m:\u001b[32m4\u001b[39m)\n  ammonite.$sess.cmd26$Helper.applyn(\u001b[32mcmd26.sc\u001b[39m:\u001b[32m4\u001b[39m)\n  ammonite.$sess.cmd26$Helper.applyn(\u001b[32mcmd26.sc\u001b[39m:\u001b[32m4\u001b[39m)\n  ammonite.$sess.cmd26$Helper.applyn(\u001b[32mcmd26.sc\u001b[39m:\u001b[32m4\u001b[39m)\n  ammonite.$sess.cmd26$Helper.applyn(\u001b[32mcmd26.sc\u001b[39m:\u001b[32m4\u001b[39m)\n  ammonite.$sess.cmd26$Helper.applyn(\u001b[32mcmd26.sc\u001b[39m:\u001b[32m4\u001b[39m)\n  ammonite.$sess.cmd26$Helper.applyn(\u001b[32mcmd26.sc\u001b[39m:\u001b[32m4\u001b[39m)\n  ammonite.$sess.cmd26$Helper.applyn(\u001b[32mcmd26.sc\u001b[39m:\u001b[32m4\u001b[39m)\n  ammonite.$sess.cmd26$Helper.applyn(\u001b[32mcmd26.sc\u001b[39m:\u001b[32m4\u001b[39m)\n  ammonite.$sess.cmd26$Helper.applyn(\u001b[32mcmd26.sc\u001b[39m:\u001b[32m4\u001b[39m)\n  ammonite.$sess.cmd26$Helper.applyn(\u001b[32mcmd26.sc\u001b[39m:\u001b[32m4\u001b[39m)\n  ammonite.$sess.cmd26$Helper.applyn(\u001b[32mcmd26.sc\u001b[39m:\u001b[32m4\u001b[39m)\n  ammonite.$sess.cmd26$Helper.applyn(\u001b[32mcmd26.sc\u001b[39m:\u001b[32m4\u001b[39m)\n  ammonite.$sess.cmd26$Helper.applyn(\u001b[32mcmd26.sc\u001b[39m:\u001b[32m4\u001b[39m)\n  ammonite.$sess.cmd26$Helper.applyn(\u001b[32mcmd26.sc\u001b[39m:\u001b[32m4\u001b[39m)\n  ammonite.$sess.cmd26$Helper.applyn(\u001b[32mcmd26.sc\u001b[39m:\u001b[32m4\u001b[39m)\n  ammonite.$sess.cmd26$Helper.applyn(\u001b[32mcmd26.sc\u001b[39m:\u001b[32m4\u001b[39m)\n  ammonite.$sess.cmd26$Helper.applyn(\u001b[32mcmd26.sc\u001b[39m:\u001b[32m4\u001b[39m)\n  ammonite.$sess.cmd26$Helper.applyn(\u001b[32mcmd26.sc\u001b[39m:\u001b[32m4\u001b[39m)\n  ammonite.$sess.cmd26$Helper.applyn(\u001b[32mcmd26.sc\u001b[39m:\u001b[32m4\u001b[39m)\n  ammonite.$sess.cmd26$Helper.applyn(\u001b[32mcmd26.sc\u001b[39m:\u001b[32m4\u001b[39m)\n  ammonite.$sess.cmd26$Helper.applyn(\u001b[32mcmd26.sc\u001b[39m:\u001b[32m4\u001b[39m)\n  ammonite.$sess.cmd26$Helper.applyn(\u001b[32mcmd26.sc\u001b[39m:\u001b[32m4\u001b[39m)\n  ammonite.$sess.cmd26$Helper.applyn(\u001b[32mcmd26.sc\u001b[39m:\u001b[32m4\u001b[39m)\n  ammonite.$sess.cmd26$Helper.applyn(\u001b[32mcmd26.sc\u001b[39m:\u001b[32m4\u001b[39m)\n  ammonite.$sess.cmd26$Helper.applyn(\u001b[32mcmd26.sc\u001b[39m:\u001b[32m4\u001b[39m)\n  ammonite.$sess.cmd26$Helper.applyn(\u001b[32mcmd26.sc\u001b[39m:\u001b[32m4\u001b[39m)\n  ammonite.$sess.cmd26$Helper.applyn(\u001b[32mcmd26.sc\u001b[39m:\u001b[32m4\u001b[39m)\n  ammonite.$sess.cmd26$Helper.applyn(\u001b[32mcmd26.sc\u001b[39m:\u001b[32m4\u001b[39m)\n  ammonite.$sess.cmd26$Helper.applyn(\u001b[32mcmd26.sc\u001b[39m:\u001b[32m4\u001b[39m)\n  ammonite.$sess.cmd26$Helper.applyn(\u001b[32mcmd26.sc\u001b[39m:\u001b[32m4\u001b[39m)\n  ammonite.$sess.cmd26$Helper.applyn(\u001b[32mcmd26.sc\u001b[39m:\u001b[32m4\u001b[39m)\n  ammonite.$sess.cmd26$Helper.applyn(\u001b[32mcmd26.sc\u001b[39m:\u001b[32m4\u001b[39m)\n  ammonite.$sess.cmd26$Helper.applyn(\u001b[32mcmd26.sc\u001b[39m:\u001b[32m4\u001b[39m)\n  ammonite.$sess.cmd26$Helper.applyn(\u001b[32mcmd26.sc\u001b[39m:\u001b[32m4\u001b[39m)\n  ammonite.$sess.cmd26$Helper.applyn(\u001b[32mcmd26.sc\u001b[39m:\u001b[32m4\u001b[39m)\n  ammonite.$sess.cmd26$Helper.applyn(\u001b[32mcmd26.sc\u001b[39m:\u001b[32m4\u001b[39m)\n  ammonite.$sess.cmd26$Helper.applyn(\u001b[32mcmd26.sc\u001b[39m:\u001b[32m4\u001b[39m)\n  ammonite.$sess.cmd26$Helper.applyn(\u001b[32mcmd26.sc\u001b[39m:\u001b[32m4\u001b[39m)\n  ammonite.$sess.cmd26$Helper.applyn(\u001b[32mcmd26.sc\u001b[39m:\u001b[32m4\u001b[39m)\n  ammonite.$sess.cmd26$Helper.applyn(\u001b[32mcmd26.sc\u001b[39m:\u001b[32m4\u001b[39m)\n  ammonite.$sess.cmd26$Helper.applyn(\u001b[32mcmd26.sc\u001b[39m:\u001b[32m4\u001b[39m)\n  ammonite.$sess.cmd26$Helper.applyn(\u001b[32mcmd26.sc\u001b[39m:\u001b[32m4\u001b[39m)\n  ammonite.$sess.cmd26$Helper.applyn(\u001b[32mcmd26.sc\u001b[39m:\u001b[32m4\u001b[39m)\n  ammonite.$sess.cmd26$Helper.applyn(\u001b[32mcmd26.sc\u001b[39m:\u001b[32m4\u001b[39m)\n  ammonite.$sess.cmd26$Helper.applyn(\u001b[32mcmd26.sc\u001b[39m:\u001b[32m4\u001b[39m)\n  ammonite.$sess.cmd26$Helper.applyn(\u001b[32mcmd26.sc\u001b[39m:\u001b[32m4\u001b[39m)\n  ammonite.$sess.cmd26$Helper.applyn(\u001b[32mcmd26.sc\u001b[39m:\u001b[32m4\u001b[39m)\n  ammonite.$sess.cmd26$Helper.applyn(\u001b[32mcmd26.sc\u001b[39m:\u001b[32m4\u001b[39m)\n  ammonite.$sess.cmd26$Helper.applyn(\u001b[32mcmd26.sc\u001b[39m:\u001b[32m4\u001b[39m)\n  ammonite.$sess.cmd26$Helper.applyn(\u001b[32mcmd26.sc\u001b[39m:\u001b[32m4\u001b[39m)\n  ammonite.$sess.cmd26$Helper.applyn(\u001b[32mcmd26.sc\u001b[39m:\u001b[32m4\u001b[39m)\n  ammonite.$sess.cmd26$Helper.applyn(\u001b[32mcmd26.sc\u001b[39m:\u001b[32m4\u001b[39m)\n  ammonite.$sess.cmd26$Helper.applyn(\u001b[32mcmd26.sc\u001b[39m:\u001b[32m4\u001b[39m)\n  ammonite.$sess.cmd26$Helper.applyn(\u001b[32mcmd26.sc\u001b[39m:\u001b[32m4\u001b[39m)\n  ammonite.$sess.cmd26$Helper.applyn(\u001b[32mcmd26.sc\u001b[39m:\u001b[32m4\u001b[39m)\n  ammonite.$sess.cmd26$Helper.applyn(\u001b[32mcmd26.sc\u001b[39m:\u001b[32m4\u001b[39m)\n  ammonite.$sess.cmd26$Helper.applyn(\u001b[32mcmd26.sc\u001b[39m:\u001b[32m4\u001b[39m)\n  ammonite.$sess.cmd26$Helper.applyn(\u001b[32mcmd26.sc\u001b[39m:\u001b[32m4\u001b[39m)\n  ammonite.$sess.cmd26$Helper.applyn(\u001b[32mcmd26.sc\u001b[39m:\u001b[32m4\u001b[39m)\n  ammonite.$sess.cmd26$Helper.applyn(\u001b[32mcmd26.sc\u001b[39m:\u001b[32m4\u001b[39m)\n  ammonite.$sess.cmd26$Helper.applyn(\u001b[32mcmd26.sc\u001b[39m:\u001b[32m4\u001b[39m)\n  ammonite.$sess.cmd26$Helper.applyn(\u001b[32mcmd26.sc\u001b[39m:\u001b[32m4\u001b[39m)\n  ammonite.$sess.cmd26$Helper.applyn(\u001b[32mcmd26.sc\u001b[39m:\u001b[32m4\u001b[39m)\n  ammonite.$sess.cmd26$Helper.applyn(\u001b[32mcmd26.sc\u001b[39m:\u001b[32m4\u001b[39m)\n  ammonite.$sess.cmd26$Helper.applyn(\u001b[32mcmd26.sc\u001b[39m:\u001b[32m4\u001b[39m)\n  ammonite.$sess.cmd26$Helper.applyn(\u001b[32mcmd26.sc\u001b[39m:\u001b[32m4\u001b[39m)\n  ammonite.$sess.cmd26$Helper.applyn(\u001b[32mcmd26.sc\u001b[39m:\u001b[32m4\u001b[39m)\n  ammonite.$sess.cmd26$Helper.applyn(\u001b[32mcmd26.sc\u001b[39m:\u001b[32m4\u001b[39m)\n  ammonite.$sess.cmd26$Helper.applyn(\u001b[32mcmd26.sc\u001b[39m:\u001b[32m4\u001b[39m)\n  ammonite.$sess.cmd26$Helper.applyn(\u001b[32mcmd26.sc\u001b[39m:\u001b[32m4\u001b[39m)\n  ammonite.$sess.cmd26$Helper.applyn(\u001b[32mcmd26.sc\u001b[39m:\u001b[32m4\u001b[39m)\n  ammonite.$sess.cmd26$Helper.applyn(\u001b[32mcmd26.sc\u001b[39m:\u001b[32m4\u001b[39m)\n  ammonite.$sess.cmd26$Helper.applyn(\u001b[32mcmd26.sc\u001b[39m:\u001b[32m4\u001b[39m)\n  ammonite.$sess.cmd26$Helper.applyn(\u001b[32mcmd26.sc\u001b[39m:\u001b[32m4\u001b[39m)\n  ammonite.$sess.cmd26$Helper.applyn(\u001b[32mcmd26.sc\u001b[39m:\u001b[32m4\u001b[39m)\n  ammonite.$sess.cmd26$Helper.applyn(\u001b[32mcmd26.sc\u001b[39m:\u001b[32m4\u001b[39m)\n  ammonite.$sess.cmd26$Helper.applyn(\u001b[32mcmd26.sc\u001b[39m:\u001b[32m4\u001b[39m)\n  ammonite.$sess.cmd26$Helper.applyn(\u001b[32mcmd26.sc\u001b[39m:\u001b[32m4\u001b[39m)\n  ammonite.$sess.cmd26$Helper.applyn(\u001b[32mcmd26.sc\u001b[39m:\u001b[32m4\u001b[39m)\n  ammonite.$sess.cmd26$Helper.applyn(\u001b[32mcmd26.sc\u001b[39m:\u001b[32m4\u001b[39m)\n  ammonite.$sess.cmd26$Helper.applyn(\u001b[32mcmd26.sc\u001b[39m:\u001b[32m4\u001b[39m)\n  ammonite.$sess.cmd26$Helper.applyn(\u001b[32mcmd26.sc\u001b[39m:\u001b[32m4\u001b[39m)\n  ammonite.$sess.cmd26$Helper.applyn(\u001b[32mcmd26.sc\u001b[39m:\u001b[32m4\u001b[39m)\n  ammonite.$sess.cmd26$Helper.applyn(\u001b[32mcmd26.sc\u001b[39m:\u001b[32m4\u001b[39m)\n  ammonite.$sess.cmd26$Helper.applyn(\u001b[32mcmd26.sc\u001b[39m:\u001b[32m4\u001b[39m)\n  ammonite.$sess.cmd26$Helper.applyn(\u001b[32mcmd26.sc\u001b[39m:\u001b[32m4\u001b[39m)\n  ammonite.$sess.cmd26$Helper.applyn(\u001b[32mcmd26.sc\u001b[39m:\u001b[32m4\u001b[39m)\n  ammonite.$sess.cmd26$Helper.applyn(\u001b[32mcmd26.sc\u001b[39m:\u001b[32m4\u001b[39m)\n  ammonite.$sess.cmd26$Helper.applyn(\u001b[32mcmd26.sc\u001b[39m:\u001b[32m4\u001b[39m)\n  ammonite.$sess.cmd26$Helper.applyn(\u001b[32mcmd26.sc\u001b[39m:\u001b[32m4\u001b[39m)\n  ammonite.$sess.cmd26$Helper.applyn(\u001b[32mcmd26.sc\u001b[39m:\u001b[32m4\u001b[39m)\n  ammonite.$sess.cmd26$Helper.applyn(\u001b[32mcmd26.sc\u001b[39m:\u001b[32m4\u001b[39m)\n  ammonite.$sess.cmd26$Helper.applyn(\u001b[32mcmd26.sc\u001b[39m:\u001b[32m4\u001b[39m)\n  ammonite.$sess.cmd26$Helper.applyn(\u001b[32mcmd26.sc\u001b[39m:\u001b[32m4\u001b[39m)\n  ammonite.$sess.cmd26$Helper.applyn(\u001b[32mcmd26.sc\u001b[39m:\u001b[32m4\u001b[39m)\n  ammonite.$sess.cmd26$Helper.applyn(\u001b[32mcmd26.sc\u001b[39m:\u001b[32m4\u001b[39m)\n  ammonite.$sess.cmd26$Helper.applyn(\u001b[32mcmd26.sc\u001b[39m:\u001b[32m4\u001b[39m)\n  ammonite.$sess.cmd26$Helper.applyn(\u001b[32mcmd26.sc\u001b[39m:\u001b[32m4\u001b[39m)\n  ammonite.$sess.cmd26$Helper.applyn(\u001b[32mcmd26.sc\u001b[39m:\u001b[32m4\u001b[39m)\n  ammonite.$sess.cmd26$Helper.applyn(\u001b[32mcmd26.sc\u001b[39m:\u001b[32m4\u001b[39m)\n  ammonite.$sess.cmd26$Helper.applyn(\u001b[32mcmd26.sc\u001b[39m:\u001b[32m4\u001b[39m)\n  ammonite.$sess.cmd26$Helper.applyn(\u001b[32mcmd26.sc\u001b[39m:\u001b[32m4\u001b[39m)\n  ammonite.$sess.cmd26$Helper.applyn(\u001b[32mcmd26.sc\u001b[39m:\u001b[32m4\u001b[39m)\n  ammonite.$sess.cmd26$Helper.applyn(\u001b[32mcmd26.sc\u001b[39m:\u001b[32m4\u001b[39m)\n  ammonite.$sess.cmd26$Helper.applyn(\u001b[32mcmd26.sc\u001b[39m:\u001b[32m4\u001b[39m)\n  ammonite.$sess.cmd26$Helper.applyn(\u001b[32mcmd26.sc\u001b[39m:\u001b[32m4\u001b[39m)\n  ammonite.$sess.cmd26$Helper.applyn(\u001b[32mcmd26.sc\u001b[39m:\u001b[32m4\u001b[39m)\n  ammonite.$sess.cmd26$Helper.applyn(\u001b[32mcmd26.sc\u001b[39m:\u001b[32m4\u001b[39m)\n  ammonite.$sess.cmd26$Helper.applyn(\u001b[32mcmd26.sc\u001b[39m:\u001b[32m4\u001b[39m)\n  ammonite.$sess.cmd26$Helper.applyn(\u001b[32mcmd26.sc\u001b[39m:\u001b[32m4\u001b[39m)\n  ammonite.$sess.cmd26$Helper.applyn(\u001b[32mcmd26.sc\u001b[39m:\u001b[32m4\u001b[39m)\n  ammonite.$sess.cmd26$Helper.applyn(\u001b[32mcmd26.sc\u001b[39m:\u001b[32m4\u001b[39m)\n  ammonite.$sess.cmd26$Helper.applyn(\u001b[32mcmd26.sc\u001b[39m:\u001b[32m4\u001b[39m)\n  ammonite.$sess.cmd26$Helper.applyn(\u001b[32mcmd26.sc\u001b[39m:\u001b[32m4\u001b[39m)\n  ammonite.$sess.cmd26$Helper.applyn(\u001b[32mcmd26.sc\u001b[39m:\u001b[32m4\u001b[39m)\n  ammonite.$sess.cmd26$Helper.applyn(\u001b[32mcmd26.sc\u001b[39m:\u001b[32m4\u001b[39m)\n  ammonite.$sess.cmd26$Helper.applyn(\u001b[32mcmd26.sc\u001b[39m:\u001b[32m4\u001b[39m)\n  ammonite.$sess.cmd26$Helper.applyn(\u001b[32mcmd26.sc\u001b[39m:\u001b[32m4\u001b[39m)\n  ammonite.$sess.cmd26$Helper.applyn(\u001b[32mcmd26.sc\u001b[39m:\u001b[32m4\u001b[39m)\n  ammonite.$sess.cmd26$Helper.applyn(\u001b[32mcmd26.sc\u001b[39m:\u001b[32m4\u001b[39m)\n  ammonite.$sess.cmd26$Helper.applyn(\u001b[32mcmd26.sc\u001b[39m:\u001b[32m4\u001b[39m)\n  ammonite.$sess.cmd26$Helper.applyn(\u001b[32mcmd26.sc\u001b[39m:\u001b[32m4\u001b[39m)\n  ammonite.$sess.cmd26$Helper.applyn(\u001b[32mcmd26.sc\u001b[39m:\u001b[32m4\u001b[39m)\n  ammonite.$sess.cmd26$Helper.applyn(\u001b[32mcmd26.sc\u001b[39m:\u001b[32m4\u001b[39m)\n  ammonite.$sess.cmd26$Helper.applyn(\u001b[32mcmd26.sc\u001b[39m:\u001b[32m4\u001b[39m)\n  ammonite.$sess.cmd26$Helper.applyn(\u001b[32mcmd26.sc\u001b[39m:\u001b[32m4\u001b[39m)\n  ammonite.$sess.cmd26$Helper.applyn(\u001b[32mcmd26.sc\u001b[39m:\u001b[32m4\u001b[39m)\n  ammonite.$sess.cmd26$Helper.applyn(\u001b[32mcmd26.sc\u001b[39m:\u001b[32m4\u001b[39m)\n  ammonite.$sess.cmd26$Helper.applyn(\u001b[32mcmd26.sc\u001b[39m:\u001b[32m4\u001b[39m)\n  ammonite.$sess.cmd26$Helper.applyn(\u001b[32mcmd26.sc\u001b[39m:\u001b[32m4\u001b[39m)\n  ammonite.$sess.cmd26$Helper.applyn(\u001b[32mcmd26.sc\u001b[39m:\u001b[32m4\u001b[39m)\n  ammonite.$sess.cmd26$Helper.applyn(\u001b[32mcmd26.sc\u001b[39m:\u001b[32m4\u001b[39m)\n  ammonite.$sess.cmd26$Helper.applyn(\u001b[32mcmd26.sc\u001b[39m:\u001b[32m4\u001b[39m)\n  ammonite.$sess.cmd26$Helper.applyn(\u001b[32mcmd26.sc\u001b[39m:\u001b[32m4\u001b[39m)\n  ammonite.$sess.cmd26$Helper.applyn(\u001b[32mcmd26.sc\u001b[39m:\u001b[32m4\u001b[39m)\n  ammonite.$sess.cmd26$Helper.applyn(\u001b[32mcmd26.sc\u001b[39m:\u001b[32m4\u001b[39m)\n  ammonite.$sess.cmd26$Helper.applyn(\u001b[32mcmd26.sc\u001b[39m:\u001b[32m4\u001b[39m)\n  ammonite.$sess.cmd26$Helper.applyn(\u001b[32mcmd26.sc\u001b[39m:\u001b[32m4\u001b[39m)\n  ammonite.$sess.cmd26$Helper.applyn(\u001b[32mcmd26.sc\u001b[39m:\u001b[32m4\u001b[39m)\n  ammonite.$sess.cmd26$Helper.applyn(\u001b[32mcmd26.sc\u001b[39m:\u001b[32m4\u001b[39m)\n  ammonite.$sess.cmd26$Helper.applyn(\u001b[32mcmd26.sc\u001b[39m:\u001b[32m4\u001b[39m)\n  ammonite.$sess.cmd26$Helper.applyn(\u001b[32mcmd26.sc\u001b[39m:\u001b[32m4\u001b[39m)\n  ammonite.$sess.cmd26$Helper.applyn(\u001b[32mcmd26.sc\u001b[39m:\u001b[32m4\u001b[39m)\n  ammonite.$sess.cmd26$Helper.applyn(\u001b[32mcmd26.sc\u001b[39m:\u001b[32m4\u001b[39m)\n  ammonite.$sess.cmd26$Helper.applyn(\u001b[32mcmd26.sc\u001b[39m:\u001b[32m4\u001b[39m)\n  ammonite.$sess.cmd26$Helper.applyn(\u001b[32mcmd26.sc\u001b[39m:\u001b[32m4\u001b[39m)\n  ammonite.$sess.cmd26$Helper.applyn(\u001b[32mcmd26.sc\u001b[39m:\u001b[32m4\u001b[39m)\n  ammonite.$sess.cmd26$Helper.applyn(\u001b[32mcmd26.sc\u001b[39m:\u001b[32m4\u001b[39m)\n  ammonite.$sess.cmd26$Helper.applyn(\u001b[32mcmd26.sc\u001b[39m:\u001b[32m4\u001b[39m)\n  ammonite.$sess.cmd26$Helper.applyn(\u001b[32mcmd26.sc\u001b[39m:\u001b[32m4\u001b[39m)\n  ammonite.$sess.cmd26$Helper.applyn(\u001b[32mcmd26.sc\u001b[39m:\u001b[32m4\u001b[39m)\n  ammonite.$sess.cmd26$Helper.applyn(\u001b[32mcmd26.sc\u001b[39m:\u001b[32m4\u001b[39m)\n  ammonite.$sess.cmd26$Helper.applyn(\u001b[32mcmd26.sc\u001b[39m:\u001b[32m4\u001b[39m)\n  ammonite.$sess.cmd26$Helper.applyn(\u001b[32mcmd26.sc\u001b[39m:\u001b[32m4\u001b[39m)\n  ammonite.$sess.cmd26$Helper.applyn(\u001b[32mcmd26.sc\u001b[39m:\u001b[32m4\u001b[39m)\n  ammonite.$sess.cmd26$Helper.applyn(\u001b[32mcmd26.sc\u001b[39m:\u001b[32m4\u001b[39m)\n  ammonite.$sess.cmd26$Helper.applyn(\u001b[32mcmd26.sc\u001b[39m:\u001b[32m4\u001b[39m)\n  ammonite.$sess.cmd26$Helper.applyn(\u001b[32mcmd26.sc\u001b[39m:\u001b[32m4\u001b[39m)\n  ammonite.$sess.cmd26$Helper.applyn(\u001b[32mcmd26.sc\u001b[39m:\u001b[32m4\u001b[39m)\n  ammonite.$sess.cmd26$Helper.applyn(\u001b[32mcmd26.sc\u001b[39m:\u001b[32m4\u001b[39m)\n  ammonite.$sess.cmd26$Helper.applyn(\u001b[32mcmd26.sc\u001b[39m:\u001b[32m4\u001b[39m)\n  ammonite.$sess.cmd26$Helper.applyn(\u001b[32mcmd26.sc\u001b[39m:\u001b[32m4\u001b[39m)\n  ammonite.$sess.cmd26$Helper.applyn(\u001b[32mcmd26.sc\u001b[39m:\u001b[32m4\u001b[39m)\n  ammonite.$sess.cmd26$Helper.applyn(\u001b[32mcmd26.sc\u001b[39m:\u001b[32m4\u001b[39m)\n  ammonite.$sess.cmd26$Helper.applyn(\u001b[32mcmd26.sc\u001b[39m:\u001b[32m4\u001b[39m)\n  ammonite.$sess.cmd26$Helper.applyn(\u001b[32mcmd26.sc\u001b[39m:\u001b[32m4\u001b[39m)\n  ammonite.$sess.cmd26$Helper.applyn(\u001b[32mcmd26.sc\u001b[39m:\u001b[32m4\u001b[39m)\n  ammonite.$sess.cmd26$Helper.applyn(\u001b[32mcmd26.sc\u001b[39m:\u001b[32m4\u001b[39m)\n  ammonite.$sess.cmd26$Helper.applyn(\u001b[32mcmd26.sc\u001b[39m:\u001b[32m4\u001b[39m)\n  ammonite.$sess.cmd26$Helper.applyn(\u001b[32mcmd26.sc\u001b[39m:\u001b[32m4\u001b[39m)\n  ammonite.$sess.cmd26$Helper.applyn(\u001b[32mcmd26.sc\u001b[39m:\u001b[32m4\u001b[39m)\n  ammonite.$sess.cmd26$Helper.applyn(\u001b[32mcmd26.sc\u001b[39m:\u001b[32m4\u001b[39m)\n  ammonite.$sess.cmd26$Helper.applyn(\u001b[32mcmd26.sc\u001b[39m:\u001b[32m4\u001b[39m)\n  ammonite.$sess.cmd26$Helper.applyn(\u001b[32mcmd26.sc\u001b[39m:\u001b[32m4\u001b[39m)\n  ammonite.$sess.cmd26$Helper.applyn(\u001b[32mcmd26.sc\u001b[39m:\u001b[32m4\u001b[39m)\n  ammonite.$sess.cmd26$Helper.applyn(\u001b[32mcmd26.sc\u001b[39m:\u001b[32m4\u001b[39m)\n  ammonite.$sess.cmd26$Helper.applyn(\u001b[32mcmd26.sc\u001b[39m:\u001b[32m4\u001b[39m)\n  ammonite.$sess.cmd26$Helper.applyn(\u001b[32mcmd26.sc\u001b[39m:\u001b[32m4\u001b[39m)\n  ammonite.$sess.cmd26$Helper.applyn(\u001b[32mcmd26.sc\u001b[39m:\u001b[32m4\u001b[39m)\n  ammonite.$sess.cmd26$Helper.applyn(\u001b[32mcmd26.sc\u001b[39m:\u001b[32m4\u001b[39m)\n  ammonite.$sess.cmd26$Helper.applyn(\u001b[32mcmd26.sc\u001b[39m:\u001b[32m4\u001b[39m)\n  ammonite.$sess.cmd26$Helper.applyn(\u001b[32mcmd26.sc\u001b[39m:\u001b[32m4\u001b[39m)\n  ammonite.$sess.cmd26$Helper.applyn(\u001b[32mcmd26.sc\u001b[39m:\u001b[32m4\u001b[39m)\n  ammonite.$sess.cmd26$Helper.applyn(\u001b[32mcmd26.sc\u001b[39m:\u001b[32m4\u001b[39m)\n  ammonite.$sess.cmd26$Helper.applyn(\u001b[32mcmd26.sc\u001b[39m:\u001b[32m4\u001b[39m)\n  ammonite.$sess.cmd26$Helper.applyn(\u001b[32mcmd26.sc\u001b[39m:\u001b[32m4\u001b[39m)\n  ammonite.$sess.cmd26$Helper.applyn(\u001b[32mcmd26.sc\u001b[39m:\u001b[32m4\u001b[39m)\n  ammonite.$sess.cmd26$Helper.applyn(\u001b[32mcmd26.sc\u001b[39m:\u001b[32m4\u001b[39m)\n  ammonite.$sess.cmd26$Helper.applyn(\u001b[32mcmd26.sc\u001b[39m:\u001b[32m4\u001b[39m)\n  ammonite.$sess.cmd26$Helper.applyn(\u001b[32mcmd26.sc\u001b[39m:\u001b[32m4\u001b[39m)\n  ammonite.$sess.cmd26$Helper.applyn(\u001b[32mcmd26.sc\u001b[39m:\u001b[32m4\u001b[39m)\n  ammonite.$sess.cmd26$Helper.applyn(\u001b[32mcmd26.sc\u001b[39m:\u001b[32m4\u001b[39m)\n  ammonite.$sess.cmd26$Helper.applyn(\u001b[32mcmd26.sc\u001b[39m:\u001b[32m4\u001b[39m)\n  ammonite.$sess.cmd26$Helper.applyn(\u001b[32mcmd26.sc\u001b[39m:\u001b[32m4\u001b[39m)\n  ammonite.$sess.cmd26$Helper.applyn(\u001b[32mcmd26.sc\u001b[39m:\u001b[32m4\u001b[39m)\n  ammonite.$sess.cmd26$Helper.applyn(\u001b[32mcmd26.sc\u001b[39m:\u001b[32m4\u001b[39m)\n  ammonite.$sess.cmd26$Helper.applyn(\u001b[32mcmd26.sc\u001b[39m:\u001b[32m4\u001b[39m)\n  ammonite.$sess.cmd26$Helper.applyn(\u001b[32mcmd26.sc\u001b[39m:\u001b[32m4\u001b[39m)\n  ammonite.$sess.cmd26$Helper.applyn(\u001b[32mcmd26.sc\u001b[39m:\u001b[32m4\u001b[39m)\n  ammonite.$sess.cmd26$Helper.applyn(\u001b[32mcmd26.sc\u001b[39m:\u001b[32m4\u001b[39m)\n  ammonite.$sess.cmd26$Helper.applyn(\u001b[32mcmd26.sc\u001b[39m:\u001b[32m4\u001b[39m)\n  ammonite.$sess.cmd26$Helper.applyn(\u001b[32mcmd26.sc\u001b[39m:\u001b[32m4\u001b[39m)\n  ammonite.$sess.cmd26$Helper.applyn(\u001b[32mcmd26.sc\u001b[39m:\u001b[32m4\u001b[39m)\n  ammonite.$sess.cmd26$Helper.applyn(\u001b[32mcmd26.sc\u001b[39m:\u001b[32m4\u001b[39m)\n  ammonite.$sess.cmd26$Helper.applyn(\u001b[32mcmd26.sc\u001b[39m:\u001b[32m4\u001b[39m)\n  ammonite.$sess.cmd26$Helper.applyn(\u001b[32mcmd26.sc\u001b[39m:\u001b[32m4\u001b[39m)\n  ammonite.$sess.cmd26$Helper.applyn(\u001b[32mcmd26.sc\u001b[39m:\u001b[32m4\u001b[39m)\n  ammonite.$sess.cmd26$Helper.applyn(\u001b[32mcmd26.sc\u001b[39m:\u001b[32m4\u001b[39m)\n  ammonite.$sess.cmd26$Helper.applyn(\u001b[32mcmd26.sc\u001b[39m:\u001b[32m4\u001b[39m)\n  ammonite.$sess.cmd26$Helper.applyn(\u001b[32mcmd26.sc\u001b[39m:\u001b[32m4\u001b[39m)\n  ammonite.$sess.cmd26$Helper.applyn(\u001b[32mcmd26.sc\u001b[39m:\u001b[32m4\u001b[39m)\n  ammonite.$sess.cmd26$Helper.applyn(\u001b[32mcmd26.sc\u001b[39m:\u001b[32m4\u001b[39m)\n  ammonite.$sess.cmd26$Helper.applyn(\u001b[32mcmd26.sc\u001b[39m:\u001b[32m4\u001b[39m)\n  ammonite.$sess.cmd26$Helper.applyn(\u001b[32mcmd26.sc\u001b[39m:\u001b[32m4\u001b[39m)\n  ammonite.$sess.cmd26$Helper.applyn(\u001b[32mcmd26.sc\u001b[39m:\u001b[32m4\u001b[39m)\n  ammonite.$sess.cmd26$Helper.applyn(\u001b[32mcmd26.sc\u001b[39m:\u001b[32m4\u001b[39m)\n  ammonite.$sess.cmd26$Helper.applyn(\u001b[32mcmd26.sc\u001b[39m:\u001b[32m4\u001b[39m)\n  ammonite.$sess.cmd26$Helper.applyn(\u001b[32mcmd26.sc\u001b[39m:\u001b[32m4\u001b[39m)\n  ammonite.$sess.cmd26$Helper.applyn(\u001b[32mcmd26.sc\u001b[39m:\u001b[32m4\u001b[39m)\n  ammonite.$sess.cmd26$Helper.applyn(\u001b[32mcmd26.sc\u001b[39m:\u001b[32m4\u001b[39m)\n  ammonite.$sess.cmd26$Helper.applyn(\u001b[32mcmd26.sc\u001b[39m:\u001b[32m4\u001b[39m)\n  ammonite.$sess.cmd26$Helper.applyn(\u001b[32mcmd26.sc\u001b[39m:\u001b[32m4\u001b[39m)\n  ammonite.$sess.cmd26$Helper.applyn(\u001b[32mcmd26.sc\u001b[39m:\u001b[32m4\u001b[39m)\n  ammonite.$sess.cmd26$Helper.applyn(\u001b[32mcmd26.sc\u001b[39m:\u001b[32m4\u001b[39m)\n  ammonite.$sess.cmd26$Helper.applyn(\u001b[32mcmd26.sc\u001b[39m:\u001b[32m4\u001b[39m)\n  ammonite.$sess.cmd26$Helper.applyn(\u001b[32mcmd26.sc\u001b[39m:\u001b[32m4\u001b[39m)\n  ammonite.$sess.cmd26$Helper.applyn(\u001b[32mcmd26.sc\u001b[39m:\u001b[32m4\u001b[39m)\n  ammonite.$sess.cmd26$Helper.applyn(\u001b[32mcmd26.sc\u001b[39m:\u001b[32m4\u001b[39m)\n  ammonite.$sess.cmd26$Helper.applyn(\u001b[32mcmd26.sc\u001b[39m:\u001b[32m4\u001b[39m)\n  ammonite.$sess.cmd26$Helper.applyn(\u001b[32mcmd26.sc\u001b[39m:\u001b[32m4\u001b[39m)\n  ammonite.$sess.cmd26$Helper.applyn(\u001b[32mcmd26.sc\u001b[39m:\u001b[32m4\u001b[39m)\n  ammonite.$sess.cmd26$Helper.applyn(\u001b[32mcmd26.sc\u001b[39m:\u001b[32m4\u001b[39m)\n  ammonite.$sess.cmd26$Helper.applyn(\u001b[32mcmd26.sc\u001b[39m:\u001b[32m4\u001b[39m)\n  ammonite.$sess.cmd26$Helper.applyn(\u001b[32mcmd26.sc\u001b[39m:\u001b[32m4\u001b[39m)\n  ammonite.$sess.cmd26$Helper.applyn(\u001b[32mcmd26.sc\u001b[39m:\u001b[32m4\u001b[39m)\n  ammonite.$sess.cmd26$Helper.applyn(\u001b[32mcmd26.sc\u001b[39m:\u001b[32m4\u001b[39m)\n  ammonite.$sess.cmd26$Helper.applyn(\u001b[32mcmd26.sc\u001b[39m:\u001b[32m4\u001b[39m)\n  ammonite.$sess.cmd26$Helper.applyn(\u001b[32mcmd26.sc\u001b[39m:\u001b[32m4\u001b[39m)\n  ammonite.$sess.cmd26$Helper.applyn(\u001b[32mcmd26.sc\u001b[39m:\u001b[32m4\u001b[39m)\n  ammonite.$sess.cmd26$Helper.applyn(\u001b[32mcmd26.sc\u001b[39m:\u001b[32m4\u001b[39m)\n  ammonite.$sess.cmd26$Helper.applyn(\u001b[32mcmd26.sc\u001b[39m:\u001b[32m4\u001b[39m)\n  ammonite.$sess.cmd26$Helper.applyn(\u001b[32mcmd26.sc\u001b[39m:\u001b[32m4\u001b[39m)\n  ammonite.$sess.cmd26$Helper.applyn(\u001b[32mcmd26.sc\u001b[39m:\u001b[32m4\u001b[39m)\n  ammonite.$sess.cmd26$Helper.applyn(\u001b[32mcmd26.sc\u001b[39m:\u001b[32m4\u001b[39m)\n  ammonite.$sess.cmd26$Helper.applyn(\u001b[32mcmd26.sc\u001b[39m:\u001b[32m4\u001b[39m)\n  ammonite.$sess.cmd26$Helper.applyn(\u001b[32mcmd26.sc\u001b[39m:\u001b[32m4\u001b[39m)\n  ammonite.$sess.cmd26$Helper.applyn(\u001b[32mcmd26.sc\u001b[39m:\u001b[32m4\u001b[39m)\n  ammonite.$sess.cmd26$Helper.applyn(\u001b[32mcmd26.sc\u001b[39m:\u001b[32m4\u001b[39m)\n  ammonite.$sess.cmd26$Helper.applyn(\u001b[32mcmd26.sc\u001b[39m:\u001b[32m4\u001b[39m)\n  ammonite.$sess.cmd26$Helper.applyn(\u001b[32mcmd26.sc\u001b[39m:\u001b[32m4\u001b[39m)\n  ammonite.$sess.cmd26$Helper.applyn(\u001b[32mcmd26.sc\u001b[39m:\u001b[32m4\u001b[39m)\n  ammonite.$sess.cmd26$Helper.applyn(\u001b[32mcmd26.sc\u001b[39m:\u001b[32m4\u001b[39m)\n  ammonite.$sess.cmd26$Helper.applyn(\u001b[32mcmd26.sc\u001b[39m:\u001b[32m4\u001b[39m)\n  ammonite.$sess.cmd26$Helper.applyn(\u001b[32mcmd26.sc\u001b[39m:\u001b[32m4\u001b[39m)\n  ammonite.$sess.cmd26$Helper.applyn(\u001b[32mcmd26.sc\u001b[39m:\u001b[32m4\u001b[39m)\n  ammonite.$sess.cmd26$Helper.applyn(\u001b[32mcmd26.sc\u001b[39m:\u001b[32m4\u001b[39m)\n  ammonite.$sess.cmd26$Helper.applyn(\u001b[32mcmd26.sc\u001b[39m:\u001b[32m4\u001b[39m)\n  ammonite.$sess.cmd26$Helper.applyn(\u001b[32mcmd26.sc\u001b[39m:\u001b[32m4\u001b[39m)\n  ammonite.$sess.cmd26$Helper.applyn(\u001b[32mcmd26.sc\u001b[39m:\u001b[32m4\u001b[39m)\n  ammonite.$sess.cmd26$Helper.applyn(\u001b[32mcmd26.sc\u001b[39m:\u001b[32m4\u001b[39m)\n  ammonite.$sess.cmd26$Helper.applyn(\u001b[32mcmd26.sc\u001b[39m:\u001b[32m4\u001b[39m)\n  ammonite.$sess.cmd26$Helper.applyn(\u001b[32mcmd26.sc\u001b[39m:\u001b[32m4\u001b[39m)\n  ammonite.$sess.cmd26$Helper.applyn(\u001b[32mcmd26.sc\u001b[39m:\u001b[32m4\u001b[39m)\n  ammonite.$sess.cmd26$Helper.applyn(\u001b[32mcmd26.sc\u001b[39m:\u001b[32m4\u001b[39m)\n  ammonite.$sess.cmd26$Helper.applyn(\u001b[32mcmd26.sc\u001b[39m:\u001b[32m4\u001b[39m)\n  ammonite.$sess.cmd26$Helper.applyn(\u001b[32mcmd26.sc\u001b[39m:\u001b[32m4\u001b[39m)\n  ammonite.$sess.cmd26$Helper.applyn(\u001b[32mcmd26.sc\u001b[39m:\u001b[32m4\u001b[39m)\n  ammonite.$sess.cmd26$Helper.applyn(\u001b[32mcmd26.sc\u001b[39m:\u001b[32m4\u001b[39m)\n  ammonite.$sess.cmd26$Helper.applyn(\u001b[32mcmd26.sc\u001b[39m:\u001b[32m4\u001b[39m)\n  ammonite.$sess.cmd26$Helper.applyn(\u001b[32mcmd26.sc\u001b[39m:\u001b[32m4\u001b[39m)\n  ammonite.$sess.cmd26$Helper.applyn(\u001b[32mcmd26.sc\u001b[39m:\u001b[32m4\u001b[39m)\n  ammonite.$sess.cmd26$Helper.applyn(\u001b[32mcmd26.sc\u001b[39m:\u001b[32m4\u001b[39m)\n  ammonite.$sess.cmd26$Helper.applyn(\u001b[32mcmd26.sc\u001b[39m:\u001b[32m4\u001b[39m)\n  ammonite.$sess.cmd26$Helper.applyn(\u001b[32mcmd26.sc\u001b[39m:\u001b[32m4\u001b[39m)\n  ammonite.$sess.cmd26$Helper.applyn(\u001b[32mcmd26.sc\u001b[39m:\u001b[32m4\u001b[39m)\n  ammonite.$sess.cmd26$Helper.applyn(\u001b[32mcmd26.sc\u001b[39m:\u001b[32m4\u001b[39m)\n  ammonite.$sess.cmd26$Helper.applyn(\u001b[32mcmd26.sc\u001b[39m:\u001b[32m4\u001b[39m)\n  ammonite.$sess.cmd26$Helper.applyn(\u001b[32mcmd26.sc\u001b[39m:\u001b[32m4\u001b[39m)\n  ammonite.$sess.cmd26$Helper.applyn(\u001b[32mcmd26.sc\u001b[39m:\u001b[32m4\u001b[39m)\n  ammonite.$sess.cmd26$Helper.applyn(\u001b[32mcmd26.sc\u001b[39m:\u001b[32m4\u001b[39m)\n  ammonite.$sess.cmd26$Helper.applyn(\u001b[32mcmd26.sc\u001b[39m:\u001b[32m4\u001b[39m)\n  ammonite.$sess.cmd26$Helper.applyn(\u001b[32mcmd26.sc\u001b[39m:\u001b[32m4\u001b[39m)\n  ammonite.$sess.cmd26$Helper.applyn(\u001b[32mcmd26.sc\u001b[39m:\u001b[32m4\u001b[39m)\n  ammonite.$sess.cmd26$Helper.applyn(\u001b[32mcmd26.sc\u001b[39m:\u001b[32m4\u001b[39m)\n  ammonite.$sess.cmd26$Helper.applyn(\u001b[32mcmd26.sc\u001b[39m:\u001b[32m4\u001b[39m)\n  ammonite.$sess.cmd26$Helper.applyn(\u001b[32mcmd26.sc\u001b[39m:\u001b[32m4\u001b[39m)\n  ammonite.$sess.cmd26$Helper.applyn(\u001b[32mcmd26.sc\u001b[39m:\u001b[32m4\u001b[39m)\n  ammonite.$sess.cmd26$Helper.applyn(\u001b[32mcmd26.sc\u001b[39m:\u001b[32m4\u001b[39m)\n  ammonite.$sess.cmd26$Helper.applyn(\u001b[32mcmd26.sc\u001b[39m:\u001b[32m4\u001b[39m)\n  ammonite.$sess.cmd26$Helper.applyn(\u001b[32mcmd26.sc\u001b[39m:\u001b[32m4\u001b[39m)\n  ammonite.$sess.cmd26$Helper.applyn(\u001b[32mcmd26.sc\u001b[39m:\u001b[32m4\u001b[39m)\n  ammonite.$sess.cmd26$Helper.applyn(\u001b[32mcmd26.sc\u001b[39m:\u001b[32m4\u001b[39m)\n  ammonite.$sess.cmd26$Helper.applyn(\u001b[32mcmd26.sc\u001b[39m:\u001b[32m4\u001b[39m)\n  ammonite.$sess.cmd26$Helper.applyn(\u001b[32mcmd26.sc\u001b[39m:\u001b[32m4\u001b[39m)\n  ammonite.$sess.cmd26$Helper.applyn(\u001b[32mcmd26.sc\u001b[39m:\u001b[32m4\u001b[39m)\n  ammonite.$sess.cmd26$Helper.applyn(\u001b[32mcmd26.sc\u001b[39m:\u001b[32m4\u001b[39m)\n  ammonite.$sess.cmd26$Helper.applyn(\u001b[32mcmd26.sc\u001b[39m:\u001b[32m4\u001b[39m)\n  ammonite.$sess.cmd26$Helper.applyn(\u001b[32mcmd26.sc\u001b[39m:\u001b[32m4\u001b[39m)\n  ammonite.$sess.cmd26$Helper.applyn(\u001b[32mcmd26.sc\u001b[39m:\u001b[32m4\u001b[39m)\n  ammonite.$sess.cmd26$Helper.applyn(\u001b[32mcmd26.sc\u001b[39m:\u001b[32m4\u001b[39m)\n  ammonite.$sess.cmd26$Helper.applyn(\u001b[32mcmd26.sc\u001b[39m:\u001b[32m4\u001b[39m)\n  ammonite.$sess.cmd26$Helper.applyn(\u001b[32mcmd26.sc\u001b[39m:\u001b[32m4\u001b[39m)\n  ammonite.$sess.cmd26$Helper.applyn(\u001b[32mcmd26.sc\u001b[39m:\u001b[32m4\u001b[39m)\n  ammonite.$sess.cmd26$Helper.applyn(\u001b[32mcmd26.sc\u001b[39m:\u001b[32m4\u001b[39m)\n  ammonite.$sess.cmd26$Helper.applyn(\u001b[32mcmd26.sc\u001b[39m:\u001b[32m4\u001b[39m)\n  ammonite.$sess.cmd26$Helper.applyn(\u001b[32mcmd26.sc\u001b[39m:\u001b[32m4\u001b[39m)\n  ammonite.$sess.cmd26$Helper.applyn(\u001b[32mcmd26.sc\u001b[39m:\u001b[32m4\u001b[39m)\n  ammonite.$sess.cmd26$Helper.applyn(\u001b[32mcmd26.sc\u001b[39m:\u001b[32m4\u001b[39m)\n  ammonite.$sess.cmd26$Helper.applyn(\u001b[32mcmd26.sc\u001b[39m:\u001b[32m4\u001b[39m)\n  ammonite.$sess.cmd26$Helper.applyn(\u001b[32mcmd26.sc\u001b[39m:\u001b[32m4\u001b[39m)\n  ammonite.$sess.cmd26$Helper.applyn(\u001b[32mcmd26.sc\u001b[39m:\u001b[32m4\u001b[39m)\n  ammonite.$sess.cmd26$Helper.applyn(\u001b[32mcmd26.sc\u001b[39m:\u001b[32m4\u001b[39m)\n  ammonite.$sess.cmd26$Helper.applyn(\u001b[32mcmd26.sc\u001b[39m:\u001b[32m4\u001b[39m)\n  ammonite.$sess.cmd26$Helper.applyn(\u001b[32mcmd26.sc\u001b[39m:\u001b[32m4\u001b[39m)\n  ammonite.$sess.cmd26$Helper.applyn(\u001b[32mcmd26.sc\u001b[39m:\u001b[32m4\u001b[39m)\n  ammonite.$sess.cmd26$Helper.applyn(\u001b[32mcmd26.sc\u001b[39m:\u001b[32m4\u001b[39m)\n  ammonite.$sess.cmd26$Helper.applyn(\u001b[32mcmd26.sc\u001b[39m:\u001b[32m4\u001b[39m)\n  ammonite.$sess.cmd26$Helper.applyn(\u001b[32mcmd26.sc\u001b[39m:\u001b[32m4\u001b[39m)\n  ammonite.$sess.cmd26$Helper.applyn(\u001b[32mcmd26.sc\u001b[39m:\u001b[32m4\u001b[39m)\n  ammonite.$sess.cmd26$Helper.applyn(\u001b[32mcmd26.sc\u001b[39m:\u001b[32m4\u001b[39m)\n  ammonite.$sess.cmd26$Helper.applyn(\u001b[32mcmd26.sc\u001b[39m:\u001b[32m4\u001b[39m)\n  ammonite.$sess.cmd26$Helper.applyn(\u001b[32mcmd26.sc\u001b[39m:\u001b[32m4\u001b[39m)\n  ammonite.$sess.cmd26$Helper.applyn(\u001b[32mcmd26.sc\u001b[39m:\u001b[32m4\u001b[39m)\n  ammonite.$sess.cmd26$Helper.applyn(\u001b[32mcmd26.sc\u001b[39m:\u001b[32m4\u001b[39m)\n  ammonite.$sess.cmd26$Helper.applyn(\u001b[32mcmd26.sc\u001b[39m:\u001b[32m4\u001b[39m)\n  ammonite.$sess.cmd26$Helper.applyn(\u001b[32mcmd26.sc\u001b[39m:\u001b[32m4\u001b[39m)\n  ammonite.$sess.cmd26$Helper.applyn(\u001b[32mcmd26.sc\u001b[39m:\u001b[32m4\u001b[39m)\n  ammonite.$sess.cmd26$Helper.applyn(\u001b[32mcmd26.sc\u001b[39m:\u001b[32m4\u001b[39m)\n  ammonite.$sess.cmd26$Helper.applyn(\u001b[32mcmd26.sc\u001b[39m:\u001b[32m4\u001b[39m)\n  ammonite.$sess.cmd26$Helper.applyn(\u001b[32mcmd26.sc\u001b[39m:\u001b[32m4\u001b[39m)\n  ammonite.$sess.cmd26$Helper.applyn(\u001b[32mcmd26.sc\u001b[39m:\u001b[32m4\u001b[39m)\n  ammonite.$sess.cmd26$Helper.applyn(\u001b[32mcmd26.sc\u001b[39m:\u001b[32m4\u001b[39m)\n  ammonite.$sess.cmd26$Helper.applyn(\u001b[32mcmd26.sc\u001b[39m:\u001b[32m4\u001b[39m)\n  ammonite.$sess.cmd26$Helper.applyn(\u001b[32mcmd26.sc\u001b[39m:\u001b[32m4\u001b[39m)\n  ammonite.$sess.cmd26$Helper.applyn(\u001b[32mcmd26.sc\u001b[39m:\u001b[32m4\u001b[39m)\n  ammonite.$sess.cmd26$Helper.applyn(\u001b[32mcmd26.sc\u001b[39m:\u001b[32m4\u001b[39m)\n  ammonite.$sess.cmd26$Helper.applyn(\u001b[32mcmd26.sc\u001b[39m:\u001b[32m4\u001b[39m)\n  ammonite.$sess.cmd26$Helper.applyn(\u001b[32mcmd26.sc\u001b[39m:\u001b[32m4\u001b[39m)\n  ammonite.$sess.cmd26$Helper.applyn(\u001b[32mcmd26.sc\u001b[39m:\u001b[32m4\u001b[39m)\n  ammonite.$sess.cmd26$Helper.applyn(\u001b[32mcmd26.sc\u001b[39m:\u001b[32m4\u001b[39m)\n  ammonite.$sess.cmd26$Helper.applyn(\u001b[32mcmd26.sc\u001b[39m:\u001b[32m4\u001b[39m)\n  ammonite.$sess.cmd26$Helper.applyn(\u001b[32mcmd26.sc\u001b[39m:\u001b[32m4\u001b[39m)\n  ammonite.$sess.cmd26$Helper.applyn(\u001b[32mcmd26.sc\u001b[39m:\u001b[32m4\u001b[39m)\n  ammonite.$sess.cmd26$Helper.applyn(\u001b[32mcmd26.sc\u001b[39m:\u001b[32m4\u001b[39m)\n  ammonite.$sess.cmd26$Helper.applyn(\u001b[32mcmd26.sc\u001b[39m:\u001b[32m4\u001b[39m)\n  ammonite.$sess.cmd26$Helper.applyn(\u001b[32mcmd26.sc\u001b[39m:\u001b[32m4\u001b[39m)\n  ammonite.$sess.cmd26$Helper.applyn(\u001b[32mcmd26.sc\u001b[39m:\u001b[32m4\u001b[39m)\n  ammonite.$sess.cmd26$Helper.applyn(\u001b[32mcmd26.sc\u001b[39m:\u001b[32m4\u001b[39m)\n  ammonite.$sess.cmd26$Helper.applyn(\u001b[32mcmd26.sc\u001b[39m:\u001b[32m4\u001b[39m)\n  ammonite.$sess.cmd26$Helper.applyn(\u001b[32mcmd26.sc\u001b[39m:\u001b[32m4\u001b[39m)\n  ammonite.$sess.cmd26$Helper.applyn(\u001b[32mcmd26.sc\u001b[39m:\u001b[32m4\u001b[39m)\n  ammonite.$sess.cmd26$Helper.applyn(\u001b[32mcmd26.sc\u001b[39m:\u001b[32m4\u001b[39m)\n  ammonite.$sess.cmd26$Helper.applyn(\u001b[32mcmd26.sc\u001b[39m:\u001b[32m4\u001b[39m)\n  ammonite.$sess.cmd26$Helper.applyn(\u001b[32mcmd26.sc\u001b[39m:\u001b[32m4\u001b[39m)\n  ammonite.$sess.cmd26$Helper.applyn(\u001b[32mcmd26.sc\u001b[39m:\u001b[32m4\u001b[39m)\n  ammonite.$sess.cmd26$Helper.applyn(\u001b[32mcmd26.sc\u001b[39m:\u001b[32m4\u001b[39m)\n  ammonite.$sess.cmd26$Helper.applyn(\u001b[32mcmd26.sc\u001b[39m:\u001b[32m4\u001b[39m)\n  ammonite.$sess.cmd26$Helper.applyn(\u001b[32mcmd26.sc\u001b[39m:\u001b[32m4\u001b[39m)\n  ammonite.$sess.cmd26$Helper.applyn(\u001b[32mcmd26.sc\u001b[39m:\u001b[32m4\u001b[39m)\n  ammonite.$sess.cmd26$Helper.applyn(\u001b[32mcmd26.sc\u001b[39m:\u001b[32m4\u001b[39m)\n  ammonite.$sess.cmd26$Helper.applyn(\u001b[32mcmd26.sc\u001b[39m:\u001b[32m4\u001b[39m)\n  ammonite.$sess.cmd26$Helper.applyn(\u001b[32mcmd26.sc\u001b[39m:\u001b[32m4\u001b[39m)\n  ammonite.$sess.cmd26$Helper.applyn(\u001b[32mcmd26.sc\u001b[39m:\u001b[32m4\u001b[39m)\n  ammonite.$sess.cmd26$Helper.applyn(\u001b[32mcmd26.sc\u001b[39m:\u001b[32m4\u001b[39m)\n  ammonite.$sess.cmd26$Helper.applyn(\u001b[32mcmd26.sc\u001b[39m:\u001b[32m4\u001b[39m)\n  ammonite.$sess.cmd26$Helper.applyn(\u001b[32mcmd26.sc\u001b[39m:\u001b[32m4\u001b[39m)\n  ammonite.$sess.cmd26$Helper.applyn(\u001b[32mcmd26.sc\u001b[39m:\u001b[32m4\u001b[39m)\n  ammonite.$sess.cmd26$Helper.applyn(\u001b[32mcmd26.sc\u001b[39m:\u001b[32m4\u001b[39m)\n  ammonite.$sess.cmd26$Helper.applyn(\u001b[32mcmd26.sc\u001b[39m:\u001b[32m4\u001b[39m)\n  ammonite.$sess.cmd26$Helper.applyn(\u001b[32mcmd26.sc\u001b[39m:\u001b[32m4\u001b[39m)\n  ammonite.$sess.cmd26$Helper.applyn(\u001b[32mcmd26.sc\u001b[39m:\u001b[32m4\u001b[39m)\n  ammonite.$sess.cmd26$Helper.applyn(\u001b[32mcmd26.sc\u001b[39m:\u001b[32m4\u001b[39m)\n  ammonite.$sess.cmd26$Helper.applyn(\u001b[32mcmd26.sc\u001b[39m:\u001b[32m4\u001b[39m)\n  ammonite.$sess.cmd26$Helper.applyn(\u001b[32mcmd26.sc\u001b[39m:\u001b[32m4\u001b[39m)\n  ammonite.$sess.cmd26$Helper.applyn(\u001b[32mcmd26.sc\u001b[39m:\u001b[32m4\u001b[39m)\n  ammonite.$sess.cmd26$Helper.applyn(\u001b[32mcmd26.sc\u001b[39m:\u001b[32m4\u001b[39m)\n  ammonite.$sess.cmd26$Helper.applyn(\u001b[32mcmd26.sc\u001b[39m:\u001b[32m4\u001b[39m)\n  ammonite.$sess.cmd26$Helper.applyn(\u001b[32mcmd26.sc\u001b[39m:\u001b[32m4\u001b[39m)\n  ammonite.$sess.cmd26$Helper.applyn(\u001b[32mcmd26.sc\u001b[39m:\u001b[32m4\u001b[39m)\n  ammonite.$sess.cmd26$Helper.applyn(\u001b[32mcmd26.sc\u001b[39m:\u001b[32m4\u001b[39m)\n  ammonite.$sess.cmd26$Helper.applyn(\u001b[32mcmd26.sc\u001b[39m:\u001b[32m4\u001b[39m)\n  ammonite.$sess.cmd26$Helper.applyn(\u001b[32mcmd26.sc\u001b[39m:\u001b[32m4\u001b[39m)\n  ammonite.$sess.cmd26$Helper.applyn(\u001b[32mcmd26.sc\u001b[39m:\u001b[32m4\u001b[39m)\n  ammonite.$sess.cmd26$Helper.applyn(\u001b[32mcmd26.sc\u001b[39m:\u001b[32m4\u001b[39m)\n  ammonite.$sess.cmd26$Helper.applyn(\u001b[32mcmd26.sc\u001b[39m:\u001b[32m4\u001b[39m)\n  ammonite.$sess.cmd26$Helper.applyn(\u001b[32mcmd26.sc\u001b[39m:\u001b[32m4\u001b[39m)\n  ammonite.$sess.cmd26$Helper.applyn(\u001b[32mcmd26.sc\u001b[39m:\u001b[32m4\u001b[39m)\n  ammonite.$sess.cmd26$Helper.applyn(\u001b[32mcmd26.sc\u001b[39m:\u001b[32m4\u001b[39m)\n  ammonite.$sess.cmd26$Helper.applyn(\u001b[32mcmd26.sc\u001b[39m:\u001b[32m4\u001b[39m)\n  ammonite.$sess.cmd26$Helper.applyn(\u001b[32mcmd26.sc\u001b[39m:\u001b[32m4\u001b[39m)\n  ammonite.$sess.cmd26$Helper.applyn(\u001b[32mcmd26.sc\u001b[39m:\u001b[32m4\u001b[39m)\n  ammonite.$sess.cmd26$Helper.applyn(\u001b[32mcmd26.sc\u001b[39m:\u001b[32m4\u001b[39m)\n  ammonite.$sess.cmd26$Helper.applyn(\u001b[32mcmd26.sc\u001b[39m:\u001b[32m4\u001b[39m)\n  ammonite.$sess.cmd26$Helper.applyn(\u001b[32mcmd26.sc\u001b[39m:\u001b[32m4\u001b[39m)\n  ammonite.$sess.cmd26$Helper.applyn(\u001b[32mcmd26.sc\u001b[39m:\u001b[32m4\u001b[39m)\n  ammonite.$sess.cmd26$Helper.applyn(\u001b[32mcmd26.sc\u001b[39m:\u001b[32m4\u001b[39m)\n  ammonite.$sess.cmd26$Helper.applyn(\u001b[32mcmd26.sc\u001b[39m:\u001b[32m4\u001b[39m)\n  ammonite.$sess.cmd26$Helper.applyn(\u001b[32mcmd26.sc\u001b[39m:\u001b[32m4\u001b[39m)\n  ammonite.$sess.cmd26$Helper.applyn(\u001b[32mcmd26.sc\u001b[39m:\u001b[32m4\u001b[39m)\n  ammonite.$sess.cmd26$Helper.applyn(\u001b[32mcmd26.sc\u001b[39m:\u001b[32m4\u001b[39m)\n  ammonite.$sess.cmd26$Helper.applyn(\u001b[32mcmd26.sc\u001b[39m:\u001b[32m4\u001b[39m)\n  ammonite.$sess.cmd26$Helper.applyn(\u001b[32mcmd26.sc\u001b[39m:\u001b[32m4\u001b[39m)\n  ammonite.$sess.cmd26$Helper.applyn(\u001b[32mcmd26.sc\u001b[39m:\u001b[32m4\u001b[39m)\n  ammonite.$sess.cmd26$Helper.applyn(\u001b[32mcmd26.sc\u001b[39m:\u001b[32m4\u001b[39m)\n  ammonite.$sess.cmd26$Helper.applyn(\u001b[32mcmd26.sc\u001b[39m:\u001b[32m4\u001b[39m)\n  ammonite.$sess.cmd26$Helper.applyn(\u001b[32mcmd26.sc\u001b[39m:\u001b[32m4\u001b[39m)\n  ammonite.$sess.cmd26$Helper.applyn(\u001b[32mcmd26.sc\u001b[39m:\u001b[32m4\u001b[39m)\n  ammonite.$sess.cmd26$Helper.applyn(\u001b[32mcmd26.sc\u001b[39m:\u001b[32m4\u001b[39m)\n  ammonite.$sess.cmd26$Helper.applyn(\u001b[32mcmd26.sc\u001b[39m:\u001b[32m4\u001b[39m)\n  ammonite.$sess.cmd26$Helper.applyn(\u001b[32mcmd26.sc\u001b[39m:\u001b[32m4\u001b[39m)\n  ammonite.$sess.cmd26$Helper.applyn(\u001b[32mcmd26.sc\u001b[39m:\u001b[32m4\u001b[39m)\n  ammonite.$sess.cmd26$Helper.applyn(\u001b[32mcmd26.sc\u001b[39m:\u001b[32m4\u001b[39m)\n  ammonite.$sess.cmd26$Helper.applyn(\u001b[32mcmd26.sc\u001b[39m:\u001b[32m4\u001b[39m)\n  ammonite.$sess.cmd26$Helper.applyn(\u001b[32mcmd26.sc\u001b[39m:\u001b[32m4\u001b[39m)\n  ammonite.$sess.cmd26$Helper.applyn(\u001b[32mcmd26.sc\u001b[39m:\u001b[32m4\u001b[39m)\n  ammonite.$sess.cmd26$Helper.applyn(\u001b[32mcmd26.sc\u001b[39m:\u001b[32m4\u001b[39m)\n  ammonite.$sess.cmd26$Helper.applyn(\u001b[32mcmd26.sc\u001b[39m:\u001b[32m4\u001b[39m)\n  ammonite.$sess.cmd26$Helper.applyn(\u001b[32mcmd26.sc\u001b[39m:\u001b[32m4\u001b[39m)\n  ammonite.$sess.cmd26$Helper.applyn(\u001b[32mcmd26.sc\u001b[39m:\u001b[32m4\u001b[39m)\n  ammonite.$sess.cmd26$Helper.applyn(\u001b[32mcmd26.sc\u001b[39m:\u001b[32m4\u001b[39m)\n  ammonite.$sess.cmd26$Helper.applyn(\u001b[32mcmd26.sc\u001b[39m:\u001b[32m4\u001b[39m)\n  ammonite.$sess.cmd26$Helper.applyn(\u001b[32mcmd26.sc\u001b[39m:\u001b[32m4\u001b[39m)\n  ammonite.$sess.cmd26$Helper.applyn(\u001b[32mcmd26.sc\u001b[39m:\u001b[32m4\u001b[39m)\n  ammonite.$sess.cmd26$Helper.applyn(\u001b[32mcmd26.sc\u001b[39m:\u001b[32m4\u001b[39m)\n  ammonite.$sess.cmd26$Helper.applyn(\u001b[32mcmd26.sc\u001b[39m:\u001b[32m4\u001b[39m)\n  ammonite.$sess.cmd26$Helper.applyn(\u001b[32mcmd26.sc\u001b[39m:\u001b[32m4\u001b[39m)\n  ammonite.$sess.cmd26$Helper.applyn(\u001b[32mcmd26.sc\u001b[39m:\u001b[32m4\u001b[39m)\n  ammonite.$sess.cmd26$Helper.applyn(\u001b[32mcmd26.sc\u001b[39m:\u001b[32m4\u001b[39m)\n  ammonite.$sess.cmd26$Helper.applyn(\u001b[32mcmd26.sc\u001b[39m:\u001b[32m4\u001b[39m)\n  ammonite.$sess.cmd26$Helper.applyn(\u001b[32mcmd26.sc\u001b[39m:\u001b[32m4\u001b[39m)\n  ammonite.$sess.cmd26$Helper.applyn(\u001b[32mcmd26.sc\u001b[39m:\u001b[32m4\u001b[39m)\n  ammonite.$sess.cmd26$Helper.applyn(\u001b[32mcmd26.sc\u001b[39m:\u001b[32m4\u001b[39m)\n  ammonite.$sess.cmd26$Helper.applyn(\u001b[32mcmd26.sc\u001b[39m:\u001b[32m4\u001b[39m)\n  ammonite.$sess.cmd26$Helper.applyn(\u001b[32mcmd26.sc\u001b[39m:\u001b[32m4\u001b[39m)\n  ammonite.$sess.cmd26$Helper.applyn(\u001b[32mcmd26.sc\u001b[39m:\u001b[32m4\u001b[39m)\n  ammonite.$sess.cmd26$Helper.applyn(\u001b[32mcmd26.sc\u001b[39m:\u001b[32m4\u001b[39m)\n  ammonite.$sess.cmd26$Helper.applyn(\u001b[32mcmd26.sc\u001b[39m:\u001b[32m4\u001b[39m)\n  ammonite.$sess.cmd26$Helper.applyn(\u001b[32mcmd26.sc\u001b[39m:\u001b[32m4\u001b[39m)\n  ammonite.$sess.cmd26$Helper.applyn(\u001b[32mcmd26.sc\u001b[39m:\u001b[32m4\u001b[39m)\n  ammonite.$sess.cmd26$Helper.applyn(\u001b[32mcmd26.sc\u001b[39m:\u001b[32m4\u001b[39m)\n  ammonite.$sess.cmd26$Helper.applyn(\u001b[32mcmd26.sc\u001b[39m:\u001b[32m4\u001b[39m)\n  ammonite.$sess.cmd26$Helper.applyn(\u001b[32mcmd26.sc\u001b[39m:\u001b[32m4\u001b[39m)\n  ammonite.$sess.cmd26$Helper.applyn(\u001b[32mcmd26.sc\u001b[39m:\u001b[32m4\u001b[39m)\n  ammonite.$sess.cmd26$Helper.applyn(\u001b[32mcmd26.sc\u001b[39m:\u001b[32m4\u001b[39m)\n  ammonite.$sess.cmd26$Helper.applyn(\u001b[32mcmd26.sc\u001b[39m:\u001b[32m4\u001b[39m)\n  ammonite.$sess.cmd26$Helper.applyn(\u001b[32mcmd26.sc\u001b[39m:\u001b[32m4\u001b[39m)\n  ammonite.$sess.cmd26$Helper.applyn(\u001b[32mcmd26.sc\u001b[39m:\u001b[32m4\u001b[39m)\n  ammonite.$sess.cmd26$Helper.applyn(\u001b[32mcmd26.sc\u001b[39m:\u001b[32m4\u001b[39m)\n  ammonite.$sess.cmd26$Helper.applyn(\u001b[32mcmd26.sc\u001b[39m:\u001b[32m4\u001b[39m)\n  ammonite.$sess.cmd26$Helper.applyn(\u001b[32mcmd26.sc\u001b[39m:\u001b[32m4\u001b[39m)\n  ammonite.$sess.cmd26$Helper.applyn(\u001b[32mcmd26.sc\u001b[39m:\u001b[32m4\u001b[39m)\n  ammonite.$sess.cmd26$Helper.applyn(\u001b[32mcmd26.sc\u001b[39m:\u001b[32m4\u001b[39m)\n  ammonite.$sess.cmd26$Helper.applyn(\u001b[32mcmd26.sc\u001b[39m:\u001b[32m4\u001b[39m)\n  ammonite.$sess.cmd26$Helper.applyn(\u001b[32mcmd26.sc\u001b[39m:\u001b[32m4\u001b[39m)\n  ammonite.$sess.cmd26$Helper.applyn(\u001b[32mcmd26.sc\u001b[39m:\u001b[32m4\u001b[39m)\n  ammonite.$sess.cmd26$Helper.applyn(\u001b[32mcmd26.sc\u001b[39m:\u001b[32m4\u001b[39m)\n  ammonite.$sess.cmd26$Helper.applyn(\u001b[32mcmd26.sc\u001b[39m:\u001b[32m4\u001b[39m)\n  ammonite.$sess.cmd26$Helper.applyn(\u001b[32mcmd26.sc\u001b[39m:\u001b[32m4\u001b[39m)\n  ammonite.$sess.cmd26$Helper.applyn(\u001b[32mcmd26.sc\u001b[39m:\u001b[32m4\u001b[39m)\n  ammonite.$sess.cmd26$Helper.applyn(\u001b[32mcmd26.sc\u001b[39m:\u001b[32m4\u001b[39m)\n  ammonite.$sess.cmd26$Helper.applyn(\u001b[32mcmd26.sc\u001b[39m:\u001b[32m4\u001b[39m)\n  ammonite.$sess.cmd26$Helper.applyn(\u001b[32mcmd26.sc\u001b[39m:\u001b[32m4\u001b[39m)\n  ammonite.$sess.cmd26$Helper.applyn(\u001b[32mcmd26.sc\u001b[39m:\u001b[32m4\u001b[39m)\n  ammonite.$sess.cmd26$Helper.applyn(\u001b[32mcmd26.sc\u001b[39m:\u001b[32m4\u001b[39m)\n  ammonite.$sess.cmd26$Helper.applyn(\u001b[32mcmd26.sc\u001b[39m:\u001b[32m4\u001b[39m)\n  ammonite.$sess.cmd26$Helper.applyn(\u001b[32mcmd26.sc\u001b[39m:\u001b[32m4\u001b[39m)\n  ammonite.$sess.cmd26$Helper.applyn(\u001b[32mcmd26.sc\u001b[39m:\u001b[32m4\u001b[39m)\n  ammonite.$sess.cmd26$Helper.applyn(\u001b[32mcmd26.sc\u001b[39m:\u001b[32m4\u001b[39m)\n  ammonite.$sess.cmd26$Helper.applyn(\u001b[32mcmd26.sc\u001b[39m:\u001b[32m4\u001b[39m)\n  ammonite.$sess.cmd26$Helper.applyn(\u001b[32mcmd26.sc\u001b[39m:\u001b[32m4\u001b[39m)\n  ammonite.$sess.cmd26$Helper.applyn(\u001b[32mcmd26.sc\u001b[39m:\u001b[32m4\u001b[39m)\n  ammonite.$sess.cmd26$Helper.applyn(\u001b[32mcmd26.sc\u001b[39m:\u001b[32m4\u001b[39m)\n  ammonite.$sess.cmd26$Helper.applyn(\u001b[32mcmd26.sc\u001b[39m:\u001b[32m4\u001b[39m)\n  ammonite.$sess.cmd26$Helper.applyn(\u001b[32mcmd26.sc\u001b[39m:\u001b[32m4\u001b[39m)\n  ammonite.$sess.cmd26$Helper.applyn(\u001b[32mcmd26.sc\u001b[39m:\u001b[32m4\u001b[39m)\n  ammonite.$sess.cmd26$Helper.applyn(\u001b[32mcmd26.sc\u001b[39m:\u001b[32m4\u001b[39m)\n  ammonite.$sess.cmd26$Helper.applyn(\u001b[32mcmd26.sc\u001b[39m:\u001b[32m4\u001b[39m)\n  ammonite.$sess.cmd26$Helper.applyn(\u001b[32mcmd26.sc\u001b[39m:\u001b[32m4\u001b[39m)\n  ammonite.$sess.cmd26$Helper.applyn(\u001b[32mcmd26.sc\u001b[39m:\u001b[32m4\u001b[39m)\n  ammonite.$sess.cmd26$Helper.applyn(\u001b[32mcmd26.sc\u001b[39m:\u001b[32m4\u001b[39m)\n  ammonite.$sess.cmd26$Helper.applyn(\u001b[32mcmd26.sc\u001b[39m:\u001b[32m4\u001b[39m)\n  ammonite.$sess.cmd26$Helper.applyn(\u001b[32mcmd26.sc\u001b[39m:\u001b[32m4\u001b[39m)\n  ammonite.$sess.cmd26$Helper.applyn(\u001b[32mcmd26.sc\u001b[39m:\u001b[32m4\u001b[39m)\n  ammonite.$sess.cmd26$Helper.applyn(\u001b[32mcmd26.sc\u001b[39m:\u001b[32m4\u001b[39m)\n  ammonite.$sess.cmd26$Helper.applyn(\u001b[32mcmd26.sc\u001b[39m:\u001b[32m4\u001b[39m)\n  ammonite.$sess.cmd26$Helper.applyn(\u001b[32mcmd26.sc\u001b[39m:\u001b[32m4\u001b[39m)\n  ammonite.$sess.cmd26$Helper.applyn(\u001b[32mcmd26.sc\u001b[39m:\u001b[32m4\u001b[39m)\n  ammonite.$sess.cmd26$Helper.applyn(\u001b[32mcmd26.sc\u001b[39m:\u001b[32m4\u001b[39m)\n  ammonite.$sess.cmd26$Helper.applyn(\u001b[32mcmd26.sc\u001b[39m:\u001b[32m4\u001b[39m)\n  ammonite.$sess.cmd26$Helper.applyn(\u001b[32mcmd26.sc\u001b[39m:\u001b[32m4\u001b[39m)\n  ammonite.$sess.cmd26$Helper.applyn(\u001b[32mcmd26.sc\u001b[39m:\u001b[32m4\u001b[39m)\n  ammonite.$sess.cmd26$Helper.applyn(\u001b[32mcmd26.sc\u001b[39m:\u001b[32m4\u001b[39m)\n  ammonite.$sess.cmd26$Helper.applyn(\u001b[32mcmd26.sc\u001b[39m:\u001b[32m4\u001b[39m)\n  ammonite.$sess.cmd26$Helper.applyn(\u001b[32mcmd26.sc\u001b[39m:\u001b[32m4\u001b[39m)\n  ammonite.$sess.cmd26$Helper.applyn(\u001b[32mcmd26.sc\u001b[39m:\u001b[32m4\u001b[39m)\n  ammonite.$sess.cmd26$Helper.applyn(\u001b[32mcmd26.sc\u001b[39m:\u001b[32m4\u001b[39m)\n  ammonite.$sess.cmd26$Helper.applyn(\u001b[32mcmd26.sc\u001b[39m:\u001b[32m4\u001b[39m)\n  ammonite.$sess.cmd26$Helper.applyn(\u001b[32mcmd26.sc\u001b[39m:\u001b[32m4\u001b[39m)\n  ammonite.$sess.cmd26$Helper.applyn(\u001b[32mcmd26.sc\u001b[39m:\u001b[32m4\u001b[39m)\n  ammonite.$sess.cmd26$Helper.applyn(\u001b[32mcmd26.sc\u001b[39m:\u001b[32m4\u001b[39m)\n  ammonite.$sess.cmd26$Helper.applyn(\u001b[32mcmd26.sc\u001b[39m:\u001b[32m4\u001b[39m)\n  ammonite.$sess.cmd26$Helper.applyn(\u001b[32mcmd26.sc\u001b[39m:\u001b[32m4\u001b[39m)\n  ammonite.$sess.cmd26$Helper.applyn(\u001b[32mcmd26.sc\u001b[39m:\u001b[32m4\u001b[39m)\n  ammonite.$sess.cmd26$Helper.applyn(\u001b[32mcmd26.sc\u001b[39m:\u001b[32m4\u001b[39m)\n  ammonite.$sess.cmd26$Helper.applyn(\u001b[32mcmd26.sc\u001b[39m:\u001b[32m4\u001b[39m)\n  ammonite.$sess.cmd26$Helper.applyn(\u001b[32mcmd26.sc\u001b[39m:\u001b[32m4\u001b[39m)\n  ammonite.$sess.cmd26$Helper.applyn(\u001b[32mcmd26.sc\u001b[39m:\u001b[32m4\u001b[39m)\n  ammonite.$sess.cmd26$Helper.applyn(\u001b[32mcmd26.sc\u001b[39m:\u001b[32m4\u001b[39m)\n  ammonite.$sess.cmd26$Helper.applyn(\u001b[32mcmd26.sc\u001b[39m:\u001b[32m4\u001b[39m)\n  ammonite.$sess.cmd26$Helper.applyn(\u001b[32mcmd26.sc\u001b[39m:\u001b[32m4\u001b[39m)\n  ammonite.$sess.cmd26$Helper.applyn(\u001b[32mcmd26.sc\u001b[39m:\u001b[32m4\u001b[39m)\n  ammonite.$sess.cmd26$Helper.applyn(\u001b[32mcmd26.sc\u001b[39m:\u001b[32m4\u001b[39m)\n  ammonite.$sess.cmd26$Helper.applyn(\u001b[32mcmd26.sc\u001b[39m:\u001b[32m4\u001b[39m)\n  ammonite.$sess.cmd26$Helper.applyn(\u001b[32mcmd26.sc\u001b[39m:\u001b[32m4\u001b[39m)\n  ammonite.$sess.cmd26$Helper.applyn(\u001b[32mcmd26.sc\u001b[39m:\u001b[32m4\u001b[39m)\n  ammonite.$sess.cmd26$Helper.applyn(\u001b[32mcmd26.sc\u001b[39m:\u001b[32m4\u001b[39m)\n  ammonite.$sess.cmd26$Helper.applyn(\u001b[32mcmd26.sc\u001b[39m:\u001b[32m4\u001b[39m)\n  ammonite.$sess.cmd26$Helper.applyn(\u001b[32mcmd26.sc\u001b[39m:\u001b[32m4\u001b[39m)\n  ammonite.$sess.cmd26$Helper.applyn(\u001b[32mcmd26.sc\u001b[39m:\u001b[32m4\u001b[39m)\n  ammonite.$sess.cmd26$Helper.applyn(\u001b[32mcmd26.sc\u001b[39m:\u001b[32m4\u001b[39m)\n  ammonite.$sess.cmd26$Helper.applyn(\u001b[32mcmd26.sc\u001b[39m:\u001b[32m4\u001b[39m)\n  ammonite.$sess.cmd26$Helper.applyn(\u001b[32mcmd26.sc\u001b[39m:\u001b[32m4\u001b[39m)\n  ammonite.$sess.cmd26$Helper.applyn(\u001b[32mcmd26.sc\u001b[39m:\u001b[32m4\u001b[39m)\n  ammonite.$sess.cmd26$Helper.applyn(\u001b[32mcmd26.sc\u001b[39m:\u001b[32m4\u001b[39m)\n  ammonite.$sess.cmd26$Helper.applyn(\u001b[32mcmd26.sc\u001b[39m:\u001b[32m4\u001b[39m)\n  ammonite.$sess.cmd26$Helper.applyn(\u001b[32mcmd26.sc\u001b[39m:\u001b[32m4\u001b[39m)\n  ammonite.$sess.cmd26$Helper.applyn(\u001b[32mcmd26.sc\u001b[39m:\u001b[32m4\u001b[39m)\n  ammonite.$sess.cmd26$Helper.applyn(\u001b[32mcmd26.sc\u001b[39m:\u001b[32m4\u001b[39m)\n  ammonite.$sess.cmd26$Helper.applyn(\u001b[32mcmd26.sc\u001b[39m:\u001b[32m4\u001b[39m)\n  ammonite.$sess.cmd26$Helper.applyn(\u001b[32mcmd26.sc\u001b[39m:\u001b[32m4\u001b[39m)\n  ammonite.$sess.cmd26$Helper.applyn(\u001b[32mcmd26.sc\u001b[39m:\u001b[32m4\u001b[39m)\n  ammonite.$sess.cmd26$Helper.applyn(\u001b[32mcmd26.sc\u001b[39m:\u001b[32m4\u001b[39m)\n  ammonite.$sess.cmd26$Helper.applyn(\u001b[32mcmd26.sc\u001b[39m:\u001b[32m4\u001b[39m)\n  ammonite.$sess.cmd26$Helper.applyn(\u001b[32mcmd26.sc\u001b[39m:\u001b[32m4\u001b[39m)\n  ammonite.$sess.cmd26$Helper.applyn(\u001b[32mcmd26.sc\u001b[39m:\u001b[32m4\u001b[39m)\n  ammonite.$sess.cmd26$Helper.applyn(\u001b[32mcmd26.sc\u001b[39m:\u001b[32m4\u001b[39m)\n  ammonite.$sess.cmd26$Helper.applyn(\u001b[32mcmd26.sc\u001b[39m:\u001b[32m4\u001b[39m)\n  ammonite.$sess.cmd26$Helper.applyn(\u001b[32mcmd26.sc\u001b[39m:\u001b[32m4\u001b[39m)\n  ammonite.$sess.cmd26$Helper.applyn(\u001b[32mcmd26.sc\u001b[39m:\u001b[32m4\u001b[39m)\n  ammonite.$sess.cmd26$Helper.applyn(\u001b[32mcmd26.sc\u001b[39m:\u001b[32m4\u001b[39m)\n  ammonite.$sess.cmd26$Helper.applyn(\u001b[32mcmd26.sc\u001b[39m:\u001b[32m4\u001b[39m)\n  ammonite.$sess.cmd26$Helper.applyn(\u001b[32mcmd26.sc\u001b[39m:\u001b[32m4\u001b[39m)\n  ammonite.$sess.cmd26$Helper.applyn(\u001b[32mcmd26.sc\u001b[39m:\u001b[32m4\u001b[39m)\n  ammonite.$sess.cmd26$Helper.applyn(\u001b[32mcmd26.sc\u001b[39m:\u001b[32m4\u001b[39m)\n  ammonite.$sess.cmd26$Helper.applyn(\u001b[32mcmd26.sc\u001b[39m:\u001b[32m4\u001b[39m)\n  ammonite.$sess.cmd26$Helper.applyn(\u001b[32mcmd26.sc\u001b[39m:\u001b[32m4\u001b[39m)\n  ammonite.$sess.cmd26$Helper.applyn(\u001b[32mcmd26.sc\u001b[39m:\u001b[32m4\u001b[39m)\n  ammonite.$sess.cmd26$Helper.applyn(\u001b[32mcmd26.sc\u001b[39m:\u001b[32m4\u001b[39m)\n  ammonite.$sess.cmd26$Helper.applyn(\u001b[32mcmd26.sc\u001b[39m:\u001b[32m4\u001b[39m)\n  ammonite.$sess.cmd26$Helper.applyn(\u001b[32mcmd26.sc\u001b[39m:\u001b[32m4\u001b[39m)\n  ammonite.$sess.cmd26$Helper.applyn(\u001b[32mcmd26.sc\u001b[39m:\u001b[32m4\u001b[39m)\n  ammonite.$sess.cmd26$Helper.applyn(\u001b[32mcmd26.sc\u001b[39m:\u001b[32m4\u001b[39m)\n  ammonite.$sess.cmd26$Helper.applyn(\u001b[32mcmd26.sc\u001b[39m:\u001b[32m4\u001b[39m)\n  ammonite.$sess.cmd26$Helper.applyn(\u001b[32mcmd26.sc\u001b[39m:\u001b[32m4\u001b[39m)\n  ammonite.$sess.cmd26$Helper.applyn(\u001b[32mcmd26.sc\u001b[39m:\u001b[32m4\u001b[39m)\n  ammonite.$sess.cmd26$Helper.applyn(\u001b[32mcmd26.sc\u001b[39m:\u001b[32m4\u001b[39m)\n  ammonite.$sess.cmd26$Helper.applyn(\u001b[32mcmd26.sc\u001b[39m:\u001b[32m4\u001b[39m)\n  ammonite.$sess.cmd26$Helper.applyn(\u001b[32mcmd26.sc\u001b[39m:\u001b[32m4\u001b[39m)\n  ammonite.$sess.cmd26$Helper.applyn(\u001b[32mcmd26.sc\u001b[39m:\u001b[32m4\u001b[39m)\n  ammonite.$sess.cmd26$Helper.applyn(\u001b[32mcmd26.sc\u001b[39m:\u001b[32m4\u001b[39m)\n  ammonite.$sess.cmd26$Helper.applyn(\u001b[32mcmd26.sc\u001b[39m:\u001b[32m4\u001b[39m)\n  ammonite.$sess.cmd26$Helper.applyn(\u001b[32mcmd26.sc\u001b[39m:\u001b[32m4\u001b[39m)\n  ammonite.$sess.cmd26$Helper.applyn(\u001b[32mcmd26.sc\u001b[39m:\u001b[32m4\u001b[39m)\n  ammonite.$sess.cmd26$Helper.applyn(\u001b[32mcmd26.sc\u001b[39m:\u001b[32m4\u001b[39m)\n  ammonite.$sess.cmd26$Helper.applyn(\u001b[32mcmd26.sc\u001b[39m:\u001b[32m4\u001b[39m)\n  ammonite.$sess.cmd26$Helper.applyn(\u001b[32mcmd26.sc\u001b[39m:\u001b[32m4\u001b[39m)\n  ammonite.$sess.cmd26$Helper.applyn(\u001b[32mcmd26.sc\u001b[39m:\u001b[32m4\u001b[39m)\n  ammonite.$sess.cmd26$Helper.applyn(\u001b[32mcmd26.sc\u001b[39m:\u001b[32m4\u001b[39m)\n  ammonite.$sess.cmd26$Helper.applyn(\u001b[32mcmd26.sc\u001b[39m:\u001b[32m4\u001b[39m)\n  ammonite.$sess.cmd26$Helper.applyn(\u001b[32mcmd26.sc\u001b[39m:\u001b[32m4\u001b[39m)\n  ammonite.$sess.cmd26$Helper.applyn(\u001b[32mcmd26.sc\u001b[39m:\u001b[32m4\u001b[39m)\n  ammonite.$sess.cmd26$Helper.applyn(\u001b[32mcmd26.sc\u001b[39m:\u001b[32m4\u001b[39m)\n  ammonite.$sess.cmd26$Helper.applyn(\u001b[32mcmd26.sc\u001b[39m:\u001b[32m4\u001b[39m)\n  ammonite.$sess.cmd26$Helper.applyn(\u001b[32mcmd26.sc\u001b[39m:\u001b[32m4\u001b[39m)\n  ammonite.$sess.cmd26$Helper.applyn(\u001b[32mcmd26.sc\u001b[39m:\u001b[32m4\u001b[39m)\n  ammonite.$sess.cmd26$Helper.applyn(\u001b[32mcmd26.sc\u001b[39m:\u001b[32m4\u001b[39m)\n  ammonite.$sess.cmd26$Helper.applyn(\u001b[32mcmd26.sc\u001b[39m:\u001b[32m4\u001b[39m)\n  ammonite.$sess.cmd26$Helper.applyn(\u001b[32mcmd26.sc\u001b[39m:\u001b[32m4\u001b[39m)\n  ammonite.$sess.cmd26$Helper.applyn(\u001b[32mcmd26.sc\u001b[39m:\u001b[32m4\u001b[39m)\n  ammonite.$sess.cmd26$Helper.applyn(\u001b[32mcmd26.sc\u001b[39m:\u001b[32m4\u001b[39m)\n  ammonite.$sess.cmd26$Helper.applyn(\u001b[32mcmd26.sc\u001b[39m:\u001b[32m4\u001b[39m)\n  ammonite.$sess.cmd26$Helper.applyn(\u001b[32mcmd26.sc\u001b[39m:\u001b[32m4\u001b[39m)\n  ammonite.$sess.cmd26$Helper.applyn(\u001b[32mcmd26.sc\u001b[39m:\u001b[32m4\u001b[39m)\n  ammonite.$sess.cmd26$Helper.applyn(\u001b[32mcmd26.sc\u001b[39m:\u001b[32m4\u001b[39m)\n  ammonite.$sess.cmd26$Helper.applyn(\u001b[32mcmd26.sc\u001b[39m:\u001b[32m4\u001b[39m)\n  ammonite.$sess.cmd26$Helper.applyn(\u001b[32mcmd26.sc\u001b[39m:\u001b[32m4\u001b[39m)\n  ammonite.$sess.cmd26$Helper.applyn(\u001b[32mcmd26.sc\u001b[39m:\u001b[32m4\u001b[39m)\n  ammonite.$sess.cmd26$Helper.applyn(\u001b[32mcmd26.sc\u001b[39m:\u001b[32m4\u001b[39m)\n  ammonite.$sess.cmd26$Helper.applyn(\u001b[32mcmd26.sc\u001b[39m:\u001b[32m4\u001b[39m)\n  ammonite.$sess.cmd26$Helper.applyn(\u001b[32mcmd26.sc\u001b[39m:\u001b[32m4\u001b[39m)\n  ammonite.$sess.cmd26$Helper.applyn(\u001b[32mcmd26.sc\u001b[39m:\u001b[32m4\u001b[39m)\n  ammonite.$sess.cmd26$Helper.applyn(\u001b[32mcmd26.sc\u001b[39m:\u001b[32m4\u001b[39m)\n  ammonite.$sess.cmd26$Helper.applyn(\u001b[32mcmd26.sc\u001b[39m:\u001b[32m4\u001b[39m)\n  ammonite.$sess.cmd26$Helper.applyn(\u001b[32mcmd26.sc\u001b[39m:\u001b[32m4\u001b[39m)\n  ammonite.$sess.cmd26$Helper.applyn(\u001b[32mcmd26.sc\u001b[39m:\u001b[32m4\u001b[39m)\n  ammonite.$sess.cmd26$Helper.applyn(\u001b[32mcmd26.sc\u001b[39m:\u001b[32m4\u001b[39m)\n  ammonite.$sess.cmd26$Helper.applyn(\u001b[32mcmd26.sc\u001b[39m:\u001b[32m4\u001b[39m)\n  ammonite.$sess.cmd26$Helper.applyn(\u001b[32mcmd26.sc\u001b[39m:\u001b[32m4\u001b[39m)\n  ammonite.$sess.cmd26$Helper.applyn(\u001b[32mcmd26.sc\u001b[39m:\u001b[32m4\u001b[39m)\n  ammonite.$sess.cmd26$Helper.applyn(\u001b[32mcmd26.sc\u001b[39m:\u001b[32m4\u001b[39m)\n  ammonite.$sess.cmd26$Helper.applyn(\u001b[32mcmd26.sc\u001b[39m:\u001b[32m4\u001b[39m)\n  ammonite.$sess.cmd26$Helper.applyn(\u001b[32mcmd26.sc\u001b[39m:\u001b[32m4\u001b[39m)\n  ammonite.$sess.cmd26$Helper.applyn(\u001b[32mcmd26.sc\u001b[39m:\u001b[32m4\u001b[39m)\n  ammonite.$sess.cmd26$Helper.applyn(\u001b[32mcmd26.sc\u001b[39m:\u001b[32m4\u001b[39m)\n  ammonite.$sess.cmd26$Helper.applyn(\u001b[32mcmd26.sc\u001b[39m:\u001b[32m4\u001b[39m)\n  ammonite.$sess.cmd26$Helper.applyn(\u001b[32mcmd26.sc\u001b[39m:\u001b[32m4\u001b[39m)\n  ammonite.$sess.cmd26$Helper.applyn(\u001b[32mcmd26.sc\u001b[39m:\u001b[32m4\u001b[39m)\n  ammonite.$sess.cmd26$Helper.applyn(\u001b[32mcmd26.sc\u001b[39m:\u001b[32m4\u001b[39m)\n  ammonite.$sess.cmd26$Helper.applyn(\u001b[32mcmd26.sc\u001b[39m:\u001b[32m4\u001b[39m)\n  ammonite.$sess.cmd26$Helper.applyn(\u001b[32mcmd26.sc\u001b[39m:\u001b[32m4\u001b[39m)\n  ammonite.$sess.cmd26$Helper.applyn(\u001b[32mcmd26.sc\u001b[39m:\u001b[32m4\u001b[39m)\n  ammonite.$sess.cmd26$Helper.applyn(\u001b[32mcmd26.sc\u001b[39m:\u001b[32m4\u001b[39m)\n  ammonite.$sess.cmd26$Helper.applyn(\u001b[32mcmd26.sc\u001b[39m:\u001b[32m4\u001b[39m)\n  ammonite.$sess.cmd26$Helper.applyn(\u001b[32mcmd26.sc\u001b[39m:\u001b[32m4\u001b[39m)\n  ammonite.$sess.cmd26$Helper.applyn(\u001b[32mcmd26.sc\u001b[39m:\u001b[32m4\u001b[39m)\n  ammonite.$sess.cmd26$Helper.applyn(\u001b[32mcmd26.sc\u001b[39m:\u001b[32m4\u001b[39m)\n  ammonite.$sess.cmd26$Helper.applyn(\u001b[32mcmd26.sc\u001b[39m:\u001b[32m4\u001b[39m)\n  ammonite.$sess.cmd26$Helper.applyn(\u001b[32mcmd26.sc\u001b[39m:\u001b[32m4\u001b[39m)\n  ammonite.$sess.cmd26$Helper.applyn(\u001b[32mcmd26.sc\u001b[39m:\u001b[32m4\u001b[39m)\n  ammonite.$sess.cmd26$Helper.applyn(\u001b[32mcmd26.sc\u001b[39m:\u001b[32m4\u001b[39m)\n  ammonite.$sess.cmd26$Helper.applyn(\u001b[32mcmd26.sc\u001b[39m:\u001b[32m4\u001b[39m)\n  ammonite.$sess.cmd26$Helper.applyn(\u001b[32mcmd26.sc\u001b[39m:\u001b[32m4\u001b[39m)\n  ammonite.$sess.cmd26$Helper.applyn(\u001b[32mcmd26.sc\u001b[39m:\u001b[32m4\u001b[39m)\n  ammonite.$sess.cmd26$Helper.applyn(\u001b[32mcmd26.sc\u001b[39m:\u001b[32m4\u001b[39m)\n  ammonite.$sess.cmd26$Helper.applyn(\u001b[32mcmd26.sc\u001b[39m:\u001b[32m4\u001b[39m)\n  ammonite.$sess.cmd26$Helper.applyn(\u001b[32mcmd26.sc\u001b[39m:\u001b[32m4\u001b[39m)\n  ammonite.$sess.cmd26$Helper.applyn(\u001b[32mcmd26.sc\u001b[39m:\u001b[32m4\u001b[39m)\n  ammonite.$sess.cmd26$Helper.applyn(\u001b[32mcmd26.sc\u001b[39m:\u001b[32m4\u001b[39m)\n  ammonite.$sess.cmd26$Helper.applyn(\u001b[32mcmd26.sc\u001b[39m:\u001b[32m4\u001b[39m)\n  ammonite.$sess.cmd26$Helper.applyn(\u001b[32mcmd26.sc\u001b[39m:\u001b[32m4\u001b[39m)\n  ammonite.$sess.cmd26$Helper.applyn(\u001b[32mcmd26.sc\u001b[39m:\u001b[32m4\u001b[39m)\n  ammonite.$sess.cmd26$Helper.applyn(\u001b[32mcmd26.sc\u001b[39m:\u001b[32m4\u001b[39m)\n  ammonite.$sess.cmd26$Helper.applyn(\u001b[32mcmd26.sc\u001b[39m:\u001b[32m4\u001b[39m)\n  ammonite.$sess.cmd26$Helper.applyn(\u001b[32mcmd26.sc\u001b[39m:\u001b[32m4\u001b[39m)\n  ammonite.$sess.cmd26$Helper.applyn(\u001b[32mcmd26.sc\u001b[39m:\u001b[32m4\u001b[39m)\n  ammonite.$sess.cmd26$Helper.applyn(\u001b[32mcmd26.sc\u001b[39m:\u001b[32m4\u001b[39m)\n  ammonite.$sess.cmd26$Helper.applyn(\u001b[32mcmd26.sc\u001b[39m:\u001b[32m4\u001b[39m)\n  ammonite.$sess.cmd26$Helper.applyn(\u001b[32mcmd26.sc\u001b[39m:\u001b[32m4\u001b[39m)\n  ammonite.$sess.cmd26$Helper.applyn(\u001b[32mcmd26.sc\u001b[39m:\u001b[32m4\u001b[39m)\n  ammonite.$sess.cmd26$Helper.applyn(\u001b[32mcmd26.sc\u001b[39m:\u001b[32m4\u001b[39m)\n  ammonite.$sess.cmd26$Helper.applyn(\u001b[32mcmd26.sc\u001b[39m:\u001b[32m4\u001b[39m)\n  ammonite.$sess.cmd26$Helper.applyn(\u001b[32mcmd26.sc\u001b[39m:\u001b[32m4\u001b[39m)\n  ammonite.$sess.cmd26$Helper.applyn(\u001b[32mcmd26.sc\u001b[39m:\u001b[32m4\u001b[39m)\n  ammonite.$sess.cmd26$Helper.applyn(\u001b[32mcmd26.sc\u001b[39m:\u001b[32m4\u001b[39m)\n  ammonite.$sess.cmd26$Helper.applyn(\u001b[32mcmd26.sc\u001b[39m:\u001b[32m4\u001b[39m)\n  ammonite.$sess.cmd26$Helper.applyn(\u001b[32mcmd26.sc\u001b[39m:\u001b[32m4\u001b[39m)\n  ammonite.$sess.cmd26$Helper.applyn(\u001b[32mcmd26.sc\u001b[39m:\u001b[32m4\u001b[39m)\n  ammonite.$sess.cmd26$Helper.applyn(\u001b[32mcmd26.sc\u001b[39m:\u001b[32m4\u001b[39m)\n  ammonite.$sess.cmd26$Helper.applyn(\u001b[32mcmd26.sc\u001b[39m:\u001b[32m4\u001b[39m)\n  ammonite.$sess.cmd26$Helper.applyn(\u001b[32mcmd26.sc\u001b[39m:\u001b[32m4\u001b[39m)\n  ammonite.$sess.cmd26$Helper.applyn(\u001b[32mcmd26.sc\u001b[39m:\u001b[32m4\u001b[39m)\n  ammonite.$sess.cmd26$Helper.applyn(\u001b[32mcmd26.sc\u001b[39m:\u001b[32m4\u001b[39m)\n  ammonite.$sess.cmd26$Helper.applyn(\u001b[32mcmd26.sc\u001b[39m:\u001b[32m4\u001b[39m)\n  ammonite.$sess.cmd26$Helper.applyn(\u001b[32mcmd26.sc\u001b[39m:\u001b[32m4\u001b[39m)\n  ammonite.$sess.cmd26$Helper.applyn(\u001b[32mcmd26.sc\u001b[39m:\u001b[32m4\u001b[39m)\n  ammonite.$sess.cmd26$Helper.applyn(\u001b[32mcmd26.sc\u001b[39m:\u001b[32m4\u001b[39m)\n  ammonite.$sess.cmd26$Helper.applyn(\u001b[32mcmd26.sc\u001b[39m:\u001b[32m4\u001b[39m)\n  ammonite.$sess.cmd26$Helper.applyn(\u001b[32mcmd26.sc\u001b[39m:\u001b[32m4\u001b[39m)\n  ammonite.$sess.cmd26$Helper.applyn(\u001b[32mcmd26.sc\u001b[39m:\u001b[32m4\u001b[39m)\n  ammonite.$sess.cmd26$Helper.applyn(\u001b[32mcmd26.sc\u001b[39m:\u001b[32m4\u001b[39m)\n  ammonite.$sess.cmd26$Helper.applyn(\u001b[32mcmd26.sc\u001b[39m:\u001b[32m4\u001b[39m)\n  ammonite.$sess.cmd26$Helper.applyn(\u001b[32mcmd26.sc\u001b[39m:\u001b[32m4\u001b[39m)\n  ammonite.$sess.cmd26$Helper.applyn(\u001b[32mcmd26.sc\u001b[39m:\u001b[32m4\u001b[39m)\n  ammonite.$sess.cmd26$Helper.applyn(\u001b[32mcmd26.sc\u001b[39m:\u001b[32m4\u001b[39m)\n  ammonite.$sess.cmd26$Helper.applyn(\u001b[32mcmd26.sc\u001b[39m:\u001b[32m4\u001b[39m)\n  ammonite.$sess.cmd26$Helper.applyn(\u001b[32mcmd26.sc\u001b[39m:\u001b[32m4\u001b[39m)\n  ammonite.$sess.cmd26$Helper.applyn(\u001b[32mcmd26.sc\u001b[39m:\u001b[32m4\u001b[39m)\n  ammonite.$sess.cmd26$Helper.applyn(\u001b[32mcmd26.sc\u001b[39m:\u001b[32m4\u001b[39m)\n  ammonite.$sess.cmd26$Helper.applyn(\u001b[32mcmd26.sc\u001b[39m:\u001b[32m4\u001b[39m)\n  ammonite.$sess.cmd26$Helper.applyn(\u001b[32mcmd26.sc\u001b[39m:\u001b[32m4\u001b[39m)\n  ammonite.$sess.cmd26$Helper.applyn(\u001b[32mcmd26.sc\u001b[39m:\u001b[32m4\u001b[39m)\n  ammonite.$sess.cmd26$Helper.applyn(\u001b[32mcmd26.sc\u001b[39m:\u001b[32m4\u001b[39m)\n  ammonite.$sess.cmd26$Helper.applyn(\u001b[32mcmd26.sc\u001b[39m:\u001b[32m4\u001b[39m)\n  ammonite.$sess.cmd26$Helper.applyn(\u001b[32mcmd26.sc\u001b[39m:\u001b[32m4\u001b[39m)\n  ammonite.$sess.cmd26$Helper.applyn(\u001b[32mcmd26.sc\u001b[39m:\u001b[32m4\u001b[39m)\n  ammonite.$sess.cmd26$Helper.applyn(\u001b[32mcmd26.sc\u001b[39m:\u001b[32m4\u001b[39m)\n  ammonite.$sess.cmd26$Helper.applyn(\u001b[32mcmd26.sc\u001b[39m:\u001b[32m4\u001b[39m)\n  ammonite.$sess.cmd26$Helper.applyn(\u001b[32mcmd26.sc\u001b[39m:\u001b[32m4\u001b[39m)\n  ammonite.$sess.cmd26$Helper.applyn(\u001b[32mcmd26.sc\u001b[39m:\u001b[32m4\u001b[39m)\n  ammonite.$sess.cmd26$Helper.applyn(\u001b[32mcmd26.sc\u001b[39m:\u001b[32m4\u001b[39m)\n  ammonite.$sess.cmd26$Helper.applyn(\u001b[32mcmd26.sc\u001b[39m:\u001b[32m4\u001b[39m)\n  ammonite.$sess.cmd26$Helper.applyn(\u001b[32mcmd26.sc\u001b[39m:\u001b[32m4\u001b[39m)\n  ammonite.$sess.cmd26$Helper.applyn(\u001b[32mcmd26.sc\u001b[39m:\u001b[32m4\u001b[39m)\n  ammonite.$sess.cmd26$Helper.applyn(\u001b[32mcmd26.sc\u001b[39m:\u001b[32m4\u001b[39m)\n  ammonite.$sess.cmd26$Helper.applyn(\u001b[32mcmd26.sc\u001b[39m:\u001b[32m4\u001b[39m)\n  ammonite.$sess.cmd26$Helper.applyn(\u001b[32mcmd26.sc\u001b[39m:\u001b[32m4\u001b[39m)\n  ammonite.$sess.cmd26$Helper.applyn(\u001b[32mcmd26.sc\u001b[39m:\u001b[32m4\u001b[39m)\n  ammonite.$sess.cmd26$Helper.applyn(\u001b[32mcmd26.sc\u001b[39m:\u001b[32m4\u001b[39m)\n  ammonite.$sess.cmd26$Helper.applyn(\u001b[32mcmd26.sc\u001b[39m:\u001b[32m4\u001b[39m)\n  ammonite.$sess.cmd26$Helper.applyn(\u001b[32mcmd26.sc\u001b[39m:\u001b[32m4\u001b[39m)\n  ammonite.$sess.cmd26$Helper.applyn(\u001b[32mcmd26.sc\u001b[39m:\u001b[32m4\u001b[39m)\n  ammonite.$sess.cmd26$Helper.applyn(\u001b[32mcmd26.sc\u001b[39m:\u001b[32m4\u001b[39m)\n  ammonite.$sess.cmd26$Helper.applyn(\u001b[32mcmd26.sc\u001b[39m:\u001b[32m4\u001b[39m)\n  ammonite.$sess.cmd26$Helper.applyn(\u001b[32mcmd26.sc\u001b[39m:\u001b[32m4\u001b[39m)\n  ammonite.$sess.cmd26$Helper.applyn(\u001b[32mcmd26.sc\u001b[39m:\u001b[32m4\u001b[39m)\n  ammonite.$sess.cmd26$Helper.applyn(\u001b[32mcmd26.sc\u001b[39m:\u001b[32m4\u001b[39m)\n  ammonite.$sess.cmd26$Helper.applyn(\u001b[32mcmd26.sc\u001b[39m:\u001b[32m4\u001b[39m)\n  ammonite.$sess.cmd26$Helper.applyn(\u001b[32mcmd26.sc\u001b[39m:\u001b[32m4\u001b[39m)\n  ammonite.$sess.cmd26$Helper.applyn(\u001b[32mcmd26.sc\u001b[39m:\u001b[32m4\u001b[39m)\n  ammonite.$sess.cmd26$Helper.applyn(\u001b[32mcmd26.sc\u001b[39m:\u001b[32m4\u001b[39m)\n  ammonite.$sess.cmd26$Helper.applyn(\u001b[32mcmd26.sc\u001b[39m:\u001b[32m4\u001b[39m)\n  ammonite.$sess.cmd26$Helper.applyn(\u001b[32mcmd26.sc\u001b[39m:\u001b[32m4\u001b[39m)\n  ammonite.$sess.cmd26$Helper.applyn(\u001b[32mcmd26.sc\u001b[39m:\u001b[32m4\u001b[39m)\n  ammonite.$sess.cmd26$Helper.applyn(\u001b[32mcmd26.sc\u001b[39m:\u001b[32m4\u001b[39m)\n  ammonite.$sess.cmd26$Helper.applyn(\u001b[32mcmd26.sc\u001b[39m:\u001b[32m4\u001b[39m)\n  ammonite.$sess.cmd26$Helper.applyn(\u001b[32mcmd26.sc\u001b[39m:\u001b[32m4\u001b[39m)\n  ammonite.$sess.cmd26$Helper.applyn(\u001b[32mcmd26.sc\u001b[39m:\u001b[32m4\u001b[39m)\n  ammonite.$sess.cmd26$Helper.applyn(\u001b[32mcmd26.sc\u001b[39m:\u001b[32m4\u001b[39m)\n  ammonite.$sess.cmd26$Helper.applyn(\u001b[32mcmd26.sc\u001b[39m:\u001b[32m4\u001b[39m)\n  ammonite.$sess.cmd26$Helper.applyn(\u001b[32mcmd26.sc\u001b[39m:\u001b[32m4\u001b[39m)\n  ammonite.$sess.cmd26$Helper.applyn(\u001b[32mcmd26.sc\u001b[39m:\u001b[32m4\u001b[39m)\n  ammonite.$sess.cmd26$Helper.applyn(\u001b[32mcmd26.sc\u001b[39m:\u001b[32m4\u001b[39m)\n  ammonite.$sess.cmd26$Helper.applyn(\u001b[32mcmd26.sc\u001b[39m:\u001b[32m4\u001b[39m)\n  ammonite.$sess.cmd26$Helper.applyn(\u001b[32mcmd26.sc\u001b[39m:\u001b[32m4\u001b[39m)\n  ammonite.$sess.cmd26$Helper.applyn(\u001b[32mcmd26.sc\u001b[39m:\u001b[32m4\u001b[39m)\n  ammonite.$sess.cmd26$Helper.applyn(\u001b[32mcmd26.sc\u001b[39m:\u001b[32m4\u001b[39m)\n  ammonite.$sess.cmd26$Helper.applyn(\u001b[32mcmd26.sc\u001b[39m:\u001b[32m4\u001b[39m)\n  ammonite.$sess.cmd26$Helper.applyn(\u001b[32mcmd26.sc\u001b[39m:\u001b[32m4\u001b[39m)\n  ammonite.$sess.cmd26$Helper.applyn(\u001b[32mcmd26.sc\u001b[39m:\u001b[32m4\u001b[39m)\n  ammonite.$sess.cmd26$Helper.applyn(\u001b[32mcmd26.sc\u001b[39m:\u001b[32m4\u001b[39m)\n  ammonite.$sess.cmd26$Helper.applyn(\u001b[32mcmd26.sc\u001b[39m:\u001b[32m4\u001b[39m)\n  ammonite.$sess.cmd26$Helper.applyn(\u001b[32mcmd26.sc\u001b[39m:\u001b[32m4\u001b[39m)\n  ammonite.$sess.cmd26$Helper.applyn(\u001b[32mcmd26.sc\u001b[39m:\u001b[32m4\u001b[39m)\n  ammonite.$sess.cmd26$Helper.applyn(\u001b[32mcmd26.sc\u001b[39m:\u001b[32m4\u001b[39m)\n  ammonite.$sess.cmd26$Helper.applyn(\u001b[32mcmd26.sc\u001b[39m:\u001b[32m4\u001b[39m)\n  ammonite.$sess.cmd26$Helper.applyn(\u001b[32mcmd26.sc\u001b[39m:\u001b[32m4\u001b[39m)\n  ammonite.$sess.cmd26$Helper.applyn(\u001b[32mcmd26.sc\u001b[39m:\u001b[32m4\u001b[39m)\n  ammonite.$sess.cmd26$Helper.applyn(\u001b[32mcmd26.sc\u001b[39m:\u001b[32m4\u001b[39m)\n  ammonite.$sess.cmd26$Helper.applyn(\u001b[32mcmd26.sc\u001b[39m:\u001b[32m4\u001b[39m)\n  ammonite.$sess.cmd26$Helper.applyn(\u001b[32mcmd26.sc\u001b[39m:\u001b[32m4\u001b[39m)\n  ammonite.$sess.cmd26$Helper.applyn(\u001b[32mcmd26.sc\u001b[39m:\u001b[32m4\u001b[39m)\n  ammonite.$sess.cmd26$Helper.applyn(\u001b[32mcmd26.sc\u001b[39m:\u001b[32m4\u001b[39m)\n  ammonite.$sess.cmd26$Helper.applyn(\u001b[32mcmd26.sc\u001b[39m:\u001b[32m4\u001b[39m)\n  ammonite.$sess.cmd26$Helper.applyn(\u001b[32mcmd26.sc\u001b[39m:\u001b[32m4\u001b[39m)\n  ammonite.$sess.cmd26$Helper.applyn(\u001b[32mcmd26.sc\u001b[39m:\u001b[32m4\u001b[39m)\n  ammonite.$sess.cmd26$Helper.applyn(\u001b[32mcmd26.sc\u001b[39m:\u001b[32m4\u001b[39m)\n  ammonite.$sess.cmd26$Helper.applyn(\u001b[32mcmd26.sc\u001b[39m:\u001b[32m4\u001b[39m)\n  ammonite.$sess.cmd26$Helper.applyn(\u001b[32mcmd26.sc\u001b[39m:\u001b[32m4\u001b[39m)\n  ammonite.$sess.cmd26$Helper.applyn(\u001b[32mcmd26.sc\u001b[39m:\u001b[32m4\u001b[39m)\n  ammonite.$sess.cmd26$Helper.applyn(\u001b[32mcmd26.sc\u001b[39m:\u001b[32m4\u001b[39m)\n  ammonite.$sess.cmd26$Helper.applyn(\u001b[32mcmd26.sc\u001b[39m:\u001b[32m4\u001b[39m)\n  ammonite.$sess.cmd26$Helper.applyn(\u001b[32mcmd26.sc\u001b[39m:\u001b[32m4\u001b[39m)\n  ammonite.$sess.cmd26$Helper.applyn(\u001b[32mcmd26.sc\u001b[39m:\u001b[32m4\u001b[39m)\n  ammonite.$sess.cmd26$Helper.applyn(\u001b[32mcmd26.sc\u001b[39m:\u001b[32m4\u001b[39m)\n  ammonite.$sess.cmd26$Helper.applyn(\u001b[32mcmd26.sc\u001b[39m:\u001b[32m4\u001b[39m)\n  ammonite.$sess.cmd26$Helper.applyn(\u001b[32mcmd26.sc\u001b[39m:\u001b[32m4\u001b[39m)\n  ammonite.$sess.cmd26$Helper.applyn(\u001b[32mcmd26.sc\u001b[39m:\u001b[32m4\u001b[39m)\n  ammonite.$sess.cmd26$Helper.applyn(\u001b[32mcmd26.sc\u001b[39m:\u001b[32m4\u001b[39m)\n  ammonite.$sess.cmd26$Helper.applyn(\u001b[32mcmd26.sc\u001b[39m:\u001b[32m4\u001b[39m)\n  ammonite.$sess.cmd26$Helper.applyn(\u001b[32mcmd26.sc\u001b[39m:\u001b[32m4\u001b[39m)\n  ammonite.$sess.cmd26$Helper.applyn(\u001b[32mcmd26.sc\u001b[39m:\u001b[32m4\u001b[39m)\n  ammonite.$sess.cmd26$Helper.applyn(\u001b[32mcmd26.sc\u001b[39m:\u001b[32m4\u001b[39m)\n  ammonite.$sess.cmd26$Helper.applyn(\u001b[32mcmd26.sc\u001b[39m:\u001b[32m4\u001b[39m)\n  ammonite.$sess.cmd26$Helper.applyn(\u001b[32mcmd26.sc\u001b[39m:\u001b[32m4\u001b[39m)\n  ammonite.$sess.cmd26$Helper.applyn(\u001b[32mcmd26.sc\u001b[39m:\u001b[32m4\u001b[39m)\n  ammonite.$sess.cmd26$Helper.applyn(\u001b[32mcmd26.sc\u001b[39m:\u001b[32m4\u001b[39m)\n  ammonite.$sess.cmd26$Helper.applyn(\u001b[32mcmd26.sc\u001b[39m:\u001b[32m4\u001b[39m)\n  ammonite.$sess.cmd26$Helper.applyn(\u001b[32mcmd26.sc\u001b[39m:\u001b[32m4\u001b[39m)\n  ammonite.$sess.cmd26$Helper.applyn(\u001b[32mcmd26.sc\u001b[39m:\u001b[32m4\u001b[39m)\n  ammonite.$sess.cmd26$Helper.applyn(\u001b[32mcmd26.sc\u001b[39m:\u001b[32m4\u001b[39m)\n  ammonite.$sess.cmd26$Helper.applyn(\u001b[32mcmd26.sc\u001b[39m:\u001b[32m4\u001b[39m)\n  ammonite.$sess.cmd26$Helper.applyn(\u001b[32mcmd26.sc\u001b[39m:\u001b[32m4\u001b[39m)\n  ammonite.$sess.cmd26$Helper.applyn(\u001b[32mcmd26.sc\u001b[39m:\u001b[32m4\u001b[39m)\n  ammonite.$sess.cmd26$Helper.applyn(\u001b[32mcmd26.sc\u001b[39m:\u001b[32m4\u001b[39m)\n  ammonite.$sess.cmd26$Helper.applyn(\u001b[32mcmd26.sc\u001b[39m:\u001b[32m4\u001b[39m)\n  ammonite.$sess.cmd26$Helper.applyn(\u001b[32mcmd26.sc\u001b[39m:\u001b[32m4\u001b[39m)\n  ammonite.$sess.cmd26$Helper.applyn(\u001b[32mcmd26.sc\u001b[39m:\u001b[32m4\u001b[39m)\n  ammonite.$sess.cmd26$Helper.applyn(\u001b[32mcmd26.sc\u001b[39m:\u001b[32m4\u001b[39m)\n  ammonite.$sess.cmd26$Helper.applyn(\u001b[32mcmd26.sc\u001b[39m:\u001b[32m4\u001b[39m)\n  ammonite.$sess.cmd26$Helper.applyn(\u001b[32mcmd26.sc\u001b[39m:\u001b[32m4\u001b[39m)\n  ammonite.$sess.cmd26$Helper.applyn(\u001b[32mcmd26.sc\u001b[39m:\u001b[32m4\u001b[39m)\n  ammonite.$sess.cmd26$Helper.applyn(\u001b[32mcmd26.sc\u001b[39m:\u001b[32m4\u001b[39m)\n  ammonite.$sess.cmd26$Helper.applyn(\u001b[32mcmd26.sc\u001b[39m:\u001b[32m4\u001b[39m)\n  ammonite.$sess.cmd26$Helper.applyn(\u001b[32mcmd26.sc\u001b[39m:\u001b[32m4\u001b[39m)\n  ammonite.$sess.cmd26$Helper.applyn(\u001b[32mcmd26.sc\u001b[39m:\u001b[32m4\u001b[39m)\n  ammonite.$sess.cmd26$Helper.applyn(\u001b[32mcmd26.sc\u001b[39m:\u001b[32m4\u001b[39m)\n  ammonite.$sess.cmd26$Helper.applyn(\u001b[32mcmd26.sc\u001b[39m:\u001b[32m4\u001b[39m)\n  ammonite.$sess.cmd26$Helper.applyn(\u001b[32mcmd26.sc\u001b[39m:\u001b[32m4\u001b[39m)\n  ammonite.$sess.cmd26$Helper.applyn(\u001b[32mcmd26.sc\u001b[39m:\u001b[32m4\u001b[39m)\n  ammonite.$sess.cmd26$Helper.applyn(\u001b[32mcmd26.sc\u001b[39m:\u001b[32m4\u001b[39m)\n  ammonite.$sess.cmd26$Helper.applyn(\u001b[32mcmd26.sc\u001b[39m:\u001b[32m4\u001b[39m)\n  ammonite.$sess.cmd26$Helper.applyn(\u001b[32mcmd26.sc\u001b[39m:\u001b[32m4\u001b[39m)\n  ammonite.$sess.cmd26$Helper.applyn(\u001b[32mcmd26.sc\u001b[39m:\u001b[32m4\u001b[39m)\n  ammonite.$sess.cmd26$Helper.applyn(\u001b[32mcmd26.sc\u001b[39m:\u001b[32m4\u001b[39m)\n  ammonite.$sess.cmd26$Helper.applyn(\u001b[32mcmd26.sc\u001b[39m:\u001b[32m4\u001b[39m)\n  ammonite.$sess.cmd26$Helper.applyn(\u001b[32mcmd26.sc\u001b[39m:\u001b[32m4\u001b[39m)\n  ammonite.$sess.cmd26$Helper.applyn(\u001b[32mcmd26.sc\u001b[39m:\u001b[32m4\u001b[39m)\n  ammonite.$sess.cmd26$Helper.applyn(\u001b[32mcmd26.sc\u001b[39m:\u001b[32m4\u001b[39m)\n  ammonite.$sess.cmd26$Helper.applyn(\u001b[32mcmd26.sc\u001b[39m:\u001b[32m4\u001b[39m)\n  ammonite.$sess.cmd26$Helper.applyn(\u001b[32mcmd26.sc\u001b[39m:\u001b[32m4\u001b[39m)\n  ammonite.$sess.cmd26$Helper.applyn(\u001b[32mcmd26.sc\u001b[39m:\u001b[32m4\u001b[39m)\n  ammonite.$sess.cmd26$Helper.applyn(\u001b[32mcmd26.sc\u001b[39m:\u001b[32m4\u001b[39m)\n  ammonite.$sess.cmd26$Helper.applyn(\u001b[32mcmd26.sc\u001b[39m:\u001b[32m4\u001b[39m)\n  ammonite.$sess.cmd26$Helper.applyn(\u001b[32mcmd26.sc\u001b[39m:\u001b[32m4\u001b[39m)\n  ammonite.$sess.cmd26$Helper.applyn(\u001b[32mcmd26.sc\u001b[39m:\u001b[32m4\u001b[39m)\n  ammonite.$sess.cmd26$Helper.applyn(\u001b[32mcmd26.sc\u001b[39m:\u001b[32m4\u001b[39m)\n  ammonite.$sess.cmd26$Helper.applyn(\u001b[32mcmd26.sc\u001b[39m:\u001b[32m4\u001b[39m)\n  ammonite.$sess.cmd26$Helper.applyn(\u001b[32mcmd26.sc\u001b[39m:\u001b[32m4\u001b[39m)\n  ammonite.$sess.cmd26$Helper.applyn(\u001b[32mcmd26.sc\u001b[39m:\u001b[32m4\u001b[39m)\n  ammonite.$sess.cmd26$Helper.applyn(\u001b[32mcmd26.sc\u001b[39m:\u001b[32m4\u001b[39m)\n  ammonite.$sess.cmd26$Helper.applyn(\u001b[32mcmd26.sc\u001b[39m:\u001b[32m4\u001b[39m)\n  ammonite.$sess.cmd26$Helper.applyn(\u001b[32mcmd26.sc\u001b[39m:\u001b[32m4\u001b[39m)\n  ammonite.$sess.cmd26$Helper.applyn(\u001b[32mcmd26.sc\u001b[39m:\u001b[32m4\u001b[39m)\n  ammonite.$sess.cmd26$Helper.applyn(\u001b[32mcmd26.sc\u001b[39m:\u001b[32m4\u001b[39m)\n  ammonite.$sess.cmd26$Helper.applyn(\u001b[32mcmd26.sc\u001b[39m:\u001b[32m4\u001b[39m)\n  ammonite.$sess.cmd26$Helper.applyn(\u001b[32mcmd26.sc\u001b[39m:\u001b[32m4\u001b[39m)\n  ammonite.$sess.cmd26$Helper.applyn(\u001b[32mcmd26.sc\u001b[39m:\u001b[32m4\u001b[39m)\n  ammonite.$sess.cmd26$Helper.applyn(\u001b[32mcmd26.sc\u001b[39m:\u001b[32m4\u001b[39m)\n  ammonite.$sess.cmd26$Helper.applyn(\u001b[32mcmd26.sc\u001b[39m:\u001b[32m4\u001b[39m)\n  ammonite.$sess.cmd26$Helper.applyn(\u001b[32mcmd26.sc\u001b[39m:\u001b[32m4\u001b[39m)\n  ammonite.$sess.cmd26$Helper.applyn(\u001b[32mcmd26.sc\u001b[39m:\u001b[32m4\u001b[39m)\n  ammonite.$sess.cmd26$Helper.applyn(\u001b[32mcmd26.sc\u001b[39m:\u001b[32m4\u001b[39m)\n  ammonite.$sess.cmd26$Helper.applyn(\u001b[32mcmd26.sc\u001b[39m:\u001b[32m4\u001b[39m)\n  ammonite.$sess.cmd26$Helper.applyn(\u001b[32mcmd26.sc\u001b[39m:\u001b[32m4\u001b[39m)\n  ammonite.$sess.cmd26$Helper.applyn(\u001b[32mcmd26.sc\u001b[39m:\u001b[32m4\u001b[39m)\n  ammonite.$sess.cmd26$Helper.applyn(\u001b[32mcmd26.sc\u001b[39m:\u001b[32m4\u001b[39m)\n  ammonite.$sess.cmd26$Helper.applyn(\u001b[32mcmd26.sc\u001b[39m:\u001b[32m4\u001b[39m)\n  ammonite.$sess.cmd26$Helper.applyn(\u001b[32mcmd26.sc\u001b[39m:\u001b[32m4\u001b[39m)\n  ammonite.$sess.cmd26$Helper.applyn(\u001b[32mcmd26.sc\u001b[39m:\u001b[32m4\u001b[39m)\n  ammonite.$sess.cmd26$Helper.applyn(\u001b[32mcmd26.sc\u001b[39m:\u001b[32m4\u001b[39m)\n  ammonite.$sess.cmd26$Helper.applyn(\u001b[32mcmd26.sc\u001b[39m:\u001b[32m4\u001b[39m)\n  ammonite.$sess.cmd26$Helper.applyn(\u001b[32mcmd26.sc\u001b[39m:\u001b[32m4\u001b[39m)\n  ammonite.$sess.cmd26$Helper.applyn(\u001b[32mcmd26.sc\u001b[39m:\u001b[32m4\u001b[39m)\n  ammonite.$sess.cmd26$Helper.applyn(\u001b[32mcmd26.sc\u001b[39m:\u001b[32m4\u001b[39m)\n  ammonite.$sess.cmd26$Helper.applyn(\u001b[32mcmd26.sc\u001b[39m:\u001b[32m4\u001b[39m)\n  ammonite.$sess.cmd26$Helper.applyn(\u001b[32mcmd26.sc\u001b[39m:\u001b[32m4\u001b[39m)\n  ammonite.$sess.cmd26$Helper.applyn(\u001b[32mcmd26.sc\u001b[39m:\u001b[32m4\u001b[39m)\n  ammonite.$sess.cmd26$Helper.applyn(\u001b[32mcmd26.sc\u001b[39m:\u001b[32m4\u001b[39m)\n  ammonite.$sess.cmd26$Helper.applyn(\u001b[32mcmd26.sc\u001b[39m:\u001b[32m4\u001b[39m)\n  ammonite.$sess.cmd26$Helper.applyn(\u001b[32mcmd26.sc\u001b[39m:\u001b[32m4\u001b[39m)\n  ammonite.$sess.cmd26$Helper.applyn(\u001b[32mcmd26.sc\u001b[39m:\u001b[32m4\u001b[39m)\n  ammonite.$sess.cmd26$Helper.applyn(\u001b[32mcmd26.sc\u001b[39m:\u001b[32m4\u001b[39m)\n  ammonite.$sess.cmd26$Helper.applyn(\u001b[32mcmd26.sc\u001b[39m:\u001b[32m4\u001b[39m)\n  ammonite.$sess.cmd26$Helper.applyn(\u001b[32mcmd26.sc\u001b[39m:\u001b[32m4\u001b[39m)\n  ammonite.$sess.cmd26$Helper.applyn(\u001b[32mcmd26.sc\u001b[39m:\u001b[32m4\u001b[39m)\n  ammonite.$sess.cmd26$Helper.applyn(\u001b[32mcmd26.sc\u001b[39m:\u001b[32m4\u001b[39m)\n  ammonite.$sess.cmd26$Helper.applyn(\u001b[32mcmd26.sc\u001b[39m:\u001b[32m4\u001b[39m)\n  ammonite.$sess.cmd26$Helper.applyn(\u001b[32mcmd26.sc\u001b[39m:\u001b[32m4\u001b[39m)\n  ammonite.$sess.cmd26$Helper.applyn(\u001b[32mcmd26.sc\u001b[39m:\u001b[32m4\u001b[39m)\n  ammonite.$sess.cmd26$Helper.applyn(\u001b[32mcmd26.sc\u001b[39m:\u001b[32m4\u001b[39m)\n  ammonite.$sess.cmd26$Helper.applyn(\u001b[32mcmd26.sc\u001b[39m:\u001b[32m4\u001b[39m)\n  ammonite.$sess.cmd26$Helper.applyn(\u001b[32mcmd26.sc\u001b[39m:\u001b[32m4\u001b[39m)\n  ammonite.$sess.cmd26$Helper.applyn(\u001b[32mcmd26.sc\u001b[39m:\u001b[32m4\u001b[39m)\n  ammonite.$sess.cmd26$Helper.applyn(\u001b[32mcmd26.sc\u001b[39m:\u001b[32m4\u001b[39m)\n  ammonite.$sess.cmd26$Helper.applyn(\u001b[32mcmd26.sc\u001b[39m:\u001b[32m4\u001b[39m)\n  ammonite.$sess.cmd26$Helper.applyn(\u001b[32mcmd26.sc\u001b[39m:\u001b[32m4\u001b[39m)\n  ammonite.$sess.cmd26$Helper.applyn(\u001b[32mcmd26.sc\u001b[39m:\u001b[32m4\u001b[39m)\n  ammonite.$sess.cmd26$Helper.applyn(\u001b[32mcmd26.sc\u001b[39m:\u001b[32m4\u001b[39m)\n  ammonite.$sess.cmd26$Helper.applyn(\u001b[32mcmd26.sc\u001b[39m:\u001b[32m4\u001b[39m)\n  ammonite.$sess.cmd26$Helper.applyn(\u001b[32mcmd26.sc\u001b[39m:\u001b[32m4\u001b[39m)\n  ammonite.$sess.cmd26$Helper.applyn(\u001b[32mcmd26.sc\u001b[39m:\u001b[32m4\u001b[39m)\n  ammonite.$sess.cmd26$Helper.applyn(\u001b[32mcmd26.sc\u001b[39m:\u001b[32m4\u001b[39m)\n  ammonite.$sess.cmd26$Helper.applyn(\u001b[32mcmd26.sc\u001b[39m:\u001b[32m4\u001b[39m)\n  ammonite.$sess.cmd26$Helper.applyn(\u001b[32mcmd26.sc\u001b[39m:\u001b[32m4\u001b[39m)\n  ammonite.$sess.cmd26$Helper.applyn(\u001b[32mcmd26.sc\u001b[39m:\u001b[32m4\u001b[39m)\n  ammonite.$sess.cmd26$Helper.applyn(\u001b[32mcmd26.sc\u001b[39m:\u001b[32m4\u001b[39m)\n  ammonite.$sess.cmd26$Helper.applyn(\u001b[32mcmd26.sc\u001b[39m:\u001b[32m4\u001b[39m)\n  ammonite.$sess.cmd26$Helper.applyn(\u001b[32mcmd26.sc\u001b[39m:\u001b[32m4\u001b[39m)\n  ammonite.$sess.cmd26$Helper.applyn(\u001b[32mcmd26.sc\u001b[39m:\u001b[32m4\u001b[39m)\n  ammonite.$sess.cmd26$Helper.applyn(\u001b[32mcmd26.sc\u001b[39m:\u001b[32m4\u001b[39m)\n  ammonite.$sess.cmd26$Helper.applyn(\u001b[32mcmd26.sc\u001b[39m:\u001b[32m4\u001b[39m)\n  ammonite.$sess.cmd26$Helper.applyn(\u001b[32mcmd26.sc\u001b[39m:\u001b[32m4\u001b[39m)\n  ammonite.$sess.cmd26$Helper.applyn(\u001b[32mcmd26.sc\u001b[39m:\u001b[32m4\u001b[39m)\n  ammonite.$sess.cmd26$Helper.applyn(\u001b[32mcmd26.sc\u001b[39m:\u001b[32m4\u001b[39m)\n  ammonite.$sess.cmd26$Helper.applyn(\u001b[32mcmd26.sc\u001b[39m:\u001b[32m4\u001b[39m)\n  ammonite.$sess.cmd26$Helper.applyn(\u001b[32mcmd26.sc\u001b[39m:\u001b[32m4\u001b[39m)\n  ammonite.$sess.cmd26$Helper.applyn(\u001b[32mcmd26.sc\u001b[39m:\u001b[32m4\u001b[39m)\n  ammonite.$sess.cmd26$Helper.applyn(\u001b[32mcmd26.sc\u001b[39m:\u001b[32m4\u001b[39m)\n  ammonite.$sess.cmd26$Helper.applyn(\u001b[32mcmd26.sc\u001b[39m:\u001b[32m4\u001b[39m)\n  ammonite.$sess.cmd26$Helper.applyn(\u001b[32mcmd26.sc\u001b[39m:\u001b[32m4\u001b[39m)\n  ammonite.$sess.cmd26$Helper.applyn(\u001b[32mcmd26.sc\u001b[39m:\u001b[32m4\u001b[39m)\n  ammonite.$sess.cmd26$Helper.applyn(\u001b[32mcmd26.sc\u001b[39m:\u001b[32m4\u001b[39m)\n  ammonite.$sess.cmd26$Helper.applyn(\u001b[32mcmd26.sc\u001b[39m:\u001b[32m4\u001b[39m)\n  ammonite.$sess.cmd26$Helper.applyn(\u001b[32mcmd26.sc\u001b[39m:\u001b[32m4\u001b[39m)\n  ammonite.$sess.cmd26$Helper.applyn(\u001b[32mcmd26.sc\u001b[39m:\u001b[32m4\u001b[39m)\n  ammonite.$sess.cmd26$Helper.applyn(\u001b[32mcmd26.sc\u001b[39m:\u001b[32m4\u001b[39m)\n  ammonite.$sess.cmd26$Helper.applyn(\u001b[32mcmd26.sc\u001b[39m:\u001b[32m4\u001b[39m)\n  ammonite.$sess.cmd26$Helper.applyn(\u001b[32mcmd26.sc\u001b[39m:\u001b[32m4\u001b[39m)\n  ammonite.$sess.cmd26$Helper.applyn(\u001b[32mcmd26.sc\u001b[39m:\u001b[32m4\u001b[39m)\n  ammonite.$sess.cmd26$Helper.applyn(\u001b[32mcmd26.sc\u001b[39m:\u001b[32m4\u001b[39m)\n  ammonite.$sess.cmd26$Helper.applyn(\u001b[32mcmd26.sc\u001b[39m:\u001b[32m4\u001b[39m)\n  ammonite.$sess.cmd26$Helper.applyn(\u001b[32mcmd26.sc\u001b[39m:\u001b[32m4\u001b[39m)\n  ammonite.$sess.cmd26$Helper.applyn(\u001b[32mcmd26.sc\u001b[39m:\u001b[32m4\u001b[39m)\n  ammonite.$sess.cmd26$Helper.applyn(\u001b[32mcmd26.sc\u001b[39m:\u001b[32m4\u001b[39m)\n  ammonite.$sess.cmd26$Helper.applyn(\u001b[32mcmd26.sc\u001b[39m:\u001b[32m4\u001b[39m)\n  ammonite.$sess.cmd26$Helper.applyn(\u001b[32mcmd26.sc\u001b[39m:\u001b[32m4\u001b[39m)\n  ammonite.$sess.cmd26$Helper.applyn(\u001b[32mcmd26.sc\u001b[39m:\u001b[32m4\u001b[39m)\n  ammonite.$sess.cmd26$Helper.applyn(\u001b[32mcmd26.sc\u001b[39m:\u001b[32m4\u001b[39m)\n  ammonite.$sess.cmd26$Helper.applyn(\u001b[32mcmd26.sc\u001b[39m:\u001b[32m4\u001b[39m)\n  ammonite.$sess.cmd26$Helper.applyn(\u001b[32mcmd26.sc\u001b[39m:\u001b[32m4\u001b[39m)\n  ammonite.$sess.cmd26$Helper.applyn(\u001b[32mcmd26.sc\u001b[39m:\u001b[32m4\u001b[39m)\n  ammonite.$sess.cmd26$Helper.applyn(\u001b[32mcmd26.sc\u001b[39m:\u001b[32m4\u001b[39m)\n  ammonite.$sess.cmd26$Helper.applyn(\u001b[32mcmd26.sc\u001b[39m:\u001b[32m4\u001b[39m)\n  ammonite.$sess.cmd26$Helper.applyn(\u001b[32mcmd26.sc\u001b[39m:\u001b[32m4\u001b[39m)\n  ammonite.$sess.cmd26$Helper.applyn(\u001b[32mcmd26.sc\u001b[39m:\u001b[32m4\u001b[39m)\n  ammonite.$sess.cmd26$Helper.applyn(\u001b[32mcmd26.sc\u001b[39m:\u001b[32m4\u001b[39m)\n  ammonite.$sess.cmd26$Helper.applyn(\u001b[32mcmd26.sc\u001b[39m:\u001b[32m4\u001b[39m)\n  ammonite.$sess.cmd26$Helper.applyn(\u001b[32mcmd26.sc\u001b[39m:\u001b[32m4\u001b[39m)\n  ammonite.$sess.cmd26$Helper.applyn(\u001b[32mcmd26.sc\u001b[39m:\u001b[32m4\u001b[39m)\n  ammonite.$sess.cmd26$Helper.applyn(\u001b[32mcmd26.sc\u001b[39m:\u001b[32m4\u001b[39m)\n  ammonite.$sess.cmd26$Helper.applyn(\u001b[32mcmd26.sc\u001b[39m:\u001b[32m4\u001b[39m)\n  ammonite.$sess.cmd26$Helper.applyn(\u001b[32mcmd26.sc\u001b[39m:\u001b[32m4\u001b[39m)\n  ammonite.$sess.cmd26$Helper.applyn(\u001b[32mcmd26.sc\u001b[39m:\u001b[32m4\u001b[39m)\n  ammonite.$sess.cmd26$Helper.applyn(\u001b[32mcmd26.sc\u001b[39m:\u001b[32m4\u001b[39m)\n  ammonite.$sess.cmd26$Helper.applyn(\u001b[32mcmd26.sc\u001b[39m:\u001b[32m4\u001b[39m)\n  ammonite.$sess.cmd26$Helper.applyn(\u001b[32mcmd26.sc\u001b[39m:\u001b[32m4\u001b[39m)\n  ammonite.$sess.cmd26$Helper.applyn(\u001b[32mcmd26.sc\u001b[39m:\u001b[32m4\u001b[39m)\n  ammonite.$sess.cmd26$Helper.applyn(\u001b[32mcmd26.sc\u001b[39m:\u001b[32m4\u001b[39m)\n  ammonite.$sess.cmd26$Helper.applyn(\u001b[32mcmd26.sc\u001b[39m:\u001b[32m4\u001b[39m)\n  ammonite.$sess.cmd26$Helper.applyn(\u001b[32mcmd26.sc\u001b[39m:\u001b[32m4\u001b[39m)\n  ammonite.$sess.cmd26$Helper.applyn(\u001b[32mcmd26.sc\u001b[39m:\u001b[32m4\u001b[39m)\n  ammonite.$sess.cmd26$Helper.applyn(\u001b[32mcmd26.sc\u001b[39m:\u001b[32m4\u001b[39m)\n  ammonite.$sess.cmd26$Helper.applyn(\u001b[32mcmd26.sc\u001b[39m:\u001b[32m4\u001b[39m)\n  ammonite.$sess.cmd26$Helper.applyn(\u001b[32mcmd26.sc\u001b[39m:\u001b[32m4\u001b[39m)\n  ammonite.$sess.cmd26$Helper.applyn(\u001b[32mcmd26.sc\u001b[39m:\u001b[32m4\u001b[39m)\n  ammonite.$sess.cmd26$Helper.applyn(\u001b[32mcmd26.sc\u001b[39m:\u001b[32m4\u001b[39m)\n  ammonite.$sess.cmd26$Helper.applyn(\u001b[32mcmd26.sc\u001b[39m:\u001b[32m4\u001b[39m)\n  ammonite.$sess.cmd26$Helper.applyn(\u001b[32mcmd26.sc\u001b[39m:\u001b[32m4\u001b[39m)\n  ammonite.$sess.cmd26$Helper.applyn(\u001b[32mcmd26.sc\u001b[39m:\u001b[32m4\u001b[39m)\n  ammonite.$sess.cmd26$Helper.applyn(\u001b[32mcmd26.sc\u001b[39m:\u001b[32m4\u001b[39m)\n  ammonite.$sess.cmd26$Helper.applyn(\u001b[32mcmd26.sc\u001b[39m:\u001b[32m4\u001b[39m)\n  ammonite.$sess.cmd26$Helper.applyn(\u001b[32mcmd26.sc\u001b[39m:\u001b[32m4\u001b[39m)\n  ammonite.$sess.cmd26$Helper.applyn(\u001b[32mcmd26.sc\u001b[39m:\u001b[32m4\u001b[39m)\n  ammonite.$sess.cmd26$Helper.applyn(\u001b[32mcmd26.sc\u001b[39m:\u001b[32m4\u001b[39m)\n  ammonite.$sess.cmd26$Helper.applyn(\u001b[32mcmd26.sc\u001b[39m:\u001b[32m4\u001b[39m)\n  ammonite.$sess.cmd26$Helper.applyn(\u001b[32mcmd26.sc\u001b[39m:\u001b[32m4\u001b[39m)\n  ammonite.$sess.cmd26$Helper.applyn(\u001b[32mcmd26.sc\u001b[39m:\u001b[32m4\u001b[39m)\n  ammonite.$sess.cmd26$Helper.applyn(\u001b[32mcmd26.sc\u001b[39m:\u001b[32m4\u001b[39m)\n  ammonite.$sess.cmd26$Helper.applyn(\u001b[32mcmd26.sc\u001b[39m:\u001b[32m4\u001b[39m)\n  ammonite.$sess.cmd26$Helper.applyn(\u001b[32mcmd26.sc\u001b[39m:\u001b[32m4\u001b[39m)\n  ammonite.$sess.cmd26$Helper.applyn(\u001b[32mcmd26.sc\u001b[39m:\u001b[32m4\u001b[39m)\n  ammonite.$sess.cmd26$Helper.applyn(\u001b[32mcmd26.sc\u001b[39m:\u001b[32m4\u001b[39m)\n  ammonite.$sess.cmd26$Helper.applyn(\u001b[32mcmd26.sc\u001b[39m:\u001b[32m4\u001b[39m)\n  ammonite.$sess.cmd26$Helper.applyn(\u001b[32mcmd26.sc\u001b[39m:\u001b[32m4\u001b[39m)\n  ammonite.$sess.cmd26$Helper.applyn(\u001b[32mcmd26.sc\u001b[39m:\u001b[32m4\u001b[39m)\n  ammonite.$sess.cmd26$Helper.applyn(\u001b[32mcmd26.sc\u001b[39m:\u001b[32m4\u001b[39m)\n  ammonite.$sess.cmd26$Helper.applyn(\u001b[32mcmd26.sc\u001b[39m:\u001b[32m4\u001b[39m)\n  ammonite.$sess.cmd26$Helper.applyn(\u001b[32mcmd26.sc\u001b[39m:\u001b[32m4\u001b[39m)\n  ammonite.$sess.cmd26$Helper.applyn(\u001b[32mcmd26.sc\u001b[39m:\u001b[32m4\u001b[39m)\n  ammonite.$sess.cmd26$Helper.applyn(\u001b[32mcmd26.sc\u001b[39m:\u001b[32m4\u001b[39m)\n  ammonite.$sess.cmd26$Helper.applyn(\u001b[32mcmd26.sc\u001b[39m:\u001b[32m4\u001b[39m)\n  ammonite.$sess.cmd26$Helper.applyn(\u001b[32mcmd26.sc\u001b[39m:\u001b[32m4\u001b[39m)\n  ammonite.$sess.cmd26$Helper.applyn(\u001b[32mcmd26.sc\u001b[39m:\u001b[32m4\u001b[39m)\n  ammonite.$sess.cmd26$Helper.applyn(\u001b[32mcmd26.sc\u001b[39m:\u001b[32m4\u001b[39m)\n  ammonite.$sess.cmd26$Helper.applyn(\u001b[32mcmd26.sc\u001b[39m:\u001b[32m4\u001b[39m)\n  ammonite.$sess.cmd26$Helper.applyn(\u001b[32mcmd26.sc\u001b[39m:\u001b[32m4\u001b[39m)\n  ammonite.$sess.cmd26$Helper.applyn(\u001b[32mcmd26.sc\u001b[39m:\u001b[32m4\u001b[39m)\n  ammonite.$sess.cmd26$Helper.applyn(\u001b[32mcmd26.sc\u001b[39m:\u001b[32m4\u001b[39m)\n  ammonite.$sess.cmd26$Helper.applyn(\u001b[32mcmd26.sc\u001b[39m:\u001b[32m4\u001b[39m)\n  ammonite.$sess.cmd26$Helper.applyn(\u001b[32mcmd26.sc\u001b[39m:\u001b[32m4\u001b[39m)\n  ammonite.$sess.cmd26$Helper.applyn(\u001b[32mcmd26.sc\u001b[39m:\u001b[32m4\u001b[39m)\n  ammonite.$sess.cmd26$Helper.applyn(\u001b[32mcmd26.sc\u001b[39m:\u001b[32m4\u001b[39m)\n  ammonite.$sess.cmd26$Helper.applyn(\u001b[32mcmd26.sc\u001b[39m:\u001b[32m4\u001b[39m)\n  ammonite.$sess.cmd26$Helper.applyn(\u001b[32mcmd26.sc\u001b[39m:\u001b[32m4\u001b[39m)\n  ammonite.$sess.cmd26$Helper.applyn(\u001b[32mcmd26.sc\u001b[39m:\u001b[32m4\u001b[39m)\n  ammonite.$sess.cmd26$Helper.applyn(\u001b[32mcmd26.sc\u001b[39m:\u001b[32m4\u001b[39m)\n  ammonite.$sess.cmd26$Helper.applyn(\u001b[32mcmd26.sc\u001b[39m:\u001b[32m4\u001b[39m)\n  ammonite.$sess.cmd26$Helper.applyn(\u001b[32mcmd26.sc\u001b[39m:\u001b[32m4\u001b[39m)\n  ammonite.$sess.cmd26$Helper.applyn(\u001b[32mcmd26.sc\u001b[39m:\u001b[32m4\u001b[39m)\n  ammonite.$sess.cmd26$Helper.applyn(\u001b[32mcmd26.sc\u001b[39m:\u001b[32m4\u001b[39m)\n  ammonite.$sess.cmd26$Helper.applyn(\u001b[32mcmd26.sc\u001b[39m:\u001b[32m4\u001b[39m)\n  ammonite.$sess.cmd26$Helper.applyn(\u001b[32mcmd26.sc\u001b[39m:\u001b[32m4\u001b[39m)\n  ammonite.$sess.cmd26$Helper.applyn(\u001b[32mcmd26.sc\u001b[39m:\u001b[32m4\u001b[39m)\n  ammonite.$sess.cmd26$Helper.applyn(\u001b[32mcmd26.sc\u001b[39m:\u001b[32m4\u001b[39m)\n  ammonite.$sess.cmd26$Helper.applyn(\u001b[32mcmd26.sc\u001b[39m:\u001b[32m4\u001b[39m)\n  ammonite.$sess.cmd26$Helper.applyn(\u001b[32mcmd26.sc\u001b[39m:\u001b[32m4\u001b[39m)\n  ammonite.$sess.cmd26$Helper.applyn(\u001b[32mcmd26.sc\u001b[39m:\u001b[32m4\u001b[39m)\n  ammonite.$sess.cmd26$Helper.applyn(\u001b[32mcmd26.sc\u001b[39m:\u001b[32m4\u001b[39m)\n  ammonite.$sess.cmd26$Helper.applyn(\u001b[32mcmd26.sc\u001b[39m:\u001b[32m4\u001b[39m)\n  ammonite.$sess.cmd26$Helper.applyn(\u001b[32mcmd26.sc\u001b[39m:\u001b[32m4\u001b[39m)\n  ammonite.$sess.cmd26$Helper.applyn(\u001b[32mcmd26.sc\u001b[39m:\u001b[32m4\u001b[39m)\n  ammonite.$sess.cmd26$Helper.applyn(\u001b[32mcmd26.sc\u001b[39m:\u001b[32m4\u001b[39m)\n  ammonite.$sess.cmd26$Helper.applyn(\u001b[32mcmd26.sc\u001b[39m:\u001b[32m4\u001b[39m)\n  ammonite.$sess.cmd26$Helper.applyn(\u001b[32mcmd26.sc\u001b[39m:\u001b[32m4\u001b[39m)\n  ammonite.$sess.cmd26$Helper.applyn(\u001b[32mcmd26.sc\u001b[39m:\u001b[32m4\u001b[39m)\n  ammonite.$sess.cmd26$Helper.applyn(\u001b[32mcmd26.sc\u001b[39m:\u001b[32m4\u001b[39m)\n  ammonite.$sess.cmd26$Helper.applyn(\u001b[32mcmd26.sc\u001b[39m:\u001b[32m4\u001b[39m)\n  ammonite.$sess.cmd26$Helper.applyn(\u001b[32mcmd26.sc\u001b[39m:\u001b[32m4\u001b[39m)\n  ammonite.$sess.cmd26$Helper.applyn(\u001b[32mcmd26.sc\u001b[39m:\u001b[32m4\u001b[39m)\n  ammonite.$sess.cmd26$Helper.applyn(\u001b[32mcmd26.sc\u001b[39m:\u001b[32m4\u001b[39m)\n  ammonite.$sess.cmd26$Helper.applyn(\u001b[32mcmd26.sc\u001b[39m:\u001b[32m4\u001b[39m)\n  ammonite.$sess.cmd26$Helper.applyn(\u001b[32mcmd26.sc\u001b[39m:\u001b[32m4\u001b[39m)\n  ammonite.$sess.cmd26$Helper.applyn(\u001b[32mcmd26.sc\u001b[39m:\u001b[32m4\u001b[39m)\n  ammonite.$sess.cmd26$Helper.applyn(\u001b[32mcmd26.sc\u001b[39m:\u001b[32m4\u001b[39m)\n  ammonite.$sess.cmd26$Helper.applyn(\u001b[32mcmd26.sc\u001b[39m:\u001b[32m4\u001b[39m)\n  ammonite.$sess.cmd26$Helper.applyn(\u001b[32mcmd26.sc\u001b[39m:\u001b[32m4\u001b[39m)\n  ammonite.$sess.cmd26$Helper.applyn(\u001b[32mcmd26.sc\u001b[39m:\u001b[32m4\u001b[39m)\n  ammonite.$sess.cmd26$Helper.applyn(\u001b[32mcmd26.sc\u001b[39m:\u001b[32m4\u001b[39m)\n  ammonite.$sess.cmd26$Helper.applyn(\u001b[32mcmd26.sc\u001b[39m:\u001b[32m4\u001b[39m)\n  ammonite.$sess.cmd26$Helper.applyn(\u001b[32mcmd26.sc\u001b[39m:\u001b[32m4\u001b[39m)\n  ammonite.$sess.cmd26$Helper.applyn(\u001b[32mcmd26.sc\u001b[39m:\u001b[32m4\u001b[39m)\n  ammonite.$sess.cmd26$Helper.applyn(\u001b[32mcmd26.sc\u001b[39m:\u001b[32m4\u001b[39m)\n  ammonite.$sess.cmd26$Helper.applyn(\u001b[32mcmd26.sc\u001b[39m:\u001b[32m4\u001b[39m)\n  ammonite.$sess.cmd26$Helper.applyn(\u001b[32mcmd26.sc\u001b[39m:\u001b[32m4\u001b[39m)\n  ammonite.$sess.cmd26$Helper.applyn(\u001b[32mcmd26.sc\u001b[39m:\u001b[32m4\u001b[39m)\n  ammonite.$sess.cmd26$Helper.applyn(\u001b[32mcmd26.sc\u001b[39m:\u001b[32m4\u001b[39m)\n  ammonite.$sess.cmd26$Helper.applyn(\u001b[32mcmd26.sc\u001b[39m:\u001b[32m4\u001b[39m)\n  ammonite.$sess.cmd26$Helper.applyn(\u001b[32mcmd26.sc\u001b[39m:\u001b[32m4\u001b[39m)\n  ammonite.$sess.cmd26$Helper.applyn(\u001b[32mcmd26.sc\u001b[39m:\u001b[32m4\u001b[39m)\n  ammonite.$sess.cmd26$Helper.applyn(\u001b[32mcmd26.sc\u001b[39m:\u001b[32m4\u001b[39m)\n  ammonite.$sess.cmd26$Helper.applyn(\u001b[32mcmd26.sc\u001b[39m:\u001b[32m4\u001b[39m)\n  ammonite.$sess.cmd26$Helper.applyn(\u001b[32mcmd26.sc\u001b[39m:\u001b[32m4\u001b[39m)\n  ammonite.$sess.cmd26$Helper.applyn(\u001b[32mcmd26.sc\u001b[39m:\u001b[32m4\u001b[39m)\n  ammonite.$sess.cmd26$Helper.applyn(\u001b[32mcmd26.sc\u001b[39m:\u001b[32m4\u001b[39m)\n  ammonite.$sess.cmd26$Helper.applyn(\u001b[32mcmd26.sc\u001b[39m:\u001b[32m4\u001b[39m)\n  ammonite.$sess.cmd26$Helper.applyn(\u001b[32mcmd26.sc\u001b[39m:\u001b[32m4\u001b[39m)\n  ammonite.$sess.cmd26$Helper.applyn(\u001b[32mcmd26.sc\u001b[39m:\u001b[32m4\u001b[39m)\n  ammonite.$sess.cmd26$Helper.applyn(\u001b[32mcmd26.sc\u001b[39m:\u001b[32m4\u001b[39m)\n  ammonite.$sess.cmd26$Helper.applyn(\u001b[32mcmd26.sc\u001b[39m:\u001b[32m4\u001b[39m)\n  ammonite.$sess.cmd26$Helper.applyn(\u001b[32mcmd26.sc\u001b[39m:\u001b[32m4\u001b[39m)\n  ammonite.$sess.cmd26$Helper.applyn(\u001b[32mcmd26.sc\u001b[39m:\u001b[32m4\u001b[39m)\n  ammonite.$sess.cmd26$Helper.applyn(\u001b[32mcmd26.sc\u001b[39m:\u001b[32m4\u001b[39m)\n  ammonite.$sess.cmd26$Helper.applyn(\u001b[32mcmd26.sc\u001b[39m:\u001b[32m4\u001b[39m)\n  ammonite.$sess.cmd26$Helper.applyn(\u001b[32mcmd26.sc\u001b[39m:\u001b[32m4\u001b[39m)\n  ammonite.$sess.cmd26$Helper.applyn(\u001b[32mcmd26.sc\u001b[39m:\u001b[32m4\u001b[39m)\n  ammonite.$sess.cmd26$Helper.applyn(\u001b[32mcmd26.sc\u001b[39m:\u001b[32m4\u001b[39m)\n  ammonite.$sess.cmd26$Helper.applyn(\u001b[32mcmd26.sc\u001b[39m:\u001b[32m4\u001b[39m)\n  ammonite.$sess.cmd26$Helper.applyn(\u001b[32mcmd26.sc\u001b[39m:\u001b[32m4\u001b[39m)"
     ]
    }
   ],
   "source": [
    "def applyn[A](f: A=>A, n: Int, initVal: A): A = {\n",
    "    n match {\n",
    "        case 0 => initVal\n",
    "        case _ => f(applyn(f, n-1, initVal))\n",
    "    }\n",
    "}\n",
    "\n",
    "applyn((x:String)=>x+\"!\", 10000, \"hello\")"
   ]
  },
  {
   "cell_type": "code",
   "execution_count": 32,
   "metadata": {
    "scrolled": true
   },
   "outputs": [
    {
     "data": {
      "text/plain": [
       "\u001b[32mimport \u001b[39m\u001b[36mscala.annotation.tailrec\n",
       "\u001b[39m\n",
       "\u001b[32mimport \u001b[39m\u001b[36mscala.util.control.TailCalls._\n",
       "\n",
       "\u001b[39m\n",
       "defined \u001b[32mfunction\u001b[39m \u001b[36mapplyn\u001b[39m\n",
       "\u001b[36mres31_3\u001b[39m: \u001b[32mString\u001b[39m = \u001b[32m\"hello!!!!!!!!!!!!!!!!!!!!!!!!!!!!!!!!!!!!!!!!!!!!!!!!!!!!!!!!!!!!!!!!!!!!!!!!!!!!!!!!!!!!!!!!!!!!!!!!!!!!!!!!!!!!!!!!!!!!!!!!!!!!!!!!!!!!!!!!!!!!!!!!!!!!!!!!!!!!!!!!!!!!!!!!!!!!!!!!!!!!!!!!!!!!!!!!!!!!!!!!!!!!!!!!!!!!!!!!!!!!!!!!!!!!!!!!!!!!!!!!!!!!!!!!!!!!!!!!!!!!!!!!!!!!!!!!!!!!!!!!!!!!!!!!!!!!!!!!!!!!!!!!!!!!!!!!!!!!!!!!!!!!!!!!!!!!!!!!!!!!!!!!!!!!!!!!!!!!!!!!!!!!!!!!!!!!!!!!!!!!!!!!!!!!!!!!!!!!!!!!!!!!!!!!!!!!!!!!!!!!!!!!!!!!!!!!!!!!!!!!!!!!!!!!!!!!!!!!!!!!!!!!!!!!!!!!!!!!!!!!!!!!!!!!!!!!!!!!!!!!!!!!!!!!!!!!!!!!!!!!!!!!!!!!!!!!!!!!!!!!!!!!!!!!!!!!!!!!!!!!!!!!!!!!!!!!!!!!!!!!!!!!!!!!!!!!!!!!!!!!!!!!!!!!!!!!!!!!!!!!!!!!!!!!!!!!!!!!!!!!!!!!!!!!!!!!!!!!!!!!!!!!!!!!!!!!!!!!!!!!!!!!!!!!!!!!!!!!!!!!!!!!!!!!!!!!!!!!!!!!!!!!!!!!!!!!!!!!!!!!!!!!!!!!!!!!!!!!!!!!!!!!!!!!!!!!!!!!!!!!!!!!!!!!!!!!!!!!!!!!!!!!!!!!!!!!!!!!!!!!!!!!!!!!!!!!!!!!!!!!!!!!!!!!!!!!!!!!!!!!!!!!!!!!!!!!!!!!!!!!!!!!!!!!!!!!!!!!!!!!!!!!!!!!!!!!!!!!!!!!!!!!!!!!!!!!!!!!!!!!!!!!!!!!!!!!!!!!!!!!!!!!!!!!!!!!!!!!!!!!!!!!!!!!!!!!!!!!!!!!!!!!!!!!!!!!!!!!!!!!!!!!!!!!!!!!!!!!!!!!!!!!!!!!!!!!!!!!!!!!!!!!!!!!!!!!!!!!!!!!!!!!!!!!!!!!!!!!!!!!!!!!!!!!!!!!!!!!!!!!!!!!!!!!!!!!!!!!!!!!!!!!!!!!!!!!!!!!!!!!!!!!!!!!!!!!!!!!!!!!!!!!!!!!!!!!!!!!!!!!!!!!!!!!!!!!!!!!!!!!!!!!!!!!!!!!!!!!!!!!!!!!!!!!!!!!!!!!!!!!!!!!!!!!!!!!!!!!!!!!!!!!!!!!!!!!!!!!!!!!!!!!!!!!!!!!!!!!!!!!!!!!!!!!!!!!!!!!!!!!!!!!!!!!!!!!!!!!!!!!!!!!!!!!!!!!!!!!!!!!!!!!!!!!!!!!!!!!!!!!!!!!!!!!!!!!!!!!!!!!!!!!!!!!!!!!!!!!!!!!!!!!!!!!!!!!!!!!!!!!!!!!!!!!!!!!!!!!!!!!!!!!!!!!!!!!!!!!!!!!!!!!!!!!!!!!!!!!!!!!!!!!!!!!!!!!!!!!!!!!!!!!!!!!!!!!!!!!!!!!!!!!!!!!!!!!!!!!!!!!!!!!!!!!!!!!!!!!!!!!!!!!!!!!!!!!!!!!!!!!!!!!!!!!!!!!!!!!!!!!!!!!!!!!!!!!!!!!!!!!!!!!!!!!!!!!!!!!!!!!!!!!!!!!!!!!!!!!!!!!!!!!!!!!!!!!!!!!!!!!!!!!!!!!!!!!!!!!!!!!!!!!!!!!!!!!!!!!!!!!!!!!!!!!!!!!!!!!!!!!!!!!!!!!!!!!!!!!!!!!!!!!!!!!!!!!!!!!!!!!!!!!!!!!!!!!!!!!!!!!!!!!!!!!!!!!!!!!!!!!!!!!!!!!!!!!!!!!!!!!!!!!!!!!!!!!!!!!!!!!!!!!!!!!!!!!!!!!!!!!!!!!!!!!!!!!!!!!!!!!!!!!!!!!!!!!!!!!!!!!!!!!!!!!!!!!!!!!!!!!!!!!!!!!!!!!!!!!!!!!!!!!!!!!!!!!!!!!!!!!!!!!!!!!!!!!!!!!!!!!!!!!!!!!!!!!!!!!!!!!!!!!!!!!!!!!!!!!!!!!!!!!!!!!!!!!!!!!!!!!!!!!!!!!!!!!!!!!!!!!!!!!!!!!!!!!!!!!!!!!!!!!!!!!!!!!!!!!!!!!!!!!!!!!!!!!!!!!!!!!!!!!!!!!!!!!!!!!!!!!!!!!!!!!!!!!!!!!!!!!!!!!!!!!!!!!!!!!!!!!!!!!!!!!!!!!!!!!!!!!!!!!!!!!!!!!!!!!!!!!!!!!!!!!!!!!!!!!!!!!!!!!!!!!!!!!!!!!!!!!!!!!!!!!!!!!!!!!!!!!!!!!!!!!!!!!!!!!!!!!!!!!!!!!!!!!!!!!!!!!!!!!!!!!!!!!!!!!!!!!!!!!!!!!!!!!!!!!!!!!!!!!!!!!!!!!!!!!!!!!!!!!!!!!!!!!!!!!!!!!!!!!!!!!!!!!!!!!!!!!!!!!!!!!!!!!!!!!!!!!!!!!!!!!!!!!!!!!!!!!!!!!!!!!!!!!!!!!!!!!!!!!!!!!!!!!!!!!!!!!!!!!!!!!!!!!!!!!!!!!!!!!!!!!!!!!!!!!!!!!!!!!!!!!!!!!!!!!!!!!!!!!!!!!!!!!!!!!!!!!!!!!!!!!!!!!!!!!!!!!!!!!!!!!!!!!!!!!!!!!!!!!!!!!!!!!!!!!!!!!!!!!!!!!!!!!!!!!!!!!!!!!!!!!!!!!!!!!!!!!!!!!!!!!!!!!!!!!!!!!!!!!!!!!!!!!!!!!!!!!!!!!!!!!!!!!!!!!!!!!!!!!!!!!!!!!!!!!!!!!!!!!!!!!!!!!!!!!!!!!!!!!!!!!!!!!!!!!!!!!!!!!!!!!!!!!!!!!!!!!!!!!!!!!!!!!!!!!!!!!!!!!!!!!!!!!!!!!!!!!!!!!!!!!!!!!!!!!!!!!!!!!!!!!!!!!!!!!!!!!!!!!!!!!!!!!!!!!!!!!!!!!!!!!!!!!!!!!!!!!!!!!!!!!!!!!!!!!!!!!!!!!!!!!!!!!!!!!!!!!!!!!!!!!!!!!!!!!!!!!!!!!!!!!!!!!!!!!!!!!!!!!!!!!!!!!!!!!!!!!!!!!!!!!!!!!!!\u001b[39m..."
      ]
     },
     "execution_count": 32,
     "metadata": {},
     "output_type": "execute_result"
    }
   ],
   "source": [
    "import scala.annotation.tailrec\n",
    "import scala.util.control.TailCalls._\n",
    "\n",
    "def applyn[A](f: A=>A, n: Int, initVal: A): A = {\n",
    "    @tailrec\n",
    "    def applyCont(n: Int, cont: A=>TailRec[A]): A = {\n",
    "        n match {\n",
    "            case 0 => cont(initVal).result\n",
    "            case _ => applyCont(n-1, (r)=>tailcall(cont(f(r))))\n",
    "        }\n",
    "    }\n",
    "    applyCont(n, (r)=>done(r))\n",
    "}\n",
    "\n",
    "applyn((x:String)=>x+\"!\", 10000, \"hello\")"
   ]
  },
  {
   "cell_type": "code",
   "execution_count": 41,
   "metadata": {},
   "outputs": [
    {
     "data": {
      "text/plain": [
       "defined \u001b[32mfunction\u001b[39m \u001b[36mfoo\u001b[39m\n",
       "\u001b[36mres40_1\u001b[39m: (\u001b[32mString\u001b[39m, \u001b[32mInt\u001b[39m) = (\u001b[32m\"hello!!!!!!!!!!\"\u001b[39m, \u001b[32m10\u001b[39m)"
      ]
     },
     "execution_count": 41,
     "metadata": {},
     "output_type": "execute_result"
    }
   ],
   "source": [
    "def foo[A,B](f: A=>A, x: (A,B)): (A,B) = {\n",
    "    (applyn[A](f, 10, x._1), x._2)\n",
    "}\n",
    "foo((x: String)=>x+\"!\", (\"hello\", 10))"
   ]
  },
  {
   "cell_type": "code",
   "execution_count": 39,
   "metadata": {
    "scrolled": true
   },
   "outputs": [
    {
     "data": {
      "text/plain": [
       "defined \u001b[32mtype\u001b[39m \u001b[36mApplyn\u001b[39m\n",
       "\u001b[36mapplyn\u001b[39m: {def apply[A](f: A => A, n: Int, initVal: A): A} = ammonite.$sess.cmd38$Helper$$anon$1@449b5f68\n",
       "\u001b[36mres38_2\u001b[39m: \u001b[32mString\u001b[39m = \u001b[32m\"hello!!!!!!!!!!!!!!!!!!!!!!!!!!!!!!!!!!!!!!!!!!!!!!!!!!!!!!!!!!!!!!!!!!!!!!!!!!!!!!!!!!!!!!!!!!!!!!!!!!!!!!!!!!!!!!!!!!!!!!!!!!!!!!!!!!!!!!!!!!!!!!!!!!!!!!!!!!!!!!!!!!!!!!!!!!!!!!!!!!!!!!!!!!!!!!!!!!!!!!!!!!!!!!!!!!!!!!!!!!!!!!!!!!!!!!!!!!!!!!!!!!!!!!!!!!!!!!!!!!!!!!!!!!!!!!!!!!!!!!!!!!!!!!!!!!!!!!!!!!!!!!!!!!!!!!!!!!!!!!!!!!!!!!!!!!!!!!!!!!!!!!!!!!!!!!!!!!!!!!!!!!!!!!!!!!!!!!!!!!!!!!!!!!!!!!!!!!!!!!!!!!!!!!!!!!!!!!!!!!!!!!!!!!!!!!!!!!!!!!!!!!!!!!!!!!!!!!!!!!!!!!!!!!!!!!!!!!!!!!!!!!!!!!!!!!!!!!!!!!!!!!!!!!!!!!!!!!!!!!!!!!!!!!!!!!!!!!!!!!!!!!!!!!!!!!!!!!!!!!!!!!!!!!!!!!!!!!!!!!!!!!!!!!!!!!!!!!!!!!!!!!!!!!!!!!!!!!!!!!!!!!!!!!!!!!!!!!!!!!!!!!!!!!!!!!!!!!!!!!!!!!!!!!!!!!!!!!!!!!!!!!!!!!!!!!!!!!!!!!!!!!!!!!!!!!!!!!!!!!!!!!!!!!!!!!!!!!!!!!!!!!!!!!!!!!!!!!!!!!!!!!!!!!!!!!!!!!!!!!!!!!!!!!!!!!!!!!!!!!!!!!!!!!!!!!!!!!!!!!!!!!!!!!!!!!!!!!!!!!!!!!!!!!!!!!!!!!!!!!!!!!!!!!!!!!!!!!!!!!!!!!!!!!!!!!!!!!!!!!!!!!!!!!!!!!!!!!!!!!!!!!!!!!!!!!!!!!!!!!!!!!!!!!!!!!!!!!!!!!!!!!!!!!!!!!!!!!!!!!!!!!!!!!!!!!!!!!!!!!!!!!!!!!!!!!!!!!!!!!!!!!!!!!!!!!!!!!!!!!!!!!!!!!!!!!!!!!!!!!!!!!!!!!!!!!!!!!!!!!!!!!!!!!!!!!!!!!!!!!!!!!!!!!!!!!!!!!!!!!!!!!!!!!!!!!!!!!!!!!!!!!!!!!!!!!!!!!!!!!!!!!!!!!!!!!!!!!!!!!!!!!!!!!!!!!!!!!!!!!!!!!!!!!!!!!!!!!!!!!!!!!!!!!!!!!!!!!!!!!!!!!!!!!!!!!!!!!!!!!!!!!!!!!!!!!!!!!!!!!!!!!!!!!!!!!!!!!!!!!!!!!!!!!!!!!!!!!!!!!!!!!!!!!!!!!!!!!!!!!!!!!!!!!!!!!!!!!!!!!!!!!!!!!!!!!!!!!!!!!!!!!!!!!!!!!!!!!!!!!!!!!!!!!!!!!!!!!!!!!!!!!!!!!!!!!!!!!!!!!!!!!!!!!!!!!!!!!!!!!!!!!!!!!!!!!!!!!!!!!!!!!!!!!!!!!!!!!!!!!!!!!!!!!!!!!!!!!!!!!!!!!!!!!!!!!!!!!!!!!!!!!!!!!!!!!!!!!!!!!!!!!!!!!!!!!!!!!!!!!!!!!!!!!!!!!!!!!!!!!!!!!!!!!!!!!!!!!!!!!!!!!!!!!!!!!!!!!!!!!!!!!!!!!!!!!!!!!!!!!!!!!!!!!!!!!!!!!!!!!!!!!!!!!!!!!!!!!!!!!!!!!!!!!!!!!!!!!!!!!!!!!!!!!!!!!!!!!!!!!!!!!!!!!!!!!!!!!!!!!!!!!!!!!!!!!!!!!!!!!!!!!!!!!!!!!!!!!!!!!!!!!!!!!!!!!!!!!!!!!!!!!!!!!!!!!!!!!!!!!!!!!!!!!!!!!!!!!!!!!!!!!!!!!!!!!!!!!!!!!!!!!!!!!!!!!!!!!!!!!!!!!!!!!!!!!!!!!!!!!!!!!!!!!!!!!!!!!!!!!!!!!!!!!!!!!!!!!!!!!!!!!!!!!!!!!!!!!!!!!!!!!!!!!!!!!!!!!!!!!!!!!!!!!!!!!!!!!!!!!!!!!!!!!!!!!!!!!!!!!!!!!!!!!!!!!!!!!!!!!!!!!!!!!!!!!!!!!!!!!!!!!!!!!!!!!!!!!!!!!!!!!!!!!!!!!!!!!!!!!!!!!!!!!!!!!!!!!!!!!!!!!!!!!!!!!!!!!!!!!!!!!!!!!!!!!!!!!!!!!!!!!!!!!!!!!!!!!!!!!!!!!!!!!!!!!!!!!!!!!!!!!!!!!!!!!!!!!!!!!!!!!!!!!!!!!!!!!!!!!!!!!!!!!!!!!!!!!!!!!!!!!!!!!!!!!!!!!!!!!!!!!!!!!!!!!!!!!!!!!!!!!!!!!!!!!!!!!!!!!!!!!!!!!!!!!!!!!!!!!!!!!!!!!!!!!!!!!!!!!!!!!!!!!!!!!!!!!!!!!!!!!!!!!!!!!!!!!!!!!!!!!!!!!!!!!!!!!!!!!!!!!!!!!!!!!!!!!!!!!!!!!!!!!!!!!!!!!!!!!!!!!!!!!!!!!!!!!!!!!!!!!!!!!!!!!!!!!!!!!!!!!!!!!!!!!!!!!!!!!!!!!!!!!!!!!!!!!!!!!!!!!!!!!!!!!!!!!!!!!!!!!!!!!!!!!!!!!!!!!!!!!!!!!!!!!!!!!!!!!!!!!!!!!!!!!!!!!!!!!!!!!!!!!!!!!!!!!!!!!!!!!!!!!!!!!!!!!!!!!!!!!!!!!!!!!!!!!!!!!!!!!!!!!!!!!!!!!!!!!!!!!!!!!!!!!!!!!!!!!!!!!!!!!!!!!!!!!!!!!!!!!!!!!!!!!!!!!!!!!!!!!!!!!!!!!!!!!!!!!!!!!!!!!!!!!!!!!!!!!!!!!!!!!!!!!!!!!!!!!!!!!!!!!!!!!!!!!!!!!!!!!!!!!!!!!!!!!!!!!!!!!!!!!!!!!!!!!!!!!!!!!!!!!!!!!!!!!!!!!!!!!!!!!!!!!!!!!!!!!!!!!!!!!!!!!!!!!!!!!!!!!!!!!!!!!!!!!!!!!!!!!!!!!!!!!!!!!!!!!!!!!!!!!!!!!!!!!!!!!!!!!!!!!!!!!!!!!!!!!!!!!!!!!!!!!!!!!!!!!!!!!!!!!!!!!!!!!!!!!!!!!!!!!!!!!!!!!!!!!!!!!!!!!!!!!!!!!\u001b[39m..."
      ]
     },
     "execution_count": 39,
     "metadata": {},
     "output_type": "execute_result"
    }
   ],
   "source": [
    "type Applyn = { def apply[A](f: A=>A, n: Int, initVal: A): A }\n",
    "val applyn = new {\n",
    "    def apply[A](f: A=>A, n: Int, initVal: A): A = {\n",
    "        @tailrec\n",
    "        def applyCont(n: Int, cont: A=>TailRec[A]): A = {\n",
    "            n match {\n",
    "                case 0 => cont(initVal).result\n",
    "                case _ => applyCont(n-1, (r)=>tailcall(cont(f(r))))\n",
    "            }\n",
    "        }\n",
    "        applyCont(n, (r)=>done(r))\n",
    "    }\n",
    "}\n",
    "\n",
    "applyn.apply((x:String)=>x+\"!\", 10000, \"hello\")"
   ]
  },
  {
   "cell_type": "code",
   "execution_count": 42,
   "metadata": {},
   "outputs": [
    {
     "data": {
      "text/plain": [
       "defined \u001b[32mfunction\u001b[39m \u001b[36mgee\u001b[39m\n",
       "\u001b[36mres41_1\u001b[39m: (\u001b[32mString\u001b[39m, \u001b[32mInt\u001b[39m) = (\u001b[32m\"hello!!!!!!!!!!\"\u001b[39m, \u001b[32m10\u001b[39m)"
      ]
     },
     "execution_count": 42,
     "metadata": {},
     "output_type": "execute_result"
    }
   ],
   "source": [
    "def gee[A,B](f: A=>A, app: Applyn, x: (A,B)): (A,B) = {\n",
    "    (app[A](f, 10, x._1), x._2)\n",
    "}\n",
    "gee((x: String)=>x+\"!\", applyn, (\"hello\", 10))"
   ]
  },
  {
   "cell_type": "code",
   "execution_count": 44,
   "metadata": {},
   "outputs": [
    {
     "data": {
      "text/plain": [
       "defined \u001b[32mfunction\u001b[39m \u001b[36mx\u001b[39m\n",
       "defined \u001b[32mfunction\u001b[39m \u001b[36my\u001b[39m\n",
       "\u001b[36mres43_2\u001b[39m: \u001b[32mInt\u001b[39m = \u001b[32m10\u001b[39m\n",
       "\u001b[36mres43_3\u001b[39m: \u001b[32mInt\u001b[39m = \u001b[32m1\u001b[39m"
      ]
     },
     "execution_count": 44,
     "metadata": {},
     "output_type": "execute_result"
    }
   ],
   "source": [
    "def x:Int=>Int = (x)=>x\n",
    "def y:String=>Int = (x)=>1\n",
    "x(10)\n",
    "y(\"10\")"
   ]
  },
  {
   "cell_type": "code",
   "execution_count": 55,
   "metadata": {},
   "outputs": [
    {
     "data": {
      "text/plain": [
       "defined \u001b[32mtype\u001b[39m \u001b[36mT\u001b[39m\n",
       "\u001b[36mitem\u001b[39m: \u001b[32mT\u001b[39m = ammonite.$sess.cmd54$Helper$$anon$1@511bb892\n",
       "defined \u001b[32mobject\u001b[39m \u001b[36mitem1\u001b[39m\n",
       "\u001b[36mx\u001b[39m: \u001b[32mT\u001b[39m = ammonite.$sess.cmd54$Helper$item1$@27425713"
      ]
     },
     "execution_count": 55,
     "metadata": {},
     "output_type": "execute_result"
    }
   ],
   "source": [
    "type T = {\n",
    "    val x: Int\n",
    "    val y: Int\n",
    "}\n",
    "\n",
    "val item: T = new {\n",
    "    val x = 1\n",
    "    val y = 1\n",
    "}\n",
    "\n",
    "object item1 {\n",
    "    val x = 1\n",
    "    val y = 1\n",
    "}\n",
    "\n",
    "val x: T = item1"
   ]
  },
  {
   "cell_type": "code",
   "execution_count": 5,
   "metadata": {
    "scrolled": true
   },
   "outputs": [
    {
     "data": {
      "text/plain": [
       "\u001b[32mimport \u001b[39m\u001b[36mscala.annotation.tailrec\n",
       "\u001b[39m\n",
       "\u001b[32mimport \u001b[39m\u001b[36mscala.util.control.TailCalls._\n",
       "\n",
       "\u001b[39m\n",
       "defined \u001b[32mclass\u001b[39m \u001b[36mBtree\u001b[39m\n",
       "defined \u001b[32mclass\u001b[39m \u001b[36mLeaf\u001b[39m\n",
       "defined \u001b[32mclass\u001b[39m \u001b[36mNode\u001b[39m\n",
       "defined \u001b[32mclass\u001b[39m \u001b[36mBList\u001b[39m\n",
       "defined \u001b[32mclass\u001b[39m \u001b[36mBNil\u001b[39m\n",
       "defined \u001b[32mclass\u001b[39m \u001b[36mBCons\u001b[39m\n",
       "defined \u001b[32mfunction\u001b[39m \u001b[36mgen\u001b[39m\n",
       "defined \u001b[32mfunction\u001b[39m \u001b[36mfind\u001b[39m\n",
       "\u001b[36mres4_10\u001b[39m: \u001b[32mBoolean\u001b[39m = false"
      ]
     },
     "execution_count": 5,
     "metadata": {},
     "output_type": "execute_result"
    }
   ],
   "source": [
    "import scala.annotation.tailrec\n",
    "import scala.util.control.TailCalls._\n",
    "\n",
    "sealed abstract class Btree[A]\n",
    "case class Leaf[A]() extends Btree[A]\n",
    "case class Node[A](v: A, lt: Btree[A], rt: Btree[A]) extends Btree[A]\n",
    "\n",
    "sealed abstract class BList[A]\n",
    "case class BNil[A]() extends BList[A]\n",
    "case class BCons[A](hd: A, tl: BList[A]) extends BList[A]\n",
    "\n",
    "\n",
    "def gen[A](v: A, n: Int): Btree[A] = {\n",
    "    @tailrec\n",
    "    def genIter(n: Int, x: Btree[A]): Btree[A] = {\n",
    "        if (n <= 0) x\n",
    "        else genIter(n-1, Node(v, x, Leaf()))\n",
    "    }\n",
    "    genIter(n, Leaf())\n",
    "}\n",
    "\n",
    "def find[A](t: Btree[A], value: A): Boolean = {\n",
    "    def findIter(x: BList[Btree[A]]): Boolean = {\n",
    "        x match {\n",
    "            case BNil() => false\n",
    "            case BCons(Leaf(), tl) => findIter(tl)\n",
    "            case BCons(Node(v, _, _), _) if (v == value) => true\n",
    "            case BCons(Node(_, lt, rt), tl) => findIter(BCons(lt, BCons(rt, tl)))\n",
    "        }\n",
    "    }\n",
    "    findIter(BCons(t, BNil()))\n",
    "}\n",
    "find(Leaf(), \"hello\")\n"
   ]
  },
  {
   "cell_type": "code",
   "execution_count": 4,
   "metadata": {},
   "outputs": [
    {
     "data": {
      "text/plain": [
       "defined \u001b[32mclass\u001b[39m \u001b[36mMyTree\u001b[39m"
      ]
     },
     "execution_count": 4,
     "metadata": {},
     "output_type": "execute_result"
    }
   ],
   "source": [
    "case class MyTree[A](val value: A, val left: Option[MyTree[A]], val right: Option[MyTree[A]])"
   ]
  },
  {
   "cell_type": "code",
   "execution_count": 10,
   "metadata": {},
   "outputs": [
    {
     "data": {
      "text/plain": [
       "\u001b[36mt1\u001b[39m: \u001b[32mSome\u001b[39m[\u001b[32mMyTree\u001b[39m[\u001b[32mInt\u001b[39m]] = \u001b[33mSome\u001b[39m(\u001b[33mMyTree\u001b[39m(\u001b[32m3\u001b[39m, \u001b[32mNone\u001b[39m, \u001b[33mSome\u001b[39m(\u001b[33mMyTree\u001b[39m(\u001b[32m3\u001b[39m, \u001b[32mNone\u001b[39m, \u001b[32mNone\u001b[39m))))"
      ]
     },
     "execution_count": 10,
     "metadata": {},
     "output_type": "execute_result"
    }
   ],
   "source": [
    "val t1 = Some(MyTree(3, None, Some(MyTree(3, None, None))))"
   ]
  },
  {
   "cell_type": "code",
   "execution_count": 36,
   "metadata": {},
   "outputs": [
    {
     "name": "stdout",
     "output_type": "stream",
     "text": [
      "Cons"
     ]
    },
    {
     "data": {
      "text/plain": [
       "defined \u001b[32mclass\u001b[39m \u001b[36mMyList\u001b[39m\n",
       "defined \u001b[32mclass\u001b[39m \u001b[36mMyNil\u001b[39m\n",
       "defined \u001b[32mclass\u001b[39m \u001b[36mMyCons\u001b[39m\n",
       "\u001b[36ml\u001b[39m: \u001b[32mMyList\u001b[39m[\u001b[32mInt\u001b[39m] = \u001b[33mMyCons\u001b[39m(\u001b[32m3\u001b[39m, MyNil())\n",
       "\u001b[36mres35_4\u001b[39m: \u001b[32mreflect\u001b[39m.\u001b[32mruntime\u001b[39m.\u001b[32mpackage\u001b[39m.\u001b[32muniverse\u001b[39m.\u001b[32mType\u001b[39m = \u001b[33mTypeRef\u001b[39m(\n",
       "  \u001b[33mThisType\u001b[39m(class Helper),\n",
       "  class MyList,\n",
       "  \u001b[33mList\u001b[39m(\u001b[33mTypeRef\u001b[39m(\u001b[33mThisType\u001b[39m(package scala), class Int, \u001b[33mList\u001b[39m()))\n",
       ")"
      ]
     },
     "execution_count": 36,
     "metadata": {},
     "output_type": "execute_result"
    }
   ],
   "source": [
    "sealed abstract class MyList[A]\n",
    "case class MyNil[A]() extends MyList[A]\n",
    "case class MyCons[A](val hd: A, val tl: MyList[A]) extends MyList[A]\n",
    "\n",
    "val l: MyList[Int] = MyCons(3, MyNil())\n",
    "typeOf(l)\n",
    "l match {\n",
    "     case MyNil() => print(\"Nil\")\n",
    "     case MyCons(hd, tl) => print(\"Cons\")\n",
    "}"
   ]
  },
  {
   "cell_type": "code",
   "execution_count": 7,
   "metadata": {},
   "outputs": [
    {
     "data": {
      "text/plain": [
       "defined \u001b[32mclass\u001b[39m \u001b[36mIter\u001b[39m\n",
       "defined \u001b[32mfunction\u001b[39m \u001b[36msumElements\u001b[39m\n",
       "defined \u001b[32mfunction\u001b[39m \u001b[36mprintElements\u001b[39m"
      ]
     },
     "execution_count": 7,
     "metadata": {},
     "output_type": "execute_result"
    }
   ],
   "source": [
    "abstract class Iter[A] {\n",
    "    def getValue: Option[A]\n",
    "    def getNext: Iter[A]\n",
    "}\n",
    "\n",
    "def sumElements[A](f: A=>Int)(x: Iter[A]): Int = {\n",
    "    x.getValue match {\n",
    "        case None => 0\n",
    "        case Some(n) => f(n) + sumElements(f)(x.getNext)\n",
    "    }\n",
    "}\n",
    "\n",
    "def printElements[A](x: Iter[A]): Any = {\n",
    "    x.getValue match {\n",
    "        case None => return\n",
    "        case Some(n) => print(n+\" \"); printElements(x.getNext)\n",
    "    }\n",
    "}"
   ]
  },
  {
   "cell_type": "code",
   "execution_count": 15,
   "metadata": {},
   "outputs": [
    {
     "name": "stdout",
     "output_type": "stream",
     "text": [
      "3 5 7 "
     ]
    },
    {
     "data": {
      "text/plain": [
       "defined \u001b[32mclass\u001b[39m \u001b[36mMyList\u001b[39m\n",
       "defined \u001b[32mclass\u001b[39m \u001b[36mMyNil\u001b[39m\n",
       "defined \u001b[32mclass\u001b[39m \u001b[36mMyCons\u001b[39m\n",
       "\u001b[36mx\u001b[39m: \u001b[32mMyCons\u001b[39m[\u001b[32mInt\u001b[39m] = \u001b[33mMyCons\u001b[39m(\u001b[32m3\u001b[39m, \u001b[33mMyCons\u001b[39m(\u001b[32m5\u001b[39m, \u001b[33mMyCons\u001b[39m(\u001b[32m7\u001b[39m, MyNil())))\n",
       "\u001b[36mres14_4\u001b[39m: \u001b[32mInt\u001b[39m = \u001b[32m15\u001b[39m\n",
       "\u001b[36mres14_5\u001b[39m: \u001b[32mAny\u001b[39m = ()"
      ]
     },
     "execution_count": 15,
     "metadata": {},
     "output_type": "execute_result"
    }
   ],
   "source": [
    "abstract class MyList[A] extends Iter[A] {\n",
    "    def append(lst: MyList[A]): MyList[A]\n",
    "}\n",
    "case class MyNil[A]() extends MyList[A] {\n",
    "    def getValue = None\n",
    "    def getNext = throw new Exception(\"...\")\n",
    "    def append(lst: MyList[A]) = lst\n",
    "}\n",
    "case class MyCons[A](hd: A, tl: MyList[A]) extends MyList[A] {\n",
    "    def getValue = Some(hd)\n",
    "    def getNext = tl\n",
    "    def append(lst: MyList[A]) = MyCons(hd, tl.append(lst))\n",
    "}\n",
    "val x = MyCons(3, MyCons(5, MyCons(7, MyNil())))\n",
    "sumElements((x:Int)=>x)(x)\n",
    "printElements(x)"
   ]
  },
  {
   "cell_type": "code",
   "execution_count": 9,
   "metadata": {},
   "outputs": [
    {
     "name": "stdout",
     "output_type": "stream",
     "text": [
      "4 3 2 1 "
     ]
    },
    {
     "data": {
      "text/plain": [
       "defined \u001b[32mclass\u001b[39m \u001b[36mCounter\u001b[39m\n",
       "\u001b[36mx\u001b[39m: \u001b[32mCounter\u001b[39m = \u001b[33mCounter\u001b[39m(\u001b[32m5\u001b[39m)\n",
       "\u001b[36mres8_2\u001b[39m: \u001b[32mInt\u001b[39m = \u001b[32m15\u001b[39m\n",
       "\u001b[36mres8_3\u001b[39m: \u001b[32mAny\u001b[39m = ()"
      ]
     },
     "execution_count": 9,
     "metadata": {},
     "output_type": "execute_result"
    }
   ],
   "source": [
    "case class Counter(x: Int) extends Iter[Int] {\n",
    "    def getValue = if (x > 0) Some(x) else None\n",
    "    def getNext = if (x > 0) Counter(x-1) else throw new Exception(\"...\")\n",
    "}\n",
    "val x = Counter(5)\n",
    "sumElements((x:Int)=>x)(x)\n",
    "printElements(Counter(4))"
   ]
  },
  {
   "cell_type": "code",
   "execution_count": 18,
   "metadata": {},
   "outputs": [
    {
     "data": {
      "text/plain": [
       "defined \u001b[32mclass\u001b[39m \u001b[36mIterable\u001b[39m\n",
       "defined \u001b[32mclass\u001b[39m \u001b[36mListIter\u001b[39m"
      ]
     },
     "execution_count": 18,
     "metadata": {},
     "output_type": "execute_result"
    }
   ],
   "source": [
    "abstract class Iterable[A] {\n",
    "    def iter: Iter[A]\n",
    "}\n",
    "case class ListIter[A](val list: List[A]) extends Iter[A] {\n",
    "    def getValue = list.headOption\n",
    "    def getNext = new ListIter(list.tail)\n",
    "}"
   ]
  },
  {
   "cell_type": "code",
   "execution_count": 44,
   "metadata": {},
   "outputs": [
    {
     "data": {
      "text/plain": [
       "defined \u001b[32mclass\u001b[39m \u001b[36mMyTree\u001b[39m\n",
       "defined \u001b[32mclass\u001b[39m \u001b[36mEmpty\u001b[39m\n",
       "defined \u001b[32mclass\u001b[39m \u001b[36mNode\u001b[39m\n",
       "\u001b[36mres43_3\u001b[39m: \u001b[32mEmpty\u001b[39m[\u001b[32mInt\u001b[39m] = Empty()"
      ]
     },
     "execution_count": 44,
     "metadata": {},
     "output_type": "execute_result"
    }
   ],
   "source": [
    "abstract class MyTree[A] extends Iterable[A] {\n",
    "    def iter: ListIter[A]\n",
    "}\n",
    "case class Empty[A]() extends MyTree[A] {\n",
    "    val iter = ListIter(Nil)\n",
    "}\n",
    "case class Node[A](value: A, left: MyTree[A], right: MyTree[A]) extends MyTree[A] {\n",
    "    val iter = ListIter(value :: left.iter.list ++ right.iter.list)\n",
    "}"
   ]
  },
  {
   "cell_type": "code",
   "execution_count": 24,
   "metadata": {},
   "outputs": [
    {
     "name": "stdout",
     "output_type": "stream",
     "text": [
      "3 4 2 3 5 "
     ]
    },
    {
     "data": {
      "text/plain": [
       "\u001b[36mt\u001b[39m: \u001b[32mMyTree\u001b[39m[\u001b[32mInt\u001b[39m] = \u001b[33mNode\u001b[39m(\n",
       "  \u001b[32m3\u001b[39m,\n",
       "  \u001b[33mNode\u001b[39m(\u001b[32m4\u001b[39m, \u001b[33mNode\u001b[39m(\u001b[32m2\u001b[39m, Empty(), Empty()), \u001b[33mNode\u001b[39m(\u001b[32m3\u001b[39m, Empty(), Empty())),\n",
       "  \u001b[33mNode\u001b[39m(\u001b[32m5\u001b[39m, Empty(), Empty())\n",
       ")\n",
       "\u001b[36mres23_1\u001b[39m: \u001b[32mAny\u001b[39m = ()"
      ]
     },
     "execution_count": 24,
     "metadata": {},
     "output_type": "execute_result"
    }
   ],
   "source": [
    "val t: MyTree[Int] = Node(3, Node(4, Node(2, Empty(), Empty()), Node(3, Empty(), Empty())), Node(5, Empty(), Empty()))\n",
    "printElements(t.iter)"
   ]
  },
  {
   "cell_type": "code",
   "execution_count": 34,
   "metadata": {},
   "outputs": [
    {
     "data": {
      "text/plain": [
       "defined \u001b[32mtrait\u001b[39m \u001b[36mOrd\u001b[39m\n",
       "defined \u001b[32mfunction\u001b[39m \u001b[36mmax2\u001b[39m"
      ]
     },
     "execution_count": 34,
     "metadata": {},
     "output_type": "execute_result"
    }
   ],
   "source": [
    "trait Ord[A] {\n",
    "    def cmp(me: A, you: A): Int\n",
    "    def ===(me: A, you: A): Boolean = cmp(me, you) == 0\n",
    "    def <  (me: A, you: A): Boolean = cmp(me, you) <  0\n",
    "    def <= (me: A, you: A): Boolean = cmp(me, you) <= 0\n",
    "    def >  (me: A, you: A): Boolean = cmp(me, you) >  0\n",
    "    def >= (me: A, you: A): Boolean = cmp(me, you) >= 0\n",
    "}\n",
    "def max2[A](a: A, b: A)(implicit ord: Ord[A]): A = {\n",
    "    if (ord.>(a, b)) a else b\n",
    "}"
   ]
  },
  {
   "cell_type": "code",
   "execution_count": 38,
   "metadata": {},
   "outputs": [
    {
     "data": {
      "text/plain": [
       "defined \u001b[32mfunction\u001b[39m \u001b[36mOrdInt\u001b[39m"
      ]
     },
     "execution_count": 38,
     "metadata": {},
     "output_type": "execute_result"
    }
   ],
   "source": [
    "implicit def OrdInt: Ord[Int] = new Ord[Int] {\n",
    "    def cmp(me: Int, you: Int) = me - you\n",
    "}"
   ]
  },
  {
   "cell_type": "code",
   "execution_count": 39,
   "metadata": {},
   "outputs": [
    {
     "data": {
      "text/plain": [
       "\u001b[36mres38\u001b[39m: \u001b[32mInt\u001b[39m = \u001b[32m2\u001b[39m"
      ]
     },
     "execution_count": 39,
     "metadata": {},
     "output_type": "execute_result"
    }
   ],
   "source": [
    "max2(1, 2)"
   ]
  },
  {
   "cell_type": "code",
   "execution_count": 81,
   "metadata": {},
   "outputs": [
    {
     "data": {
      "text/plain": [
       "defined \u001b[32mclass\u001b[39m \u001b[36mBag\u001b[39m"
      ]
     },
     "execution_count": 81,
     "metadata": {},
     "output_type": "execute_result"
    }
   ],
   "source": [
    "case class Bag[A] protected(val list: List[A])(implicit ord: Ord[A]) {\n",
    "    def this()(implicit ord: Ord[A]) = this(Nil)(ord)\n",
    "    def add(x: A): Bag[A] = {\n",
    "        new Bag(list++List(x))\n",
    "    }\n",
    "}"
   ]
  },
  {
   "cell_type": "code",
   "execution_count": 82,
   "metadata": {},
   "outputs": [
    {
     "data": {
      "text/plain": [
       "\u001b[36mres81\u001b[39m: \u001b[32mList\u001b[39m[\u001b[32mInt\u001b[39m] = \u001b[33mList\u001b[39m(\u001b[32m3\u001b[39m, \u001b[32m2\u001b[39m, \u001b[32m10\u001b[39m)"
      ]
     },
     "execution_count": 82,
     "metadata": {},
     "output_type": "execute_result"
    }
   ],
   "source": [
    "new Bag[Int]().add(3).add(2).add(10).list"
   ]
  },
  {
   "cell_type": "code",
   "execution_count": 99,
   "metadata": {},
   "outputs": [
    {
     "data": {
      "text/plain": [
       "defined \u001b[32mfunction\u001b[39m \u001b[36mOrdTuple\u001b[39m\n",
       "defined \u001b[32mfunction\u001b[39m \u001b[36mOrdList\u001b[39m"
      ]
     },
     "execution_count": 99,
     "metadata": {},
     "output_type": "execute_result"
    }
   ],
   "source": [
    "implicit def OrdTuple[A,B](implicit ordA: Ord[A], ordB: Ord[B]): Ord[(A,B)] = new Ord[(A,B)] {\n",
    "    def cmp(me: (A,B), you: (A,B)): Int = {\n",
    "        val c1 = ordA.cmp(me._1, you._1)\n",
    "        if (c1 == 0) ordB.cmp(me._2, you._2)\n",
    "        else c1\n",
    "    }\n",
    "}\n",
    "\n",
    "implicit def OrdList[A](implicit ordA: Ord[A]): Ord[List[A]] = new Ord[List[A]] {\n",
    "    def cmp(me: List[A], you: List[A]): Int = {\n",
    "        if (me.length == you.length) {\n",
    "            def cmpIter(i: Int): Int = {\n",
    "                if (i >= me.length) 0\n",
    "                else if (ordA.===(me(i), you(i))) cmpIter(i+1)\n",
    "                else ordA.cmp(me(i), you(i))\n",
    "            }\n",
    "            cmpIter(0)\n",
    "        }\n",
    "        else me.length - you.length\n",
    "    }\n",
    "}"
   ]
  },
  {
   "cell_type": "code",
   "execution_count": 102,
   "metadata": {},
   "outputs": [
    {
     "data": {
      "text/plain": [
       "\u001b[36mres101_0\u001b[39m: (\u001b[32mInt\u001b[39m, \u001b[32mInt\u001b[39m) = (\u001b[32m2\u001b[39m, \u001b[32m3\u001b[39m)\n",
       "\u001b[36mres101_1\u001b[39m: \u001b[32mList\u001b[39m[\u001b[32mInt\u001b[39m] = \u001b[33mList\u001b[39m(\u001b[32m1\u001b[39m, \u001b[32m2\u001b[39m, \u001b[32m3\u001b[39m)\n",
       "\u001b[36mres101_2\u001b[39m: \u001b[32mList\u001b[39m[\u001b[32mInt\u001b[39m] = \u001b[33mList\u001b[39m(\u001b[32m1\u001b[39m, \u001b[32m2\u001b[39m, \u001b[32m3\u001b[39m)\n",
       "\u001b[36mres101_3\u001b[39m: \u001b[32mList\u001b[39m[\u001b[32mInt\u001b[39m] = \u001b[33mList\u001b[39m(\u001b[32m2\u001b[39m, \u001b[32m6\u001b[39m, \u001b[32m5\u001b[39m)"
      ]
     },
     "execution_count": 102,
     "metadata": {},
     "output_type": "execute_result"
    }
   ],
   "source": [
    "max2((1,2), (2,3))\n",
    "max2(List(1,2,3), List(1,2))\n",
    "max2(List(1,2,3), List(1,2,3))\n",
    "max2(List(2,4,3), List(2,6,5))"
   ]
  },
  {
   "cell_type": "code",
   "execution_count": 7,
   "metadata": {},
   "outputs": [
    {
     "data": {
      "text/plain": [
       "defined \u001b[32mtrait\u001b[39m \u001b[36mIter\u001b[39m\n",
       "defined \u001b[32mtrait\u001b[39m \u001b[36mIterable\u001b[39m"
      ]
     },
     "execution_count": 7,
     "metadata": {},
     "output_type": "execute_result"
    }
   ],
   "source": [
    "trait Iter[I,A] {\n",
    "    def getValue(i: I): Option[A]\n",
    "    def getNext(i: I): I\n",
    "}\n",
    "trait Iterable[R,A] {\n",
    "    type Itr\n",
    "    def iterIF: Iter[Itr, A]\n",
    "    def iter(a: R): Itr\n",
    "}"
   ]
  },
  {
   "cell_type": "code",
   "execution_count": 8,
   "metadata": {},
   "outputs": [
    {
     "data": {
      "text/plain": [
       "defined \u001b[32mfunction\u001b[39m \u001b[36msumElements\u001b[39m\n",
       "defined \u001b[32mfunction\u001b[39m \u001b[36msumElements2\u001b[39m"
      ]
     },
     "execution_count": 8,
     "metadata": {},
     "output_type": "execute_result"
    }
   ],
   "source": [
    "def sumElements[I](x: I)(implicit IT:Iter[I,Int]): Int = {\n",
    "    IT.getValue(x) match {\n",
    "        case None => 0\n",
    "        case Some(n) => n + sumElements(IT.getNext(x))\n",
    "    }\n",
    "}\n",
    "def sumElements2[R](x: R)(implicit ITR:Iterable[R,Int]): Int = {\n",
    "    sumElements(ITR.iter(x))(ITR.iterIF)\n",
    "}"
   ]
  },
  {
   "cell_type": "code",
   "execution_count": 9,
   "metadata": {},
   "outputs": [
    {
     "data": {
      "text/plain": [
       "defined \u001b[32mfunction\u001b[39m \u001b[36mprintElements\u001b[39m\n",
       "defined \u001b[32mfunction\u001b[39m \u001b[36mprintElements2\u001b[39m"
      ]
     },
     "execution_count": 9,
     "metadata": {},
     "output_type": "execute_result"
    }
   ],
   "source": [
    "def printElements[I,A](x: I)(implicit IT:Iter[I,A]): Any = {\n",
    "    IT.getValue(x) match {\n",
    "        case None =>\n",
    "        case Some(n) => {print(n + \" \"); printElements(IT.getNext(x))}\n",
    "    }\n",
    "}\n",
    "def printElements2[R,A](x: R)(implicit ITR:Iterable[R,A]): Any = {\n",
    "    printElements(ITR.iter(x))(ITR.iterIF)\n",
    "}"
   ]
  },
  {
   "cell_type": "code",
   "execution_count": 10,
   "metadata": {},
   "outputs": [
    {
     "data": {
      "text/plain": [
       "defined \u001b[32mtrait\u001b[39m \u001b[36mListIF\u001b[39m"
      ]
     },
     "execution_count": 10,
     "metadata": {},
     "output_type": "execute_result"
    }
   ],
   "source": [
    "trait ListIF[L,A] {\n",
    "    def empty: L\n",
    "    def head(l: L): Option[A]\n",
    "    def tail(l: L): L\n",
    "    def cons(a: A, l: L): L\n",
    "    def append(l1: L, l2: L): L\n",
    "}"
   ]
  },
  {
   "cell_type": "code",
   "execution_count": 11,
   "metadata": {},
   "outputs": [
    {
     "name": "stdout",
     "output_type": "stream",
     "text": [
      "3 5 2 1 "
     ]
    },
    {
     "data": {
      "text/plain": [
       "defined \u001b[32mfunction\u001b[39m \u001b[36mlistIter\u001b[39m\n",
       "defined \u001b[32mfunction\u001b[39m \u001b[36mlistIF\u001b[39m\n",
       "defined \u001b[32mfunction\u001b[39m \u001b[36mtestList\u001b[39m"
      ]
     },
     "execution_count": 11,
     "metadata": {},
     "output_type": "execute_result"
    }
   ],
   "source": [
    "implicit def listIter[A] = new Iter[List[A],A] {\n",
    "    def getValue(a: List[A]) = a.headOption\n",
    "    def getNext(a: List[A]) = a.tail\n",
    "}\n",
    "implicit def listIF[A] = new ListIF[List[A],A] {\n",
    "    def empty: List[A] = Nil\n",
    "    def head(l: List[A]) = l.headOption\n",
    "    def tail(l: List[A]) = l.tail\n",
    "    def cons(a: A, l: List[A]) = a::l\n",
    "    def append(l1: List[A], l2: List[A]) = l1++l2\n",
    "}\n",
    "def testList[L](implicit LI: ListIF[L,Int], IT: Iter[L,Int]) {\n",
    "    val l = LI.cons(3, LI.cons(5, LI.cons(2, LI.cons(1, LI.empty))))\n",
    "    printElements(l)\n",
    "}\n",
    "testList"
   ]
  },
  {
   "cell_type": "code",
   "execution_count": 12,
   "metadata": {},
   "outputs": [
    {
     "data": {
      "text/plain": [
       "defined \u001b[32mtrait\u001b[39m \u001b[36mTreeIF\u001b[39m"
      ]
     },
     "execution_count": 12,
     "metadata": {},
     "output_type": "execute_result"
    }
   ],
   "source": [
    "trait TreeIF[T,A] {\n",
    "    def empty: T\n",
    "    def node(a: A, l: T, r: T): T\n",
    "    def head(t: T): Option[A]\n",
    "    def left(t: T): T\n",
    "    def right(t: T): T\n",
    "}"
   ]
  },
  {
   "cell_type": "code",
   "execution_count": 13,
   "metadata": {},
   "outputs": [
    {
     "data": {
      "text/plain": [
       "defined \u001b[32mclass\u001b[39m \u001b[36mMyTree\u001b[39m\n",
       "defined \u001b[32mclass\u001b[39m \u001b[36mEmpty\u001b[39m\n",
       "defined \u001b[32mclass\u001b[39m \u001b[36mNode\u001b[39m"
      ]
     },
     "execution_count": 13,
     "metadata": {},
     "output_type": "execute_result"
    }
   ],
   "source": [
    "abstract class MyTree[A]\n",
    "case class Empty[A]() extends MyTree[A]\n",
    "case class Node[A](value: A, left: MyTree[A], right: MyTree[A]) extends MyTree[A]"
   ]
  },
  {
   "cell_type": "code",
   "execution_count": 14,
   "metadata": {},
   "outputs": [
    {
     "data": {
      "text/plain": [
       "defined \u001b[32mfunction\u001b[39m \u001b[36mtreeIF\u001b[39m"
      ]
     },
     "execution_count": 14,
     "metadata": {},
     "output_type": "execute_result"
    }
   ],
   "source": [
    "implicit def treeIF[A]: TreeIF[MyTree[A],A] = new TreeIF[MyTree[A],A] {\n",
    "    def empty = Empty()\n",
    "    def node(a: A, l: MyTree[A], r: MyTree[A]) = node(a, l, r)\n",
    "    def head(t: MyTree[A]) = t match {\n",
    "        case Empty() => None\n",
    "        case Node(v,_,_) => Some(v)\n",
    "    }\n",
    "    def left(t: MyTree[A]) = t match {\n",
    "        case Empty() => t\n",
    "        case Node(_,lt,_) => lt\n",
    "    }\n",
    "    def right(t: MyTree[A]) = t match {\n",
    "        case Empty() => t\n",
    "        case Node(_,_,rt) => rt\n",
    "    }\n",
    "}"
   ]
  },
  {
   "cell_type": "code",
   "execution_count": 15,
   "metadata": {},
   "outputs": [
    {
     "data": {
      "text/plain": [
       "defined \u001b[32mfunction\u001b[39m \u001b[36mtreeIterable\u001b[39m"
      ]
     },
     "execution_count": 15,
     "metadata": {},
     "output_type": "execute_result"
    }
   ],
   "source": [
    "def treeIterable[L,A](implicit IF: ListIF[L,A], IT: Iter[L,A]) = new Iterable[MyTree[A],A] {\n",
    "    type Itr = L\n",
    "    def iter(a: MyTree[A]): L = a match {\n",
    "        case Empty() => IF.empty\n",
    "        case Node(v, left, right) => IF.cons(v, IF.append(iter(left), iter(right)))\n",
    "    }\n",
    "    val iterIF = IT\n",
    "}"
   ]
  },
  {
   "cell_type": "code",
   "execution_count": 1,
   "metadata": {},
   "outputs": [
    {
     "data": {
      "text/plain": [
       "defined \u001b[32mtrait\u001b[39m \u001b[36mIter\u001b[39m\n",
       "defined \u001b[32mtrait\u001b[39m \u001b[36mIterable\u001b[39m\n",
       "defined \u001b[32mfunction\u001b[39m \u001b[36msumElements\u001b[39m\n",
       "defined \u001b[32mfunction\u001b[39m \u001b[36msumElements2\u001b[39m\n",
       "defined \u001b[32mfunction\u001b[39m \u001b[36mprintElements\u001b[39m\n",
       "defined \u001b[32mfunction\u001b[39m \u001b[36mprintElements2\u001b[39m"
      ]
     },
     "execution_count": 1,
     "metadata": {},
     "output_type": "execute_result"
    }
   ],
   "source": [
    "trait Iter[I[_]] {\n",
    "    def getValue[A](a: I[A]): Option[A]\n",
    "    def getNext[A](a: I[A]): I[A]\n",
    "}\n",
    "\n",
    "trait Iterable[R[_]] {\n",
    "    type Itr[_]\n",
    "    def iter[A](a: R[A]): Itr[A]\n",
    "    def iterIF: Iter[Itr]\n",
    "}\n",
    "\n",
    "def sumElements[I[_]](x: I[Int])(implicit IT: Iter[I]): Int = {\n",
    "    IT.getValue(x) match {\n",
    "        case None => 0\n",
    "        case Some(n) => n + sumElements(IT.getNext(x))\n",
    "    }\n",
    "}\n",
    "def sumElements2[R[_]](x: R[Int])(implicit ITR: Iterable[R]): Int = {\n",
    "    sumElements(ITR.iter(x))(ITR.iterIF)\n",
    "}\n",
    "def printElements[I[_],A](x: I[A])(implicit IT: Iter[I]): Any = {\n",
    "    IT.getValue(x) match {\n",
    "        case None => 0\n",
    "        case Some(n) => {print(n+\" \"); printElements(IT.getNext(x))}\n",
    "    }\n",
    "}\n",
    "def printElements2[R[_],A](x: R[A])(implicit ITR:Iterable[R]): Any = {\n",
    "    printElements(ITR.iter(x))(ITR.iterIF)\n",
    "}"
   ]
  },
  {
   "cell_type": "code",
   "execution_count": 2,
   "metadata": {},
   "outputs": [
    {
     "data": {
      "text/plain": [
       "defined \u001b[32mtrait\u001b[39m \u001b[36mListIF\u001b[39m"
      ]
     },
     "execution_count": 2,
     "metadata": {},
     "output_type": "execute_result"
    }
   ],
   "source": [
    "trait ListIF[L[_]] {\n",
    "    def empty[A]: L[A]\n",
    "    def head[A](l: L[A]): Option[A]\n",
    "    def tail[A](l: L[A]): L[A]\n",
    "    def cons[A](a: A, l: L[A]): L[A]\n",
    "    def append[A](l1: L[A], l2: L[A]): L[A]\n",
    "    def length[A](l: L[A]): Int\n",
    "    def map[A,B](f: A=>B)(l: L[A]): L[B]\n",
    "}"
   ]
  },
  {
   "cell_type": "code",
   "execution_count": 3,
   "metadata": {},
   "outputs": [
    {
     "data": {
      "text/plain": [
       "defined \u001b[32mfunction\u001b[39m \u001b[36mlistIter\u001b[39m\n",
       "defined \u001b[32mfunction\u001b[39m \u001b[36mlistIF\u001b[39m"
      ]
     },
     "execution_count": 3,
     "metadata": {},
     "output_type": "execute_result"
    }
   ],
   "source": [
    "implicit def listIter = new Iter[List] {\n",
    "    def getValue[A](a: List[A]) = a.headOption\n",
    "    def getNext[A](a: List[A]) = a.tail\n",
    "}\n",
    "\n",
    "implicit def listIF = new ListIF[List] {\n",
    "    def empty[A] = Nil\n",
    "    def head[A](l: List[A]) = l.headOption\n",
    "    def tail[A](l: List[A]) = l.tail\n",
    "    def cons[A](a: A, l: List[A]) = a::l\n",
    "    def append[A](l1: List[A], l2: List[A]) = l1++l2\n",
    "    def length[A](l: List[A]) = l.length\n",
    "    def map[A,B](f: A=>B)(l: List[A]) = l.map(f)\n",
    "}\n"
   ]
  },
  {
   "cell_type": "code",
   "execution_count": 4,
   "metadata": {},
   "outputs": [
    {
     "name": "stdout",
     "output_type": "stream",
     "text": [
      "1 2 4 7 3 3 "
     ]
    },
    {
     "data": {
      "text/plain": [
       "defined \u001b[32mtype\u001b[39m \u001b[36mL\u001b[39m\n",
       "\u001b[36mLI\u001b[39m: \u001b[32mListIF\u001b[39m[\u001b[32mL\u001b[39m] = ammonite.$sess.cmd2$Helper$$anon$2@6bbf9ee6\n",
       "\u001b[36mIT\u001b[39m: \u001b[32mIter\u001b[39m[\u001b[32mL\u001b[39m] = ammonite.$sess.cmd2$Helper$$anon$1@6221e35a\n",
       "\u001b[36ml\u001b[39m: \u001b[32mList\u001b[39m[\u001b[32mInt\u001b[39m] = \u001b[33mList\u001b[39m(\u001b[32m1\u001b[39m, \u001b[32m2\u001b[39m, \u001b[32m4\u001b[39m, \u001b[32m7\u001b[39m, \u001b[32m3\u001b[39m, \u001b[32m3\u001b[39m)\n",
       "\u001b[36mres3_4\u001b[39m: \u001b[32mAny\u001b[39m = \u001b[32m0\u001b[39m\n",
       "\u001b[36mres3_5\u001b[39m: \u001b[32mInt\u001b[39m = \u001b[32m20\u001b[39m"
      ]
     },
     "execution_count": 4,
     "metadata": {},
     "output_type": "execute_result"
    }
   ],
   "source": [
    "type L[A] = List[A]\n",
    "val LI = implicitly[ListIF[L]]\n",
    "val IT = implicitly[Iter[L]]\n",
    "val l = List(1, 2, 4, 7, 3, 3)\n",
    "printElements(l)\n",
    "sumElements(l)"
   ]
  },
  {
   "cell_type": "code",
   "execution_count": 5,
   "metadata": {},
   "outputs": [
    {
     "data": {
      "text/plain": [
       "defined \u001b[32mfunction\u001b[39m \u001b[36mlength\u001b[39m\n",
       "\u001b[36mres4_1\u001b[39m: \u001b[32mInt\u001b[39m = \u001b[32m6\u001b[39m"
      ]
     },
     "execution_count": 5,
     "metadata": {},
     "output_type": "execute_result"
    }
   ],
   "source": [
    "def length[L[_],A](l: L[A])(implicit LI: ListIF[L]) = LI.length(l)\n",
    "length(l)"
   ]
  },
  {
   "cell_type": "code",
   "execution_count": 6,
   "metadata": {},
   "outputs": [
    {
     "data": {
      "text/plain": [
       "\u001b[36mres5_0\u001b[39m: \u001b[32mInt\u001b[39m = \u001b[32m6\u001b[39m\n",
       "\u001b[36mres5_1\u001b[39m: \u001b[32mL\u001b[39m[\u001b[32mInt\u001b[39m] = \u001b[33mList\u001b[39m(\u001b[32m2\u001b[39m, \u001b[32m4\u001b[39m, \u001b[32m8\u001b[39m, \u001b[32m14\u001b[39m, \u001b[32m6\u001b[39m, \u001b[32m6\u001b[39m)"
      ]
     },
     "execution_count": 6,
     "metadata": {},
     "output_type": "execute_result"
    }
   ],
   "source": [
    "LI.length(l)\n",
    "LI.map((n: Int)=>n*2)(l)"
   ]
  },
  {
   "cell_type": "code",
   "execution_count": 7,
   "metadata": {},
   "outputs": [
    {
     "data": {
      "text/plain": [
       "defined \u001b[32mfunction\u001b[39m \u001b[36miterIterable\u001b[39m"
      ]
     },
     "execution_count": 7,
     "metadata": {},
     "output_type": "execute_result"
    }
   ],
   "source": [
    "implicit def iterIterable[I[_]](implicit IT: Iter[I]) = new Iterable[I] {\n",
    "    type Itr[A] = I[A]\n",
    "    def iter[A](a: I[A]) = a\n",
    "    def iterIF = IT\n",
    "}"
   ]
  },
  {
   "cell_type": "code",
   "execution_count": 8,
   "metadata": {},
   "outputs": [
    {
     "name": "stdout",
     "output_type": "stream",
     "text": [
      "1 2 4 7 3 3 "
     ]
    },
    {
     "data": {
      "text/plain": [
       "\u001b[36mres7_0\u001b[39m: \u001b[32mAny\u001b[39m = \u001b[32m0\u001b[39m\n",
       "\u001b[36mres7_1\u001b[39m: \u001b[32mInt\u001b[39m = \u001b[32m20\u001b[39m"
      ]
     },
     "execution_count": 8,
     "metadata": {},
     "output_type": "execute_result"
    }
   ],
   "source": [
    "printElements2(l)\n",
    "sumElements2(l)"
   ]
  },
  {
   "cell_type": "code",
   "execution_count": 9,
   "metadata": {},
   "outputs": [
    {
     "data": {
      "text/plain": [
       "defined \u001b[32mclass\u001b[39m \u001b[36mMyTree\u001b[39m\n",
       "defined \u001b[32mclass\u001b[39m \u001b[36mEmpty\u001b[39m\n",
       "defined \u001b[32mclass\u001b[39m \u001b[36mNode\u001b[39m\n",
       "defined \u001b[32mtrait\u001b[39m \u001b[36mTreeIF\u001b[39m\n",
       "defined \u001b[32mfunction\u001b[39m \u001b[36mtreeIterable\u001b[39m\n",
       "defined \u001b[32mfunction\u001b[39m \u001b[36mtreeIF\u001b[39m"
      ]
     },
     "execution_count": 9,
     "metadata": {},
     "output_type": "execute_result"
    }
   ],
   "source": [
    "abstract class MyTree[A]\n",
    "case class Empty[A]() extends MyTree[A]\n",
    "case class Node[A](value: A, left: MyTree[A], right: MyTree[A]) extends MyTree[A]\n",
    "\n",
    "trait TreeIF[T[_]] {\n",
    "    def empty[A]: T[A]\n",
    "    def node[A](a: A, l: T[A], r: T[A]): T[A]\n",
    "    def head[A](t: T[A]): Option[A]\n",
    "    def left[A](t: T[A]): T[A]\n",
    "    def right[A](t: T[A]): T[A]\n",
    "}\n",
    "\n",
    "implicit def treeIterable[L[_]](implicit IF: ListIF[L], IT: Iter[L]) = new Iterable[MyTree] {\n",
    "    type Itr[A] = L[A]\n",
    "    def iter[A](a: MyTree[A]) = a match {\n",
    "        case Empty() => IF.empty\n",
    "        case Node(v, left, right) => IF.cons(v, IF.append(iter(left), iter(right)))\n",
    "    }\n",
    "    def iterIF = IT\n",
    "}\n",
    "\n",
    "implicit def treeIF = new TreeIF[MyTree] {\n",
    "    def empty[A] = Empty()\n",
    "    def node[A](a: A, l: MyTree[A], r: MyTree[A]) = Node(a, l, r)\n",
    "    def head[A](t: MyTree[A]) = t match { \n",
    "        case Empty() => None\n",
    "        case Node(v,_,_) => Some(v)    \n",
    "    }\n",
    "    def left[A](t: MyTree[A]) = t match {\n",
    "        case Empty() => t\n",
    "        case Node(_,lt,_) => lt    \n",
    "    }\n",
    "    def right[A](t: MyTree[A]) = t match {\n",
    "        case Empty() => t\n",
    "        case Node(_,_,rt) => rt    \n",
    "    }  \n",
    "}\n",
    "// implicit val treeIterableList: Iterable[MyTree] = treeIterable[List]"
   ]
  },
  {
   "cell_type": "code",
   "execution_count": 12,
   "metadata": {},
   "outputs": [
    {
     "name": "stdout",
     "output_type": "stream",
     "text": [
      "3 4 2 "
     ]
    },
    {
     "data": {
      "text/plain": [
       "defined \u001b[32mtype\u001b[39m \u001b[36mT\u001b[39m\n",
       "\u001b[36mTI\u001b[39m: \u001b[32mTreeIF\u001b[39m[\u001b[32mT\u001b[39m] = ammonite.$sess.cmd8$Helper$$anon$2@34f3c667\n",
       "\u001b[36mITR\u001b[39m: \u001b[32mIterable\u001b[39m[\u001b[32mMyTree\u001b[39m] = ammonite.$sess.cmd8$Helper$$anon$1@9cb5eee\n",
       "\u001b[36mt\u001b[39m: \u001b[32mT\u001b[39m[\u001b[32mInt\u001b[39m] = \u001b[33mNode\u001b[39m(\u001b[32m3\u001b[39m, \u001b[33mNode\u001b[39m(\u001b[32m4\u001b[39m, Empty(), Empty()), \u001b[33mNode\u001b[39m(\u001b[32m2\u001b[39m, Empty(), Empty()))\n",
       "\u001b[36mres11_4\u001b[39m: \u001b[32mAny\u001b[39m = \u001b[32m0\u001b[39m"
      ]
     },
     "execution_count": 12,
     "metadata": {},
     "output_type": "execute_result"
    }
   ],
   "source": [
    "type T[A] = MyTree[A]\n",
    "val TI = implicitly[TreeIF[T]]\n",
    "val ITR = implicitly[Iterable[MyTree]]\n",
    "\n",
    "val t = TI.node(3, TI.node(4, TI.empty, TI.empty), TI.node(2, TI.empty, TI.empty))\n",
    "printElements2(t)"
   ]
  },
  {
   "cell_type": "code",
   "execution_count": 1,
   "metadata": {},
   "outputs": [
    {
     "name": "stdout",
     "output_type": "stream",
     "text": [
      "1 2 3 4 "
     ]
    },
    {
     "data": {
      "text/plain": [
       "defined \u001b[32mtrait\u001b[39m \u001b[36mIter\u001b[39m\n",
       "defined \u001b[32mfunction\u001b[39m \u001b[36mprintElements\u001b[39m\n",
       "defined \u001b[32mfunction\u001b[39m \u001b[36mlistIter\u001b[39m"
      ]
     },
     "execution_count": 1,
     "metadata": {},
     "output_type": "execute_result"
    }
   ],
   "source": [
    "trait Iter[I,A] {\n",
    "    def getValue(i: I): Option[A]\n",
    "    def getNext(i: I): I\n",
    "}\n",
    "\n",
    "def printElements[I,A](xs: I)(implicit IT: Iter[I,A]) {\n",
    "    IT.getValue(xs) match {\n",
    "        case None => {}\n",
    "        case Some(n) => {print(n+\" \"); printElements(IT.getNext(xs))}\n",
    "    }\n",
    "}\n",
    "\n",
    "implicit def listIter[A] = new Iter[List[A], A] {\n",
    "    def getValue(i: List[A]) = i.headOption\n",
    "    def getNext(i: List[A]) = i.tail\n",
    "}\n",
    "\n",
    "printElements(List(1,2,3,4))"
   ]
  },
  {
   "cell_type": "code",
   "execution_count": 2,
   "metadata": {},
   "outputs": [
    {
     "name": "stdout",
     "output_type": "stream",
     "text": [
      "5 4 3 2 1 "
     ]
    },
    {
     "data": {
      "text/plain": [
       "defined \u001b[32mclass\u001b[39m \u001b[36mCounter\u001b[39m\n",
       "defined \u001b[32mfunction\u001b[39m \u001b[36mcounterIter\u001b[39m"
      ]
     },
     "execution_count": 2,
     "metadata": {},
     "output_type": "execute_result"
    }
   ],
   "source": [
    "case class Counter(val v: Int)\n",
    "\n",
    "implicit def counterIter = new Iter[Counter, Int] {\n",
    "    def getValue(x: Counter) = if (x.v > 0) Some(x.v) else None\n",
    "    def getNext(x: Counter) = if (x.v > 0) Counter(x.v-1) else throw new Exception(\"...\")\n",
    "}\n",
    "\n",
    "printElements(Counter(5))"
   ]
  },
  {
   "cell_type": "code",
   "execution_count": 29,
   "metadata": {},
   "outputs": [],
   "source": [
    "// sealed abstract class Counter\n",
    "// case class Null() extends Counter\n",
    "// case class Available(val v: Int) extends Counter\n",
    "\n",
    "// implicit def counterIter[A] = new Iter[Counter, A] {\n",
    "//     def getValue(x: Counter) = if (x > 0) Some(x.v) else None\n",
    "//     def getNext(x: Counter) = if (x > 0) Counter(x.v-1) else throw new Exception(\"...\")\n",
    "// }"
   ]
  },
  {
   "cell_type": "code",
   "execution_count": 11,
   "metadata": {},
   "outputs": [
    {
     "data": {
      "text/plain": [
       "defined \u001b[32mtrait\u001b[39m \u001b[36mBox2\u001b[39m\n",
       "defined \u001b[32mobject\u001b[39m \u001b[36mBox2\u001b[39m\n",
       "defined \u001b[32mfunction\u001b[39m \u001b[36mprintList\u001b[39m\n",
       "defined \u001b[32mfunction\u001b[39m \u001b[36msumElements\u001b[39m\n",
       "defined \u001b[32mfunction\u001b[39m \u001b[36msumElementsList\u001b[39m\n",
       "defined \u001b[32mfunction\u001b[39m \u001b[36mlistIter\u001b[39m\n",
       "defined \u001b[32mfunction\u001b[39m \u001b[36mdecIter\u001b[39m"
      ]
     },
     "execution_count": 11,
     "metadata": {},
     "output_type": "execute_result"
    }
   ],
   "source": [
    "trait Box2[S[_,_],A] {\n",
    "    type Data\n",
    "    val d: Data\n",
    "    val i: S[Data,A]\n",
    "}\n",
    "object Box2 {\n",
    "    implicit def apply[S[_,_],D,A](dd: D)(implicit ii: S[D,A]): Box2[S,A] = {\n",
    "        new Box2[S,A] {\n",
    "            type Data = D\n",
    "            val d = dd\n",
    "            val i = ii\n",
    "        }\n",
    "    }\n",
    "}\n",
    "\n",
    "def printList[A](xs: List[Box2[Iter,A]]): Any = xs match {\n",
    "    case Nil => {}\n",
    "    case hd::tl => {printElements(hd.d)(hd.i); println(); printList(tl)}\n",
    "}\n",
    "\n",
    "def sumElements[I](xs: I)(implicit IT: Iter[I,Int]): Int = {\n",
    "    IT.getValue(xs) match {\n",
    "        case None => 0\n",
    "        case Some(n) => n + sumElements(IT.getNext(xs))\n",
    "    }\n",
    "}\n",
    "def sumElementsList(xs: List[Box2[Iter,Int]]): Int = {\n",
    "    xs match {\n",
    "        case Nil => 0\n",
    "        case hd::tl => sumElements(hd.d)(hd.i) + sumElementsList(tl)\n",
    "    }\n",
    "}\n",
    "implicit def listIter[A] : Iter[List[A],A] = {\n",
    "    new Iter[List[A],A] {\n",
    "        def getValue(a: List[A]) = a.headOption\n",
    "        def getNext(a: List[A]) = a.tail\n",
    "    }\n",
    "}\n",
    "\n",
    "implicit def decIter: Iter[Int,Int] = {\n",
    "    new Iter[Int,Int]{\n",
    "        def getValue(i: Int) = if (i >= 0) Some(i) else None\n",
    "        def getNext(i: Int) = i-1\n",
    "    }\n",
    "}"
   ]
  },
  {
   "cell_type": "code",
   "execution_count": 12,
   "metadata": {},
   "outputs": [
    {
     "name": "stdout",
     "output_type": "stream",
     "text": [
      "100 99 98 97 96 95 94 93 92 91 90 89 88 87 86 85 84 83 82 81 80 79 78 77 76 75 74 73 72 71 70 69 68 67 66 65 64 63 62 61 60 59 58 57 56 55 54 53 52 51 50 49 48 47 46 45 44 43 42 41 40 39 38 37 36 35 34 33 32 31 30 29 28 27 26 25 24 23 22 21 20 19 18 17 16 15 14 13 12 11 10 9 8 7 6 5 4 3 2 1 0 \n",
      "1 2 3 \n",
      "10 9 8 7 6 5 4 3 2 1 \n"
     ]
    },
    {
     "data": {
      "text/plain": [
       "\u001b[36mres11\u001b[39m: \u001b[32mAny\u001b[39m = ()"
      ]
     },
     "execution_count": 12,
     "metadata": {},
     "output_type": "execute_result"
    }
   ],
   "source": [
    "printList[Int](List(\n",
    "    100,                      // Box2(100)(decIter)\n",
    "    List(1,2,3),              // Box2(List(1,2,3))(listIter[Int])\n",
    "    Counter(10)               // Box2(10)(decIter)\n",
    "))"
   ]
  }
 ],
 "metadata": {
  "kernelspec": {
   "display_name": "Scala",
   "language": "scala",
   "name": "scala"
  },
  "language_info": {
   "codemirror_mode": "text/x-scala",
   "file_extension": ".sc",
   "mimetype": "text/x-scala",
   "name": "scala",
   "nbconvert_exporter": "script",
   "version": "2.13.3"
  }
 },
 "nbformat": 4,
 "nbformat_minor": 4
}
