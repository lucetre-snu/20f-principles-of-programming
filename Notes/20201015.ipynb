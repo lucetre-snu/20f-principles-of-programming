{
 "cells": [
  {
   "cell_type": "code",
   "execution_count": 58,
   "metadata": {},
   "outputs": [
    {
     "data": {
      "text/plain": [
       "defined \u001b[32mclass\u001b[39m \u001b[36mMyList\u001b[39m"
      ]
     },
     "execution_count": 58,
     "metadata": {},
     "output_type": "execute_result"
    }
   ],
   "source": [
    "class MyList[A](val value: A, val next: Option[MyList[A]])"
   ]
  },
  {
   "cell_type": "code",
   "execution_count": 15,
   "metadata": {},
   "outputs": [
    {
     "data": {
      "text/plain": [
       "defined \u001b[32mobject\u001b[39m \u001b[36mMyList\u001b[39m\n",
       "defined \u001b[32mtype\u001b[39m \u001b[36mYourList\u001b[39m\n",
       "\u001b[36mt0\u001b[39m: \u001b[32mNone\u001b[39m.type = \u001b[32mNone\u001b[39m\n",
       "\u001b[36mt1\u001b[39m: \u001b[32mSome\u001b[39m[\u001b[32mMyList\u001b[39m[\u001b[32mInt\u001b[39m]] = \u001b[33mSome\u001b[39m(ammonite.$sess.cmd1$Helper$MyList@4fb73a20)\n",
       "\u001b[36mt2\u001b[39m: \u001b[32mSome\u001b[39m[\u001b[32mMyList\u001b[39m[\u001b[32mInt\u001b[39m]] = \u001b[33mSome\u001b[39m(ammonite.$sess.cmd1$Helper$MyList@7d54160b)"
      ]
     },
     "execution_count": 15,
     "metadata": {},
     "output_type": "execute_result"
    }
   ],
   "source": [
    "object MyList // val MyList = new\n",
    "{\n",
    "    def apply[A](v: A, nxt: Option[MyList[A]]) =\n",
    "    new MyList(v,nxt)\n",
    "}\n",
    "type YourList[A] = Option[MyList[A]]\n",
    "\n",
    "val t0 = None\n",
    "val t1 = Some(new MyList(3, Some(new MyList(4, None))))\n",
    "// `new` removed\n",
    "val t2 = Some(MyList(3, Some(MyList(4, None))))"
   ]
  },
  {
   "cell_type": "markdown",
   "metadata": {},
   "source": [
    "### Simplification"
   ]
  },
  {
   "cell_type": "code",
   "execution_count": 9,
   "metadata": {},
   "outputs": [
    {
     "data": {
      "text/plain": [
       "defined \u001b[32mclass\u001b[39m \u001b[36mMyTree\u001b[39m"
      ]
     },
     "execution_count": 9,
     "metadata": {},
     "output_type": "execute_result"
    }
   ],
   "source": [
    "class MyTree[A](_value: A, _left: Option[MyTree[A]], _right: Option[MyTree[A]]) {\n",
    "    val value: A = _value\n",
    "    val left: Option[MyTree[A]] = _left\n",
    "    val right: Option[MyTree[A]] = _right\n",
    "}"
   ]
  },
  {
   "cell_type": "code",
   "execution_count": 10,
   "metadata": {},
   "outputs": [
    {
     "data": {
      "text/plain": [
       "defined \u001b[32mclass\u001b[39m \u001b[36mMyTree\u001b[39m"
      ]
     },
     "execution_count": 10,
     "metadata": {},
     "output_type": "execute_result"
    }
   ],
   "source": [
    "class MyTree[A](value: A, \n",
    "                left: Option[MyTree[A]], \n",
    "                right: Option[MyTree[A]])"
   ]
  },
  {
   "cell_type": "code",
   "execution_count": 12,
   "metadata": {},
   "outputs": [
    {
     "data": {
      "text/plain": [
       "defined \u001b[32mtype\u001b[39m \u001b[36mYourTree\u001b[39m\n",
       "\u001b[36mt0\u001b[39m: \u001b[32mYourTree\u001b[39m[\u001b[32mInt\u001b[39m] = \u001b[32mNone\u001b[39m\n",
       "\u001b[36mt1\u001b[39m: \u001b[32mYourTree\u001b[39m[\u001b[32mInt\u001b[39m] = \u001b[33mSome\u001b[39m(ammonite.$sess.cmd9$Helper$MyTree@4b0b6421)\n",
       "\u001b[36mt2\u001b[39m: \u001b[32mYourTree\u001b[39m[\u001b[32mInt\u001b[39m] = \u001b[33mSome\u001b[39m(ammonite.$sess.cmd9$Helper$MyTree@5a9d7a19)"
      ]
     },
     "execution_count": 12,
     "metadata": {},
     "output_type": "execute_result"
    }
   ],
   "source": [
    "type YourTree[A] = Option[MyTree[A]]\n",
    "val t0 : YourTree[Int] = None\n",
    "val t1 : YourTree[Int] = Some(new MyTree(3, None, None))\n",
    "val t2 : YourTree[Int] = Some(new MyTree(3, Some(new MyTree(4, None, None)), None))"
   ]
  },
  {
   "cell_type": "markdown",
   "metadata": {},
   "source": [
    "### Nominal Sub Typing a.k.a. Inheritance"
   ]
  },
  {
   "cell_type": "markdown",
   "metadata": {},
   "source": [
    "`gee_type <: foo_type`"
   ]
  },
  {
   "cell_type": "code",
   "execution_count": 29,
   "metadata": {},
   "outputs": [
    {
     "data": {
      "text/plain": [
       "defined \u001b[32mclass\u001b[39m \u001b[36mfoo_type\u001b[39m\n",
       "defined \u001b[32mclass\u001b[39m \u001b[36mgee_type\u001b[39m"
      ]
     },
     "execution_count": 29,
     "metadata": {},
     "output_type": "execute_result"
    }
   ],
   "source": [
    "class foo_type(x: Int, y: Int) {\n",
    "    val a : Int = x\n",
    "    def b : Int = a + y\n",
    "    def f(z: Int) : Int = b + y + z\n",
    "}\n",
    "\n",
    "class gee_type(x: Int) extends foo_type(x+1, x+2) {\n",
    "    val c : Int = f(x) + b\n",
    "    val d = 1\n",
    "}"
   ]
  },
  {
   "cell_type": "code",
   "execution_count": 28,
   "metadata": {},
   "outputs": [
    {
     "data": {
      "text/plain": [
       "defined \u001b[32mobject\u001b[39m \u001b[36mfoo_type\u001b[39m\n",
       "\u001b[36mgee_type\u001b[39m: {def apply(x: Int): ammonite.$sess.cmd26.instance.gee_type} = ammonite.$sess.cmd27$Helper$$anon$1@711c4618"
      ]
     },
     "execution_count": 28,
     "metadata": {},
     "output_type": "execute_result"
    }
   ],
   "source": [
    "object foo_type {\n",
    "    def apply(x: Int, y: Int) = new foo_type(x, y)\n",
    "}\n",
    "val gee_type = new {\n",
    "    def apply(x: Int) = new gee_type(x)\n",
    "}"
   ]
  },
  {
   "cell_type": "code",
   "execution_count": 30,
   "metadata": {},
   "outputs": [
    {
     "data": {
      "text/plain": [
       "\u001b[36mres29\u001b[39m: \u001b[32mInt\u001b[39m = \u001b[32m188\u001b[39m"
      ]
     },
     "execution_count": 30,
     "metadata": {},
     "output_type": "execute_result"
    }
   ],
   "source": [
    "gee_type(30).c"
   ]
  },
  {
   "cell_type": "markdown",
   "metadata": {},
   "source": [
    "### Overriding"
   ]
  },
  {
   "cell_type": "code",
   "execution_count": 51,
   "metadata": {},
   "outputs": [
    {
     "data": {
      "text/plain": [
       "defined \u001b[32mclass\u001b[39m \u001b[36mgee_type\u001b[39m\n",
       "\u001b[36mres50_1\u001b[39m: \u001b[32mInt\u001b[39m = \u001b[32m313\u001b[39m\n",
       "\u001b[36mres50_2\u001b[39m: \u001b[32mInt\u001b[39m = \u001b[32m313\u001b[39m"
      ]
     },
     "execution_count": 51,
     "metadata": {},
     "output_type": "execute_result"
    }
   ],
   "source": [
    "class gee_type(x: Int) extends foo_type(x+1, x+2) {\n",
    "    // 외부에서 봤을 땐 바꿔치기\n",
    "    override def f(z: Int) = super.f(z) * 2 + c\n",
    "    // 내부에서는 접근 가능\n",
    "    def g(z: Int) = super.f(z) * 2\n",
    "    \n",
    "    val c : Int = f(x) + b\n",
    "    val d : Int = g(x) + b\n",
    "}\n",
    "new gee_type(30).c\n",
    "new gee_type(30).d"
   ]
  },
  {
   "cell_type": "code",
   "execution_count": 52,
   "metadata": {},
   "outputs": [
    {
     "data": {
      "text/plain": [
       "\u001b[36ma\u001b[39m: \u001b[32mfoo_type\u001b[39m = ammonite.$sess.cmd50$Helper$gee_type@aecd6f4\n",
       "\u001b[36mres51_1\u001b[39m: \u001b[32mInt\u001b[39m = \u001b[32m503\u001b[39m"
      ]
     },
     "execution_count": 52,
     "metadata": {},
     "output_type": "execute_result"
    }
   ],
   "source": [
    "val a: foo_type = new gee_type(30)\n",
    "a.f(0)"
   ]
  },
  {
   "cell_type": "markdown",
   "metadata": {},
   "source": [
    "#### danger of overriding\n",
    "* low readability\n",
    "* avoid overriding or use interface"
   ]
  },
  {
   "cell_type": "code",
   "execution_count": 55,
   "metadata": {},
   "outputs": [
    {
     "data": {
      "text/plain": [
       "defined \u001b[32mclass\u001b[39m \u001b[36mfoo_type\u001b[39m\n",
       "defined \u001b[32mclass\u001b[39m \u001b[36mgee_type\u001b[39m\n",
       "\u001b[36mres54_2\u001b[39m: \u001b[32mInt\u001b[39m = \u001b[32m42\u001b[39m"
      ]
     },
     "execution_count": 55,
     "metadata": {},
     "output_type": "execute_result"
    }
   ],
   "source": [
    "class foo_type(x: Int, y: Int) {\n",
    "    val a : Int = x\n",
    "    def b : Int = a + y\n",
    "    def f(z: Int) : Int = b + y + z\n",
    "}\n",
    "\n",
    "class gee_type(x: Int) extends foo_type(x+1, x+2) {\n",
    "    override def b = 10\n",
    "}\n",
    "\n",
    "new gee_type(30).f(0)"
   ]
  },
  {
   "cell_type": "code",
   "execution_count": 57,
   "metadata": {},
   "outputs": [
    {
     "data": {
      "text/plain": [
       "defined \u001b[32mclass\u001b[39m \u001b[36mfoo_type\u001b[39m\n",
       "defined \u001b[32mclass\u001b[39m \u001b[36mgee_type\u001b[39m\n",
       "\u001b[36mres56_2\u001b[39m: \u001b[32mInt\u001b[39m = \u001b[32m1000\u001b[39m"
      ]
     },
     "execution_count": 57,
     "metadata": {},
     "output_type": "execute_result"
    }
   ],
   "source": [
    "class foo_type(x: Int, y: Int) {\n",
    "    val a : Int = x\n",
    "    def b : Int = 0\n",
    "    def f(z: Int) : Int = b * z\n",
    "}\n",
    "\n",
    "class gee_type(x: Int) extends foo_type(x+1, x+2) {\n",
    "    override def b = 10\n",
    "}\n",
    "\n",
    "// 0 같지만 1000이 나옴\n",
    "new gee_type(30).f(100)"
   ]
  },
  {
   "cell_type": "markdown",
   "metadata": {},
   "source": [
    "#### Example: My List"
   ]
  },
  {
   "cell_type": "code",
   "execution_count": 63,
   "metadata": {},
   "outputs": [
    {
     "data": {
      "text/plain": [
       "defined \u001b[32mclass\u001b[39m \u001b[36mMyList\u001b[39m\n",
       "defined \u001b[32mtype\u001b[39m \u001b[36mYourList\u001b[39m\n",
       "\u001b[36mt\u001b[39m: \u001b[32mYourList\u001b[39m[\u001b[32mInt\u001b[39m] = \u001b[33mSome\u001b[39m(ammonite.$sess.cmd62$Helper$MyList@6712c65b)"
      ]
     },
     "execution_count": 63,
     "metadata": {},
     "output_type": "execute_result"
    }
   ],
   "source": [
    "class MyList[A](value: A, next: Option[MyList[A]])\n",
    "type YourList[A] = Option[MyList[A]]\n",
    "\n",
    "val t : YourList[Int] = Some(new MyList(3, Some(new MyList(4, None))))"
   ]
  },
  {
   "cell_type": "markdown",
   "metadata": {},
   "source": [
    "#### 만들기 vs 쓰기"
   ]
  },
  {
   "cell_type": "code",
   "execution_count": 64,
   "metadata": {},
   "outputs": [
    {
     "data": {
      "text/plain": [
       "defined \u001b[32mclass\u001b[39m \u001b[36mMyList\u001b[39m\n",
       "defined \u001b[32mclass\u001b[39m \u001b[36mMyNil\u001b[39m\n",
       "defined \u001b[32mclass\u001b[39m \u001b[36mMyCons\u001b[39m\n",
       "\u001b[36mt\u001b[39m: \u001b[32mMyList\u001b[39m[\u001b[32mInt\u001b[39m] = ammonite.$sess.cmd63$Helper$MyCons@faef2ee"
      ]
     },
     "execution_count": 64,
     "metadata": {},
     "output_type": "execute_result"
    }
   ],
   "source": [
    "// cannot use\n",
    "class MyList[A]()\n",
    "class MyNil[A]() extends MyList[A]\n",
    "class MyCons[A](val hd: A, val tl: MyList[A]) extends MyList[A]\n",
    "\n",
    "val t: MyList[Int] = new MyCons(3, new MyCons(4, new MyNil()))"
   ]
  },
  {
   "cell_type": "code",
   "execution_count": 69,
   "metadata": {},
   "outputs": [
    {
     "data": {
      "text/plain": [
       "defined \u001b[32mclass\u001b[39m \u001b[36mMyList\u001b[39m\n",
       "defined \u001b[32mclass\u001b[39m \u001b[36mMyNil\u001b[39m\n",
       "defined \u001b[32mclass\u001b[39m \u001b[36mMyCons\u001b[39m\n",
       "defined \u001b[32mfunction\u001b[39m \u001b[36mlength\u001b[39m\n",
       "\u001b[36mt\u001b[39m: \u001b[32mMyList\u001b[39m[\u001b[32mInt\u001b[39m] = \u001b[33mMyCons\u001b[39m(\u001b[32m3\u001b[39m, \u001b[33mMyCons\u001b[39m(\u001b[32m4\u001b[39m, MyNil()))\n",
       "\u001b[36mres68_5\u001b[39m: \u001b[32mInt\u001b[39m = \u001b[32m2\u001b[39m"
      ]
     },
     "execution_count": 69,
     "metadata": {},
     "output_type": "execute_result"
    }
   ],
   "source": [
    "class MyList[A]()\n",
    "case class MyNil[A]() extends MyList[A]\n",
    "case class MyCons[A](hd: A, tl: MyList[A]) extends MyList[A]\n",
    "\n",
    "def length(x: MyList[Int]): Int =\n",
    "    x match {\n",
    "        case MyNil() => 0\n",
    "        case MyCons(hd, tl) => 1 + length(tl)\n",
    "    }\n",
    "\n",
    "val t: MyList[Int] = MyCons(3, MyCons(4, MyNil()))\n",
    "length(t)"
   ]
  },
  {
   "cell_type": "markdown",
   "metadata": {},
   "source": [
    "#### sealed class"
   ]
  },
  {
   "cell_type": "code",
   "execution_count": 70,
   "metadata": {},
   "outputs": [
    {
     "data": {
      "text/plain": [
       "defined \u001b[32mclass\u001b[39m \u001b[36mMyList\u001b[39m\n",
       "defined \u001b[32mclass\u001b[39m \u001b[36mMyNil\u001b[39m\n",
       "defined \u001b[32mclass\u001b[39m \u001b[36mMyCons\u001b[39m\n",
       "defined \u001b[32mfunction\u001b[39m \u001b[36mlength\u001b[39m\n",
       "\u001b[36mt\u001b[39m: \u001b[32mMyList\u001b[39m[\u001b[32mInt\u001b[39m] = \u001b[33mMyCons\u001b[39m(\u001b[32m3\u001b[39m, \u001b[33mMyCons\u001b[39m(\u001b[32m4\u001b[39m, MyNil()))\n",
       "\u001b[36mres69_5\u001b[39m: \u001b[32mInt\u001b[39m = \u001b[32m2\u001b[39m"
      ]
     },
     "execution_count": 70,
     "metadata": {},
     "output_type": "execute_result"
    }
   ],
   "source": [
    "// `sealed` for match case coverage\n",
    "sealed class MyList[A]()\n",
    "case class MyNil[A]() extends MyList[A]\n",
    "case class MyCons[A](hd: A, tl: MyList[A]) extends MyList[A]\n",
    "\n",
    "def length(x: MyList[Int]): Int =\n",
    "    x match {\n",
    "        case MyNil() => 0\n",
    "        case MyCons(hd, tl) => 1 + length(tl)\n",
    "    }\n",
    "\n",
    "val t: MyList[Int] = MyCons(3, MyCons(4, MyNil()))\n",
    "length(t)"
   ]
  }
 ],
 "metadata": {
  "kernelspec": {
   "display_name": "Scala",
   "language": "scala",
   "name": "scala"
  },
  "language_info": {
   "codemirror_mode": "text/x-scala",
   "file_extension": ".sc",
   "mimetype": "text/x-scala",
   "name": "scala",
   "nbconvert_exporter": "script",
   "version": "2.13.3"
  }
 },
 "nbformat": 4,
 "nbformat_minor": 4
}
