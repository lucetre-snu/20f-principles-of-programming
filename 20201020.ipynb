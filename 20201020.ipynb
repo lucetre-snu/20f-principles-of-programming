{
 "cells": [
  {
   "cell_type": "code",
   "execution_count": 14,
   "metadata": {},
   "outputs": [
    {
     "data": {
      "text/plain": [
       "defined \u001b[32mclass\u001b[39m \u001b[36mMyList\u001b[39m\n",
       "defined \u001b[32mclass\u001b[39m \u001b[36mMyNil\u001b[39m\n",
       "defined \u001b[32mclass\u001b[39m \u001b[36mMyCons\u001b[39m\n",
       "defined \u001b[32mfunction\u001b[39m \u001b[36mlength\u001b[39m\n",
       "\u001b[36mt\u001b[39m: \u001b[32mMyList\u001b[39m[\u001b[32mInt\u001b[39m] = \u001b[33mMyCons\u001b[39m(\u001b[32m3\u001b[39m, \u001b[33mMyCons\u001b[39m(\u001b[32m4\u001b[39m, MyNil()))\n",
       "\u001b[36mres13_5\u001b[39m: \u001b[32mInt\u001b[39m = \u001b[32m2\u001b[39m"
      ]
     },
     "execution_count": 14,
     "metadata": {},
     "output_type": "execute_result"
    }
   ],
   "source": [
    "sealed class MyList[A]()\n",
    "case class MyNil[A]() extends MyList[A]\n",
    "case class MyCons[A](hd: A, tl: MyList[A]) extends MyList[A]\n",
    "\n",
    "def length(x: MyList[Int]): Int =\n",
    "    x match {\n",
    "        case MyNil() => 0\n",
    "        case MyCons(hd, tl) => 1 + length(tl)\n",
    "    }\n",
    "\n",
    "val t: MyList[Int] = MyCons(3, MyCons(4, MyNil()))\n",
    "length(t)"
   ]
  },
  {
   "cell_type": "code",
   "execution_count": 2,
   "metadata": {},
   "outputs": [
    {
     "data": {
      "text/plain": [
       "defined \u001b[32mclass\u001b[39m \u001b[36mMyList\u001b[39m\n",
       "defined \u001b[32mclass\u001b[39m \u001b[36mMyNil\u001b[39m\n",
       "defined \u001b[32mclass\u001b[39m \u001b[36mMyCons\u001b[39m\n",
       "\u001b[36mt\u001b[39m: \u001b[32mMyList\u001b[39m[\u001b[32mInt\u001b[39m] = ammonite.$sess.cmd1$Helper$MyCons@58a07d06\n",
       "defined \u001b[32mfunction\u001b[39m \u001b[36mlength\u001b[39m"
      ]
     },
     "execution_count": 2,
     "metadata": {},
     "output_type": "execute_result"
    }
   ],
   "source": [
    "// cannot use\n",
    "class MyList[A]()\n",
    "class MyNil[A]() extends MyList[A]\n",
    "class MyCons[A](val hd: A, val tl: MyList[A]) extends MyList[A]\n",
    "\n",
    "val t: MyList[Int] = new MyCons(3, new MyCons(4, new MyNil()))\n",
    "\n",
    "def length[A](l: MyList[A]) = {\n",
    "/// ???    \n",
    "}"
   ]
  },
  {
   "cell_type": "markdown",
   "metadata": {},
   "source": [
    "### To implement `length` method (Elimination)"
   ]
  },
  {
   "cell_type": "code",
   "execution_count": 6,
   "metadata": {},
   "outputs": [
    {
     "data": {
      "text/plain": [
       "defined \u001b[32mclass\u001b[39m \u001b[36mMyList\u001b[39m\n",
       "defined \u001b[32mclass\u001b[39m \u001b[36mMyNil\u001b[39m\n",
       "defined \u001b[32mclass\u001b[39m \u001b[36mMyCons\u001b[39m\n",
       "\u001b[36mt\u001b[39m: \u001b[32mMyList\u001b[39m[\u001b[32mInt\u001b[39m] = ammonite.$sess.cmd5$Helper$MyCons@3fa1087e\n",
       "defined \u001b[32mfunction\u001b[39m \u001b[36mlength\u001b[39m\n",
       "\u001b[36mres5_5\u001b[39m: \u001b[32mInt\u001b[39m = \u001b[32m2\u001b[39m\n",
       "\u001b[36mres5_6\u001b[39m: \u001b[32mInt\u001b[39m = \u001b[32m0\u001b[39m"
      ]
     },
     "execution_count": 6,
     "metadata": {},
     "output_type": "execute_result"
    }
   ],
   "source": [
    "class MyList[A]() {\n",
    "    // need to be removed\n",
    "    def getHead(): Option[A] = None\n",
    "    def getTail(): MyList[A] = new MyNil()\n",
    "}\n",
    "class MyNil[A]() extends MyList[A] {\n",
    "    override def getHead(): Option[A] = None\n",
    "    override def getTail(): MyList[A] = new MyNil()\n",
    "    \n",
    "}\n",
    "class MyCons[A](val hd: A, val tl: MyList[A]) extends MyList[A] {\n",
    "    override def getHead(): Option[A] = Some(hd)\n",
    "    override def getTail(): MyList[A] = tl\n",
    "}\n",
    "\n",
    "val t: MyList[Int] = new MyCons(3, new MyCons(4, new MyNil()))\n",
    "\n",
    "def length[A](l: MyList[A]): Int = {\n",
    "    l.getHead() match {\n",
    "        case None => 0\n",
    "        case Some(hd) => 1+ length(l.getTail())\n",
    "    }\n",
    "}\n",
    "\n",
    "length(t)\n",
    "length(new MyList())"
   ]
  },
  {
   "cell_type": "markdown",
   "metadata": {},
   "source": [
    "### Abstract Class\n",
    "* can implement method only using interface"
   ]
  },
  {
   "cell_type": "code",
   "execution_count": 11,
   "metadata": {},
   "outputs": [
    {
     "data": {
      "text/plain": [
       "defined \u001b[32mclass\u001b[39m \u001b[36mMyList\u001b[39m\n",
       "defined \u001b[32mfunction\u001b[39m \u001b[36mlength\u001b[39m"
      ]
     },
     "execution_count": 11,
     "metadata": {},
     "output_type": "execute_result"
    }
   ],
   "source": [
    "abstract class MyList[A]() {\n",
    "    def getHead(): Option[A]\n",
    "    def getTail(): MyList[A]\n",
    "}\n",
    "\n",
    "def length[A](l: MyList[A]): Int = {\n",
    "    l.getHead() match {\n",
    "        case None => 0\n",
    "        case Some(hd) => 1+ length(l.getTail())\n",
    "    }\n",
    "}"
   ]
  },
  {
   "cell_type": "code",
   "execution_count": 12,
   "metadata": {},
   "outputs": [
    {
     "data": {
      "text/plain": [
       "defined \u001b[32mclass\u001b[39m \u001b[36mMyNil\u001b[39m\n",
       "defined \u001b[32mclass\u001b[39m \u001b[36mMyCons\u001b[39m"
      ]
     },
     "execution_count": 12,
     "metadata": {},
     "output_type": "execute_result"
    }
   ],
   "source": [
    "class MyNil[A]() extends MyList[A] {\n",
    "    override def getHead(): Option[A] = None\n",
    "//     override def getTail(): MyList[A] = new MyNil()\n",
    "    override def getTail(): MyNil[A] = new MyNil()\n",
    "    \n",
    "}\n",
    "class MyCons[A](val hd: A, val tl: MyList[A]) extends MyList[A] {\n",
    "    override def getHead(): Option[A] = Some(hd)\n",
    "    override def getTail(): MyList[A] = tl\n",
    "}"
   ]
  },
  {
   "cell_type": "markdown",
   "metadata": {},
   "source": [
    "### Example Interface"
   ]
  },
  {
   "cell_type": "code",
   "execution_count": 20,
   "metadata": {},
   "outputs": [
    {
     "data": {
      "text/plain": [
       "defined \u001b[32mclass\u001b[39m \u001b[36mIter\u001b[39m"
      ]
     },
     "execution_count": 20,
     "metadata": {},
     "output_type": "execute_result"
    }
   ],
   "source": [
    "abstract class Iter[A] {\n",
    "    def getValue: Option[A]\n",
    "    def getNext: Iter[A]\n",
    "}"
   ]
  },
  {
   "cell_type": "code",
   "execution_count": 21,
   "metadata": {},
   "outputs": [
    {
     "data": {
      "text/plain": [
       "defined \u001b[32mfunction\u001b[39m \u001b[36msumElements\u001b[39m\n",
       "defined \u001b[32mfunction\u001b[39m \u001b[36msumElementsId\u001b[39m"
      ]
     },
     "execution_count": 21,
     "metadata": {},
     "output_type": "execute_result"
    }
   ],
   "source": [
    "def sumElements[A](f: A=>Int)(xs: Iter[A]) : Int =\n",
    "    xs.getValue match {\n",
    "        case None => 0\n",
    "        case Some(n) => f(n) + sumElements(f)(xs.getNext)\n",
    "    }\n",
    "\n",
    "def sumElementsId(xs:Iter[Int]) =\n",
    "    sumElements((x:Int)=>x)(xs)"
   ]
  },
  {
   "cell_type": "markdown",
   "metadata": {},
   "source": [
    "#### TO USE\n",
    "> create wrapper or implement orignial class"
   ]
  },
  {
   "cell_type": "code",
   "execution_count": 21,
   "metadata": {},
   "outputs": [
    {
     "name": "stderr",
     "output_type": "stream",
     "text": [
      "cmd21.sc:20: type mismatch;\n",
      " found   : Helper.this.MyCons[Int]\n",
      " required: Helper.this.Iter[Int]\n",
      "val res21_7 = sumElementsId(t1)\n",
      "                            ^Compilation Failed"
     ]
    },
    {
     "ename": "",
     "evalue": "",
     "output_type": "error",
     "traceback": [
      "Compilation Failed"
     ]
    }
   ],
   "source": [
    "//written by Bob\n",
    "abstract class Iter[A] {\n",
    "    def getValue: Option[A]\n",
    "    def getNext: Iter[A]\n",
    "}\n",
    "def sumElements[A](f: A=>Int)(xs: Iter[A]) : Int =\n",
    "    xs.getValue match {\n",
    "        case None => 0\n",
    "        case Some(n) => f(n) + sumElements(f)(xs.getNext)\n",
    "    }\n",
    "\n",
    "def sumElementsId(xs:Iter[Int]) =\n",
    "    sumElements((x:Int)=>x)(xs)\n",
    "\n",
    "//written by Alice\n",
    "sealed abstract class MyList[A]()\n",
    "case class MyNil[A]() extends MyList[A]\n",
    "case class MyCons[A](hd: A, tl: MyList[A]) extends MyList[A]\n",
    "\n",
    "val t1 = MyCons(3, MyCons(5, MyCons(7, MyNil())))\n",
    "sumElementsId(t1)"
   ]
  },
  {
   "cell_type": "code",
   "execution_count": 23,
   "metadata": {},
   "outputs": [
    {
     "data": {
      "text/plain": [
       "defined \u001b[32mclass\u001b[39m \u001b[36mIter\u001b[39m\n",
       "defined \u001b[32mfunction\u001b[39m \u001b[36msumElements\u001b[39m\n",
       "defined \u001b[32mfunction\u001b[39m \u001b[36msumElementsId\u001b[39m\n",
       "defined \u001b[32mclass\u001b[39m \u001b[36mMyList\u001b[39m\n",
       "defined \u001b[32mclass\u001b[39m \u001b[36mMyNil\u001b[39m\n",
       "defined \u001b[32mclass\u001b[39m \u001b[36mMyCons\u001b[39m\n",
       "\u001b[36mt1\u001b[39m: \u001b[32mMyCons\u001b[39m[\u001b[32mInt\u001b[39m] = \u001b[33mMyCons\u001b[39m(\u001b[32m3\u001b[39m, \u001b[33mMyCons\u001b[39m(\u001b[32m5\u001b[39m, \u001b[33mMyCons\u001b[39m(\u001b[32m7\u001b[39m, MyNil())))\n",
       "\u001b[36mres22_7\u001b[39m: \u001b[32mInt\u001b[39m = \u001b[32m15\u001b[39m\n",
       "\u001b[36mres22_8\u001b[39m: \u001b[32mInt\u001b[39m = \u001b[32m83\u001b[39m"
      ]
     },
     "execution_count": 23,
     "metadata": {},
     "output_type": "execute_result"
    }
   ],
   "source": [
    "\n",
    "//written by Bob\n",
    "abstract class Iter[A] {\n",
    "    def getValue: Option[A]\n",
    "    def getNext: Iter[A]\n",
    "}\n",
    "def sumElements[A](f: A=>Int)(xs: Iter[A]) : Int =\n",
    "    xs.getValue match {\n",
    "        case None => 0\n",
    "        case Some(n) => f(n) + sumElements(f)(xs.getNext)\n",
    "    }\n",
    "\n",
    "def sumElementsId(xs:Iter[Int]) =\n",
    "    sumElements((x:Int)=>x)(xs)\n",
    "\n",
    "//written by Alice\n",
    "sealed abstract class MyList[A] extends Iter[A]()\n",
    "case class MyNil[A]() extends MyList[A] {\n",
    "    def getValue: Option[A] = None\n",
    "    def getNext: Iter[A] = this\n",
    "}\n",
    "case class MyCons[A](hd: A, tl: MyList[A]) extends MyList[A] {\n",
    "    def getValue: Option[A] = Some(hd)\n",
    "    def getNext: Iter[A] = tl\n",
    "}\n",
    "val t1 = MyCons(3, MyCons(5, MyCons(7, MyNil())))\n",
    "sumElementsId(t1)\n",
    "sumElements((x: Int)=>x*x)(t1)\n"
   ]
  },
  {
   "cell_type": "markdown",
   "metadata": {},
   "source": [
    "### Example: Count Down"
   ]
  },
  {
   "cell_type": "code",
   "execution_count": 26,
   "metadata": {},
   "outputs": [
    {
     "data": {
      "text/plain": [
       "defined \u001b[32mclass\u001b[39m \u001b[36mIter\u001b[39m\n",
       "defined \u001b[32mfunction\u001b[39m \u001b[36msumElements\u001b[39m\n",
       "defined \u001b[32mclass\u001b[39m \u001b[36mIntCounter\u001b[39m\n",
       "\u001b[36mres25_3\u001b[39m: \u001b[32mInt\u001b[39m = \u001b[32m5050\u001b[39m"
      ]
     },
     "execution_count": 26,
     "metadata": {},
     "output_type": "execute_result"
    }
   ],
   "source": [
    "// if getValue(i) return None, you should not use i.getNext()\n",
    "abstract class Iter[A] {\n",
    "    def getValue: Option[A]\n",
    "    def getNext: Iter[A]\n",
    "}\n",
    "def sumElements[A](f: A=>Int)(xs: Iter[A]) : Int =\n",
    "    xs.getValue match {\n",
    "        case None => 0\n",
    "        case Some(n) => f(n) + sumElements(f)(xs.getNext)\n",
    "    }\n",
    "\n",
    "class IntCounter(n: Int) extends Iter[Int] {\n",
    "    def getValue = if (n < 0) None else Some(n)\n",
    "    def getNext = new IntCounter(n-1)\n",
    "}\n",
    "\n",
    "sumElements[Int]((x)=>x)(new IntCounter(100))"
   ]
  },
  {
   "cell_type": "markdown",
   "metadata": {},
   "source": [
    "### Iter for MyTree"
   ]
  },
  {
   "cell_type": "code",
   "execution_count": 35,
   "metadata": {},
   "outputs": [
    {
     "data": {
      "text/plain": [
       "defined \u001b[32mclass\u001b[39m \u001b[36mIter\u001b[39m\n",
       "defined \u001b[32mfunction\u001b[39m \u001b[36msumElements\u001b[39m\n",
       "defined \u001b[32mclass\u001b[39m \u001b[36mMyTree\u001b[39m\n",
       "defined \u001b[32mclass\u001b[39m \u001b[36mEmpty\u001b[39m\n",
       "defined \u001b[32mclass\u001b[39m \u001b[36mNode\u001b[39m\n",
       "\u001b[36mt1\u001b[39m: \u001b[32mNode\u001b[39m[\u001b[32mInt\u001b[39m] = \u001b[33mNode\u001b[39m(\n",
       "  \u001b[32m3\u001b[39m,\n",
       "  \u001b[33mNode\u001b[39m(\u001b[32m7\u001b[39m, \u001b[33mNode\u001b[39m(\u001b[32m2\u001b[39m, Empty(), Empty()), Empty()),\n",
       "  \u001b[33mNode\u001b[39m(\u001b[32m8\u001b[39m, Empty(), Empty())\n",
       ")\n",
       "\u001b[36mres34_6\u001b[39m: \u001b[32mInt\u001b[39m = \u001b[32m20\u001b[39m\n",
       "\u001b[36mres34_7\u001b[39m: \u001b[32mInt\u001b[39m = \u001b[32m126\u001b[39m"
      ]
     },
     "execution_count": 35,
     "metadata": {},
     "output_type": "execute_result"
    }
   ],
   "source": [
    "abstract class Iter[A] {\n",
    "    def getValue: Option[A]\n",
    "    def getNext: Iter[A]\n",
    "}\n",
    "def sumElements[A](f: A=>Int)(xs: Iter[A]) : Int =\n",
    "    xs.getValue match {\n",
    "        case None => 0\n",
    "        case Some(n) => f(n) + sumElements(f)(xs.getNext)\n",
    "    }\n",
    "\n",
    "\n",
    "sealed abstract class MyTree[A] extends Iter[A]\n",
    "    case class Empty[A]() extends MyTree[A] {\n",
    "        def getValue = None\n",
    "        def getNext = this\n",
    "    }\n",
    "    case class Node[A](value: A, left: MyTree[A], right: MyTree[A]) extends MyTree[A] {\n",
    "        def getValue = Some(value)\n",
    "        // hard to change visit order to in, post (now in pre)\n",
    "        def getNext: MyTree[A] = {\n",
    "            // merge right tree to rightmost node from left tree\n",
    "            def merge(l: MyTree[A]): MyTree[A] = {\n",
    "                l match {\n",
    "                    case Empty() => right\n",
    "                    case Node(v, lt, rt) => Node(v, lt, merge(rt))\n",
    "                }\n",
    "            }\n",
    "            merge(left)\n",
    "        }\n",
    "    }\n",
    "\n",
    "val t1 = Node(3, Node(7, Node(2, Empty(), Empty()), Empty()), Node(8, Empty(), Empty()))\n",
    "sumElements[Int]((x)=>x)(t1)\n",
    "sumElements[Int]((x)=>x*x)(t1)"
   ]
  }
 ],
 "metadata": {
  "kernelspec": {
   "display_name": "Scala",
   "language": "scala",
   "name": "scala"
  },
  "language_info": {
   "codemirror_mode": "text/x-scala",
   "file_extension": ".sc",
   "mimetype": "text/x-scala",
   "name": "scala",
   "nbconvert_exporter": "script",
   "version": "2.13.3"
  }
 },
 "nbformat": 4,
 "nbformat_minor": 4
}
