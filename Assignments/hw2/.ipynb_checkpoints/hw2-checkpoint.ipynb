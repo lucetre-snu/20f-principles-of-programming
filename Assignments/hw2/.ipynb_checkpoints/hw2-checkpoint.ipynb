{
 "cells": [
  {
   "cell_type": "markdown",
   "metadata": {},
   "source": [
    "### Problem 1: Structural Sub Type\n",
    "* Complete the definition of MyClass\n",
    "* DO NOT USE \"Any\" in anywhere in your code."
   ]
  },
  {
   "cell_type": "code",
   "execution_count": 6,
   "metadata": {},
   "outputs": [
    {
     "data": {
      "text/plain": [
       "defined \u001b[32mobject\u001b[39m \u001b[36mProblem1\u001b[39m"
      ]
     },
     "execution_count": 6,
     "metadata": {},
     "output_type": "execute_result"
    }
   ],
   "source": [
    "object Problem1{\n",
    "    class MyClass[A,B,C,D,E,F]() {\n",
    "        type Func1 = { val a: A } => { val b: B }\n",
    "        type Func2 = { val b: B } => { val a: A }\n",
    "        type Func3 = { val c: C } => { val a: A }\n",
    "        type Func4 = { val f: F } => { val d: D }\n",
    "\n",
    "        type Ty1 = {\n",
    "            def apply: { val func: Func1 ; val c: C } => { val b: B ; val d: D }\n",
    "            def function1: { val func: Func3 } => { val c: C }\n",
    "            val a: A\n",
    "            val b: B\n",
    "            val d: D\n",
    "        }\n",
    "\n",
    "        type Ty2 = {\n",
    "            def apply: { val func: Func2 ; val e: E } => { val b: B ; val f: F ; val c: C }\n",
    "            def function1: { val func: Func4 } => { val c: C; val e:E }\n",
    "            val a: A\n",
    "            val c: C\n",
    "            val d: D\n",
    "        }\n",
    "\n",
    "        /*\n",
    "        Find suitable common supertype of Ty1 and Ty2,\n",
    "        and replace \"Any\" with that type.\n",
    "        */\n",
    "        // type CommonTy = Any // Any\n",
    "\n",
    "        type CommonTy = Any\n",
    "    }\n",
    "}"
   ]
  },
  {
   "cell_type": "code",
   "execution_count": 7,
   "metadata": {},
   "outputs": [
    {
     "data": {
      "text/plain": [
       "\u001b[36mmc\u001b[39m: \u001b[32mProblem1\u001b[39m.\u001b[32mMyClass\u001b[39m[\u001b[32mInt\u001b[39m, \u001b[32mInt\u001b[39m, \u001b[32mInt\u001b[39m, \u001b[32mInt\u001b[39m, \u001b[32mInt\u001b[39m, \u001b[32mInt\u001b[39m] = ammonite.$sess.cmd5$Helper$Problem1$MyClass@2e7b108\n",
       "\u001b[36mres6_1\u001b[39m: \u001b[32mBoolean\u001b[39m = true\n",
       "\u001b[36mres6_2\u001b[39m: \u001b[32mBoolean\u001b[39m = false\n",
       "\u001b[36mmc1\u001b[39m: \u001b[32mProblem1\u001b[39m.\u001b[32mMyClass\u001b[39m[\u001b[32mInt\u001b[39m, \u001b[32mChar\u001b[39m, \u001b[32mString\u001b[39m, \u001b[32mList\u001b[39m[\u001b[32mInt\u001b[39m], \u001b[32mList\u001b[39m[\u001b[32mLong\u001b[39m], \u001b[32mList\u001b[39m[\u001b[32mChar\u001b[39m]] = ammonite.$sess.cmd5$Helper$Problem1$MyClass@3476bbe4\n",
       "\u001b[36mres6_4\u001b[39m: \u001b[32mBoolean\u001b[39m = true\n",
       "\u001b[36mres6_5\u001b[39m: \u001b[32mBoolean\u001b[39m = false"
      ]
     },
     "execution_count": 7,
     "metadata": {},
     "output_type": "execute_result"
    }
   ],
   "source": [
    "val mc = new Problem1.MyClass[Int, Int, Int, Int, Int, Int]()\n",
    "typeOf[mc.Ty1]<:<typeOf[mc.CommonTy]\n",
    "!(typeOf[Any]<:<typeOf[mc.CommonTy])\n",
    "\n",
    "val mc1 = new Problem1.MyClass[Int, Char, String, List[Int], List[Long], List[Char]]()\n",
    "typeOf[mc1.Ty1]<:<typeOf[mc1.CommonTy]\n",
    "!(typeOf[Any]<:<typeOf[mc1.CommonTy])"
   ]
  },
  {
   "cell_type": "markdown",
   "metadata": {},
   "source": [
    "### Exercise 2: Regular Expressions\n",
    "* Regular expression is a sequence of character that defines a pattern.\n",
    "* In this exercise, we will cover two problems:\n",
    "  1. Converts a string to regular expression defined below.\n",
    "  2. Check if a regular expression matches given string.\n",
    "* For more information on regular expressions, refer to the link below.\n",
    "  * https://en.wikipedia.org/wiki/Regular_expression\n",
    "* (*) Syntax of Exp (see Data.scala)\n",
    ">    E -> a      (single alphanumeric character)\n",
    ">       | (EE)   (concatenation)\n",
    ">       | (E|E)  (or)\n",
    ">       | (E)*   (repetition / kleene star)"
   ]
  }
 ],
 "metadata": {
  "kernelspec": {
   "display_name": "Scala",
   "language": "scala",
   "name": "scala"
  },
  "language_info": {
   "codemirror_mode": "text/x-scala",
   "file_extension": ".sc",
   "mimetype": "text/x-scala",
   "name": "scala",
   "nbconvert_exporter": "script",
   "version": "2.13.3"
  }
 },
 "nbformat": 4,
 "nbformat_minor": 4
}
