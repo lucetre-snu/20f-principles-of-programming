{
 "cells": [
  {
   "cell_type": "markdown",
   "metadata": {},
   "source": [
    "### Closures for functional values\n",
    "* 내가 한국에 있다면 여권이 필요없지만 외국에 가면 국적 확인을 위해 여권이 필요\n",
    "  * Closure as Passport\n",
    "  * 코드와 환경을 합친 개념\n",
    "* 함수값의 의미를 보존하기 위해서 코드 자체만 이동하면 안된다.\n",
    "  * 함수가 만들어진 환경의 의미를 포함: ***Closure***"
   ]
  },
  {
   "cell_type": "code",
   "execution_count": 34,
   "metadata": {},
   "outputs": [
    {
     "data": {
      "text/plain": [
       "\u001b[36mt\u001b[39m: \u001b[32mInt\u001b[39m = \u001b[32m0\u001b[39m\n",
       "\u001b[36mf\u001b[39m: \u001b[32mInt\u001b[39m => \u001b[32mInt\u001b[39m = ammonite.$sess.cmd33$Helper$$Lambda$2416/807056619@4fc741fa\n",
       "\u001b[36mres33_2\u001b[39m: \u001b[32mInt\u001b[39m = \u001b[32m30\u001b[39m"
      ]
     },
     "execution_count": 34,
     "metadata": {},
     "output_type": "execute_result"
    }
   ],
   "source": [
    "                                // incorrect (w.o. closures)\n",
    "                                // []\n",
    "val t = 0                       // [t=0]\n",
    "val f: Int=>Int = {             // [t=0]:[]\n",
    "    val t = 10                  // [t=0]:[t=10]\n",
    "    def g(x: Int) : Int = x + t // [t=0]:[t=10, g=(x)x+t]\n",
    "    g _                         // [t=0]:[t=10, g=(x)x+t]\n",
    "}                               // [t=0, f=(x)x+t]\n",
    "f(20)                           // [t=0, f=(x)x+t], 20\n",
    "                          // f(20) [t=0, f=(x)x+t]:[x=20]"
   ]
  },
  {
   "cell_type": "markdown",
   "metadata": {},
   "source": [
    "* underscore _ : DEF to VALUE by packaging ENV"
   ]
  },
  {
   "cell_type": "code",
   "execution_count": 1,
   "metadata": {},
   "outputs": [
    {
     "data": {
      "text/plain": [
       "\u001b[36mt\u001b[39m: \u001b[32mInt\u001b[39m = \u001b[32m0\u001b[39m\n",
       "\u001b[36mf\u001b[39m: \u001b[32mInt\u001b[39m => \u001b[32mInt\u001b[39m = ammonite.$sess.cmd0$Helper$$Lambda$1734/1226621901@2f8b3a8b\n",
       "\u001b[36mres0_2\u001b[39m: \u001b[32mInt\u001b[39m = \u001b[32m30\u001b[39m"
      ]
     },
     "execution_count": 1,
     "metadata": {},
     "output_type": "execute_result"
    }
   ],
   "source": [
    "                                // E1[]\n",
    "val t = 0                       // E1[t=0]\n",
    "val f: Int=>Int = {             // E1[t=0]:E2[]\n",
    "    val t = 10                  // E1[t=0]:E2[t=10]\n",
    "    def g(x: Int) : Int = x + t // E1[t=0]:E2[t=10, g=(x)x+t]\n",
    "    g _                         // E1[t=0]:E2[t=10, g=(x)x+t]\n",
    "}                               // E1[t=0, f=((x)x+t, E2)]\n",
    "f(20)                           // E1[t=0, f=((x)x+t, E2)], 30\n",
    "                          // f(20) E1[t=0, f=((x)x+t, E2)]:E2[t=10, g=(x)x+t]:E3[x=20]"
   ]
  },
  {
   "cell_type": "code",
   "execution_count": 4,
   "metadata": {},
   "outputs": [
    {
     "data": {
      "text/plain": [
       "defined \u001b[32mfunction\u001b[39m \u001b[36mf\u001b[39m\n",
       "defined \u001b[32mfunction\u001b[39m \u001b[36mg\u001b[39m\n",
       "\u001b[36mx\u001b[39m: \u001b[32mInt\u001b[39m = \u001b[32m10\u001b[39m\n",
       "\u001b[36mres3_3\u001b[39m: \u001b[32mInt\u001b[39m = \u001b[32m10\u001b[39m"
      ]
     },
     "execution_count": 4,
     "metadata": {},
     "output_type": "execute_result"
    }
   ],
   "source": [
    "{\n",
    "    def f(x:Int) = g(x)\n",
    "    def g(x: Int) = 10\n",
    "    val x = f(10)\n",
    "    x\n",
    "}"
   ]
  },
  {
   "cell_type": "code",
   "execution_count": 5,
   "metadata": {},
   "outputs": [
    {
     "data": {
      "text/plain": [
       "defined \u001b[32mfunction\u001b[39m \u001b[36mf\u001b[39m\n",
       "\u001b[36mx\u001b[39m: \u001b[32mInt\u001b[39m = \u001b[32m10\u001b[39m\n",
       "defined \u001b[32mfunction\u001b[39m \u001b[36mg\u001b[39m\n",
       "\u001b[36mres4_3\u001b[39m: \u001b[32mInt\u001b[39m = \u001b[32m10\u001b[39m"
      ]
     },
     "execution_count": 5,
     "metadata": {},
     "output_type": "execute_result"
    }
   ],
   "source": [
    "{\n",
    "    // forward reference error from g(x)\n",
    "    def f(x:Int) = g(x)\n",
    "    val x = f(10)\n",
    "    def g(x: Int) = 10\n",
    "    x\n",
    "}"
   ]
  },
  {
   "cell_type": "markdown",
   "metadata": {},
   "source": [
    "### Safety Checking\n",
    "* For `val x = e`, all names in `e` should be defined before this definition.\n",
    "* For `def x = e`, all names in `e` should be defined before the next `val` definition.\n",
    "  * *Why? It is the earliest moment when f can be being used.*"
   ]
  },
  {
   "cell_type": "code",
   "execution_count": 6,
   "metadata": {},
   "outputs": [
    {
     "data": {
      "text/plain": [
       "defined \u001b[32mfunction\u001b[39m \u001b[36msum1\u001b[39m\n",
       "defined \u001b[32mfunction\u001b[39m \u001b[36msum2\u001b[39m\n",
       "\u001b[36mx\u001b[39m: \u001b[32mInt\u001b[39m = \u001b[32m55\u001b[39m\n",
       "\u001b[36my\u001b[39m: \u001b[32mInt\u001b[39m = \u001b[32m210\u001b[39m\n",
       "\u001b[36mres5_4\u001b[39m: \u001b[32mInt\u001b[39m = \u001b[32m265\u001b[39m"
      ]
     },
     "execution_count": 6,
     "metadata": {},
     "output_type": "execute_result"
    }
   ],
   "source": [
    "def sum1(x: Int): Int =\n",
    "    if (x <= 0) 0 else x + sum2(x-1)\n",
    "def sum2(x: Int): Int =\n",
    "    if (x <= 0) 0 else x + sum1(x-1)\n",
    "val x = sum1(10)\n",
    "val y = sum2(20)\n",
    "x+y"
   ]
  },
  {
   "cell_type": "markdown",
   "metadata": {},
   "source": [
    "### Anonymous Function\n",
    "* Same expression\n",
    "    * `(x:T)=>e`\n",
    "    * recursive anonymous function\n",
    "        * `{ def noname(x:T) = e; (noname _) }`"
   ]
  },
  {
   "cell_type": "code",
   "execution_count": 13,
   "metadata": {},
   "outputs": [
    {
     "data": {
      "text/plain": [
       "\u001b[36mf1\u001b[39m: \u001b[32mInt\u001b[39m => \u001b[32mInt\u001b[39m = ammonite.$sess.cmd12$Helper$$Lambda$2112/1869084814@13503326"
      ]
     },
     "execution_count": 13,
     "metadata": {},
     "output_type": "execute_result"
    }
   ],
   "source": [
    "val f1 = (x: Int) => x+1"
   ]
  },
  {
   "cell_type": "code",
   "execution_count": 19,
   "metadata": {},
   "outputs": [
    {
     "data": {
      "text/plain": [
       "\u001b[36mf2\u001b[39m: \u001b[32mInt\u001b[39m => \u001b[32mInt\u001b[39m = ammonite.$sess.cmd18$Helper$$Lambda$2151/22055630@414cc89e"
      ]
     },
     "execution_count": 19,
     "metadata": {},
     "output_type": "execute_result"
    }
   ],
   "source": [
    "val f2 = {\n",
    "    def noname(x:Int) = x+1\n",
    "    noname _\n",
    "}"
   ]
  },
  {
   "cell_type": "code",
   "execution_count": 17,
   "metadata": {},
   "outputs": [
    {
     "data": {
      "text/plain": [
       "\u001b[36mres16_0\u001b[39m: \u001b[32mInt\u001b[39m = \u001b[32m11\u001b[39m\n",
       "\u001b[36mres16_1\u001b[39m: \u001b[32mInt\u001b[39m = \u001b[32m11\u001b[39m"
      ]
     },
     "execution_count": 17,
     "metadata": {},
     "output_type": "execute_result"
    }
   ],
   "source": [
    "f1(10)\n",
    "f2(10)"
   ]
  },
  {
   "cell_type": "code",
   "execution_count": 24,
   "metadata": {},
   "outputs": [
    {
     "data": {
      "text/plain": [
       "\u001b[36mres23_0\u001b[39m: \u001b[32mInt\u001b[39m = \u001b[32m11\u001b[39m\n",
       "\u001b[36mres23_1\u001b[39m: \u001b[32mInt\u001b[39m = \u001b[32m11\u001b[39m"
      ]
     },
     "execution_count": 24,
     "metadata": {},
     "output_type": "execute_result"
    }
   ],
   "source": [
    "({\n",
    "    def noname(x:Int) = x+1\n",
    "    noname _\n",
    "}).apply(10)\n",
    "((x: Int) => x+1).apply(10)"
   ]
  },
  {
   "cell_type": "code",
   "execution_count": 25,
   "metadata": {},
   "outputs": [
    {
     "data": {
      "text/plain": [
       "\u001b[36mt\u001b[39m: \u001b[32mInt\u001b[39m = \u001b[32m0\u001b[39m\n",
       "defined \u001b[32mfunction\u001b[39m \u001b[36mf\u001b[39m\n",
       "\u001b[36mr\u001b[39m: \u001b[32mInt\u001b[39m = \u001b[32m100\u001b[39m"
      ]
     },
     "execution_count": 25,
     "metadata": {},
     "output_type": "execute_result"
    }
   ],
   "source": [
    "                        // E1[]\n",
    "val t = 0               // E1[t=0]\n",
    "def f(x: =>Int) = t + x // E1[t=0, f=(x)t+x]\n",
    "val r = {               // E1[t=0, f=(x)t+x]:E2[]\n",
    "    val t = 10          // E1[t=0, f=(x)t+x]:E2[t=10]\n",
    "    f(t*t)              // E1[t=0, f=(x)t+x]:E2[t=10]\n",
    "                 // f(t*t) E1[t=0, f=(x)t+x]:E3[x=(t*t,E2)], t+x ~ 0+x\n",
    "                      // x E1[t=0, f=(x)t+x]:E2[t=10], t*t ~ 100\n",
    "}                       // E1[t=0, f=(x)t+x, r=100]"
   ]
  },
  {
   "cell_type": "markdown",
   "metadata": {},
   "source": [
    "### Currying & Uncurrying\n",
    "##### `(Int, Int) => Int`\n",
    "##### `Int => (Int => Int)`"
   ]
  },
  {
   "cell_type": "code",
   "execution_count": 26,
   "metadata": {},
   "outputs": [
    {
     "data": {
      "text/plain": [
       "defined \u001b[32mfunction\u001b[39m \u001b[36msum\u001b[39m\n",
       "defined \u001b[32mfunction\u001b[39m \u001b[36msumLinear\u001b[39m\n",
       "defined \u001b[32mfunction\u001b[39m \u001b[36msumSquare\u001b[39m\n",
       "defined \u001b[32mfunction\u001b[39m \u001b[36msumCubes\u001b[39m"
      ]
     },
     "execution_count": 26,
     "metadata": {},
     "output_type": "execute_result"
    }
   ],
   "source": [
    "def sum(f: Int=>Int, a: Int, b: Int): Int =\n",
    "if (a <= b) f(a) + sum(f, a+1, b) else 0\n",
    "\n",
    "def sumLinear(a: Int, b: Int) = sum(n=>n, a, b)\n",
    "def sumSquare(a: Int, b: Int) = sum(n=>n*n, a, b)\n",
    "def sumCubes(a: Int, b: Int) = sum(n=>n*n*n, a, b)"
   ]
  },
  {
   "cell_type": "markdown",
   "metadata": {},
   "source": [
    "### *Why not?* \n",
    "> Use currying!"
   ]
  },
  {
   "cell_type": "code",
   "execution_count": 27,
   "metadata": {},
   "outputs": [
    {
     "data": {
      "text/plain": [
       "defined \u001b[32mfunction\u001b[39m \u001b[36msum\u001b[39m"
      ]
     },
     "execution_count": 27,
     "metadata": {},
     "output_type": "execute_result"
    }
   ],
   "source": [
    "def sum(f: Int=>Int): (Int,Int)=>Int = {\n",
    "    def sumF(a: Int, b: Int): Int =\n",
    "        if (a <= b) f(a) + sumF(a+1, b) else 0\n",
    "    sumF\n",
    "}"
   ]
  },
  {
   "cell_type": "code",
   "execution_count": 28,
   "metadata": {},
   "outputs": [
    {
     "data": {
      "text/plain": [
       "defined \u001b[32mfunction\u001b[39m \u001b[36msumLinear\u001b[39m\n",
       "defined \u001b[32mfunction\u001b[39m \u001b[36msumSquare\u001b[39m\n",
       "defined \u001b[32mfunction\u001b[39m \u001b[36msumCubes\u001b[39m"
      ]
     },
     "execution_count": 28,
     "metadata": {},
     "output_type": "execute_result"
    }
   ],
   "source": [
    "def sumLinear = sum(n=>n)\n",
    "def sumSquare = sum(n=>n*n)\n",
    "def sumCubes = sum(n=>n*n*n)"
   ]
  },
  {
   "cell_type": "markdown",
   "metadata": {},
   "source": [
    "##### `(T1, T2, ..., Tn) => T`\n",
    "##### `T1 => (T2 => ... (Tn => T))`"
   ]
  },
  {
   "cell_type": "code",
   "execution_count": 29,
   "metadata": {},
   "outputs": [
    {
     "data": {
      "text/plain": [
       "defined \u001b[32mfunction\u001b[39m \u001b[36msum\u001b[39m"
      ]
     },
     "execution_count": 29,
     "metadata": {},
     "output_type": "execute_result"
    }
   ],
   "source": [
    "def sum(f: Int=>Int)(a: Int, b: Int): Int =\n",
    "    if (a <= b) f(a) + sum(f)(a+1, b) else 0"
   ]
  },
  {
   "cell_type": "code",
   "execution_count": 32,
   "metadata": {},
   "outputs": [
    {
     "data": {
      "text/plain": [
       "defined \u001b[32mfunction\u001b[39m \u001b[36msumLinear\u001b[39m\n",
       "defined \u001b[32mfunction\u001b[39m \u001b[36msumSquare\u001b[39m\n",
       "defined \u001b[32mfunction\u001b[39m \u001b[36msumCubes\u001b[39m"
      ]
     },
     "execution_count": 32,
     "metadata": {},
     "output_type": "execute_result"
    }
   ],
   "source": [
    "def sumLinear = sum(n=>n) _\n",
    "def sumSquare = sum(n=>n*n) _\n",
    "def sumCubes = sum(n=>n*n*n) _"
   ]
  }
 ],
 "metadata": {
  "kernelspec": {
   "display_name": "Scala",
   "language": "scala",
   "name": "scala"
  },
  "language_info": {
   "codemirror_mode": "text/x-scala",
   "file_extension": ".sc",
   "mimetype": "text/x-scala",
   "name": "scala",
   "nbconvert_exporter": "script",
   "version": "2.13.3"
  }
 },
 "nbformat": 4,
 "nbformat_minor": 4
}
