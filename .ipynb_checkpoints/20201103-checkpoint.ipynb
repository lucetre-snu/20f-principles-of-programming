{
 "cells": [
  {
   "cell_type": "markdown",
   "metadata": {},
   "source": [
    "#### TODO\n",
    "* Operation `::`, `++`\n",
    "  * `op2.::(op1)`\n",
    "  * `op1.++(op2)`\n",
    "  * operator has its precedence.\n",
    "* variable length argument\n",
    "* hasElement -> assign over inheritance"
   ]
  },
  {
   "cell_type": "code",
   "execution_count": 1,
   "metadata": {},
   "outputs": [
    {
     "data": {
      "text/plain": [
       "\u001b[36mres0_0\u001b[39m: \u001b[32mList\u001b[39m[\u001b[32mInt\u001b[39m] = \u001b[33mList\u001b[39m(\u001b[32m1\u001b[39m, \u001b[32m2\u001b[39m, \u001b[32m3\u001b[39m, \u001b[32m4\u001b[39m)\n",
       "\u001b[36mres0_1\u001b[39m: \u001b[32mList\u001b[39m[\u001b[32mInt\u001b[39m] = \u001b[33mList\u001b[39m(\u001b[32m1\u001b[39m, \u001b[32m2\u001b[39m, \u001b[32m3\u001b[39m, \u001b[32m4\u001b[39m)\n",
       "\u001b[36mx\u001b[39m: \u001b[32mList\u001b[39m[\u001b[32mInt\u001b[39m] = \u001b[33mList\u001b[39m(\u001b[32m1\u001b[39m, \u001b[32m2\u001b[39m, \u001b[32m3\u001b[39m)\n",
       "\u001b[36my\u001b[39m: \u001b[32mList\u001b[39m[\u001b[32mInt\u001b[39m] = \u001b[33mList\u001b[39m(\u001b[32m4\u001b[39m, \u001b[32m5\u001b[39m)\n",
       "\u001b[36mres0_4\u001b[39m: \u001b[32mList\u001b[39m[\u001b[32mInt\u001b[39m] = \u001b[33mList\u001b[39m(\u001b[32m1\u001b[39m, \u001b[32m2\u001b[39m, \u001b[32m3\u001b[39m, \u001b[32m4\u001b[39m, \u001b[32m5\u001b[39m)"
      ]
     },
     "execution_count": 1,
     "metadata": {},
     "output_type": "execute_result"
    }
   ],
   "source": [
    "List(1,2,3,4)\n",
    "1::2::3::4::Nil\n",
    "\n",
    "val x = 1::2::3::Nil\n",
    "val y = 4::5::Nil\n",
    "x ++ y"
   ]
  },
  {
   "cell_type": "markdown",
   "metadata": {},
   "source": [
    "### List Syntax\n",
    "* `List(elements)`: list constructor\n",
    "* `++`: list append, same as `.++()`\n",
    "* `::`: value append, same as `.::()`"
   ]
  },
  {
   "cell_type": "code",
   "execution_count": 2,
   "metadata": {},
   "outputs": [
    {
     "data": {
      "text/plain": [
       "defined \u001b[32mclass\u001b[39m \u001b[36mIter\u001b[39m\n",
       "defined \u001b[32mclass\u001b[39m \u001b[36mMyList\u001b[39m\n",
       "defined \u001b[32mclass\u001b[39m \u001b[36mMyNil\u001b[39m\n",
       "defined \u001b[32mclass\u001b[39m \u001b[36mMyCons\u001b[39m\n",
       "defined \u001b[32mobject\u001b[39m \u001b[36mMyList\u001b[39m\n",
       "\u001b[36mx\u001b[39m: \u001b[32mMyCons\u001b[39m[\u001b[32mInt\u001b[39m] = \u001b[33mMyCons\u001b[39m(\u001b[32m2\u001b[39m, \u001b[33mMyCons\u001b[39m(\u001b[32m3\u001b[39m, MyNil()))\n",
       "\u001b[36my\u001b[39m: \u001b[32mMyCons\u001b[39m[\u001b[32mInt\u001b[39m] = \u001b[33mMyCons\u001b[39m(\u001b[32m2\u001b[39m, \u001b[33mMyCons\u001b[39m(\u001b[32m3\u001b[39m, MyNil()))\n",
       "\u001b[36mres1_7\u001b[39m: \u001b[32mMyList\u001b[39m[\u001b[32mInt\u001b[39m] = \u001b[33mMyCons\u001b[39m(\u001b[32m1\u001b[39m, \u001b[33mMyCons\u001b[39m(\u001b[32m2\u001b[39m, MyNil()))\n",
       "\u001b[36mres1_8\u001b[39m: \u001b[32mMyList\u001b[39m[\u001b[32mInt\u001b[39m] = \u001b[33mMyCons\u001b[39m(\u001b[32m1\u001b[39m, MyNil())\n",
       "\u001b[36mres1_9\u001b[39m: \u001b[32mMyList\u001b[39m[\u001b[32mInt\u001b[39m] = \u001b[33mMyCons\u001b[39m(\u001b[32m2\u001b[39m, \u001b[33mMyCons\u001b[39m(\u001b[32m3\u001b[39m, \u001b[33mMyCons\u001b[39m(\u001b[32m2\u001b[39m, \u001b[33mMyCons\u001b[39m(\u001b[32m3\u001b[39m, MyNil()))))\n",
       "\u001b[36mres1_10\u001b[39m: \u001b[32mMyList\u001b[39m[\u001b[32mInt\u001b[39m] = \u001b[33mMyCons\u001b[39m(\u001b[32m1\u001b[39m, MyNil())\n",
       "\u001b[36mres1_11\u001b[39m: \u001b[32mMyList\u001b[39m[\u001b[32mInt\u001b[39m] = \u001b[33mMyCons\u001b[39m(\u001b[32m1\u001b[39m, MyNil())"
      ]
     },
     "execution_count": 2,
     "metadata": {},
     "output_type": "execute_result"
    }
   ],
   "source": [
    "abstract class Iter[A] {\n",
    "    def getValue: Option[A]\n",
    "    def getNext: Iter[A]\n",
    "}\n",
    "sealed abstract class MyList[A] extends Iter[A] {\n",
    "    def ::(hd: A): MyList[A] = MyCons(hd, this)\n",
    "    def ++(lst: MyList[A]): MyList[A]\n",
    "}\n",
    "case class MyNil[A]() extends MyList[A] {\n",
    "    def getValue = None\n",
    "    def getNext = throw new Exception(\"...\")\n",
    "    def ++(lst: MyList[A]) = lst\n",
    "}\n",
    "case class MyCons[A](hd: A, tl: MyList[A]) extends MyList[A] {\n",
    "    def getValue = Some(hd)\n",
    "    def getNext = tl\n",
    "    def ++(lst: MyList[A]) = MyCons(hd, tl++lst)\n",
    "}\n",
    "object MyList {\n",
    "    def ::[A](v1: A, v2: A): MyList[A] = MyCons(v1, MyCons(v2, MyNil()))\n",
    "    def ::[A](v: A, lst: MyList[A]): MyList[A] = MyCons(v, lst)\n",
    "    def ++[A](lst1: MyList[A], lst2: MyList[A]): MyList[A] = lst1++lst2\n",
    "}\n",
    "val x = MyCons(2, MyCons(3, MyNil()))\n",
    "val y = MyCons(2, MyCons(3, MyNil()))\n",
    "MyList.::(1, 2)\n",
    "MyList.::(1, MyNil[Int]())\n",
    "MyList.++(x, y)\n",
    "\n",
    "// 'op2.::(op1)'\n",
    "// 'op1.++(op2)'\n",
    "MyNil().::(1)\n",
    "1::MyNil()"
   ]
  },
  {
   "cell_type": "code",
   "execution_count": 3,
   "metadata": {},
   "outputs": [
    {
     "data": {
      "text/plain": [
       "defined \u001b[32mclass\u001b[39m \u001b[36mIterable\u001b[39m"
      ]
     },
     "execution_count": 3,
     "metadata": {},
     "output_type": "execute_result"
    }
   ],
   "source": [
    "abstract class Iterable[A] {\n",
    "    type iter_t\n",
    "    def iter: iter_t\n",
    "    def getValue(i: iter_t): Option[A]\n",
    "    def getNext(i: iter_t): iter_t\n",
    "}"
   ]
  },
  {
   "cell_type": "code",
   "execution_count": 4,
   "metadata": {},
   "outputs": [
    {
     "data": {
      "text/plain": [
       "defined \u001b[32mclass\u001b[39m \u001b[36mIterableHE\u001b[39m"
      ]
     },
     "execution_count": 4,
     "metadata": {},
     "output_type": "execute_result"
    }
   ],
   "source": [
    "abstract class IterableHE[A] extends Iterable[A] {\n",
    "    def eq(a:A, b:A) : Boolean\n",
    "    def hasElement(a: A) : Boolean = {\n",
    "        def hasElementIter(i: iter_t) : Boolean =\n",
    "            getValue(i) match {\n",
    "                case None => false\n",
    "                case Some(n) =>\n",
    "                    if (eq(a,n)) true\n",
    "                    else hasElementIter(getNext(i))\n",
    "            }\n",
    "        hasElementIter(iter)\n",
    "    }\n",
    "}"
   ]
  },
  {
   "cell_type": "code",
   "execution_count": 7,
   "metadata": {},
   "outputs": [
    {
     "data": {
      "text/plain": [
       "defined \u001b[32mclass\u001b[39m \u001b[36mIterableHE\u001b[39m\n",
       "defined \u001b[32mobject\u001b[39m \u001b[36mIterableHE\u001b[39m"
      ]
     },
     "execution_count": 7,
     "metadata": {},
     "output_type": "execute_result"
    }
   ],
   "source": [
    "abstract class IterableHE[A] extends Iterable[A] {\n",
    "    def eq(a:A, b:A) : Boolean\n",
    "    def hasElement(a: A) : Boolean\n",
    "}\n",
    "\n",
    "object IterableHE {\n",
    "    def hasElement[A](eq: (A,A)=>Boolean, xs: Iterable[A], a: A) : Boolean = {\n",
    "        def hasElementIter(i: xs.iter_t) : Boolean =\n",
    "            xs.getValue(i) match {\n",
    "                case None => false\n",
    "                case Some(n) =>\n",
    "                    if (eq(a,n)) true\n",
    "                    else hasElementIter(xs.getNext(i))\n",
    "            }\n",
    "        hasElementIter(xs.iter)\n",
    "    }\n",
    "}\n"
   ]
  },
  {
   "cell_type": "code",
   "execution_count": 9,
   "metadata": {},
   "outputs": [
    {
     "data": {
      "text/plain": [
       "defined \u001b[32mclass\u001b[39m \u001b[36mMyTree\u001b[39m\n",
       "defined \u001b[32mclass\u001b[39m \u001b[36mEmpty\u001b[39m\n",
       "defined \u001b[32mclass\u001b[39m \u001b[36mNode\u001b[39m"
      ]
     },
     "execution_count": 9,
     "metadata": {},
     "output_type": "execute_result"
    }
   ],
   "source": [
    "sealed abstract class MyTree[A] extends IterableHE[A] {\n",
    "    type iter_t = List[A]\n",
    "    def getValue(i : List[A]) : Option[A] = i.headOption\n",
    "    def getNext(i: List[A]) : List[A] = i.tail\n",
    "    // add this line\n",
    "    def hasElement(a: A) = IterableHE.hasElement(this.eq, this, a)\n",
    "}\n",
    "// why do we have to pass '_eq'\n",
    "case class Empty[A](_eq: (A,A)=>Boolean) extends MyTree[A] {\n",
    "    def eq(a: A, b: A) = _eq(a, b)\n",
    "    val iter : List[A] = Nil\n",
    "}\n",
    "case class Node[A](_eq: (A,A)=>Boolean, value: A, left: MyTree[A], right: MyTree[A]) extends MyTree[A] {\n",
    "    def eq(a: A, b: A) = _eq(a, b)\n",
    "    val iter : List[A] = value :: (left.iter ++ right.iter)\n",
    "}"
   ]
  },
  {
   "cell_type": "markdown",
   "metadata": {},
   "source": [
    "### Prime Number Example\n",
    "* `primes`: current prime list\n",
    "  * `p := new Primes(11, [2,3,5,7])`\n",
    "  * `p.getNext = new Primes(13, [2,3,5,7,11])`\n",
    "* `forall` List function\n",
    "  * if all elements are `true`"
   ]
  },
  {
   "cell_type": "code",
   "execution_count": 37,
   "metadata": {},
   "outputs": [
    {
     "data": {
      "text/plain": [
       "defined \u001b[32mclass\u001b[39m \u001b[36mPrimes\u001b[39m\n",
       "defined \u001b[32mfunction\u001b[39m \u001b[36mnthPrime\u001b[39m\n",
       "\u001b[36mres36_2\u001b[39m: \u001b[32mInt\u001b[39m = \u001b[32m3\u001b[39m\n",
       "\u001b[36mres36_3\u001b[39m: \u001b[32mInt\u001b[39m = \u001b[32m224743\u001b[39m"
      ]
     },
     "execution_count": 37,
     "metadata": {},
     "output_type": "execute_result"
    }
   ],
   "source": [
    "// should we pass prime and primes? (danger) => Multiple constructor\n",
    "class Primes(val prime: Int, val primes: List[Int]) {\n",
    "    def getNext: Primes = {\n",
    "        val p = computeNextPrime(prime + 2)\n",
    "        new Primes(p, primes ++ (p :: Nil))\n",
    "    }\n",
    "    def computeNextPrime(n: Int) : Int =\n",
    "        if (primes.forall((p:Int) => n%p != 0)) n\n",
    "        else computeNextPrime(n+2)\n",
    "}\n",
    "def nthPrime(n: Int): Int = {\n",
    "    def go(primes: Primes, k: Int): Int =\n",
    "        if (k <= 1) primes.prime\n",
    "        else go(primes.getNext, k - 1)\n",
    "    if (n == 0) 2 else go(new Primes(3, List(3)), n)\n",
    "}\n",
    "new Primes(3, List(3)).prime\n",
    "nthPrime(20000)"
   ]
  },
  {
   "cell_type": "markdown",
   "metadata": {},
   "source": [
    "#### to make `Primes(prime, primes)` private"
   ]
  },
  {
   "cell_type": "code",
   "execution_count": 38,
   "metadata": {},
   "outputs": [
    {
     "data": {
      "text/plain": [
       "defined \u001b[32mclass\u001b[39m \u001b[36mPrimes\u001b[39m\n",
       "defined \u001b[32mfunction\u001b[39m \u001b[36mnthPrime\u001b[39m\n",
       "\u001b[36mres37_2\u001b[39m: \u001b[32mInt\u001b[39m = \u001b[32m3\u001b[39m\n",
       "\u001b[36mres37_3\u001b[39m: \u001b[32mInt\u001b[39m = \u001b[32m224743\u001b[39m"
      ]
     },
     "execution_count": 38,
     "metadata": {},
     "output_type": "execute_result"
    }
   ],
   "source": [
    "class Primes private (val prime: Int, val primes: List[Int]) {\n",
    "    def this() = this(3, List(3))\n",
    "    def getValue: Int = prime\n",
    "    def getNext: Primes = {\n",
    "        val p = computeNextPrime(prime + 2)\n",
    "        new Primes(p, primes ++ (p :: Nil))\n",
    "    }\n",
    "    private def computeNextPrime(n: Int) : Int =\n",
    "        if (primes.forall((p:Int) => n%p != 0)) n\n",
    "        else computeNextPrime(n+2)\n",
    "}\n",
    "def nthPrime(n: Int): Int = {\n",
    "    def go(primes: Primes, k: Int): Int =\n",
    "        if (k <= 1) primes.prime\n",
    "        else go(primes.getNext, k - 1)\n",
    "    if (n == 0) 2 else go(new Primes, n)\n",
    "}\n",
    "new Primes().getValue\n",
    "// not allowed\n",
    "// new Primes(3, List(3)).getValue\n",
    "nthPrime(20000)"
   ]
  },
  {
   "cell_type": "markdown",
   "metadata": {},
   "source": [
    "### OOP vs Type Class\n",
    "* OOP has separated implementation of elimination & constructor while Type Class doesn't."
   ]
  },
  {
   "cell_type": "code",
   "execution_count": 39,
   "metadata": {},
   "outputs": [
    {
     "data": {
      "text/plain": [
       "defined \u001b[32mclass\u001b[39m \u001b[36mPrimesSig\u001b[39m\n",
       "defined \u001b[32mfunction\u001b[39m \u001b[36mnthPrime\u001b[39m\n",
       "defined \u001b[32mclass\u001b[39m \u001b[36mPrimes\u001b[39m\n",
       "defined \u001b[32mclass\u001b[39m \u001b[36mPrimesImpl\u001b[39m\n",
       "\u001b[36mprimesTC\u001b[39m: \u001b[32mPrimesImpl\u001b[39m = ammonite.$sess.cmd38$Helper$PrimesImpl@3304ce27\n",
       "\u001b[36mres38_5\u001b[39m: \u001b[32mInt\u001b[39m = \u001b[32m104743\u001b[39m"
      ]
     },
     "execution_count": 39,
     "metadata": {},
     "output_type": "execute_result"
    }
   ],
   "source": [
    "abstract class PrimesSig[P] {\n",
    "    def makeNew : P\n",
    "    def prime(p: P) : Int\n",
    "    def getNext(p: P) : P\n",
    "}\n",
    "def nthPrime[P](tc: PrimesSig[P])(n: Int): Int = {\n",
    "    def go(p: P, k: Int): Int =\n",
    "        if (k <= 1) tc.prime(p) else go(tc.getNext(p), k - 1)\n",
    "        if (n == 0) 2 else go(tc.makeNew, n)\n",
    "}\n",
    "class Primes private (val prime: Int, protected val primes: List[Int]) {\n",
    "    def this() = this(3, List(3))\n",
    "    def getNext: Primes = {\n",
    "        val p = computeNextPrime(prime + 2)\n",
    "        new Primes(p, primes ++ (p :: Nil))\n",
    "    }\n",
    "    private def computeNextPrime(n: Int) : Int =\n",
    "        if (primes.forall((p:Int) => n%p != 0)) n\n",
    "        else computeNextPrime(n+2)\n",
    "}\n",
    "class PrimesImpl extends PrimesSig[Primes] {\n",
    "    def makeNew = new Primes\n",
    "    def prime(p: Primes) = p.prime\n",
    "    def getNext(p: Primes) = p.getNext\n",
    "}\n",
    "val primesTC = new PrimesImpl\n",
    "nthPrime(primesTC)(10000)"
   ]
  },
  {
   "cell_type": "code",
   "execution_count": 43,
   "metadata": {},
   "outputs": [
    {
     "data": {
      "text/plain": [
       "defined \u001b[32mclass\u001b[39m \u001b[36mPrimesSig\u001b[39m\n",
       "defined \u001b[32mfunction\u001b[39m \u001b[36mnthPrime\u001b[39m\n",
       "defined \u001b[32mclass\u001b[39m \u001b[36mPrimes\u001b[39m\n",
       "defined \u001b[32mclass\u001b[39m \u001b[36mPrimesImpl\u001b[39m\n",
       "\u001b[36mprimesTC\u001b[39m: \u001b[32mPrimesImpl\u001b[39m = ammonite.$sess.cmd42$Helper$PrimesImpl@7cac080f\n",
       "\u001b[36mres42_5\u001b[39m: \u001b[32mInt\u001b[39m = \u001b[32m104743\u001b[39m"
      ]
     },
     "execution_count": 43,
     "metadata": {},
     "output_type": "execute_result"
    }
   ],
   "source": [
    "abstract class PrimesSig[P] {\n",
    "    def makeNew : P\n",
    "    def prime(p: P) : Int\n",
    "    def getNext(p: P) : P\n",
    "}\n",
    "def nthPrime[P](n: Int)(implicit tc: PrimesSig[P]): Int = {\n",
    "    def go(p: P, k: Int): Int =\n",
    "        if (k <= 1) tc.prime(p) else go(tc.getNext(p), k - 1)\n",
    "        if (n == 0) 2 else go(tc.makeNew, n)\n",
    "}\n",
    "class Primes private (val prime: Int, protected val primes: List[Int]) {\n",
    "    def this() = this(3, List(3))\n",
    "    def getNext: Primes = {\n",
    "        val p = computeNextPrime(prime + 2)\n",
    "        new Primes(p, primes ++ (p :: Nil))\n",
    "    }\n",
    "    private def computeNextPrime(n: Int) : Int =\n",
    "        if (primes.forall((p:Int) => n%p != 0)) n\n",
    "        else computeNextPrime(n+2)\n",
    "}\n",
    "class PrimesImpl extends PrimesSig[Primes] {\n",
    "    def makeNew = new Primes\n",
    "    def prime(p: Primes) = p.prime\n",
    "    def getNext(p: Primes) = p.getNext\n",
    "}\n",
    "implicit val primesTC = new PrimesImpl\n",
    "nthPrime(10000)"
   ]
  }
 ],
 "metadata": {
  "kernelspec": {
   "display_name": "Scala",
   "language": "scala",
   "name": "scala"
  },
  "language_info": {
   "codemirror_mode": "text/x-scala",
   "file_extension": ".sc",
   "mimetype": "text/x-scala",
   "name": "scala",
   "nbconvert_exporter": "script",
   "version": "2.13.3"
  }
 },
 "nbformat": 4,
 "nbformat_minor": 4
}
