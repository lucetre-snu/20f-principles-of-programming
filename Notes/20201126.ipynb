{
 "cells": [
  {
   "cell_type": "code",
   "execution_count": 1,
   "metadata": {},
   "outputs": [
    {
     "data": {
      "text/plain": [
       "defined \u001b[32mtrait\u001b[39m \u001b[36mIter\u001b[39m\n",
       "defined \u001b[32mtrait\u001b[39m \u001b[36mIterable\u001b[39m"
      ]
     },
     "execution_count": 1,
     "metadata": {},
     "output_type": "execute_result"
    }
   ],
   "source": [
    "trait Iter[I,A] {\n",
    "    def getValue(i: I): Option[A]\n",
    "    def getNext(i: I): I\n",
    "}\n",
    "\n",
    "trait Iterable[R,A] {\n",
    "    type Itr\n",
    "    def iterIF: Iter[Itr, A]\n",
    "    def iter(a: R): Itr\n",
    "}"
   ]
  },
  {
   "cell_type": "code",
   "execution_count": 2,
   "metadata": {},
   "outputs": [
    {
     "data": {
      "text/plain": [
       "defined \u001b[32mfunction\u001b[39m \u001b[36msumElements\u001b[39m\n",
       "defined \u001b[32mfunction\u001b[39m \u001b[36mprintElements\u001b[39m"
      ]
     },
     "execution_count": 2,
     "metadata": {},
     "output_type": "execute_result"
    }
   ],
   "source": [
    "def sumElements[I](xs: I)(implicit IT: Iter[I,Int]): Int = {\n",
    "    IT.getValue(xs) match {\n",
    "        case None => 0\n",
    "        case Some(n) => n + sumElements(IT.getNext(xs))\n",
    "    }\n",
    "}\n",
    "\n",
    "def printElements[I,A](xs: I)(implicit IT: Iter[I,A]): Any = {\n",
    "    IT.getValue(xs) match {\n",
    "        case None => 0\n",
    "        case Some(n) => {\n",
    "            println(n)\n",
    "            printElements(IT.getNext(xs))\n",
    "        }\n",
    "    }\n",
    "}"
   ]
  },
  {
   "cell_type": "code",
   "execution_count": 3,
   "metadata": {},
   "outputs": [
    {
     "data": {
      "text/plain": [
       "defined \u001b[32mfunction\u001b[39m \u001b[36msumElements2\u001b[39m\n",
       "defined \u001b[32mfunction\u001b[39m \u001b[36mprintElements2\u001b[39m"
      ]
     },
     "execution_count": 3,
     "metadata": {},
     "output_type": "execute_result"
    }
   ],
   "source": [
    "def sumElements2[R](xs: R)(implicit ITR: Iterable[R,Int]) = {\n",
    "//     sumElements[ITR.Itr](ITR.iter(xs))(ITR.iterIF)\n",
    "    sumElements(ITR.iter(xs))(ITR.iterIF)\n",
    "}\n",
    "def printElements2[R,A](xs: R)(implicit ITR: Iterable[R,A]) = {\n",
    "//     printElements[ITR.Itr,A](ITR.iter(xs))(ITR.iterIF)\n",
    "    printElements(ITR.iter(xs))(ITR.iterIF)\n",
    "}"
   ]
  },
  {
   "cell_type": "code",
   "execution_count": 4,
   "metadata": {},
   "outputs": [
    {
     "data": {
      "text/plain": [
       "defined \u001b[32mtrait\u001b[39m \u001b[36mListIF\u001b[39m\n",
       "defined \u001b[32mtrait\u001b[39m \u001b[36mTreeIF\u001b[39m"
      ]
     },
     "execution_count": 4,
     "metadata": {},
     "output_type": "execute_result"
    }
   ],
   "source": [
    "trait ListIF[L,A] {\n",
    "    def empty: L\n",
    "    def head(l: L): Option[A]\n",
    "    def tail(l: L): L\n",
    "    def cons(a: A, I: L): L\n",
    "    def append(l1: L, l2: L): L\n",
    "}\n",
    "trait TreeIF[T,A] {\n",
    "    def empty: T\n",
    "    def node(a: A, l: T, r: T): T\n",
    "    def head(t: T): Option[A]\n",
    "    def left(t: T): T\n",
    "    def right(r: T): T\n",
    "}"
   ]
  },
  {
   "cell_type": "code",
   "execution_count": 5,
   "metadata": {},
   "outputs": [
    {
     "data": {
      "text/plain": [
       "defined \u001b[32mfunction\u001b[39m \u001b[36mtestList\u001b[39m\n",
       "defined \u001b[32mfunction\u001b[39m \u001b[36mtestTree\u001b[39m"
      ]
     },
     "execution_count": 5,
     "metadata": {},
     "output_type": "execute_result"
    }
   ],
   "source": [
    "def testList[L](implicit LI: ListIF[L,Int], IT: Iter[L,Int]) {\n",
    "    val l = LI.cons(3, LI.cons(5, LI.cons(2, LI.cons(1, LI.empty))))\n",
    "    println(sumElements(l))\n",
    "    printElements(l)\n",
    "}\n",
    "def testTree[T](implicit TI: TreeIF[T,Int], ITR: Iterable[T,Int]) {\n",
    "    val t: T = TI.node(3, TI.node(4, TI.empty, TI.empty), TI.node(2, TI.empty, TI.empty))\n",
    "    println(sumElements2(t))\n",
    "    printElements2(t)\n",
    "}"
   ]
  },
  {
   "cell_type": "code",
   "execution_count": 6,
   "metadata": {},
   "outputs": [
    {
     "data": {
      "text/plain": [
       "defined \u001b[32mfunction\u001b[39m \u001b[36mlistIter\u001b[39m\n",
       "defined \u001b[32mfunction\u001b[39m \u001b[36mlistIF\u001b[39m"
      ]
     },
     "execution_count": 6,
     "metadata": {},
     "output_type": "execute_result"
    }
   ],
   "source": [
    "implicit def listIter[A]: Iter[List[A],A] = {\n",
    "    new Iter[List[A],A] {\n",
    "        def getValue(a: List[A]) = a.headOption\n",
    "        def getNext(a: List[A]) = a.tail\n",
    "    }\n",
    "}\n",
    "\n",
    "implicit def listIF[A]: ListIF[List[A],A] = {\n",
    "    new ListIF[List[A],A] {\n",
    "        def empty: List[A] = Nil\n",
    "        def head(l: List[A]) = l.headOption\n",
    "        def tail(l: List[A]) = l.tail\n",
    "        def cons(a: A, l: List[A]) = a :: l\n",
    "        def append(l1: List[A], l2: List[A]) = l1 ::: l2\n",
    "    }\n",
    "}"
   ]
  },
  {
   "cell_type": "code",
   "execution_count": 7,
   "metadata": {},
   "outputs": [
    {
     "data": {
      "text/plain": [
       "defined \u001b[32mclass\u001b[39m \u001b[36mMyTree\u001b[39m\n",
       "defined \u001b[32mclass\u001b[39m \u001b[36mEmpty\u001b[39m\n",
       "defined \u001b[32mclass\u001b[39m \u001b[36mNode\u001b[39m\n",
       "defined \u001b[32mfunction\u001b[39m \u001b[36mtreeIF\u001b[39m"
      ]
     },
     "execution_count": 7,
     "metadata": {},
     "output_type": "execute_result"
    }
   ],
   "source": [
    "sealed abstract class MyTree[A]\n",
    "case class Empty[A]() extends MyTree[A]\n",
    "case class Node[A](value: A, left: MyTree[A], right: MyTree[A]) extends MyTree[A]\n",
    "implicit def treeIF[A]: TreeIF[MyTree[A],A] = {\n",
    "    new TreeIF[MyTree[A],A] {\n",
    "        def empty = Empty()\n",
    "        def node(a: A, l: MyTree[A], r: MyTree[A]) = Node(a,l,r)\n",
    "        def head(t: MyTree[A]) = t match { \n",
    "            case Empty() => None\n",
    "            case Node(v,_,_) => Some(v)    \n",
    "        }\n",
    "        def left(t: MyTree[A]) = t match {\n",
    "            case Empty() => t\n",
    "            case Node(_,lt,_) => lt    \n",
    "        }\n",
    "        def right(t: MyTree[A]) = t match {\n",
    "            case Empty() => t\n",
    "            case Node(_,_,rt) => rt    \n",
    "        }  \n",
    "    }\n",
    "}"
   ]
  },
  {
   "cell_type": "code",
   "execution_count": 8,
   "metadata": {},
   "outputs": [
    {
     "data": {
      "text/plain": [
       "defined \u001b[32mfunction\u001b[39m \u001b[36mtreeIterable\u001b[39m"
      ]
     },
     "execution_count": 8,
     "metadata": {},
     "output_type": "execute_result"
    }
   ],
   "source": [
    "def treeIterable[L,A](implicit IF: ListIF[L,A], IT: Iter[L,A]): Iterable[MyTree[A], A] = {\n",
    "    new Iterable[MyTree[A], A] {\n",
    "        type Itr = L\n",
    "        def iter(a: MyTree[A]): L = a match {\n",
    "            case Empty() => IF.empty\n",
    "            case Node(v, left, right) => IF.cons(v, IF.append(iter(left), iter(right)))    \n",
    "        }\n",
    "        val iterIF = IT\n",
    "    }\n",
    "}"
   ]
  },
  {
   "cell_type": "code",
   "execution_count": 9,
   "metadata": {},
   "outputs": [
    {
     "data": {
      "text/plain": [
       "defined \u001b[32mfunction\u001b[39m \u001b[36mtreeIterableList\u001b[39m"
      ]
     },
     "execution_count": 9,
     "metadata": {},
     "output_type": "execute_result"
    }
   ],
   "source": [
    "implicit def treeIterableList[A] = treeIterable[List[A],A]"
   ]
  },
  {
   "cell_type": "code",
   "execution_count": 10,
   "metadata": {},
   "outputs": [
    {
     "name": "stdout",
     "output_type": "stream",
     "text": [
      "11\n",
      "3\n",
      "5\n",
      "2\n",
      "1\n"
     ]
    }
   ],
   "source": [
    "testList[List[Int]]"
   ]
  },
  {
   "cell_type": "code",
   "execution_count": 11,
   "metadata": {},
   "outputs": [
    {
     "name": "stdout",
     "output_type": "stream",
     "text": [
      "9\n",
      "3\n",
      "4\n",
      "2\n"
     ]
    }
   ],
   "source": [
    "testTree[MyTree[Int]]"
   ]
  },
  {
   "cell_type": "code",
   "execution_count": 12,
   "metadata": {},
   "outputs": [
    {
     "name": "stdout",
     "output_type": "stream",
     "text": [
      "3\n",
      "5\n",
      "2\n",
      "1\n"
     ]
    },
    {
     "data": {
      "text/plain": [
       "defined \u001b[32mfunction\u001b[39m \u001b[36miterIterable\u001b[39m\n",
       "\u001b[36ml\u001b[39m: \u001b[32mList\u001b[39m[\u001b[32mInt\u001b[39m] = \u001b[33mList\u001b[39m(\u001b[32m3\u001b[39m, \u001b[32m5\u001b[39m, \u001b[32m2\u001b[39m, \u001b[32m1\u001b[39m)\n",
       "\u001b[36mres11_2\u001b[39m: \u001b[32mInt\u001b[39m = \u001b[32m11\u001b[39m\n",
       "\u001b[36mres11_3\u001b[39m: \u001b[32mAny\u001b[39m = \u001b[32m0\u001b[39m"
      ]
     },
     "execution_count": 12,
     "metadata": {},
     "output_type": "execute_result"
    }
   ],
   "source": [
    "implicit def iterIterable[I,A](implicit IT: Iter[I,A]): Iterable[I,A] = {\n",
    "    new Iterable[I,A] {\n",
    "        type Itr = I\n",
    "        def iter(a: I): I = a\n",
    "        def iterIF: Iter[I,A] = IT\n",
    "    }\n",
    "}\n",
    "val l= List(3,5,2,1)\n",
    "sumElements2(l)\n",
    "printElements2(l)"
   ]
  },
  {
   "cell_type": "code",
   "execution_count": null,
   "metadata": {},
   "outputs": [],
   "source": []
  }
 ],
 "metadata": {
  "kernelspec": {
   "display_name": "Scala",
   "language": "scala",
   "name": "scala"
  },
  "language_info": {
   "codemirror_mode": "text/x-scala",
   "file_extension": ".sc",
   "mimetype": "text/x-scala",
   "name": "scala",
   "nbconvert_exporter": "script",
   "version": "2.13.3"
  }
 },
 "nbformat": 4,
 "nbformat_minor": 4
}
