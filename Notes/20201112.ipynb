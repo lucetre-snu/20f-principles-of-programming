{
 "cells": [
  {
   "cell_type": "markdown",
   "metadata": {},
   "source": [
    "### Intersection Types"
   ]
  },
  {
   "cell_type": "code",
   "execution_count": 1,
   "metadata": {},
   "outputs": [
    {
     "data": {
      "text/plain": [
       "defined \u001b[32mtrait\u001b[39m \u001b[36mT1\u001b[39m\n",
       "defined \u001b[32mtrait\u001b[39m \u001b[36mT2\u001b[39m\n",
       "defined \u001b[32mtype\u001b[39m \u001b[36mT\u001b[39m"
      ]
     },
     "execution_count": 1,
     "metadata": {},
     "output_type": "execute_result"
    }
   ],
   "source": [
    "trait T1 { val a: Int = 0 }\n",
    "trait T2 { val b: Int = 0 }\n",
    "type T = T1 with T2"
   ]
  },
  {
   "cell_type": "code",
   "execution_count": 2,
   "metadata": {},
   "outputs": [
    {
     "data": {
      "text/plain": [
       "\u001b[36mres1_0\u001b[39m: \u001b[32mBoolean\u001b[39m = true\n",
       "\u001b[36mres1_1\u001b[39m: \u001b[32mBoolean\u001b[39m = true"
      ]
     },
     "execution_count": 2,
     "metadata": {},
     "output_type": "execute_result"
    }
   ],
   "source": [
    "typeOf[T] <:< typeOf[T1]\n",
    "typeOf[T] <:< typeOf[T2]"
   ]
  },
  {
   "cell_type": "markdown",
   "metadata": {},
   "source": [
    "#### Permutation"
   ]
  },
  {
   "cell_type": "code",
   "execution_count": 3,
   "metadata": {},
   "outputs": [
    {
     "data": {
      "text/plain": [
       "\u001b[36mres2_0\u001b[39m: \u001b[32mBoolean\u001b[39m = true\n",
       "\u001b[36mres2_1\u001b[39m: \u001b[32mBoolean\u001b[39m = true"
      ]
     },
     "execution_count": 3,
     "metadata": {},
     "output_type": "execute_result"
    }
   ],
   "source": [
    "typeOf[T1 with T2] <:< typeOf[T2 with T1]\n",
    "typeOf[T2 with T1] <:< typeOf[T1 with T2]"
   ]
  },
  {
   "cell_type": "markdown",
   "metadata": {},
   "source": [
    "#### Width"
   ]
  },
  {
   "cell_type": "code",
   "execution_count": 4,
   "metadata": {},
   "outputs": [
    {
     "data": {
      "text/plain": [
       "\u001b[36mres3_0\u001b[39m: \u001b[32mBoolean\u001b[39m = true\n",
       "\u001b[36mres3_1\u001b[39m: \u001b[32mBoolean\u001b[39m = true"
      ]
     },
     "execution_count": 4,
     "metadata": {},
     "output_type": "execute_result"
    }
   ],
   "source": [
    "typeOf[T1 with T2] <:< typeOf[T2]\n",
    "typeOf[T1 with T2] <:< typeOf[T1]"
   ]
  },
  {
   "cell_type": "markdown",
   "metadata": {},
   "source": [
    "#### Depth"
   ]
  },
  {
   "cell_type": "code",
   "execution_count": 5,
   "metadata": {},
   "outputs": [
    {
     "data": {
      "text/plain": [
       "defined \u001b[32mtrait\u001b[39m \u001b[36mT3\u001b[39m\n",
       "\u001b[36mres4_1\u001b[39m: \u001b[32mBoolean\u001b[39m = true"
      ]
     },
     "execution_count": 5,
     "metadata": {},
     "output_type": "execute_result"
    }
   ],
   "source": [
    "trait T3 extends T2 { override val b: Int = 2 }\n",
    "typeOf[T1 with T3] <:< typeOf[T1 with T2]"
   ]
  },
  {
   "attachments": {
    "image.png": {
     "image/png": "[encoded data removed]"
    }
   },
   "cell_type": "markdown",
   "metadata": {},
   "source": [
    "### Stacking with Traits\n",
    "![image.png](attachment:image.png)"
   ]
  },
  {
   "cell_type": "code",
   "execution_count": 6,
   "metadata": {},
   "outputs": [
    {
     "data": {
      "text/plain": [
       "defined \u001b[32mtrait\u001b[39m \u001b[36mStack\u001b[39m\n",
       "defined \u001b[32mclass\u001b[39m \u001b[36mBasicIntStack\u001b[39m\n",
       "\u001b[36mstack\u001b[39m: \u001b[32mBasicIntStack\u001b[39m = ammonite.$sess.cmd5$Helper$BasicIntStack@389ee810\n",
       "\u001b[36mres5_3\u001b[39m: (\u001b[32mInt\u001b[39m, \u001b[32mBasicIntStack\u001b[39m) = (\n",
       "  \u001b[32m1\u001b[39m,\n",
       "  ammonite.$sess.cmd5$Helper$BasicIntStack@7ba14052\n",
       ")"
      ]
     },
     "execution_count": 6,
     "metadata": {},
     "output_type": "execute_result"
    }
   ],
   "source": [
    "trait Stack[A] {\n",
    "    def get(): (A, Stack[A])\n",
    "    def put(x: Int): Stack[A]\n",
    "}\n",
    "\n",
    "class BasicIntStack protected (xs: List[Int]) extends Stack[Int] {\n",
    "    def this() = this(Nil)\n",
    "    def get() = (xs.head, new BasicIntStack(xs.tail))\n",
    "    def put(x: Int) = new BasicIntStack(x :: xs)\n",
    "}\n",
    "\n",
    "val stack = new BasicIntStack().put(1)\n",
    "stack.get"
   ]
  },
  {
   "cell_type": "code",
   "execution_count": 7,
   "metadata": {},
   "outputs": [
    {
     "data": {
      "text/plain": [
       "defined \u001b[32mtrait\u001b[39m \u001b[36mDoubling\u001b[39m\n",
       "defined \u001b[32mtrait\u001b[39m \u001b[36mIncrementing\u001b[39m\n",
       "defined \u001b[32mtrait\u001b[39m \u001b[36mFiltering\u001b[39m"
      ]
     },
     "execution_count": 7,
     "metadata": {},
     "output_type": "execute_result"
    }
   ],
   "source": [
    "trait Doubling extends Stack[Int] {\n",
    "    // why abstract? super.put not exists, not to indicate core as super\n",
    "    // not in compile-time, in run-time constructor (super while post-order traversal)\n",
    "    // extends with with ...\n",
    "    abstract override def put(x: Int): Stack[Int] = super.put(2 * x)\n",
    "}\n",
    "\n",
    "trait Incrementing extends Stack[Int] {\n",
    "    abstract override def put(x: Int): Stack[Int] = super.put(x+ 1)\n",
    "}\n",
    "\n",
    "trait Filtering extends Stack[Int] {\n",
    "    abstract override def put(x: Int): Stack[Int] = {\n",
    "        if(x >= 0) super.put(x)\n",
    "        else this\n",
    "    }\n",
    "}"
   ]
  },
  {
   "cell_type": "code",
   "execution_count": 8,
   "metadata": {},
   "outputs": [
    {
     "data": {
      "text/plain": [
       "defined \u001b[32mclass\u001b[39m \u001b[36mBasicIntStack\u001b[39m"
      ]
     },
     "execution_count": 8,
     "metadata": {},
     "output_type": "execute_result"
    }
   ],
   "source": [
    "class BasicIntStack protected (xs: List[Int]) extends Stack[Int] {\n",
    "    def this() = this(Nil)\n",
    "    def get() = (xs.head, new BasicIntStack(xs.tail))\n",
    "    // indicate Stack[Int]\n",
    "    def put(x: Int): Stack[Int] = new BasicIntStack(x :: xs)\n",
    "}"
   ]
  },
  {
   "cell_type": "code",
   "execution_count": 9,
   "metadata": {},
   "outputs": [
    {
     "data": {
      "text/plain": [
       "defined \u001b[32mclass\u001b[39m \u001b[36mDStack\u001b[39m\n",
       "\u001b[36mres8_1\u001b[39m: (\u001b[32mInt\u001b[39m, \u001b[32mStack\u001b[39m[\u001b[32mInt\u001b[39m]) = (\n",
       "  \u001b[32m6\u001b[39m,\n",
       "  ammonite.$sess.cmd7$Helper$BasicIntStack@346b480\n",
       ")\n",
       "\u001b[36mres8_2\u001b[39m: (\u001b[32mInt\u001b[39m, \u001b[32mStack\u001b[39m[\u001b[32mInt\u001b[39m]) = (\n",
       "  \u001b[32m4\u001b[39m,\n",
       "  ammonite.$sess.cmd7$Helper$BasicIntStack@6408a577\n",
       ")"
      ]
     },
     "execution_count": 9,
     "metadata": {},
     "output_type": "execute_result"
    }
   ],
   "source": [
    "class DStack protected (xs: List[Int]) extends BasicIntStack(xs) with Doubling {\n",
    "    def this() = this(Nil)\n",
    "    // How to call DStack constructor\n",
    "}\n",
    "\n",
    "// correct\n",
    "new DStack().put(3).get\n",
    "\n",
    "// wrong\n",
    "new DStack().put(3).put(4).get"
   ]
  },
  {
   "cell_type": "markdown",
   "metadata": {},
   "source": [
    "#### *To make it correct?*"
   ]
  },
  {
   "cell_type": "code",
   "execution_count": 10,
   "metadata": {},
   "outputs": [
    {
     "data": {
      "text/plain": [
       "defined \u001b[32mclass\u001b[39m \u001b[36mBasicIntStack\u001b[39m\n",
       "defined \u001b[32mclass\u001b[39m \u001b[36mDStack\u001b[39m\n",
       "\u001b[36mres9_2\u001b[39m: (\u001b[32mInt\u001b[39m, \u001b[32mStack\u001b[39m[\u001b[32mInt\u001b[39m]) = (\n",
       "  \u001b[32m6\u001b[39m,\n",
       "  ammonite.$sess.cmd9$Helper$BasicIntStack@4140e168\n",
       ")\n",
       "\u001b[36mres9_3\u001b[39m: (\u001b[32mInt\u001b[39m, \u001b[32mStack\u001b[39m[\u001b[32mInt\u001b[39m]) = (\n",
       "  \u001b[32m8\u001b[39m,\n",
       "  ammonite.$sess.cmd9$Helper$BasicIntStack@64269c70\n",
       ")\n",
       "\u001b[36mres9_4\u001b[39m: (\u001b[32mInt\u001b[39m, \u001b[32mStack\u001b[39m[\u001b[32mInt\u001b[39m]) = (\n",
       "  \u001b[32m2\u001b[39m,\n",
       "  ammonite.$sess.cmd9$Helper$BasicIntStack@49a92781\n",
       ")"
      ]
     },
     "execution_count": 10,
     "metadata": {},
     "output_type": "execute_result"
    }
   ],
   "source": [
    "class BasicIntStack protected (xs: List[Int]) extends Stack[Int] {\n",
    "    def this() = this(Nil)\n",
    "    def get() = (xs.head, new BasicIntStack(xs.tail))\n",
    "    def mkStack(_xs: List[Int]) = new BasicIntStack(_xs)\n",
    "    def put(x: Int): Stack[Int] = mkStack(x :: xs)\n",
    "}\n",
    "\n",
    "class DStack protected (xs: List[Int]) extends BasicIntStack(xs) with Doubling {\n",
    "    def this() = this(Nil)\n",
    "    override def mkStack(_xs: List[Int]) = new DStack(_xs)\n",
    "}\n",
    "\n",
    "// correct\n",
    "new DStack().put(3).get\n",
    "new DStack().put(3).put(4).get\n",
    "\n",
    "// wrong\n",
    "new DStack().put(3).get._2.put(2).get"
   ]
  },
  {
   "cell_type": "code",
   "execution_count": 11,
   "metadata": {},
   "outputs": [
    {
     "data": {
      "text/plain": [
       "defined \u001b[32mclass\u001b[39m \u001b[36mBasicIntStack\u001b[39m\n",
       "defined \u001b[32mclass\u001b[39m \u001b[36mDStack\u001b[39m\n",
       "\u001b[36mres10_2\u001b[39m: (\u001b[32mInt\u001b[39m, \u001b[32mStack\u001b[39m[\u001b[32mInt\u001b[39m]) = (\u001b[32m6\u001b[39m, ammonite.$sess.cmd10$Helper$DStack@5b07af7e)\n",
       "\u001b[36mres10_3\u001b[39m: (\u001b[32mInt\u001b[39m, \u001b[32mStack\u001b[39m[\u001b[32mInt\u001b[39m]) = (\u001b[32m8\u001b[39m, ammonite.$sess.cmd10$Helper$DStack@2c1016dd)\n",
       "\u001b[36mres10_4\u001b[39m: (\u001b[32mInt\u001b[39m, \u001b[32mStack\u001b[39m[\u001b[32mInt\u001b[39m]) = (\u001b[32m4\u001b[39m, ammonite.$sess.cmd10$Helper$DStack@28e01f97)"
      ]
     },
     "execution_count": 11,
     "metadata": {},
     "output_type": "execute_result"
    }
   ],
   "source": [
    "class BasicIntStack protected (xs: List[Int]) extends Stack[Int] {\n",
    "    def this() = this(Nil)\n",
    "    def mkStack(_xs: List[Int]) = new BasicIntStack(_xs)\n",
    "    def get() = (xs.head, mkStack(xs.tail))\n",
    "    def put(x: Int): Stack[Int] = mkStack(x :: xs)\n",
    "}\n",
    "\n",
    "class DStack protected (xs: List[Int]) extends BasicIntStack(xs) with Doubling {\n",
    "    def this() = this(Nil)\n",
    "    override def mkStack(_xs: List[Int]) = new DStack(_xs)\n",
    "}\n",
    "\n",
    "// correct\n",
    "new DStack().put(3).get\n",
    "new DStack().put(3).put(4).get\n",
    "new DStack().put(3).get._2.put(2).get"
   ]
  },
  {
   "cell_type": "markdown",
   "metadata": {},
   "source": [
    "### Doubling Incrementing Filtering Stack"
   ]
  },
  {
   "cell_type": "code",
   "execution_count": 12,
   "metadata": {},
   "outputs": [
    {
     "data": {
      "text/plain": [
       "defined \u001b[32mclass\u001b[39m \u001b[36mDIFStack\u001b[39m\n",
       "\u001b[36mres11_1\u001b[39m: (\u001b[32mInt\u001b[39m, \u001b[32mStack\u001b[39m[\u001b[32mInt\u001b[39m]) = (\u001b[32m8\u001b[39m, ammonite.$sess.cmd11$Helper$DIFStack@7f99bf89)\n",
       "\u001b[36mres11_2\u001b[39m: (\u001b[32mInt\u001b[39m, \u001b[32mStack\u001b[39m[\u001b[32mInt\u001b[39m]) = (\u001b[32m8\u001b[39m, ammonite.$sess.cmd11$Helper$DIFStack@2411a9a8)\n",
       "\u001b[36mres11_3\u001b[39m: (\u001b[32mInt\u001b[39m, \u001b[32mStack\u001b[39m[\u001b[32mInt\u001b[39m]) = (\u001b[32m4\u001b[39m, ammonite.$sess.cmd11$Helper$DIFStack@605f6b52)"
      ]
     },
     "execution_count": 12,
     "metadata": {},
     "output_type": "execute_result"
    }
   ],
   "source": [
    "class DIFStack protected (xs: List[Int]) extends BasicIntStack(xs) with Doubling with Incrementing with Filtering {\n",
    "    def this() = this(Nil)\n",
    "    override def mkStack(_xs: List[Int]) = new DIFStack(_xs)\n",
    "}\n",
    "\n",
    "new DIFStack().put(3).get\n",
    "new DIFStack().put(3).put(-1).get\n",
    "new DIFStack().put(3).get._2.put(1).get"
   ]
  }
 ],
 "metadata": {
  "kernelspec": {
   "display_name": "Scala",
   "language": "scala",
   "name": "scala"
  },
  "language_info": {
   "codemirror_mode": "text/x-scala",
   "file_extension": ".sc",
   "mimetype": "text/x-scala",
   "name": "scala",
   "nbconvert_exporter": "script",
   "version": "2.13.3"
  }
 },
 "nbformat": 4,
 "nbformat_minor": 4
}
