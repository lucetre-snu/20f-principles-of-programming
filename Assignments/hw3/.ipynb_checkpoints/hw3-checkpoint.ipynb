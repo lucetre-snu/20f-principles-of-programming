{
 "cells": [
  {
   "cell_type": "markdown",
   "metadata": {},
   "source": [
    "### Exercise 1: Basic trait"
   ]
  },
  {
   "cell_type": "code",
   "execution_count": 117,
   "metadata": {},
   "outputs": [
    {
     "data": {
      "text/plain": [
       "\u001b[32mimport \u001b[39m\u001b[36mscala.annotation.tailrec\n",
       "\n",
       "\u001b[39m\n",
       "defined \u001b[32mtrait\u001b[39m \u001b[36mEncryptor\u001b[39m\n",
       "defined \u001b[32mtrait\u001b[39m \u001b[36mDecryptor\u001b[39m\n",
       "defined \u001b[32mtrait\u001b[39m \u001b[36mCipherGen\u001b[39m"
      ]
     },
     "execution_count": 117,
     "metadata": {},
     "output_type": "execute_result"
    }
   ],
   "source": [
    "import scala.annotation.tailrec\n",
    "\n",
    "trait Encryptor {\n",
    "    /** Encrypts given character and returns a next state of the encryptor\n",
    "    *\n",
    "    * @param c a character to be encrypted\n",
    "    * @return an encrypted character and a next state of this encryptor\n",
    "    */\n",
    "    def encrypt(c: Char): (Char, Encryptor)\n",
    "\n",
    "    /** Encrypts given string and returns a next state of the encryptor\n",
    "    *\n",
    "    * @param s a string to be encrypted\n",
    "    * @return an encrypted string and a next state of this encryptor\n",
    "    */\n",
    "    def encrypt(s: String): (String, Encryptor) = {\n",
    "        @tailrec\n",
    "        def encryptIter(i: Int, newS: String, newEncryptor: Encryptor): (String, Encryptor) = {\n",
    "            if (i >= s.length) (newS, newEncryptor)\n",
    "            else {\n",
    "                val res = newEncryptor.encrypt(s(i))\n",
    "                encryptIter(i+1, newS + res._1, res._2)\n",
    "            }\n",
    "        }\n",
    "        encryptIter(0, \"\", this)\n",
    "    }\n",
    "}\n",
    "\n",
    "/** Abstract state of Decryptor */\n",
    "trait Decryptor {\n",
    "    /** Decrypts given character and returns a next state of the decryptor\n",
    "    *\n",
    "    * @param c a character to be decrypted\n",
    "    * @return a decrypted character and a next state of this decryptor\n",
    "    */\n",
    "    def decrypt(c: Char): (Char, Decryptor)\n",
    "\n",
    "    /** Decrypts given string and returns a next state of the decryptor\n",
    "    *\n",
    "    * @param s a string to be decrypted\n",
    "    * @return a decrypted string and a next state of this decryptor\n",
    "    */\n",
    "    def decrypt(s: String): (String, Decryptor) = {\n",
    "        @tailrec\n",
    "        def decryptIter(i: Int, newS: String, newDecryptor: Decryptor): (String, Decryptor) = {\n",
    "            if (i >= s.length) (newS, newDecryptor)\n",
    "            else {\n",
    "                val res = newDecryptor.decrypt(s(i))\n",
    "                decryptIter(i+1, newS + res._1, res._2)\n",
    "            }\n",
    "        }\n",
    "        decryptIter(0, \"\", this)\n",
    "    }\n",
    "}\n",
    "\n",
    "/** Cipher Generator */\n",
    "trait CipherGen[T] {\n",
    "    /** generates encryptor by initial settings */\n",
    "    def buildEncryptor(initSetting: T): Encryptor\n",
    "\n",
    "    /** generates decryptor by initial settings */\n",
    "    def buildDecryptor(initSetting: T): Decryptor\n",
    "}"
   ]
  },
  {
   "cell_type": "markdown",
   "metadata": {},
   "source": [
    "### Exercise 2: Caesar cipher"
   ]
  },
  {
   "cell_type": "code",
   "execution_count": 118,
   "metadata": {},
   "outputs": [
    {
     "data": {
      "text/plain": [
       "defined \u001b[32mobject\u001b[39m \u001b[36mCaesar\u001b[39m\n",
       "defined \u001b[32mclass\u001b[39m \u001b[36mCaesarEncryptor\u001b[39m\n",
       "defined \u001b[32mclass\u001b[39m \u001b[36mCaesarDecryptor\u001b[39m"
      ]
     },
     "execution_count": 118,
     "metadata": {},
     "output_type": "execute_result"
    }
   ],
   "source": [
    "object Caesar extends CipherGen[Int] {\n",
    "    /** Makes new encoder\n",
    "    *\n",
    "    * @param initSetting shifted value (0 <= initSetting < 26)\n",
    "    * @return new Caesar cipher encryptor\n",
    "    */\n",
    "    def buildEncryptor(initSetting: Int): CaesarEncryptor = {\n",
    "        new CaesarEncryptor(initSetting)\n",
    "    }\n",
    "\n",
    "    /** Makes new decoder\n",
    "    *\n",
    "    * @param initSetting shifted value (0 <= initSetting < 26)\n",
    "    * @return new Caesar cipher decryptor\n",
    "    */\n",
    "    def buildDecryptor(initSetting: Int): CaesarDecryptor = {\n",
    "        new CaesarDecryptor(initSetting)\n",
    "    }\n",
    "}\n",
    "\n",
    "class CaesarEncryptor(shift: Int) extends Encryptor {\n",
    "    def encrypt(c: Char): (Char, CaesarEncryptor) = {\n",
    "        val newC = (c - 'A' + shift) % 26 + 'A'\n",
    "        (newC.toChar, this)\n",
    "    }\n",
    "}\n",
    "\n",
    "class CaesarDecryptor(shift: Int) extends Decryptor {\n",
    "    def decrypt(c: Char): (Char, CaesarDecryptor) = {\n",
    "        val newC = (c - 'A' + 26 - shift) % 26 + 'A'\n",
    "        (newC.toChar, this)\n",
    "    }\n",
    "}\n"
   ]
  },
  {
   "cell_type": "code",
   "execution_count": 119,
   "metadata": {},
   "outputs": [
    {
     "data": {
      "text/plain": [
       "\u001b[36mcaesarE\u001b[39m: \u001b[32mCaesarEncryptor\u001b[39m = ammonite.$sess.cmd117$Helper$CaesarEncryptor@6c9ba57\n",
       "\u001b[36mres118_1\u001b[39m: (\u001b[32mString\u001b[39m, \u001b[32mEncryptor\u001b[39m) = (\n",
       "  \u001b[32m\"QEBNRFZHYOLTKCLUGRJMPLSBOQEBIXWVALD\"\u001b[39m,\n",
       "  ammonite.$sess.cmd117$Helper$CaesarEncryptor@6c9ba57\n",
       ")"
      ]
     },
     "execution_count": 119,
     "metadata": {},
     "output_type": "execute_result"
    }
   ],
   "source": [
    "val caesarE = Caesar.buildEncryptor(23)\n",
    "caesarE.encrypt(\"THEQUICKBROWNFOXJUMPSOVERTHELAZYDOG\") // \"QEBNRFZHYOLTKCLUGRJMPLSBOQEBIXWVALD\""
   ]
  },
  {
   "cell_type": "code",
   "execution_count": 120,
   "metadata": {},
   "outputs": [
    {
     "data": {
      "text/plain": [
       "\u001b[36mcaesarD\u001b[39m: \u001b[32mCaesarDecryptor\u001b[39m = ammonite.$sess.cmd117$Helper$CaesarDecryptor@5790730e\n",
       "\u001b[36mres119_1\u001b[39m: (\u001b[32mString\u001b[39m, \u001b[32mDecryptor\u001b[39m) = (\n",
       "  \u001b[32m\"THEQUICKBROWNFOXJUMPSOVERTHELAZYDOG\"\u001b[39m,\n",
       "  ammonite.$sess.cmd117$Helper$CaesarDecryptor@5790730e\n",
       ")"
      ]
     },
     "execution_count": 120,
     "metadata": {},
     "output_type": "execute_result"
    }
   ],
   "source": [
    "val caesarD = Caesar.buildDecryptor(23)\n",
    "caesarD.decrypt(\"QEBNRFZHYOLTKCLUGRJMPLSBOQEBIXWVALD\") // \"THEQUICKBROWNFOXJUMPSOVERTHELAZYDOG\""
   ]
  },
  {
   "cell_type": "markdown",
   "metadata": {},
   "source": [
    "### Exercise 3: Enigma machine"
   ]
  },
  {
   "cell_type": "code",
   "execution_count": 172,
   "metadata": {},
   "outputs": [
    {
     "data": {
      "text/plain": [
       "\u001b[32mimport \u001b[39m\u001b[36mscala.annotation.tailrec\n",
       "\u001b[39m\n",
       "\u001b[32mimport \u001b[39m\u001b[36mscala.util.control.TailCalls._\n",
       "/** The initial setting of Enigma machine\n",
       " *\n",
       " * We guarantee that the connection of reflectorState is involutive,\n",
       " * that means, forall x, reflectorState.forward(reflectorState.forward(x)) == x\n",
       " *\n",
       " * @param rotorState     The internal wire connections of each Rotor. The first object of the list should be the first rotor.\n",
       " * @param reflectorState The internal wire connection of Reflector.\n",
       " */\n",
       "\u001b[39m\n",
       "defined \u001b[32mclass\u001b[39m \u001b[36mEnigmaSettings\u001b[39m\n",
       "defined \u001b[32mobject\u001b[39m \u001b[36mEnigma\u001b[39m\n",
       "defined \u001b[32mclass\u001b[39m \u001b[36mEnigma\u001b[39m\n",
       "defined \u001b[32mclass\u001b[39m \u001b[36mEnigmaParts\u001b[39m\n",
       "defined \u001b[32mclass\u001b[39m \u001b[36mWire\u001b[39m\n",
       "defined \u001b[32mclass\u001b[39m \u001b[36mRotor\u001b[39m\n",
       "defined \u001b[32mclass\u001b[39m \u001b[36mReflector\u001b[39m\n",
       "\u001b[36mUKW_B_Reflector\u001b[39m: \u001b[32mWire\u001b[39m = \u001b[33mWire\u001b[39m(\u001b[32m\"YRUHQSLDPXNGOKMIEBFZCWVJAT\"\u001b[39m)\n",
       "\u001b[36mwheel1\u001b[39m: \u001b[32mWire\u001b[39m = \u001b[33mWire\u001b[39m(\u001b[32m\"EKMFLGDQVZNTOWYHXUSPAIBRCJ\"\u001b[39m)\n",
       "\u001b[36mwheel2\u001b[39m: \u001b[32mWire\u001b[39m = \u001b[33mWire\u001b[39m(\u001b[32m\"AJDKSIRUXBLHWTMCQGZNPYFVOE\"\u001b[39m)\n",
       "\u001b[36mwheel3\u001b[39m: \u001b[32mWire\u001b[39m = \u001b[33mWire\u001b[39m(\u001b[32m\"BDFHJLCPRTXVZNYEIWGAKMUSQO\"\u001b[39m)\n",
       "\u001b[36menigmaM3Settings\u001b[39m: \u001b[32mEnigmaSettings\u001b[39m = \u001b[33mEnigmaSettings\u001b[39m(\n",
       "  \u001b[33mList\u001b[39m(\n",
       "    \u001b[33mWire\u001b[39m(\u001b[32m\"BDFHJLCPRTXVZNYEIWGAKMUSQO\"\u001b[39m),\n",
       "    \u001b[33mWire\u001b[39m(\u001b[32m\"AJDKSIRUXBLHWTMCQGZNPYFVOE\"\u001b[39m),\n",
       "    \u001b[33mWire\u001b[39m(\u001b[32m\"EKMFLGDQVZNTOWYHXUSPAIBRCJ\"\u001b[39m)\n",
       "  ),\n",
       "  \u001b[33mWire\u001b[39m(\u001b[32m\"YRUHQSLDPXNGOKMIEBFZCWVJAT\"\u001b[39m)\n",
       ")\n",
       "\u001b[36menigmaM3\u001b[39m: \u001b[32mEnigma\u001b[39m = ammonite.$sess.cmd171$Helper$Enigma@1f2f251b\n",
       "\u001b[36mres171_15\u001b[39m: (\u001b[32mString\u001b[39m, \u001b[32mEncryptor\u001b[39m) = (\n",
       "  \u001b[32m\"OPCILLAZFXLQTDNLGGLEKWWTHKQKGXIEZKD\"\u001b[39m,\n",
       "  ammonite.$sess.cmd171$Helper$Enigma@3bcc0452\n",
       ")\n",
       "\u001b[36mres171_16\u001b[39m: (\u001b[32mString\u001b[39m, \u001b[32mDecryptor\u001b[39m) = (\n",
       "  \u001b[32m\"THEQUICKBROWNFOXJUMPSOVERTHELAZYDOG\"\u001b[39m,\n",
       "  ammonite.$sess.cmd171$Helper$Enigma@6719c1ec\n",
       ")"
      ]
     },
     "execution_count": 172,
     "metadata": {},
     "output_type": "execute_result"
    }
   ],
   "source": [
    "import scala.annotation.tailrec\n",
    "import scala.util.control.TailCalls._\n",
    "/** The initial setting of Enigma machine\n",
    " *\n",
    " * We guarantee that the connection of reflectorState is involutive,\n",
    " * that means, forall x, reflectorState.forward(reflectorState.forward(x)) == x\n",
    " *\n",
    " * @param rotorState     The internal wire connections of each Rotor. The first object of the list should be the first rotor.\n",
    " * @param reflectorState The internal wire connection of Reflector.\n",
    " */\n",
    "case class EnigmaSettings(rotorState: List[Wire], reflectorState: Wire)\n",
    "\n",
    "object Enigma extends CipherGen[EnigmaSettings] {\n",
    "    def buildEncryptor(initSetting: EnigmaSettings): Enigma = {\n",
    "//         def buildRotors(rotors: List[Wire]): List[Rotor] = {\n",
    "//             rotors match { \n",
    "//                 case Nil => Nil\n",
    "//                 case wire::tl => Rotor(wire, 'A')::buildRotors(tl)\n",
    "//             }\n",
    "//         }\n",
    "//         val rotors = buildRotors(initSetting.rotorState)\n",
    "        \n",
    "        @tailrec\n",
    "        def buildRotorsCont(rotors: List[Wire], cont: List[Rotor]=>TailRec[List[Rotor]]): List[Rotor] = {\n",
    "            rotors match { \n",
    "                case Nil => cont(Nil).result\n",
    "                case wire::tl => buildRotorsCont(tl, (r)=>tailcall(cont(Rotor(wire, 'A')::r)))\n",
    "            }\n",
    "        }\n",
    "        val rotors = buildRotorsCont(initSetting.rotorState, (r)=>done(r))\n",
    "        val reflector = Reflector(initSetting.reflectorState)\n",
    "        new Enigma(rotors, reflector)\n",
    "    }\n",
    "    def buildDecryptor(initSetting: EnigmaSettings): Enigma = buildEncryptor(initSetting)\n",
    "}\n",
    "\n",
    "class Enigma(rotors: List[Rotor], reflector: Reflector) extends Encryptor with Decryptor {\n",
    "    def encrypt(c: Char): (Char, Enigma) = {\n",
    "//         def buildNewRotors(ls: List[Rotor]): List[Rotor] = {\n",
    "//             ls match {\n",
    "//                 case Nil => Nil\n",
    "//                 case hd::tl => {\n",
    "//                     if (hd.state == 'Z') hd.tick::buildNewRotors(tl)\n",
    "//                     else hd.tick :: tl\n",
    "//                 }\n",
    "//             }\n",
    "//         }\n",
    "//         val newRotors = buildNewRotors(rotors)\n",
    "        \n",
    "        @tailrec\n",
    "        def buildNewRotorsCont(ls: List[Rotor], cont: List[Rotor]=>TailRec[List[Rotor]]): List[Rotor] = {\n",
    "            ls match {\n",
    "                case Nil => cont(Nil).result\n",
    "                case hd::tl => {\n",
    "                    if (hd.state == 'Z') buildNewRotorsCont(tl, (r)=>tailcall(cont(hd.tick::r)))\n",
    "                    else cont(hd.tick::tl).result\n",
    "                }\n",
    "            }\n",
    "        }\n",
    "        val newRotors = buildNewRotorsCont(rotors, (r)=>done(r))\n",
    "        \n",
    "        @tailrec\n",
    "        def rotorsForward(i: Int, c: Char): Char = {\n",
    "            if (i >= newRotors.length) c\n",
    "            else rotorsForward(i+1, newRotors(i).forward(c))\n",
    "        }\n",
    "        @tailrec\n",
    "        def rotorsBackward(i: Int, c: Char): Char = {\n",
    "            if (i < 0) c\n",
    "            else rotorsBackward(i-1, newRotors(i).backward(c))\n",
    "        }\n",
    "        \n",
    "        val c1 = rotorsForward(0, c)\n",
    "        val c2 = reflector.forward(c1)\n",
    "        val c3 = rotorsBackward(newRotors.length-1, c2)\n",
    "        (c3, new Enigma(newRotors, reflector))\n",
    "    }\n",
    "\n",
    "    // Decryption of Enigma machine is same to the Encryption\n",
    "    def decrypt(c: Char): (Char, Enigma) = encrypt(c)\n",
    "}\n",
    "\n",
    "sealed abstract class EnigmaParts {\n",
    "    def forward(c: Char): Char\n",
    "    def backward(c: Char): Char\n",
    "}\n",
    "\n",
    "case class Wire(connection: String) extends EnigmaParts {\n",
    "    def forward(c: Char): Char = connection(c - 'A')\n",
    "    def backward(c: Char): Char = (connection.indexOf(c) + 'A').toChar\n",
    "}\n",
    "\n",
    "case class Rotor(wire: Wire, state: Char) extends EnigmaParts {\n",
    "    def forward(c: Char): Char = wire.forward(c)\n",
    "    def backward(c: Char): Char = wire.backward(c)\n",
    "    \n",
    "    def caesarInc(c: Char): Char = Caesar.buildEncryptor(1).encrypt(c)._1\n",
    "    def caesarDec(c: Char): Char = Caesar.buildEncryptor(25).encrypt(c)._1\n",
    "    \n",
    "    def tick: Rotor = {\n",
    "        @tailrec\n",
    "        def tickIter(i: Int, connection: String): String = {\n",
    "            if (i >= wire.connection.length) connection + caesarDec(wire.connection(0)).toString\n",
    "            else tickIter(i+1, connection + caesarDec(wire.connection(i)).toString)\n",
    "        }\n",
    "        Rotor(Wire(tickIter(1, \"\")), caesarInc(state))\n",
    "    }\n",
    "}\n",
    "\n",
    "case class Reflector(wire: Wire) extends EnigmaParts {\n",
    "    def forward(c: Char): Char = wire.forward(c)\n",
    "    def backward(c: Char): Char = wire.backward(c)\n",
    "}\n",
    "\n",
    "\n",
    "// This is the real enigma machine settings used in WWII.\n",
    "val UKW_B_Reflector = Wire(\"YRUHQSLDPXNGOKMIEBFZCWVJAT\")\n",
    "val wheel1 = Wire(\"EKMFLGDQVZNTOWYHXUSPAIBRCJ\")\n",
    "val wheel2 = Wire(\"AJDKSIRUXBLHWTMCQGZNPYFVOE\")\n",
    "val wheel3 = Wire(\"BDFHJLCPRTXVZNYEIWGAKMUSQO\")\n",
    "val enigmaM3Settings = EnigmaSettings(wheel3 :: wheel2 :: wheel1 :: Nil, UKW_B_Reflector)\n",
    "val enigmaM3 = Enigma.buildEncryptor(enigmaM3Settings)\n",
    "\n",
    "// You can check your implementation from the site below.\n",
    "// https://www.101computing.net/enigma-machine-emulator/\n",
    "// As we do not implement Turnover notch position, \n",
    "// the result of our enigma machine should be differed from 21th letter.\n",
    "enigmaM3.encrypt(\"THEQUICKBROWNFOXJUMPSOVERTHELAZYDOG\") // \"OPCILLAZFXLQTDNLGGLEKWWTHKQKGXIEZKD\")\n",
    "enigmaM3.decrypt(\"OPCILLAZFXLQTDNLGGLEKWWTHKQKGXIEZKD\") // \"THEQUICKBROWNFOXJUMPSOVERTHELAZYDOG\")"
   ]
  },
  {
   "cell_type": "code",
   "execution_count": 173,
   "metadata": {
    "scrolled": true
   },
   "outputs": [
    {
     "data": {
      "text/plain": [
       "\u001b[36mqwertyWheel\u001b[39m: \u001b[32mWire\u001b[39m = \u001b[33mWire\u001b[39m(\u001b[32m\"QWERTYUIOPASDFGHJKLZXCVBNM\"\u001b[39m)\n",
       "\u001b[36mrevReflector\u001b[39m: \u001b[32mWire\u001b[39m = \u001b[33mWire\u001b[39m(\u001b[32m\"ZYXWVUTSRQPONMLKJIHGFEDCBA\"\u001b[39m)\n",
       "\u001b[36mtestSetting\u001b[39m: \u001b[32mEnigmaSettings\u001b[39m = \u001b[33mEnigmaSettings\u001b[39m(\n",
       "  \u001b[33mList\u001b[39m(\u001b[33mWire\u001b[39m(\u001b[32m\"QWERTYUIOPASDFGHJKLZXCVBNM\"\u001b[39m)),\n",
       "  \u001b[33mWire\u001b[39m(\u001b[32m\"ZYXWVUTSRQPONMLKJIHGFEDCBA\"\u001b[39m)\n",
       ")\n",
       "\u001b[36mtestEnigmaEnc\u001b[39m: \u001b[32mEnigma\u001b[39m = ammonite.$sess.cmd171$Helper$Enigma@684d637d\n",
       "\u001b[36mtestEnigmaDec\u001b[39m: \u001b[32mEnigma\u001b[39m = ammonite.$sess.cmd171$Helper$Enigma@72f6e928\n",
       "\u001b[36mres172_5\u001b[39m: \u001b[32mString\u001b[39m = \u001b[32m\"BGRNPHYUUKFEDHKUMWFLWHKFJKXOQEVFRYI\"\u001b[39m\n",
       "\u001b[36mres172_6\u001b[39m: \u001b[32mString\u001b[39m = \u001b[32m\"THEQUICKBROWNFOXJUMPSOVERTHELAZYDOG\"\u001b[39m"
      ]
     },
     "execution_count": 173,
     "metadata": {},
     "output_type": "execute_result"
    }
   ],
   "source": [
    "val qwertyWheel = Wire(\"QWERTYUIOPASDFGHJKLZXCVBNM\")\n",
    "val revReflector = Wire(\"ZYXWVUTSRQPONMLKJIHGFEDCBA\")\n",
    "val testSetting = EnigmaSettings(qwertyWheel :: Nil, revReflector)\n",
    "val testEnigmaEnc = Enigma.buildEncryptor(testSetting)\n",
    "val testEnigmaDec = Enigma.buildDecryptor(testSetting)\n",
    "\n",
    "testEnigmaEnc.encrypt(\"THEQUICKBROWNFOXJUMPSOVERTHELAZYDOG\")._1 // \"BGRNPHYUUKFEDHKUMWFLWHKFJKXOQEVFRYI\")\n",
    "testEnigmaDec.decrypt(\"BGRNPHYUUKFEDHKUMWFLWHKFJKXOQEVFRYI\")._1 // \"THEQUICKBROWNFOXJUMPSOVERTHELAZYDOG\")"
   ]
  },
  {
   "cell_type": "code",
   "execution_count": 174,
   "metadata": {},
   "outputs": [
    {
     "data": {
      "text/plain": [
       "\u001b[36mres173_0\u001b[39m: \u001b[32mString\u001b[39m = \u001b[32m\"BGRNPHYUUKFEDHKUMWFLWHKFJKXOQEVFRYILGWUKGQBZZZSZMNWRSSDVMDPEPGXPTNQYZJOJRMTZYTTATZAYLVFAVLKGXRNLDQBFIMFEDVKAKQHBCNSDEZZJGGVKOWADPJBGRGNSCMRHKTWTTVQVPCPSHEMFWFCDCCJROLGWMIFDARA\"\u001b[39m\n",
       "\u001b[36mres173_1\u001b[39m: \u001b[32mString\u001b[39m = \u001b[32m\"THEQUICKBROWNFOXJUMPSOVERTHELAZYDOGTHEQUICKBROWNFOXJUMPSOVERTHELAZYDOGTHEQUICKBROWNFOXJUMPSOVERTHELAZYDOGTHEQUICKBROWNFOXJUMPSOVERTHELAZYDOGTHEQUICKBROWNFOXJUMPSOVERTHELAZYDOG\"\u001b[39m"
      ]
     },
     "execution_count": 174,
     "metadata": {},
     "output_type": "execute_result"
    }
   ],
   "source": [
    "testEnigmaEnc.encrypt(\"THEQUICKBROWNFOXJUMPSOVERTHELAZYDOGTHEQUICKBROWNFOXJUMPSOVERTHELAZYDOGTHEQUICKBROWNFOXJUMPSOVERTHELAZYDOGTHEQUICKBROWNFOXJUMPSOVERTHELAZYDOGTHEQUICKBROWNFOXJUMPSOVERTHELAZYDOG\")._1 // \"BGRNPHYUUKFEDHKUMWFLWHKFJKXOQEVFRYI\")\n",
    "testEnigmaDec.decrypt(\"BGRNPHYUUKFEDHKUMWFLWHKFJKXOQEVFRYILGWUKGQBZZZSZMNWRSSDVMDPEPGXPTNQYZJOJRMTZYTTATZAYLVFAVLKGXRNLDQBFIMFEDVKAKQHBCNSDEZZJGGVKOWADPJBGRGNSCMRHKTWTTVQVPCPSHEMFWFCDCCJROLGWMIFDARA\")._1 // \"THEQUICKBROWNFOXJUMPSOVERTHELAZYDOG\")"
   ]
  },
  {
   "cell_type": "code",
   "execution_count": 175,
   "metadata": {
    "scrolled": true
   },
   "outputs": [
    {
     "data": {
      "text/plain": [
       "\u001b[36mUKW_B_Reflector\u001b[39m: \u001b[32mWire\u001b[39m = \u001b[33mWire\u001b[39m(\u001b[32m\"YRUHQSLDPXNGOKMIEBFZCWVJAT\"\u001b[39m)\n",
       "\u001b[36mwheel1\u001b[39m: \u001b[32mWire\u001b[39m = \u001b[33mWire\u001b[39m(\u001b[32m\"EKMFLGDQVZNTOWYHXUSPAIBRCJ\"\u001b[39m)\n",
       "\u001b[36mwheel2\u001b[39m: \u001b[32mWire\u001b[39m = \u001b[33mWire\u001b[39m(\u001b[32m\"AJDKSIRUXBLHWTMCQGZNPYFVOE\"\u001b[39m)\n",
       "\u001b[36mwheel3\u001b[39m: \u001b[32mWire\u001b[39m = \u001b[33mWire\u001b[39m(\u001b[32m\"BDFHJLCPRTXVZNYEIWGAKMUSQO\"\u001b[39m)\n",
       "\u001b[36menigmaM3Settings\u001b[39m: \u001b[32mEnigmaSettings\u001b[39m = \u001b[33mEnigmaSettings\u001b[39m(\n",
       "  \u001b[33mList\u001b[39m(\n",
       "    \u001b[33mWire\u001b[39m(\u001b[32m\"BDFHJLCPRTXVZNYEIWGAKMUSQO\"\u001b[39m),\n",
       "    \u001b[33mWire\u001b[39m(\u001b[32m\"AJDKSIRUXBLHWTMCQGZNPYFVOE\"\u001b[39m),\n",
       "    \u001b[33mWire\u001b[39m(\u001b[32m\"EKMFLGDQVZNTOWYHXUSPAIBRCJ\"\u001b[39m)\n",
       "  ),\n",
       "  \u001b[33mWire\u001b[39m(\u001b[32m\"YRUHQSLDPXNGOKMIEBFZCWVJAT\"\u001b[39m)\n",
       ")\n",
       "\u001b[36menigmaM3\u001b[39m: \u001b[32mEnigma\u001b[39m = ammonite.$sess.cmd171$Helper$Enigma@7a37370b\n",
       "\u001b[36mres174_6\u001b[39m: (\u001b[32mString\u001b[39m, \u001b[32mEncryptor\u001b[39m) = (\n",
       "  \u001b[32m\"OPCILLAZFXLQTDNLGGLEKWWTHKQKGXIEZKD\"\u001b[39m,\n",
       "  ammonite.$sess.cmd171$Helper$Enigma@4bc81fa9\n",
       ")\n",
       "\u001b[36mres174_7\u001b[39m: (\u001b[32mString\u001b[39m, \u001b[32mDecryptor\u001b[39m) = (\n",
       "  \u001b[32m\"THEQUICKBROWNFOXJUMPSOVERTHELAZYDOG\"\u001b[39m,\n",
       "  ammonite.$sess.cmd171$Helper$Enigma@2d98fa8a\n",
       ")"
      ]
     },
     "execution_count": 175,
     "metadata": {},
     "output_type": "execute_result"
    }
   ],
   "source": [
    "// This is the real enigma machine settings used in WWII.\n",
    "val UKW_B_Reflector = Wire(\"YRUHQSLDPXNGOKMIEBFZCWVJAT\")\n",
    "val wheel1 = Wire(\"EKMFLGDQVZNTOWYHXUSPAIBRCJ\")\n",
    "val wheel2 = Wire(\"AJDKSIRUXBLHWTMCQGZNPYFVOE\")\n",
    "val wheel3 = Wire(\"BDFHJLCPRTXVZNYEIWGAKMUSQO\")\n",
    "val enigmaM3Settings = EnigmaSettings(wheel3 :: wheel2 :: wheel1 :: Nil, UKW_B_Reflector)\n",
    "val enigmaM3 = Enigma.buildEncryptor(enigmaM3Settings)\n",
    "\n",
    "// You can check your implementation from the site below.\n",
    "// https://www.101computing.net/enigma-machine-emulator/\n",
    "// As we do not implement Turnover notch position, \n",
    "// the result of our enigma machine should be differed from 21th letter.\n",
    "enigmaM3.encrypt(\"THEQUICKBROWNFOXJUMPSOVERTHELAZYDOG\") // \"OPCILLAZFXLQTDNLGGLEKWWTHKQKGXIEZKD\")\n",
    "enigmaM3.decrypt(\"OPCILLAZFXLQTDNLGGLEKWWTHKQKGXIEZKD\") // \"THEQUICKBROWNFOXJUMPSOVERTHELAZYDOG\")"
   ]
  },
  {
   "cell_type": "code",
   "execution_count": null,
   "metadata": {},
   "outputs": [],
   "source": []
  }
 ],
 "metadata": {
  "kernelspec": {
   "display_name": "Scala",
   "language": "scala",
   "name": "scala"
  },
  "language_info": {
   "codemirror_mode": "text/x-scala",
   "file_extension": ".sc",
   "mimetype": "text/x-scala",
   "name": "scala",
   "nbconvert_exporter": "script",
   "version": "2.13.3"
  }
 },
 "nbformat": 4,
 "nbformat_minor": 4
}
