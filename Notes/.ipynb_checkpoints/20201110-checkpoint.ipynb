{
 "cells": [
  {
   "cell_type": "markdown",
   "metadata": {},
   "source": [
    "### Multiple Inheritance\n",
    "* type class(O) vs OOP(X)\n",
    "\n",
    "#### Diamond Problem\n",
    "```\n",
    " A\n",
    "B C\n",
    " D\n",
    " \n",
    "class A(val a: Int)\n",
    "class B extends A(10)\n",
    "class C extends A(20)\n",
    "class D extends B, C.\n",
    "```\n",
    "\n",
    "> What is `(new D).a`?\n",
    "\n",
    "> Multiple executions of `class A`'s constructor\n",
    "\n",
    "* Java's solution\n",
    "  * interface can't contain implementation.\n",
    "  * a class can inherit from only one implemented interface (class) <br>\n",
    "  but multiple unimplemented interfaces (interface).\n",
    "* C++'s solution\n",
    "  * ok, but it can be a disaster.\n",
    "* Scala's solution\n",
    "  * trait"
   ]
  },
  {
   "cell_type": "markdown",
   "metadata": {},
   "source": [
    "### Class\n",
    "* **구현 모두 해야**\n",
    "* multiple constructors with arguments\n",
    "* new 가능 (`new A`)\n",
    "\n",
    "### Abstract Class\n",
    "* 구현 가능 (일부 구현 ok)\n",
    "* multiple constructors with arguments\n",
    "* **new 불가능** (`new A` X)\n",
    "\n",
    "### Trait\n",
    "* 구현 가능 (일부 구현 ok)\n",
    "* **only one** constructor **without** arguments\n",
    "* **new 불가능** (`new A` X)"
   ]
  },
  {
   "cell_type": "markdown",
   "metadata": {},
   "source": [
    "#### *An (abstract) class X can “extends” only one trait or (abstract) class with any arguments “with” multiple traits.*\n",
    "#### *A trait X can “extends” only one trait or (abstract) class with no arguments “with” multiple traits.*"
   ]
  },
  {
   "cell_type": "markdown",
   "metadata": {},
   "source": [
    "* An example\n",
    "```\n",
    "class A(val a: Int) {\n",
    "    def this() = this(0)\n",
    "}\n",
    "class B extends A(10)\n",
    "trait C extends A\n",
    "class D extends B with C\n",
    "```"
   ]
  },
  {
   "cell_type": "markdown",
   "metadata": {},
   "source": [
    "* Wrong example\n",
    "```\n",
    "C4\n",
    "C3   C5\n",
    "C2   T1   T2\n",
    "X extends C2 with T1, T2\n",
    "C2 extends C3\n",
    "C3 extends C4\n",
    "T1 extends C5\n",
    "```"
   ]
  },
  {
   "cell_type": "code",
   "execution_count": 15,
   "metadata": {},
   "outputs": [
    {
     "data": {
      "text/plain": [
       "defined \u001b[32mclass\u001b[39m \u001b[36mC5\u001b[39m\n",
       "defined \u001b[32mclass\u001b[39m \u001b[36mC4\u001b[39m\n",
       "defined \u001b[32mclass\u001b[39m \u001b[36mC3\u001b[39m\n",
       "defined \u001b[32mclass\u001b[39m \u001b[36mC2\u001b[39m\n",
       "defined \u001b[32mtrait\u001b[39m \u001b[36mT2\u001b[39m\n",
       "defined \u001b[32mtrait\u001b[39m \u001b[36mT1\u001b[39m\n",
       "defined \u001b[32mclass\u001b[39m \u001b[36mX\u001b[39m"
      ]
     },
     "execution_count": 15,
     "metadata": {},
     "output_type": "execute_result"
    }
   ],
   "source": [
    "class C5\n",
    "class C4(val x: Int) extends C5\n",
    "class C3(x: Int) extends C4(x)\n",
    "class C2(x: Int) extends C3(x)\n",
    "trait T2 extends C5\n",
    "trait T1 extends T2\n",
    "\n",
    "class X extends C2(10) with T1 with T2\n",
    "//class X extends C3 with T1 with T2"
   ]
  },
  {
   "cell_type": "markdown",
   "metadata": {},
   "source": [
    "#### Reverse Tree\n",
    "```\n",
    "        A B     B\n",
    "A(10)   C       D\n",
    "E\n",
    "```\n",
    "* post-order traversal\n",
    "  * `A(10) -> A -> B -> C -> B -> D -> E`\n",
    "  * `A(10) -> B -> C -> D -> E`"
   ]
  },
  {
   "cell_type": "code",
   "execution_count": 19,
   "metadata": {},
   "outputs": [
    {
     "data": {
      "text/plain": [
       "defined \u001b[32mclass\u001b[39m \u001b[36mA\u001b[39m\n",
       "defined \u001b[32mtrait\u001b[39m \u001b[36mB\u001b[39m\n",
       "defined \u001b[32mtrait\u001b[39m \u001b[36mC\u001b[39m\n",
       "defined \u001b[32mtrait\u001b[39m \u001b[36mD\u001b[39m\n",
       "defined \u001b[32mclass\u001b[39m \u001b[36mE\u001b[39m\n",
       "\u001b[36me\u001b[39m: \u001b[32mE\u001b[39m = ammonite.$sess.cmd18$Helper$E@6de1968f\n",
       "\u001b[36mres18_6\u001b[39m: \u001b[32mInt\u001b[39m = \u001b[32m10\u001b[39m"
      ]
     },
     "execution_count": 19,
     "metadata": {},
     "output_type": "execute_result"
    }
   ],
   "source": [
    "abstract class A(val a : Int) {\n",
    "    def this() = this(0)\n",
    "    val b: Int\n",
    "}\n",
    "trait B {\n",
    "    def f(x: Int): Int = x\n",
    "    val b = 0\n",
    "}\n",
    "trait C extends A with B {\n",
    "    def g(x: Int): Int = x + a\n",
    "    override val b = 1\n",
    "}\n",
    "trait D extends B {\n",
    "    def h(x: Int): Int = f(x + 50)\n",
    "}\n",
    "class E extends A(10) with C with D {\n",
    "    override def f(x: Int) = x * a\n",
    "    override val b = 10\n",
    "}\n",
    "val e = new E\n",
    "e.b"
   ]
  }
 ],
 "metadata": {
  "kernelspec": {
   "display_name": "Scala",
   "language": "scala",
   "name": "scala"
  },
  "language_info": {
   "codemirror_mode": "text/x-scala",
   "file_extension": ".sc",
   "mimetype": "text/x-scala",
   "name": "scala",
   "nbconvert_exporter": "script",
   "version": "2.13.3"
  }
 },
 "nbformat": 4,
 "nbformat_minor": 4
}
