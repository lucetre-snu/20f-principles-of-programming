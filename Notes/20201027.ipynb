{
 "cells": [
  {
   "cell_type": "code",
   "execution_count": 1,
   "metadata": {},
   "outputs": [
    {
     "data": {
      "text/plain": [
       "defined \u001b[32mclass\u001b[39m \u001b[36mMyIterable\u001b[39m\n",
       "defined \u001b[32mclass\u001b[39m \u001b[36mIter\u001b[39m"
      ]
     },
     "execution_count": 1,
     "metadata": {},
     "output_type": "execute_result"
    }
   ],
   "source": [
    "abstract class MyIterable[A] {\n",
    "    def iter: Iter[A]\n",
    "}\n",
    "\n",
    "abstract class Iter[A] extends MyIterable[A] {\n",
    "    def getValue: Option[A]\n",
    "    def getNext: Iter[A]\n",
    "    def iter = this\n",
    "}"
   ]
  },
  {
   "cell_type": "code",
   "execution_count": 2,
   "metadata": {},
   "outputs": [
    {
     "data": {
      "text/plain": [
       "defined \u001b[32mclass\u001b[39m \u001b[36mMyList\u001b[39m\n",
       "defined \u001b[32mclass\u001b[39m \u001b[36mMyNil\u001b[39m\n",
       "defined \u001b[32mclass\u001b[39m \u001b[36mMyCons\u001b[39m"
      ]
     },
     "execution_count": 2,
     "metadata": {},
     "output_type": "execute_result"
    }
   ],
   "source": [
    "sealed abstract class MyList[A] extends Iter[A] {\n",
    "    def append(lst: MyList[A]): MyList[A]\n",
    "}\n",
    "case class MyNil[A]() extends MyList[A] {\n",
    "    def getValue = None\n",
    "    def getNext = throw new Exception(\"...\")\n",
    "    def append(lst: MyList[A]) = lst\n",
    "}\n",
    "case class MyCons[A](hd: A, tl: MyList[A]) extends MyList[A] {\n",
    "    def getValue = Some(hd)\n",
    "    def getNext = tl\n",
    "//     to make it tail-recursive\n",
    "    def append(lst: MyList[A]) = MyCons(hd, tl.append(lst))\n",
    "}"
   ]
  },
  {
   "cell_type": "markdown",
   "metadata": {},
   "source": [
    "### Need to separate implementations of ***Data*** and ***Logic***"
   ]
  },
  {
   "cell_type": "code",
   "execution_count": 3,
   "metadata": {},
   "outputs": [
    {
     "data": {
      "text/plain": [
       "\u001b[32mimport \u001b[39m\u001b[36mscala.annotation.tailrec\n",
       "\u001b[39m\n",
       "\u001b[32mimport \u001b[39m\u001b[36mscala.util.control.TailCalls._\n",
       "\n",
       "\u001b[39m\n",
       "defined \u001b[32mclass\u001b[39m \u001b[36mMyList\u001b[39m\n",
       "defined \u001b[32mobject\u001b[39m \u001b[36mMyList\u001b[39m\n",
       "defined \u001b[32mclass\u001b[39m \u001b[36mMyNil\u001b[39m\n",
       "defined \u001b[32mclass\u001b[39m \u001b[36mMyCons\u001b[39m"
      ]
     },
     "execution_count": 3,
     "metadata": {},
     "output_type": "execute_result"
    }
   ],
   "source": [
    "import scala.annotation.tailrec\n",
    "import scala.util.control.TailCalls._\n",
    "\n",
    "sealed abstract class MyList[A] extends Iter[A] {\n",
    "    // why not implement revAppend here?\n",
    "    // impossible to internally make it as tailrec (locations are not fixed)\n",
    "    def append(lst: MyList[A]): MyList[A] =\n",
    "//         MyList.revAppend(MyList.revAppend(this, MyNil()), lst)\n",
    "        MyList.append(this, lst)\n",
    "}\n",
    "// companion object (packaging)\n",
    "// val MyList = new {\n",
    "object MyList {\n",
    "    // like static methods\n",
    "    @tailrec\n",
    "    def revAppend[A](lst1: MyList[A], lst2: MyList[A]): MyList[A] = {\n",
    "        lst1 match {\n",
    "            case MyNil() => lst2\n",
    "            case MyCons(hd, tl) => revAppend(tl, MyCons(hd, lst2))\n",
    "        }\n",
    "    }\n",
    "    def append[A](lst1: MyList[A], lst2: MyList[A]): MyList[A] = {\n",
    "        @tailrec\n",
    "        def appendCont(lst: MyList[A], cont: MyList[A]=>TailRec[MyList[A]]): MyList[A] = {\n",
    "            lst match {\n",
    "                case MyNil() => cont(lst2).result\n",
    "                case MyCons(hd, tl) => appendCont(tl, (r)=>tailcall(cont(MyCons(hd, r))))\n",
    "            }\n",
    "        }\n",
    "        appendCont(lst1, (r)=>done(r))\n",
    "    }\n",
    "    @tailrec\n",
    "    def printIter[A](xs: Iter[A]): Any = {\n",
    "        xs.getValue match {\n",
    "            case None => println()\n",
    "            case Some(v) => {\n",
    "                print(v + \" \")\n",
    "                printIter(xs.getNext)\n",
    "            }\n",
    "        }\n",
    "    }\n",
    "}\n",
    "\n",
    "case class MyNil[A]() extends MyList[A] {\n",
    "    def getValue = None\n",
    "    def getNext = throw new Exception(\"...\")\n",
    "}\n",
    "case class MyCons[A](hd: A, tl: MyList[A]) extends MyList[A] {\n",
    "    def getValue = Some(hd)\n",
    "    def getNext = tl\n",
    "}"
   ]
  },
  {
   "cell_type": "code",
   "execution_count": 4,
   "metadata": {},
   "outputs": [
    {
     "name": "stdout",
     "output_type": "stream",
     "text": [
      "1 2 \n",
      "3 4 5 \n",
      "2 1 3 4 5 \n",
      "1 2 3 4 5 \n",
      "1 2 3 4 5 \n"
     ]
    },
    {
     "data": {
      "text/plain": [
       "\u001b[36mlst1\u001b[39m: \u001b[32mMyCons\u001b[39m[\u001b[32mInt\u001b[39m] = \u001b[33mMyCons\u001b[39m(\u001b[32m1\u001b[39m, \u001b[33mMyCons\u001b[39m(\u001b[32m2\u001b[39m, MyNil()))\n",
       "\u001b[36mlst2\u001b[39m: \u001b[32mMyCons\u001b[39m[\u001b[32mInt\u001b[39m] = \u001b[33mMyCons\u001b[39m(\u001b[32m3\u001b[39m, \u001b[33mMyCons\u001b[39m(\u001b[32m4\u001b[39m, \u001b[33mMyCons\u001b[39m(\u001b[32m5\u001b[39m, MyNil())))\n",
       "\u001b[36mres3_2\u001b[39m: \u001b[32mAny\u001b[39m = ()\n",
       "\u001b[36mres3_3\u001b[39m: \u001b[32mAny\u001b[39m = ()\n",
       "\u001b[36mres3_4\u001b[39m: \u001b[32mAny\u001b[39m = ()\n",
       "\u001b[36mres3_5\u001b[39m: \u001b[32mAny\u001b[39m = ()\n",
       "\u001b[36mres3_6\u001b[39m: \u001b[32mAny\u001b[39m = ()"
      ]
     },
     "execution_count": 4,
     "metadata": {},
     "output_type": "execute_result"
    }
   ],
   "source": [
    "val lst1 = MyCons(1, MyCons(2, MyNil()))\n",
    "val lst2 = MyCons(3, MyCons(4, MyCons(5, MyNil())))\n",
    "MyList.printIter(lst1)\n",
    "MyList.printIter(lst2)\n",
    "MyList.printIter(MyList.revAppend(lst1, lst2))\n",
    "MyList.printIter(MyList.append(lst1, lst2))\n",
    "MyList.printIter(lst1.append(lst2))"
   ]
  },
  {
   "cell_type": "markdown",
   "metadata": {},
   "source": [
    "### MyTree"
   ]
  },
  {
   "cell_type": "code",
   "execution_count": 5,
   "metadata": {},
   "outputs": [
    {
     "data": {
      "text/plain": [
       "defined \u001b[32mclass\u001b[39m \u001b[36mMyTree\u001b[39m\n",
       "defined \u001b[32mclass\u001b[39m \u001b[36mEmpty\u001b[39m\n",
       "defined \u001b[32mclass\u001b[39m \u001b[36mNode\u001b[39m"
      ]
     },
     "execution_count": 5,
     "metadata": {},
     "output_type": "execute_result"
    }
   ],
   "source": [
    "sealed abstract class MyTree[A] extends MyIterable[A] {\n",
    "    def iter: MyList[A]\n",
    "}\n",
    "case class Empty[A]() extends MyTree[A] {\n",
    "    val iter = MyNil()\n",
    "}\n",
    "case class Node[A](value: A, left: MyTree[A], right: MyTree[A]) extends MyTree[A] {\n",
    "    // pre-order\n",
    "    def iter = MyCons(value, left.iter.append(right.iter))\n",
    "    // in-orider\n",
    "//     def iter = left.iter.append(MyCons(value, right.iter))\n",
    "    // post-order\n",
    "//     def iter = left.iter.append(right.iter.append(MyCons(value, MyNil())))\n",
    "}"
   ]
  },
  {
   "cell_type": "code",
   "execution_count": 6,
   "metadata": {},
   "outputs": [
    {
     "name": "stdout",
     "output_type": "stream",
     "text": [
      "4 2 1 3 6 5 7 \n"
     ]
    },
    {
     "data": {
      "text/plain": [
       "defined \u001b[32mfunction\u001b[39m \u001b[36mgenerateTree\u001b[39m\n",
       "\u001b[36mt\u001b[39m: \u001b[32mMyTree\u001b[39m[\u001b[32mInt\u001b[39m] = \u001b[33mNode\u001b[39m(\n",
       "  \u001b[32m4\u001b[39m,\n",
       "  \u001b[33mNode\u001b[39m(\u001b[32m2\u001b[39m, \u001b[33mNode\u001b[39m(\u001b[32m1\u001b[39m, Empty(), Empty()), \u001b[33mNode\u001b[39m(\u001b[32m3\u001b[39m, Empty(), Empty())),\n",
       "  \u001b[33mNode\u001b[39m(\u001b[32m6\u001b[39m, \u001b[33mNode\u001b[39m(\u001b[32m5\u001b[39m, Empty(), Empty()), \u001b[33mNode\u001b[39m(\u001b[32m7\u001b[39m, Empty(), Empty()))\n",
       ")\n",
       "\u001b[36mres5_2\u001b[39m: \u001b[32mAny\u001b[39m = ()"
      ]
     },
     "execution_count": 6,
     "metadata": {},
     "output_type": "execute_result"
    }
   ],
   "source": [
    "def generateTree(n: Int) : MyTree[Int] = {\n",
    "    def gen(lo: Int, hi: Int) : MyTree[Int] =\n",
    "        if (lo > hi) Empty()\n",
    "        else {\n",
    "            val mid = (lo+hi)/2\n",
    "            Node(mid, gen(lo,mid-1), gen(mid+1,hi))\n",
    "        }\n",
    "    gen(1,n)\n",
    "}\n",
    "val t = generateTree(7)\n",
    "MyList.printIter(t.iter)"
   ]
  },
  {
   "cell_type": "code",
   "execution_count": 7,
   "metadata": {
    "scrolled": true
   },
   "outputs": [
    {
     "name": "stdout",
     "output_type": "stream",
     "text": [
      "Elapsed time: 689ms\n",
      "Elapsed time: 393ms\n",
      "Elapsed time: 570ms\n",
      "Elapsed time: 355ms\n",
      "Elapsed time: 652ms\n",
      "Elapsed time: 344ms\n"
     ]
    },
    {
     "data": {
      "text/plain": [
       "\u001b[32mimport \u001b[39m\u001b[36mscala.annotation.tailrec\n",
       "\u001b[39m\n",
       "defined \u001b[32mfunction\u001b[39m \u001b[36msumN\u001b[39m\n",
       "defined \u001b[32mfunction\u001b[39m \u001b[36mtime\u001b[39m\n",
       "\u001b[36mt\u001b[39m: \u001b[32mMyTree\u001b[39m[\u001b[32mInt\u001b[39m] = \u001b[33mNode\u001b[39m(\n",
       "  \u001b[32m1000000\u001b[39m,\n",
       "  \u001b[33mNode\u001b[39m(\n",
       "    \u001b[32m500000\u001b[39m,\n",
       "    \u001b[33mNode\u001b[39m(\n",
       "      \u001b[32m250000\u001b[39m,\n",
       "      \u001b[33mNode\u001b[39m(\n",
       "        \u001b[32m125000\u001b[39m,\n",
       "        \u001b[33mNode\u001b[39m(\n",
       "          \u001b[32m62500\u001b[39m,\n",
       "          \u001b[33mNode\u001b[39m(\n",
       "            \u001b[32m31250\u001b[39m,\n",
       "            \u001b[33mNode\u001b[39m(\n",
       "              \u001b[32m15625\u001b[39m,\n",
       "              \u001b[33mNode\u001b[39m(\n",
       "                \u001b[32m7812\u001b[39m,\n",
       "                \u001b[33mNode\u001b[39m(\n",
       "                  \u001b[32m3906\u001b[39m,\n",
       "                  \u001b[33mNode\u001b[39m(\n",
       "                    \u001b[32m1953\u001b[39m,\n",
       "                    \u001b[33mNode\u001b[39m(\n",
       "                      \u001b[32m976\u001b[39m,\n",
       "                      \u001b[33mNode\u001b[39m(\n",
       "                        \u001b[32m488\u001b[39m,\n",
       "                        \u001b[33mNode\u001b[39m(\n",
       "                          \u001b[32m244\u001b[39m,\n",
       "                          \u001b[33mNode\u001b[39m(\n",
       "                            \u001b[32m122\u001b[39m,\n",
       "                            \u001b[33mNode\u001b[39m(\n",
       "                              \u001b[32m61\u001b[39m,\n",
       "                              \u001b[33mNode\u001b[39m(\n",
       "                                \u001b[32m30\u001b[39m,\n",
       "                                \u001b[33mNode\u001b[39m(\n",
       "                                  \u001b[32m15\u001b[39m,\n",
       "                                  \u001b[33mNode\u001b[39m(\n",
       "                                    \u001b[32m7\u001b[39m,\n",
       "                                    \u001b[33mNode\u001b[39m(\n",
       "                                      \u001b[32m3\u001b[39m,\n",
       "                                      \u001b[33mNode\u001b[39m(\n",
       "...\n",
       "\u001b[36mres6_4\u001b[39m: \u001b[32mInt\u001b[39m = \u001b[32m1000000\u001b[39m\n",
       "\u001b[36mres6_5\u001b[39m: \u001b[32mInt\u001b[39m = \u001b[32m1998046\u001b[39m\n",
       "\u001b[36mres6_6\u001b[39m: \u001b[32mInt\u001b[39m = \u001b[32m2003625\u001b[39m\n",
       "\u001b[36mres6_7\u001b[39m: \u001b[32mInt\u001b[39m = \u001b[32m51922156\u001b[39m\n",
       "\u001b[36mres6_8\u001b[39m: \u001b[32mInt\u001b[39m = \u001b[32m706569409\u001b[39m\n",
       "\u001b[36mres6_9\u001b[39m: \u001b[32mInt\u001b[39m = \u001b[32m1784293664\u001b[39m"
      ]
     },
     "execution_count": 7,
     "metadata": {},
     "output_type": "execute_result"
    }
   ],
   "source": [
    "import scala.annotation.tailrec\n",
    "def sumN[A](f: A=>Int)(n: Int, xs: MyIterable[A]) : Int = {\n",
    "    @tailrec\n",
    "    def sumIter(res : Int, n: Int, xs: Iter[A]) : Int =\n",
    "        if (n <= 0) res\n",
    "        else xs.getValue match {\n",
    "            case None => res\n",
    "            case Some(v) => sumIter(f(v) + res, n-1, xs.getNext)\n",
    "        }\n",
    "    sumIter(0, n, xs.iter)\n",
    "}\n",
    "\n",
    "def time[R](block: => R): R = {\n",
    "    val t0 = System.nanoTime()\n",
    "    val result = block // call-by-name\n",
    "    val t1 = System.nanoTime()\n",
    "    println(\"Elapsed time: \" + ((t1 - t0)/1000000) + \"ms\"); result\n",
    "}\n",
    "\n",
    "val t: MyTree[Int] = generateTree(2000000)\n",
    "time(sumN((x:Int) => x)(1, t))\n",
    "time(sumN((x:Int) => x)(10, t))\n",
    "time(sumN((x:Int) => x)(100, t))\n",
    "time(sumN((x:Int) => x)(10000, t))\n",
    "time(sumN((x:Int) => x)(100000, t))\n",
    "time(sumN((x:Int) => x)(1000000, t))"
   ]
  },
  {
   "cell_type": "markdown",
   "metadata": {},
   "source": [
    "#### Not to flatten tree list\n",
    "* Work List\n",
    "  * [T] -> [L, R] -> [L1, L2, R]\n",
    "  * like threads in parallelism"
   ]
  },
  {
   "cell_type": "code",
   "execution_count": 8,
   "metadata": {},
   "outputs": [
    {
     "data": {
      "text/plain": [
       "defined \u001b[32mclass\u001b[39m \u001b[36mMyTreeIter\u001b[39m\n",
       "defined \u001b[32mclass\u001b[39m \u001b[36mMyTree\u001b[39m\n",
       "defined \u001b[32mclass\u001b[39m \u001b[36mEmpty\u001b[39m\n",
       "defined \u001b[32mclass\u001b[39m \u001b[36mNode\u001b[39m"
      ]
     },
     "execution_count": 8,
     "metadata": {},
     "output_type": "execute_result"
    }
   ],
   "source": [
    "class MyTreeIter[A](val lst: MyList[MyTree[A]]) extends Iter[A] {\n",
    "    val valAndNext: (Option[A], MyList[MyTree[A]]) = {\n",
    "        lst match {\n",
    "            case MyNil() => (None, MyNil())\n",
    "            case MyCons(hd, tl) => hd match {\n",
    "                case Empty() => throw new Exception(\"...\")\n",
    "                case Node(v, Empty(), Empty()) => (Some(v), tl)\n",
    "                case Node(v, lt, Empty()) => (Some(v), MyCons(lt, tl))\n",
    "                case Node(v, Empty(), rt) => (Some(v), MyCons(rt, tl))\n",
    "                case Node(v, lt, rt) => (Some(v), MyCons(lt, MyCons(rt, tl)))\n",
    "            }\n",
    "        }\n",
    "    }\n",
    "    val getValue = valAndNext._1\n",
    "    def getNext = new MyTreeIter(valAndNext._2)\n",
    "}\n",
    "\n",
    "sealed abstract class MyTree[A] extends MyIterable[A]\n",
    "case class Empty[A]() extends MyTree[A] {\n",
    "    val iter = new MyTreeIter(MyNil())\n",
    "}\n",
    "case class Node[A](value: A, left: MyTree[A], right: MyTree[A]) extends MyTree[A] {\n",
    "    val iter = new MyTreeIter(MyCons(this, MyNil()))\n",
    "}\n"
   ]
  },
  {
   "cell_type": "code",
   "execution_count": 9,
   "metadata": {},
   "outputs": [
    {
     "data": {
      "text/plain": [
       "defined \u001b[32mclass\u001b[39m \u001b[36mMyTreeIter\u001b[39m\n",
       "defined \u001b[32mclass\u001b[39m \u001b[36mMyTree\u001b[39m\n",
       "defined \u001b[32mclass\u001b[39m \u001b[36mEmpty\u001b[39m\n",
       "defined \u001b[32mclass\u001b[39m \u001b[36mNode\u001b[39m"
      ]
     },
     "execution_count": 9,
     "metadata": {},
     "output_type": "execute_result"
    }
   ],
   "source": [
    "class MyTreeIter[A](val lst: MyList[MyTree[A]]) extends Iter[A] {\n",
    "    val getValue = lst match {\n",
    "        case MyCons(Node(v, _, _), tl) => Some(v)\n",
    "        case _ => None\n",
    "    }\n",
    "    def getNext = {\n",
    "        val remainingTrees: MyList[MyTree[A]] = lst match {\n",
    "            case MyNil() => MyNil()\n",
    "            case MyCons(hd, tl) => hd match {\n",
    "                case Empty() => throw new Exception(\"...\")\n",
    "                case Node(_, Empty(), Empty()) => tl\n",
    "                case Node(_, lt, Empty()) => MyCons(lt, tl)\n",
    "                case Node(_, Empty(), rt) => MyCons(rt, tl)\n",
    "                case Node(_, lt, rt) => MyCons(lt, MyCons(rt, tl))\n",
    "            }\n",
    "        }\n",
    "        new MyTreeIter(remainingTrees)\n",
    "    }\n",
    "}\n",
    "\n",
    "sealed abstract class MyTree[A] extends MyIterable[A]\n",
    "case class Empty[A]() extends MyTree[A] {\n",
    "    val iter = new MyTreeIter(MyNil())\n",
    "}\n",
    "case class Node[A](value: A, left: MyTree[A], right: MyTree[A]) extends MyTree[A] {\n",
    "    val iter = new MyTreeIter(MyCons(this, MyNil()))\n",
    "}"
   ]
  },
  {
   "cell_type": "code",
   "execution_count": 10,
   "metadata": {},
   "outputs": [
    {
     "name": "stdout",
     "output_type": "stream",
     "text": [
      "4 2 1 3 6 5 7 \n"
     ]
    },
    {
     "data": {
      "text/plain": [
       "defined \u001b[32mfunction\u001b[39m \u001b[36mgenerateTree\u001b[39m\n",
       "\u001b[36mt\u001b[39m: \u001b[32mMyTree\u001b[39m[\u001b[32mInt\u001b[39m] = \u001b[33mNode\u001b[39m(\n",
       "  \u001b[32m4\u001b[39m,\n",
       "  \u001b[33mNode\u001b[39m(\u001b[32m2\u001b[39m, \u001b[33mNode\u001b[39m(\u001b[32m1\u001b[39m, Empty(), Empty()), \u001b[33mNode\u001b[39m(\u001b[32m3\u001b[39m, Empty(), Empty())),\n",
       "  \u001b[33mNode\u001b[39m(\u001b[32m6\u001b[39m, \u001b[33mNode\u001b[39m(\u001b[32m5\u001b[39m, Empty(), Empty()), \u001b[33mNode\u001b[39m(\u001b[32m7\u001b[39m, Empty(), Empty()))\n",
       ")\n",
       "\u001b[36mres9_2\u001b[39m: \u001b[32mAny\u001b[39m = ()"
      ]
     },
     "execution_count": 10,
     "metadata": {},
     "output_type": "execute_result"
    }
   ],
   "source": [
    "def generateTree(n: Int) : MyTree[Int] = {\n",
    "    def gen(lo: Int, hi: Int) : MyTree[Int] =\n",
    "        if (lo > hi) Empty()\n",
    "        else {\n",
    "            val mid = (lo+hi)/2\n",
    "            Node(mid, gen(lo,mid-1), gen(mid+1,hi))\n",
    "        }\n",
    "    gen(1,n)\n",
    "}\n",
    "val t = generateTree(7)\n",
    "MyList.printIter(t.iter)"
   ]
  },
  {
   "cell_type": "code",
   "execution_count": 11,
   "metadata": {
    "scrolled": true
   },
   "outputs": [
    {
     "name": "stdout",
     "output_type": "stream",
     "text": [
      "Elapsed time: 0ms\n",
      "Elapsed time: 0ms\n",
      "Elapsed time: 0ms\n",
      "Elapsed time: 4ms\n",
      "Elapsed time: 16ms\n",
      "Elapsed time: 58ms\n"
     ]
    },
    {
     "data": {
      "text/plain": [
       "\u001b[32mimport \u001b[39m\u001b[36mscala.annotation.tailrec\n",
       "\u001b[39m\n",
       "defined \u001b[32mfunction\u001b[39m \u001b[36msumN\u001b[39m\n",
       "defined \u001b[32mfunction\u001b[39m \u001b[36mtime\u001b[39m\n",
       "\u001b[36mt\u001b[39m: \u001b[32mMyTree\u001b[39m[\u001b[32mInt\u001b[39m] = \u001b[33mNode\u001b[39m(\n",
       "  \u001b[32m1000000\u001b[39m,\n",
       "  \u001b[33mNode\u001b[39m(\n",
       "    \u001b[32m500000\u001b[39m,\n",
       "    \u001b[33mNode\u001b[39m(\n",
       "      \u001b[32m250000\u001b[39m,\n",
       "      \u001b[33mNode\u001b[39m(\n",
       "        \u001b[32m125000\u001b[39m,\n",
       "        \u001b[33mNode\u001b[39m(\n",
       "          \u001b[32m62500\u001b[39m,\n",
       "          \u001b[33mNode\u001b[39m(\n",
       "            \u001b[32m31250\u001b[39m,\n",
       "            \u001b[33mNode\u001b[39m(\n",
       "              \u001b[32m15625\u001b[39m,\n",
       "              \u001b[33mNode\u001b[39m(\n",
       "                \u001b[32m7812\u001b[39m,\n",
       "                \u001b[33mNode\u001b[39m(\n",
       "                  \u001b[32m3906\u001b[39m,\n",
       "                  \u001b[33mNode\u001b[39m(\n",
       "                    \u001b[32m1953\u001b[39m,\n",
       "                    \u001b[33mNode\u001b[39m(\n",
       "                      \u001b[32m976\u001b[39m,\n",
       "                      \u001b[33mNode\u001b[39m(\n",
       "                        \u001b[32m488\u001b[39m,\n",
       "                        \u001b[33mNode\u001b[39m(\n",
       "                          \u001b[32m244\u001b[39m,\n",
       "                          \u001b[33mNode\u001b[39m(\n",
       "                            \u001b[32m122\u001b[39m,\n",
       "                            \u001b[33mNode\u001b[39m(\n",
       "                              \u001b[32m61\u001b[39m,\n",
       "                              \u001b[33mNode\u001b[39m(\n",
       "                                \u001b[32m30\u001b[39m,\n",
       "                                \u001b[33mNode\u001b[39m(\n",
       "                                  \u001b[32m15\u001b[39m,\n",
       "                                  \u001b[33mNode\u001b[39m(\n",
       "                                    \u001b[32m7\u001b[39m,\n",
       "                                    \u001b[33mNode\u001b[39m(\n",
       "                                      \u001b[32m3\u001b[39m,\n",
       "                                      \u001b[33mNode\u001b[39m(\n",
       "...\n",
       "\u001b[36mres10_4\u001b[39m: \u001b[32mInt\u001b[39m = \u001b[32m1000000\u001b[39m\n",
       "\u001b[36mres10_5\u001b[39m: \u001b[32mInt\u001b[39m = \u001b[32m1998046\u001b[39m\n",
       "\u001b[36mres10_6\u001b[39m: \u001b[32mInt\u001b[39m = \u001b[32m2003625\u001b[39m\n",
       "\u001b[36mres10_7\u001b[39m: \u001b[32mInt\u001b[39m = \u001b[32m51922156\u001b[39m\n",
       "\u001b[36mres10_8\u001b[39m: \u001b[32mInt\u001b[39m = \u001b[32m706569409\u001b[39m\n",
       "\u001b[36mres10_9\u001b[39m: \u001b[32mInt\u001b[39m = \u001b[32m1784293664\u001b[39m"
      ]
     },
     "execution_count": 11,
     "metadata": {},
     "output_type": "execute_result"
    }
   ],
   "source": [
    "import scala.annotation.tailrec\n",
    "def sumN[A](f: A=>Int)(n: Int, xs: MyIterable[A]) : Int = {\n",
    "    @tailrec\n",
    "    def sumIter(res : Int, n: Int, xs: Iter[A]) : Int =\n",
    "        if (n <= 0) res\n",
    "        else xs.getValue match {\n",
    "            case None => res\n",
    "            case Some(v) => sumIter(f(v) + res, n-1, xs.getNext)\n",
    "        }\n",
    "    sumIter(0, n, xs.iter)\n",
    "}\n",
    "\n",
    "def time[R](block: => R): R = {\n",
    "    val t0 = System.nanoTime()\n",
    "    val result = block // call-by-name\n",
    "    val t1 = System.nanoTime()\n",
    "    println(\"Elapsed time: \" + ((t1 - t0)/1000000) + \"ms\"); result\n",
    "}\n",
    "\n",
    "val t: MyTree[Int] = generateTree(2000000)\n",
    "time(sumN((x:Int) => x)(1, t))\n",
    "time(sumN((x:Int) => x)(10, t))\n",
    "time(sumN((x:Int) => x)(100, t))\n",
    "time(sumN((x:Int) => x)(10000, t))\n",
    "time(sumN((x:Int) => x)(100000, t))\n",
    "time(sumN((x:Int) => x)(1000000, t))"
   ]
  },
  {
   "cell_type": "markdown",
   "metadata": {},
   "source": [
    "### Lazy List\n",
    "* `append` is not recursive\n",
    "*only stores information to append (not calculating)"
   ]
  },
  {
   "cell_type": "code",
   "execution_count": 12,
   "metadata": {},
   "outputs": [
    {
     "data": {
      "text/plain": [
       "defined \u001b[32mclass\u001b[39m \u001b[36mLazyList\u001b[39m\n",
       "defined \u001b[32mclass\u001b[39m \u001b[36mLNil\u001b[39m\n",
       "defined \u001b[32mclass\u001b[39m \u001b[36mLCons\u001b[39m\n",
       "defined \u001b[32mobject\u001b[39m \u001b[36mLCons\u001b[39m"
      ]
     },
     "execution_count": 12,
     "metadata": {},
     "output_type": "execute_result"
    }
   ],
   "source": [
    "abstract class LazyList[A] extends Iter[A] {\n",
    "    def head: Option[A]\n",
    "    def tail: LazyList[A]\n",
    "    // cannot be tail recursion? can be! \n",
    "    def append(lst: LazyList[A]): LazyList[A]\n",
    "    def getValue = head\n",
    "    def getNext = tail\n",
    "}\n",
    "case class LNil[A]() extends LazyList[A] {\n",
    "    val head = None\n",
    "    val tail = this\n",
    "    def append(lst: LazyList[A]) = lst\n",
    "}\n",
    "// previously ht: =>(A, LazyList[A])\n",
    "class LCons[A](hd: A, _tl: =>LazyList[A]) extends LazyList[A] {\n",
    "    // does not evaluate, LCons parameters _tl is not calculated\n",
    "    lazy val tl = _tl\n",
    "    def head = Some(hd)\n",
    "    def tail = tl\n",
    "    // only send expression, not recursion, constant time\n",
    "    def append(lst: LazyList[A]) = LCons(hd, tl.append(lst))\n",
    "}\n",
    "object LCons {\n",
    "    def apply[A](hd: A, tl: =>LazyList[A]) = new LCons(hd, tl)\n",
    "}"
   ]
  },
  {
   "cell_type": "code",
   "execution_count": 13,
   "metadata": {},
   "outputs": [
    {
     "data": {
      "text/plain": [
       "defined \u001b[32mclass\u001b[39m \u001b[36mMyTree\u001b[39m\n",
       "defined \u001b[32mclass\u001b[39m \u001b[36mEmpty\u001b[39m\n",
       "defined \u001b[32mclass\u001b[39m \u001b[36mNode\u001b[39m"
      ]
     },
     "execution_count": 13,
     "metadata": {},
     "output_type": "execute_result"
    }
   ],
   "source": [
    "sealed abstract class MyTree[A] extends MyIterable[A] {\n",
    "    def iter: LazyList[A]\n",
    "}\n",
    "case class Empty[A]() extends MyTree[A] {\n",
    "    val iter = LNil()\n",
    "}\n",
    "case class Node[A](value: A, left: MyTree[A], right: MyTree[A]) extends MyTree[A] {\n",
    "    // pre-order\n",
    "    def iter = LCons(value, left.iter.append(right.iter))\n",
    "    // in-orider\n",
    "//     def iter = left.iter.append(LCons(value, right.iter))\n",
    "    // post-order\n",
    "//     def iter = left.iter.append(right.iter.append(LCons(value, LNil())))\n",
    "}"
   ]
  },
  {
   "cell_type": "code",
   "execution_count": 14,
   "metadata": {},
   "outputs": [
    {
     "name": "stdout",
     "output_type": "stream",
     "text": [
      "4 2 1 3 6 5 7 \n"
     ]
    },
    {
     "data": {
      "text/plain": [
       "defined \u001b[32mfunction\u001b[39m \u001b[36mgenerateTree\u001b[39m\n",
       "\u001b[36mt\u001b[39m: \u001b[32mMyTree\u001b[39m[\u001b[32mInt\u001b[39m] = \u001b[33mNode\u001b[39m(\n",
       "  \u001b[32m4\u001b[39m,\n",
       "  \u001b[33mNode\u001b[39m(\u001b[32m2\u001b[39m, \u001b[33mNode\u001b[39m(\u001b[32m1\u001b[39m, Empty(), Empty()), \u001b[33mNode\u001b[39m(\u001b[32m3\u001b[39m, Empty(), Empty())),\n",
       "  \u001b[33mNode\u001b[39m(\u001b[32m6\u001b[39m, \u001b[33mNode\u001b[39m(\u001b[32m5\u001b[39m, Empty(), Empty()), \u001b[33mNode\u001b[39m(\u001b[32m7\u001b[39m, Empty(), Empty()))\n",
       ")\n",
       "\u001b[36mres13_2\u001b[39m: \u001b[32mAny\u001b[39m = ()"
      ]
     },
     "execution_count": 14,
     "metadata": {},
     "output_type": "execute_result"
    }
   ],
   "source": [
    "def generateTree(n: Int) : MyTree[Int] = {\n",
    "    def gen(lo: Int, hi: Int) : MyTree[Int] =\n",
    "        if (lo > hi) Empty()\n",
    "        else {\n",
    "            val mid = (lo+hi)/2\n",
    "            Node(mid, gen(lo,mid-1), gen(mid+1,hi))\n",
    "        }\n",
    "    gen(1,n)\n",
    "}\n",
    "val t = generateTree(7)\n",
    "MyList.printIter(t.iter)"
   ]
  },
  {
   "cell_type": "code",
   "execution_count": 15,
   "metadata": {
    "scrolled": true
   },
   "outputs": [
    {
     "name": "stdout",
     "output_type": "stream",
     "text": [
      "Elapsed time: 0ms\n",
      "Elapsed time: 0ms\n",
      "Elapsed time: 1ms\n",
      "Elapsed time: 13ms\n",
      "Elapsed time: 37ms\n",
      "Elapsed time: 2897ms\n"
     ]
    },
    {
     "data": {
      "text/plain": [
       "\u001b[32mimport \u001b[39m\u001b[36mscala.annotation.tailrec\n",
       "\u001b[39m\n",
       "defined \u001b[32mfunction\u001b[39m \u001b[36msumN\u001b[39m\n",
       "defined \u001b[32mfunction\u001b[39m \u001b[36mtime\u001b[39m\n",
       "\u001b[36mt\u001b[39m: \u001b[32mMyTree\u001b[39m[\u001b[32mInt\u001b[39m] = \u001b[33mNode\u001b[39m(\n",
       "  \u001b[32m1000000\u001b[39m,\n",
       "  \u001b[33mNode\u001b[39m(\n",
       "    \u001b[32m500000\u001b[39m,\n",
       "    \u001b[33mNode\u001b[39m(\n",
       "      \u001b[32m250000\u001b[39m,\n",
       "      \u001b[33mNode\u001b[39m(\n",
       "        \u001b[32m125000\u001b[39m,\n",
       "        \u001b[33mNode\u001b[39m(\n",
       "          \u001b[32m62500\u001b[39m,\n",
       "          \u001b[33mNode\u001b[39m(\n",
       "            \u001b[32m31250\u001b[39m,\n",
       "            \u001b[33mNode\u001b[39m(\n",
       "              \u001b[32m15625\u001b[39m,\n",
       "              \u001b[33mNode\u001b[39m(\n",
       "                \u001b[32m7812\u001b[39m,\n",
       "                \u001b[33mNode\u001b[39m(\n",
       "                  \u001b[32m3906\u001b[39m,\n",
       "                  \u001b[33mNode\u001b[39m(\n",
       "                    \u001b[32m1953\u001b[39m,\n",
       "                    \u001b[33mNode\u001b[39m(\n",
       "                      \u001b[32m976\u001b[39m,\n",
       "                      \u001b[33mNode\u001b[39m(\n",
       "                        \u001b[32m488\u001b[39m,\n",
       "                        \u001b[33mNode\u001b[39m(\n",
       "                          \u001b[32m244\u001b[39m,\n",
       "                          \u001b[33mNode\u001b[39m(\n",
       "                            \u001b[32m122\u001b[39m,\n",
       "                            \u001b[33mNode\u001b[39m(\n",
       "                              \u001b[32m61\u001b[39m,\n",
       "                              \u001b[33mNode\u001b[39m(\n",
       "                                \u001b[32m30\u001b[39m,\n",
       "                                \u001b[33mNode\u001b[39m(\n",
       "                                  \u001b[32m15\u001b[39m,\n",
       "                                  \u001b[33mNode\u001b[39m(\n",
       "                                    \u001b[32m7\u001b[39m,\n",
       "                                    \u001b[33mNode\u001b[39m(\n",
       "                                      \u001b[32m3\u001b[39m,\n",
       "                                      \u001b[33mNode\u001b[39m(\n",
       "...\n",
       "\u001b[36mres14_4\u001b[39m: \u001b[32mInt\u001b[39m = \u001b[32m1000000\u001b[39m\n",
       "\u001b[36mres14_5\u001b[39m: \u001b[32mInt\u001b[39m = \u001b[32m1998046\u001b[39m\n",
       "\u001b[36mres14_6\u001b[39m: \u001b[32mInt\u001b[39m = \u001b[32m2003625\u001b[39m\n",
       "\u001b[36mres14_7\u001b[39m: \u001b[32mInt\u001b[39m = \u001b[32m51922156\u001b[39m\n",
       "\u001b[36mres14_8\u001b[39m: \u001b[32mInt\u001b[39m = \u001b[32m706569409\u001b[39m\n",
       "\u001b[36mres14_9\u001b[39m: \u001b[32mInt\u001b[39m = \u001b[32m1784293664\u001b[39m"
      ]
     },
     "execution_count": 15,
     "metadata": {},
     "output_type": "execute_result"
    }
   ],
   "source": [
    "import scala.annotation.tailrec\n",
    "def sumN[A](f: A=>Int)(n: Int, xs: MyIterable[A]) : Int = {\n",
    "    @tailrec\n",
    "    def sumIter(res : Int, n: Int, xs: Iter[A]) : Int =\n",
    "        if (n <= 0) res\n",
    "        else xs.getValue match {\n",
    "            case None => res\n",
    "            case Some(v) => sumIter(f(v) + res, n-1, xs.getNext)\n",
    "        }\n",
    "    sumIter(0, n, xs.iter)\n",
    "}\n",
    "\n",
    "def time[R](block: => R): R = {\n",
    "    val t0 = System.nanoTime()\n",
    "    val result = block // call-by-name\n",
    "    val t1 = System.nanoTime()\n",
    "    println(\"Elapsed time: \" + ((t1 - t0)/1000000) + \"ms\"); result\n",
    "}\n",
    "\n",
    "val t: MyTree[Int] = generateTree(2000000)\n",
    "time(sumN((x:Int) => x)(1, t))\n",
    "time(sumN((x:Int) => x)(10, t))\n",
    "time(sumN((x:Int) => x)(100, t))\n",
    "time(sumN((x:Int) => x)(10000, t))\n",
    "time(sumN((x:Int) => x)(100000, t))\n",
    "time(sumN((x:Int) => x)(1000000, t))"
   ]
  }
 ],
 "metadata": {
  "kernelspec": {
   "display_name": "Scala",
   "language": "scala",
   "name": "scala"
  },
  "language_info": {
   "codemirror_mode": "text/x-scala",
   "file_extension": ".sc",
   "mimetype": "text/x-scala",
   "name": "scala",
   "nbconvert_exporter": "script",
   "version": "2.13.3"
  }
 },
 "nbformat": 4,
 "nbformat_minor": 4
}
