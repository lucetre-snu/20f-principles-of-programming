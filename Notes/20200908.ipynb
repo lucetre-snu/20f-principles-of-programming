{
 "cells": [
  {
   "cell_type": "markdown",
   "metadata": {},
   "source": [
    "## Jupyter Scala Installation\n",
    "* https://almond.sh/docs/quick-start-install"
   ]
  },
  {
   "cell_type": "markdown",
   "metadata": {},
   "source": [
    "### **Loop**"
   ]
  },
  {
   "cell_type": "code",
   "execution_count": 2,
   "metadata": {},
   "outputs": [
    {
     "ename": "",
     "evalue": "",
     "output_type": "error",
     "traceback": [
      "Interrupted!\n  ammonite.$sess.cmd1$Helper.loop(\u001b[32mcmd1.sc\u001b[39m:\u001b[32m1\u001b[39m)\n  ammonite.$sess.cmd1$Helper.<init>(\u001b[32mcmd1.sc\u001b[39m:\u001b[32m2\u001b[39m)\n  ammonite.$sess.cmd1$.<clinit>(\u001b[32mcmd1.sc\u001b[39m:\u001b[32m7\u001b[39m)"
     ]
    }
   ],
   "source": [
    "def loop: Int = loop\n",
    "loop"
   ]
  },
  {
   "cell_type": "markdown",
   "metadata": {},
   "source": [
    "### **Call by Value (cbv)**\n",
    "`square(1+1) ~ square(2) ~ 2`\n",
    "### **Call by Name (cbn)**\n",
    "`square(1+1) ~ (1+1)*(1+1)`\n",
    "\n",
    "### *'Do both always result in the same value?'*\n",
    "  > mostly the same, rarely non-executable "
   ]
  },
  {
   "cell_type": "code",
   "execution_count": 4,
   "metadata": {},
   "outputs": [
    {
     "data": {
      "text/plain": [
       "defined \u001b[32mfunction\u001b[39m \u001b[36mone\u001b[39m"
      ]
     },
     "execution_count": 4,
     "metadata": {},
     "output_type": "execute_result"
    }
   ],
   "source": [
    "def one(x: Int, y: =>Int) = 1"
   ]
  },
  {
   "cell_type": "code",
   "execution_count": 5,
   "metadata": {},
   "outputs": [
    {
     "data": {
      "text/plain": [
       "\u001b[36mres4\u001b[39m: \u001b[32mInt\u001b[39m = \u001b[32m1\u001b[39m"
      ]
     },
     "execution_count": 5,
     "metadata": {},
     "output_type": "execute_result"
    }
   ],
   "source": [
    "one(1+2, loop)"
   ]
  },
  {
   "cell_type": "code",
   "execution_count": 6,
   "metadata": {},
   "outputs": [
    {
     "ename": "",
     "evalue": "",
     "output_type": "error",
     "traceback": [
      "Interrupted!\n  ammonite.$sess.cmd0$Helper.loop(\u001b[32mcmd0.sc\u001b[39m:\u001b[32m1\u001b[39m)\n  ammonite.$sess.cmd5$Helper.<init>(\u001b[32mcmd5.sc\u001b[39m:\u001b[32m1\u001b[39m)\n  ammonite.$sess.cmd5$.<clinit>(\u001b[32mcmd5.sc\u001b[39m:\u001b[32m7\u001b[39m)"
     ]
    }
   ],
   "source": [
    "one(loop, 1+2)"
   ]
  },
  {
   "cell_type": "markdown",
   "metadata": {},
   "source": [
    "### REPL = 'Read Eval Print Loop'"
   ]
  },
  {
   "cell_type": "code",
   "execution_count": 8,
   "metadata": {},
   "outputs": [
    {
     "data": {
      "text/plain": [
       "defined \u001b[32mfunction\u001b[39m \u001b[36ma\u001b[39m\n",
       "defined \u001b[32mfunction\u001b[39m \u001b[36mb\u001b[39m"
      ]
     },
     "execution_count": 8,
     "metadata": {},
     "output_type": "execute_result"
    }
   ],
   "source": [
    "def a = 1 + 2 + 3\n",
    "def b = loop"
   ]
  },
  {
   "cell_type": "code",
   "execution_count": 7,
   "metadata": {},
   "outputs": [
    {
     "ename": "",
     "evalue": "",
     "output_type": "error",
     "traceback": [
      "Interrupted!\n  ammonite.$sess.cmd0$Helper.loop(\u001b[32mcmd0.sc\u001b[39m:\u001b[32m1\u001b[39m)\n  ammonite.$sess.cmd6$Helper.<init>(\u001b[32mcmd6.sc\u001b[39m:\u001b[32m2\u001b[39m)\n  ammonite.$sess.cmd6$.<clinit>(\u001b[32mcmd6.sc\u001b[39m:\u001b[32m7\u001b[39m)"
     ]
    }
   ],
   "source": [
    "val a = 1 + 2 + 3\n",
    "val b = loop"
   ]
  },
  {
   "cell_type": "code",
   "execution_count": 10,
   "metadata": {},
   "outputs": [
    {
     "data": {
      "text/plain": [
       "defined \u001b[32mfunction\u001b[39m \u001b[36mf\u001b[39m\n",
       "\u001b[36mres9_1\u001b[39m: \u001b[32mInt\u001b[39m = \u001b[32m4\u001b[39m"
      ]
     },
     "execution_count": 10,
     "metadata": {},
     "output_type": "execute_result"
    }
   ],
   "source": [
    "def f(a: Int, b: Int): Int = a*b - 2\n",
    "f(2, 3)"
   ]
  },
  {
   "cell_type": "markdown",
   "metadata": {},
   "source": [
    "### *'Can we define a function without indicating cbv/cbn types of parameters?'*"
   ]
  },
  {
   "cell_type": "code",
   "execution_count": 11,
   "metadata": {},
   "outputs": [
    {
     "data": {
      "text/plain": [
       "defined \u001b[32mfunction\u001b[39m \u001b[36mf\u001b[39m\n",
       "\u001b[36mx\u001b[39m: \u001b[32mInt\u001b[39m = \u001b[32m1\u001b[39m\n",
       "\u001b[36mres10_2\u001b[39m: \u001b[32mInt\u001b[39m = \u001b[32m2\u001b[39m"
      ]
     },
     "execution_count": 11,
     "metadata": {},
     "output_type": "execute_result"
    }
   ],
   "source": [
    "def f(x: =>Int) = x + 1\n",
    "val x = 1\n",
    "f(x)"
   ]
  },
  {
   "cell_type": "markdown",
   "metadata": {},
   "source": [
    "### **Conditional Expressions**"
   ]
  },
  {
   "cell_type": "code",
   "execution_count": 14,
   "metadata": {},
   "outputs": [
    {
     "data": {
      "text/plain": [
       "defined \u001b[32mfunction\u001b[39m \u001b[36mabs\u001b[39m\n",
       "\u001b[36mres13_1\u001b[39m: \u001b[32mInt\u001b[39m = \u001b[32m99999\u001b[39m"
      ]
     },
     "execution_count": 14,
     "metadata": {},
     "output_type": "execute_result"
    }
   ],
   "source": [
    "def abs(x: Int): Int = if (x >= 0) x else -x\n",
    "abs(-99999)"
   ]
  },
  {
   "cell_type": "markdown",
   "metadata": {},
   "source": [
    "### **Boolean Expressions**\n",
    "`CBV && CBN`"
   ]
  },
  {
   "cell_type": "code",
   "execution_count": 15,
   "metadata": {},
   "outputs": [
    {
     "ename": "",
     "evalue": "",
     "output_type": "error",
     "traceback": [
      "Interrupted!\n  ammonite.$sess.cmd0$Helper.loop(\u001b[32mcmd0.sc\u001b[39m:\u001b[32m1\u001b[39m)\n  ammonite.$sess.cmd14$Helper.<init>(\u001b[32mcmd14.sc\u001b[39m:\u001b[32m1\u001b[39m)\n  ammonite.$sess.cmd14$.<clinit>(\u001b[32mcmd14.sc\u001b[39m:\u001b[32m7\u001b[39m)"
     ]
    }
   ],
   "source": [
    "true && (loop == 1)"
   ]
  },
  {
   "cell_type": "code",
   "execution_count": 18,
   "metadata": {},
   "outputs": [
    {
     "data": {
      "text/plain": [
       "defined \u001b[32mfunction\u001b[39m \u001b[36mloop\u001b[39m"
      ]
     },
     "execution_count": 18,
     "metadata": {},
     "output_type": "execute_result"
    }
   ],
   "source": [
    "def loop: Boolean = loop"
   ]
  },
  {
   "cell_type": "code",
   "execution_count": 21,
   "metadata": {},
   "outputs": [
    {
     "data": {
      "text/plain": [
       "defined \u001b[32mfunction\u001b[39m \u001b[36ma\u001b[39m\n",
       "defined \u001b[32mfunction\u001b[39m \u001b[36mb\u001b[39m\n",
       "\u001b[36mc\u001b[39m: \u001b[32mBoolean\u001b[39m = false"
      ]
     },
     "execution_count": 21,
     "metadata": {},
     "output_type": "execute_result"
    }
   ],
   "source": [
    "def a = true && loop\n",
    "def b = false && loop\n",
    "val c = false && loop"
   ]
  },
  {
   "cell_type": "code",
   "execution_count": 20,
   "metadata": {},
   "outputs": [
    {
     "ename": "",
     "evalue": "",
     "output_type": "error",
     "traceback": [
      "Interrupted!\n  ammonite.$sess.cmd17$Helper.loop(\u001b[32mcmd17.sc\u001b[39m:\u001b[32m1\u001b[39m)\n  ammonite.$sess.cmd19$Helper.<init>(\u001b[32mcmd19.sc\u001b[39m:\u001b[32m1\u001b[39m)\n  ammonite.$sess.cmd19$.<clinit>(\u001b[32mcmd19.sc\u001b[39m:\u001b[32m7\u001b[39m)"
     ]
    }
   ],
   "source": [
    "val a = true && loop"
   ]
  },
  {
   "cell_type": "code",
   "execution_count": 23,
   "metadata": {},
   "outputs": [
    {
     "data": {
      "text/plain": [
       "defined \u001b[32mfunction\u001b[39m \u001b[36mand\u001b[39m\n",
       "defined \u001b[32mfunction\u001b[39m \u001b[36mor\u001b[39m"
      ]
     },
     "execution_count": 23,
     "metadata": {},
     "output_type": "execute_result"
    }
   ],
   "source": [
    "def and(x: Boolean, y: =>Boolean) =\n",
    "    if (x) y else false\n",
    "def or(x: Boolean, y: =>Boolean) =\n",
    "    if (x) true else y"
   ]
  },
  {
   "cell_type": "markdown",
   "metadata": {},
   "source": [
    "### **Exercise: Square Root Calculation**\n",
    "\n",
    "#### A recursive function should have return type.\n",
    "> Readability (language design) \\\n",
    "> Easy to **read** vs ~~write~~? \\\n",
    "\n",
    "#### *“Any fool can write code that a computer can understand. Good programmers write code that humans can understand.”* — Martin Fowler"
   ]
  },
  {
   "cell_type": "code",
   "execution_count": 37,
   "metadata": {},
   "outputs": [
    {
     "data": {
      "text/plain": [
       "defined \u001b[32mfunction\u001b[39m \u001b[36mabs\u001b[39m\n",
       "defined \u001b[32mfunction\u001b[39m \u001b[36misGoodEnough\u001b[39m\n",
       "defined \u001b[32mfunction\u001b[39m \u001b[36mimprove\u001b[39m\n",
       "defined \u001b[32mfunction\u001b[39m \u001b[36msqrtIter\u001b[39m\n",
       "defined \u001b[32mfunction\u001b[39m \u001b[36msqrt\u001b[39m\n",
       "\u001b[36mres36_5\u001b[39m: \u001b[32mDouble\u001b[39m = \u001b[32m2.2360688956433634\u001b[39m\n",
       "\u001b[36mres36_6\u001b[39m: \u001b[32mDouble\u001b[39m = \u001b[32m2.23606797749979\u001b[39m"
      ]
     },
     "execution_count": 37,
     "metadata": {},
     "output_type": "execute_result"
    }
   ],
   "source": [
    "def abs(x: Double) =\n",
    "    if (x > 0) x else -x\n",
    "\n",
    "def isGoodEnough(guess: Double, x: Double) = \n",
    "    abs(guess*guess - x) / x < 1e-5\n",
    "\n",
    "def improve(guess: Double, x: Double) =\n",
    "    (guess + x/guess) / 2\n",
    "\n",
    "def sqrtIter(guess: Double, x: Double): Double =\n",
    "    if (isGoodEnough(guess, x)) guess\n",
    "    else sqrtIter(improve(guess, x), x)\n",
    "\n",
    "def sqrt(x: Double) =\n",
    "    sqrtIter(1, x)\n",
    "\n",
    "sqrt(5)\n",
    "math.sqrt(5)"
   ]
  }
 ],
 "metadata": {
  "kernelspec": {
   "display_name": "Scala",
   "language": "scala",
   "name": "scala"
  },
  "language_info": {
   "codemirror_mode": "text/x-scala",
   "file_extension": ".sc",
   "mimetype": "text/x-scala",
   "name": "scala",
   "nbconvert_exporter": "script",
   "version": "2.13.3"
  }
 },
 "nbformat": 4,
 "nbformat_minor": 4
}
