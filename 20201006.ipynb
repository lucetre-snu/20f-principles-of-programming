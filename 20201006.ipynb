{
 "cells": [
  {
   "cell_type": "code",
   "execution_count": 1,
   "metadata": {},
   "outputs": [
    {
     "data": {
      "text/plain": [
       "defined \u001b[32mclass\u001b[39m \u001b[36mBTree\u001b[39m\n",
       "defined \u001b[32mclass\u001b[39m \u001b[36mLeaf\u001b[39m\n",
       "defined \u001b[32mclass\u001b[39m \u001b[36mNode\u001b[39m\n",
       "\u001b[36mt\u001b[39m: \u001b[32mNode\u001b[39m = \u001b[33mNode\u001b[39m(\n",
       "  \u001b[32m3\u001b[39m,\n",
       "  \u001b[33mNode\u001b[39m(\u001b[32m1\u001b[39m, Leaf(), Leaf()),\n",
       "  \u001b[33mNode\u001b[39m(\u001b[32m2\u001b[39m, Leaf(), \u001b[33mNode\u001b[39m(\u001b[32m4\u001b[39m, Leaf(), Leaf()))\n",
       ")"
      ]
     },
     "execution_count": 1,
     "metadata": {},
     "output_type": "execute_result"
    }
   ],
   "source": [
    "sealed abstract class BTree\n",
    "case class Leaf() extends BTree\n",
    "case class Node(value: Int, left: BTree, right: BTree) extends BTree\n",
    "\n",
    "val t = Node(3, Node(1, Leaf(), Leaf()), Node(2, Leaf(), Node(4, Leaf(), Leaf())))"
   ]
  },
  {
   "cell_type": "code",
   "execution_count": 2,
   "metadata": {},
   "outputs": [
    {
     "data": {
      "text/plain": [
       "defined \u001b[32mfunction\u001b[39m \u001b[36mfind\u001b[39m"
      ]
     },
     "execution_count": 2,
     "metadata": {},
     "output_type": "execute_result"
    }
   ],
   "source": [
    "def find(t: BTree, i: Int) : Boolean =\n",
    "    t match {\n",
    "        case Leaf() => false\n",
    "        case Node(n,_,_) if n == i => true\n",
    "        case Node(_, lt, rt) => find(lt, i) || find(rt, i)\n",
    "    }"
   ]
  },
  {
   "cell_type": "code",
   "execution_count": 3,
   "metadata": {},
   "outputs": [
    {
     "data": {
      "text/plain": [
       "defined \u001b[32mfunction\u001b[39m \u001b[36mt\u001b[39m\n",
       "\u001b[36mres2_1\u001b[39m: \u001b[32mBoolean\u001b[39m = true\n",
       "\u001b[36mres2_2\u001b[39m: \u001b[32mBoolean\u001b[39m = false"
      ]
     },
     "execution_count": 3,
     "metadata": {},
     "output_type": "execute_result"
    }
   ],
   "source": [
    "def t: BTree = Node(5,Node(4,Node(2,Leaf(),Leaf()),Leaf()),\n",
    "Node(7,Node(6,Leaf(),Leaf()),Leaf()))\n",
    "find(t,7)\n",
    "find(t,1)"
   ]
  },
  {
   "cell_type": "code",
   "execution_count": 7,
   "metadata": {},
   "outputs": [
    {
     "data": {
      "text/plain": [
       "defined \u001b[32mclass\u001b[39m \u001b[36mBTList\u001b[39m\n",
       "defined \u001b[32mclass\u001b[39m \u001b[36mBTNil\u001b[39m\n",
       "defined \u001b[32mclass\u001b[39m \u001b[36mBTCons\u001b[39m\n",
       "defined \u001b[32mfunction\u001b[39m \u001b[36mfind\u001b[39m\n",
       "defined \u001b[32mfunction\u001b[39m \u001b[36mgenTree\u001b[39m\n",
       "\u001b[36mres6_5\u001b[39m: \u001b[32mBoolean\u001b[39m = false"
      ]
     },
     "execution_count": 7,
     "metadata": {},
     "output_type": "execute_result"
    }
   ],
   "source": [
    "sealed abstract class BTList\n",
    "case class BTNil() extends BTList\n",
    "case class BTCons(hd: BTree, tl: BTList) extends BTList\n",
    "def find(t: BTree, x: Int) : Boolean = {\n",
    "    def findIter(ts: BTList) : Boolean =\n",
    "        ts match {\n",
    "            case BTNil() => false\n",
    "            case BTCons(Leaf(), tl) => findIter(tl)\n",
    "            case BTCons(Node(v, _, _), _) if v == x => true\n",
    "            case BTCons(Node(_, l, r), tl) =>\n",
    "                findIter(BTCons(l, BTCons(r, tl)))\n",
    "        }\n",
    "        findIter(BTCons(t, BTNil()))\n",
    "}\n",
    "def genTree(v: Int, n: Int) : BTree = {\n",
    "    def genTreeIter(t: BTree, m : Int) : BTree =\n",
    "        if (m == 0) t\n",
    "        else genTreeIter(Node(v, t, Leaf()), m-1)\n",
    "    genTreeIter(Leaf(), n)\n",
    "}\n",
    "find(genTree(0,100000), 1)"
   ]
  },
  {
   "cell_type": "markdown",
   "metadata": {},
   "source": [
    "### Typed Programming\n",
    "* untyped programming: no checking at compile time\n",
    "* why needs *compile-time type checking*?\n",
    "  * no type errors at run time\n",
    "  * no garbage collector, no free function (소유권 규칙)"
   ]
  },
  {
   "cell_type": "markdown",
   "metadata": {},
   "source": [
    "### Parametric Polymorphism\n",
    "* same as generic in java"
   ]
  },
  {
   "cell_type": "code",
   "execution_count": 10,
   "metadata": {},
   "outputs": [
    {
     "data": {
      "text/plain": [
       "defined \u001b[32mfunction\u001b[39m \u001b[36mid\u001b[39m\n",
       "\u001b[36mres9_1\u001b[39m: \u001b[32mString\u001b[39m = \u001b[32m\"abc\"\u001b[39m\n",
       "\u001b[36mres9_2\u001b[39m: \u001b[32mInt\u001b[39m = \u001b[32m3\u001b[39m"
      ]
     },
     "execution_count": 10,
     "metadata": {},
     "output_type": "execute_result"
    }
   ],
   "source": [
    "def id[A](x: A): A = x\n",
    "\n",
    "id(\"abc\")\n",
    "id(3)"
   ]
  },
  {
   "cell_type": "code",
   "execution_count": 12,
   "metadata": {},
   "outputs": [
    {
     "name": "stderr",
     "output_type": "stream",
     "text": [
      "cmd12.sc:2: type mismatch;\n",
      " found   : String(\"abc\")\n",
      " required: Nothing\n",
      "val res12_1 = x(\"abc\")\n",
      "                ^Compilation Failed"
     ]
    },
    {
     "ename": "",
     "evalue": "",
     "output_type": "error",
     "traceback": [
      "Compilation Failed"
     ]
    }
   ],
   "source": [
    "// val x = id[String] _\n",
    "// only monomorphic function\n",
    "val x = id _ \n",
    "x(\"abc\")"
   ]
  },
  {
   "cell_type": "code",
   "execution_count": 20,
   "metadata": {},
   "outputs": [
    {
     "data": {
      "text/plain": [
       "defined \u001b[32mfunction\u001b[39m \u001b[36mapplyn\u001b[39m\n",
       "\u001b[36mres19_1\u001b[39m: \u001b[32mInt\u001b[39m = \u001b[32m103\u001b[39m\n",
       "\u001b[36mres19_2\u001b[39m: \u001b[32mString\u001b[39m = \u001b[32m\"gil!!!!!!!!!!\"\u001b[39m\n",
       "\u001b[36mres19_3\u001b[39m: \u001b[32mString\u001b[39m = \u001b[32m\"hur\"\u001b[39m"
      ]
     },
     "execution_count": 20,
     "metadata": {},
     "output_type": "execute_result"
    }
   ],
   "source": [
    "// def applyn[A](f: A => A, n: Int, x: A): A =\n",
    "//     n match {\n",
    "//         case 0 => x\n",
    "//         case _ => f(applyn(f, n - 1, x))\n",
    "//     }\n",
    "\n",
    "// Tail Call Optimization\n",
    "def applyn[A](f: A => A, n: Int, x: A): A = {\n",
    "    def applynIter(i: Int, acc: A): A = {\n",
    "        if (i == 0) acc\n",
    "        else applynIter(i-1, f(acc))\n",
    "    }\n",
    "    applynIter(n, x)\n",
    "}    \n",
    "\n",
    "applyn((x:Int)=>x+1, 100, 3)\n",
    "applyn((x:String)=>x+\"!\", 10, \"gil\")\n",
    "applyn(id[String], 10, \"hur\")"
   ]
  },
  {
   "cell_type": "code",
   "execution_count": 17,
   "metadata": {},
   "outputs": [
    {
     "data": {
      "text/plain": [
       "defined \u001b[32mfunction\u001b[39m \u001b[36mfoo\u001b[39m\n",
       "\u001b[36mres16_1\u001b[39m: (\u001b[32mString\u001b[39m, \u001b[32mInt\u001b[39m) = (\u001b[32m\"abc!!!!!!!!!!\"\u001b[39m, \u001b[32m10\u001b[39m)"
      ]
     },
     "execution_count": 17,
     "metadata": {},
     "output_type": "execute_result"
    }
   ],
   "source": [
    "def foo[A,B](f: A=>A, x: (A,B)) : (A,B) =\n",
    "    (applyn[A](f, 10, x._1), x._2)\n",
    "\n",
    "foo[String,Int]((x:String)=>x+\"!\",(\"abc\",10))"
   ]
  },
  {
   "cell_type": "markdown",
   "metadata": {},
   "source": [
    "#### How to make `applyn` as value?"
   ]
  },
  {
   "cell_type": "code",
   "execution_count": 30,
   "metadata": {},
   "outputs": [
    {
     "data": {
      "text/plain": [
       "defined \u001b[32mtype\u001b[39m \u001b[36mApplyn\u001b[39m\n",
       "\u001b[36mf\u001b[39m: \u001b[32mApplyn\u001b[39m = ammonite.$sess.cmd29$Helper$$anon$1@fa18dfe\n",
       "\u001b[36mres29_2\u001b[39m: \u001b[32mString\u001b[39m = \u001b[32m\"gil!!!!!!!!!!\"\u001b[39m\n",
       "\u001b[36mres29_3\u001b[39m: \u001b[32mInt\u001b[39m = \u001b[32m103\u001b[39m"
      ]
     },
     "execution_count": 30,
     "metadata": {},
     "output_type": "execute_result"
    }
   ],
   "source": [
    "// val f : [A](A=>A, Int, A) => A = applyn _\n",
    "type Applyn = {def apply[A](f: A=>A, n: Int, x: A): A}\n",
    "\n",
    "val f: Applyn = new {\n",
    "    def apply[A](f: A=>A, n: Int, x: A): A = applyn(f, n, x)\n",
    "}\n",
    "\n",
    "f((x:String)=>x+\"!\", 10, \"gil\")\n",
    "f((x:Int)=>x+1, 100, 3)"
   ]
  },
  {
   "cell_type": "code",
   "execution_count": 33,
   "metadata": {},
   "outputs": [
    {
     "data": {
      "text/plain": [
       "defined \u001b[32mobject\u001b[39m \u001b[36mapplyn1\u001b[39m\n",
       "\u001b[36mres32_1\u001b[39m: \u001b[32mString\u001b[39m = \u001b[32m\"gil!!!!!!!!!!\"\u001b[39m\n",
       "\u001b[36mres32_2\u001b[39m: \u001b[32mInt\u001b[39m = \u001b[32m103\u001b[39m"
      ]
     },
     "execution_count": 33,
     "metadata": {},
     "output_type": "execute_result"
    }
   ],
   "source": [
    "object applyn1 { // val applyn = new {\n",
    "    def apply[A](f: A=>A, n: Int, x: A): A =\n",
    "        n match {\n",
    "            case 0 => x\n",
    "            case _ => f(apply(f, n-1, x))\n",
    "        }\n",
    "}\n",
    "\n",
    "applyn1((x:String)=>x+\"!\", 10, \"gil\")\n",
    "applyn1((x:Int)=>x+1, 100, 3)"
   ]
  },
  {
   "cell_type": "code",
   "execution_count": 38,
   "metadata": {},
   "outputs": [
    {
     "data": {
      "text/plain": [
       "\u001b[36mres37_0\u001b[39m: \u001b[32mString\u001b[39m = \u001b[32m\"gil!!!!!!!!!!\"\u001b[39m\n",
       "\u001b[36mres37_1\u001b[39m: \u001b[32mString\u001b[39m = \u001b[32m\"gil!!!!!!!!!!\"\u001b[39m"
      ]
     },
     "execution_count": 38,
     "metadata": {},
     "output_type": "execute_result"
    }
   ],
   "source": [
    "// apply keyword can be removed (like def __call__ in python)\n",
    "f((x:String)=>x+\"!\", 10, \"gil\")\n",
    "f.apply[String]((x:String)=>x+\"!\", 10, \"gil\")"
   ]
  },
  {
   "cell_type": "code",
   "execution_count": 26,
   "metadata": {},
   "outputs": [
    {
     "data": {
      "text/plain": [
       "defined \u001b[32mfunction\u001b[39m \u001b[36mfoo\u001b[39m\n",
       "\u001b[36mres25_1\u001b[39m: \u001b[32mString\u001b[39m = \u001b[32m\"gil!!!!!!!!!!25\"\u001b[39m"
      ]
     },
     "execution_count": 26,
     "metadata": {},
     "output_type": "execute_result"
    }
   ],
   "source": [
    "def foo(f: Applyn): String = {\n",
    "    val a:String = f[String]((x:String)=>x+\"!\", 10, \"gil\")\n",
    "    val b:Int = f[Int]((x:Int)=>x+2, 10, 5)\n",
    "    a + b.toString()\n",
    "}\n",
    "foo(applyn)"
   ]
  }
 ],
 "metadata": {
  "kernelspec": {
   "display_name": "Scala",
   "language": "scala",
   "name": "scala"
  },
  "language_info": {
   "codemirror_mode": "text/x-scala",
   "file_extension": ".sc",
   "mimetype": "text/x-scala",
   "name": "scala",
   "nbconvert_exporter": "script",
   "version": "2.13.3"
  }
 },
 "nbformat": 4,
 "nbformat_minor": 4
}
