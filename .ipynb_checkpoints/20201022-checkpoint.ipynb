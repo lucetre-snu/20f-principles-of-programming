{
 "cells": [
  {
   "cell_type": "code",
   "execution_count": 1,
   "metadata": {},
   "outputs": [
    {
     "data": {
      "text/plain": [
       "defined \u001b[32mclass\u001b[39m \u001b[36mIter\u001b[39m\n",
       "defined \u001b[32mfunction\u001b[39m \u001b[36msumElements\u001b[39m\n",
       "defined \u001b[32mfunction\u001b[39m \u001b[36msumElementsId\u001b[39m\n",
       "defined \u001b[32mclass\u001b[39m \u001b[36mMyList\u001b[39m\n",
       "defined \u001b[32mclass\u001b[39m \u001b[36mMyNil\u001b[39m\n",
       "defined \u001b[32mclass\u001b[39m \u001b[36mMyCons\u001b[39m\n",
       "\u001b[36mt1\u001b[39m: \u001b[32mMyCons\u001b[39m[\u001b[32mInt\u001b[39m] = \u001b[33mMyCons\u001b[39m(\u001b[32m3\u001b[39m, \u001b[33mMyCons\u001b[39m(\u001b[32m5\u001b[39m, \u001b[33mMyCons\u001b[39m(\u001b[32m7\u001b[39m, MyNil())))\n",
       "\u001b[36mres0_7\u001b[39m: \u001b[32mInt\u001b[39m = \u001b[32m15\u001b[39m\n",
       "\u001b[36mres0_8\u001b[39m: \u001b[32mInt\u001b[39m = \u001b[32m83\u001b[39m"
      ]
     },
     "execution_count": 1,
     "metadata": {},
     "output_type": "execute_result"
    }
   ],
   "source": [
    "\n",
    "//written by Bob\n",
    "abstract class Iter[A] {\n",
    "    def getValue: Option[A]\n",
    "    def getNext: Iter[A]\n",
    "}\n",
    "def sumElements[A](f: A=>Int)(xs: Iter[A]) : Int =\n",
    "    xs.getValue match {\n",
    "        case None => 0\n",
    "        case Some(n) => f(n) + sumElements(f)(xs.getNext)\n",
    "    }\n",
    "\n",
    "def sumElementsId(xs:Iter[Int]) =\n",
    "    sumElements((x:Int)=>x)(xs)\n",
    "\n",
    "//written by Alice\n",
    "sealed abstract class MyList[A] extends Iter[A]()\n",
    "case class MyNil[A]() extends MyList[A] {\n",
    "    def getValue: Option[A] = None\n",
    "    def getNext: Iter[A] = this\n",
    "}\n",
    "case class MyCons[A](hd: A, tl: MyList[A]) extends MyList[A] {\n",
    "    def getValue: Option[A] = Some(hd)\n",
    "    def getNext: Iter[A] = tl\n",
    "}\n",
    "val t1 = MyCons(3, MyCons(5, MyCons(7, MyNil())))\n",
    "sumElementsId(t1)\n",
    "sumElements((x: Int)=>x*x)(t1)\n"
   ]
  },
  {
   "cell_type": "markdown",
   "metadata": {},
   "source": [
    "### Iter for MyTree"
   ]
  },
  {
   "cell_type": "code",
   "execution_count": 4,
   "metadata": {},
   "outputs": [
    {
     "data": {
      "text/plain": [
       "defined \u001b[32mclass\u001b[39m \u001b[36mIter\u001b[39m\n",
       "defined \u001b[32mfunction\u001b[39m \u001b[36msumElements\u001b[39m"
      ]
     },
     "execution_count": 4,
     "metadata": {},
     "output_type": "execute_result"
    }
   ],
   "source": [
    "abstract class Iter[A] {\n",
    "    def getValue: Option[A]\n",
    "    def getNext: Iter[A]\n",
    "}\n",
    "\n",
    "def sumElements[A](f: A=>Int)(xs: Iter[A]) : Int =\n",
    "    xs.getValue match {\n",
    "        case None => 0\n",
    "        case Some(n) => f(n) + sumElements(f)(xs.getNext)\n",
    "    }"
   ]
  },
  {
   "cell_type": "code",
   "execution_count": 10,
   "metadata": {},
   "outputs": [
    {
     "data": {
      "text/plain": [
       "defined \u001b[32mclass\u001b[39m \u001b[36mMyTree\u001b[39m\n",
       "defined \u001b[32mclass\u001b[39m \u001b[36mEmpty\u001b[39m\n",
       "defined \u001b[32mclass\u001b[39m \u001b[36mNode\u001b[39m\n",
       "\u001b[36mt1\u001b[39m: \u001b[32mNode\u001b[39m[\u001b[32mInt\u001b[39m] = \u001b[33mNode\u001b[39m(\n",
       "  \u001b[32m3\u001b[39m,\n",
       "  \u001b[33mNode\u001b[39m(\u001b[32m7\u001b[39m, \u001b[33mNode\u001b[39m(\u001b[32m2\u001b[39m, Empty(), Empty()), Empty()),\n",
       "  \u001b[33mNode\u001b[39m(\u001b[32m8\u001b[39m, Empty(), Empty())\n",
       ")\n",
       "\u001b[36mres9_4\u001b[39m: \u001b[32mInt\u001b[39m = \u001b[32m20\u001b[39m\n",
       "\u001b[36mres9_5\u001b[39m: \u001b[32mInt\u001b[39m = \u001b[32m126\u001b[39m"
      ]
     },
     "execution_count": 10,
     "metadata": {},
     "output_type": "execute_result"
    }
   ],
   "source": [
    "sealed abstract class MyTree[A] extends Iter[A]\n",
    "    case class Empty[A]() extends MyTree[A] {\n",
    "        def getValue = None\n",
    "        def getNext = this\n",
    "    }\n",
    "    case class Node[A](value: A, left: MyTree[A], right: MyTree[A]) extends MyTree[A] {\n",
    "        def getValue = Some(value)\n",
    "        // hard to change visit order to in-order, post-order (now in pre-order)\n",
    "        def getNext: MyTree[A] = {\n",
    "            // merge right tree to rightmost node from left tree\n",
    "            def merge(l: MyTree[A]): MyTree[A] = {\n",
    "                l match {\n",
    "                    case Empty() => right\n",
    "                    case Node(v, lt, rt) => Node(v, lt, merge(rt))\n",
    "                }\n",
    "            }\n",
    "            merge(left)\n",
    "        }\n",
    "    }\n",
    "\n",
    "val t1 = Node(3, Node(7, Node(2, Empty(), Empty()), Empty()), Node(8, Empty(), Empty()))\n",
    "sumElements[Int]((x)=>x)(t1)\n",
    "sumElements[Int]((x)=>x*x)(t1)"
   ]
  },
  {
   "cell_type": "markdown",
   "metadata": {},
   "source": [
    "---"
   ]
  },
  {
   "cell_type": "code",
   "execution_count": 11,
   "metadata": {},
   "outputs": [
    {
     "data": {
      "text/plain": [
       "defined \u001b[32mclass\u001b[39m \u001b[36mIter\u001b[39m\n",
       "defined \u001b[32mfunction\u001b[39m \u001b[36msumElements\u001b[39m"
      ]
     },
     "execution_count": 11,
     "metadata": {},
     "output_type": "execute_result"
    }
   ],
   "source": [
    "abstract class Iter[A] {\n",
    "    def getValue: Option[A]\n",
    "    def getNext: Iter[A]\n",
    "}\n",
    "\n",
    "def sumElements[A](f: A=>Int)(xs: Iter[A]) : Int =\n",
    "    xs.getValue match {\n",
    "        case None => 0\n",
    "        case Some(n) => f(n) + sumElements(f)(xs.getNext)\n",
    "    }"
   ]
  },
  {
   "cell_type": "code",
   "execution_count": 15,
   "metadata": {},
   "outputs": [
    {
     "data": {
      "text/plain": [
       "defined \u001b[32mclass\u001b[39m \u001b[36mMyList\u001b[39m\n",
       "defined \u001b[32mclass\u001b[39m \u001b[36mMyNil\u001b[39m\n",
       "defined \u001b[32mclass\u001b[39m \u001b[36mMyCons\u001b[39m"
      ]
     },
     "execution_count": 15,
     "metadata": {},
     "output_type": "execute_result"
    }
   ],
   "source": [
    "sealed abstract class MyList[A] extends Iter[A]() {\n",
    "    def append(lst: MyList[A]): MyList[A]\n",
    "}\n",
    "case class MyNil[A]() extends MyList[A] {\n",
    "    def getValue: Option[A] = None\n",
    "    def getNext: Iter[A] = throw new Exception(\"...\")\n",
    "    def append(lst: MyList[A]) = lst\n",
    "}\n",
    "case class MyCons[A](hd: A, tl: MyList[A]) extends MyList[A] {\n",
    "    def getValue: Option[A] = Some(hd)\n",
    "    def getNext: Iter[A] = tl\n",
    "    def append(lst: MyList[A]) = MyCons(hd, tl.append(lst))\n",
    "}"
   ]
  },
  {
   "cell_type": "code",
   "execution_count": 15,
   "metadata": {},
   "outputs": [
    {
     "name": "stderr",
     "output_type": "stream",
     "text": [
      "cmd15.sc:4: class Empty needs to be abstract. Missing implementation for:\n",
      "  def iterator: Iterator[A] // inherited from trait IterableOnce\n",
      "case class Empty[A]() extends MyTree[A] {\n",
      "           ^cmd15.sc:7: class Node needs to be abstract. Missing implementation for:\n",
      "  def iterator: Iterator[A] // inherited from trait IterableOnce\n",
      "case class Node[A](value: A, left: MyTree[A], right: MyTree[A]) extends MyTree[A] {\n",
      "           ^Compilation Failed"
     ]
    },
    {
     "ename": "",
     "evalue": "",
     "output_type": "error",
     "traceback": [
      "Compilation Failed"
     ]
    }
   ],
   "source": [
    "sealed abstract class MyTree[A] extends Iterable[A] {\n",
    "    def iter: MyList[A]\n",
    "}\n",
    "case class Empty[A]() extends MyTree[A] {\n",
    "    def iter = MyNil()\n",
    "}\n",
    "case class Node[A](value: A, left: MyTree[A], right: MyTree[A]) extends MyTree[A] {\n",
    "    def iter = MyCons(value, left.iter.append(right.iter))\n",
    "}"
   ]
  },
  {
   "cell_type": "code",
   "execution_count": 18,
   "metadata": {},
   "outputs": [
    {
     "data": {
      "text/plain": [
       "defined \u001b[32mfunction\u001b[39m \u001b[36mgenerateTree\u001b[39m\n",
       "\u001b[36mres17_1\u001b[39m: \u001b[32mMyTree\u001b[39m[\u001b[32mInt\u001b[39m] = \u001b[33mNode\u001b[39m(\n",
       "  \u001b[32m5\u001b[39m,\n",
       "  \u001b[33mNode\u001b[39m(\n",
       "    \u001b[32m2\u001b[39m,\n",
       "    \u001b[33mNode\u001b[39m(\u001b[32m1\u001b[39m, Empty(), Empty()),\n",
       "    \u001b[33mNode\u001b[39m(\u001b[32m3\u001b[39m, Empty(), \u001b[33mNode\u001b[39m(\u001b[32m4\u001b[39m, Empty(), Empty()))\n",
       "  ),\n",
       "  \u001b[33mNode\u001b[39m(\n",
       "    \u001b[32m8\u001b[39m,\n",
       "    \u001b[33mNode\u001b[39m(\u001b[32m6\u001b[39m, Empty(), \u001b[33mNode\u001b[39m(\u001b[32m7\u001b[39m, Empty(), Empty())),\n",
       "    \u001b[33mNode\u001b[39m(\u001b[32m9\u001b[39m, Empty(), \u001b[33mNode\u001b[39m(\u001b[32m10\u001b[39m, Empty(), Empty()))\n",
       "  )\n",
       ")"
      ]
     },
     "execution_count": 18,
     "metadata": {},
     "output_type": "execute_result"
    }
   ],
   "source": [
    "def generateTree(n: Int) : MyTree[Int] = {\n",
    "    def gen(lo: Int, hi: Int) : MyTree[Int] =\n",
    "        if (lo > hi) Empty()\n",
    "        else {\n",
    "            val mid = (lo+hi)/2\n",
    "            Node(mid, gen(lo,mid-1), gen(mid+1,hi))\n",
    "        }\n",
    "    gen(1,n)\n",
    "}\n",
    "generateTree(10)"
   ]
  }
 ],
 "metadata": {
  "kernelspec": {
   "display_name": "Scala",
   "language": "scala",
   "name": "scala"
  },
  "language_info": {
   "codemirror_mode": "text/x-scala",
   "file_extension": ".sc",
   "mimetype": "text/x-scala",
   "name": "scala",
   "nbconvert_exporter": "script",
   "version": "2.13.3"
  }
 },
 "nbformat": 4,
 "nbformat_minor": 4
}
