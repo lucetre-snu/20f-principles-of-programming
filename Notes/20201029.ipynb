{
 "cells": [
  {
   "cell_type": "markdown",
   "metadata": {},
   "source": [
    "### Wrapper Class\n",
    "* multiple inheritance? Cannot!\n",
    "  * `ListIter` from `Iter` and `List`\n",
    "* OOP < type class"
   ]
  },
  {
   "cell_type": "code",
   "execution_count": 11,
   "metadata": {},
   "outputs": [
    {
     "name": "stdout",
     "output_type": "stream",
     "text": [
      "4 3 2 1 \n",
      "1 2 3 4 \n"
     ]
    },
    {
     "data": {
      "text/plain": [
       "\u001b[32mimport \u001b[39m\u001b[36mscala.annotation.tailrec\n",
       "\n",
       "\u001b[39m\n",
       "defined \u001b[32mclass\u001b[39m \u001b[36mIter\u001b[39m\n",
       "defined \u001b[32mclass\u001b[39m \u001b[36mIterable\u001b[39m\n",
       "defined \u001b[32mclass\u001b[39m \u001b[36mListIter\u001b[39m\n",
       "defined \u001b[32mobject\u001b[39m \u001b[36mListIter\u001b[39m\n",
       "\u001b[36mres10_5\u001b[39m: \u001b[32mAny\u001b[39m = ()\n",
       "\u001b[36mres10_6\u001b[39m: \u001b[32mAny\u001b[39m = ()"
      ]
     },
     "execution_count": 11,
     "metadata": {},
     "output_type": "execute_result"
    }
   ],
   "source": [
    "import scala.annotation.tailrec\n",
    "\n",
    "abstract class Iter[A] {\n",
    "    def getValue: Option[A]\n",
    "    def getNext: Iter[A]\n",
    "}\n",
    "abstract class Iterable[A] {\n",
    "    def iter: Iter[A]\n",
    "}\n",
    "// behave as it is inherited\n",
    "// composition inheritance from List class\n",
    "class ListIter[A](val list: List[A]) extends Iter[A] {\n",
    "    def getValue = list.headOption\n",
    "    def getNext = new ListIter(list.tail)\n",
    "    def printList: Any = ListIter.printIter(this)\n",
    "}\n",
    "object ListIter {\n",
    "    @tailrec\n",
    "    def printIter[A](x: ListIter[A]): Any = {\n",
    "        x.getValue match {\n",
    "            case None => println()\n",
    "            case Some(v) => {\n",
    "                print(v + \" \")\n",
    "                printIter(x.getNext)\n",
    "            }\n",
    "        }\n",
    "    }\n",
    "}\n",
    "(new ListIter(List(4, 3, 2, 1))).printList\n",
    "ListIter.printIter(new ListIter(List(1, 2, 3, 4)))"
   ]
  },
  {
   "cell_type": "markdown",
   "metadata": {},
   "source": [
    "#### * ***Program against interfaces***\n",
    "###### use inheritance when implementing on interface,\n",
    "###### 인터페이스를 사용할 때만 상속을 사용\n",
    "\n",
    "#### * ***Composition over inheritance***\n",
    "###### use composition when reusing functionalities, \n",
    "###### 기능을 상속 받을 때는 인자로 받아서 사용"
   ]
  },
  {
   "cell_type": "code",
   "execution_count": 12,
   "metadata": {},
   "outputs": [
    {
     "data": {
      "text/plain": [
       "\u001b[32mimport \u001b[39m\u001b[36mscala.annotation.tailrec\n",
       "\u001b[39m\n",
       "defined \u001b[32mfunction\u001b[39m \u001b[36msumElements\u001b[39m\n",
       "defined \u001b[32mfunction\u001b[39m \u001b[36msumElementsGen\u001b[39m\n",
       "\u001b[36mres11_3\u001b[39m: \u001b[32mInt\u001b[39m = \u001b[32m10\u001b[39m"
      ]
     },
     "execution_count": 12,
     "metadata": {},
     "output_type": "execute_result"
    }
   ],
   "source": [
    "import scala.annotation.tailrec\n",
    "def sumElements[A](f: A=>Int)(lst: Iter[A]): Int = {\n",
    "    @tailrec\n",
    "    def sumIter(x: Iter[A], acc: Int): Int = {\n",
    "        x.getValue match {\n",
    "            case None => acc\n",
    "            case Some(v) => sumIter(x.getNext, acc + f(v))\n",
    "        }\n",
    "    }\n",
    "    sumIter(lst, 0)\n",
    "}\n",
    "def sumElementsGen[A](f: A=>Int)(lst: Iterable[A]): Int =\n",
    "    sumElements(f)(lst.iter)\n",
    "\n",
    "// sumElements((x:Int)=>x)(List(1,2,3,4))\n",
    "sumElements((x:Int)=>x)(new ListIter(List(1,2,3,4)))"
   ]
  },
  {
   "cell_type": "code",
   "execution_count": 13,
   "metadata": {},
   "outputs": [
    {
     "data": {
      "text/plain": [
       "\u001b[36mres12_0\u001b[39m: \u001b[32mList\u001b[39m[\u001b[32mInt\u001b[39m] = \u001b[33mList\u001b[39m(\u001b[32m1\u001b[39m, \u001b[32m2\u001b[39m, \u001b[32m3\u001b[39m, \u001b[32m4\u001b[39m)\n",
       "\u001b[36mres12_1\u001b[39m: \u001b[32mList\u001b[39m[\u001b[32mInt\u001b[39m] = \u001b[33mList\u001b[39m(\u001b[32m1\u001b[39m, \u001b[32m2\u001b[39m, \u001b[32m3\u001b[39m, \u001b[32m4\u001b[39m)\n",
       "\u001b[36mx\u001b[39m: \u001b[32mList\u001b[39m[\u001b[32mInt\u001b[39m] = \u001b[33mList\u001b[39m(\u001b[32m1\u001b[39m, \u001b[32m2\u001b[39m, \u001b[32m3\u001b[39m)\n",
       "\u001b[36my\u001b[39m: \u001b[32mList\u001b[39m[\u001b[32mInt\u001b[39m] = \u001b[33mList\u001b[39m(\u001b[32m4\u001b[39m, \u001b[32m5\u001b[39m)\n",
       "\u001b[36mres12_4\u001b[39m: \u001b[32mList\u001b[39m[\u001b[32mInt\u001b[39m] = \u001b[33mList\u001b[39m(\u001b[32m1\u001b[39m, \u001b[32m2\u001b[39m, \u001b[32m3\u001b[39m, \u001b[32m4\u001b[39m, \u001b[32m5\u001b[39m)"
      ]
     },
     "execution_count": 13,
     "metadata": {},
     "output_type": "execute_result"
    }
   ],
   "source": [
    "List(1,2,3,4)\n",
    "1::2::3::4::Nil\n",
    "\n",
    "val x = 1::2::3::Nil\n",
    "val y = 4::5::Nil\n",
    "x ++ y"
   ]
  },
  {
   "cell_type": "markdown",
   "metadata": {},
   "source": [
    "### List Syntax\n",
    "* `List(elements)`: list constructor\n",
    "* `++`: list append, same as `.++()`\n",
    "* `::`: value append, same as `.::()`"
   ]
  },
  {
   "cell_type": "code",
   "execution_count": 14,
   "metadata": {},
   "outputs": [
    {
     "data": {
      "text/plain": [
       "defined \u001b[32mclass\u001b[39m \u001b[36mMyList\u001b[39m\n",
       "defined \u001b[32mclass\u001b[39m \u001b[36mMyNil\u001b[39m\n",
       "defined \u001b[32mclass\u001b[39m \u001b[36mMyCons\u001b[39m\n",
       "defined \u001b[32mobject\u001b[39m \u001b[36mMyList\u001b[39m\n",
       "\u001b[36mx\u001b[39m: \u001b[32mMyCons\u001b[39m[\u001b[32mInt\u001b[39m] = \u001b[33mMyCons\u001b[39m(\u001b[32m2\u001b[39m, \u001b[33mMyCons\u001b[39m(\u001b[32m3\u001b[39m, MyNil()))\n",
       "\u001b[36my\u001b[39m: \u001b[32mMyCons\u001b[39m[\u001b[32mInt\u001b[39m] = \u001b[33mMyCons\u001b[39m(\u001b[32m2\u001b[39m, \u001b[33mMyCons\u001b[39m(\u001b[32m3\u001b[39m, MyNil()))\n",
       "\u001b[36mres13_6\u001b[39m: \u001b[32mMyList\u001b[39m[\u001b[32mInt\u001b[39m] = \u001b[33mMyCons\u001b[39m(\u001b[32m1\u001b[39m, \u001b[33mMyCons\u001b[39m(\u001b[32m2\u001b[39m, MyNil()))\n",
       "\u001b[36mres13_7\u001b[39m: \u001b[32mMyList\u001b[39m[\u001b[32mInt\u001b[39m] = \u001b[33mMyCons\u001b[39m(\u001b[32m1\u001b[39m, MyNil())\n",
       "\u001b[36mres13_8\u001b[39m: \u001b[32mMyList\u001b[39m[\u001b[32mInt\u001b[39m] = \u001b[33mMyCons\u001b[39m(\u001b[32m2\u001b[39m, \u001b[33mMyCons\u001b[39m(\u001b[32m3\u001b[39m, \u001b[33mMyCons\u001b[39m(\u001b[32m2\u001b[39m, \u001b[33mMyCons\u001b[39m(\u001b[32m3\u001b[39m, MyNil()))))"
      ]
     },
     "execution_count": 14,
     "metadata": {},
     "output_type": "execute_result"
    }
   ],
   "source": [
    "sealed abstract class MyList[A] extends Iter[A] {\n",
    "    def ++(lst: MyList[A]): MyList[A]\n",
    "}\n",
    "case class MyNil[A]() extends MyList[A] {\n",
    "    def getValue = None\n",
    "    def getNext = throw new Exception(\"...\")\n",
    "    def ++(lst: MyList[A]) = lst\n",
    "}\n",
    "case class MyCons[A](hd: A, tl: MyList[A]) extends MyList[A] {\n",
    "    def getValue = Some(hd)\n",
    "    def getNext = tl\n",
    "    def ++(lst: MyList[A]) = MyCons(hd, tl++lst)\n",
    "}\n",
    "object MyList {\n",
    "    def ::[A](v1: A, v2: A): MyList[A] = MyCons(v1, MyCons(v2, MyNil()))\n",
    "    def ::[A](v: A, lst: MyList[A]): MyList[A] = MyCons(v, lst)\n",
    "    def ++[A](lst1: MyList[A], lst2: MyList[A]): MyList[A] = lst1++lst2\n",
    "}\n",
    "val x = MyCons(2, MyCons(3, MyNil()))\n",
    "val y = MyCons(2, MyCons(3, MyNil()))\n",
    "MyList.::(1, 2)\n",
    "MyList.::(1, MyNil[Int]())\n",
    "MyList.++(x, y)"
   ]
  },
  {
   "cell_type": "markdown",
   "metadata": {},
   "source": [
    "#### Compatibility between *ListIter* and *List* \n",
    "  * `ListIter.list` & `new ListIter(List)`"
   ]
  },
  {
   "cell_type": "code",
   "execution_count": 15,
   "metadata": {},
   "outputs": [
    {
     "data": {
      "text/plain": [
       "defined \u001b[32mclass\u001b[39m \u001b[36mMyTree\u001b[39m\n",
       "defined \u001b[32mclass\u001b[39m \u001b[36mEmpty\u001b[39m\n",
       "defined \u001b[32mclass\u001b[39m \u001b[36mNode\u001b[39m\n",
       "defined \u001b[32mobject\u001b[39m \u001b[36mMyTree\u001b[39m"
      ]
     },
     "execution_count": 15,
     "metadata": {},
     "output_type": "execute_result"
    }
   ],
   "source": [
    "sealed abstract class MyTree[A] extends Iterable[A] {\n",
    "    override def iter: ListIter[A]\n",
    "}\n",
    "case class Empty[A]() extends MyTree[A] {\n",
    "    val iter: ListIter[A] = new ListIter(Nil)\n",
    "}\n",
    "case class Node[A](value: A, left: MyTree[A], right: MyTree[A]) extends MyTree[A] {\n",
    "    val iter: ListIter[A] =\n",
    "        // new ListIter(value::(left.iter.list ++ right.iter.list))\n",
    "        // new ListIter(left.iter.list ++ (value::right.iter.list))\n",
    "        new ListIter(left.iter.list ++ right.iter.list ++ (value::Nil))\n",
    "}\n",
    "object MyTree {\n",
    "    def printTree[A](t: MyTree[A]): Any = {\n",
    "        ListIter.printIter(t.iter)\n",
    "    }\n",
    "}"
   ]
  },
  {
   "cell_type": "code",
   "execution_count": 16,
   "metadata": {},
   "outputs": [
    {
     "name": "stdout",
     "output_type": "stream",
     "text": [
      "2 3 4 5 3 \n"
     ]
    },
    {
     "data": {
      "text/plain": [
       "\u001b[36mt\u001b[39m: \u001b[32mMyTree\u001b[39m[\u001b[32mInt\u001b[39m] = \u001b[33mNode\u001b[39m(\n",
       "  \u001b[32m3\u001b[39m,\n",
       "  \u001b[33mNode\u001b[39m(\u001b[32m4\u001b[39m, \u001b[33mNode\u001b[39m(\u001b[32m2\u001b[39m, Empty(), Empty()), \u001b[33mNode\u001b[39m(\u001b[32m3\u001b[39m, Empty(), Empty())),\n",
       "  \u001b[33mNode\u001b[39m(\u001b[32m5\u001b[39m, Empty(), Empty())\n",
       ")\n",
       "\u001b[36mres15_1\u001b[39m: \u001b[32mAny\u001b[39m = ()"
      ]
     },
     "execution_count": 16,
     "metadata": {},
     "output_type": "execute_result"
    }
   ],
   "source": [
    "val t: MyTree[Int] = \n",
    "    Node(3, Node(4,Node(2,Empty(),Empty()),\n",
    "    Node(3,Empty(),Empty())),\n",
    "    Node(5,Empty(),Empty()))\n",
    "MyTree.printTree(t)"
   ]
  },
  {
   "cell_type": "code",
   "execution_count": 17,
   "metadata": {},
   "outputs": [
    {
     "data": {
      "text/plain": [
       "\u001b[36mres16\u001b[39m: \u001b[32mInt\u001b[39m = \u001b[32m17\u001b[39m"
      ]
     },
     "execution_count": 17,
     "metadata": {},
     "output_type": "execute_result"
    }
   ],
   "source": [
    "sumElementsGen((x:Int)=>x)(t)"
   ]
  },
  {
   "cell_type": "markdown",
   "metadata": {},
   "source": [
    "### Abstract Type\n",
    "* Internally defined user type\n",
    "* How to eliminate?"
   ]
  },
  {
   "cell_type": "code",
   "execution_count": 1,
   "metadata": {},
   "outputs": [
    {
     "data": {
      "text/plain": [
       "defined \u001b[32mclass\u001b[39m \u001b[36mIterable\u001b[39m"
      ]
     },
     "execution_count": 1,
     "metadata": {},
     "output_type": "execute_result"
    }
   ],
   "source": [
    "abstract class Iterable[A] {\n",
    "    type iter_t\n",
    "    def iter: iter_t\n",
    "    def getValue(i: iter_t): Option[A]\n",
    "    def getNext(i: iter_t): iter_t\n",
    "}"
   ]
  },
  {
   "cell_type": "code",
   "execution_count": 2,
   "metadata": {},
   "outputs": [
    {
     "data": {
      "text/plain": [
       "\u001b[32mimport \u001b[39m\u001b[36mscala.annotation.tailrec\n",
       "\u001b[39m\n",
       "defined \u001b[32mfunction\u001b[39m \u001b[36msumElements\u001b[39m"
      ]
     },
     "execution_count": 2,
     "metadata": {},
     "output_type": "execute_result"
    }
   ],
   "source": [
    "import scala.annotation.tailrec\n",
    "def sumElements[A](f: A=>Int)(xs: Iterable[A]): Int = {\n",
    "    @tailrec\n",
    "    def sumIter(i: xs.iter_t, acc: Int): Int = {\n",
    "        xs.getValue(i) match {\n",
    "            case None => acc\n",
    "            case Some(v) => sumIter(xs.getNext(i), acc+f(v))\n",
    "        }\n",
    "    }\n",
    "    sumIter(xs.iter, 0)\n",
    "}"
   ]
  },
  {
   "cell_type": "markdown",
   "metadata": {},
   "source": [
    "* MyList example"
   ]
  },
  {
   "cell_type": "code",
   "execution_count": 3,
   "metadata": {},
   "outputs": [
    {
     "data": {
      "text/plain": [
       "defined \u001b[32mclass\u001b[39m \u001b[36mMyList\u001b[39m\n",
       "\u001b[36mres2_1\u001b[39m: \u001b[32mInt\u001b[39m = \u001b[32m3\u001b[39m"
      ]
     },
     "execution_count": 3,
     "metadata": {},
     "output_type": "execute_result"
    }
   ],
   "source": [
    "class MyList[A](val iter: List[A]) extends Iterable[A] {\n",
    "    type iter_t = List[A]\n",
    "    def getValue(i: List[A]): Option[A] = i.headOption\n",
    "    def getNext(i: List[A]): List[A] = i.tail\n",
    "}\n",
    "sumElements((x:Int)=>x)(new MyList(1::2::Nil))"
   ]
  },
  {
   "cell_type": "markdown",
   "metadata": {},
   "source": [
    "* MyTree example"
   ]
  },
  {
   "cell_type": "code",
   "execution_count": 16,
   "metadata": {},
   "outputs": [
    {
     "data": {
      "text/plain": [
       "defined \u001b[32mclass\u001b[39m \u001b[36mMyTree\u001b[39m\n",
       "defined \u001b[32mclass\u001b[39m \u001b[36mEmpty\u001b[39m\n",
       "defined \u001b[32mclass\u001b[39m \u001b[36mNode\u001b[39m"
      ]
     },
     "execution_count": 16,
     "metadata": {},
     "output_type": "execute_result"
    }
   ],
   "source": [
    "sealed abstract class MyTree[A] extends Iterable[A] {\n",
    "    type iter_t = List[A]\n",
    "    def getValue(i: List[A]): Option[A] = i.headOption\n",
    "    def getNext(i: List[A]): List[A] = i.tail\n",
    "}\n",
    "case class Empty[A]() extends MyTree[A] {\n",
    "    val iter : List[A] = Nil\n",
    "}\n",
    "case class Node[A](value: A, left: MyTree[A], right: MyTree[A]) extends MyTree[A] {\n",
    "    val iter = value :: (left.iter ++ right.iter) // Pre-order\n",
    "    //val iter = left.iter ++ (value :: right.iter) // In-order\n",
    "    //val iter = left.iter ++ (right.iter ++ List(value)) // Post-order\n",
    "}"
   ]
  },
  {
   "cell_type": "code",
   "execution_count": 17,
   "metadata": {},
   "outputs": [
    {
     "data": {
      "text/plain": [
       "\u001b[36mt\u001b[39m: \u001b[32mMyTree\u001b[39m[\u001b[32mInt\u001b[39m] = \u001b[33mNode\u001b[39m(\n",
       "  \u001b[32m3\u001b[39m,\n",
       "  \u001b[33mNode\u001b[39m(\u001b[32m4\u001b[39m, \u001b[33mNode\u001b[39m(\u001b[32m2\u001b[39m, Empty(), Empty()), \u001b[33mNode\u001b[39m(\u001b[32m3\u001b[39m, Empty(), Empty())),\n",
       "  \u001b[33mNode\u001b[39m(\u001b[32m5\u001b[39m, Empty(), Empty())\n",
       ")\n",
       "\u001b[36mres16_1\u001b[39m: \u001b[32mInt\u001b[39m = \u001b[32m17\u001b[39m"
      ]
     },
     "execution_count": 17,
     "metadata": {},
     "output_type": "execute_result"
    }
   ],
   "source": [
    "val t : MyTree[Int] =\n",
    "    Node(3, Node(4,Node(2,Empty(),Empty()),\n",
    "    Node(3,Empty(),Empty())),\n",
    "    Node(5,Empty(),Empty()))\n",
    "sumElements((x:Int)=>x)(t)"
   ]
  },
  {
   "cell_type": "markdown",
   "metadata": {},
   "source": [
    "### Has Element in Iterable\n",
    "* no implementations in abstract class\n",
    "* but allows for this functionality `HasElements`\n",
    "  * never override (danger)"
   ]
  },
  {
   "cell_type": "code",
   "execution_count": 31,
   "metadata": {},
   "outputs": [
    {
     "data": {
      "text/plain": [
       "defined \u001b[32mclass\u001b[39m \u001b[36mIterableHE\u001b[39m"
      ]
     },
     "execution_count": 31,
     "metadata": {},
     "output_type": "execute_result"
    }
   ],
   "source": [
    "// how can we not passing 'eq' but later?\n",
    "abstract class IterableHE[A](eq: (A,A) => Boolean) extends Iterable[A] {\n",
    "    def hasElement(a: A) : Boolean = {\n",
    "        def hasElementIter(i: iter_t) : Boolean =\n",
    "            getValue(i) match {\n",
    "                case None => false\n",
    "                case Some(n) =>\n",
    "                if (eq(a,n)) true\n",
    "                else hasElementIter(getNext(i))\n",
    "            }\n",
    "        hasElementIter(iter)\n",
    "    }\n",
    "}"
   ]
  },
  {
   "cell_type": "code",
   "execution_count": 32,
   "metadata": {},
   "outputs": [
    {
     "data": {
      "text/plain": [
       "defined \u001b[32mclass\u001b[39m \u001b[36mMyTree\u001b[39m\n",
       "defined \u001b[32mclass\u001b[39m \u001b[36mEmpty\u001b[39m\n",
       "defined \u001b[32mclass\u001b[39m \u001b[36mNode\u001b[39m"
      ]
     },
     "execution_count": 32,
     "metadata": {},
     "output_type": "execute_result"
    }
   ],
   "source": [
    "sealed abstract class MyTree[A](eq:(A,A)=>Boolean) extends IterableHE[A](eq) {\n",
    "    type iter_t = List[A]\n",
    "    def getValue(i : List[A]) : Option[A] = i.headOption\n",
    "    def getNext(i: List[A]) : List[A] = i.tail\n",
    "}\n",
    "case class Empty[A](eq: (A,A)=>Boolean) extends MyTree[A](eq) {\n",
    "    val iter : List[A] = Nil\n",
    "}\n",
    "case class Node[A](eq: (A,A)=>Boolean, value: A, left: MyTree[A], right: MyTree[A]) extends MyTree[A](eq) {\n",
    "    val iter : List[A] = value :: (left.iter ++ right.iter)\n",
    "}"
   ]
  },
  {
   "cell_type": "code",
   "execution_count": 33,
   "metadata": {},
   "outputs": [
    {
     "data": {
      "text/plain": [
       "\u001b[36mIeq\u001b[39m: (\u001b[32mInt\u001b[39m, \u001b[32mInt\u001b[39m) => \u001b[32mBoolean\u001b[39m = ammonite.$sess.cmd32$Helper$$Lambda$2325/1769564542@4a6ec8ae\n",
       "\u001b[36mIEmpty\u001b[39m: \u001b[32mEmpty\u001b[39m[\u001b[32mInt\u001b[39m] = \u001b[33mEmpty\u001b[39m(\n",
       "  ammonite.$sess.cmd32$Helper$$Lambda$2325/1769564542@4a6ec8ae\n",
       ")\n",
       "defined \u001b[32mfunction\u001b[39m \u001b[36mINode\u001b[39m\n",
       "\u001b[36mt\u001b[39m: \u001b[32mMyTree\u001b[39m[\u001b[32mInt\u001b[39m] = \u001b[33mNode\u001b[39m(\n",
       "  ammonite.$sess.cmd32$Helper$$Lambda$2325/1769564542@4a6ec8ae,\n",
       "  \u001b[32m3\u001b[39m,\n",
       "  \u001b[33mNode\u001b[39m(\n",
       "    ammonite.$sess.cmd32$Helper$$Lambda$2325/1769564542@4a6ec8ae,\n",
       "    \u001b[32m4\u001b[39m,\n",
       "    \u001b[33mNode\u001b[39m(\n",
       "      ammonite.$sess.cmd32$Helper$$Lambda$2325/1769564542@4a6ec8ae,\n",
       "      \u001b[32m2\u001b[39m,\n",
       "      \u001b[33mEmpty\u001b[39m(ammonite.$sess.cmd32$Helper$$Lambda$2325/1769564542@4a6ec8ae),\n",
       "      \u001b[33mEmpty\u001b[39m(ammonite.$sess.cmd32$Helper$$Lambda$2325/1769564542@4a6ec8ae)\n",
       "    ),\n",
       "    \u001b[33mNode\u001b[39m(\n",
       "      ammonite.$sess.cmd32$Helper$$Lambda$2325/1769564542@4a6ec8ae,\n",
       "      \u001b[32m3\u001b[39m,\n",
       "      \u001b[33mEmpty\u001b[39m(ammonite.$sess.cmd32$Helper$$Lambda$2325/1769564542@4a6ec8ae),\n",
       "      \u001b[33mEmpty\u001b[39m(ammonite.$sess.cmd32$Helper$$Lambda$2325/1769564542@4a6ec8ae)\n",
       "    )\n",
       "  ),\n",
       "  \u001b[33mNode\u001b[39m(\n",
       "    ammonite.$sess.cmd32$Helper$$Lambda$2325/1769564542@4a6ec8ae,\n",
       "    \u001b[32m5\u001b[39m,\n",
       "    \u001b[33mEmpty\u001b[39m(ammonite.$sess.cmd32$Helper$$Lambda$2325/1769564542@4a6ec8ae),\n",
       "    \u001b[33mEmpty\u001b[39m(ammonite.$sess.cmd32$Helper$$Lambda$2325/1769564542@4a6ec8ae)\n",
       "  )\n",
       ")\n",
       "\u001b[36mres32_4\u001b[39m: \u001b[32mInt\u001b[39m = \u001b[32m17\u001b[39m\n",
       "\u001b[36mres32_5\u001b[39m: \u001b[32mBoolean\u001b[39m = true\n",
       "\u001b[36mres32_6\u001b[39m: \u001b[32mBoolean\u001b[39m = false"
      ]
     },
     "execution_count": 33,
     "metadata": {},
     "output_type": "execute_result"
    }
   ],
   "source": [
    "val Ieq = (x:Int, y:Int) => x == y\n",
    "val IEmpty = Empty(Ieq)\n",
    "def INode(n: Int, t1: MyTree[Int], t2: MyTree[Int]) = Node(Ieq, n, t1, t2)\n",
    "val t : MyTree[Int] =\n",
    "    INode(3, INode(4,INode(2,IEmpty,IEmpty),\n",
    "    INode(3,IEmpty,IEmpty)),\n",
    "    INode(5,IEmpty,IEmpty))\n",
    "sumElements((x:Int)=>x)(t)\n",
    "t.hasElement(5)\n",
    "t.hasElement(10)"
   ]
  },
  {
   "cell_type": "markdown",
   "metadata": {},
   "source": [
    "#### Put `eq` function in interface of abstract class"
   ]
  },
  {
   "cell_type": "code",
   "execution_count": 34,
   "metadata": {},
   "outputs": [
    {
     "data": {
      "text/plain": [
       "defined \u001b[32mclass\u001b[39m \u001b[36mIterableHE\u001b[39m"
      ]
     },
     "execution_count": 34,
     "metadata": {},
     "output_type": "execute_result"
    }
   ],
   "source": [
    "abstract class IterableHE[A] extends Iterable[A] {\n",
    "    def eq(a:A, b:A) : Boolean\n",
    "    def hasElement(a: A) : Boolean = {\n",
    "        def hasElementIter(i: iter_t) : Boolean =\n",
    "            getValue(i) match {\n",
    "                case None => false\n",
    "                case Some(n) =>\n",
    "                    if (eq(a,n)) true\n",
    "                    else hasElementIter(getNext(i))\n",
    "            }\n",
    "        hasElementIter(iter)\n",
    "    }\n",
    "}"
   ]
  },
  {
   "cell_type": "code",
   "execution_count": 37,
   "metadata": {},
   "outputs": [
    {
     "data": {
      "text/plain": [
       "defined \u001b[32mclass\u001b[39m \u001b[36mMyTree\u001b[39m\n",
       "defined \u001b[32mclass\u001b[39m \u001b[36mEmpty\u001b[39m\n",
       "defined \u001b[32mclass\u001b[39m \u001b[36mNode\u001b[39m"
      ]
     },
     "execution_count": 37,
     "metadata": {},
     "output_type": "execute_result"
    }
   ],
   "source": [
    "sealed abstract class MyTree[A] extends IterableHE[A] {\n",
    "    type iter_t = List[A]\n",
    "    def getValue(i : List[A]) : Option[A] = i.headOption\n",
    "    def getNext(i: List[A]) : List[A] = i.tail\n",
    "}\n",
    "// why do we have to pass '_eq'\n",
    "case class Empty[A](_eq: (A,A)=>Boolean) extends MyTree[A] {\n",
    "    def eq(a: A, b: A) = _eq(a, b)\n",
    "    val iter : List[A] = Nil\n",
    "}\n",
    "case class Node[A](_eq: (A,A)=>Boolean, value: A, left: MyTree[A], right: MyTree[A]) extends MyTree[A] {\n",
    "    def eq(a: A, b: A) = _eq(a, b)\n",
    "    val iter : List[A] = value :: (left.iter ++ right.iter)\n",
    "}"
   ]
  },
  {
   "cell_type": "code",
   "execution_count": 36,
   "metadata": {
    "scrolled": true
   },
   "outputs": [
    {
     "data": {
      "text/plain": [
       "\u001b[36mIeq\u001b[39m: (\u001b[32mInt\u001b[39m, \u001b[32mInt\u001b[39m) => \u001b[32mBoolean\u001b[39m = ammonite.$sess.cmd35$Helper$$Lambda$2343/2021902230@cb810e\n",
       "\u001b[36mIEmpty\u001b[39m: \u001b[32mEmpty\u001b[39m[\u001b[32mInt\u001b[39m] = \u001b[33mEmpty\u001b[39m(\n",
       "  ammonite.$sess.cmd35$Helper$$Lambda$2343/2021902230@cb810e\n",
       ")\n",
       "defined \u001b[32mfunction\u001b[39m \u001b[36mINode\u001b[39m\n",
       "\u001b[36mt\u001b[39m: \u001b[32mMyTree\u001b[39m[\u001b[32mInt\u001b[39m] = \u001b[33mNode\u001b[39m(\n",
       "  ammonite.$sess.cmd35$Helper$$Lambda$2343/2021902230@cb810e,\n",
       "  \u001b[32m3\u001b[39m,\n",
       "  \u001b[33mNode\u001b[39m(\n",
       "    ammonite.$sess.cmd35$Helper$$Lambda$2343/2021902230@cb810e,\n",
       "    \u001b[32m4\u001b[39m,\n",
       "    \u001b[33mNode\u001b[39m(\n",
       "      ammonite.$sess.cmd35$Helper$$Lambda$2343/2021902230@cb810e,\n",
       "      \u001b[32m2\u001b[39m,\n",
       "      \u001b[33mEmpty\u001b[39m(ammonite.$sess.cmd35$Helper$$Lambda$2343/2021902230@cb810e),\n",
       "      \u001b[33mEmpty\u001b[39m(ammonite.$sess.cmd35$Helper$$Lambda$2343/2021902230@cb810e)\n",
       "    ),\n",
       "    \u001b[33mNode\u001b[39m(\n",
       "      ammonite.$sess.cmd35$Helper$$Lambda$2343/2021902230@cb810e,\n",
       "      \u001b[32m3\u001b[39m,\n",
       "      \u001b[33mEmpty\u001b[39m(ammonite.$sess.cmd35$Helper$$Lambda$2343/2021902230@cb810e),\n",
       "      \u001b[33mEmpty\u001b[39m(ammonite.$sess.cmd35$Helper$$Lambda$2343/2021902230@cb810e)\n",
       "    )\n",
       "  ),\n",
       "  \u001b[33mNode\u001b[39m(\n",
       "    ammonite.$sess.cmd35$Helper$$Lambda$2343/2021902230@cb810e,\n",
       "    \u001b[32m5\u001b[39m,\n",
       "    \u001b[33mEmpty\u001b[39m(ammonite.$sess.cmd35$Helper$$Lambda$2343/2021902230@cb810e),\n",
       "    \u001b[33mEmpty\u001b[39m(ammonite.$sess.cmd35$Helper$$Lambda$2343/2021902230@cb810e)\n",
       "  )\n",
       ")\n",
       "\u001b[36mres35_4\u001b[39m: \u001b[32mInt\u001b[39m = \u001b[32m17\u001b[39m\n",
       "\u001b[36mres35_5\u001b[39m: \u001b[32mBoolean\u001b[39m = true\n",
       "\u001b[36mres35_6\u001b[39m: \u001b[32mBoolean\u001b[39m = false"
      ]
     },
     "execution_count": 36,
     "metadata": {},
     "output_type": "execute_result"
    }
   ],
   "source": [
    "val Ieq = (x:Int, y:Int) => x == y\n",
    "val IEmpty = Empty(Ieq)\n",
    "def INode(n: Int, t1: MyTree[Int], t2: MyTree[Int]) = Node(Ieq, n, t1, t2)\n",
    "val t : MyTree[Int] =\n",
    "    INode(3, INode(4,INode(2,IEmpty,IEmpty),\n",
    "    INode(3,IEmpty,IEmpty)),\n",
    "    INode(5,IEmpty,IEmpty))\n",
    "sumElements((x:Int)=>x)(t)\n",
    "t.hasElement(5)\n",
    "t.hasElement(10)"
   ]
  },
  {
   "cell_type": "markdown",
   "metadata": {},
   "source": [
    "### Implementation (Needs of type class)\n",
    "* interface unit: object (OOP)\n",
    "* interface unit: type (type class)"
   ]
  }
 ],
 "metadata": {
  "kernelspec": {
   "display_name": "Scala",
   "language": "scala",
   "name": "scala"
  },
  "language_info": {
   "codemirror_mode": "text/x-scala",
   "file_extension": ".sc",
   "mimetype": "text/x-scala",
   "name": "scala",
   "nbconvert_exporter": "script",
   "version": "2.13.3"
  }
 },
 "nbformat": 4,
 "nbformat_minor": 4
}
