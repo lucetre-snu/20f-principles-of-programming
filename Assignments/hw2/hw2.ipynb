{
 "cells": [
  {
   "cell_type": "markdown",
   "metadata": {},
   "source": [
    "### Problem 1: Structural Sub Type\n",
    "* Complete the definition of MyClass\n",
    "* DO NOT USE \"Any\" in anywhere in your code."
   ]
  },
  {
   "cell_type": "code",
   "execution_count": 1,
   "metadata": {},
   "outputs": [
    {
     "data": {
      "text/plain": [
       "defined \u001b[32mobject\u001b[39m \u001b[36mProblem1\u001b[39m"
      ]
     },
     "execution_count": 1,
     "metadata": {},
     "output_type": "execute_result"
    }
   ],
   "source": [
    "object Problem1{\n",
    "    class MyClass[A,B,C,D,E,F]() {\n",
    "        type Func1 = { val a: A } => { val b: B }\n",
    "        type Func2 = { val b: B } => { val a: A }\n",
    "        type Func3 = { val c: C } => { val a: A }\n",
    "        type Func4 = { val f: F } => { val d: D }\n",
    "\n",
    "        type Ty1 = {\n",
    "            def apply: { val func: Func1 ; val c: C } => { val b: B ; val d: D }\n",
    "            def function1: { val func: Func3 } => { val c: C }\n",
    "            val a: A\n",
    "            val b: B\n",
    "            val d: D\n",
    "        }\n",
    "\n",
    "        type Ty2 = {\n",
    "            def apply: { val func: Func2 ; val e: E } => { val b: B ; val f: F ; val c: C }\n",
    "            def function1: { val func: Func4 } => { val c: C; val e:E }\n",
    "            val a: A\n",
    "            val c: C\n",
    "            val d: D\n",
    "        }\n",
    "\n",
    "        /*\n",
    "        Find suitable common supertype of Ty1 and Ty2,\n",
    "        and replace \"Any\" with that type.\n",
    "        */\n",
    "        type CommonTy = { val a: A; val d: D }\n",
    "    }\n",
    "}"
   ]
  },
  {
   "cell_type": "code",
   "execution_count": 2,
   "metadata": {},
   "outputs": [
    {
     "data": {
      "text/plain": [
       "\u001b[36mmc\u001b[39m: \u001b[32mProblem1\u001b[39m.\u001b[32mMyClass\u001b[39m[\u001b[32mInt\u001b[39m, \u001b[32mInt\u001b[39m, \u001b[32mInt\u001b[39m, \u001b[32mInt\u001b[39m, \u001b[32mInt\u001b[39m, \u001b[32mInt\u001b[39m] = ammonite.$sess.cmd0$Helper$Problem1$MyClass@554a689b\n",
       "\u001b[36mres1_1\u001b[39m: \u001b[32mBoolean\u001b[39m = true\n",
       "\u001b[36mres1_2\u001b[39m: \u001b[32mBoolean\u001b[39m = true\n",
       "\u001b[36mmc1\u001b[39m: \u001b[32mProblem1\u001b[39m.\u001b[32mMyClass\u001b[39m[\u001b[32mInt\u001b[39m, \u001b[32mChar\u001b[39m, \u001b[32mString\u001b[39m, \u001b[32mList\u001b[39m[\u001b[32mInt\u001b[39m], \u001b[32mList\u001b[39m[\u001b[32mLong\u001b[39m], \u001b[32mList\u001b[39m[\u001b[32mChar\u001b[39m]] = ammonite.$sess.cmd0$Helper$Problem1$MyClass@2394020b\n",
       "\u001b[36mres1_4\u001b[39m: \u001b[32mBoolean\u001b[39m = true\n",
       "\u001b[36mres1_5\u001b[39m: \u001b[32mBoolean\u001b[39m = true"
      ]
     },
     "execution_count": 2,
     "metadata": {},
     "output_type": "execute_result"
    }
   ],
   "source": [
    "val mc = new Problem1.MyClass[Int, Int, Int, Int, Int, Int]()\n",
    "typeOf[mc.Ty1]<:<typeOf[mc.CommonTy]\n",
    "!(typeOf[Any]<:<typeOf[mc.CommonTy])\n",
    "\n",
    "val mc1 = new Problem1.MyClass[Int, Char, String, List[Int], List[Long], List[Char]]()\n",
    "typeOf[mc1.Ty1]<:<typeOf[mc1.CommonTy]\n",
    "!(typeOf[Any]<:<typeOf[mc1.CommonTy])"
   ]
  },
  {
   "cell_type": "markdown",
   "metadata": {},
   "source": [
    "### Exercise 2: Regular Expressions\n",
    "* Regular expression is a sequence of character that defines a pattern.\n",
    "* In this exercise, we will cover two problems:\n",
    "  1. Converts a string to regular expression defined below.\n",
    "  2. Check if a regular expression matches given string.\n",
    "* For more information on regular expressions, refer to the link below.\n",
    "  * https://en.wikipedia.org/wiki/Regular_expression\n",
    "* (*) Syntax of Exp (see Data.scala)\n",
    ">    E -> a      (single alphanumeric character)\n",
    ">       | (EE)   (concatenation)\n",
    ">       | (E|E)  (or)\n",
    ">       | (E)*   (repetition / kleene star)\n",
    "\n",
    "#### Exercise 2-1: Regex Converter\n",
    "* Implement a function that converts a list of characters into a regular expression (Exp).\n",
    "* The result of the conversion should be a regular expression (Exp) that means the same pattern as the input.\n",
    "* To solve this problem, implement the two functions described below:\n",
    "(1) Function that convert list of character to list of token (lexer)\n",
    "(2) Function that convert list of token to regular expression (parser)\n",
    "* (Tip) About Lexer\n",
    "  * Lexer is a function that divides a string into appropriate units, and the unit is called token.\n",
    "  * Token is defined in Data.scala, but there is no content yet.\n",
    "  * It is recommended to start by defining an appropriate Token to divide the String into.\n",
    "  * Information about lexers and tokens can be obtained from the link below. https://en.wikipedia.org/wiki/Lexical_analysis\n",
    "  * ex)\n",
    "```\n",
    "      converter({'(', '(', '2', '3', ')', ')', '*'})\n",
    "        => EStar( EConcat( EChar('2') , EChar('3') ) )\n",
    "      converter({'(', '1', '(', '(', '(', '2', '3', ')', ')', '*', '4', ')', ')'})\n",
    "        => EConcat( EChar('1') , EConcat( EStar( EConcat( EChar('2') , EChar('3') ) ) , EChar('4') ) ) )\n",
    "```\n",
    "* (caution)\n",
    "1. Only '0' ~ '9', 'a' ~ 'z', 'A' ~ 'Z', '|', '*', '(', and ')' will be given as an input.\n",
    "2. Converter must be able to handle gramatical errors of input.\n",
    "* Note that the result of converting an erroneous character list should be Error itself, rather than an expression containing Error.\n",
    "* ex)\n",
    "```\n",
    "       (ab)* => EError    [((ab))* is right expression]\n",
    "       (((34) => EError\n",
    "```\n",
    "* (*) \"List\" is an algebraic datatype which is defined as below.\n",
    "      sealed abstract class List[A]\n",
    "      case object Nil extends List[A]\n",
    "      case class Cons(hd: A, tl: List[A]) extends List[A]\n",
    "* Scala provides a special syntax for List.\n",
    "    - \"case object\" can drop out \"()\" after the name of case class (like \"Nil()\")\n",
    "    - \"hd :: tl\" means \"Cons(hd, tl)\".\n",
    "* For usage, see below \"drop_two\".\n",
    "      def drop_two(l: List[Int]): List[Int] =\n",
    "        l match {\n",
    "          case hd1::tl1 =>\n",
    "            tl1 match {\n",
    "              case hd2::tl2 => tl2\n",
    "              case Nil => Nil\n",
    "            }\n",
    "          case _ => Nil\n",
    "* ref) Technically, Scala can use special symbols as a valid identifier, so it defines \"case class ::\" instead \"case class Cons\".\n",
    "        Therefore, you can't match List like \"case Cons(hd, tl) => ...\""
   ]
  },
  {
   "cell_type": "code",
   "execution_count": 3,
   "metadata": {},
   "outputs": [
    {
     "data": {
      "text/plain": [
       "defined \u001b[32mclass\u001b[39m \u001b[36mToken\u001b[39m\n",
       "defined \u001b[32mclass\u001b[39m \u001b[36mLetter\u001b[39m\n",
       "defined \u001b[32mobject\u001b[39m \u001b[36mBar\u001b[39m\n",
       "defined \u001b[32mobject\u001b[39m \u001b[36mStar\u001b[39m\n",
       "defined \u001b[32mobject\u001b[39m \u001b[36mOpen\u001b[39m\n",
       "defined \u001b[32mobject\u001b[39m \u001b[36mClose\u001b[39m\n",
       "defined \u001b[32mobject\u001b[39m \u001b[36mOther\u001b[39m\n",
       "defined \u001b[32mclass\u001b[39m \u001b[36mExp\u001b[39m\n",
       "defined \u001b[32mclass\u001b[39m \u001b[36mEChar\u001b[39m\n",
       "defined \u001b[32mclass\u001b[39m \u001b[36mEStar\u001b[39m\n",
       "defined \u001b[32mclass\u001b[39m \u001b[36mEConcat\u001b[39m\n",
       "defined \u001b[32mclass\u001b[39m \u001b[36mEOr\u001b[39m\n",
       "defined \u001b[32mobject\u001b[39m \u001b[36mEEpsilon\u001b[39m\n",
       "defined \u001b[32mobject\u001b[39m \u001b[36mEError\u001b[39m"
      ]
     },
     "execution_count": 3,
     "metadata": {},
     "output_type": "execute_result"
    }
   ],
   "source": [
    "sealed abstract class Token\n",
    "case class Letter(c: Char) extends Token\n",
    "case object Bar extends Token\n",
    "case object Star extends Token\n",
    "case object Open extends Token\n",
    "case object Close extends Token\n",
    "case object Other extends Token\n",
    "\n",
    "sealed abstract class Exp\n",
    "case class EChar(c: Char) extends Exp\n",
    "case class EStar(e: Exp) extends Exp\n",
    "case class EConcat(e1: Exp, e2: Exp) extends Exp\n",
    "case class EOr(e1:Exp, e2:Exp) extends Exp\n",
    "case object EEpsilon extends Exp\n",
    "case object EError extends Exp"
   ]
  },
  {
   "cell_type": "code",
   "execution_count": 4,
   "metadata": {},
   "outputs": [
    {
     "data": {
      "text/plain": [
       "\u001b[32mimport \u001b[39m\u001b[36mscala.util.control.TailCalls._\n",
       "\u001b[39m\n",
       "\u001b[32mimport \u001b[39m\u001b[36mscala.annotation.tailrec\n",
       "\n",
       "\u001b[39m\n",
       "defined \u001b[32mfunction\u001b[39m \u001b[36mlexer\u001b[39m\n",
       "\u001b[36mres3_3\u001b[39m: \u001b[32mList\u001b[39m[\u001b[32mToken\u001b[39m] = \u001b[33mList\u001b[39m(\n",
       "  Open,\n",
       "  \u001b[33mLetter\u001b[39m(\u001b[32m'a'\u001b[39m),\n",
       "  Open,\n",
       "  \u001b[33mLetter\u001b[39m(\u001b[32m'b'\u001b[39m),\n",
       "  Open,\n",
       "  \u001b[33mLetter\u001b[39m(\u001b[32m'c'\u001b[39m),\n",
       "  \u001b[33mLetter\u001b[39m(\u001b[32m'd'\u001b[39m),\n",
       "  Close,\n",
       "  Close,\n",
       "  Close\n",
       ")"
      ]
     },
     "execution_count": 4,
     "metadata": {},
     "output_type": "execute_result"
    }
   ],
   "source": [
    "import scala.util.control.TailCalls._\n",
    "import scala.annotation.tailrec\n",
    "\n",
    "def lexer(l: List[Char]): List[Token] = {\n",
    "    def lexerIter(xs: List[Char]): List[Token] = {\n",
    "        xs match {\n",
    "            case Nil => Nil\n",
    "            case hd::tl => {\n",
    "                if (hd == '(') Open::lexerIter(tl)\n",
    "                else if (hd == ')') Close::lexerIter(tl)\n",
    "                else if (hd == '*') Star::lexerIter(tl)\n",
    "                else if (hd == '|') Bar::lexerIter(tl)\n",
    "                else if (hd >= '0' && hd <= '9') Letter(hd)::lexerIter(tl)\n",
    "                else if (hd >= 'a' && hd <= 'z') Letter(hd)::lexerIter(tl)\n",
    "                else if (hd >= 'A' && hd <= 'Z') Letter(hd)::lexerIter(tl)\n",
    "                else Other::lexerIter(tl)\n",
    "            }\n",
    "        }\n",
    "    }\n",
    "    \n",
    "    @tailrec\n",
    "    def lexerCont(xs: List[Char], cont: List[Token]=>TailRec[List[Token]]): List[Token] = {\n",
    "        xs match {\n",
    "            case Nil => cont(Nil).result\n",
    "            case hd::tl => {\n",
    "                if (hd == '(') lexerCont(tl, (r) => tailcall(cont(Open::r)))\n",
    "                else if (hd == ')') lexerCont(tl, (r) => tailcall(cont(Close::r)))\n",
    "                else if (hd == '*') lexerCont(tl, (r) => tailcall(cont(Star::r)))\n",
    "                else if (hd == '|') lexerCont(tl, (r) => tailcall(cont(Bar::r)))\n",
    "                else if (hd >= '0' && hd <= '9') lexerCont(tl, (r) => tailcall(cont(Letter(hd)::r)))\n",
    "                else if (hd >= 'a' && hd <= 'z') lexerCont(tl, (r) => tailcall(cont(Letter(hd)::r)))\n",
    "                else if (hd >= 'A' && hd <= 'Z') lexerCont(tl, (r) => tailcall(cont(Letter(hd)::r)))\n",
    "                else lexerCont(tl, (r) => tailcall(cont(Other::r)))\n",
    "            }\n",
    "        }\n",
    "    }\n",
    "//     lexerIter(l)\n",
    "    lexerCont(l, (r)=>done(r))   \n",
    "}\n",
    "lexer(\"(a(b(cd)))\".toList)"
   ]
  },
  {
   "cell_type": "code",
   "execution_count": 5,
   "metadata": {},
   "outputs": [
    {
     "data": {
      "text/plain": [
       "defined \u001b[32mfunction\u001b[39m \u001b[36mparser\u001b[39m\n",
       "defined \u001b[32mfunction\u001b[39m \u001b[36mconverter\u001b[39m\n",
       "\u001b[36mres4_2\u001b[39m: \u001b[32mExp\u001b[39m = \u001b[33mEStar\u001b[39m(\n",
       "  \u001b[33mEOr\u001b[39m(\n",
       "    \u001b[33mEChar\u001b[39m(\u001b[32m'1'\u001b[39m),\n",
       "    \u001b[33mEConcat\u001b[39m(\u001b[33mEStar\u001b[39m(\u001b[33mEOr\u001b[39m(\u001b[33mEChar\u001b[39m(\u001b[32m'2'\u001b[39m), \u001b[33mEConcat\u001b[39m(\u001b[33mEChar\u001b[39m(\u001b[32m'3'\u001b[39m), \u001b[33mEChar\u001b[39m(\u001b[32m'A'\u001b[39m)))), \u001b[33mEChar\u001b[39m(\u001b[32m'4'\u001b[39m))\n",
       "  )\n",
       ")"
      ]
     },
     "execution_count": 5,
     "metadata": {},
     "output_type": "execute_result"
    }
   ],
   "source": [
    "def parser(l: List[Token]): Exp = {\n",
    "    def isNotOp(e: Exp): Boolean = {\n",
    "        e match {\n",
    "            case EChar('|') => false\n",
    "            case EChar('(') => false\n",
    "            case EError => false\n",
    "            case _ => true\n",
    "        }\n",
    "    }\n",
    "    \n",
    "    @tailrec\n",
    "    def parserIter(xs: List[Token], stack: List[Exp]): Exp = {\n",
    "        xs match {\n",
    "            case hd::tl => hd match {\n",
    "                // (single alphanumeric character)\n",
    "                case Letter(c) => parserIter(tl, EChar(c)::stack)\n",
    "                case Bar => parserIter(tl, EChar('|')::stack)\n",
    "                case Open => parserIter(tl, EChar('(')::stack)\n",
    "                case Close => tl match {\n",
    "                    // (repetition / kleene star) & tl updated\n",
    "                    case Star::tl => {\n",
    "                        stack match {\n",
    "                            case hd1::tl1 if isNotOp(hd1) => tl1 match {\n",
    "                                case hd2::tl2 if hd2 == EChar('(') => {\n",
    "                                    parserIter(tl, EStar(hd1)::tl2)\n",
    "                                }\n",
    "                                case _ => EError\n",
    "                            }\n",
    "                            case _ => EError\n",
    "                        }\n",
    "                    }\n",
    "                    case _ => {\n",
    "                        stack match {\n",
    "                            case hd1::tl1 if isNotOp(hd1) => tl1 match {\n",
    "                                // (or)\n",
    "                                case EChar('|')::tl2 => tl2 match {\n",
    "                                    case hd3::tl3 if isNotOp(hd3) => tl3 match {\n",
    "                                        case hd4::tl4 if hd4 == EChar('(') => {\n",
    "                                            parserIter(tl, EOr(hd3, hd1)::tl4)\n",
    "                                        }\n",
    "                                        case _ => EError\n",
    "                                    }\n",
    "                                    case _ => EError\n",
    "                                }\n",
    "                                // (concatenation)                  \n",
    "                                case hd2::tl2 if isNotOp(hd2) => tl2 match {\n",
    "                                    case hd3::tl3 if hd3 == EChar('(') => {\n",
    "                                        parserIter(tl, EConcat(hd2, hd1)::tl3)\n",
    "                                    }\n",
    "                                    case _ => EError\n",
    "                                }\n",
    "                                case _ => EError\n",
    "                            }\n",
    "                            case _ => EError\n",
    "                        }\n",
    "                    }\n",
    "                }\n",
    "                case _ => EError\n",
    "            }                                                 \n",
    "            case _ => stack match {\n",
    "                case Nil => EEpsilon\n",
    "                case hd::tl if tl == Nil => hd\n",
    "                case _ => EError\n",
    "            }\n",
    "        }\n",
    "    }\n",
    "    parserIter(l, Nil)\n",
    "}\n",
    "\n",
    "def converter(l: List[Char]): Exp = {\n",
    "    parser(lexer(l))\n",
    "}\n",
    "\n",
    "converter(\"((1|(((2|(3A)))*4)))*\".toList)"
   ]
  },
  {
   "cell_type": "code",
   "execution_count": 6,
   "metadata": {},
   "outputs": [
    {
     "data": {
      "text/plain": [
       "\u001b[36mres5_0\u001b[39m: \u001b[32mBoolean\u001b[39m = true\n",
       "\u001b[36mres5_1\u001b[39m: \u001b[32mBoolean\u001b[39m = true\n",
       "\u001b[36mres5_2\u001b[39m: \u001b[32mBoolean\u001b[39m = true\n",
       "\u001b[36mres5_3\u001b[39m: \u001b[32mBoolean\u001b[39m = true\n",
       "\u001b[36mres5_4\u001b[39m: \u001b[32mBoolean\u001b[39m = true\n",
       "\u001b[36mres5_5\u001b[39m: \u001b[32mBoolean\u001b[39m = true"
      ]
     },
     "execution_count": 6,
     "metadata": {},
     "output_type": "execute_result"
    }
   ],
   "source": [
    "converter(\"(a(b(cd)))\".toList) == EConcat(EChar('a'),EConcat(EChar('b'),EConcat(EChar('c'),EChar('d'))))\n",
    "converter(\"(1(((23))*4))\".toList) == EConcat(EChar('1'),EConcat(EStar(EConcat(EChar('2'),EChar('3'))),EChar('4')))\n",
    "converter(\"((23))*\".toList) == EStar(EConcat(EChar('2'),EChar('3')))\n",
    "converter(\"(23)*\".toList) == EError\n",
    "converter(\"(C((bv))*)\".toList) == EConcat(EChar('C'),EStar(EConcat(EChar('b'),EChar('v'))))\n",
    "converter(\"\".toList) == EEpsilon"
   ]
  },
  {
   "cell_type": "markdown",
   "metadata": {},
   "source": [
    "#### Exercise 2-2: Regex Matcher by Brzozowski derivative\n",
    "* Implement a function that checks if a given regular expression matches a string.\n",
    "* Since regular expression means a string pattern, you can determine whether a string belongs to the pattern.\n",
    "* Use the \"Brzozowski derivative\" shown in the link below to implement a function that determines whether a string is included in the pattern of a regular expression.\n",
    "  * e.g.)\n",
    "```\n",
    "      matcher(converter(\"((23))*\".toList), \"2323232323\") = true\n",
    "      matcher(converter(\"((23))*\".toList), \"d\") = false\n",
    "      matcher(converter(\"(1(((23))*4))\".toList), \"12323234\") = true\n",
    "```\n",
    "* https://en.wikipedia.org/wiki/Brzozowski_derivative\n",
    "* https://www.ccs.neu.edu/home/turon/re-deriv.pdf"
   ]
  },
  {
   "cell_type": "code",
   "execution_count": 19,
   "metadata": {},
   "outputs": [
    {
     "name": "stdout",
     "output_type": "stream",
     "text": [
      "EConcat(EChar(a),EConcat(EChar(b),EConcat(EChar(c),EChar(d))))\n",
      "a\n",
      "EConcat(EEpsilon,EConcat(EChar(b),EConcat(EChar(c),EChar(d))))\n",
      "b\n",
      "EOr(EConcat(EError,EConcat(EChar(b),EConcat(EChar(c),EChar(d)))),EConcat(EEpsilon,EConcat(EChar(c),EChar(d))))\n",
      "c\n",
      "EOr(EConcat(EError,EConcat(EChar(b),EConcat(EChar(c),EChar(d)))),EOr(EConcat(EError,EConcat(EChar(c),EChar(d))),EConcat(EEpsilon,EChar(d))))\n",
      "d\n",
      "EOr(EConcat(EError,EConcat(EChar(b),EConcat(EChar(c),EChar(d)))),EOr(EConcat(EError,EConcat(EChar(c),EChar(d))),EOr(EConcat(EError,EChar(d)),EEpsilon)))\n"
     ]
    },
    {
     "data": {
      "text/plain": [
       "defined \u001b[32mfunction\u001b[39m \u001b[36mmatcher\u001b[39m\n",
       "\u001b[36mres18_1\u001b[39m: \u001b[32mBoolean\u001b[39m = true"
      ]
     },
     "execution_count": 19,
     "metadata": {},
     "output_type": "execute_result"
    }
   ],
   "source": [
    "def matcher(e: Exp, s: String): Boolean = {\n",
    "    def helper(x: Exp): Boolean = {\n",
    "        x match {\n",
    "            case EError => false\n",
    "            case EEpsilon => true\n",
    "            case EStar(_) => true\n",
    "            case EChar(_) => false\n",
    "            case EConcat(e1, e2) => helper(e1) & helper(e2)\n",
    "            case EOr(e1, e2) => helper(e1) | helper(e2)\n",
    "        }\n",
    "    }\n",
    "    \n",
    "    def derivative(x: Exp, c: Char): Exp = {\n",
    "        x match {\n",
    "            case EEpsilon => EError\n",
    "            case EChar(c1) if c1 == c => EEpsilon\n",
    "            case EChar(_) => EError\n",
    "            case EStar(e) => EConcat(derivative(e, c), x)\n",
    "            case EConcat(e1, e2) => {\n",
    "                if (helper(e1)) EOr(EConcat(derivative(e1, c), e2), derivative(e2, c))\n",
    "                else EConcat(derivative(e1, c), e2)\n",
    "            }\n",
    "            case EOr(e1, e2) => EOr(derivative(e1, c), derivative(e2, c))\n",
    "            case _ => EError\n",
    "        }\n",
    "    }\n",
    "    \n",
    "    @tailrec\n",
    "    def matcherIter(x: Exp, i: Int): Boolean = {\n",
    "        if (i >= s.length) helper(x)\n",
    "        else {\n",
    "            println(s(i))\n",
    "            println(derivative(x, s(i)))\n",
    "            matcherIter(derivative(x, s(i)), i+1)\n",
    "        }\n",
    "    }\n",
    "    \n",
    "    println(e)\n",
    "    e match {\n",
    "        case EError => false\n",
    "        case _ => matcherIter(e, 0)\n",
    "    }\n",
    "}\n",
    "\n",
    "matcher(converter(\"(a(b(cd)))\".toList), \"abcd\")"
   ]
  },
  {
   "cell_type": "code",
   "execution_count": 17,
   "metadata": {},
   "outputs": [
    {
     "name": "stdout",
     "output_type": "stream",
     "text": [
      "EConcat(EChar(a),EConcat(EChar(b),EConcat(EChar(c),EChar(d))))\n",
      "a\n",
      "EConcat(EEpsilon,EConcat(EChar(b),EConcat(EChar(c),EChar(d))))\n",
      "b\n",
      "EOr(EConcat(EError,EConcat(EChar(b),EConcat(EChar(c),EChar(d)))),EConcat(EEpsilon,EConcat(EChar(c),EChar(d))))\n",
      "c\n",
      "EOr(EConcat(EError,EConcat(EChar(b),EConcat(EChar(c),EChar(d)))),EOr(EConcat(EError,EConcat(EChar(c),EChar(d))),EConcat(EEpsilon,EChar(d))))\n",
      "d\n",
      "EOr(EConcat(EError,EConcat(EChar(b),EConcat(EChar(c),EChar(d)))),EOr(EConcat(EError,EConcat(EChar(c),EChar(d))),EOr(EConcat(EError,EChar(d)),EEpsilon)))\n",
      "EConcat(EChar(1),EConcat(EStar(EConcat(EChar(2),EChar(3))),EChar(4)))\n",
      "1\n",
      "EConcat(EEpsilon,EConcat(EStar(EConcat(EChar(2),EChar(3))),EChar(4)))\n",
      "4\n",
      "EOr(EConcat(EError,EConcat(EStar(EConcat(EChar(2),EChar(3))),EChar(4))),EOr(EConcat(EConcat(EConcat(EError,EChar(3)),EStar(EConcat(EChar(2),EChar(3)))),EChar(4)),EEpsilon))\n",
      "EStar(EConcat(EChar(2),EChar(3)))\n",
      "2\n",
      "EConcat(EConcat(EEpsilon,EChar(3)),EStar(EConcat(EChar(2),EChar(3))))\n",
      "3\n",
      "EConcat(EOr(EConcat(EError,EChar(3)),EEpsilon),EStar(EConcat(EChar(2),EChar(3))))\n",
      "2\n",
      "EOr(EConcat(EOr(EConcat(EError,EChar(3)),EError),EStar(EConcat(EChar(2),EChar(3)))),EConcat(EConcat(EEpsilon,EChar(3)),EStar(EConcat(EChar(2),EChar(3)))))\n",
      "3\n",
      "EOr(EConcat(EOr(EConcat(EError,EChar(3)),EError),EStar(EConcat(EChar(2),EChar(3)))),EConcat(EOr(EConcat(EError,EChar(3)),EEpsilon),EStar(EConcat(EChar(2),EChar(3)))))\n",
      "2\n",
      "EOr(EConcat(EOr(EConcat(EError,EChar(3)),EError),EStar(EConcat(EChar(2),EChar(3)))),EOr(EConcat(EOr(EConcat(EError,EChar(3)),EError),EStar(EConcat(EChar(2),EChar(3)))),EConcat(EConcat(EEpsilon,EChar(3)),EStar(EConcat(EChar(2),EChar(3))))))\n",
      "3\n",
      "EOr(EConcat(EOr(EConcat(EError,EChar(3)),EError),EStar(EConcat(EChar(2),EChar(3)))),EOr(EConcat(EOr(EConcat(EError,EChar(3)),EError),EStar(EConcat(EChar(2),EChar(3)))),EConcat(EOr(EConcat(EError,EChar(3)),EEpsilon),EStar(EConcat(EChar(2),EChar(3))))))\n",
      "2\n",
      "EOr(EConcat(EOr(EConcat(EError,EChar(3)),EError),EStar(EConcat(EChar(2),EChar(3)))),EOr(EConcat(EOr(EConcat(EError,EChar(3)),EError),EStar(EConcat(EChar(2),EChar(3)))),EOr(EConcat(EOr(EConcat(EError,EChar(3)),EError),EStar(EConcat(EChar(2),EChar(3)))),EConcat(EConcat(EEpsilon,EChar(3)),EStar(EConcat(EChar(2),EChar(3)))))))\n",
      "3\n",
      "EOr(EConcat(EOr(EConcat(EError,EChar(3)),EError),EStar(EConcat(EChar(2),EChar(3)))),EOr(EConcat(EOr(EConcat(EError,EChar(3)),EError),EStar(EConcat(EChar(2),EChar(3)))),EOr(EConcat(EOr(EConcat(EError,EChar(3)),EError),EStar(EConcat(EChar(2),EChar(3)))),EConcat(EOr(EConcat(EError,EChar(3)),EEpsilon),EStar(EConcat(EChar(2),EChar(3)))))))\n",
      "2\n",
      "EOr(EConcat(EOr(EConcat(EError,EChar(3)),EError),EStar(EConcat(EChar(2),EChar(3)))),EOr(EConcat(EOr(EConcat(EError,EChar(3)),EError),EStar(EConcat(EChar(2),EChar(3)))),EOr(EConcat(EOr(EConcat(EError,EChar(3)),EError),EStar(EConcat(EChar(2),EChar(3)))),EOr(EConcat(EOr(EConcat(EError,EChar(3)),EError),EStar(EConcat(EChar(2),EChar(3)))),EConcat(EConcat(EEpsilon,EChar(3)),EStar(EConcat(EChar(2),EChar(3))))))))\n",
      "3\n",
      "EOr(EConcat(EOr(EConcat(EError,EChar(3)),EError),EStar(EConcat(EChar(2),EChar(3)))),EOr(EConcat(EOr(EConcat(EError,EChar(3)),EError),EStar(EConcat(EChar(2),EChar(3)))),EOr(EConcat(EOr(EConcat(EError,EChar(3)),EError),EStar(EConcat(EChar(2),EChar(3)))),EOr(EConcat(EOr(EConcat(EError,EChar(3)),EError),EStar(EConcat(EChar(2),EChar(3)))),EConcat(EOr(EConcat(EError,EChar(3)),EEpsilon),EStar(EConcat(EChar(2),EChar(3))))))))\n",
      "EConcat(EChar(C),EStar(EConcat(EChar(b),EChar(v))))\n",
      "C\n",
      "EConcat(EEpsilon,EStar(EConcat(EChar(b),EChar(v))))\n",
      "EConcat(EChar(C),EStar(EConcat(EChar(b),EChar(v))))\n",
      "C\n",
      "EConcat(EEpsilon,EStar(EConcat(EChar(b),EChar(v))))\n",
      "b\n",
      "EOr(EConcat(EError,EStar(EConcat(EChar(b),EChar(v)))),EConcat(EConcat(EEpsilon,EChar(v)),EStar(EConcat(EChar(b),EChar(v)))))\n",
      "v\n",
      "EOr(EConcat(EError,EStar(EConcat(EChar(b),EChar(v)))),EConcat(EOr(EConcat(EError,EChar(v)),EEpsilon),EStar(EConcat(EChar(b),EChar(v)))))\n",
      "b\n",
      "EOr(EConcat(EError,EStar(EConcat(EChar(b),EChar(v)))),EOr(EConcat(EOr(EConcat(EError,EChar(v)),EError),EStar(EConcat(EChar(b),EChar(v)))),EConcat(EConcat(EEpsilon,EChar(v)),EStar(EConcat(EChar(b),EChar(v))))))\n",
      "v\n",
      "EOr(EConcat(EError,EStar(EConcat(EChar(b),EChar(v)))),EOr(EConcat(EOr(EConcat(EError,EChar(v)),EError),EStar(EConcat(EChar(b),EChar(v)))),EConcat(EOr(EConcat(EError,EChar(v)),EEpsilon),EStar(EConcat(EChar(b),EChar(v))))))\n",
      "b\n",
      "EOr(EConcat(EError,EStar(EConcat(EChar(b),EChar(v)))),EOr(EConcat(EOr(EConcat(EError,EChar(v)),EError),EStar(EConcat(EChar(b),EChar(v)))),EOr(EConcat(EOr(EConcat(EError,EChar(v)),EError),EStar(EConcat(EChar(b),EChar(v)))),EConcat(EConcat(EEpsilon,EChar(v)),EStar(EConcat(EChar(b),EChar(v)))))))\n",
      "v\n",
      "EOr(EConcat(EError,EStar(EConcat(EChar(b),EChar(v)))),EOr(EConcat(EOr(EConcat(EError,EChar(v)),EError),EStar(EConcat(EChar(b),EChar(v)))),EOr(EConcat(EOr(EConcat(EError,EChar(v)),EError),EStar(EConcat(EChar(b),EChar(v)))),EConcat(EOr(EConcat(EError,EChar(v)),EEpsilon),EStar(EConcat(EChar(b),EChar(v)))))))\n"
     ]
    },
    {
     "data": {
      "text/plain": [
       "\u001b[36mres16_0\u001b[39m: \u001b[32mBoolean\u001b[39m = true\n",
       "\u001b[36mres16_1\u001b[39m: \u001b[32mBoolean\u001b[39m = true\n",
       "\u001b[36mres16_2\u001b[39m: \u001b[32mBoolean\u001b[39m = true\n",
       "\u001b[36mres16_3\u001b[39m: \u001b[32mBoolean\u001b[39m = true\n",
       "\u001b[36mres16_4\u001b[39m: \u001b[32mBoolean\u001b[39m = true"
      ]
     },
     "execution_count": 17,
     "metadata": {},
     "output_type": "execute_result"
    }
   ],
   "source": [
    "matcher(converter(\"(a(b(cd)))\".toList), \"abcd\")\n",
    "matcher(converter(\"(1(((23))*4))\".toList), \"14\")\n",
    "matcher(converter(\"((23))*\".toList), \"2323232323\")\n",
    "matcher(converter(\"(C((bv))*)\".toList), \"C\")\n",
    "matcher(converter(\"(C((bv))*)\".toList), \"Cbvbvbv\")"
   ]
  },
  {
   "cell_type": "code",
   "execution_count": null,
   "metadata": {},
   "outputs": [],
   "source": []
  },
  {
   "cell_type": "code",
   "execution_count": null,
   "metadata": {},
   "outputs": [],
   "source": []
  }
 ],
 "metadata": {
  "kernelspec": {
   "display_name": "Scala",
   "language": "scala",
   "name": "scala"
  },
  "language_info": {
   "codemirror_mode": "text/x-scala",
   "file_extension": ".sc",
   "mimetype": "text/x-scala",
   "name": "scala",
   "nbconvert_exporter": "script",
   "version": "2.13.3"
  }
 },
 "nbformat": 4,
 "nbformat_minor": 4
}
