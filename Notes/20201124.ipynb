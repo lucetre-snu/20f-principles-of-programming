{
 "cells": [
  {
   "cell_type": "code",
   "execution_count": 1,
   "metadata": {},
   "outputs": [
    {
     "data": {
      "text/plain": [
       "defined \u001b[32mtrait\u001b[39m \u001b[36mOrd\u001b[39m"
      ]
     },
     "execution_count": 1,
     "metadata": {},
     "output_type": "execute_result"
    }
   ],
   "source": [
    "trait Ord[A] {\n",
    "    def cmp(that: Ord[A]): Int\n",
    "    def ===(that: Ord[A]): Boolean = (this cmp that) == 0\n",
    "    def <  (that: Ord[A]): Boolean = (this cmp that) < 0\n",
    "    def >  (that: Ord[A]): Boolean = (this cmp that) > 0\n",
    "    def <= (that: Ord[A]): Boolean = (this cmp that) <= 0\n",
    "    def >= (that: Ord[A]): Boolean = (this cmp that) >= 0\n",
    "    val x: A\n",
    "}"
   ]
  },
  {
   "cell_type": "code",
   "execution_count": 2,
   "metadata": {},
   "outputs": [
    {
     "data": {
      "text/plain": [
       "defined \u001b[32mfunction\u001b[39m \u001b[36mmax2\u001b[39m"
      ]
     },
     "execution_count": 2,
     "metadata": {},
     "output_type": "execute_result"
    }
   ],
   "source": [
    "def max2[A](a: Ord[A], b: Ord[A]): Ord[A] = {\n",
    "    if (a > b) a else b\n",
    "}"
   ]
  },
  {
   "cell_type": "code",
   "execution_count": 3,
   "metadata": {},
   "outputs": [
    {
     "data": {
      "text/plain": [
       "defined \u001b[32mclass\u001b[39m \u001b[36mOInt\u001b[39m\n",
       "defined \u001b[32mclass\u001b[39m \u001b[36mOStr\u001b[39m\n",
       "\u001b[36mres2_2\u001b[39m: \u001b[32mOrd\u001b[39m[\u001b[32mInt\u001b[39m] = \u001b[33mOInt\u001b[39m(\u001b[32m200\u001b[39m)\n",
       "\u001b[36mres2_3\u001b[39m: \u001b[32mOrd\u001b[39m[\u001b[32mString\u001b[39m] = \u001b[33mOStr\u001b[39m(\u001b[32m\"CDE\"\u001b[39m)"
      ]
     },
     "execution_count": 3,
     "metadata": {},
     "output_type": "execute_result"
    }
   ],
   "source": [
    "case class OInt(val x: Int) extends Ord[Int] {\n",
    "    def cmp(that: Ord[Int]) = x - that.x\n",
    "}\n",
    "case class OStr(val x: String) extends Ord[String] {\n",
    "    def cmp(that: Ord[String]) = x.compare(that.x)\n",
    "}\n",
    "max2(OInt(1), OInt(200))\n",
    "max2(OStr(\"ABC\"), OStr(\"CDE\"))"
   ]
  },
  {
   "cell_type": "markdown",
   "metadata": {},
   "source": [
    "### OOP vs Type class\n",
    "* `ord[A]`: a record of functions\n",
    "* hard to provide `ord` => use implicit"
   ]
  },
  {
   "cell_type": "code",
   "execution_count": 4,
   "metadata": {},
   "outputs": [
    {
     "data": {
      "text/plain": [
       "defined \u001b[32mtrait\u001b[39m \u001b[36mOrd\u001b[39m"
      ]
     },
     "execution_count": 4,
     "metadata": {},
     "output_type": "execute_result"
    }
   ],
   "source": [
    "trait Ord[A] {\n",
    "    def cmp(me: A, you: A): Int\n",
    "    def ===(me: A, you: A): Boolean = (this cmp(me, you)) == 0\n",
    "    def <  (me: A, you: A): Boolean = (this cmp(me, you)) < 0\n",
    "    def >  (me: A, you: A): Boolean = (this cmp(me, you)) > 0\n",
    "    def <= (me: A, you: A): Boolean = (this cmp(me, you)) <= 0\n",
    "    def >= (me: A, you: A): Boolean = (this cmp(me, you)) >= 0\n",
    "}"
   ]
  },
  {
   "cell_type": "code",
   "execution_count": 5,
   "metadata": {},
   "outputs": [
    {
     "data": {
      "text/plain": [
       "defined \u001b[32mfunction\u001b[39m \u001b[36mmax2\u001b[39m"
      ]
     },
     "execution_count": 5,
     "metadata": {},
     "output_type": "execute_result"
    }
   ],
   "source": [
    "def max2[A](a: A, b: A)(ord: Ord[A]): A = {\n",
    "    if (ord.>(a, b)) a else b\n",
    "}"
   ]
  },
  {
   "cell_type": "code",
   "execution_count": 6,
   "metadata": {},
   "outputs": [
    {
     "data": {
      "text/plain": [
       "\u001b[36mordInt\u001b[39m: \u001b[32mOrd\u001b[39m[\u001b[32mInt\u001b[39m] = ammonite.$sess.cmd5$Helper$$anon$1@56d976f3\n",
       "\u001b[36mordStr\u001b[39m: \u001b[32mOrd\u001b[39m[\u001b[32mString\u001b[39m] = ammonite.$sess.cmd5$Helper$$anon$2@27ca1848\n",
       "\u001b[36mres5_2\u001b[39m: \u001b[32mInt\u001b[39m = \u001b[32m2\u001b[39m\n",
       "\u001b[36mres5_3\u001b[39m: \u001b[32mString\u001b[39m = \u001b[32m\"acd\"\u001b[39m"
      ]
     },
     "execution_count": 6,
     "metadata": {},
     "output_type": "execute_result"
    }
   ],
   "source": [
    "val ordInt: Ord[Int] = new Ord[Int] {\n",
    "    def cmp(me: Int, you: Int) = me - you\n",
    "}\n",
    "val ordStr: Ord[String] = new Ord[String] {\n",
    "    def cmp(me: String, you: String) = me.compare(you)\n",
    "}\n",
    "max2(1, 2)(ordInt)\n",
    "max2(\"acd\", \"abc\")(ordStr)"
   ]
  },
  {
   "cell_type": "markdown",
   "metadata": {},
   "source": [
    "### ***Implicit*** : *make ordInt & ordStr unique*\n",
    "* implemetation missing error for `ordDouble`"
   ]
  },
  {
   "cell_type": "code",
   "execution_count": 7,
   "metadata": {},
   "outputs": [
    {
     "data": {
      "text/plain": [
       "defined \u001b[32mfunction\u001b[39m \u001b[36mmax2\u001b[39m\n",
       "\u001b[36mordInt\u001b[39m: \u001b[32mOrd\u001b[39m[\u001b[32mInt\u001b[39m] = ammonite.$sess.cmd6$Helper$$anon$1@23bd1af7\n",
       "\u001b[36mordStr\u001b[39m: \u001b[32mOrd\u001b[39m[\u001b[32mString\u001b[39m] = ammonite.$sess.cmd6$Helper$$anon$2@3c549464\n",
       "\u001b[36mres6_3\u001b[39m: \u001b[32mInt\u001b[39m = \u001b[32m2\u001b[39m\n",
       "\u001b[36mres6_4\u001b[39m: \u001b[32mString\u001b[39m = \u001b[32m\"acd\"\u001b[39m"
      ]
     },
     "execution_count": 7,
     "metadata": {},
     "output_type": "execute_result"
    }
   ],
   "source": [
    "def max2[A](a: A, b: A)(implicit ord: Ord[A]): A = {\n",
    "    if (ord.>(a, b)) a else b\n",
    "}\n",
    "implicit val ordInt: Ord[Int] = new Ord[Int] {\n",
    "    def cmp(me: Int, you: Int) = me - you\n",
    "}\n",
    "implicit val ordStr: Ord[String] = new Ord[String] {\n",
    "    def cmp(me: String, you: String) = me.compare(you)\n",
    "}\n",
    "// max2(1, 2)(ordInt)\n",
    "max2(1, 2)\n",
    "// max2(\"acd\", \"abc\")(ordStr)\n",
    "max2(\"acd\", \"abc\")"
   ]
  },
  {
   "cell_type": "code",
   "execution_count": 7,
   "metadata": {},
   "outputs": [
    {
     "name": "stderr",
     "output_type": "stream",
     "text": [
      "cmd7.sc:1: could not find implicit value for parameter ord: ammonite.$sess.cmd6.wrapper.cmd3.Ord[Double]\n",
      "val res7 = max2(2.1, 1.2)\n",
      "               ^Compilation Failed"
     ]
    },
    {
     "ename": "",
     "evalue": "",
     "output_type": "error",
     "traceback": [
      "Compilation Failed"
     ]
    }
   ],
   "source": [
    "max2(2.1, 1.2)"
   ]
  },
  {
   "cell_type": "code",
   "execution_count": 8,
   "metadata": {},
   "outputs": [
    {
     "data": {
      "text/plain": [
       "\u001b[36mordDouble\u001b[39m: \u001b[32mOrd\u001b[39m[\u001b[32mDouble\u001b[39m] = ammonite.$sess.cmd7$Helper$$anon$1@50744c59\n",
       "\u001b[36mres7_1\u001b[39m: \u001b[32mDouble\u001b[39m = \u001b[32m2.1\u001b[39m"
      ]
     },
     "execution_count": 8,
     "metadata": {},
     "output_type": "execute_result"
    }
   ],
   "source": [
    "implicit val ordDouble: Ord[Double] = new Ord[Double] {\n",
    "    def cmp(me: Double, you: Double) = me.compare(you)\n",
    "}\n",
    "max2(2.1, 1.2)"
   ]
  },
  {
   "cell_type": "markdown",
   "metadata": {},
   "source": [
    "* Data 와 Function 의 분리\n",
    "> *Type이 구현을 결정하는 경우와 Object가 구현을 결정하는 경우가 있다. Type class는 둘 다 가능하지만 OOP는 후자만 가능하다.*\n"
   ]
  },
  {
   "cell_type": "code",
   "execution_count": 9,
   "metadata": {},
   "outputs": [
    {
     "data": {
      "text/plain": [
       "defined \u001b[32mfunction\u001b[39m \u001b[36mfoo\u001b[39m\n",
       "\u001b[36mexclamation\u001b[39m: \u001b[32mString\u001b[39m = \u001b[32m\"!!!!!!\"\u001b[39m\n",
       "\u001b[36mres8_2\u001b[39m: \u001b[32mString\u001b[39m = \u001b[32m\"Hi!!!!!!\"\u001b[39m\n",
       "\u001b[36mres8_3\u001b[39m: \u001b[32mString\u001b[39m = \u001b[32m\"Hi???\"\u001b[39m"
      ]
     },
     "execution_count": 9,
     "metadata": {},
     "output_type": "execute_result"
    }
   ],
   "source": [
    "def foo(s: String) (implicit t: String) = s + t \n",
    "implicit val exclamation: String= \"!!!!!!\"\n",
    "foo(\"Hi\")\n",
    "foo(\"Hi\")(\"???\") // can give it explicitly"
   ]
  },
  {
   "cell_type": "code",
   "execution_count": 10,
   "metadata": {},
   "outputs": [
    {
     "data": {
      "text/plain": [
       "defined \u001b[32mclass\u001b[39m \u001b[36mBag\u001b[39m\n",
       "\u001b[36mordInt\u001b[39m: \u001b[32mOrd\u001b[39m[\u001b[32mInt\u001b[39m] = ammonite.$sess.cmd9$Helper$$anon$1@439af0a5\n",
       "\u001b[36mres9_2\u001b[39m: \u001b[32mList\u001b[39m[\u001b[32mInt\u001b[39m] = \u001b[33mList\u001b[39m(\u001b[32m-1\u001b[39m, \u001b[32m1\u001b[39m, \u001b[32m2\u001b[39m, \u001b[32m12\u001b[39m)"
      ]
     },
     "execution_count": 10,
     "metadata": {},
     "output_type": "execute_result"
    }
   ],
   "source": [
    "class Bag[U] protected (val toList: List[U])(implicit ord: Ord[U]) {\n",
    "    def this()(implicit ord: Ord[U]) = this(Nil)\n",
    "    def add(x: U) : Bag[U] = {\n",
    "        def go(elmts: List[U]): List[U] =\n",
    "            elmts match {\n",
    "            case Nil => x :: Nil\n",
    "            case e :: _ if (ord.<(x, e)) => x :: elmts\n",
    "            case e :: _ if (ord.===(x, e)) => elmts\n",
    "            case e :: rest => e :: go(rest)\n",
    "        }\n",
    "        new Bag(go(toList))\n",
    "    }\n",
    "}\n",
    "implicit val ordInt: Ord[Int] = new Ord[Int] {\n",
    "    def cmp(me: Int, you: Int) = me - you\n",
    "}\n",
    "new Bag[Int].add(1).add(2).add(12).add(-1).toList"
   ]
  },
  {
   "cell_type": "code",
   "execution_count": 10,
   "metadata": {},
   "outputs": [
    {
     "name": "stderr",
     "output_type": "stream",
     "text": [
      "(console):4:1 expected end-of-input\n",
      "TypeA <: TypeB\n",
      "^"
     ]
    },
    {
     "ename": "",
     "evalue": "",
     "output_type": "error",
     "traceback": [
      "(console):4:1 expected end-of-input\nTypeA <: TypeB\n^"
     ]
    }
   ],
   "source": [
    "implicit val ordA: Ord[TypeA] = ???\n",
    "implicit val ordB: Ord[TypeB] = ???\n",
    "\n",
    "TypeA <: TypeB\n",
    "==>\n",
    "Ord[TypeA] <: Ord[TypeB] or Ord[TypeB] <: Ord[TypeA] (cannot determine)"
   ]
  },
  {
   "cell_type": "code",
   "execution_count": 11,
   "metadata": {},
   "outputs": [
    {
     "data": {
      "text/plain": [
       "defined \u001b[32mfunction\u001b[39m \u001b[36mordPair\u001b[39m\n",
       "\u001b[36mres10_1\u001b[39m: ((\u001b[32mString\u001b[39m, \u001b[32mInt\u001b[39m), \u001b[32mDouble\u001b[39m) = ((\u001b[32m\"abc\"\u001b[39m, \u001b[32m7\u001b[39m), \u001b[32m12.3\u001b[39m)"
      ]
     },
     "execution_count": 11,
     "metadata": {},
     "output_type": "execute_result"
    }
   ],
   "source": [
    "implicit def ordPair[A, B](implicit ordA: Ord[A], ordB: Ord[B]): Ord[(A, B)] = {\n",
    "    new Ord[(A, B)] {\n",
    "        def cmp(me: (A, B), you: (A, B)) = {\n",
    "            if (ordA.cmp(me._1, you._1) == 0) ordB.cmp(me._2, you._2)\n",
    "            else ordA.cmp(me._1, you._1)\n",
    "        }\n",
    "    }\n",
    "}\n",
    "max2(((\"abc\", 7), 12.3), ((\"abc\", 2), 123.1))"
   ]
  },
  {
   "cell_type": "markdown",
   "metadata": {},
   "source": [
    "### Keyword `implicitly`"
   ]
  },
  {
   "cell_type": "code",
   "execution_count": 12,
   "metadata": {},
   "outputs": [
    {
     "data": {
      "text/plain": [
       "\u001b[36mordInt\u001b[39m: \u001b[32mOrd\u001b[39m[\u001b[32mInt\u001b[39m] = ammonite.$sess.cmd11$Helper$$anon$1@d23e011\n",
       "\u001b[36mres11_1\u001b[39m: \u001b[32mOrd\u001b[39m[\u001b[32mInt\u001b[39m] = ammonite.$sess.cmd11$Helper$$anon$1@d23e011"
      ]
     },
     "execution_count": 12,
     "metadata": {},
     "output_type": "execute_result"
    }
   ],
   "source": [
    "implicit val ordInt: Ord[Int] = new Ord[Int] {\n",
    "    def cmp(me: Int, you: Int) = me - you\n",
    "}\n",
    "implicitly[Ord[Int]]"
   ]
  },
  {
   "cell_type": "code",
   "execution_count": 14,
   "metadata": {},
   "outputs": [
    {
     "data": {
      "text/plain": [
       "defined \u001b[32mclass\u001b[39m \u001b[36mBag\u001b[39m\n",
       "\u001b[36mres13_1\u001b[39m: \u001b[32mList\u001b[39m[\u001b[32mInt\u001b[39m] = \u001b[33mList\u001b[39m(\u001b[32m-1\u001b[39m, \u001b[32m1\u001b[39m, \u001b[32m2\u001b[39m, \u001b[32m12\u001b[39m)"
      ]
     },
     "execution_count": 14,
     "metadata": {},
     "output_type": "execute_result"
    }
   ],
   "source": [
    "class Bag[U] protected (val toList: List[U])(implicit ord: Ord[U]) {\n",
    "    def this()(implicit ord: Ord[U]) = this(Nil)\n",
    "    def add(x: U) : Bag[U] = {\n",
    "        def go(elmts: List[U]): List[U] =\n",
    "            elmts match {\n",
    "            case Nil => x :: Nil\n",
    "            case e :: _ if (implicitly[Ord[U]].<(x, e)) => x :: elmts\n",
    "            case e :: _ if (implicitly[Ord[U]].===(x, e)) => elmts\n",
    "            case e :: rest => e :: go(rest)\n",
    "        }\n",
    "        new Bag(go(toList))\n",
    "    }\n",
    "}\n",
    "new Bag[Int].add(1).add(2).add(12).add(-1).toList"
   ]
  },
  {
   "cell_type": "markdown",
   "metadata": {},
   "source": [
    "#### Syntactic Sugar"
   ]
  },
  {
   "cell_type": "code",
   "execution_count": 19,
   "metadata": {},
   "outputs": [
    {
     "data": {
      "text/plain": [
       "defined \u001b[32mclass\u001b[39m \u001b[36mBag\u001b[39m\n",
       "\u001b[36mres18_1\u001b[39m: \u001b[32mList\u001b[39m[\u001b[32mInt\u001b[39m] = \u001b[33mList\u001b[39m(\u001b[32m-1\u001b[39m, \u001b[32m1\u001b[39m, \u001b[32m2\u001b[39m, \u001b[32m12\u001b[39m)"
      ]
     },
     "execution_count": 19,
     "metadata": {},
     "output_type": "execute_result"
    }
   ],
   "source": [
    "class Bag[U: Ord] protected (val toList: List[U]) {\n",
    "    def this() = this(Nil)\n",
    "    def add(x: U) : Bag[U] = {\n",
    "        def go(elmts: List[U]): List[U] =\n",
    "            elmts match {\n",
    "            case Nil => x :: Nil\n",
    "            case e :: _ if (implicitly[Ord[U]].<(x, e)) => x :: elmts\n",
    "            case e :: _ if (implicitly[Ord[U]].===(x, e)) => elmts\n",
    "            case e :: rest => e :: go(rest)\n",
    "        }\n",
    "        new Bag(go(toList))\n",
    "    }\n",
    "}\n",
    "new Bag[Int].add(1).add(2).add(12).add(-1).toList"
   ]
  }
 ],
 "metadata": {
  "kernelspec": {
   "display_name": "Scala",
   "language": "scala",
   "name": "scala"
  },
  "language_info": {
   "codemirror_mode": "text/x-scala",
   "file_extension": ".sc",
   "mimetype": "text/x-scala",
   "name": "scala",
   "nbconvert_exporter": "script",
   "version": "2.13.3"
  }
 },
 "nbformat": 4,
 "nbformat_minor": 4
}
