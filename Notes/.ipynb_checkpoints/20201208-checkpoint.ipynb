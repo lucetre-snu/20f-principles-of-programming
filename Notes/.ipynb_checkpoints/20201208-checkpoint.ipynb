{
 "cells": [
  {
   "cell_type": "code",
   "execution_count": 2,
   "metadata": {},
   "outputs": [
    {
     "data": {
      "text/plain": [
       "\u001b[32mimport \u001b[39m\u001b[36mscala.language.higherKinds\n",
       "\u001b[39m\n",
       "\u001b[32mimport \u001b[39m\u001b[36mscala.language.implicitConversions\n",
       "\n",
       "\u001b[39m\n",
       "defined \u001b[32mtrait\u001b[39m \u001b[36mBox2\u001b[39m\n",
       "defined \u001b[32mobject\u001b[39m \u001b[36mBox2\u001b[39m"
      ]
     },
     "execution_count": 2,
     "metadata": {},
     "output_type": "execute_result"
    }
   ],
   "source": [
    "import scala.language.higherKinds\n",
    "import scala.language.implicitConversions\n",
    "\n",
    "trait Box2[S[_,_],A] {\n",
    "    type Data\n",
    "    val d: Data\n",
    "    val i: S[Data,A]\n",
    "}\n",
    "object Box2 {\n",
    "    implicit def apply[S[_,_],D,A](dd: D)(implicit ii: S[D,A]): Box2[S,A] = {\n",
    "        new Box2[S,A] {\n",
    "            type Data = D\n",
    "            val d = dd\n",
    "            val i = ii\n",
    "        }\n",
    "    }\n",
    "}"
   ]
  },
  {
   "cell_type": "code",
   "execution_count": 3,
   "metadata": {},
   "outputs": [
    {
     "data": {
      "text/plain": [
       "defined \u001b[32mtrait\u001b[39m \u001b[36mIter\u001b[39m\n",
       "defined \u001b[32mfunction\u001b[39m \u001b[36msumElements\u001b[39m\n",
       "defined \u001b[32mfunction\u001b[39m \u001b[36msumElementsList\u001b[39m"
      ]
     },
     "execution_count": 3,
     "metadata": {},
     "output_type": "execute_result"
    }
   ],
   "source": [
    "trait Iter[I,A] {\n",
    "    def getValue(i: I): Option[A]\n",
    "    def getNext(i: I): I\n",
    "}\n",
    "def sumElements[I](xs: I)(implicit IT: Iter[I,Int]): Int = {\n",
    "    IT.getValue(xs) match {\n",
    "        case None => 0\n",
    "        case Some(n) => n + sumElements(IT.getNext(xs))\n",
    "    }\n",
    "}\n",
    "def sumElementsList(xs: List[Box2[Iter,Int]]): Int = {\n",
    "    xs match {\n",
    "        case Nil => 0\n",
    "        case hd::tl => sumElements(hd.d)(hd.i) + sumElementsList(tl)\n",
    "    }\n",
    "}"
   ]
  },
  {
   "cell_type": "code",
   "execution_count": 11,
   "metadata": {},
   "outputs": [
    {
     "data": {
      "text/plain": [
       "defined \u001b[32mfunction\u001b[39m \u001b[36mlistIter\u001b[39m\n",
       "defined \u001b[32mfunction\u001b[39m \u001b[36mdecIter\u001b[39m\n",
       "\u001b[36mres10_2\u001b[39m: \u001b[32mInt\u001b[39m = \u001b[32m5111\u001b[39m"
      ]
     },
     "execution_count": 11,
     "metadata": {},
     "output_type": "execute_result"
    }
   ],
   "source": [
    "implicit def listIter[A] : Iter[List[A],A] = {\n",
    "    new Iter[List[A],A] {\n",
    "        def getValue(a: List[A]) = a.headOption\n",
    "        def getNext(a: List[A]) = a.tail\n",
    "    }\n",
    "}\n",
    "\n",
    "implicit def decIter: Iter[Int,Int] = {\n",
    "    new Iter[Int,Int]{\n",
    "        def getValue(i: Int) = if (i >= 0) Some(i) else None\n",
    "        def getNext(i: Int) = i-1\n",
    "    }\n",
    "}\n",
    "sumElementsList(List(\n",
    "    100,                      // Box2(100)(decIter)\n",
    "    List(1,2,3),              // Box2(List(1,2,3))(listIter[Int])\n",
    "    10                        // Box2(10)(decIter)\n",
    "))"
   ]
  },
  {
   "cell_type": "code",
   "execution_count": null,
   "metadata": {},
   "outputs": [],
   "source": [
    "trait Iterable[R,A] {\n",
    "    def iter(a: R): Box2[Iter,A]\n",
    "}\n",
    "def sumElements2[R](xs: R)(implicit ITR: Iterable[R,Int]) = {\n",
    "    val cs = ITR.iter(xs)\n",
    "    sumElements(cs.d)(cs.i)\n",
    "}\n",
    "def printElements2[R,A](xs: R)(implicit ITR: Iterable[R,A]) = {\n",
    "    val cs = ITR.iter(xs)\n",
    "    printElements(cs.d)(cs.i)\n",
    "}"
   ]
  },
  {
   "cell_type": "markdown",
   "metadata": {},
   "source": [
    "### Stacking"
   ]
  },
  {
   "cell_type": "code",
   "execution_count": 26,
   "metadata": {},
   "outputs": [
    {
     "data": {
      "text/plain": [
       "defined \u001b[32mtrait\u001b[39m \u001b[36mStack\u001b[39m\n",
       "defined \u001b[32mfunction\u001b[39m \u001b[36mtestStack\u001b[39m\n",
       "defined \u001b[32mfunction\u001b[39m \u001b[36mstackListInt\u001b[39m\n",
       "\u001b[36mres25_3\u001b[39m: (\u001b[32mInt\u001b[39m, \u001b[32mInt\u001b[39m) = (\u001b[32m4\u001b[39m, \u001b[32m-2\u001b[39m)"
      ]
     },
     "execution_count": 26,
     "metadata": {},
     "output_type": "execute_result"
    }
   ],
   "source": [
    "trait Stack[S,A] {\n",
    "    def empty: S\n",
    "    def get(s: S): (A,S)\n",
    "    def put(s: S)(x: A): S\n",
    "}\n",
    "\n",
    "def testStack[S](implicit stk: Stack[S,Int]) = {\n",
    "    val s0 = stk.empty\n",
    "    val s1 = stk.put(s0)(3)\n",
    "    val s2 = stk.put(s1)(-2)\n",
    "    val s3 = stk.put(s2)(4)\n",
    "    val (v1,s4) = stk.get(s3)\n",
    "    val (v2,s5) = stk.get(s4)\n",
    "    (v1,v2)\n",
    "}\n",
    "\n",
    "implicit def stackListInt: Stack[List[Int],Int] = {\n",
    "    new Stack[List[Int],Int] {\n",
    "        def empty = List()\n",
    "        def get(s: List[Int]) = (s.head, s.tail)\n",
    "        def put(s: List[Int])(x: Int) = x::s\n",
    "    }\n",
    "}\n",
    "\n",
    "testStack[List[Int]]"
   ]
  },
  {
   "cell_type": "code",
   "execution_count": 27,
   "metadata": {},
   "outputs": [
    {
     "data": {
      "text/plain": [
       "defined \u001b[32mfunction\u001b[39m \u001b[36mIntStackWithPut\u001b[39m\n",
       "defined \u001b[32mfunction\u001b[39m \u001b[36mDoubling\u001b[39m\n",
       "defined \u001b[32mfunction\u001b[39m \u001b[36mIncrementing\u001b[39m\n",
       "defined \u001b[32mfunction\u001b[39m \u001b[36mFiltering\u001b[39m"
      ]
     },
     "execution_count": 27,
     "metadata": {},
     "output_type": "execute_result"
    }
   ],
   "source": [
    "def IntStackWithPut[S](parent: Stack[S,Int], newPut: (S,Int) => S) : Stack[S,Int] = {\n",
    "    new Stack[S,Int] {\n",
    "        def empty = parent.empty\n",
    "        def get(s: S) = parent.get(s)\n",
    "        def put(s: S)(x: Int) = newPut(s,x)\n",
    "    }\n",
    "}\n",
    "def Doubling[S](parent: Stack[S,Int]) : Stack[S,Int] =\n",
    "    IntStackWithPut(parent, (s,x) => parent.put(s)(2 * x))\n",
    "def Incrementing[S](parent: Stack[S,Int]) : Stack[S,Int] =\n",
    "    IntStackWithPut(parent, (s,x) => parent.put(s)(x + 1))\n",
    "def Filtering[S](parent: Stack[S,Int]) : Stack[S,Int] =\n",
    "    IntStackWithPut(parent, (s,x) => if (x >= 0) parent.put(s)(x) else s)"
   ]
  },
  {
   "cell_type": "code",
   "execution_count": 28,
   "metadata": {},
   "outputs": [
    {
     "data": {
      "text/plain": [
       "\u001b[36mres27_0\u001b[39m: (\u001b[32mInt\u001b[39m, \u001b[32mInt\u001b[39m) = (\u001b[32m8\u001b[39m, \u001b[32m-4\u001b[39m)\n",
       "\u001b[36mres27_1\u001b[39m: (\u001b[32mInt\u001b[39m, \u001b[32mInt\u001b[39m) = (\u001b[32m10\u001b[39m, \u001b[32m-2\u001b[39m)\n",
       "\u001b[36mres27_2\u001b[39m: (\u001b[32mInt\u001b[39m, \u001b[32mInt\u001b[39m) = (\u001b[32m10\u001b[39m, \u001b[32m8\u001b[39m)"
      ]
     },
     "execution_count": 28,
     "metadata": {},
     "output_type": "execute_result"
    }
   ],
   "source": [
    "testStack(Doubling(stackListInt))\n",
    "testStack(Incrementing(Doubling(stackListInt)))\n",
    "testStack(Filtering(Incrementing(Doubling(stackListInt))))"
   ]
  },
  {
   "cell_type": "code",
   "execution_count": 29,
   "metadata": {},
   "outputs": [
    {
     "data": {
      "text/plain": [
       "defined \u001b[32mfunction\u001b[39m \u001b[36mSortedStackListInt\u001b[39m\n",
       "\u001b[36mres28_1\u001b[39m: (\u001b[32mInt\u001b[39m, \u001b[32mInt\u001b[39m) = (\u001b[32m8\u001b[39m, \u001b[32m10\u001b[39m)"
      ]
     },
     "execution_count": 29,
     "metadata": {},
     "output_type": "execute_result"
    }
   ],
   "source": [
    "def SortedStackListInt : Stack[List[Int],Int] = {\n",
    "    new Stack[List[Int],Int] {\n",
    "        def empty = List()\n",
    "        def get(s: List[Int]) : (Int,List[Int]) = (s.head, s.tail)\n",
    "        def put(s: List[Int])(x: Int) : List[Int] = {\n",
    "            def go(l: List[Int]) : List[Int] = l match {\n",
    "                    case Nil => x :: Nil\n",
    "                    case hd :: tl => if (x <= hd) x :: l else hd :: go(tl)\n",
    "            }\n",
    "            go(s)\n",
    "        }\n",
    "    }\n",
    "}\n",
    "testStack(Filtering(Incrementing(Doubling(SortedStackListInt))))"
   ]
  },
  {
   "cell_type": "code",
   "execution_count": 33,
   "metadata": {},
   "outputs": [
    {
     "data": {
      "text/plain": [
       "defined \u001b[32mtrait\u001b[39m \u001b[36mStack\u001b[39m\n",
       "defined \u001b[32mfunction\u001b[39m \u001b[36mtestStack\u001b[39m\n",
       "defined \u001b[32mfunction\u001b[39m \u001b[36mstackListInt\u001b[39m\n",
       "\u001b[36mres32_3\u001b[39m: (\u001b[32mInt\u001b[39m, \u001b[32mInt\u001b[39m) = (\u001b[32m4\u001b[39m, \u001b[32m-2\u001b[39m)"
      ]
     },
     "execution_count": 33,
     "metadata": {},
     "output_type": "execute_result"
    }
   ],
   "source": [
    "trait Stack[S[_]] {\n",
    "    def empty[A]: S[A]\n",
    "    def get[A](s: S[A]): (A,S[A])\n",
    "    def put[A](s: S[A])(x: A): S[A]\n",
    "}\n",
    "\n",
    "def testStack[S[+_]](implicit stk: Stack[S]) = {\n",
    "    val s0 = stk.empty\n",
    "    val s1 = stk.put(s0)(3)\n",
    "    val s2 = stk.put(s1)(-2)\n",
    "    val s3 = stk.put(s2)(4)\n",
    "    val (v1,s4) = stk.get(s3)\n",
    "    val (v2,s5) = stk.get(s4)\n",
    "    (v1,v2)\n",
    "}\n",
    "\n",
    "implicit def stackListInt: Stack[List] = {\n",
    "    new Stack[List] {\n",
    "        def empty[A] = List()\n",
    "        def get[A](s: List[A]) = (s.head, s.tail)\n",
    "        def put[A](s: List[A])(x: A) = x::s\n",
    "    }\n",
    "}\n",
    "\n",
    "testStack[List]"
   ]
  },
  {
   "cell_type": "code",
   "execution_count": null,
   "metadata": {},
   "outputs": [],
   "source": []
  }
 ],
 "metadata": {
  "kernelspec": {
   "display_name": "Scala",
   "language": "scala",
   "name": "scala"
  },
  "language_info": {
   "codemirror_mode": "text/x-scala",
   "file_extension": ".sc",
   "mimetype": "text/x-scala",
   "name": "scala",
   "nbconvert_exporter": "script",
   "version": "2.13.3"
  }
 },
 "nbformat": 4,
 "nbformat_minor": 4
}
