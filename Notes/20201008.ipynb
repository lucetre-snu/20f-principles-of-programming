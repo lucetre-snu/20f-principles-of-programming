{
 "cells": [
  {
   "cell_type": "markdown",
   "metadata": {},
   "source": [
    "### Parametric Polymorphism Datatypes"
   ]
  },
  {
   "cell_type": "code",
   "execution_count": 8,
   "metadata": {},
   "outputs": [
    {
     "data": {
      "text/plain": [
       "defined \u001b[32mclass\u001b[39m \u001b[36mIOption\u001b[39m\n",
       "defined \u001b[32mclass\u001b[39m \u001b[36mINone\u001b[39m\n",
       "defined \u001b[32mclass\u001b[39m \u001b[36mISome\u001b[39m\n",
       "defined \u001b[32mclass\u001b[39m \u001b[36mIList\u001b[39m\n",
       "defined \u001b[32mclass\u001b[39m \u001b[36mINil\u001b[39m\n",
       "defined \u001b[32mclass\u001b[39m \u001b[36mICons\u001b[39m\n",
       "defined \u001b[32mclass\u001b[39m \u001b[36mBTree\u001b[39m\n",
       "defined \u001b[32mclass\u001b[39m \u001b[36mLeaf\u001b[39m\n",
       "defined \u001b[32mclass\u001b[39m \u001b[36mNode\u001b[39m"
      ]
     },
     "execution_count": 8,
     "metadata": {},
     "output_type": "execute_result"
    }
   ],
   "source": [
    "sealed abstract class IOption\n",
    "case class INone() extends IOption\n",
    "case class ISome(some: Int) extends IOption\n",
    "\n",
    "sealed abstract class IList\n",
    "case class INil() extends IList\n",
    "case class ICons(hd: Int, tl: IList) extends IList\n",
    "\n",
    "sealed abstract class BTree\n",
    "case class Leaf() extends BTree\n",
    "case class Node(value: Int, left: BTree, right: BTree) extends BTree"
   ]
  },
  {
   "cell_type": "code",
   "execution_count": 10,
   "metadata": {},
   "outputs": [
    {
     "data": {
      "text/plain": [
       "\u001b[36mres9\u001b[39m: \u001b[32mICons\u001b[39m = \u001b[33mICons\u001b[39m(\u001b[32m3\u001b[39m, \u001b[33mICons\u001b[39m(\u001b[32m5\u001b[39m, \u001b[33mICons\u001b[39m(\u001b[32m1000\u001b[39m, INil())))"
      ]
     },
     "execution_count": 10,
     "metadata": {},
     "output_type": "execute_result"
    }
   ],
   "source": [
    "ICons(3, ICons(5, ICons(1000, INil())))"
   ]
  },
  {
   "cell_type": "code",
   "execution_count": 13,
   "metadata": {},
   "outputs": [
    {
     "data": {
      "text/plain": [
       "defined \u001b[32mclass\u001b[39m \u001b[36mMyOption\u001b[39m\n",
       "defined \u001b[32mclass\u001b[39m \u001b[36mMyNone\u001b[39m\n",
       "defined \u001b[32mclass\u001b[39m \u001b[36mMySome\u001b[39m\n",
       "defined \u001b[32mclass\u001b[39m \u001b[36mMyList\u001b[39m\n",
       "defined \u001b[32mclass\u001b[39m \u001b[36mMyNil\u001b[39m\n",
       "defined \u001b[32mclass\u001b[39m \u001b[36mMyCons\u001b[39m\n",
       "defined \u001b[32mclass\u001b[39m \u001b[36mBTree\u001b[39m\n",
       "defined \u001b[32mclass\u001b[39m \u001b[36mLeaf\u001b[39m\n",
       "defined \u001b[32mclass\u001b[39m \u001b[36mNode\u001b[39m"
      ]
     },
     "execution_count": 13,
     "metadata": {},
     "output_type": "execute_result"
    }
   ],
   "source": [
    "sealed abstract class MyOption[A]\n",
    "case class MyNone[A]() extends MyOption[A]\n",
    "case class MySome[A](some: A) extends MyOption[A]\n",
    "\n",
    "sealed abstract class MyList[A]\n",
    "case class MyNil[A]() extends MyList[A]\n",
    "case class MyCons[A](hd: A, tl: MyList[A]) extends MyList[A]\n",
    "\n",
    "sealed abstract class BTree[A]\n",
    "case class Leaf[A]() extends BTree[A]\n",
    "case class Node[A](value: A, left: BTree[A], right: BTree[A]) extends BTree[A]"
   ]
  },
  {
   "cell_type": "code",
   "execution_count": 2,
   "metadata": {},
   "outputs": [
    {
     "data": {
      "text/plain": [
       "defined \u001b[32mfunction\u001b[39m \u001b[36mx\u001b[39m\n",
       "defined \u001b[32mfunction\u001b[39m \u001b[36my\u001b[39m"
      ]
     },
     "execution_count": 2,
     "metadata": {},
     "output_type": "execute_result"
    }
   ],
   "source": [
    "def x: MyList[Int] = MyCons(3, MyNil())\n",
    "def y: MyList[String] = MyCons(\"abc\", MyNil())"
   ]
  },
  {
   "cell_type": "code",
   "execution_count": 12,
   "metadata": {},
   "outputs": [
    {
     "data": {
      "text/plain": [
       "\u001b[36mres11_0\u001b[39m: \u001b[32mMyList\u001b[39m[\u001b[32mInt\u001b[39m] = \u001b[33mMyCons\u001b[39m(\u001b[32m3\u001b[39m, MyNil())\n",
       "\u001b[36mres11_1\u001b[39m: \u001b[32mMyList\u001b[39m[\u001b[32mString\u001b[39m] = \u001b[33mMyCons\u001b[39m(\u001b[32m\"abc\"\u001b[39m, MyNil())"
      ]
     },
     "execution_count": 12,
     "metadata": {},
     "output_type": "execute_result"
    }
   ],
   "source": [
    "x\n",
    "y"
   ]
  },
  {
   "cell_type": "code",
   "execution_count": 18,
   "metadata": {},
   "outputs": [
    {
     "data": {
      "text/plain": [
       "defined \u001b[32mfunction\u001b[39m \u001b[36mfind\u001b[39m\n",
       "defined \u001b[32mfunction\u001b[39m \u001b[36mgenTree\u001b[39m\n",
       "\u001b[36mres17_2\u001b[39m: \u001b[32mBTree\u001b[39m[\u001b[32mInt\u001b[39m] = \u001b[33mNode\u001b[39m(\u001b[32m-1\u001b[39m, Leaf(), Leaf())\n",
       "\u001b[36mres17_3\u001b[39m: \u001b[32mBTree\u001b[39m[\u001b[32mInt\u001b[39m] = \u001b[33mNode\u001b[39m(\u001b[32m-1\u001b[39m, \u001b[33mNode\u001b[39m(\u001b[32m-1\u001b[39m, Leaf(), Leaf()), Leaf())\n",
       "\u001b[36mres17_4\u001b[39m: \u001b[32mBoolean\u001b[39m = false"
      ]
     },
     "execution_count": 18,
     "metadata": {},
     "output_type": "execute_result"
    }
   ],
   "source": [
    "def find[A](t: BTree[A], x: Int) : Boolean = {\n",
    "    def findIter(ts: MyList[BTree[A]]) : Boolean =\n",
    "        ts match {\n",
    "            case MyNil() => false\n",
    "            case MyCons(Leaf(), tl) => findIter(tl)\n",
    "            case MyCons(Node(v, _, _), _) if v == x => true\n",
    "            case MyCons(Node(_,l,r), tl) => findIter(MyCons(l, MyCons(r, tl)))\n",
    "        }\n",
    "    findIter(MyCons(t, MyNil()))\n",
    "}\n",
    "\n",
    "def genTree(v: Int, n: Int) : BTree[Int] = {\n",
    "    def genTreeIter(t: BTree[Int], m : Int) : BTree[Int] =\n",
    "        if (m == 0) t\n",
    "        else genTreeIter(Node(v, t, Leaf()), m-1)\n",
    "    genTreeIter(Leaf(), n)\n",
    "}\n",
    "\n",
    "genTree(-1, 1)\n",
    "genTree(-1, 2)\n",
    "find(genTree(0,10000), 1)"
   ]
  },
  {
   "cell_type": "markdown",
   "metadata": {},
   "source": [
    "#### Example: Binary Search Tree"
   ]
  },
  {
   "cell_type": "code",
   "execution_count": 21,
   "metadata": {},
   "outputs": [
    {
     "data": {
      "text/plain": [
       "defined \u001b[32mclass\u001b[39m \u001b[36mBSTree\u001b[39m\n",
       "defined \u001b[32mclass\u001b[39m \u001b[36mLeaf\u001b[39m\n",
       "defined \u001b[32mclass\u001b[39m \u001b[36mNode\u001b[39m\n",
       "defined \u001b[32mfunction\u001b[39m \u001b[36mlookup\u001b[39m"
      ]
     },
     "execution_count": 21,
     "metadata": {},
     "output_type": "execute_result"
    }
   ],
   "source": [
    "sealed abstract class BSTree[A]\n",
    "case class Leaf[A]() extends BSTree[A]\n",
    "case class Node[A](key: Int, value: A, left: BSTree[A], right: BSTree[A]) extends BSTree[A]\n",
    "\n",
    "def lookup[A](t: BSTree[A], k: Int): MyOption[A] = {\n",
    "    t match {\n",
    "        case Leaf() => MyNone()\n",
    "        case Node(key, v, lt, rt) => {\n",
    "            if (k == key) MySome(v)\n",
    "            else if (k < key) lookup(lt, k)\n",
    "            else lookup(rt, k)\n",
    "        }\n",
    "    }\n",
    "}"
   ]
  },
  {
   "cell_type": "code",
   "execution_count": 23,
   "metadata": {},
   "outputs": [
    {
     "data": {
      "text/plain": [
       "defined \u001b[32mfunction\u001b[39m \u001b[36mt\u001b[39m\n",
       "\u001b[36mres22_1\u001b[39m: \u001b[32mMyOption\u001b[39m[\u001b[32mString\u001b[39m] = \u001b[33mMySome\u001b[39m(\u001b[32m\"My7\"\u001b[39m)\n",
       "\u001b[36mres22_2\u001b[39m: \u001b[32mMyOption\u001b[39m[\u001b[32mString\u001b[39m] = MyNone()"
      ]
     },
     "execution_count": 23,
     "metadata": {},
     "output_type": "execute_result"
    }
   ],
   "source": [
    "def t : BSTree[String] =\n",
    "Node(5, \"My5\",\n",
    "     Node(4, \"My4\",\n",
    "          Node(2, \"My2\", Leaf(), Leaf()), \n",
    "          Leaf()),\n",
    "     Node(7, \"My7\",\n",
    "          Node(6, \"My6\", Leaf(), Leaf()), \n",
    "          Leaf()))\n",
    "lookup(t, 7)\n",
    "lookup(t, 3)"
   ]
  },
  {
   "cell_type": "markdown",
   "metadata": {},
   "source": [
    "#### How to recycle `BTree`?\n",
    "* BST is BT whose values have their own keys."
   ]
  },
  {
   "cell_type": "code",
   "execution_count": 25,
   "metadata": {},
   "outputs": [
    {
     "data": {
      "text/plain": [
       "defined \u001b[32mclass\u001b[39m \u001b[36mBTree\u001b[39m\n",
       "defined \u001b[32mclass\u001b[39m \u001b[36mLeaf\u001b[39m\n",
       "defined \u001b[32mclass\u001b[39m \u001b[36mNode\u001b[39m\n",
       "defined \u001b[32mtype\u001b[39m \u001b[36mBSTree\u001b[39m\n",
       "defined \u001b[32mfunction\u001b[39m \u001b[36mlookup\u001b[39m\n",
       "defined \u001b[32mfunction\u001b[39m \u001b[36mt\u001b[39m\n",
       "\u001b[36mres24_6\u001b[39m: \u001b[32mMyOption\u001b[39m[\u001b[32mString\u001b[39m] = \u001b[33mMySome\u001b[39m(\u001b[32m\"My7\"\u001b[39m)\n",
       "\u001b[36mres24_7\u001b[39m: \u001b[32mMyOption\u001b[39m[\u001b[32mString\u001b[39m] = MyNone()"
      ]
     },
     "execution_count": 25,
     "metadata": {},
     "output_type": "execute_result"
    }
   ],
   "source": [
    "sealed abstract class BTree[A]\n",
    "case class Leaf[A]() extends BTree[A]\n",
    "case class Node[A](value: A, left: BTree[A], right: BTree[A]) extends BTree[A]\n",
    "\n",
    "// alias for BTree[(Int, A)]\n",
    "type BSTree[A] = BTree[(Int, A)]\n",
    "\n",
    "def lookup[A](t: BSTree[A], k: Int): MyOption[A] = {\n",
    "    t match {\n",
    "        case Leaf() => MyNone()\n",
    "        case Node((key, v), lt, rt) => {\n",
    "            if (k == key) MySome(v)\n",
    "            else if (k < key) lookup(lt, k)\n",
    "            else lookup(rt, k)\n",
    "        }\n",
    "    }\n",
    "}\n",
    "\n",
    "def t : BTree[(Int, String)] =\n",
    "Node((5, \"My5\"),\n",
    "     Node((4, \"My4\"),\n",
    "          Node((2, \"My2\"), Leaf(), Leaf()), \n",
    "          Leaf()),\n",
    "     Node((7, \"My7\"),\n",
    "          Node((6, \"My6\"), Leaf(), Leaf()), \n",
    "          Leaf()))\n",
    "lookup(t, 7)\n",
    "lookup(t, 3)"
   ]
  },
  {
   "cell_type": "markdown",
   "metadata": {},
   "source": [
    "## Object-Oriented Programming\n",
    "* type vs oop"
   ]
  },
  {
   "cell_type": "code",
   "execution_count": 28,
   "metadata": {},
   "outputs": [
    {
     "data": {
      "text/plain": [
       "defined \u001b[32mobject\u001b[39m \u001b[36mtom\u001b[39m\n",
       "\u001b[36mbob\u001b[39m: {val name: String;val mobile: String} = ammonite.$sess.cmd27$Helper$$anon$1@7944ef34"
      ]
     },
     "execution_count": 28,
     "metadata": {},
     "output_type": "execute_result"
    }
   ],
   "source": [
    "object tom {\n",
    "    val name = \"Tom\"\n",
    "    val home = \"02-880-1234\"\n",
    "}\n",
    "val bob = new {\n",
    "    val name = \"Bob\"\n",
    "    val mobile = \"010-1111-2222\"\n",
    "}"
   ]
  },
  {
   "cell_type": "markdown",
   "metadata": {},
   "source": [
    "* tom: `{val name: String; val home: String}`\n",
    "* bob: `{val name: String; val mobile: String}`"
   ]
  },
  {
   "cell_type": "code",
   "execution_count": 29,
   "metadata": {},
   "outputs": [
    {
     "name": "stderr",
     "output_type": "stream",
     "text": [
      "cmd29.sc:4: type mismatch;\n",
      " found   : AnyRef{val name: String; val mobile: String}\n",
      " required: AnyRef{val name: String; val home: String}\n",
      "val res29_2 = greeting(bob)\n",
      "                       ^Compilation Failed"
     ]
    },
    {
     "ename": "",
     "evalue": "",
     "output_type": "error",
     "traceback": [
      "Compilation Failed"
     ]
    }
   ],
   "source": [
    "def greeting(r: {val name: String; val home: String}) = \n",
    "    \"Hi \" + r.name + \", How are you?\"\n",
    "greeting(tom)\n",
    "greeting(bob)"
   ]
  },
  {
   "cell_type": "code",
   "execution_count": 31,
   "metadata": {},
   "outputs": [
    {
     "data": {
      "text/plain": [
       "defined \u001b[32mfunction\u001b[39m \u001b[36mgreeting\u001b[39m\n",
       "\u001b[36mres30_1\u001b[39m: \u001b[32mString\u001b[39m = \u001b[32m\"Hi Tom, How are you?\"\u001b[39m\n",
       "\u001b[36mres30_2\u001b[39m: \u001b[32mString\u001b[39m = \u001b[32m\"Hi Bob, How are you?\"\u001b[39m"
      ]
     },
     "execution_count": 31,
     "metadata": {},
     "output_type": "execute_result"
    }
   ],
   "source": [
    "def greeting(r: {val name: String}) = \n",
    "    \"Hi \" + r.name + \", How are you?\"\n",
    "greeting(tom)\n",
    "greeting(bob)"
   ]
  },
  {
   "cell_type": "markdown",
   "metadata": {},
   "source": [
    "#### Sub Type\n",
    "* `type Name = { val name: String }`\n",
    "* at least having `name` field"
   ]
  },
  {
   "cell_type": "markdown",
   "metadata": {},
   "source": [
    "##### NameHome <: Name\n",
    "##### NameMobile <: Name"
   ]
  },
  {
   "cell_type": "code",
   "execution_count": 32,
   "metadata": {},
   "outputs": [
    {
     "data": {
      "text/plain": [
       "defined \u001b[32mtype\u001b[39m \u001b[36mNameHome\u001b[39m\n",
       "defined \u001b[32mtype\u001b[39m \u001b[36mNameMobile\u001b[39m\n",
       "defined \u001b[32mtype\u001b[39m \u001b[36mName\u001b[39m"
      ]
     },
     "execution_count": 32,
     "metadata": {},
     "output_type": "execute_result"
    }
   ],
   "source": [
    "type NameHome = { val name: String; val home: String }\n",
    "type NameMobile = { val name: String; val mobile: String}\n",
    "type Name = { val name: String }"
   ]
  },
  {
   "cell_type": "markdown",
   "metadata": {},
   "source": [
    "##### (Name => String) <: (NameHome => String)\n",
    "##### (Name => String) <: (NameMobile => String)"
   ]
  },
  {
   "cell_type": "markdown",
   "metadata": {},
   "source": [
    "#### A <: B, C <: D\n",
    "--------------------------\n",
    "#### (B => C) <: (A => D)\n",
    "* A, B: contra-variant (방향이 변한다)\n",
    "* C, D: co-variant (방향이 변하지 않는다)"
   ]
  },
  {
   "cell_type": "markdown",
   "metadata": {},
   "source": [
    "### Structural Sub Types\n",
    "* only lookup structure\n",
    "* doesn't exist recursive sub type (finite)\n",
    "\n",
    "### Nominal Sub Types\n",
    "* explicit relation by class name (user)\n",
    "* readability"
   ]
  },
  {
   "cell_type": "markdown",
   "metadata": {},
   "source": [
    "----\n",
    "Nothing <: T <: Any"
   ]
  },
  {
   "cell_type": "code",
   "execution_count": 35,
   "metadata": {},
   "outputs": [
    {
     "data": {
      "text/plain": [
       "\u001b[36ma\u001b[39m: \u001b[32mInt\u001b[39m = \u001b[32m3\u001b[39m\n",
       "\u001b[36mb\u001b[39m: \u001b[32mAny\u001b[39m = \u001b[32m3\u001b[39m\n",
       "defined \u001b[32mfunction\u001b[39m \u001b[36mf\u001b[39m"
      ]
     },
     "execution_count": 35,
     "metadata": {},
     "output_type": "execute_result"
    }
   ],
   "source": [
    "val a : Int = 3\n",
    "val b : Any = a\n",
    "def f(x: Nothing) : Int = x"
   ]
  },
  {
   "cell_type": "code",
   "execution_count": 37,
   "metadata": {},
   "outputs": [
    {
     "data": {
      "text/plain": [
       "defined \u001b[32mfunction\u001b[39m \u001b[36mfoo\u001b[39m\n",
       "\u001b[36mgee\u001b[39m: {val a: Int;val b: Int;val c: Int} => {val x: Int} = ammonite.$sess.cmd36$Helper$$Lambda$2556/52007518@43f4104a"
      ]
     },
     "execution_count": 37,
     "metadata": {},
     "output_type": "execute_result"
    }
   ],
   "source": [
    "def foo(s: {val a: Int; val b: Int}) : {val x: Int; val y: Int} = {\n",
    "    object tmp {\n",
    "        val x = s.b\n",
    "        val y = s.a\n",
    "        val z = 1\n",
    "    }\n",
    "    tmp\n",
    "}\n",
    "val gee: {val a: Int; val b: Int; val c: Int} => {val x: Int} = \n",
    "    foo _"
   ]
  }
 ],
 "metadata": {
  "kernelspec": {
   "display_name": "Scala",
   "language": "scala",
   "name": "scala"
  },
  "language_info": {
   "codemirror_mode": "text/x-scala",
   "file_extension": ".sc",
   "mimetype": "text/x-scala",
   "name": "scala",
   "nbconvert_exporter": "script",
   "version": "2.13.3"
  }
 },
 "nbformat": 4,
 "nbformat_minor": 4
}
