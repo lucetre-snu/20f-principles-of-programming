{
 "cells": [
  {
   "cell_type": "code",
   "execution_count": 86,
   "metadata": {
    "scrolled": true
   },
   "outputs": [
    {
     "ename": "",
     "evalue": "",
     "output_type": "error",
     "traceback": [
      "Interrupted!\n  ammonite.$sess.cmd85$Helper.fibo(\u001b[32mcmd85.sc\u001b[39m:\u001b[32m5\u001b[39m)\n  ammonite.$sess.cmd85$Helper.fibo(\u001b[32mcmd85.sc\u001b[39m:\u001b[32m5\u001b[39m)\n  ammonite.$sess.cmd85$Helper.fibo(\u001b[32mcmd85.sc\u001b[39m:\u001b[32m5\u001b[39m)\n  ammonite.$sess.cmd85$Helper.fibo(\u001b[32mcmd85.sc\u001b[39m:\u001b[32m5\u001b[39m)\n  ammonite.$sess.cmd85$Helper.fibo(\u001b[32mcmd85.sc\u001b[39m:\u001b[32m5\u001b[39m)\n  ammonite.$sess.cmd85$Helper.fibo(\u001b[32mcmd85.sc\u001b[39m:\u001b[32m5\u001b[39m)\n  ammonite.$sess.cmd85$Helper.fibo(\u001b[32mcmd85.sc\u001b[39m:\u001b[32m5\u001b[39m)\n  ammonite.$sess.cmd85$Helper.fibo(\u001b[32mcmd85.sc\u001b[39m:\u001b[32m5\u001b[39m)\n  ammonite.$sess.cmd85$Helper.fibo(\u001b[32mcmd85.sc\u001b[39m:\u001b[32m5\u001b[39m)\n  ammonite.$sess.cmd85$Helper.fibo(\u001b[32mcmd85.sc\u001b[39m:\u001b[32m5\u001b[39m)\n  ammonite.$sess.cmd85$Helper.fibo(\u001b[32mcmd85.sc\u001b[39m:\u001b[32m5\u001b[39m)\n  ammonite.$sess.cmd85$Helper.fibo(\u001b[32mcmd85.sc\u001b[39m:\u001b[32m5\u001b[39m)\n  ammonite.$sess.cmd85$Helper.fibo(\u001b[32mcmd85.sc\u001b[39m:\u001b[32m5\u001b[39m)\n  ammonite.$sess.cmd85$Helper.fibo(\u001b[32mcmd85.sc\u001b[39m:\u001b[32m5\u001b[39m)\n  ammonite.$sess.cmd85$Helper.fibo(\u001b[32mcmd85.sc\u001b[39m:\u001b[32m5\u001b[39m)\n  ammonite.$sess.cmd85$Helper.fibo(\u001b[32mcmd85.sc\u001b[39m:\u001b[32m5\u001b[39m)\n  ammonite.$sess.cmd85$Helper.fibo(\u001b[32mcmd85.sc\u001b[39m:\u001b[32m5\u001b[39m)\n  ammonite.$sess.cmd85$Helper.fibo(\u001b[32mcmd85.sc\u001b[39m:\u001b[32m5\u001b[39m)\n  ammonite.$sess.cmd85$Helper.fibo(\u001b[32mcmd85.sc\u001b[39m:\u001b[32m5\u001b[39m)\n  ammonite.$sess.cmd85$Helper.fibo(\u001b[32mcmd85.sc\u001b[39m:\u001b[32m5\u001b[39m)\n  ammonite.$sess.cmd85$Helper.fibo(\u001b[32mcmd85.sc\u001b[39m:\u001b[32m5\u001b[39m)\n  ammonite.$sess.cmd85$Helper.fibo(\u001b[32mcmd85.sc\u001b[39m:\u001b[32m5\u001b[39m)\n  ammonite.$sess.cmd85$Helper.fibo(\u001b[32mcmd85.sc\u001b[39m:\u001b[32m5\u001b[39m)\n  ammonite.$sess.cmd85$Helper.fibo(\u001b[32mcmd85.sc\u001b[39m:\u001b[32m5\u001b[39m)\n  ammonite.$sess.cmd85$Helper.fibo(\u001b[32mcmd85.sc\u001b[39m:\u001b[32m5\u001b[39m)\n  ammonite.$sess.cmd85$Helper.fibo(\u001b[32mcmd85.sc\u001b[39m:\u001b[32m5\u001b[39m)\n  ammonite.$sess.cmd85$Helper.fibo(\u001b[32mcmd85.sc\u001b[39m:\u001b[32m5\u001b[39m)\n  ammonite.$sess.cmd85$Helper.fibo(\u001b[32mcmd85.sc\u001b[39m:\u001b[32m5\u001b[39m)\n  ammonite.$sess.cmd85$Helper.fibo(\u001b[32mcmd85.sc\u001b[39m:\u001b[32m5\u001b[39m)\n  ammonite.$sess.cmd85$Helper.fibo(\u001b[32mcmd85.sc\u001b[39m:\u001b[32m5\u001b[39m)\n  ammonite.$sess.cmd85$Helper.fibo(\u001b[32mcmd85.sc\u001b[39m:\u001b[32m5\u001b[39m)\n  ammonite.$sess.cmd85$Helper.fibo(\u001b[32mcmd85.sc\u001b[39m:\u001b[32m5\u001b[39m)\n  ammonite.$sess.cmd85$Helper.fibo(\u001b[32mcmd85.sc\u001b[39m:\u001b[32m5\u001b[39m)\n  ammonite.$sess.cmd85$Helper.fibo(\u001b[32mcmd85.sc\u001b[39m:\u001b[32m5\u001b[39m)\n  ammonite.$sess.cmd85$Helper.fibo(\u001b[32mcmd85.sc\u001b[39m:\u001b[32m5\u001b[39m)\n  ammonite.$sess.cmd85$Helper.fibo(\u001b[32mcmd85.sc\u001b[39m:\u001b[32m5\u001b[39m)\n  ammonite.$sess.cmd85$Helper.fibo(\u001b[32mcmd85.sc\u001b[39m:\u001b[32m5\u001b[39m)\n  ammonite.$sess.cmd85$Helper.<init>(\u001b[32mcmd85.sc\u001b[39m:\u001b[32m9\u001b[39m)\n  ammonite.$sess.cmd85$.<clinit>(\u001b[32mcmd85.sc\u001b[39m:\u001b[32m7\u001b[39m)"
     ]
    }
   ],
   "source": [
    "def fibo(n: Int): Int = {\n",
    "    n match {\n",
    "        case 0 => 0\n",
    "        case 1 => 1\n",
    "        case _ => fibo(n-1) + fibo(n-2)\n",
    "    }\n",
    "}\n",
    "\n",
    "fibo(50)"
   ]
  },
  {
   "cell_type": "code",
   "execution_count": 85,
   "metadata": {},
   "outputs": [
    {
     "data": {
      "text/plain": [
       "defined \u001b[32mfunction\u001b[39m \u001b[36mfibo\u001b[39m\n",
       "\u001b[36mres84_1\u001b[39m: \u001b[32mInt\u001b[39m = \u001b[32m-298632863\u001b[39m"
      ]
     },
     "execution_count": 85,
     "metadata": {},
     "output_type": "execute_result"
    }
   ],
   "source": [
    "def fibo(n: Int): Int = {\n",
    "    def fiboCall(i: Int, fibo0: Int, fibo1: Int): Int = {\n",
    "        if (i == n) fibo0 + fibo1\n",
    "        else fiboCall(i+1, fibo0+fibo1, fibo0)\n",
    "    }\n",
    "    fiboCall(1, 0, 1)\n",
    "}\n",
    "\n",
    "fibo(50)"
   ]
  },
  {
   "cell_type": "code",
   "execution_count": 91,
   "metadata": {},
   "outputs": [
    {
     "data": {
      "text/plain": [
       "defined \u001b[32mfunction\u001b[39m \u001b[36mfibo\u001b[39m\n",
       "\u001b[36mres90_1\u001b[39m: \u001b[32mInt\u001b[39m = \u001b[32m-298632863\u001b[39m"
      ]
     },
     "execution_count": 91,
     "metadata": {},
     "output_type": "execute_result"
    }
   ],
   "source": [
    "def fibo(n: Int): Int = {\n",
    "    def fiboCall(i: Int, fibo0: Int, fibo1: Int): Int = {\n",
    "        i match {\n",
    "            case 0 => fibo0\n",
    "            case _ => fiboCall(i-1, fibo0+fibo1, fibo0)\n",
    "        }\n",
    "    }\n",
    "    fiboCall(n, 0, 1)\n",
    "}\n",
    "\n",
    "fibo(50)"
   ]
  },
  {
   "cell_type": "code",
   "execution_count": 99,
   "metadata": {},
   "outputs": [
    {
     "ename": "",
     "evalue": "",
     "output_type": "error",
     "traceback": [
      "Interrupted!\n  ammonite.$sess.cmd98$Helper.fiboCont$1(\u001b[32mcmd98.sc\u001b[39m:\u001b[32m5\u001b[39m)\n  ammonite.$sess.cmd98$Helper.$anonfun$fibo$1(\u001b[32mcmd98.sc\u001b[39m:\u001b[32m5\u001b[39m)\n  ammonite.$sess.cmd98$Helper$$Lambda$3109/811840301.apply$mcII$sp(\u001b[32mUnknown Source\u001b[39m)\n  ammonite.$sess.cmd98$Helper.$anonfun$fibo$1(\u001b[32mcmd98.sc\u001b[39m:\u001b[32m5\u001b[39m)\n  ammonite.$sess.cmd98$Helper$$Lambda$3109/811840301.apply$mcII$sp(\u001b[32mUnknown Source\u001b[39m)\n  ammonite.$sess.cmd98$Helper.$anonfun$fibo$1(\u001b[32mcmd98.sc\u001b[39m:\u001b[32m5\u001b[39m)\n  ammonite.$sess.cmd98$Helper$$Lambda$3109/811840301.apply$mcII$sp(\u001b[32mUnknown Source\u001b[39m)\n  ammonite.$sess.cmd98$Helper.$anonfun$fibo$1(\u001b[32mcmd98.sc\u001b[39m:\u001b[32m5\u001b[39m)\n  ammonite.$sess.cmd98$Helper$$Lambda$3109/811840301.apply$mcII$sp(\u001b[32mUnknown Source\u001b[39m)\n  ammonite.$sess.cmd98$Helper.$anonfun$fibo$1(\u001b[32mcmd98.sc\u001b[39m:\u001b[32m5\u001b[39m)\n  ammonite.$sess.cmd98$Helper$$Lambda$3109/811840301.apply$mcII$sp(\u001b[32mUnknown Source\u001b[39m)\n  ammonite.$sess.cmd98$Helper.$anonfun$fibo$1(\u001b[32mcmd98.sc\u001b[39m:\u001b[32m5\u001b[39m)\n  ammonite.$sess.cmd98$Helper$$Lambda$3109/811840301.apply$mcII$sp(\u001b[32mUnknown Source\u001b[39m)\n  ammonite.$sess.cmd98$Helper.$anonfun$fibo$1(\u001b[32mcmd98.sc\u001b[39m:\u001b[32m5\u001b[39m)\n  ammonite.$sess.cmd98$Helper$$Lambda$3109/811840301.apply$mcII$sp(\u001b[32mUnknown Source\u001b[39m)\n  ammonite.$sess.cmd98$Helper.$anonfun$fibo$1(\u001b[32mcmd98.sc\u001b[39m:\u001b[32m5\u001b[39m)\n  ammonite.$sess.cmd98$Helper$$Lambda$3109/811840301.apply$mcII$sp(\u001b[32mUnknown Source\u001b[39m)\n  ammonite.$sess.cmd98$Helper.$anonfun$fibo$1(\u001b[32mcmd98.sc\u001b[39m:\u001b[32m5\u001b[39m)\n  ammonite.$sess.cmd98$Helper$$Lambda$3109/811840301.apply$mcII$sp(\u001b[32mUnknown Source\u001b[39m)\n  ammonite.$sess.cmd98$Helper.$anonfun$fibo$1(\u001b[32mcmd98.sc\u001b[39m:\u001b[32m5\u001b[39m)\n  ammonite.$sess.cmd98$Helper$$Lambda$3109/811840301.apply$mcII$sp(\u001b[32mUnknown Source\u001b[39m)\n  ammonite.$sess.cmd98$Helper.$anonfun$fibo$1(\u001b[32mcmd98.sc\u001b[39m:\u001b[32m5\u001b[39m)\n  ammonite.$sess.cmd98$Helper$$Lambda$3109/811840301.apply$mcII$sp(\u001b[32mUnknown Source\u001b[39m)\n  ammonite.$sess.cmd98$Helper.fibo(\u001b[32mcmd98.sc\u001b[39m:\u001b[32m8\u001b[39m)\n  ammonite.$sess.cmd98$Helper.<init>(\u001b[32mcmd98.sc\u001b[39m:\u001b[32m10\u001b[39m)\n  ammonite.$sess.cmd98$.<clinit>(\u001b[32mcmd98.sc\u001b[39m:\u001b[32m7\u001b[39m)"
     ]
    }
   ],
   "source": [
    "def fibo(n: Int): Int = {\n",
    "    def fiboCont(i: Int, cont: Int=>Int): Int=>Int = {\n",
    "        i match {\n",
    "            case 0 => cont\n",
    "            case _ => fiboCont(i-1, (x: Int) => fiboCont(x-2, cont)(x-1))\n",
    "        }\n",
    "    }\n",
    "    fiboCont(n, x => x)(n)\n",
    "}\n",
    "fibo(10)"
   ]
  },
  {
   "cell_type": "code",
   "execution_count": 51,
   "metadata": {},
   "outputs": [
    {
     "data": {
      "text/plain": [
       "\u001b[32mimport \u001b[39m\u001b[36mscala.util.control.TailCalls._\n",
       "\n",
       "/*\n",
       "   Exercise 3: Ping-pong Ackermann function\n",
       "\n",
       "   Given a function p and positive integer a and b, implement this function `ppa`: (0 <= n <= 10^6)\n",
       "   ppa(p, a, b) = p(a, b)               (if a <= 0 or b <= 0)\n",
       "   ppa(p, a, b) = p(a, ppa(p, a-1, b))  (if p(a, b) is even and a, b > 0)\n",
       "   ppa(p, a, b) = p(ppa(p, a, b-1), b)  (if p(a, b) is odd and a, b > 0)\n",
       "\n",
       "\n",
       "   Hint 1: If n > 0, wrap remained calculations, make it as an anonymous function and pass it to the parameter recursively.\n",
       "           That anonymous function is called 'Continuation'. You'd better search 'Continuation Passing Style'.\n",
       "\n",
       "   Hint 2: Due to the limits of Scala's platform (JVM), tail call (not tail recursion) is not optimized generally,\n",
       "           especially when using continuation passing style.\n",
       "           To optimize tail call properly, use `tailcall`, `done`, `result` functions from scala.util.control.TailCalls._\n",
       "           (See https://stackoverflow.com/questions/16539488/why-scala-doesnt-make-tail-call-optimization)\n",
       "   */\n",
       "\n",
       "\u001b[39m\n",
       "defined \u001b[32mfunction\u001b[39m \u001b[36mppa\u001b[39m\n",
       "\u001b[36mres50_2\u001b[39m: \u001b[32mInt\u001b[39m = \u001b[32m-726379968\u001b[39m\n",
       "\u001b[36mres50_3\u001b[39m: \u001b[32mInt\u001b[39m = \u001b[32m347099274\u001b[39m"
      ]
     },
     "execution_count": 51,
     "metadata": {},
     "output_type": "execute_result"
    }
   ],
   "source": [
    "import scala.util.control.TailCalls._\n",
    "\n",
    "/*\n",
    "   Exercise 3: Ping-pong Ackermann function\n",
    "\n",
    "   Given a function p and positive integer a and b, implement this function `ppa`: (0 <= n <= 10^6)\n",
    "   ppa(p, a, b) = p(a, b)               (if a <= 0 or b <= 0)\n",
    "   ppa(p, a, b) = p(a, ppa(p, a-1, b))  (if p(a, b) is even and a, b > 0)\n",
    "   ppa(p, a, b) = p(ppa(p, a, b-1), b)  (if p(a, b) is odd and a, b > 0)\n",
    "\n",
    "\n",
    "   Hint 1: If n > 0, wrap remained calculations, make it as an anonymous function and pass it to the parameter recursively.\n",
    "           That anonymous function is called 'Continuation'. You'd better search 'Continuation Passing Style'.\n",
    "\n",
    "   Hint 2: Due to the limits of Scala's platform (JVM), tail call (not tail recursion) is not optimized generally,\n",
    "           especially when using continuation passing style.\n",
    "           To optimize tail call properly, use `tailcall`, `done`, `result` functions from scala.util.control.TailCalls._\n",
    "           (See https://stackoverflow.com/questions/16539488/why-scala-doesnt-make-tail-call-optimization)\n",
    "   */\n",
    "\n",
    "def ppa(p: (Int, Int)=>Int, a: Int, b: Int): Int = {\n",
    "    def ppaCont(a: Int, b: Int, cont: (Int, Int) => TailRec[Int]): TailRec[Int] = {\n",
    "        if (a <= 0 || b <= 0) cont(a, b)\n",
    "        else if (p(a, b) % 2 == 0) ppaCont(a-1, b, (x: Int, y: Int) => tailcall(cont(a, p(x, y))))\n",
    "        else ppaCont(a, b-1, (x: Int, y: Int) => tailcall(cont(p(x, y), b)))\n",
    "    }\n",
    "    ppaCont(a, b, (x: Int, y: Int) => done(p(x, y))).result\n",
    "}\n",
    "ppa((a, b) => a + b, 1000000, 1000000) //== 20100\n",
    "ppa((a, b) => 3*a*a - b, 20, 10) //== 347099274"
   ]
  },
  {
   "cell_type": "code",
   "execution_count": 39,
   "metadata": {},
   "outputs": [
    {
     "data": {
      "text/plain": [
       "defined \u001b[32mclass\u001b[39m \u001b[36mBTree\u001b[39m\n",
       "defined \u001b[32mclass\u001b[39m \u001b[36mLeaf\u001b[39m\n",
       "defined \u001b[32mclass\u001b[39m \u001b[36mNode\u001b[39m\n",
       "\u001b[36mt\u001b[39m: \u001b[32mNode\u001b[39m = \u001b[33mNode\u001b[39m(\n",
       "  \u001b[32m3\u001b[39m,\n",
       "  \u001b[33mNode\u001b[39m(\u001b[32m1\u001b[39m, Leaf(), Leaf()),\n",
       "  \u001b[33mNode\u001b[39m(\u001b[32m2\u001b[39m, Leaf(), \u001b[33mNode\u001b[39m(\u001b[32m4\u001b[39m, Leaf(), Leaf()))\n",
       ")"
      ]
     },
     "execution_count": 39,
     "metadata": {},
     "output_type": "execute_result"
    }
   ],
   "source": [
    "sealed abstract class BTree\n",
    "case class Leaf() extends BTree\n",
    "case class Node(value: Int, left: BTree, right: BTree) extends BTree\n",
    "\n",
    "val t = Node(3, Node(1, Leaf(), Leaf()), Node(2, Leaf(), Node(4, Leaf(), Leaf())))"
   ]
  },
  {
   "cell_type": "markdown",
   "metadata": {},
   "source": [
    "### TODO: `find` as tail recursion"
   ]
  },
  {
   "cell_type": "code",
   "execution_count": 41,
   "metadata": {},
   "outputs": [
    {
     "data": {
      "text/plain": [
       "defined \u001b[32mfunction\u001b[39m \u001b[36mfind\u001b[39m\n",
       "\u001b[36mres40_1\u001b[39m: \u001b[32mBoolean\u001b[39m = true"
      ]
     },
     "execution_count": 41,
     "metadata": {},
     "output_type": "execute_result"
    }
   ],
   "source": [
    "def find(t: BTree, i: Int) : Boolean =\n",
    "    t match {\n",
    "        case Leaf() => false\n",
    "        case Node(n, _, _) if n == i => true\n",
    "        case Node(_, lt, rt) => find(lt, i) || find(rt, i)\n",
    "    }\n",
    "find(t, 1)"
   ]
  },
  {
   "cell_type": "markdown",
   "metadata": {},
   "source": [
    "* lt, rt를 넘기면 임의의 개수의 남아 있는 트리가 생긴다. => 리스트를 사용\n",
    "* continuation을 사용할 수 있지만 비효율적 (코드, closure 메모리)"
   ]
  },
  {
   "cell_type": "code",
   "execution_count": 42,
   "metadata": {},
   "outputs": [
    {
     "data": {
      "text/plain": [
       "defined \u001b[32mfunction\u001b[39m \u001b[36mt\u001b[39m\n",
       "\u001b[36mres41_1\u001b[39m: \u001b[32mBoolean\u001b[39m = true\n",
       "\u001b[36mres41_2\u001b[39m: \u001b[32mBoolean\u001b[39m = false"
      ]
     },
     "execution_count": 42,
     "metadata": {},
     "output_type": "execute_result"
    }
   ],
   "source": [
    "def t: BTree = Node(5,Node(4,Node(2,Leaf(),Leaf()),Leaf()),\n",
    "Node(7,Node(6,Leaf(),Leaf()),Leaf()))\n",
    "find(t,7)\n",
    "find(t,1)"
   ]
  },
  {
   "cell_type": "code",
   "execution_count": 44,
   "metadata": {},
   "outputs": [
    {
     "data": {
      "text/plain": [
       "defined \u001b[32mclass\u001b[39m \u001b[36mBTList\u001b[39m\n",
       "defined \u001b[32mclass\u001b[39m \u001b[36mBTNil\u001b[39m\n",
       "defined \u001b[32mclass\u001b[39m \u001b[36mBTCons\u001b[39m\n",
       "defined \u001b[32mfunction\u001b[39m \u001b[36mfind\u001b[39m\n",
       "defined \u001b[32mfunction\u001b[39m \u001b[36mgenTree\u001b[39m\n",
       "\u001b[36mres43_5\u001b[39m: \u001b[32mBTree\u001b[39m = \u001b[33mNode\u001b[39m(\n",
       "  \u001b[32m999\u001b[39m,\n",
       "  \u001b[33mNode\u001b[39m(\n",
       "    \u001b[32m999\u001b[39m,\n",
       "    \u001b[33mNode\u001b[39m(\n",
       "      \u001b[32m999\u001b[39m,\n",
       "      \u001b[33mNode\u001b[39m(\n",
       "        \u001b[32m999\u001b[39m,\n",
       "        \u001b[33mNode\u001b[39m(\n",
       "          \u001b[32m999\u001b[39m,\n",
       "          \u001b[33mNode\u001b[39m(\n",
       "            \u001b[32m999\u001b[39m,\n",
       "            \u001b[33mNode\u001b[39m(\n",
       "              \u001b[32m999\u001b[39m,\n",
       "              \u001b[33mNode\u001b[39m(\u001b[32m999\u001b[39m, \u001b[33mNode\u001b[39m(\u001b[32m999\u001b[39m, \u001b[33mNode\u001b[39m(\u001b[32m999\u001b[39m, Leaf(), Leaf()), Leaf()), Leaf()),\n",
       "              Leaf()\n",
       "            ),\n",
       "            Leaf()\n",
       "          ),\n",
       "          Leaf()\n",
       "        ),\n",
       "        Leaf()\n",
       "      ),\n",
       "      Leaf()\n",
       "    ),\n",
       "    Leaf()\n",
       "  ),\n",
       "  Leaf()\n",
       ")\n",
       "\u001b[36mres43_6\u001b[39m: \u001b[32mBoolean\u001b[39m = false"
      ]
     },
     "execution_count": 44,
     "metadata": {},
     "output_type": "execute_result"
    }
   ],
   "source": [
    "sealed abstract class BTList\n",
    "case class BTNil() extends BTList\n",
    "case class BTCons(hd: BTree, tl: BTList) extends BTList\n",
    "def find(t: BTree, x: Int) : Boolean = {\n",
    "    def findIter(ts: BTList) : Boolean =\n",
    "        ts match {\n",
    "            case BTNil() => false\n",
    "            case BTCons(Leaf(), tl) => findIter(tl)\n",
    "            case BTCons(Node(v, _, _), _) if v == x => true\n",
    "            case BTCons(Node(_, l, r), tl) =>\n",
    "                findIter(BTCons(l, BTCons(r, tl)))\n",
    "        }\n",
    "        findIter(BTCons(t, BTNil()))\n",
    "}\n",
    "\n",
    "def genTree(v: Int, n: Int) : BTree = {\n",
    "    def genTreeIter(t: BTree, m : Int) : BTree =\n",
    "        if (m == 0) t\n",
    "        else genTreeIter(Node(v, t, Leaf()), m-1)\n",
    "    genTreeIter(Leaf(), n)\n",
    "}\n",
    "\n",
    "genTree(999, 10)\n",
    "find(genTree(0, 100000), 1)"
   ]
  },
  {
   "cell_type": "markdown",
   "metadata": {},
   "source": [
    "### Typed Programming\n",
    "* ***type checking at compiler time***\n",
    "  * static type checking\n",
    "    * Higher readability\n",
    "    * ex) Rust (internally unsafe for library developers, externally strict for lang users)\n",
    "    \n",
    "### Untyped Programming\n",
    "* ***no checking at compile time***, high efficiency\n",
    "  * dynamic type checking\n",
    "    * check type at run time\n",
    "    * ex) Python\n",
    "  * no type checking\n",
    "    * propagate errors\n",
    "    * hard to debug\n",
    "    * not a good programming language (like javascript, not javascript)\n",
    "    \n",
    "### ***Why needs compile-time type checking?***\n",
    "  * no type errors at run time\n",
    "  * no garbage collector, no free function (소유권 규칙)"
   ]
  },
  {
   "cell_type": "markdown",
   "metadata": {},
   "source": [
    "---\n",
    "### Parametric Polymorphism\n",
    "* same as generic in java"
   ]
  },
  {
   "cell_type": "code",
   "execution_count": 45,
   "metadata": {},
   "outputs": [
    {
     "data": {
      "text/plain": [
       "defined \u001b[32mfunction\u001b[39m \u001b[36mid\u001b[39m\n",
       "\u001b[36mres44_1\u001b[39m: \u001b[32mString\u001b[39m = \u001b[32m\"abc\"\u001b[39m\n",
       "\u001b[36mres44_2\u001b[39m: \u001b[32mInt\u001b[39m = \u001b[32m3\u001b[39m"
      ]
     },
     "execution_count": 45,
     "metadata": {},
     "output_type": "execute_result"
    }
   ],
   "source": [
    "def id[A](x: A): A = x\n",
    "\n",
    "id[String](\"abc\")\n",
    "id(3)"
   ]
  },
  {
   "cell_type": "code",
   "execution_count": 47,
   "metadata": {},
   "outputs": [
    {
     "data": {
      "text/plain": [
       "\u001b[36mx\u001b[39m: \u001b[32mString\u001b[39m => \u001b[32mString\u001b[39m = ammonite.$sess.cmd46$Helper$$Lambda$2658/1295267514@6b5609ae\n",
       "\u001b[36mres46_1\u001b[39m: \u001b[32mString\u001b[39m = \u001b[32m\"abc\"\u001b[39m"
      ]
     },
     "execution_count": 47,
     "metadata": {},
     "output_type": "execute_result"
    }
   ],
   "source": [
    "val x = id[String] _ \n",
    "x(\"abc\")"
   ]
  },
  {
   "cell_type": "code",
   "execution_count": 47,
   "metadata": {},
   "outputs": [
    {
     "name": "stderr",
     "output_type": "stream",
     "text": [
      "cmd47.sc:2: type mismatch;\n",
      " found   : String(\"abc\")\n",
      " required: Nothing\n",
      "val res47_1 = y(\"abc\")\n",
      "                ^Compilation Failed"
     ]
    },
    {
     "ename": "",
     "evalue": "",
     "output_type": "error",
     "traceback": [
      "Compilation Failed"
     ]
    }
   ],
   "source": [
    "// only monomorphic function\n",
    "val y = id _ \n",
    "y(\"abc\")"
   ]
  },
  {
   "cell_type": "code",
   "execution_count": 48,
   "metadata": {},
   "outputs": [
    {
     "data": {
      "text/plain": [
       "defined \u001b[32mfunction\u001b[39m \u001b[36mapplyn\u001b[39m"
      ]
     },
     "execution_count": 48,
     "metadata": {},
     "output_type": "execute_result"
    }
   ],
   "source": [
    "def applyn[A](f: A => A, n: Int, x: A): A =\n",
    "    n match {\n",
    "        case 0 => x\n",
    "        case _ => f(applyn(f, n - 1, x))\n",
    "    }"
   ]
  },
  {
   "cell_type": "code",
   "execution_count": 49,
   "metadata": {},
   "outputs": [
    {
     "data": {
      "text/plain": [
       "defined \u001b[32mfunction\u001b[39m \u001b[36mapplyn\u001b[39m\n",
       "\u001b[36mres48_1\u001b[39m: \u001b[32mInt\u001b[39m = \u001b[32m103\u001b[39m\n",
       "\u001b[36mres48_2\u001b[39m: \u001b[32mString\u001b[39m = \u001b[32m\"gil!!!!!!!!!!\"\u001b[39m\n",
       "\u001b[36mres48_3\u001b[39m: \u001b[32mString\u001b[39m = \u001b[32m\"hur\"\u001b[39m"
      ]
     },
     "execution_count": 49,
     "metadata": {},
     "output_type": "execute_result"
    }
   ],
   "source": [
    "// Tail Call Optimization\n",
    "def applyn[A](f: A => A, n: Int, x: A): A = {\n",
    "    def applynIter(i: Int, acc: A): A = {\n",
    "        if (i == 0) acc\n",
    "        else applynIter(i-1, f(acc))\n",
    "    }\n",
    "    applynIter(n, x)\n",
    "}    \n",
    "\n",
    "applyn((x:Int)=>x+1, 100, 3)\n",
    "applyn((x:String)=>x+\"!\", 10, \"gil\")\n",
    "applyn(id[String], 10, \"hur\")"
   ]
  },
  {
   "cell_type": "code",
   "execution_count": 52,
   "metadata": {},
   "outputs": [
    {
     "data": {
      "text/plain": [
       "defined \u001b[32mfunction\u001b[39m \u001b[36mfoo\u001b[39m\n",
       "\u001b[36mres51_1\u001b[39m: (\u001b[32mString\u001b[39m, \u001b[32mInt\u001b[39m) = (\u001b[32m\"abc!!!!!!!!!!\"\u001b[39m, \u001b[32m10\u001b[39m)"
      ]
     },
     "execution_count": 52,
     "metadata": {},
     "output_type": "execute_result"
    }
   ],
   "source": [
    "def foo[A,B](f: A=>A, x: (A, B)) : (A, B) =\n",
    "    (applyn[A](f, 10, x._1), x._2)\n",
    "\n",
    "foo[String,Int]((x:String)=>x+\"!\",(\"abc\",10))"
   ]
  },
  {
   "cell_type": "markdown",
   "metadata": {},
   "source": [
    "#### How to make `applyn` as value?\n",
    "* `apply`: a special alias\n",
    "* apply keyword can be removed (like `def __call__` in python)"
   ]
  },
  {
   "cell_type": "code",
   "execution_count": 66,
   "metadata": {},
   "outputs": [
    {
     "data": {
      "text/plain": [
       "defined \u001b[32mtype\u001b[39m \u001b[36mApplyn\u001b[39m\n",
       "\u001b[36mappfn\u001b[39m: \u001b[32mApplyn\u001b[39m = ammonite.$sess.cmd65$Helper$$anon$1@572691d9\n",
       "defined \u001b[32mfunction\u001b[39m \u001b[36mfoo\u001b[39m\n",
       "defined \u001b[32mfunction\u001b[39m \u001b[36mgee\u001b[39m\n",
       "\u001b[36mres65_4\u001b[39m: \u001b[32mString\u001b[39m = \u001b[32m\"gil!!!!!!!!!!\"\u001b[39m\n",
       "\u001b[36mres65_5\u001b[39m: \u001b[32mInt\u001b[39m = \u001b[32m103\u001b[39m\n",
       "\u001b[36mres65_6\u001b[39m: \u001b[32mInt\u001b[39m = \u001b[32m-1\u001b[39m"
      ]
     },
     "execution_count": 66,
     "metadata": {},
     "output_type": "execute_result"
    }
   ],
   "source": [
    "// val f : [A](A=>A, Int, A) => A = applyn _\n",
    "type Applyn = {def apply[A](f: A=>A, n: Int, x: A): A}\n",
    "\n",
    "val appfn: Applyn = new {\n",
    "    def apply[A](f: A=>A, n: Int, x: A): A = applyn(f, n, x)\n",
    "}\n",
    "\n",
    "def foo(f: Applyn) = {\n",
    "    f.apply[String]((x:String)=>x+\"!\", 10, \"gil\")\n",
    "}\n",
    "\n",
    "def gee(f: Applyn) = {\n",
    "    f((x:Int)=>x+1, 100, 3)\n",
    "   // f((x:Int)=>x+1, 100, 3)\n",
    "}\n",
    "\n",
    "foo(appfn)\n",
    "gee(appfn)\n",
    "\n",
    "appfn((x:Int)=>x, 1, -1)"
   ]
  },
  {
   "cell_type": "code",
   "execution_count": 68,
   "metadata": {},
   "outputs": [
    {
     "data": {
      "text/plain": [
       "\u001b[36mfff\u001b[39m: (\u001b[32mInt\u001b[39m => \u001b[32mInt\u001b[39m, \u001b[32mInt\u001b[39m, \u001b[32mInt\u001b[39m) => \u001b[32mInt\u001b[39m = ammonite.$sess.cmd67$Helper$$Lambda$3012/1045734913@795fbb6b\n",
       "\u001b[36mres67_1\u001b[39m: \u001b[32mInt\u001b[39m = \u001b[32m-1\u001b[39m"
      ]
     },
     "execution_count": 68,
     "metadata": {},
     "output_type": "execute_result"
    }
   ],
   "source": [
    "val fff = applyn[Int] _\n",
    "appfn((x:Int)=>x, 1, -1)"
   ]
  },
  {
   "cell_type": "code",
   "execution_count": 71,
   "metadata": {},
   "outputs": [
    {
     "data": {
      "text/plain": [
       "defined \u001b[32mfunction\u001b[39m \u001b[36mfoo\u001b[39m\n",
       "\u001b[36mres70_1\u001b[39m: \u001b[32mString\u001b[39m = \u001b[32m\"gil!!!!!!!!!!25\"\u001b[39m"
      ]
     },
     "execution_count": 71,
     "metadata": {},
     "output_type": "execute_result"
    }
   ],
   "source": [
    "def foo(f: Applyn): String = {\n",
    "    val a: String = f[String]((x:String)=>x+\"!\", 10, \"gil\")\n",
    "    val b: Int = f[Int]((x:Int)=>x+2, 10, 5)\n",
    "    a + b.toString()\n",
    "}\n",
    "foo(appfn)"
   ]
  }
 ],
 "metadata": {
  "kernelspec": {
   "display_name": "Scala",
   "language": "scala",
   "name": "scala"
  },
  "language_info": {
   "codemirror_mode": "text/x-scala",
   "file_extension": ".sc",
   "mimetype": "text/x-scala",
   "name": "scala",
   "nbconvert_exporter": "script",
   "version": "2.13.3"
  }
 },
 "nbformat": 4,
 "nbformat_minor": 4
}
