{
 "cells": [
  {
   "cell_type": "code",
   "execution_count": 8,
   "metadata": {},
   "outputs": [
    {
     "data": {
      "text/plain": [
       "defined \u001b[32mtrait\u001b[39m \u001b[36mListIF\u001b[39m"
      ]
     },
     "execution_count": 8,
     "metadata": {},
     "output_type": "execute_result"
    }
   ],
   "source": [
    "trait ListIF[L,A] {\n",
    "    def empty: L\n",
    "    def head(l: L): Option[A]\n",
    "    def tail(l: L): L\n",
    "    def cons(a: A, I: L): L\n",
    "    def append(l1: L, l2: L): L\n",
    "//     def map[A,B](f: A=>B)(l: L[A]): L[B]\n",
    "}"
   ]
  },
  {
   "cell_type": "code",
   "execution_count": 9,
   "metadata": {},
   "outputs": [
    {
     "data": {
      "text/plain": [
       "defined \u001b[32mtrait\u001b[39m \u001b[36mListIF\u001b[39m"
      ]
     },
     "execution_count": 9,
     "metadata": {},
     "output_type": "execute_result"
    }
   ],
   "source": [
    "trait ListIF[L[_]] {\n",
    "    def empty[A]: L[A]\n",
    "    def head[A](l: L[A]): Option[A]\n",
    "    def tail[A](l: L[A]): L[A]\n",
    "    def cons[A](a: A, l: L[A]): L[A]\n",
    "    def append[A](l1: L[A], l2: L[A]): L[A]\n",
    "    def map[A,B](f: A=>B)(l: L[A]): L[B]  // added\n",
    "}"
   ]
  },
  {
   "cell_type": "code",
   "execution_count": 12,
   "metadata": {},
   "outputs": [
    {
     "data": {
      "text/plain": [
       "defined \u001b[32mclass\u001b[39m \u001b[36mIter\u001b[39m\n",
       "defined \u001b[32mclass\u001b[39m \u001b[36mIterable\u001b[39m\n",
       "defined \u001b[32mfunction\u001b[39m \u001b[36mprintElements\u001b[39m"
      ]
     },
     "execution_count": 12,
     "metadata": {},
     "output_type": "execute_result"
    }
   ],
   "source": [
    "abstract class Iter[I[_]] {\n",
    "    def getValue[A](a: I[A]): Option[A]\n",
    "    def getNext[A](a: I[A]): I[A]\n",
    "}\n",
    "abstract class Iterable[R[_]] {\n",
    "    type Itr[_]\n",
    "    def iter[A](a: R[A]): Itr[A]\n",
    "    def iterIF: Iter[Itr]\n",
    "}\n",
    "def printElements[I[_],A](xs: I[A])(implicit IT: Iter[I]): Any = {\n",
    "    IT.getValue(xs) match {\n",
    "        case None => 0\n",
    "        case Some(a) => {\n",
    "            println(a)\n",
    "            printElements(IT.getNext(xs))\n",
    "        }\n",
    "    }\n",
    "}"
   ]
  },
  {
   "cell_type": "code",
   "execution_count": 22,
   "metadata": {},
   "outputs": [
    {
     "data": {
      "text/plain": [
       "defined \u001b[32mfunction\u001b[39m \u001b[36mtestList\u001b[39m"
      ]
     },
     "execution_count": 22,
     "metadata": {},
     "output_type": "execute_result"
    }
   ],
   "source": [
    "def testList[L[_]](implicit LI: ListIF[L], IT: Iter[L]) = {\n",
    "    val l1 = LI.cons(3.3, LI.cons(2.2, LI.cons(1.5, LI.empty)))\n",
    "    val l2 = LI.map((n:Double)=>n.toInt)(l1)\n",
    "    val l3 = LI.map((n:Int)=>n.toString+\".xx\")(l2)\n",
    "    printElements(l3)\n",
    "}"
   ]
  },
  {
   "cell_type": "code",
   "execution_count": 23,
   "metadata": {},
   "outputs": [
    {
     "name": "stdout",
     "output_type": "stream",
     "text": [
      "3.xx\n",
      "2.xx\n",
      "1.xx\n"
     ]
    },
    {
     "data": {
      "text/plain": [
       "defined \u001b[32mfunction\u001b[39m \u001b[36mlistIter\u001b[39m\n",
       "\u001b[36mlistIF\u001b[39m: \u001b[32mListIF\u001b[39m[\u001b[32mList\u001b[39m] = ammonite.$sess.cmd22$Helper$$anon$2@36f8f6e6\n",
       "\u001b[36mres22_2\u001b[39m: \u001b[32mAny\u001b[39m = \u001b[32m0\u001b[39m"
      ]
     },
     "execution_count": 23,
     "metadata": {},
     "output_type": "execute_result"
    }
   ],
   "source": [
    "implicit def listIter: Iter[List] = {\n",
    "    new Iter[List] {\n",
    "        def getValue[A](a: List[A]) = a.headOption\n",
    "        def getNext[A](a: List[A]) = a.tail\n",
    "    }\n",
    "}\n",
    "implicit val listIF: ListIF[List] = {\n",
    "    new ListIF[List] {\n",
    "        def empty[A] = Nil\n",
    "        def head[A](l: List[A]) = l.headOption\n",
    "        def tail[A](l: List[A]) = l.tail\n",
    "        def cons[A](a: A, l: List[A]) = a::l\n",
    "        def append[A](l1: List[A], l2: List[A]) = l1:::l2\n",
    "        def map[A,B](f: A=>B)(l: List[A]) = l.map(f)\n",
    "    }\n",
    "}\n",
    "testList[List]"
   ]
  },
  {
   "cell_type": "code",
   "execution_count": 24,
   "metadata": {},
   "outputs": [
    {
     "data": {
      "text/plain": [
       "defined \u001b[32mtrait\u001b[39m \u001b[36mIter\u001b[39m\n",
       "defined \u001b[32mtrait\u001b[39m \u001b[36mFoo\u001b[39m\n",
       "defined \u001b[32mfunction\u001b[39m \u001b[36mf\u001b[39m"
      ]
     },
     "execution_count": 24,
     "metadata": {},
     "output_type": "execute_result"
    }
   ],
   "source": [
    "trait Iter[I[_]] {\n",
    "    def getValue[A](a: I[A]): Option[A]\n",
    "    def getNext[A](a: I[A]) : I[A]\n",
    "}\n",
    "trait Foo[I[_[_]]] {\n",
    "    def get: I[List]\n",
    "}\n",
    "def f(x: Foo[Iter]) : Iter[List] = x.get"
   ]
  },
  {
   "cell_type": "markdown",
   "metadata": {},
   "source": [
    "---\n",
    "### Type class to OO class"
   ]
  },
  {
   "cell_type": "code",
   "execution_count": 26,
   "metadata": {},
   "outputs": [
    {
     "data": {
      "text/plain": [
       "defined \u001b[32mtrait\u001b[39m \u001b[36mDataProcessor\u001b[39m\n",
       "defined \u001b[32mtrait\u001b[39m \u001b[36mDPFactory\u001b[39m"
      ]
     },
     "execution_count": 26,
     "metadata": {},
     "output_type": "execute_result"
    }
   ],
   "source": [
    "// OOP style\n",
    "trait DataProcessor {\n",
    "    def input(s: String): DataProcessor\n",
    "    def output(): String\n",
    "}\n",
    "trait DPFactory {\n",
    "    def getTypes: List[String]\n",
    "    def makeDP(dptype: String): DataProcessor\n",
    "}"
   ]
  },
  {
   "cell_type": "code",
   "execution_count": 29,
   "metadata": {},
   "outputs": [
    {
     "data": {
      "text/plain": [
       "defined \u001b[32mtrait\u001b[39m \u001b[36mDataProcessor\u001b[39m\n",
       "defined \u001b[32mtrait\u001b[39m \u001b[36mDataProcessorBox\u001b[39m\n",
       "defined \u001b[32mtrait\u001b[39m \u001b[36mDPFactory\u001b[39m"
      ]
     },
     "execution_count": 29,
     "metadata": {},
     "output_type": "execute_result"
    }
   ],
   "source": [
    "trait DataProcessor[D] {\n",
    "    def input(d: D, s: String): D\n",
    "    def output(d: D): String\n",
    "}\n",
    "trait DataProcessorBox {\n",
    "    type DP\n",
    "    val data: DP\n",
    "    val interface: DataProcessor[DP]\n",
    "}\n",
    "trait DPFactory {\n",
    "    def getTypes: List[String]\n",
    "    def makeDP(dptype: String): DataProcessorBox\n",
    "}"
   ]
  },
  {
   "cell_type": "code",
   "execution_count": 56,
   "metadata": {},
   "outputs": [
    {
     "data": {
      "text/plain": [
       "\u001b[32mimport \u001b[39m\u001b[36mscala.language.higherKinds\n",
       "\u001b[39m\n",
       "\u001b[32mimport \u001b[39m\u001b[36mscala.language.implicitConversions\n",
       "\n",
       "\u001b[39m\n",
       "defined \u001b[32mtrait\u001b[39m \u001b[36mDataProcessor\u001b[39m\n",
       "defined \u001b[32mtrait\u001b[39m \u001b[36mBox\u001b[39m\n",
       "defined \u001b[32mtrait\u001b[39m \u001b[36mDPFactory\u001b[39m"
      ]
     },
     "execution_count": 56,
     "metadata": {},
     "output_type": "execute_result"
    }
   ],
   "source": [
    "import scala.language.higherKinds\n",
    "import scala.language.implicitConversions\n",
    "\n",
    "trait DataProcessor[D] {\n",
    "    def input(d: D, s: String): D\n",
    "    def output(d: D): String\n",
    "}\n",
    "trait Box[S[_]] {\n",
    "    type Data\n",
    "    val data: Data\n",
    "    val interface: S[Data]\n",
    "}\n",
    "trait DPFactory {\n",
    "    def getTypes: List[String]\n",
    "    def makeDP(dptype: String): Box[DataProcessor]\n",
    "}"
   ]
  },
  {
   "cell_type": "code",
   "execution_count": 71,
   "metadata": {},
   "outputs": [
    {
     "data": {
      "text/plain": [
       "defined \u001b[32mobject\u001b[39m \u001b[36mBox\u001b[39m"
      ]
     },
     "execution_count": 71,
     "metadata": {},
     "output_type": "execute_result"
    }
   ],
   "source": [
    "object Box {\n",
    "    implicit def apply[D,S[_]](d: D)(implicit i: S[D]): Box[S] = {\n",
    "        new Box[S] {\n",
    "            type Data = D\n",
    "            val data = d\n",
    "            val interface = i\n",
    "        }\n",
    "    }\n",
    "}"
   ]
  },
  {
   "cell_type": "code",
   "execution_count": 78,
   "metadata": {},
   "outputs": [
    {
     "data": {
      "text/plain": [
       "defined \u001b[32mtrait\u001b[39m \u001b[36mUserInteraction\u001b[39m"
      ]
     },
     "execution_count": 78,
     "metadata": {},
     "output_type": "execute_result"
    }
   ],
   "source": [
    "trait UserInteraction {\n",
    "    def run(factory: DPFactory): Unit\n",
    "}"
   ]
  },
  {
   "cell_type": "code",
   "execution_count": 79,
   "metadata": {},
   "outputs": [
    {
     "data": {
      "text/plain": [
       "\u001b[36muserInteraction\u001b[39m: \u001b[32mAnyRef\u001b[39m with \u001b[32mUserInteraction\u001b[39m{def getInputs[D](d: D)(implicit DP: cmd78.this.cmd55.DataProcessor[D]): D;def printOutputs[D](d: D)(implicit DP: cmd78.this.cmd55.DataProcessor[D]): Unit} = ammonite.$sess.cmd78$Helper$$anon$1@28eb76c5"
      ]
     },
     "execution_count": 79,
     "metadata": {},
     "output_type": "execute_result"
    }
   ],
   "source": [
    "val userInteraction = new UserInteraction {\n",
    "    def run(factory: DPFactory) = {\n",
    "        val dptype = scala.io.StdIn.readLine(\"Input a processor type \" + factory.getTypes.toString + \": \")\n",
    "        val dp = factory.makeDP(dptype)\n",
    "        val d_done = getInputs(dp.data)(dp.interface)\n",
    "        printOutputs(d_done)(dp.interface)\n",
    "    }\n",
    "    def getInputs[D](d: D)(implicit DP: DataProcessor[D]): D = {\n",
    "        val d2 = DP.input(d, scala.io.StdIn.readLine(\"Input Data: \"))\n",
    "        val done = scala.io.StdIn.readLine(\"More inputs? [Y/N] \")\n",
    "        if (done.toLowerCase() == \"n\") d2\n",
    "        else getInputs(d2)\n",
    "    }\n",
    "    def printOutputs[D](d: D)(implicit DP: DataProcessor[D]) = {\n",
    "        println(\"The result of processing your inputs is: \")\n",
    "        println(DP.output(d))\n",
    "    }\n",
    "}"
   ]
  },
  {
   "cell_type": "code",
   "execution_count": 82,
   "metadata": {},
   "outputs": [
    {
     "data": {
      "text/plain": [
       "\u001b[36mdpfactory\u001b[39m: \u001b[32mAnyRef\u001b[39m with \u001b[32mDPFactory\u001b[39m{def makeProc(init: Int, op: (Int, Int) => Int): cmd81.this.cmd55.Box[cmd81.this.cmd55.DataProcessor]} = ammonite.$sess.cmd81$Helper$$anon$1@29f0339f"
      ]
     },
     "execution_count": 82,
     "metadata": {},
     "output_type": "execute_result"
    }
   ],
   "source": [
    "val dpfactory = new DPFactory {\n",
    "    def getTypes = List(\"sum\", \"mult\")\n",
    "    def makeDP(dptype: String) = {\n",
    "        if (dptype == \"sum\") makeProc(0, (x,y) => x+y)\n",
    "        else makeProc(1, (x,y) => x*y)\n",
    "    }\n",
    "    def makeProc(init: Int, op: (Int,Int)=>Int): Box[DataProcessor] = {\n",
    "        implicit val dp = new DataProcessor[Int] {\n",
    "            def input(d: Int, s: String) = op(d, s.toInt)\n",
    "            def output(d: Int) = d.toString()\n",
    "        }\n",
    "//         init\n",
    "        Box.apply[Int,DataProcessor](init)(dp)\n",
    "    }\n",
    "}"
   ]
  },
  {
   "cell_type": "code",
   "execution_count": 84,
   "metadata": {},
   "outputs": [
    {
     "name": "stdout",
     "output_type": "stream",
     "text": [
      "Input a processor type List(sum, mult): "
     ]
    },
    {
     "name": "stdin",
     "output_type": "stream",
     "text": [
      " mult\n"
     ]
    },
    {
     "name": "stdout",
     "output_type": "stream",
     "text": [
      "Input Data: "
     ]
    },
    {
     "name": "stdin",
     "output_type": "stream",
     "text": [
      " 5\n"
     ]
    },
    {
     "name": "stdout",
     "output_type": "stream",
     "text": [
      "More inputs? [Y/N] "
     ]
    },
    {
     "name": "stdin",
     "output_type": "stream",
     "text": [
      " \n"
     ]
    },
    {
     "name": "stdout",
     "output_type": "stream",
     "text": [
      "Input Data: "
     ]
    },
    {
     "name": "stdin",
     "output_type": "stream",
     "text": [
      " 4\n"
     ]
    },
    {
     "name": "stdout",
     "output_type": "stream",
     "text": [
      "More inputs? [Y/N] "
     ]
    },
    {
     "name": "stdin",
     "output_type": "stream",
     "text": [
      " \n"
     ]
    },
    {
     "name": "stdout",
     "output_type": "stream",
     "text": [
      "Input Data: "
     ]
    },
    {
     "name": "stdin",
     "output_type": "stream",
     "text": [
      " 3\n"
     ]
    },
    {
     "name": "stdout",
     "output_type": "stream",
     "text": [
      "More inputs? [Y/N] "
     ]
    },
    {
     "name": "stdin",
     "output_type": "stream",
     "text": [
      " \n"
     ]
    },
    {
     "name": "stdout",
     "output_type": "stream",
     "text": [
      "Input Data: "
     ]
    },
    {
     "name": "stdin",
     "output_type": "stream",
     "text": [
      " 2\n"
     ]
    },
    {
     "name": "stdout",
     "output_type": "stream",
     "text": [
      "More inputs? [Y/N] "
     ]
    },
    {
     "name": "stdin",
     "output_type": "stream",
     "text": [
      " \n"
     ]
    },
    {
     "name": "stdout",
     "output_type": "stream",
     "text": [
      "Input Data: "
     ]
    },
    {
     "name": "stdin",
     "output_type": "stream",
     "text": [
      " 1\n"
     ]
    },
    {
     "name": "stdout",
     "output_type": "stream",
     "text": [
      "More inputs? [Y/N] "
     ]
    },
    {
     "name": "stdin",
     "output_type": "stream",
     "text": [
      " \n"
     ]
    },
    {
     "name": "stdout",
     "output_type": "stream",
     "text": [
      "Input Data: "
     ]
    },
    {
     "name": "stdin",
     "output_type": "stream",
     "text": [
      " 100\n"
     ]
    },
    {
     "name": "stdout",
     "output_type": "stream",
     "text": [
      "More inputs? [Y/N] "
     ]
    },
    {
     "name": "stdin",
     "output_type": "stream",
     "text": [
      " n\n"
     ]
    },
    {
     "name": "stdout",
     "output_type": "stream",
     "text": [
      "The result of processing your inputs is: \n",
      "12000\n"
     ]
    }
   ],
   "source": [
    "userInteraction.run(dpfactory)"
   ]
  },
  {
   "cell_type": "code",
   "execution_count": null,
   "metadata": {},
   "outputs": [],
   "source": []
  },
  {
   "cell_type": "code",
   "execution_count": null,
   "metadata": {},
   "outputs": [],
   "source": []
  }
 ],
 "metadata": {
  "kernelspec": {
   "display_name": "Scala",
   "language": "scala",
   "name": "scala"
  },
  "language_info": {
   "codemirror_mode": "text/x-scala",
   "file_extension": ".sc",
   "mimetype": "text/x-scala",
   "name": "scala",
   "nbconvert_exporter": "script",
   "version": "2.13.3"
  }
 },
 "nbformat": 4,
 "nbformat_minor": 4
}
