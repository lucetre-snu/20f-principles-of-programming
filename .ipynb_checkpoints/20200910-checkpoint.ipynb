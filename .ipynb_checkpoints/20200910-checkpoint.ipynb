{
 "cells": [
  {
   "cell_type": "code",
   "execution_count": 2,
   "metadata": {},
   "outputs": [
    {
     "data": {
      "text/plain": [
       "\u001b[36mt\u001b[39m: \u001b[32mInt\u001b[39m = \u001b[32m0\u001b[39m\n",
       "defined \u001b[32mfunction\u001b[39m \u001b[36mf\u001b[39m\n",
       "defined \u001b[32mfunction\u001b[39m \u001b[36mg\u001b[39m\n",
       "\u001b[36mx\u001b[39m: \u001b[32mInt\u001b[39m = \u001b[32m25\u001b[39m\n",
       "\u001b[36mr\u001b[39m: \u001b[32mInt\u001b[39m = \u001b[32m15\u001b[39m\n",
       "\u001b[36mres1_5\u001b[39m: \u001b[32mInt\u001b[39m = \u001b[32m15\u001b[39m"
      ]
     },
     "execution_count": 2,
     "metadata": {},
     "output_type": "execute_result"
    }
   ],
   "source": [
    "val t = 0\n",
    "def f(x: Int) = t + g(x)\n",
    "def g(x: Int) = x * x\n",
    "val x = f(5)\n",
    "val r = {\n",
    "    val t = 10\n",
    "    val s = f(5)\n",
    "    s - t\n",
    "}\n",
    "t + r"
   ]
  },
  {
   "cell_type": "markdown",
   "metadata": {},
   "source": [
    "### Static Scope\n",
    "* refer to the nearest declaration when definition\n",
    "\n",
    "### Variable\n",
    "* var having same location can have different values"
   ]
  },
  {
   "cell_type": "code",
   "execution_count": 4,
   "metadata": {},
   "outputs": [
    {
     "data": {
      "text/plain": [
       "\u001b[36mt\u001b[39m: \u001b[32mInt\u001b[39m = \u001b[32m0\u001b[39m\n",
       "defined \u001b[32mfunction\u001b[39m \u001b[36mf\u001b[39m\n",
       "\u001b[36ms\u001b[39m: \u001b[32mInt\u001b[39m = \u001b[32m25\u001b[39m\n",
       "defined \u001b[32mfunction\u001b[39m \u001b[36mg\u001b[39m\n",
       "\u001b[36mx\u001b[39m: \u001b[32mInt\u001b[39m = \u001b[32m25\u001b[39m\n",
       "\u001b[36mr\u001b[39m: \u001b[32mInt\u001b[39m = \u001b[32m25\u001b[39m\n",
       "\u001b[36mres3_6\u001b[39m: \u001b[32mInt\u001b[39m = \u001b[32m25\u001b[39m"
      ]
     },
     "execution_count": 4,
     "metadata": {},
     "output_type": "execute_result"
    }
   ],
   "source": [
    "{\n",
    "    val t = 0\n",
    "    def f(x: Int) = t + g(x)\n",
    "\n",
    "    // when called val\n",
    "    val s = f(5)\n",
    "\n",
    "    def g(x: Int) = x * x\n",
    "    val x = f(5)\n",
    "    val r = {\n",
    "        val t = 10\n",
    "        def f(x: Int) = t + g(x)\n",
    "        val s = f(5)\n",
    "        s - t\n",
    "    }\n",
    "    t + r\n",
    "}"
   ]
  },
  {
   "cell_type": "markdown",
   "metadata": {},
   "source": [
    "### Rewriting for Blocks\n",
    "* 한 번 정의된 구현은 환경이 달라져도 의미가 달라지지 않는다. `f(5)`, `g(6)` (Guaranteed by type checker)\n",
    "* How? Cannot duplicate definitions with the same name in a block."
   ]
  },
  {
   "cell_type": "code",
   "execution_count": 7,
   "metadata": {},
   "outputs": [
    {
     "data": {
      "text/plain": [
       "\u001b[36mt\u001b[39m: \u001b[32mInt\u001b[39m = \u001b[32m0\u001b[39m\n",
       "defined \u001b[32mfunction\u001b[39m \u001b[36mf\u001b[39m\n",
       "defined \u001b[32mfunction\u001b[39m \u001b[36mg\u001b[39m\n",
       "\u001b[36mx\u001b[39m: \u001b[32mInt\u001b[39m = \u001b[32m36\u001b[39m\n",
       "\u001b[36mr\u001b[39m: \u001b[32mInt\u001b[39m = \u001b[32m26\u001b[39m\n",
       "\u001b[36mres6_5\u001b[39m: \u001b[32mInt\u001b[39m = \u001b[32m26\u001b[39m"
      ]
     },
     "execution_count": 7,
     "metadata": {},
     "output_type": "execute_result"
    }
   ],
   "source": [
    "                            // []\n",
    "\n",
    "val t = 0                   // [t=0]\n",
    "def f(x: Int) = t + g(x+1)  // [t=0, f=(x)t+g(x+1)]\n",
    "def g(y: Int) = y*y         // [t=0, f=(x)t+g(x+1), g=(x)x*x]\n",
    "\n",
    "                       // f(5) [t=0, f=(x)t+g(x+1), g=(x)x*x]:[x=5] 36\n",
    "                       // g(6) [t=0, f=(x)t+g(x+1), g=(x)x*x]:[y=6] 36\n",
    "val x = f(5)                // [t=0, f=(x)t+g(x+1), g=(x)x*x, x=36]\n",
    "\n",
    "val r = {                   // [t=0, f=(x)t+g(x+1), g=(x)x*x, x=36]:[]\n",
    "    val t = 10              // [t=0, f=(x)t+g(x+1), g=(x)x*x, x=36]:[t=10]\n",
    "    \n",
    "                       // f(5) [t=0, f=(x)t+g(x+1), g=(x)x*x, x=36]:[x=5] 36\n",
    "                       // g(6) [t=0, f=(x)t+g(x+1), g=(x)x*x, x=36]:[y=6] 36\n",
    "    val s = f(5)            // [t=0, f=(x)t+g(x+1), g=(x)x*x, x=36]:[t=10, s=36]\n",
    "    \n",
    "    s - t                   // [t=0, f=(x)t+g(x+1), g=(x)x*x, x=36]:[t=10, s=36] 26\n",
    "}                           // [t=0, f=(x)t+g(x+1), g=(x)x*x, x=36, r=26] \n",
    "t + r                       // [t=0, f=(x)t+g(x+1), g=(x)x*x, x=36, r=26] 26"
   ]
  },
  {
   "cell_type": "markdown",
   "metadata": {},
   "source": [
    "#### Example"
   ]
  },
  {
   "cell_type": "code",
   "execution_count": 21,
   "metadata": {},
   "outputs": [
    {
     "data": {
      "text/plain": [
       "\u001b[36mt\u001b[39m: \u001b[32mInt\u001b[39m = \u001b[32m0\u001b[39m\n",
       "defined \u001b[32mfunction\u001b[39m \u001b[36mx\u001b[39m\n",
       "\u001b[36mr\u001b[39m: \u001b[32mInt\u001b[39m = \u001b[32m10\u001b[39m"
      ]
     },
     "execution_count": 21,
     "metadata": {},
     "output_type": "execute_result"
    }
   ],
   "source": [
    "                    // []\n",
    "val t = 0           // [t=0]\n",
    "def x() = t+t         // [t=0, x=()t+t]\n",
    "val r = {           // [t=0, x=()t+t]:[]\n",
    "    val t = 10      // [t=0, x=()t+t]:[t=10]\n",
    "    \n",
    "                  // x [t=0, x=()t+t]:[] 0\n",
    "    x+t             // [t=0, x=()t+t]:[t=10] 10\n",
    "}                   // [t=0, x=()t+t, r=10]"
   ]
  },
  {
   "cell_type": "markdown",
   "metadata": {},
   "source": [
    "#### No errors with previous version"
   ]
  },
  {
   "cell_type": "code",
   "execution_count": 24,
   "metadata": {},
   "outputs": [
    {
     "data": {
      "text/plain": [
       "defined \u001b[32mfunction\u001b[39m \u001b[36mx\u001b[39m\n",
       "\u001b[36mres23_1\u001b[39m: \u001b[32mInt\u001b[39m = \u001b[32m0\u001b[39m\n",
       "\u001b[36mv\u001b[39m: \u001b[32mInt\u001b[39m = \u001b[32m20\u001b[39m\n",
       "\u001b[36mres23_3\u001b[39m: \u001b[32mInt\u001b[39m = \u001b[32m100\u001b[39m"
      ]
     },
     "execution_count": 24,
     "metadata": {},
     "output_type": "execute_result"
    }
   ],
   "source": [
    "def x = v*5\n",
    "x\n",
    "val v = 20\n",
    "x"
   ]
  }
 ],
 "metadata": {
  "kernelspec": {
   "display_name": "Scala",
   "language": "scala",
   "name": "scala"
  },
  "language_info": {
   "codemirror_mode": "text/x-scala",
   "file_extension": ".sc",
   "mimetype": "text/x-scala",
   "name": "scala",
   "nbconvert_exporter": "script",
   "version": "2.13.3"
  }
 },
 "nbformat": 4,
 "nbformat_minor": 4
}
