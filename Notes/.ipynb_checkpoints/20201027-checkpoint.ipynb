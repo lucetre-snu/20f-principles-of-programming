{
 "cells": [
  {
   "cell_type": "code",
   "execution_count": 20,
   "metadata": {},
   "outputs": [
    {
     "data": {
      "text/plain": [
       "defined \u001b[32mclass\u001b[39m \u001b[36mMyIterable\u001b[39m\n",
       "defined \u001b[32mclass\u001b[39m \u001b[36mIter\u001b[39m"
      ]
     },
     "execution_count": 20,
     "metadata": {},
     "output_type": "execute_result"
    }
   ],
   "source": [
    "abstract class MyIterable[A] {\n",
    "    def iter: Iter[A]\n",
    "}\n",
    "\n",
    "abstract class Iter[A] extends MyIterable[A] {\n",
    "    def getValue: Option[A]\n",
    "    def getNext: Iter[A]\n",
    "    def iter = this\n",
    "}"
   ]
  },
  {
   "cell_type": "code",
   "execution_count": 46,
   "metadata": {},
   "outputs": [
    {
     "data": {
      "text/plain": [
       "defined \u001b[32mclass\u001b[39m \u001b[36mMyList\u001b[39m\n",
       "defined \u001b[32mclass\u001b[39m \u001b[36mMyNil\u001b[39m\n",
       "defined \u001b[32mclass\u001b[39m \u001b[36mMyCons\u001b[39m"
      ]
     },
     "execution_count": 46,
     "metadata": {},
     "output_type": "execute_result"
    }
   ],
   "source": [
    "sealed abstract class MyList[A] extends Iter[A] {\n",
    "    def append(lst: MyList[A]): MyList[A]\n",
    "}\n",
    "case class MyNil[A]() extends MyList[A] {\n",
    "    def getValue = None\n",
    "    def getNext = throw new Exception(\"...\")\n",
    "    def append(lst: MyList[A]) = lst\n",
    "}\n",
    "case class MyCons[A](hd: A, tl: MyList[A]) extends MyList[A] {\n",
    "    def getValue = Some(hd)\n",
    "    def getNext = tl\n",
    "//     to make it tail-recursive\n",
    "    def append(lst: MyList[A]) = MyCons(hd, tl.append(lst))\n",
    "}"
   ]
  },
  {
   "cell_type": "markdown",
   "metadata": {},
   "source": [
    "### Need to separate implementations of ***Data*** and ***Logic***"
   ]
  },
  {
   "cell_type": "code",
   "execution_count": 80,
   "metadata": {},
   "outputs": [
    {
     "name": "stderr",
     "output_type": "stream",
     "text": [
      "cmd80.sc:33: class MyNil needs to be abstract. Missing implementation for:\n",
      "  def iter: cmd80.this.cmd79.Iter[A] // inherited from class Iterable\n",
      "case class MyNil[A]() extends MyList[A] {\n",
      "           ^cmd80.sc:37: class MyCons needs to be abstract. Missing implementation for:\n",
      "  def iter: cmd80.this.cmd79.Iter[A] // inherited from class Iterable\n",
      "case class MyCons[A](hd: A, tl: MyList[A]) extends MyList[A] {\n",
      "           ^Compilation Failed"
     ]
    },
    {
     "ename": "",
     "evalue": "",
     "output_type": "error",
     "traceback": [
      "Compilation Failed"
     ]
    }
   ],
   "source": [
    "import scala.annotation.tailrec\n",
    "import scala.util.control.TailCalls._\n",
    "\n",
    "sealed abstract class MyList[A] extends Iter[A] {\n",
    "    // why not implement revAppend here?\n",
    "    // impossible to internally make it as tailrec (locations are not fixed)\n",
    "    def append(lst: MyList[A]): MyList[A] =\n",
    "        MyList.revAppend(MyList.revAppend(this, MyNil()), lst)\n",
    "}\n",
    "// companion object (packaging)\n",
    "// val MyList = new {\n",
    "object MyList {\n",
    "    // like static methods\n",
    "    @tailrec\n",
    "    def revAppend[A](lst1: MyList[A], lst2: MyList[A]): MyList[A] = {\n",
    "        lst1 match {\n",
    "            case MyNil() => lst2\n",
    "            case MyCons(hd, tl) => revAppend(tl, MyCons(hd, lst2))\n",
    "        }\n",
    "    }\n",
    "    def append1[A](lst1: MyList[A], lst2: MyList[A]): MyList[A] = {\n",
    "        @tailrec\n",
    "        def appendCont(lst: MyList[A], cont: MyList[A]=>TailRec[MyList[A]]): MyList[A] ={\n",
    "            lst match {\n",
    "                case MyNil() => cont(lst2).result\n",
    "                case MyCons(hd, tl) => appendCont(tl, (r)=>tailcall(cont(MyCons(hd, r))))\n",
    "            }\n",
    "        }\n",
    "        appendCont(lst1, (r)=>done(r))\n",
    "    }\n",
    "    @tailrec\n",
    "    def printIter[A](xs: Iter[A]): Any = {\n",
    "        xs.getValue match {\n",
    "            case None => println()\n",
    "            case Some(v) => {\n",
    "                print(v + \" \")\n",
    "                printIter(xs.getNext)\n",
    "            }\n",
    "        }\n",
    "    }\n",
    "}\n",
    "\n",
    "case class MyNil[A]() extends MyList[A] {\n",
    "    def getValue = None\n",
    "    def getNext = throw new Exception(\"...\")\n",
    "}\n",
    "case class MyCons[A](hd: A, tl: MyList[A]) extends MyList[A] {\n",
    "    def getValue = Some(hd)\n",
    "    def getNext = tl\n",
    "}"
   ]
  },
  {
   "cell_type": "code",
   "execution_count": 77,
   "metadata": {},
   "outputs": [
    {
     "name": "stdout",
     "output_type": "stream",
     "text": [
      "1 2 \n",
      "3 4 5 \n",
      "2 1 3 4 5 \n",
      "1 2 3 4 5 \n"
     ]
    },
    {
     "data": {
      "text/plain": [
       "\u001b[36mlst1\u001b[39m: \u001b[32mMyCons\u001b[39m[\u001b[32mInt\u001b[39m] = \u001b[33mMyCons\u001b[39m(\u001b[32m1\u001b[39m, \u001b[33mMyCons\u001b[39m(\u001b[32m2\u001b[39m, MyNil()))\n",
       "\u001b[36mlst2\u001b[39m: \u001b[32mMyCons\u001b[39m[\u001b[32mInt\u001b[39m] = \u001b[33mMyCons\u001b[39m(\u001b[32m3\u001b[39m, \u001b[33mMyCons\u001b[39m(\u001b[32m4\u001b[39m, \u001b[33mMyCons\u001b[39m(\u001b[32m5\u001b[39m, MyNil())))\n",
       "\u001b[36mres76_2\u001b[39m: \u001b[32mAny\u001b[39m = ()\n",
       "\u001b[36mres76_3\u001b[39m: \u001b[32mAny\u001b[39m = ()\n",
       "\u001b[36mres76_4\u001b[39m: \u001b[32mAny\u001b[39m = ()\n",
       "\u001b[36mres76_5\u001b[39m: \u001b[32mAny\u001b[39m = ()"
      ]
     },
     "execution_count": 77,
     "metadata": {},
     "output_type": "execute_result"
    }
   ],
   "source": [
    "val lst1 = MyCons(1, MyCons(2, MyNil()))\n",
    "val lst2 = MyCons(3, MyCons(4, MyCons(5, MyNil())))\n",
    "\n",
    "MyList.printIter(lst1)\n",
    "MyList.printIter(lst2)\n",
    "MyList.printIter(MyList.revAppend(lst1, lst2))\n",
    "MyList.printIter(lst1.append(lst2))"
   ]
  },
  {
   "cell_type": "code",
   "execution_count": 48,
   "metadata": {},
   "outputs": [
    {
     "data": {
      "text/plain": [
       "defined \u001b[32mclass\u001b[39m \u001b[36mMyTree\u001b[39m\n",
       "defined \u001b[32mclass\u001b[39m \u001b[36mEmpty\u001b[39m\n",
       "defined \u001b[32mclass\u001b[39m \u001b[36mNode\u001b[39m"
      ]
     },
     "execution_count": 48,
     "metadata": {},
     "output_type": "execute_result"
    }
   ],
   "source": [
    "sealed abstract class MyTree[A] extends MyIterable[A] {\n",
    "    def iter: MyList[A]\n",
    "}\n",
    "case class Empty[A]() extends MyTree[A] {\n",
    "    val iter = MyNil()\n",
    "}\n",
    "case class Node[A](value: A, left: MyTree[A], right: MyTree[A]) extends MyTree[A] {\n",
    "    def iter = MyCons(value, left.iter.append(right.iter))\n",
    "}"
   ]
  },
  {
   "cell_type": "code",
   "execution_count": 49,
   "metadata": {},
   "outputs": [
    {
     "data": {
      "text/plain": [
       "defined \u001b[32mfunction\u001b[39m \u001b[36mgenerateTree\u001b[39m\n",
       "\u001b[36mres48_1\u001b[39m: \u001b[32mMyTree\u001b[39m[\u001b[32mInt\u001b[39m] = \u001b[33mNode\u001b[39m(\n",
       "  \u001b[32m5\u001b[39m,\n",
       "  \u001b[33mNode\u001b[39m(\n",
       "    \u001b[32m2\u001b[39m,\n",
       "    \u001b[33mNode\u001b[39m(\u001b[32m1\u001b[39m, Empty(), Empty()),\n",
       "    \u001b[33mNode\u001b[39m(\u001b[32m3\u001b[39m, Empty(), \u001b[33mNode\u001b[39m(\u001b[32m4\u001b[39m, Empty(), Empty()))\n",
       "  ),\n",
       "  \u001b[33mNode\u001b[39m(\n",
       "    \u001b[32m8\u001b[39m,\n",
       "    \u001b[33mNode\u001b[39m(\u001b[32m6\u001b[39m, Empty(), \u001b[33mNode\u001b[39m(\u001b[32m7\u001b[39m, Empty(), Empty())),\n",
       "    \u001b[33mNode\u001b[39m(\u001b[32m9\u001b[39m, Empty(), \u001b[33mNode\u001b[39m(\u001b[32m10\u001b[39m, Empty(), Empty()))\n",
       "  )\n",
       ")"
      ]
     },
     "execution_count": 49,
     "metadata": {},
     "output_type": "execute_result"
    }
   ],
   "source": [
    "def generateTree(n: Int) : MyTree[Int] = {\n",
    "    def gen(lo: Int, hi: Int) : MyTree[Int] =\n",
    "        if (lo > hi) Empty()\n",
    "        else {\n",
    "            val mid = (lo+hi)/2\n",
    "            Node(mid, gen(lo,mid-1), gen(mid+1,hi))\n",
    "        }\n",
    "    gen(1,n)\n",
    "}\n",
    "generateTree(10)"
   ]
  },
  {
   "cell_type": "code",
   "execution_count": 50,
   "metadata": {},
   "outputs": [
    {
     "data": {
      "text/plain": [
       "defined \u001b[32mfunction\u001b[39m \u001b[36mtime\u001b[39m"
      ]
     },
     "execution_count": 50,
     "metadata": {},
     "output_type": "execute_result"
    }
   ],
   "source": [
    "def time[R](block: => R): R = {\n",
    "    val t0 = System.nanoTime()\n",
    "    val result = block // call-by-name\n",
    "    val t1 = System.nanoTime()\n",
    "    println(\"Elapsed time: \" + ((t1 - t0)/1000000) + \"ms\"); result\n",
    "}"
   ]
  },
  {
   "cell_type": "code",
   "execution_count": 51,
   "metadata": {},
   "outputs": [
    {
     "data": {
      "text/plain": [
       "\u001b[32mimport \u001b[39m\u001b[36mscala.annotation.tailrec\n",
       "\u001b[39m\n",
       "defined \u001b[32mfunction\u001b[39m \u001b[36msumN\u001b[39m"
      ]
     },
     "execution_count": 51,
     "metadata": {},
     "output_type": "execute_result"
    }
   ],
   "source": [
    "import scala.annotation.tailrec\n",
    "def sumN[A](f: A=>Int)(n: Int, xs: MyIterable[A]) : Int = {\n",
    "    @tailrec\n",
    "    def sumIter(res : Int, n: Int, xs: Iter[A]) : Int =\n",
    "        if (n <= 0) res\n",
    "        else xs.getValue match {\n",
    "            case None => res\n",
    "            case Some(v) => sumIter(f(v) + res, n-1, xs.getNext)\n",
    "        }\n",
    "    sumIter(0, n,xs.iter)\n",
    "}"
   ]
  },
  {
   "cell_type": "code",
   "execution_count": 53,
   "metadata": {
    "scrolled": true
   },
   "outputs": [
    {
     "name": "stdout",
     "output_type": "stream",
     "text": [
      "Elapsed time: 0ms\n",
      "Elapsed time: 0ms\n"
     ]
    },
    {
     "data": {
      "text/plain": [
       "\u001b[36mt\u001b[39m: \u001b[32mMyTree\u001b[39m[\u001b[32mInt\u001b[39m] = \u001b[33mNode\u001b[39m(\n",
       "  \u001b[32m1000\u001b[39m,\n",
       "  \u001b[33mNode\u001b[39m(\n",
       "    \u001b[32m500\u001b[39m,\n",
       "    \u001b[33mNode\u001b[39m(\n",
       "      \u001b[32m250\u001b[39m,\n",
       "      \u001b[33mNode\u001b[39m(\n",
       "        \u001b[32m125\u001b[39m,\n",
       "        \u001b[33mNode\u001b[39m(\n",
       "          \u001b[32m62\u001b[39m,\n",
       "          \u001b[33mNode\u001b[39m(\n",
       "            \u001b[32m31\u001b[39m,\n",
       "            \u001b[33mNode\u001b[39m(\n",
       "              \u001b[32m15\u001b[39m,\n",
       "              \u001b[33mNode\u001b[39m(\n",
       "                \u001b[32m7\u001b[39m,\n",
       "                \u001b[33mNode\u001b[39m(\n",
       "                  \u001b[32m3\u001b[39m,\n",
       "                  \u001b[33mNode\u001b[39m(\u001b[32m1\u001b[39m, Empty(), \u001b[33mNode\u001b[39m(\u001b[32m2\u001b[39m, Empty(), Empty())),\n",
       "                  \u001b[33mNode\u001b[39m(\u001b[32m5\u001b[39m, \u001b[33mNode\u001b[39m(\u001b[32m4\u001b[39m, Empty(), Empty()), \u001b[33mNode\u001b[39m(\u001b[32m6\u001b[39m, Empty(), Empty()))\n",
       "                ),\n",
       "                \u001b[33mNode\u001b[39m(\n",
       "                  \u001b[32m11\u001b[39m,\n",
       "                  \u001b[33mNode\u001b[39m(\u001b[32m9\u001b[39m, \u001b[33mNode\u001b[39m(\u001b[32m8\u001b[39m, Empty(), Empty()), \u001b[33mNode\u001b[39m(\u001b[32m10\u001b[39m, Empty(), Empty())),\n",
       "                  \u001b[33mNode\u001b[39m(\n",
       "                    \u001b[32m13\u001b[39m,\n",
       "                    \u001b[33mNode\u001b[39m(\u001b[32m12\u001b[39m, Empty(), Empty()),\n",
       "                    \u001b[33mNode\u001b[39m(\u001b[32m14\u001b[39m, Empty(), Empty())\n",
       "                  )\n",
       "                )\n",
       "              ),\n",
       "              \u001b[33mNode\u001b[39m(\n",
       "                \u001b[32m23\u001b[39m,\n",
       "                \u001b[33mNode\u001b[39m(\n",
       "                  \u001b[32m19\u001b[39m,\n",
       "                  \u001b[33mNode\u001b[39m(\n",
       "                    \u001b[32m17\u001b[39m,\n",
       "                    \u001b[33mNode\u001b[39m(\u001b[32m16\u001b[39m, Empty(), Empty()),\n",
       "...\n",
       "defined \u001b[32mfunction\u001b[39m \u001b[36msum\u001b[39m\n",
       "\u001b[36mres52_2\u001b[39m: \u001b[32mInt\u001b[39m = \u001b[32m3\u001b[39m\n",
       "\u001b[36mres52_3\u001b[39m: \u001b[32mInt\u001b[39m = \u001b[32m1000\u001b[39m"
      ]
     },
     "execution_count": 53,
     "metadata": {},
     "output_type": "execute_result"
    }
   ],
   "source": [
    "val t: MyTree[Int] = generateTree(2000)\n",
    "def sum(x:Int, y:Int) = x + y\n",
    "time(sum(1,2))\n",
    "time(sumN((x:Int) => x)(1, t))"
   ]
  },
  {
   "cell_type": "code",
   "execution_count": null,
   "metadata": {},
   "outputs": [],
   "source": []
  }
 ],
 "metadata": {
  "kernelspec": {
   "display_name": "Scala",
   "language": "scala",
   "name": "scala"
  },
  "language_info": {
   "codemirror_mode": "text/x-scala",
   "file_extension": ".sc",
   "mimetype": "text/x-scala",
   "name": "scala",
   "nbconvert_exporter": "script",
   "version": "2.13.3"
  }
 },
 "nbformat": 4,
 "nbformat_minor": 4
}
