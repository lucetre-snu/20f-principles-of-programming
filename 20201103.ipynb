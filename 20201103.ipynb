{
 "cells": [
  {
   "cell_type": "markdown",
   "metadata": {},
   "source": [
    "#### TODO\n",
    "* ==, ++\n",
    "* variable length argument\n",
    "* hasElement -> assign over inheritance"
   ]
  },
  {
   "cell_type": "code",
   "execution_count": 1,
   "metadata": {},
   "outputs": [
    {
     "data": {
      "text/plain": [
       "\u001b[36mres0_0\u001b[39m: \u001b[32mList\u001b[39m[\u001b[32mInt\u001b[39m] = \u001b[33mList\u001b[39m(\u001b[32m1\u001b[39m, \u001b[32m2\u001b[39m, \u001b[32m3\u001b[39m, \u001b[32m4\u001b[39m)\n",
       "\u001b[36mres0_1\u001b[39m: \u001b[32mList\u001b[39m[\u001b[32mInt\u001b[39m] = \u001b[33mList\u001b[39m(\u001b[32m1\u001b[39m, \u001b[32m2\u001b[39m, \u001b[32m3\u001b[39m, \u001b[32m4\u001b[39m)\n",
       "\u001b[36mx\u001b[39m: \u001b[32mList\u001b[39m[\u001b[32mInt\u001b[39m] = \u001b[33mList\u001b[39m(\u001b[32m1\u001b[39m, \u001b[32m2\u001b[39m, \u001b[32m3\u001b[39m)\n",
       "\u001b[36my\u001b[39m: \u001b[32mList\u001b[39m[\u001b[32mInt\u001b[39m] = \u001b[33mList\u001b[39m(\u001b[32m4\u001b[39m, \u001b[32m5\u001b[39m)\n",
       "\u001b[36mres0_4\u001b[39m: \u001b[32mList\u001b[39m[\u001b[32mInt\u001b[39m] = \u001b[33mList\u001b[39m(\u001b[32m1\u001b[39m, \u001b[32m2\u001b[39m, \u001b[32m3\u001b[39m, \u001b[32m4\u001b[39m, \u001b[32m5\u001b[39m)"
      ]
     },
     "execution_count": 1,
     "metadata": {},
     "output_type": "execute_result"
    }
   ],
   "source": [
    "List(1,2,3,4)\n",
    "1::2::3::4::Nil\n",
    "\n",
    "val x = 1::2::3::Nil\n",
    "val y = 4::5::Nil\n",
    "x ++ y"
   ]
  },
  {
   "cell_type": "markdown",
   "metadata": {},
   "source": [
    "### List Syntax\n",
    "* `List(elements)`: list constructor\n",
    "* `++`: list append, same as `.++()`\n",
    "* `::`: value append, same as `.::()`"
   ]
  },
  {
   "cell_type": "code",
   "execution_count": 4,
   "metadata": {},
   "outputs": [
    {
     "data": {
      "text/plain": [
       "defined \u001b[32mclass\u001b[39m \u001b[36mIter\u001b[39m\n",
       "defined \u001b[32mclass\u001b[39m \u001b[36mMyList\u001b[39m\n",
       "defined \u001b[32mclass\u001b[39m \u001b[36mMyNil\u001b[39m\n",
       "defined \u001b[32mclass\u001b[39m \u001b[36mMyCons\u001b[39m\n",
       "defined \u001b[32mobject\u001b[39m \u001b[36mMyList\u001b[39m\n",
       "\u001b[36mx\u001b[39m: \u001b[32mMyCons\u001b[39m[\u001b[32mInt\u001b[39m] = \u001b[33mMyCons\u001b[39m(\u001b[32m2\u001b[39m, \u001b[33mMyCons\u001b[39m(\u001b[32m3\u001b[39m, MyNil()))\n",
       "\u001b[36my\u001b[39m: \u001b[32mMyCons\u001b[39m[\u001b[32mInt\u001b[39m] = \u001b[33mMyCons\u001b[39m(\u001b[32m2\u001b[39m, \u001b[33mMyCons\u001b[39m(\u001b[32m3\u001b[39m, MyNil()))\n",
       "\u001b[36mres3_7\u001b[39m: \u001b[32mMyList\u001b[39m[\u001b[32mInt\u001b[39m] = \u001b[33mMyCons\u001b[39m(\u001b[32m1\u001b[39m, \u001b[33mMyCons\u001b[39m(\u001b[32m2\u001b[39m, MyNil()))\n",
       "\u001b[36mres3_8\u001b[39m: \u001b[32mMyList\u001b[39m[\u001b[32mInt\u001b[39m] = \u001b[33mMyCons\u001b[39m(\u001b[32m1\u001b[39m, MyNil())\n",
       "\u001b[36mres3_9\u001b[39m: \u001b[32mMyList\u001b[39m[\u001b[32mInt\u001b[39m] = \u001b[33mMyCons\u001b[39m(\u001b[32m2\u001b[39m, \u001b[33mMyCons\u001b[39m(\u001b[32m3\u001b[39m, \u001b[33mMyCons\u001b[39m(\u001b[32m2\u001b[39m, \u001b[33mMyCons\u001b[39m(\u001b[32m3\u001b[39m, MyNil()))))"
      ]
     },
     "execution_count": 4,
     "metadata": {},
     "output_type": "execute_result"
    }
   ],
   "source": [
    "abstract class Iter[A] {\n",
    "    def getValue: Option[A]\n",
    "    def getNext: Iter[A]\n",
    "}\n",
    "sealed abstract class MyList[A] extends Iter[A] {\n",
    "    def ++(lst: MyList[A]): MyList[A]\n",
    "}\n",
    "case class MyNil[A]() extends MyList[A] {\n",
    "    def getValue = None\n",
    "    def getNext = throw new Exception(\"...\")\n",
    "    def ++(lst: MyList[A]) = lst\n",
    "}\n",
    "case class MyCons[A](hd: A, tl: MyList[A]) extends MyList[A] {\n",
    "    def getValue = Some(hd)\n",
    "    def getNext = tl\n",
    "    def ++(lst: MyList[A]) = MyCons(hd, tl++lst)\n",
    "}\n",
    "object MyList {\n",
    "    def ::[A](v1: A, v2: A): MyList[A] = MyCons(v1, MyCons(v2, MyNil()))\n",
    "    def ::[A](v: A, lst: MyList[A]): MyList[A] = MyCons(v, lst)\n",
    "    def ++[A](lst1: MyList[A], lst2: MyList[A]): MyList[A] = lst1++lst2\n",
    "}\n",
    "val x = MyCons(2, MyCons(3, MyNil()))\n",
    "val y = MyCons(2, MyCons(3, MyNil()))\n",
    "MyList.::(1, 2)\n",
    "MyList.::(1, MyNil[Int]())\n",
    "MyList.++(x, y)"
   ]
  },
  {
   "cell_type": "code",
   "execution_count": 6,
   "metadata": {},
   "outputs": [
    {
     "data": {
      "text/plain": [
       "defined \u001b[32mclass\u001b[39m \u001b[36mIterable\u001b[39m\n",
       "defined \u001b[32mclass\u001b[39m \u001b[36mMyList\u001b[39m\n",
       "defined \u001b[32mclass\u001b[39m \u001b[36mMyNil\u001b[39m\n",
       "defined \u001b[32mclass\u001b[39m \u001b[36mMyCons\u001b[39m"
      ]
     },
     "execution_count": 6,
     "metadata": {},
     "output_type": "execute_result"
    }
   ],
   "source": [
    "abstract class Iterable[A] {\n",
    "    type iter_t\n",
    "    def iter: iter_t\n",
    "    def getValue(i: iter_t): Option[A]\n",
    "    def getNext(i: iter_t): iter_t\n",
    "}\n",
    "sealed abstract class MyList[A] extends Iterable[A] {\n",
    "    type iter_t = List[A]\n",
    "    def getValue(i: List[A]): Option[A] = i.headOption\n",
    "    def getNext(i: List[A]): List[A] = i.tail\n",
    "}\n",
    "case class MyNil[A]() extends MyList[A] {\n",
    "    def iter = Nil\n",
    "}\n",
    "case class MyCons[A](hd: A, tl: List[A]) extends MyList[A] {\n",
    "    def iter = hd :: tl\n",
    "}"
   ]
  }
 ],
 "metadata": {
  "kernelspec": {
   "display_name": "Scala",
   "language": "scala",
   "name": "scala"
  },
  "language_info": {
   "codemirror_mode": "text/x-scala",
   "file_extension": ".sc",
   "mimetype": "text/x-scala",
   "name": "scala",
   "nbconvert_exporter": "script",
   "version": "2.13.3"
  }
 },
 "nbformat": 4,
 "nbformat_minor": 4
}
