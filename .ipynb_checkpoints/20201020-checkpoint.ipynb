{
 "cells": [
  {
   "cell_type": "code",
   "execution_count": 2,
   "metadata": {},
   "outputs": [
    {
     "data": {
      "text/plain": [
       "defined \u001b[32mclass\u001b[39m \u001b[36mMyList\u001b[39m\n",
       "defined \u001b[32mclass\u001b[39m \u001b[36mMyNil\u001b[39m\n",
       "defined \u001b[32mclass\u001b[39m \u001b[36mMyCons\u001b[39m\n",
       "\u001b[36mt\u001b[39m: \u001b[32mMyList\u001b[39m[\u001b[32mInt\u001b[39m] = ammonite.$sess.cmd1$Helper$MyCons@58a07d06\n",
       "defined \u001b[32mfunction\u001b[39m \u001b[36mlength\u001b[39m"
      ]
     },
     "execution_count": 2,
     "metadata": {},
     "output_type": "execute_result"
    }
   ],
   "source": [
    "// cannot use\n",
    "class MyList[A]()\n",
    "class MyNil[A]() extends MyList[A]\n",
    "class MyCons[A](val hd: A, val tl: MyList[A]) extends MyList[A]\n",
    "\n",
    "val t: MyList[Int] = new MyCons(3, new MyCons(4, new MyNil()))\n",
    "\n",
    "def length[A](l: MyList[A]) = {\n",
    "/// ???    \n",
    "}"
   ]
  },
  {
   "cell_type": "code",
   "execution_count": 69,
   "metadata": {},
   "outputs": [
    {
     "data": {
      "text/plain": [
       "defined \u001b[32mclass\u001b[39m \u001b[36mMyList\u001b[39m\n",
       "defined \u001b[32mclass\u001b[39m \u001b[36mMyNil\u001b[39m\n",
       "defined \u001b[32mclass\u001b[39m \u001b[36mMyCons\u001b[39m\n",
       "defined \u001b[32mfunction\u001b[39m \u001b[36mlength\u001b[39m\n",
       "\u001b[36mt\u001b[39m: \u001b[32mMyList\u001b[39m[\u001b[32mInt\u001b[39m] = \u001b[33mMyCons\u001b[39m(\u001b[32m3\u001b[39m, \u001b[33mMyCons\u001b[39m(\u001b[32m4\u001b[39m, MyNil()))\n",
       "\u001b[36mres68_5\u001b[39m: \u001b[32mInt\u001b[39m = \u001b[32m2\u001b[39m"
      ]
     },
     "execution_count": 69,
     "metadata": {},
     "output_type": "execute_result"
    }
   ],
   "source": [
    "class MyList[A]()\n",
    "case class MyNil[A]() extends MyList[A]\n",
    "case class MyCons[A](hd: A, tl: MyList[A]) extends MyList[A]\n",
    "\n",
    "def length(x: MyList[Int]): Int =\n",
    "    x match {\n",
    "        case MyNil() => 0\n",
    "        case MyCons(hd, tl) => 1 + length(tl)\n",
    "    }\n",
    "\n",
    "val t: MyList[Int] = MyCons(3, MyCons(4, MyNil()))\n",
    "length(t)"
   ]
  },
  {
   "cell_type": "markdown",
   "metadata": {},
   "source": [
    "#### sealed class"
   ]
  },
  {
   "cell_type": "code",
   "execution_count": 70,
   "metadata": {},
   "outputs": [
    {
     "data": {
      "text/plain": [
       "defined \u001b[32mclass\u001b[39m \u001b[36mMyList\u001b[39m\n",
       "defined \u001b[32mclass\u001b[39m \u001b[36mMyNil\u001b[39m\n",
       "defined \u001b[32mclass\u001b[39m \u001b[36mMyCons\u001b[39m\n",
       "defined \u001b[32mfunction\u001b[39m \u001b[36mlength\u001b[39m\n",
       "\u001b[36mt\u001b[39m: \u001b[32mMyList\u001b[39m[\u001b[32mInt\u001b[39m] = \u001b[33mMyCons\u001b[39m(\u001b[32m3\u001b[39m, \u001b[33mMyCons\u001b[39m(\u001b[32m4\u001b[39m, MyNil()))\n",
       "\u001b[36mres69_5\u001b[39m: \u001b[32mInt\u001b[39m = \u001b[32m2\u001b[39m"
      ]
     },
     "execution_count": 70,
     "metadata": {},
     "output_type": "execute_result"
    }
   ],
   "source": [
    "// `sealed` for match case coverage\n",
    "sealed class MyList[A]()\n",
    "case class MyNil[A]() extends MyList[A]\n",
    "case class MyCons[A](hd: A, tl: MyList[A]) extends MyList[A]\n",
    "\n",
    "def length(x: MyList[Int]): Int =\n",
    "    x match {\n",
    "        case MyNil() => 0\n",
    "        case MyCons(hd, tl) => 1 + length(tl)\n",
    "    }\n",
    "\n",
    "val t: MyList[Int] = MyCons(3, MyCons(4, MyNil()))\n",
    "length(t)"
   ]
  }
 ],
 "metadata": {
  "kernelspec": {
   "display_name": "Scala",
   "language": "scala",
   "name": "scala"
  },
  "language_info": {
   "codemirror_mode": "text/x-scala",
   "file_extension": ".sc",
   "mimetype": "text/x-scala",
   "name": "scala",
   "nbconvert_exporter": "script",
   "version": "2.13.3"
  }
 },
 "nbformat": 4,
 "nbformat_minor": 4
}
