{
 "cells": [
  {
   "cell_type": "markdown",
   "metadata": {},
   "source": [
    "### Higher kind type"
   ]
  },
  {
   "cell_type": "markdown",
   "metadata": {},
   "source": [
    "* `List[Int]`가 아니라 `List`에 대한 Interface를 구축하려면?\n",
    "  * Not `Iter[List[Int]]`, but `Iter[List]`"
   ]
  },
  {
   "cell_type": "code",
   "execution_count": 3,
   "metadata": {},
   "outputs": [
    {
     "data": {
      "text/plain": [
       "defined \u001b[32mclass\u001b[39m \u001b[36mIter\u001b[39m\n",
       "defined \u001b[32mclass\u001b[39m \u001b[36mIterable\u001b[39m"
      ]
     },
     "execution_count": 3,
     "metadata": {},
     "output_type": "execute_result"
    }
   ],
   "source": [
    "// Int: *\n",
    "// List[_]: * -> *\n",
    "// List[Int]: *\n",
    "\n",
    "abstract class Iter[I[_]] {\n",
    "    def getValue[A](a: I[A]): Option[A]\n",
    "    def getNext[A](a: I[A]): I[A]\n",
    "}\n",
    "\n",
    "abstract class Iterable[R[_]] {\n",
    "    type Itr[_]\n",
    "    def iter[A](a: R[A]): Itr[A]\n",
    "    def iterIF: Iter[Itr]\n",
    "}"
   ]
  },
  {
   "cell_type": "code",
   "execution_count": null,
   "metadata": {},
   "outputs": [],
   "source": []
  }
 ],
 "metadata": {
  "kernelspec": {
   "display_name": "Scala",
   "language": "scala",
   "name": "scala"
  },
  "language_info": {
   "codemirror_mode": "text/x-scala",
   "file_extension": ".sc",
   "mimetype": "text/x-scala",
   "name": "scala",
   "nbconvert_exporter": "script",
   "version": "2.13.3"
  }
 },
 "nbformat": 4,
 "nbformat_minor": 4
}
