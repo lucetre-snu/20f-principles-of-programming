{
 "cells": [
  {
   "cell_type": "markdown",
   "metadata": {},
   "source": [
    "### Dict example using trait\n",
    "* Weakness of ***OOP***\n",
    "  * same data, but requires new data type for each different functionality"
   ]
  },
  {
   "cell_type": "code",
   "execution_count": 19,
   "metadata": {},
   "outputs": [
    {
     "data": {
      "text/plain": [
       "\u001b[32mimport \u001b[39m\u001b[36mscala.annotation.tailrec\n",
       "\u001b[39m\n",
       "defined \u001b[32mtrait\u001b[39m \u001b[36mIter\u001b[39m\n",
       "defined \u001b[32mtrait\u001b[39m \u001b[36mDict\u001b[39m\n",
       "defined \u001b[32mclass\u001b[39m \u001b[36mListIterDict\u001b[39m\n",
       "defined \u001b[32mfunction\u001b[39m \u001b[36msumElements\u001b[39m"
      ]
     },
     "execution_count": 19,
     "metadata": {},
     "output_type": "execute_result"
    }
   ],
   "source": [
    "import scala.annotation.tailrec\n",
    "trait Iter[A] {\n",
    "    def getValue: Option[A]\n",
    "    def getNext: Iter[A]\n",
    "}\n",
    "trait Dict[K, V] {\n",
    "    def add(k: K, v: V): Dict[K ,V]\n",
    "    def find(k: K): Option[V]\n",
    "}\n",
    "// java style interface\n",
    "class ListIterDict[K, V](eq: (K, K)=>Boolean, list: List[(K, V)])\n",
    "    extends Iter[(K, V)] with Dict[K, V] {\n",
    "    def getValue = list.headOption\n",
    "    def getNext = new ListIterDict(eq, list.tail)\n",
    "    \n",
    "    def add(k: K, v: V) = new ListIterDict(eq, (k, v) :: list)\n",
    "    def find(k: K) = {\n",
    "        @tailrec\n",
    "        def findIter(l: List[(K, V)]): Option[V] ={\n",
    "            l match {\n",
    "                case Nil => None\n",
    "                case (key, v) :: tl if eq(key, k) => Some(v)\n",
    "                case _ :: tl => findIter(tl)\n",
    "            }\n",
    "        }\n",
    "        findIter(list)\n",
    "    }\n",
    "    def printDict = {\n",
    "        @tailrec\n",
    "        def printDictIter(l: List[(K, V)]): Option[V] ={\n",
    "            l match {\n",
    "                case Nil => None\n",
    "                case kv :: tl => {\n",
    "                    print(kv)\n",
    "                    printDictIter(tl)\n",
    "                }\n",
    "            }\n",
    "        }\n",
    "        printDictIter(list)\n",
    "    }\n",
    "}\n",
    "\n",
    "def sumElements[A](f: A=>Int)(xs: Iter[A]): Int = {\n",
    "    xs.getValue match {\n",
    "        case None => 0\n",
    "        case Some(n) => f(n) + sumElements(f)(xs.getNext)\n",
    "    }\n",
    "}"
   ]
  },
  {
   "cell_type": "code",
   "execution_count": 22,
   "metadata": {},
   "outputs": [
    {
     "name": "stdout",
     "output_type": "stream",
     "text": [
      "(3,three)(1,one)(2,two)(3,tree)(4,four)"
     ]
    },
    {
     "data": {
      "text/plain": [
       "\u001b[36mmyDict\u001b[39m: \u001b[32mListIterDict\u001b[39m[\u001b[32mInt\u001b[39m, \u001b[32mString\u001b[39m] = ammonite.$sess.cmd18$Helper$ListIterDict@67cf8484\n",
       "\u001b[36mnewDict\u001b[39m: \u001b[32mListIterDict\u001b[39m[\u001b[32mInt\u001b[39m, \u001b[32mString\u001b[39m] = ammonite.$sess.cmd18$Helper$ListIterDict@4b5fdff5\n",
       "\u001b[36mres21_2\u001b[39m: \u001b[32mOption\u001b[39m[\u001b[32mString\u001b[39m] = \u001b[32mNone\u001b[39m\n",
       "\u001b[36mres21_3\u001b[39m: \u001b[32mOption\u001b[39m[\u001b[32mString\u001b[39m] = \u001b[33mSome\u001b[39m(\u001b[32m\"three\"\u001b[39m)\n",
       "\u001b[36mres21_4\u001b[39m: \u001b[32mInt\u001b[39m = \u001b[32m13\u001b[39m"
      ]
     },
     "execution_count": 22,
     "metadata": {},
     "output_type": "execute_result"
    }
   ],
   "source": [
    "val myDict = new ListIterDict[Int, String]((x,y)=>x==y, Nil)\n",
    "val newDict = myDict.add(4, \"four\").add(3, \"tree\").add(2, \"two\").add(1, \"one\").add(3, \"three\")\n",
    "newDict.printDict\n",
    "newDict.find(3)\n",
    "sumElements[(Int, String)](x=>x._1)(newDict)"
   ]
  },
  {
   "cell_type": "markdown",
   "metadata": {},
   "source": [
    "### Mixin with Traits"
   ]
  },
  {
   "cell_type": "code",
   "execution_count": 33,
   "metadata": {},
   "outputs": [
    {
     "data": {
      "text/plain": [
       "defined \u001b[32mclass\u001b[39m \u001b[36mIter\u001b[39m\n",
       "defined \u001b[32mclass\u001b[39m \u001b[36mListIter\u001b[39m"
      ]
     },
     "execution_count": 33,
     "metadata": {},
     "output_type": "execute_result"
    }
   ],
   "source": [
    "abstract class Iter[A] {\n",
    "    def getValue: Option[A]\n",
    "    def getNext: Iter[A]\n",
    "}\n",
    "class ListIter[A](list: List[A]) extends Iter[A] {\n",
    "    def getValue = list.headOption\n",
    "    def getNext: Iter[A] = new ListIter(list.tail)\n",
    "}"
   ]
  },
  {
   "cell_type": "code",
   "execution_count": 36,
   "metadata": {},
   "outputs": [
    {
     "data": {
      "text/plain": [
       "defined \u001b[32mtrait\u001b[39m \u001b[36mMRIter\u001b[39m"
      ]
     },
     "execution_count": 36,
     "metadata": {},
     "output_type": "execute_result"
    }
   ],
   "source": [
    "trait MRIter[A] extends Iter[A] {\n",
    "    // if not? error\n",
    "    override def getNext: MRIter[A]\n",
    "    def mapReduce[B,C](combine: (B,C)=>C, ival: C, f: A=>B): C = {\n",
    "        getValue match {\n",
    "            case None => ival\n",
    "            case Some(v) => combine(f(v), getNext.mapReduce(combine, ival, f))\n",
    "        }\n",
    "    }\n",
    "}"
   ]
  },
  {
   "cell_type": "code",
   "execution_count": 34,
   "metadata": {},
   "outputs": [
    {
     "name": "stderr",
     "output_type": "stream",
     "text": [
      "cmd34.sc:1: incompatible type in overriding\n",
      "override def getNext: cmd34.this.cmd33.MRIter[A] (defined in trait MRIter)\n",
      "  with def getNext: cmd34.this.cmd32.Iter[A] (defined in class ListIter);\n",
      " found   : cmd34.this.cmd32.Iter[A]\n",
      " required: cmd34.this.cmd33.MRIter[A]\n",
      "class MRListIter[A](list: List[A]) extends ListIter[A](list) with MRIter[A]\n",
      "      ^Compilation Failed"
     ]
    },
    {
     "ename": "",
     "evalue": "",
     "output_type": "error",
     "traceback": [
      "Compilation Failed"
     ]
    }
   ],
   "source": [
    "class MRListIter[A](list: List[A]) extends ListIter[A](list) with MRIter[A]"
   ]
  },
  {
   "cell_type": "markdown",
   "metadata": {},
   "source": [
    "#### Solution 1 (worst)"
   ]
  },
  {
   "cell_type": "code",
   "execution_count": 39,
   "metadata": {},
   "outputs": [
    {
     "data": {
      "text/plain": [
       "defined \u001b[32mclass\u001b[39m \u001b[36mMRListIter\u001b[39m"
      ]
     },
     "execution_count": 39,
     "metadata": {},
     "output_type": "execute_result"
    }
   ],
   "source": [
    "class MRListIter[A](list: List[A]) extends ListIter[A](list) with MRIter[A] {\n",
    "    override def getNext = new MRListIter(list.tail)\n",
    "}"
   ]
  },
  {
   "cell_type": "markdown",
   "metadata": {},
   "source": [
    "#### Solution 2"
   ]
  },
  {
   "cell_type": "code",
   "execution_count": 44,
   "metadata": {},
   "outputs": [
    {
     "data": {
      "text/plain": [
       "defined \u001b[32mclass\u001b[39m \u001b[36mListIter\u001b[39m\n",
       "defined \u001b[32mclass\u001b[39m \u001b[36mMRListIter\u001b[39m"
      ]
     },
     "execution_count": 44,
     "metadata": {},
     "output_type": "execute_result"
    }
   ],
   "source": [
    "class ListIter[A](val list: List[A]) extends Iter[A] {\n",
    "    def getValue = list.headOption\n",
    "    def getNext: ListIter[A] = new ListIter(list.tail)\n",
    "}\n",
    "class MRListIter[A](list: List[A]) extends ListIter[A](list) with MRIter[A] {\n",
    "    override def getNext = new MRListIter(super.getNext.list)\n",
    "}"
   ]
  },
  {
   "cell_type": "markdown",
   "metadata": {},
   "source": [
    "#### Solution 3"
   ]
  },
  {
   "cell_type": "code",
   "execution_count": 47,
   "metadata": {},
   "outputs": [
    {
     "data": {
      "text/plain": [
       "defined \u001b[32mtrait\u001b[39m \u001b[36mMRIter\u001b[39m\n",
       "defined \u001b[32mclass\u001b[39m \u001b[36mMRListIter\u001b[39m"
      ]
     },
     "execution_count": 47,
     "metadata": {},
     "output_type": "execute_result"
    }
   ],
   "source": [
    "trait MRIter[A] extends Iter[A] {\n",
    "    def mapReduce[B,C](combine: (B,C)=>C, ival: C, f: A=>B): C = {\n",
    "        def mapReduceIter(xs: Iter[A]): C = {\n",
    "            xs.getValue match {\n",
    "                case None => ival\n",
    "                case Some(v) => combine(f(v), mapReduceIter(xs.getNext))\n",
    "            }\n",
    "        }\n",
    "        mapReduceIter(this)\n",
    "    }\n",
    "}\n",
    "class MRListIter[A](list: List[A]) extends ListIter[A](list) with MRIter[A]"
   ]
  },
  {
   "cell_type": "code",
   "execution_count": 57,
   "metadata": {},
   "outputs": [
    {
     "data": {
      "text/plain": [
       "\u001b[36mmr1\u001b[39m: \u001b[32mMRListIter\u001b[39m[\u001b[32mInt\u001b[39m] = ammonite.$sess.cmd46$Helper$MRListIter@508a303c\n",
       "\u001b[36mres56_1\u001b[39m: \u001b[32mInt\u001b[39m = \u001b[32m50\u001b[39m\n",
       "\u001b[36mmr2\u001b[39m: \u001b[32mListIter\u001b[39m[\u001b[32mInt\u001b[39m] with \u001b[32mMRIter\u001b[39m[\u001b[32mInt\u001b[39m] = ammonite.$sess.cmd56$Helper$$anon$1@63096b5b\n",
       "\u001b[36mres56_3\u001b[39m: \u001b[32mInt\u001b[39m = \u001b[32m50\u001b[39m"
      ]
     },
     "execution_count": 57,
     "metadata": {},
     "output_type": "execute_result"
    }
   ],
   "source": [
    "val mr1 = new MRListIter[Int](List(3,4,5))\n",
    "mr1.mapReduce[Int,Int]((b,c)=>b+c,0,(a)=>a*a)\n",
    "\n",
    "// syntactic sugar\n",
    "// what is type of mr2? intersection type\n",
    "val mr2 = new ListIter[Int](List(3,4,5)) with MRIter[Int]\n",
    "mr2.mapReduce[Int,Int]((b,c)=>b+c,0,(a)=>a*a)"
   ]
  }
 ],
 "metadata": {
  "kernelspec": {
   "display_name": "Scala",
   "language": "scala",
   "name": "scala"
  },
  "language_info": {
   "codemirror_mode": "text/x-scala",
   "file_extension": ".sc",
   "mimetype": "text/x-scala",
   "name": "scala",
   "nbconvert_exporter": "script",
   "version": "2.13.3"
  }
 },
 "nbformat": 4,
 "nbformat_minor": 4
}
