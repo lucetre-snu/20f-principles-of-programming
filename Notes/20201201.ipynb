{
 "cells": [
  {
   "cell_type": "markdown",
   "metadata": {},
   "source": [
    "### Higher kind type"
   ]
  },
  {
   "cell_type": "markdown",
   "metadata": {},
   "source": [
    "* `List[Int]`가 아니라 `List`에 대한 Interface를 구축하려면?\n",
    "  * Not `Iter[List[Int]]`, but `Iter[List]`"
   ]
  },
  {
   "cell_type": "code",
   "execution_count": 2,
   "metadata": {},
   "outputs": [
    {
     "data": {
      "text/plain": [
       "defined \u001b[32mclass\u001b[39m \u001b[36mIter\u001b[39m\n",
       "defined \u001b[32mclass\u001b[39m \u001b[36mIterable\u001b[39m"
      ]
     },
     "execution_count": 2,
     "metadata": {},
     "output_type": "execute_result"
    }
   ],
   "source": [
    "// Int: *\n",
    "// List[_]: * -> *\n",
    "// List[Int]: *\n",
    "\n",
    "abstract class Iter[I[_]] {\n",
    "    def getValue[A](a: I[A]): Option[A]\n",
    "    def getNext[A](a: I[A]): I[A]\n",
    "}\n",
    "\n",
    "abstract class Iterable[R[_]] {\n",
    "    type Itr[_]\n",
    "    def iter[A](a: R[A]): Itr[A]\n",
    "    def iterIF: Iter[Itr]\n",
    "}"
   ]
  },
  {
   "cell_type": "markdown",
   "metadata": {},
   "source": [
    "#### *Q: What is the sort (type) of Iter?*\n",
    "* `3`: `Int`\n",
    "* `Int`: `*`\n",
    "* `List`: `*->*`\n",
    "* `Iter`: `(*->*)->*_`"
   ]
  },
  {
   "cell_type": "code",
   "execution_count": 3,
   "metadata": {},
   "outputs": [
    {
     "data": {
      "text/plain": [
       "defined \u001b[32mfunction\u001b[39m \u001b[36msumElements\u001b[39m\n",
       "defined \u001b[32mfunction\u001b[39m \u001b[36mprintElements\u001b[39m"
      ]
     },
     "execution_count": 3,
     "metadata": {},
     "output_type": "execute_result"
    }
   ],
   "source": [
    "def sumElements[I[_]](xs: I[Int])(implicit IT: Iter[I]): Int = {\n",
    "    IT.getValue(xs) match {\n",
    "        case None => 0\n",
    "        case Some(n) => n + sumElements(IT.getNext(xs))\n",
    "    }\n",
    "}\n",
    "\n",
    "def printElements[I[_],A](xs: I[A])(implicit IT: Iter[I]): Any = {\n",
    "    IT.getValue(xs) match {\n",
    "        case None => 0\n",
    "        case Some(a) => {\n",
    "            println(a)\n",
    "            printElements(IT.getNext(xs))\n",
    "        }\n",
    "    }\n",
    "}"
   ]
  },
  {
   "cell_type": "code",
   "execution_count": 4,
   "metadata": {},
   "outputs": [
    {
     "data": {
      "text/plain": [
       "defined \u001b[32mfunction\u001b[39m \u001b[36msumElements2\u001b[39m\n",
       "defined \u001b[32mfunction\u001b[39m \u001b[36mprintElements2\u001b[39m"
      ]
     },
     "execution_count": 4,
     "metadata": {},
     "output_type": "execute_result"
    }
   ],
   "source": [
    "def sumElements2[R[_]](xs: R[Int])(implicit ITR: Iterable[R]) = {\n",
    "    sumElements(ITR.iter(xs))(ITR.iterIF)\n",
    "}\n",
    "def printElements2[R[_],A](xs: R[A])(implicit ITR: Iterable[R]) = {\n",
    "    printElements(ITR.iter(xs))(ITR.iterIF)\n",
    "}"
   ]
  },
  {
   "cell_type": "code",
   "execution_count": 29,
   "metadata": {},
   "outputs": [
    {
     "data": {
      "text/plain": [
       "defined \u001b[32mtrait\u001b[39m \u001b[36mListIF\u001b[39m\n",
       "defined \u001b[32mtrait\u001b[39m \u001b[36mTreeIF\u001b[39m"
      ]
     },
     "execution_count": 29,
     "metadata": {},
     "output_type": "execute_result"
    }
   ],
   "source": [
    "trait ListIF[L[_]] {\n",
    "    def empty[A]: L[A]\n",
    "    def head[A](l: L[A]): Option[A]\n",
    "    def tail[A](l: L[A]): L[A]\n",
    "    def cons[A](a: A, l: L[A]): L[A]\n",
    "    def append[A](l1: L[A], l2: L[A]): L[A]\n",
    "}\n",
    "trait TreeIF[T[_]] {\n",
    "    def empty[A]: T[A]\n",
    "    def node[A](a: A, l: T[A], r: T[A]): T[A]\n",
    "    def head[A](t: T[A]): Option[A]\n",
    "    def left[A](t: T[A]): T[A]\n",
    "    def right[A](r: T[A]): T[A]\n",
    "}"
   ]
  },
  {
   "cell_type": "code",
   "execution_count": 12,
   "metadata": {},
   "outputs": [
    {
     "data": {
      "text/plain": [
       "defined \u001b[32mfunction\u001b[39m \u001b[36mtestList\u001b[39m\n",
       "defined \u001b[32mfunction\u001b[39m \u001b[36mtestTree\u001b[39m"
      ]
     },
     "execution_count": 12,
     "metadata": {},
     "output_type": "execute_result"
    }
   ],
   "source": [
    "def testList[L[_]](implicit LI: ListIF[L], IT: Iter[L]) {\n",
    "    val l = LI.cons(3, LI.cons(5, LI.cons(2, LI.cons(1, LI.empty))))\n",
    "//     println(sumElements[L](l)(IT))\n",
    "//     printElements[L,Int](l)(IT)\n",
    "    println(sumElements(l))\n",
    "    printElements(l)\n",
    "}\n",
    "def testTree[T[_]](implicit TI: TreeIF[T], ITR: Iterable[T]) {\n",
    "    val t = TI.node(3, TI.node(4, TI.empty, TI.empty), TI.node(2, TI.empty, TI.empty))\n",
    "//     println(sumElements2[T](t)(ITR))\n",
    "//     printElements2[T,Int](t)(ITR)\n",
    "    println(sumElements2(t))\n",
    "    printElements2(t)\n",
    "}"
   ]
  },
  {
   "cell_type": "code",
   "execution_count": 13,
   "metadata": {},
   "outputs": [
    {
     "data": {
      "text/plain": [
       "defined \u001b[32mfunction\u001b[39m \u001b[36mlistIter\u001b[39m\n",
       "defined \u001b[32mfunction\u001b[39m \u001b[36mlistIF\u001b[39m"
      ]
     },
     "execution_count": 13,
     "metadata": {},
     "output_type": "execute_result"
    }
   ],
   "source": [
    "implicit def listIter: Iter[List] = {\n",
    "    new Iter[List] {\n",
    "        def getValue[A](a: List[A]) = a.headOption\n",
    "        def getNext[A](a: List[A]) = a.tail\n",
    "    }\n",
    "}\n",
    "\n",
    "implicit def listIF: ListIF[List] = {\n",
    "    new ListIF[List] {\n",
    "        def empty[A]: List[A] = Nil\n",
    "        def head[A](l: List[A]) = l.headOption\n",
    "        def tail[A](l: List[A]) = l.tail\n",
    "        def cons[A](a: A, l: List[A]) = a :: l\n",
    "        def append[A](l1: List[A], l2: List[A]) = l1 ::: l2\n",
    "    }\n",
    "}"
   ]
  },
  {
   "cell_type": "code",
   "execution_count": 14,
   "metadata": {},
   "outputs": [
    {
     "data": {
      "text/plain": [
       "defined \u001b[32mclass\u001b[39m \u001b[36mMyTree\u001b[39m\n",
       "defined \u001b[32mclass\u001b[39m \u001b[36mEmpty\u001b[39m\n",
       "defined \u001b[32mclass\u001b[39m \u001b[36mNode\u001b[39m\n",
       "defined \u001b[32mfunction\u001b[39m \u001b[36mtreeIF\u001b[39m"
      ]
     },
     "execution_count": 14,
     "metadata": {},
     "output_type": "execute_result"
    }
   ],
   "source": [
    "sealed abstract class MyTree[A]\n",
    "case class Empty[A]() extends MyTree[A]\n",
    "case class Node[A](value: A, left: MyTree[A], right: MyTree[A]) extends MyTree[A]\n",
    "\n",
    "implicit def treeIF: TreeIF[MyTree] = {\n",
    "    new TreeIF[MyTree] {\n",
    "        def empty[A] = Empty()\n",
    "        def node[A](a: A, l: MyTree[A], r: MyTree[A]) = Node(a,l,r)\n",
    "        def head[A](t: MyTree[A]) = t match { \n",
    "            case Empty() => None\n",
    "            case Node(v,_,_) => Some(v)    \n",
    "        }\n",
    "        def left[A](t: MyTree[A]) = t match {\n",
    "            case Empty() => t\n",
    "            case Node(_,lt,_) => lt    \n",
    "        }\n",
    "        def right[A](t: MyTree[A]) = t match {\n",
    "            case Empty() => t\n",
    "            case Node(_,_,rt) => rt    \n",
    "        }  \n",
    "    }\n",
    "}"
   ]
  },
  {
   "cell_type": "code",
   "execution_count": 17,
   "metadata": {},
   "outputs": [
    {
     "data": {
      "text/plain": [
       "defined \u001b[32mfunction\u001b[39m \u001b[36mtreeIterable\u001b[39m"
      ]
     },
     "execution_count": 17,
     "metadata": {},
     "output_type": "execute_result"
    }
   ],
   "source": [
    "def treeIterable[L[_]](implicit IF: ListIF[L], IT: Iter[L]): Iterable[MyTree] = {\n",
    "    new Iterable[MyTree] {\n",
    "        // sort Itr = L\n",
    "        type Itr[X] = L[X]\n",
    "        def iter[A](a: MyTree[A]): L[A] = a match {\n",
    "            case Empty() => IF.empty\n",
    "            case Node(v, left, right) => IF.cons(v, IF.append(iter(left), iter(right)))    \n",
    "        }\n",
    "        val iterIF = IT\n",
    "    }\n",
    "}"
   ]
  },
  {
   "cell_type": "code",
   "execution_count": 24,
   "metadata": {},
   "outputs": [
    {
     "data": {
      "text/plain": [
       "\u001b[36mtreeIterableList\u001b[39m: \u001b[32mIterable\u001b[39m[\u001b[32mMyTree\u001b[39m] = ammonite.$sess.cmd16$Helper$$anon$1@28f5e6b3"
      ]
     },
     "execution_count": 24,
     "metadata": {},
     "output_type": "execute_result"
    }
   ],
   "source": [
    "implicit val treeIterableList: Iterable[MyTree] = treeIterable[List]"
   ]
  },
  {
   "cell_type": "code",
   "execution_count": 25,
   "metadata": {},
   "outputs": [
    {
     "name": "stdout",
     "output_type": "stream",
     "text": [
      "11\n",
      "3\n",
      "5\n",
      "2\n",
      "1\n"
     ]
    }
   ],
   "source": [
    "testList[List]"
   ]
  },
  {
   "cell_type": "code",
   "execution_count": 26,
   "metadata": {},
   "outputs": [
    {
     "name": "stdout",
     "output_type": "stream",
     "text": [
      "9\n",
      "3\n",
      "4\n",
      "2\n"
     ]
    }
   ],
   "source": [
    "testTree[MyTree]"
   ]
  },
  {
   "cell_type": "code",
   "execution_count": 27,
   "metadata": {},
   "outputs": [
    {
     "data": {
      "text/plain": [
       "\u001b[36mres26_0\u001b[39m: \u001b[32mIterable\u001b[39m[\u001b[32mMyTree\u001b[39m] = ammonite.$sess.cmd16$Helper$$anon$1@28f5e6b3\n",
       "\u001b[36mres26_1\u001b[39m: \u001b[32mIterable\u001b[39m[\u001b[32mMyTree\u001b[39m] = ammonite.$sess.cmd16$Helper$$anon$1@28f5e6b3"
      ]
     },
     "execution_count": 27,
     "metadata": {},
     "output_type": "execute_result"
    }
   ],
   "source": [
    "treeIterableList\n",
    "implicitly[Iterable[MyTree]]"
   ]
  },
  {
   "cell_type": "code",
   "execution_count": 28,
   "metadata": {},
   "outputs": [
    {
     "name": "stdout",
     "output_type": "stream",
     "text": [
      "3\n",
      "5\n",
      "2\n",
      "1\n"
     ]
    },
    {
     "data": {
      "text/plain": [
       "defined \u001b[32mfunction\u001b[39m \u001b[36miterIterable\u001b[39m\n",
       "\u001b[36ml\u001b[39m: \u001b[32mList\u001b[39m[\u001b[32mInt\u001b[39m] = \u001b[33mList\u001b[39m(\u001b[32m3\u001b[39m, \u001b[32m5\u001b[39m, \u001b[32m2\u001b[39m, \u001b[32m1\u001b[39m)\n",
       "\u001b[36mres27_2\u001b[39m: \u001b[32mInt\u001b[39m = \u001b[32m11\u001b[39m\n",
       "\u001b[36mres27_3\u001b[39m: \u001b[32mAny\u001b[39m = \u001b[32m0\u001b[39m"
      ]
     },
     "execution_count": 28,
     "metadata": {},
     "output_type": "execute_result"
    }
   ],
   "source": [
    "implicit def iterIterable[I[_]](implicit IT: Iter[I]): Iterable[I] = {\n",
    "    new Iterable[I] {\n",
    "        type Itr[A] = I[A]\n",
    "        def iter[A](a: I[A]): I[A] = a\n",
    "        def iterIF: Iter[I] = IT\n",
    "    }\n",
    "}\n",
    "val l= List(3,5,2,1)\n",
    "sumElements2(l)\n",
    "printElements2(l)"
   ]
  }
 ],
 "metadata": {
  "kernelspec": {
   "display_name": "Scala",
   "language": "scala",
   "name": "scala"
  },
  "language_info": {
   "codemirror_mode": "text/x-scala",
   "file_extension": ".sc",
   "mimetype": "text/x-scala",
   "name": "scala",
   "nbconvert_exporter": "script",
   "version": "2.13.3"
  }
 },
 "nbformat": 4,
 "nbformat_minor": 4
}
