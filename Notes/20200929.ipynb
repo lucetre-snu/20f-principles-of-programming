{
 "cells": [
  {
   "cell_type": "markdown",
   "metadata": {},
   "source": [
    "### Recursive ADT\n",
    "* `IList = INil` or `ICons of Int * IList` : Union Type\n",
    "  * Structural type in C doesn't support 'or' data types. (using null pointer)\n",
    "* ex) `ICons(1, ICons(2, ICons(3, INil())))`"
   ]
  },
  {
   "cell_type": "markdown",
   "metadata": {},
   "source": [
    "#### Attr"
   ]
  },
  {
   "cell_type": "code",
   "execution_count": 1,
   "metadata": {},
   "outputs": [
    {
     "data": {
      "text/plain": [
       "defined \u001b[32mclass\u001b[39m \u001b[36mAttr\u001b[39m\n",
       "defined \u001b[32mclass\u001b[39m \u001b[36mName\u001b[39m\n",
       "defined \u001b[32mclass\u001b[39m \u001b[36mAge\u001b[39m\n",
       "defined \u001b[32mclass\u001b[39m \u001b[36mDOB\u001b[39m\n",
       "defined \u001b[32mclass\u001b[39m \u001b[36mHeight\u001b[39m\n",
       "\u001b[36ma\u001b[39m: \u001b[32mAttr\u001b[39m = \u001b[33mName\u001b[39m(\u001b[32m\"Chulsoo Kim\"\u001b[39m)\n",
       "\u001b[36mb\u001b[39m: \u001b[32mAttr\u001b[39m = \u001b[33mDOB\u001b[39m(\u001b[32m2000\u001b[39m, \u001b[32m3\u001b[39m, \u001b[32m10\u001b[39m)"
      ]
     },
     "execution_count": 1,
     "metadata": {},
     "output_type": "execute_result"
    }
   ],
   "source": [
    "sealed abstract class Attr\n",
    "case class Name(name: String) extends Attr\n",
    "case class Age(age: Int) extends Attr\n",
    "case class DOB(year: Int, month: Int, day: Int) extends Attr\n",
    "case class Height(height: Double) extends Attr\n",
    "val a : Attr = Name(\"Chulsoo Kim\")\n",
    "val b : Attr = DOB(2000,3,10)"
   ]
  },
  {
   "cell_type": "markdown",
   "metadata": {},
   "source": [
    "#### IList"
   ]
  },
  {
   "cell_type": "code",
   "execution_count": 3,
   "metadata": {},
   "outputs": [
    {
     "data": {
      "text/plain": [
       "defined \u001b[32mclass\u001b[39m \u001b[36mIList\u001b[39m\n",
       "defined \u001b[32mclass\u001b[39m \u001b[36mINil\u001b[39m\n",
       "defined \u001b[32mclass\u001b[39m \u001b[36mICons\u001b[39m\n",
       "\u001b[36mx\u001b[39m: \u001b[32mIList\u001b[39m = \u001b[33mICons\u001b[39m(\u001b[32m2\u001b[39m, \u001b[33mICons\u001b[39m(\u001b[32m1\u001b[39m, INil()))"
      ]
     },
     "execution_count": 3,
     "metadata": {},
     "output_type": "execute_result"
    }
   ],
   "source": [
    "sealed abstract class IList\n",
    "case class INil() extends IList\n",
    "case class ICons(hd: Int, tl: IList) extends IList\n",
    "val x : IList = ICons(2, ICons(1, INil()))"
   ]
  },
  {
   "cell_type": "code",
   "execution_count": 5,
   "metadata": {},
   "outputs": [
    {
     "data": {
      "text/plain": [
       "defined \u001b[32mfunction\u001b[39m \u001b[36mgen\u001b[39m\n",
       "\u001b[36mres4_1\u001b[39m: \u001b[32mIList\u001b[39m = \u001b[33mICons\u001b[39m(\n",
       "  \u001b[32m100\u001b[39m,\n",
       "  \u001b[33mICons\u001b[39m(\n",
       "    \u001b[32m99\u001b[39m,\n",
       "    \u001b[33mICons\u001b[39m(\n",
       "      \u001b[32m98\u001b[39m,\n",
       "      \u001b[33mICons\u001b[39m(\n",
       "        \u001b[32m97\u001b[39m,\n",
       "        \u001b[33mICons\u001b[39m(\n",
       "          \u001b[32m96\u001b[39m,\n",
       "          \u001b[33mICons\u001b[39m(\n",
       "            \u001b[32m95\u001b[39m,\n",
       "            \u001b[33mICons\u001b[39m(\n",
       "              \u001b[32m94\u001b[39m,\n",
       "              \u001b[33mICons\u001b[39m(\n",
       "                \u001b[32m93\u001b[39m,\n",
       "                \u001b[33mICons\u001b[39m(\n",
       "                  \u001b[32m92\u001b[39m,\n",
       "                  \u001b[33mICons\u001b[39m(\n",
       "                    \u001b[32m91\u001b[39m,\n",
       "                    \u001b[33mICons\u001b[39m(\n",
       "                      \u001b[32m90\u001b[39m,\n",
       "                      \u001b[33mICons\u001b[39m(\n",
       "                        \u001b[32m89\u001b[39m,\n",
       "                        \u001b[33mICons\u001b[39m(\n",
       "                          \u001b[32m88\u001b[39m,\n",
       "                          \u001b[33mICons\u001b[39m(\n",
       "                            \u001b[32m87\u001b[39m,\n",
       "                            \u001b[33mICons\u001b[39m(\n",
       "                              \u001b[32m86\u001b[39m,\n",
       "                              \u001b[33mICons\u001b[39m(\n",
       "                                \u001b[32m85\u001b[39m,\n",
       "                                \u001b[33mICons\u001b[39m(\n",
       "                                  \u001b[32m84\u001b[39m,\n",
       "                                  \u001b[33mICons\u001b[39m(\n",
       "                                    \u001b[32m83\u001b[39m,\n",
       "                                    \u001b[33mICons\u001b[39m(\n",
       "                                      \u001b[32m82\u001b[39m,\n",
       "                                      \u001b[33mICons\u001b[39m(\n",
       "..."
      ]
     },
     "execution_count": 5,
     "metadata": {},
     "output_type": "execute_result"
    }
   ],
   "source": [
    "def gen(n: Int) : IList =\n",
    "    if (n <= 0) INil()\n",
    "    else ICons(n, gen(n-1))\n",
    "gen(100)"
   ]
  },
  {
   "cell_type": "markdown",
   "metadata": {},
   "source": [
    "***Why not usually supports Union type?***\n",
    "* Heterogenous type is easy to **create** but hard to **use**."
   ]
  },
  {
   "cell_type": "code",
   "execution_count": 8,
   "metadata": {},
   "outputs": [
    {
     "data": {
      "text/plain": [
       "defined \u001b[32mclass\u001b[39m \u001b[36mIOption\u001b[39m\n",
       "defined \u001b[32mclass\u001b[39m \u001b[36mINone\u001b[39m\n",
       "defined \u001b[32mclass\u001b[39m \u001b[36mISome\u001b[39m\n",
       "\u001b[36mx\u001b[39m: \u001b[32mINone\u001b[39m = INone()\n",
       "\u001b[36my\u001b[39m: \u001b[32mISome\u001b[39m = \u001b[33mISome\u001b[39m(\u001b[32m10\u001b[39m)"
      ]
     },
     "execution_count": 8,
     "metadata": {},
     "output_type": "execute_result"
    }
   ],
   "source": [
    "sealed abstract class IOption\n",
    "case class INone() extends IOption\n",
    "case class ISome(some: Int) extends IOption\n",
    "\n",
    "val x = INone()\n",
    "val y = ISome(10)"
   ]
  },
  {
   "cell_type": "code",
   "execution_count": 7,
   "metadata": {},
   "outputs": [
    {
     "data": {
      "text/plain": [
       "defined \u001b[32mclass\u001b[39m \u001b[36mBTree\u001b[39m\n",
       "defined \u001b[32mclass\u001b[39m \u001b[36mLeaf\u001b[39m\n",
       "defined \u001b[32mclass\u001b[39m \u001b[36mNode\u001b[39m\n",
       "\u001b[36mt\u001b[39m: \u001b[32mNode\u001b[39m = \u001b[33mNode\u001b[39m(\n",
       "  \u001b[32m3\u001b[39m,\n",
       "  \u001b[33mNode\u001b[39m(\u001b[32m1\u001b[39m, Leaf(), Leaf()),\n",
       "  \u001b[33mNode\u001b[39m(\u001b[32m2\u001b[39m, Leaf(), \u001b[33mNode\u001b[39m(\u001b[32m4\u001b[39m, Leaf(), Leaf()))\n",
       ")"
      ]
     },
     "execution_count": 7,
     "metadata": {},
     "output_type": "execute_result"
    }
   ],
   "source": [
    "sealed abstract class BTree\n",
    "case class Leaf() extends BTree\n",
    "case class Node(value: Int, left: BTree, right: BTree) extends BTree\n",
    "\n",
    "val t = Node(3, Node(1, Leaf(), Leaf()), Node(2, Leaf(), Node(4, Leaf(), Leaf())))"
   ]
  },
  {
   "cell_type": "markdown",
   "metadata": {},
   "source": [
    "### Pattern Matching\n",
    "* should match return type\n",
    "* name in def cannot be different when pattern matching"
   ]
  },
  {
   "cell_type": "code",
   "execution_count": 19,
   "metadata": {},
   "outputs": [
    {
     "data": {
      "text/plain": [
       "defined \u001b[32mfunction\u001b[39m \u001b[36mlength\u001b[39m\n",
       "\u001b[36mx\u001b[39m: \u001b[32mIList\u001b[39m = \u001b[33mICons\u001b[39m(\u001b[32m2\u001b[39m, \u001b[33mICons\u001b[39m(\u001b[32m1\u001b[39m, INil()))\n",
       "\u001b[36mres18_2\u001b[39m: \u001b[32mInt\u001b[39m = \u001b[32m2\u001b[39m\n",
       "\u001b[36mres18_3\u001b[39m: \u001b[32mInt\u001b[39m = \u001b[32m100\u001b[39m"
      ]
     },
     "execution_count": 19,
     "metadata": {},
     "output_type": "execute_result"
    }
   ],
   "source": [
    "def length(xs: IList) : Int =\n",
    "    xs match {\n",
    "        case INil() => 0\n",
    "        case ICons(x, tl) => 1 + length(tl)\n",
    "    }\n",
    "\n",
    "val x : IList = ICons(2, ICons(1, INil()))\n",
    "length(x)\n",
    "length(gen(100))"
   ]
  },
  {
   "cell_type": "markdown",
   "metadata": {},
   "source": [
    "#### Exhaustive Checking\n",
    "* redundant matching cases, missing coverage"
   ]
  },
  {
   "cell_type": "code",
   "execution_count": 43,
   "metadata": {},
   "outputs": [
    {
     "data": {
      "text/plain": [
       "defined \u001b[32mfunction\u001b[39m \u001b[36mgen\u001b[39m\n",
       "defined \u001b[32mfunction\u001b[39m \u001b[36msecondElmt1\u001b[39m\n",
       "defined \u001b[32mfunction\u001b[39m \u001b[36msecondElmt2\u001b[39m\n",
       "defined \u001b[32mfunction\u001b[39m \u001b[36msecondElmt3\u001b[39m\n",
       "\u001b[36mres42_4\u001b[39m: \u001b[32mIOption\u001b[39m = \u001b[33mISome\u001b[39m(\u001b[32m9\u001b[39m)\n",
       "\u001b[36mres42_5\u001b[39m: \u001b[32mIOption\u001b[39m = \u001b[33mISome\u001b[39m(\u001b[32m1\u001b[39m)\n",
       "\u001b[36mres42_6\u001b[39m: \u001b[32mIOption\u001b[39m = INone()"
      ]
     },
     "execution_count": 43,
     "metadata": {},
     "output_type": "execute_result"
    }
   ],
   "source": [
    "def gen(n: Int) : IList =\n",
    "    if (n <= 0) INil()\n",
    "    else ICons(n, gen(n-1))\n",
    "def secondElmt1(xs: IList) : IOption =\n",
    "    xs match {\n",
    "        case INil() | ICons(_,INil()) => INone()\n",
    "        case ICons(_, ICons(x, _)) => ISome(x)\n",
    "    }\n",
    "def secondElmt2(xs: IList) : IOption =\n",
    "    xs match {\n",
    "        case INil() | ICons(_,INil()) => INone()\n",
    "        case ICons(_, ICons(x, INil())) => ISome(x)\n",
    "        case _ => INone()\n",
    "    }\n",
    "def secondElmt3(xs: IList) : IOption =\n",
    "    xs match {\n",
    "        case ICons(_, ICons(x, INil())) => ISome(x)\n",
    "        case _ => INone()\n",
    "    }\n",
    "\n",
    "secondElmt1(gen(10))\n",
    "secondElmt2(gen(2))\n",
    "secondElmt3(gen(10))"
   ]
  },
  {
   "cell_type": "code",
   "execution_count": 34,
   "metadata": {},
   "outputs": [
    {
     "data": {
      "text/plain": [
       "defined \u001b[32mfunction\u001b[39m \u001b[36mf\u001b[39m\n",
       "\u001b[36mres33_1\u001b[39m: \u001b[32mInt\u001b[39m = \u001b[32m2\u001b[39m"
      ]
     },
     "execution_count": 34,
     "metadata": {},
     "output_type": "execute_result"
    }
   ],
   "source": [
    "def f(n: Int) : Int =\n",
    "    n match {\n",
    "        case 0 | 1 => 1\n",
    "        case _ if (n <= 5) => 2\n",
    "        case _ => 3\n",
    "    }\n",
    "f(5)"
   ]
  },
  {
   "cell_type": "code",
   "execution_count": 31,
   "metadata": {},
   "outputs": [
    {
     "data": {
      "text/plain": [
       "defined \u001b[32mfunction\u001b[39m \u001b[36mf\u001b[39m"
      ]
     },
     "execution_count": 31,
     "metadata": {},
     "output_type": "execute_result"
    }
   ],
   "source": [
    "def f(t: BTree) : Int =\n",
    "    t match {\n",
    "        case Leaf() => 0\n",
    "        case Node(n,_,_) if (n <= 10) => 1\n",
    "        case Node(_,_,_) => 2\n",
    "    }"
   ]
  },
  {
   "cell_type": "code",
   "execution_count": 49,
   "metadata": {},
   "outputs": [
    {
     "data": {
      "text/plain": [
       "defined \u001b[32mfunction\u001b[39m \u001b[36mfind\u001b[39m"
      ]
     },
     "execution_count": 49,
     "metadata": {},
     "output_type": "execute_result"
    }
   ],
   "source": [
    "def find(t: BTree, i: Int) : Boolean =\n",
    "    t match {\n",
    "        case Leaf() => false\n",
    "        case Node(n,lt,rt) =>\n",
    "            if (i == n) true\n",
    "            else find(lt, i) || find(rt, i)\n",
    "    }"
   ]
  },
  {
   "cell_type": "code",
   "execution_count": 51,
   "metadata": {},
   "outputs": [
    {
     "data": {
      "text/plain": [
       "defined \u001b[32mfunction\u001b[39m \u001b[36mfind\u001b[39m"
      ]
     },
     "execution_count": 51,
     "metadata": {},
     "output_type": "execute_result"
    }
   ],
   "source": [
    "def find(t: BTree, i: Int) : Boolean =\n",
    "    t match {\n",
    "        case Leaf() => false\n",
    "        case Node(n,_,_) if n == i => true\n",
    "        case Node(_, lt, rt) => find(lt, i) || find(rt, i)\n",
    "    }"
   ]
  },
  {
   "cell_type": "code",
   "execution_count": 50,
   "metadata": {},
   "outputs": [
    {
     "data": {
      "text/plain": [
       "defined \u001b[32mfunction\u001b[39m \u001b[36mt\u001b[39m\n",
       "\u001b[36mres49_1\u001b[39m: \u001b[32mBoolean\u001b[39m = true\n",
       "\u001b[36mres49_2\u001b[39m: \u001b[32mBoolean\u001b[39m = false"
      ]
     },
     "execution_count": 50,
     "metadata": {},
     "output_type": "execute_result"
    }
   ],
   "source": [
    "def t: BTree = Node(5,Node(4,Node(2,Leaf(),Leaf()),Leaf()),\n",
    "Node(7,Node(6,Leaf(),Leaf()),Leaf()))\n",
    "find(t,7)\n",
    "find(t,1)"
   ]
  }
 ],
 "metadata": {
  "kernelspec": {
   "display_name": "Scala",
   "language": "scala",
   "name": "scala"
  },
  "language_info": {
   "codemirror_mode": "text/x-scala",
   "file_extension": ".sc",
   "mimetype": "text/x-scala",
   "name": "scala",
   "nbconvert_exporter": "script",
   "version": "2.13.3"
  }
 },
 "nbformat": 4,
 "nbformat_minor": 4
}
